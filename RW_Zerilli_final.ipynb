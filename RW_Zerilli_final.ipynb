{
 "cells": [
  {
   "cell_type": "markdown",
   "id": "94349dcb-42a9-43a0-a565-3f56402b3725",
   "metadata": {},
   "source": [
    "# Regge-Wheeler and Zerilli equations for the Scharzschild BH"
   ]
  },
  {
   "cell_type": "markdown",
   "id": "1ea7d1b7-6c85-4218-9f0c-00879fd94397",
   "metadata": {},
   "source": [
    "**Reference:** \n",
    "\n",
    "Michele Maggiore, Gravitational Waves, Volume 2, Oxford University Press, 2018"
   ]
  },
  {
   "cell_type": "code",
   "execution_count": 1,
   "id": "3673896b-3c9d-49a0-808f-902391dfd909",
   "metadata": {},
   "outputs": [],
   "source": [
    "# %display latex\n",
    "import time\n",
    "comput_time0 = time.perf_counter()\n",
    "stage = 0\n",
    "total_time = []"
   ]
  },
  {
   "cell_type": "markdown",
   "id": "250e707c-b17a-47b7-b429-afe81dacce0f",
   "metadata": {},
   "source": [
    "## Basic setup"
   ]
  },
  {
   "cell_type": "code",
   "execution_count": 2,
   "id": "845a4ae8-ac9c-49db-88da-59e41b7bf078",
   "metadata": {},
   "outputs": [
    {
     "data": {
      "text/html": [
       "<html>\\(\\displaystyle η = -\\mathrm{d} t\\otimes \\mathrm{d} t+\\mathrm{d} r\\otimes \\mathrm{d} r + r^{2} \\mathrm{d} θ\\otimes \\mathrm{d} θ + r^{2} \\sin\\left(θ\\right)^{2} \\mathrm{d} ϕ\\otimes \\mathrm{d} ϕ\\)</html>"
      ],
      "text/latex": [
       "$\\displaystyle η = -\\mathrm{d} t\\otimes \\mathrm{d} t+\\mathrm{d} r\\otimes \\mathrm{d} r + r^{2} \\mathrm{d} θ\\otimes \\mathrm{d} θ + r^{2} \\sin\\left(θ\\right)^{2} \\mathrm{d} ϕ\\otimes \\mathrm{d} ϕ$"
      ],
      "text/plain": [
       "η = -dt⊗dt + dr⊗dr + r^2 dθ⊗dθ + r^2*sin(θ)^2 dϕ⊗dϕ"
      ]
     },
     "metadata": {},
     "output_type": "display_data"
    },
    {
     "data": {
      "text/html": [
       "<html>\\(\\displaystyle g = \\left( \\frac{2 \\, M}{r} - 1 \\right) \\mathrm{d} t\\otimes \\mathrm{d} t + \\left( -\\frac{1}{\\frac{2 \\, M}{r} - 1} \\right) \\mathrm{d} r\\otimes \\mathrm{d} r + r^{2} \\mathrm{d} θ\\otimes \\mathrm{d} θ + r^{2} \\sin\\left(θ\\right)^{2} \\mathrm{d} ϕ\\otimes \\mathrm{d} ϕ\\)</html>"
      ],
      "text/latex": [
       "$\\displaystyle g = \\left( \\frac{2 \\, M}{r} - 1 \\right) \\mathrm{d} t\\otimes \\mathrm{d} t + \\left( -\\frac{1}{\\frac{2 \\, M}{r} - 1} \\right) \\mathrm{d} r\\otimes \\mathrm{d} r + r^{2} \\mathrm{d} θ\\otimes \\mathrm{d} θ + r^{2} \\sin\\left(θ\\right)^{2} \\mathrm{d} ϕ\\otimes \\mathrm{d} ϕ$"
      ],
      "text/plain": [
       "g = (2*M/r - 1) dt⊗dt - 1/(2*M/r - 1) dr⊗dr + r^2 dθ⊗dθ + r^2*sin(θ)^2 dϕ⊗dϕ"
      ]
     },
     "metadata": {},
     "output_type": "display_data"
    }
   ],
   "source": [
    "var('l m M')\n",
    "cl = var('cl',latex_name=r'l(l+1)')\n",
    "sep_const = {cl:l*(l+1)}\n",
    "RW = Manifold(4,'RW',structure='Lorentzian')\n",
    "Ch.<t,r,θ,ϕ> = RW.chart()\n",
    "RW.set_simplify_function(lambda q: q)\n",
    "g = RW.metric('g')\n",
    "f = function('f')(r)\n",
    "# B = function('B')(r)\n",
    "f = 1-2*M/r\n",
    "# α,ll = var('α ℓ')\n",
    "# f = 1 - 2*(M + α*ll/2)/r + α*exp(-r/M)\n",
    "B = 1/f\n",
    "g[:] = matrix.diagonal([-f,B,r^2,(r*sin(θ))^2])\n",
    "nabla = g.connection()\n",
    "η = RW.metric('η')\n",
    "η[:] = matrix.diagonal([-1,1,r^2,(r*sin(θ))^2])\n",
    "show(η.display())\n",
    "show(g.display())"
   ]
  },
  {
   "cell_type": "code",
   "execution_count": 3,
   "id": "6fe646a4-0e51-44fc-8567-447daf3f998e",
   "metadata": {},
   "outputs": [],
   "source": [
    "from sage.manifolds.utilities import ExpressionNice as EN\n",
    "def disp(ex):\n",
    "    \"\"\"\n",
    "    Display symbolic expressions using the sagemanifolds textbook\n",
    "    displaying style.\n",
    "    \"\"\"\n",
    "    return show(EN(ex))"
   ]
  },
  {
   "cell_type": "code",
   "execution_count": 4,
   "id": "8f1f4a09-ca9c-49a5-9ed8-eb9c0acb2288",
   "metadata": {},
   "outputs": [],
   "source": [
    "def count_time(t0,t1):\n",
    "    return time.strftime(\"%H:%M:%S\",time.gmtime(t1 - t0))\n",
    "\n",
    "def stage_time():\n",
    "    \"\"\"\n",
    "    Calculate and show the total time of the session. Add +1 to the \n",
    "    stage session counter at each call.\n",
    "    \"\"\"\n",
    "    global stage\n",
    "    total_time.append(count_time(comput_time0,time.perf_counter()))\n",
    "    print(f\"Total time elapsed until the end of stage {stage}: {total_time[stage]}\")\n",
    "    stage += 1"
   ]
  },
  {
   "cell_type": "code",
   "execution_count": 5,
   "id": "239a6253-d998-44ee-838e-8b686ce9d129",
   "metadata": {},
   "outputs": [],
   "source": [
    "def to_table(dictionary, horizontal=False):\n",
    "    \"\"\"\n",
    "    Display a dictionary as a table, with keys on the first column\n",
    "    and values on the second.\n",
    "    \"\"\"\n",
    "    keys, values = dictionary.keys(), dictionary.values()\n",
    "    if horizontal:\n",
    "        return table([list(keys), list(values)], header_row=True)\n",
    "    else:\n",
    "        return table(list(zip(keys,values)),header_column=True, align='left')"
   ]
  },
  {
   "cell_type": "code",
   "execution_count": 6,
   "id": "cb73b18f-9c80-47ef-b467-252d37c7ab6e",
   "metadata": {},
   "outputs": [],
   "source": [
    "def mycollect(e1, e2):\n",
    "    \"\"\"\n",
    "    Collects e2 coefficients in e1, even when e2 is not a factor of\n",
    "    some of the terms of e1\n",
    "    \"\"\"\n",
    "    g = maxima_calculus.gensym()._sage_()\n",
    "    while g in e1.variables(): g = maxima_calculus.gensym()._sage_()\n",
    "    return sum([v[0]*g^v[1]\n",
    "                for v in e1.subs(e2==g).coefficients(g)]).subs(g==e2)"
   ]
  },
  {
   "cell_type": "markdown",
   "id": "29f1d47e-7ae3-4465-9ae3-f01a2e18f598",
   "metadata": {},
   "source": [
    "### Spherical harmonics"
   ]
  },
  {
   "cell_type": "code",
   "execution_count": 7,
   "id": "9ee1d715-a5a7-4fc2-b9fc-b70ec0cf1f50",
   "metadata": {},
   "outputs": [
    {
     "data": {
      "text/html": [
       "<div class=\"notruncate\">\n",
       "<table  class=\"table_form\">\n",
       "<tbody>\n",
       "<tr class =\"row-a\">\n",
       "<td class=\"ch\"{style_attr}>\\(X_l^m\\left(θ, ϕ\\right)\\)</td>\n",
       "<td style=\"text-align:left\">\\(-2 \\, \\cot\\left(θ\\right) \\frac{\\partial}{\\partial ϕ}Y_l^m\\left(θ, ϕ\\right) + 2 \\, \\frac{\\partial^{2}}{\\partial θ\\partial ϕ}Y_l^m\\left(θ, ϕ\\right)\\)</td>\n",
       "</tr>\n",
       "<tr class =\"row-b\">\n",
       "<td class=\"ch\"{style_attr}>\\(W_l^m\\left(θ, ϕ\\right)\\)</td>\n",
       "<td style=\"text-align:left\">\\(-\\cot\\left(θ\\right) \\frac{\\partial}{\\partial θ}Y_l^m\\left(θ, ϕ\\right) - \\frac{\\frac{\\partial^{2}}{(\\partial ϕ)^{2}}Y_l^m\\left(θ, ϕ\\right)}{\\sin\\left(θ\\right)^{2}} + \\frac{\\partial^{2}}{(\\partial θ)^{2}}Y_l^m\\left(θ, ϕ\\right)\\)</td>\n",
       "</tr>\n",
       "</tbody>\n",
       "</table>\n",
       "</div>"
      ],
      "text/plain": [
       "  X(θ, ϕ) | -2*cot(θ)*diff(Y(θ, ϕ), ϕ) + 2*diff(Y(θ, ϕ), θ, ϕ)\n",
       "  W(θ, ϕ) | -cot(θ)*diff(Y(θ, ϕ), θ) - diff(Y(θ, ϕ), ϕ, ϕ)/sin(θ)^2 + diff(Y(θ, ϕ), θ, θ)"
      ]
     },
     "execution_count": 7,
     "metadata": {},
     "output_type": "execute_result"
    }
   ],
   "source": [
    "Y = function('Y', latex_name=r'Y_l^m')(θ,ϕ)\n",
    "X = function('X', latex_name=r'X_l^m')(θ,ϕ)\n",
    "W = function('W', latex_name=r'W_l^m')(θ,ϕ)\n",
    "sph = spherical_harmonic(l,m,θ,ϕ)\n",
    "from_XW = {X:2*diff(Y,θ,ϕ) - 2*cot(θ)*diff(Y,ϕ), \n",
    "         W:diff(Y,θ,2) - cot(θ)*diff(Y,θ) - (1/sin(θ))^2*diff(Y,ϕ,2)\n",
    "          }\n",
    "to_sph = {Y:sph, \n",
    "          X:2*diff(sph,θ,ϕ) - 2*cot(θ)*diff(sph,ϕ), \n",
    "          W:diff(sph,θ,2) - cot(θ)*diff(sph,θ) - (1/sin(θ))^2*diff(sph,ϕ,2)\n",
    "         }\n",
    "to_table(from_XW)"
   ]
  },
  {
   "cell_type": "code",
   "execution_count": 8,
   "id": "11b30154-ceb3-4f7f-a8f0-a60e16fcae96",
   "metadata": {},
   "outputs": [
    {
     "name": "stdout",
     "output_type": "stream",
     "text": [
      "-2 \\, \\cot\\left(θ\\right) \\frac{\\partial}{\\partial ϕ}Y_l^m\\left(θ, ϕ\\right) + 2 \\, \\frac{\\partial^{2}}{\\partial θ\\partial ϕ}Y_l^m\\left(θ, ϕ\\right)\n",
      "-\\cot\\left(θ\\right) \\frac{\\partial}{\\partial θ}Y_l^m\\left(θ, ϕ\\right) - \\frac{\\frac{\\partial^{2}}{(\\partial ϕ)^{2}}Y_l^m\\left(θ, ϕ\\right)}{\\sin\\left(θ\\right)^{2}} + \\frac{\\partial^{2}}{(\\partial θ)^{2}}Y_l^m\\left(θ, ϕ\\right)\n"
     ]
    }
   ],
   "source": [
    "for q in from_XW:\n",
    "    print(latex((from_XW[q])))"
   ]
  },
  {
   "cell_type": "code",
   "execution_count": 9,
   "id": "026b7d9d-9612-40d6-95c6-b8e46b231009",
   "metadata": {},
   "outputs": [
    {
     "data": {
      "text/html": [
       "<div class=\"notruncate\">\n",
       "<table  class=\"table_form\">\n",
       "<tbody>\n",
       "<tr class =\"row-a\">\n",
       "<td class=\"ch\"{style_attr}>\\(\\frac{\\partial^{2}}{\\partial θ\\partial ϕ}Y_l^m\\left(θ, ϕ\\right)\\)</td>\n",
       "<td style=\"text-align:left\">\\(\\cot\\left(θ\\right) \\frac{\\partial}{\\partial ϕ}Y_l^m\\left(θ, ϕ\\right) + \\frac{1}{2} \\, X_l^m\\left(θ, ϕ\\right)\\)</td>\n",
       "</tr>\n",
       "<tr class =\"row-b\">\n",
       "<td class=\"ch\"{style_attr}>\\(\\frac{\\partial^{2}}{(\\partial θ)^{2}}Y_l^m\\left(θ, ϕ\\right)\\)</td>\n",
       "<td style=\"text-align:left\">\\(\\frac{\\cot\\left(θ\\right) \\sin\\left(θ\\right)^{2} \\frac{\\partial}{\\partial θ}Y_l^m\\left(θ, ϕ\\right) + W_l^m\\left(θ, ϕ\\right) \\sin\\left(θ\\right)^{2} + \\frac{\\partial^{2}}{(\\partial ϕ)^{2}}Y_l^m\\left(θ, ϕ\\right)}{\\sin\\left(θ\\right)^{2}}\\)</td>\n",
       "</tr>\n",
       "</tbody>\n",
       "</table>\n",
       "</div>"
      ],
      "text/plain": [
       "  diff(Y(θ, ϕ), θ, ϕ) | cot(θ)*diff(Y(θ, ϕ), ϕ) + 1/2*X(θ, ϕ)\n",
       "  diff(Y(θ, ϕ), θ, θ) | (cot(θ)*sin(θ)^2*diff(Y(θ, ϕ), θ) + W(θ, ϕ)*sin(θ)^2 + diff(Y(θ, ϕ), ϕ, ϕ))/sin(θ)^2"
      ]
     },
     "execution_count": 9,
     "metadata": {},
     "output_type": "execute_result"
    }
   ],
   "source": [
    "to_XW = solve(X == from_XW[X],diff(Y,θ,ϕ),solution_dict=True)[0]\n",
    "to_XW.update(solve(W == from_XW[W],diff(Y,θ,2),solution_dict=True)[0])\n",
    "to_table(to_XW)"
   ]
  },
  {
   "cell_type": "code",
   "execution_count": 10,
   "id": "7a81a4e0-03b9-4edd-9962-112f479f10b5",
   "metadata": {},
   "outputs": [
    {
     "data": {
      "text/html": [
       "<div class=\"notruncate\">\n",
       "<table  class=\"table_form\">\n",
       "<tbody>\n",
       "<tr class =\"row-a\">\n",
       "<td class=\"ch\"{style_attr}>\\(Y_l^m\\left(θ, ϕ\\right)\\)</td>\n",
       "<td style=\"text-align:left\">\\(Y_{l}^{m}\\left(θ, ϕ\\right)\\)</td>\n",
       "</tr>\n",
       "<tr class =\"row-b\">\n",
       "<td class=\"ch\"{style_attr}>\\(X_l^m\\left(θ, ϕ\\right)\\)</td>\n",
       "<td style=\"text-align:left\">\\(2 i \\, m^{2} \\cot\\left(θ\\right) Y_{l}^{m}\\left(θ, ϕ\\right) + 2 \\, \\sqrt{{\\left(l + m + 1\\right)} {\\left(l - m\\right)}} {\\left(i \\, m + i\\right)} e^{\\left(-i \\, ϕ\\right)} Y_{l}^{m + 1}\\left(θ, ϕ\\right) - 2 i \\, m \\cot\\left(θ\\right) Y_{l}^{m}\\left(θ, ϕ\\right) - 2 i \\, \\sqrt{{\\left(l + m + 1\\right)} {\\left(l - m\\right)}} e^{\\left(-i \\, ϕ\\right)} Y_{l}^{m + 1}\\left(θ, ϕ\\right)\\)</td>\n",
       "</tr>\n",
       "<tr class =\"row-a\">\n",
       "<td class=\"ch\"{style_attr}>\\(W_l^m\\left(θ, ϕ\\right)\\)</td>\n",
       "<td style=\"text-align:left\">\\({\\left(m \\cot\\left(θ\\right) Y_{l}^{m}\\left(θ, ϕ\\right) + \\sqrt{{\\left(l + m + 1\\right)} {\\left(l - m\\right)}} e^{\\left(-i \\, ϕ\\right)} Y_{l}^{m + 1}\\left(θ, ϕ\\right)\\right)} m \\cot\\left(θ\\right) - {\\left(\\cot\\left(θ\\right)^{2} + 1\\right)} m Y_{l}^{m}\\left(θ, ϕ\\right) + {\\left({\\left(m + 1\\right)} \\cot\\left(θ\\right) Y_{l}^{m + 1}\\left(θ, ϕ\\right) + \\sqrt{{\\left(l + m + 2\\right)} {\\left(l - m - 1\\right)}} e^{\\left(-i \\, ϕ\\right)} Y_{l}^{m + 2}\\left(θ, ϕ\\right)\\right)} \\sqrt{{\\left(l + m + 1\\right)} {\\left(l - m\\right)}} e^{\\left(-i \\, ϕ\\right)} - {\\left(m \\cot\\left(θ\\right) Y_{l}^{m}\\left(θ, ϕ\\right) + \\sqrt{{\\left(l + m + 1\\right)} {\\left(l - m\\right)}} e^{\\left(-i \\, ϕ\\right)} Y_{l}^{m + 1}\\left(θ, ϕ\\right)\\right)} \\cot\\left(θ\\right) + \\frac{m^{2} Y_{l}^{m}\\left(θ, ϕ\\right)}{\\sin\\left(θ\\right)^{2}}\\)</td>\n",
       "</tr>\n",
       "</tbody>\n",
       "</table>\n",
       "</div>"
      ],
      "text/plain": [
       "  Y(θ, ϕ) | spherical_harmonic(l, m, θ, ϕ)\n",
       "  X(θ, ϕ) | 2*I*m^2*cot(θ)*spherical_harmonic(l, m, θ, ϕ) + 2*sqrt((l + m + 1)*(l - m))*(I*m + I)*e^(-I*ϕ)*spherical_harmonic(l, m + 1, θ, ϕ) - 2*I*m*cot(θ)*spherical_harmonic(l, m, θ, ϕ) - 2*I*sqrt((l + m + 1)*(l - m))*e^(-I*ϕ)*spherical_harmonic(l, m + 1, θ, ϕ)\n",
       "  W(θ, ϕ) | (m*cot(θ)*spherical_harmonic(l, m, θ, ϕ) + sqrt((l + m + 1)*(l - m))*e^(-I*ϕ)*spherical_harmonic(l, m + 1, θ, ϕ))*m*cot(θ) - (cot(θ)^2 + 1)*m*spherical_harmonic(l, m, θ, ϕ) + ((m + 1)*cot(θ)*spherical_harmonic(l, m + 1, θ, ϕ) + sqrt((l + m + 2)*(l - m - 1))*e^(-I*ϕ)*spherical_harmonic(l, m + 2, θ, ϕ))*sqrt((l + m + 1)*(l - m))*e^(-I*ϕ) - (m*cot(θ)*spherical_harmonic(l, m, θ, ϕ) + sqrt((l + m + 1)*(l - m))*e^(-I*ϕ)*spherical_harmonic(l, m + 1, θ, ϕ))*cot(θ) + m^2*spherical_harmonic(l, m, θ, ϕ)/sin(θ)^2"
      ]
     },
     "execution_count": 10,
     "metadata": {},
     "output_type": "execute_result"
    }
   ],
   "source": [
    "to_table(to_sph)"
   ]
  },
  {
   "cell_type": "markdown",
   "id": "b86c4b20-0295-401b-b006-d516a809f817",
   "metadata": {},
   "source": [
    "### Laplace equation"
   ]
  },
  {
   "cell_type": "code",
   "execution_count": 11,
   "id": "b160ec72-026b-4bf6-bd47-4a2ffe08e504",
   "metadata": {},
   "outputs": [
    {
     "data": {
      "text/html": [
       "<div class=\"notruncate\">\n",
       "<table  class=\"table_form\">\n",
       "<tbody>\n",
       "<tr class =\"row-a\">\n",
       "<td class=\"ch\"{style_attr}>\\(\\frac{\\partial^{2}}{(\\partial θ)^{2}}Y_l^m\\left(θ, ϕ\\right)\\)</td>\n",
       "<td style=\"text-align:left\">\\(-\\frac{\\cos\\left(θ\\right) \\sin\\left(θ\\right) \\frac{\\partial}{\\partial θ}Y_l^m\\left(θ, ϕ\\right) + {\\left({l(l+1)} \\sin\\left(θ\\right)^{2} - m^{2}\\right)} Y_l^m\\left(θ, ϕ\\right)}{\\sin\\left(θ\\right)^{2}}\\)</td>\n",
       "</tr>\n",
       "</tbody>\n",
       "</table>\n",
       "</div>"
      ],
      "text/plain": [
       "  diff(Y(θ, ϕ), θ, θ) | -(cos(θ)*sin(θ)*diff(Y(θ, ϕ), θ) + (cl*sin(θ)^2 - m^2)*Y(θ, ϕ))/sin(θ)^2"
      ]
     },
     "execution_count": 11,
     "metadata": {},
     "output_type": "execute_result"
    }
   ],
   "source": [
    "Lap = 1/(Y*sin(θ))*diff(sin(θ)*diff(Y,θ),θ) + -m^2/(Y*sin(θ)^2)*Y==-cl\n",
    "lap_eq = Lap.solve(diff(Y,θ,2),solution_dict=True)[0]\n",
    "to_table(lap_eq)"
   ]
  },
  {
   "cell_type": "markdown",
   "id": "6398d33b-9a31-4f93-982b-ce3f8bac2dd6",
   "metadata": {},
   "source": [
    "## Tensor harmonics"
   ]
  },
  {
   "cell_type": "code",
   "execution_count": 12,
   "id": "ad68e094-c7c9-4919-8db1-a779881a60ea",
   "metadata": {},
   "outputs": [],
   "source": [
    "T = {'L0':matrix.diagonal([0,1,0,0])*Y,\n",
    "     'T0':matrix.diagonal([0,0,1,sin(θ)^2])*Y,\n",
    "     'E1':matrix([[0,0,0,0],[0,0,diff(Y,θ),diff(Y,ϕ)],[0,diff(Y,θ),0,0],[0,diff(Y,ϕ),0,0]]),\n",
    "     'B1':matrix([[0,0,0,0],[0,0,1/sin(θ)*diff(Y,ϕ),-sin(θ)*diff(Y,θ)],[0,1/sin(θ)*diff(Y,ϕ),0,0],[0,-sin(θ)*diff(Y,θ),0,0]]),\n",
    "     'E2':matrix([[0,0,0,0],[0,0,0,0],[0,0,W,X],[0,0,X,-sin(θ)^2*W]]),\n",
    "     'B2':matrix([[0,0,0,0],[0,0,0,0],[0,0,-1/sin(θ)*X,sin(θ)*W],[0,0,sin(θ)*W,sin(θ)*X]]),\n",
    "     'tt':matrix.diagonal([1,0,0,0])*Y,\n",
    "     'Rt':matrix([[0,1,0,0],[1,0,0,0],[0,0,0,0],[0,0,0,0]])*Y,\n",
    "     'Et':matrix([[0,0,diff(Y,θ),diff(Y,ϕ)],[0,0,0,0],[diff(Y,θ),0,0,0],[diff(Y,ϕ),0,0,0]]),\n",
    "     'Bt':matrix([[0,0,1/sin(θ)*diff(Y,ϕ),-sin(θ)*diff(Y,θ)],[0,0,0,0],[1/sin(θ)*diff(Y,ϕ),0,0,0],[-sin(θ)*diff(Y,θ),0,0,0]])\n",
    "    }\n",
    "vector_index = ['Et','Bt','E1','B1']\n",
    "tensor_index = ['E2','B2']\n",
    "scalar_index = ['L0','T0','tt','Rt']\n",
    "# to_table(T)"
   ]
  },
  {
   "cell_type": "code",
   "execution_count": 13,
   "id": "81cad6b0-c691-4512-9e06-0a78301fe638",
   "metadata": {},
   "outputs": [
    {
     "name": "stdout",
     "output_type": "stream",
     "text": [
      "L0 True\n",
      "T0 True\n",
      "tt True\n",
      "Rt True\n"
     ]
    }
   ],
   "source": [
    "for ti in scalar_index: # nonzero for l=0\n",
    "    print(ti,all([T[ti].apply_map(lambda q: q.substitute_function(to_sph))(l=0,m=0).simplify_trig() != 0]))"
   ]
  },
  {
   "cell_type": "code",
   "execution_count": 14,
   "id": "0d23cf8f-5f72-4d48-8f16-6aab83d405b5",
   "metadata": {},
   "outputs": [
    {
     "name": "stdout",
     "output_type": "stream",
     "text": [
      "Et True\n",
      "Bt True\n",
      "E1 True\n",
      "B1 True\n"
     ]
    }
   ],
   "source": [
    "for ti in vector_index: # vanishes for l<1\n",
    "    print(ti,all([T[ti].apply_map(lambda q: q.substitute_function(to_sph))(l=0,m=0).simplify_trig() == 0]))"
   ]
  },
  {
   "cell_type": "code",
   "execution_count": 15,
   "id": "96df8b0a-6f87-4b2d-bf56-538fa246dcd2",
   "metadata": {},
   "outputs": [
    {
     "name": "stdout",
     "output_type": "stream",
     "text": [
      "E2 True\n",
      "B2 True\n"
     ]
    }
   ],
   "source": [
    "for ti in tensor_index: # vanishes for l<2\n",
    "    print(ti,all([T[ti].apply_map(lambda q: q.substitute_function(to_sph))(l=1,m=k).simplify_trig() == 0 for k in [-1,0,1]]))"
   ]
  },
  {
   "cell_type": "code",
   "execution_count": 16,
   "id": "af69cac0-9072-46a4-91b9-7b68e7aa4e44",
   "metadata": {},
   "outputs": [
    {
     "name": "stdout",
     "output_type": "stream",
     "text": [
      "Tensor field Bt of type (0,2) on the 4-dimensional Lorentzian manifold RW\n"
     ]
    },
    {
     "data": {
      "text/html": [
       "<html>\\(\\displaystyle \\begin{array}{lcl} (T^{Bt})_{ \\, t \\, θ }^{ \\phantom{\\, t}\\phantom{\\, θ} } & = & \\frac{\\frac{\\partial\\,Y_l^m}{\\partial ϕ}}{\\sin\\left(θ\\right)} \\\\ (T^{Bt})_{ \\, t \\, ϕ }^{ \\phantom{\\, t}\\phantom{\\, ϕ} } & = & -\\sin\\left(θ\\right) \\frac{\\partial\\,Y_l^m}{\\partial θ} \\\\ (T^{Bt})_{ \\, θ \\, t }^{ \\phantom{\\, θ}\\phantom{\\, t} } & = & \\frac{\\frac{\\partial\\,Y_l^m}{\\partial ϕ}}{\\sin\\left(θ\\right)} \\\\ (T^{Bt})_{ \\, ϕ \\, t }^{ \\phantom{\\, ϕ}\\phantom{\\, t} } & = & -\\sin\\left(θ\\right) \\frac{\\partial\\,Y_l^m}{\\partial θ} \\end{array}\\)</html>"
      ],
      "text/latex": [
       "$\\displaystyle \\begin{array}{lcl} (T^{Bt})_{ \\, t \\, θ }^{ \\phantom{\\, t}\\phantom{\\, θ} } & = & \\frac{\\frac{\\partial\\,Y_l^m}{\\partial ϕ}}{\\sin\\left(θ\\right)} \\\\ (T^{Bt})_{ \\, t \\, ϕ }^{ \\phantom{\\, t}\\phantom{\\, ϕ} } & = & -\\sin\\left(θ\\right) \\frac{\\partial\\,Y_l^m}{\\partial θ} \\\\ (T^{Bt})_{ \\, θ \\, t }^{ \\phantom{\\, θ}\\phantom{\\, t} } & = & \\frac{\\frac{\\partial\\,Y_l^m}{\\partial ϕ}}{\\sin\\left(θ\\right)} \\\\ (T^{Bt})_{ \\, ϕ \\, t }^{ \\phantom{\\, ϕ}\\phantom{\\, t} } & = & -\\sin\\left(θ\\right) \\frac{\\partial\\,Y_l^m}{\\partial θ} \\end{array}$"
      ],
      "text/plain": [
       "Bt_tθ = d(Y)/dϕ/sin(θ) \n",
       "Bt_tϕ = -sin(θ)*d(Y)/dθ \n",
       "Bt_θt = d(Y)/dϕ/sin(θ) \n",
       "Bt_ϕt = -sin(θ)*d(Y)/dθ "
      ]
     },
     "metadata": {},
     "output_type": "display_data"
    }
   ],
   "source": [
    "TH = {q:RW.tensor_field(0,2,T[q], name=q,latex_name='(T^{'+q+'})') for q in T}\n",
    "print(TH['Bt'])\n",
    "show(TH['Bt'].display_comp())"
   ]
  },
  {
   "cell_type": "code",
   "execution_count": 17,
   "id": "39c4f5d0-e4d1-45b9-b9b7-35f5e082a56c",
   "metadata": {},
   "outputs": [],
   "source": [
    "# ((TH['Bt'].up(η)*TH['Bt'])['^ab_ab'].expr().substitute_function(to_sph)*sin(θ)).integral(θ,algorithm='fricas').integral(ϕ,algorithm='fricas')"
   ]
  },
  {
   "cell_type": "code",
   "execution_count": 18,
   "id": "fb5ae9e0-d936-41a4-a0de-291e5acba1b8",
   "metadata": {},
   "outputs": [],
   "source": [
    "# for ti in scalar_index:\n",
    "#     for tj in scalar_index:\n",
    "#         integral()"
   ]
  },
  {
   "cell_type": "code",
   "execution_count": 19,
   "id": "3cc42459-497f-4ac3-ba63-4a868c34d74d",
   "metadata": {},
   "outputs": [
    {
     "data": {
      "text/html": [
       "<div class=\"notruncate\">\n",
       "<table  class=\"table_form\">\n",
       "<tbody>\n",
       "<tr class =\"row-a\">\n",
       "<td class=\"ch\"{style_attr}>L0</td>\n",
       "<td style=\"text-align:left\">\\(\\left(\\begin{array}{rrrr}\n",
       "0 & 0 & 0 & 0 \\\\\n",
       "0 & Y_l^m\\left(θ, ϕ\\right) \\textit{h}_{lm}^{L0}\\left(t, r\\right) & 0 & 0 \\\\\n",
       "0 & 0 & 0 & 0 \\\\\n",
       "0 & 0 & 0 & 0\n",
       "\\end{array}\\right)\\)</td>\n",
       "</tr>\n",
       "<tr class =\"row-b\">\n",
       "<td class=\"ch\"{style_attr}>T0</td>\n",
       "<td style=\"text-align:left\">\\(\\left(\\begin{array}{rrrr}\n",
       "0 & 0 & 0 & 0 \\\\\n",
       "0 & 0 & 0 & 0 \\\\\n",
       "0 & 0 & Y_l^m\\left(θ, ϕ\\right) \\textit{h}_{lm}^{T0}\\left(t, r\\right) & 0 \\\\\n",
       "0 & 0 & 0 & Y_l^m\\left(θ, ϕ\\right) \\textit{h}_{lm}^{T0}\\left(t, r\\right) \\sin\\left(θ\\right)^{2}\n",
       "\\end{array}\\right)\\)</td>\n",
       "</tr>\n",
       "<tr class =\"row-a\">\n",
       "<td class=\"ch\"{style_attr}>E1</td>\n",
       "<td style=\"text-align:left\">\\(\\left(\\begin{array}{rrrr}\n",
       "0 & 0 & 0 & 0 \\\\\n",
       "0 & 0 & \\textit{h}_{lm}^{E1}\\left(t, r\\right) \\frac{\\partial\\,Y_l^m}{\\partial θ} & \\textit{h}_{lm}^{E1}\\left(t, r\\right) \\frac{\\partial\\,Y_l^m}{\\partial ϕ} \\\\\n",
       "0 & \\textit{h}_{lm}^{E1}\\left(t, r\\right) \\frac{\\partial\\,Y_l^m}{\\partial θ} & 0 & 0 \\\\\n",
       "0 & \\textit{h}_{lm}^{E1}\\left(t, r\\right) \\frac{\\partial\\,Y_l^m}{\\partial ϕ} & 0 & 0\n",
       "\\end{array}\\right)\\)</td>\n",
       "</tr>\n",
       "<tr class =\"row-b\">\n",
       "<td class=\"ch\"{style_attr}>B1</td>\n",
       "<td style=\"text-align:left\">\\(\\left(\\begin{array}{rrrr}\n",
       "0 & 0 & 0 & 0 \\\\\n",
       "0 & 0 & \\frac{\\textit{h}_{lm}^{B1}\\left(t, r\\right) \\frac{\\partial\\,Y_l^m}{\\partial ϕ}}{\\sin\\left(θ\\right)} & -\\textit{h}_{lm}^{B1}\\left(t, r\\right) \\sin\\left(θ\\right) \\frac{\\partial\\,Y_l^m}{\\partial θ} \\\\\n",
       "0 & \\frac{\\textit{h}_{lm}^{B1}\\left(t, r\\right) \\frac{\\partial\\,Y_l^m}{\\partial ϕ}}{\\sin\\left(θ\\right)} & 0 & 0 \\\\\n",
       "0 & -\\textit{h}_{lm}^{B1}\\left(t, r\\right) \\sin\\left(θ\\right) \\frac{\\partial\\,Y_l^m}{\\partial θ} & 0 & 0\n",
       "\\end{array}\\right)\\)</td>\n",
       "</tr>\n",
       "<tr class =\"row-a\">\n",
       "<td class=\"ch\"{style_attr}>E2</td>\n",
       "<td style=\"text-align:left\">\\(\\left(\\begin{array}{rrrr}\n",
       "0 & 0 & 0 & 0 \\\\\n",
       "0 & 0 & 0 & 0 \\\\\n",
       "0 & 0 & W_l^m\\left(θ, ϕ\\right) \\textit{h}_{lm}^{E2}\\left(t, r\\right) & X_l^m\\left(θ, ϕ\\right) \\textit{h}_{lm}^{E2}\\left(t, r\\right) \\\\\n",
       "0 & 0 & X_l^m\\left(θ, ϕ\\right) \\textit{h}_{lm}^{E2}\\left(t, r\\right) & -W_l^m\\left(θ, ϕ\\right) \\textit{h}_{lm}^{E2}\\left(t, r\\right) \\sin\\left(θ\\right)^{2}\n",
       "\\end{array}\\right)\\)</td>\n",
       "</tr>\n",
       "<tr class =\"row-b\">\n",
       "<td class=\"ch\"{style_attr}>B2</td>\n",
       "<td style=\"text-align:left\">\\(\\left(\\begin{array}{rrrr}\n",
       "0 & 0 & 0 & 0 \\\\\n",
       "0 & 0 & 0 & 0 \\\\\n",
       "0 & 0 & -\\frac{X_l^m\\left(θ, ϕ\\right) \\textit{h}_{lm}^{B2}\\left(t, r\\right)}{\\sin\\left(θ\\right)} & W_l^m\\left(θ, ϕ\\right) \\textit{h}_{lm}^{B2}\\left(t, r\\right) \\sin\\left(θ\\right) \\\\\n",
       "0 & 0 & W_l^m\\left(θ, ϕ\\right) \\textit{h}_{lm}^{B2}\\left(t, r\\right) \\sin\\left(θ\\right) & X_l^m\\left(θ, ϕ\\right) \\textit{h}_{lm}^{B2}\\left(t, r\\right) \\sin\\left(θ\\right)\n",
       "\\end{array}\\right)\\)</td>\n",
       "</tr>\n",
       "<tr class =\"row-a\">\n",
       "<td class=\"ch\"{style_attr}>tt</td>\n",
       "<td style=\"text-align:left\">\\(\\left(\\begin{array}{rrrr}\n",
       "Y_l^m\\left(θ, ϕ\\right) \\textit{h}_{lm}^{tt}\\left(t, r\\right) & 0 & 0 & 0 \\\\\n",
       "0 & 0 & 0 & 0 \\\\\n",
       "0 & 0 & 0 & 0 \\\\\n",
       "0 & 0 & 0 & 0\n",
       "\\end{array}\\right)\\)</td>\n",
       "</tr>\n",
       "<tr class =\"row-b\">\n",
       "<td class=\"ch\"{style_attr}>Rt</td>\n",
       "<td style=\"text-align:left\">\\(\\left(\\begin{array}{rrrr}\n",
       "0 & Y_l^m\\left(θ, ϕ\\right) \\textit{h}_{lm}^{Rt}\\left(t, r\\right) & 0 & 0 \\\\\n",
       "Y_l^m\\left(θ, ϕ\\right) \\textit{h}_{lm}^{Rt}\\left(t, r\\right) & 0 & 0 & 0 \\\\\n",
       "0 & 0 & 0 & 0 \\\\\n",
       "0 & 0 & 0 & 0\n",
       "\\end{array}\\right)\\)</td>\n",
       "</tr>\n",
       "<tr class =\"row-a\">\n",
       "<td class=\"ch\"{style_attr}>Et</td>\n",
       "<td style=\"text-align:left\">\\(\\left(\\begin{array}{rrrr}\n",
       "0 & 0 & \\textit{h}_{lm}^{Et}\\left(t, r\\right) \\frac{\\partial\\,Y_l^m}{\\partial θ} & \\textit{h}_{lm}^{Et}\\left(t, r\\right) \\frac{\\partial\\,Y_l^m}{\\partial ϕ} \\\\\n",
       "0 & 0 & 0 & 0 \\\\\n",
       "\\textit{h}_{lm}^{Et}\\left(t, r\\right) \\frac{\\partial\\,Y_l^m}{\\partial θ} & 0 & 0 & 0 \\\\\n",
       "\\textit{h}_{lm}^{Et}\\left(t, r\\right) \\frac{\\partial\\,Y_l^m}{\\partial ϕ} & 0 & 0 & 0\n",
       "\\end{array}\\right)\\)</td>\n",
       "</tr>\n",
       "<tr class =\"row-b\">\n",
       "<td class=\"ch\"{style_attr}>Bt</td>\n",
       "<td style=\"text-align:left\">\\(\\left(\\begin{array}{rrrr}\n",
       "0 & 0 & \\frac{\\textit{h}_{lm}^{Bt}\\left(t, r\\right) \\frac{\\partial\\,Y_l^m}{\\partial ϕ}}{\\sin\\left(θ\\right)} & -\\textit{h}_{lm}^{Bt}\\left(t, r\\right) \\sin\\left(θ\\right) \\frac{\\partial\\,Y_l^m}{\\partial θ} \\\\\n",
       "0 & 0 & 0 & 0 \\\\\n",
       "\\frac{\\textit{h}_{lm}^{Bt}\\left(t, r\\right) \\frac{\\partial\\,Y_l^m}{\\partial ϕ}}{\\sin\\left(θ\\right)} & 0 & 0 & 0 \\\\\n",
       "-\\textit{h}_{lm}^{Bt}\\left(t, r\\right) \\sin\\left(θ\\right) \\frac{\\partial\\,Y_l^m}{\\partial θ} & 0 & 0 & 0\n",
       "\\end{array}\\right)\\)</td>\n",
       "</tr>\n",
       "</tbody>\n",
       "</table>\n",
       "</div>"
      ],
      "text/plain": [
       "  L0 | [                0                 0                 0                 0]\n",
       "[                0 Y(θ, ϕ)*hL0(t, r)                 0                 0]\n",
       "[                0                 0                 0                 0]\n",
       "[                0                 0                 0                 0]\n",
       "  T0 | [                         0                          0                          0                          0]\n",
       "[                         0                          0                          0                          0]\n",
       "[                         0                          0          Y(θ, ϕ)*hT0(t, r)                          0]\n",
       "[                         0                          0                          0 Y(θ, ϕ)*hT0(t, r)*sin(θ)^2]\n",
       "  E1 | [                0                 0                 0                 0]\n",
       "[                0                 0 hE1(t, r)*d(Y)/dθ hE1(t, r)*d(Y)/dϕ]\n",
       "[                0 hE1(t, r)*d(Y)/dθ                 0                 0]\n",
       "[                0 hE1(t, r)*d(Y)/dϕ                 0                 0]\n",
       "  B1 | [                        0                         0                         0                         0]\n",
       "[                        0                         0  hB1(t, r)*d(Y)/dϕ/sin(θ) -hB1(t, r)*sin(θ)*d(Y)/dθ]\n",
       "[                        0  hB1(t, r)*d(Y)/dϕ/sin(θ)                         0                         0]\n",
       "[                        0 -hB1(t, r)*sin(θ)*d(Y)/dθ                         0                         0]\n",
       "  E2 | [                          0                           0                           0                           0]\n",
       "[                          0                           0                           0                           0]\n",
       "[                          0                           0           W(θ, ϕ)*hE2(t, r)           X(θ, ϕ)*hE2(t, r)]\n",
       "[                          0                           0           X(θ, ϕ)*hE2(t, r) -W(θ, ϕ)*hE2(t, r)*sin(θ)^2]\n",
       "  B2 | [                        0                         0                         0                         0]\n",
       "[                        0                         0                         0                         0]\n",
       "[                        0                         0 -X(θ, ϕ)*hB2(t, r)/sin(θ)  W(θ, ϕ)*hB2(t, r)*sin(θ)]\n",
       "[                        0                         0  W(θ, ϕ)*hB2(t, r)*sin(θ)  X(θ, ϕ)*hB2(t, r)*sin(θ)]\n",
       "  tt | [Y(θ, ϕ)*htt(t, r)                 0                 0                 0]\n",
       "[                0                 0                 0                 0]\n",
       "[                0                 0                 0                 0]\n",
       "[                0                 0                 0                 0]\n",
       "  Rt | [                0 Y(θ, ϕ)*hRt(t, r)                 0                 0]\n",
       "[Y(θ, ϕ)*hRt(t, r)                 0                 0                 0]\n",
       "[                0                 0                 0                 0]\n",
       "[                0                 0                 0                 0]\n",
       "  Et | [                0                 0 hEt(t, r)*d(Y)/dθ hEt(t, r)*d(Y)/dϕ]\n",
       "[                0                 0                 0                 0]\n",
       "[hEt(t, r)*d(Y)/dθ                 0                 0                 0]\n",
       "[hEt(t, r)*d(Y)/dϕ                 0                 0                 0]\n",
       "  Bt | [                        0                         0  hBt(t, r)*d(Y)/dϕ/sin(θ) -hBt(t, r)*sin(θ)*d(Y)/dθ]\n",
       "[                        0                         0                         0                         0]\n",
       "[ hBt(t, r)*d(Y)/dϕ/sin(θ)                         0                         0                         0]\n",
       "[-hBt(t, r)*sin(θ)*d(Y)/dθ                         0                         0                         0]"
      ]
     },
     "execution_count": 19,
     "metadata": {},
     "output_type": "execute_result"
    }
   ],
   "source": [
    "hlm = {k:function(r'h'+k,latex_name=r'\\textit{h}_{lm}^{'+k+r'}')(t,r) for k in T}\n",
    "to_table({q:(hlm[q]*TH[q])[:] for q in T})"
   ]
  },
  {
   "cell_type": "code",
   "execution_count": 20,
   "id": "fbc6662f-be22-47c7-bb45-e8e29f636dbf",
   "metadata": {},
   "outputs": [
    {
     "name": "stdout",
     "output_type": "stream",
     "text": [
      "\\left(\\begin{array}{rrrr}\n",
      "0 & 0 & \\textit{h}_{lm}^{Et}\\left(t, r\\right) \\frac{\\partial\\,Y_l^m}{\\partial θ} & \\textit{h}_{lm}^{Et}\\left(t, r\\right) \\frac{\\partial\\,Y_l^m}{\\partial ϕ} \\\\\n",
      "0 & 0 & 0 & 0 \\\\\n",
      "\\textit{h}_{lm}^{Et}\\left(t, r\\right) \\frac{\\partial\\,Y_l^m}{\\partial θ} & 0 & 0 & 0 \\\\\n",
      "\\textit{h}_{lm}^{Et}\\left(t, r\\right) \\frac{\\partial\\,Y_l^m}{\\partial ϕ} & 0 & 0 & 0\n",
      "\\end{array}\\right)\n",
      "\\left(\\begin{array}{rrrr}\n",
      "0 & 0 & \\frac{\\textit{h}_{lm}^{Bt}\\left(t, r\\right) \\frac{\\partial\\,Y_l^m}{\\partial ϕ}}{\\sin\\left(θ\\right)} & -\\textit{h}_{lm}^{Bt}\\left(t, r\\right) \\sin\\left(θ\\right) \\frac{\\partial\\,Y_l^m}{\\partial θ} \\\\\n",
      "0 & 0 & 0 & 0 \\\\\n",
      "\\frac{\\textit{h}_{lm}^{Bt}\\left(t, r\\right) \\frac{\\partial\\,Y_l^m}{\\partial ϕ}}{\\sin\\left(θ\\right)} & 0 & 0 & 0 \\\\\n",
      "-\\textit{h}_{lm}^{Bt}\\left(t, r\\right) \\sin\\left(θ\\right) \\frac{\\partial\\,Y_l^m}{\\partial θ} & 0 & 0 & 0\n",
      "\\end{array}\\right)\n",
      "\\left(\\begin{array}{rrrr}\n",
      "0 & 0 & 0 & 0 \\\\\n",
      "0 & 0 & \\textit{h}_{lm}^{E1}\\left(t, r\\right) \\frac{\\partial\\,Y_l^m}{\\partial θ} & \\textit{h}_{lm}^{E1}\\left(t, r\\right) \\frac{\\partial\\,Y_l^m}{\\partial ϕ} \\\\\n",
      "0 & \\textit{h}_{lm}^{E1}\\left(t, r\\right) \\frac{\\partial\\,Y_l^m}{\\partial θ} & 0 & 0 \\\\\n",
      "0 & \\textit{h}_{lm}^{E1}\\left(t, r\\right) \\frac{\\partial\\,Y_l^m}{\\partial ϕ} & 0 & 0\n",
      "\\end{array}\\right)\n",
      "\\left(\\begin{array}{rrrr}\n",
      "0 & 0 & 0 & 0 \\\\\n",
      "0 & 0 & \\frac{\\textit{h}_{lm}^{B1}\\left(t, r\\right) \\frac{\\partial\\,Y_l^m}{\\partial ϕ}}{\\sin\\left(θ\\right)} & -\\textit{h}_{lm}^{B1}\\left(t, r\\right) \\sin\\left(θ\\right) \\frac{\\partial\\,Y_l^m}{\\partial θ} \\\\\n",
      "0 & \\frac{\\textit{h}_{lm}^{B1}\\left(t, r\\right) \\frac{\\partial\\,Y_l^m}{\\partial ϕ}}{\\sin\\left(θ\\right)} & 0 & 0 \\\\\n",
      "0 & -\\textit{h}_{lm}^{B1}\\left(t, r\\right) \\sin\\left(θ\\right) \\frac{\\partial\\,Y_l^m}{\\partial θ} & 0 & 0\n",
      "\\end{array}\\right)\n"
     ]
    },
    {
     "data": {
      "text/html": [
       "<div class=\"notruncate\">\n",
       "<table  class=\"table_form\">\n",
       "<tbody>\n",
       "<tr class =\"row-a\">\n",
       "<td class=\"ch\"{style_attr}>Et</td>\n",
       "<td style=\"text-align:left\">\\(\\mathrm{None}\\)</td>\n",
       "</tr>\n",
       "<tr class =\"row-b\">\n",
       "<td class=\"ch\"{style_attr}>Bt</td>\n",
       "<td style=\"text-align:left\">\\(\\mathrm{None}\\)</td>\n",
       "</tr>\n",
       "<tr class =\"row-a\">\n",
       "<td class=\"ch\"{style_attr}>E1</td>\n",
       "<td style=\"text-align:left\">\\(\\mathrm{None}\\)</td>\n",
       "</tr>\n",
       "<tr class =\"row-b\">\n",
       "<td class=\"ch\"{style_attr}>B1</td>\n",
       "<td style=\"text-align:left\">\\(\\mathrm{None}\\)</td>\n",
       "</tr>\n",
       "</tbody>\n",
       "</table>\n",
       "</div>"
      ],
      "text/plain": [
       "  Et | None\n",
       "  Bt | None\n",
       "  E1 | None\n",
       "  B1 | None"
      ]
     },
     "execution_count": 20,
     "metadata": {},
     "output_type": "execute_result"
    }
   ],
   "source": [
    "to_table({q:print(latex((hlm[q]*TH[q])[:])) for q in vector_index})"
   ]
  },
  {
   "cell_type": "markdown",
   "id": "a8513676-349f-4644-a931-ef845838b7fe",
   "metadata": {},
   "source": [
    "### Polar and Axial perturbations"
   ]
  },
  {
   "cell_type": "code",
   "execution_count": 21,
   "id": "7086a8e9-435f-442f-9af6-e65079030f66",
   "metadata": {},
   "outputs": [
    {
     "data": {
      "text/html": [
       "<div class=\"notruncate\">\n",
       "<table  class=\"table_form\">\n",
       "<tbody>\n",
       "<tr class =\"row-a\">\n",
       "<td class=\"ch\"{style_attr}>Axial perturbation:</td>\n",
       "<td style=\"text-align:left\">\\(\\left(\\begin{array}{rrrr}\n",
       "0 & 0 & \\frac{\\textit{h}_{lm}^{Bt}\\left(t, r\\right) \\frac{\\partial\\,Y_l^m}{\\partial ϕ}}{\\sin\\left(θ\\right)} & -\\textit{h}_{lm}^{Bt}\\left(t, r\\right) \\sin\\left(θ\\right) \\frac{\\partial\\,Y_l^m}{\\partial θ} \\\\\n",
       "0 & 0 & \\frac{\\textit{h}_{lm}^{B1}\\left(t, r\\right) \\frac{\\partial\\,Y_l^m}{\\partial ϕ}}{\\sin\\left(θ\\right)} & -\\textit{h}_{lm}^{B1}\\left(t, r\\right) \\sin\\left(θ\\right) \\frac{\\partial\\,Y_l^m}{\\partial θ} \\\\\n",
       "\\frac{\\textit{h}_{lm}^{Bt}\\left(t, r\\right) \\frac{\\partial\\,Y_l^m}{\\partial ϕ}}{\\sin\\left(θ\\right)} & \\frac{\\textit{h}_{lm}^{B1}\\left(t, r\\right) \\frac{\\partial\\,Y_l^m}{\\partial ϕ}}{\\sin\\left(θ\\right)} & -\\frac{X_l^m\\left(θ, ϕ\\right) \\textit{h}_{lm}^{B2}\\left(t, r\\right)}{\\sin\\left(θ\\right)} & W_l^m\\left(θ, ϕ\\right) \\textit{h}_{lm}^{B2}\\left(t, r\\right) \\sin\\left(θ\\right) \\\\\n",
       "-\\textit{h}_{lm}^{Bt}\\left(t, r\\right) \\sin\\left(θ\\right) \\frac{\\partial\\,Y_l^m}{\\partial θ} & -\\textit{h}_{lm}^{B1}\\left(t, r\\right) \\sin\\left(θ\\right) \\frac{\\partial\\,Y_l^m}{\\partial θ} & W_l^m\\left(θ, ϕ\\right) \\textit{h}_{lm}^{B2}\\left(t, r\\right) \\sin\\left(θ\\right) & X_l^m\\left(θ, ϕ\\right) \\textit{h}_{lm}^{B2}\\left(t, r\\right) \\sin\\left(θ\\right)\n",
       "\\end{array}\\right)\\)</td>\n",
       "</tr>\n",
       "<tr class =\"row-b\">\n",
       "<td class=\"ch\"{style_attr}>Polar perturbation:</td>\n",
       "<td style=\"text-align:left\">\\(\\left(\\begin{array}{rrrr}\n",
       "Y_l^m\\left(θ, ϕ\\right) \\textit{h}_{lm}^{tt}\\left(t, r\\right) & Y_l^m\\left(θ, ϕ\\right) \\textit{h}_{lm}^{Rt}\\left(t, r\\right) & \\textit{h}_{lm}^{Et}\\left(t, r\\right) \\frac{\\partial\\,Y_l^m}{\\partial θ} & \\textit{h}_{lm}^{Et}\\left(t, r\\right) \\frac{\\partial\\,Y_l^m}{\\partial ϕ} \\\\\n",
       "Y_l^m\\left(θ, ϕ\\right) \\textit{h}_{lm}^{Rt}\\left(t, r\\right) & Y_l^m\\left(θ, ϕ\\right) \\textit{h}_{lm}^{L0}\\left(t, r\\right) & \\textit{h}_{lm}^{E1}\\left(t, r\\right) \\frac{\\partial\\,Y_l^m}{\\partial θ} & \\textit{h}_{lm}^{E1}\\left(t, r\\right) \\frac{\\partial\\,Y_l^m}{\\partial ϕ} \\\\\n",
       "\\textit{h}_{lm}^{Et}\\left(t, r\\right) \\frac{\\partial\\,Y_l^m}{\\partial θ} & \\textit{h}_{lm}^{E1}\\left(t, r\\right) \\frac{\\partial\\,Y_l^m}{\\partial θ} & W_l^m\\left(θ, ϕ\\right) \\textit{h}_{lm}^{E2}\\left(t, r\\right) + Y_l^m\\left(θ, ϕ\\right) \\textit{h}_{lm}^{T0}\\left(t, r\\right) & X_l^m\\left(θ, ϕ\\right) \\textit{h}_{lm}^{E2}\\left(t, r\\right) \\\\\n",
       "\\textit{h}_{lm}^{Et}\\left(t, r\\right) \\frac{\\partial\\,Y_l^m}{\\partial ϕ} & \\textit{h}_{lm}^{E1}\\left(t, r\\right) \\frac{\\partial\\,Y_l^m}{\\partial ϕ} & X_l^m\\left(θ, ϕ\\right) \\textit{h}_{lm}^{E2}\\left(t, r\\right) & -W_l^m\\left(θ, ϕ\\right) \\textit{h}_{lm}^{E2}\\left(t, r\\right) \\sin\\left(θ\\right)^{2} + Y_l^m\\left(θ, ϕ\\right) \\textit{h}_{lm}^{T0}\\left(t, r\\right) \\sin\\left(θ\\right)^{2}\n",
       "\\end{array}\\right)\\)</td>\n",
       "</tr>\n",
       "</tbody>\n",
       "</table>\n",
       "</div>"
      ],
      "text/plain": [
       "  Axial perturbation: | [                        0                         0  hBt(t, r)*d(Y)/dϕ/sin(θ) -hBt(t, r)*sin(θ)*d(Y)/dθ]\n",
       "[                        0                         0  hB1(t, r)*d(Y)/dϕ/sin(θ) -hB1(t, r)*sin(θ)*d(Y)/dθ]\n",
       "[ hBt(t, r)*d(Y)/dϕ/sin(θ)  hB1(t, r)*d(Y)/dϕ/sin(θ) -X(θ, ϕ)*hB2(t, r)/sin(θ)  W(θ, ϕ)*hB2(t, r)*sin(θ)]\n",
       "[-hBt(t, r)*sin(θ)*d(Y)/dθ -hB1(t, r)*sin(θ)*d(Y)/dθ  W(θ, ϕ)*hB2(t, r)*sin(θ)  X(θ, ϕ)*hB2(t, r)*sin(θ)]\n",
       "  Polar perturbation: | [                                       Y(θ, ϕ)*htt(t, r)                                        Y(θ, ϕ)*hRt(t, r)                                        hEt(t, r)*d(Y)/dθ                                        hEt(t, r)*d(Y)/dϕ]\n",
       "[                                       Y(θ, ϕ)*hRt(t, r)                                        Y(θ, ϕ)*hL0(t, r)                                        hE1(t, r)*d(Y)/dθ                                        hE1(t, r)*d(Y)/dϕ]\n",
       "[                                       hEt(t, r)*d(Y)/dθ                                        hE1(t, r)*d(Y)/dθ                    W(θ, ϕ)*hE2(t, r) + Y(θ, ϕ)*hT0(t, r)                                        X(θ, ϕ)*hE2(t, r)]\n",
       "[                                       hEt(t, r)*d(Y)/dϕ                                        hE1(t, r)*d(Y)/dϕ                                        X(θ, ϕ)*hE2(t, r) -W(θ, ϕ)*hE2(t, r)*sin(θ)^2 + Y(θ, ϕ)*hT0(t, r)*sin(θ)^2]"
      ]
     },
     "execution_count": 21,
     "metadata": {},
     "output_type": "execute_result"
    }
   ],
   "source": [
    "polar_index = ['L0','T0', 'E1', 'E2','tt','Rt','Et']\n",
    "axial_index = ['Bt','B1','B2']\n",
    "h0_pol = sum(hlm[q]*TH[q] for q in polar_index)\n",
    "h0_ax = sum(hlm[q]*TH[q] for q in axial_index)\n",
    "to_table(dict([('Axial perturbation:',h0_ax[:]),('Polar perturbation:',h0_pol[:])]))"
   ]
  },
  {
   "cell_type": "markdown",
   "id": "273ffcb2-f7a7-4d02-a09b-a8da9eb2ec81",
   "metadata": {},
   "source": [
    "## Energy-momentum tensor"
   ]
  },
  {
   "cell_type": "code",
   "execution_count": 22,
   "id": "df9de568-90a0-4fe2-a36b-3ed19469e59f",
   "metadata": {},
   "outputs": [
    {
     "data": {
      "text/html": [
       "<div class=\"notruncate\">\n",
       "<table  class=\"table_form\">\n",
       "<tbody>\n",
       "<tr class =\"row-a\">\n",
       "<td class=\"ch\"{style_attr}>Axial EM tensor:</td>\n",
       "<td style=\"text-align:left\">\\(\\left(\\begin{array}{rrrr}\n",
       "0 & 0 & \\frac{8 \\, \\pi \\textit{s}_{lm}^{Bt}\\left(t, r\\right) \\frac{\\partial\\,Y_l^m}{\\partial ϕ}}{\\sin\\left(θ\\right)} & -8 \\, \\pi \\textit{s}_{lm}^{Bt}\\left(t, r\\right) \\sin\\left(θ\\right) \\frac{\\partial\\,Y_l^m}{\\partial θ} \\\\\n",
       "0 & 0 & \\frac{8 \\, \\pi \\textit{s}_{lm}^{B1}\\left(t, r\\right) \\frac{\\partial\\,Y_l^m}{\\partial ϕ}}{\\sin\\left(θ\\right)} & -8 \\, \\pi \\textit{s}_{lm}^{B1}\\left(t, r\\right) \\sin\\left(θ\\right) \\frac{\\partial\\,Y_l^m}{\\partial θ} \\\\\n",
       "\\frac{8 \\, \\pi \\textit{s}_{lm}^{Bt}\\left(t, r\\right) \\frac{\\partial\\,Y_l^m}{\\partial ϕ}}{\\sin\\left(θ\\right)} & \\frac{8 \\, \\pi \\textit{s}_{lm}^{B1}\\left(t, r\\right) \\frac{\\partial\\,Y_l^m}{\\partial ϕ}}{\\sin\\left(θ\\right)} & -\\frac{8 \\, \\pi X_l^m\\left(θ, ϕ\\right) \\textit{s}_{lm}^{B2}\\left(t, r\\right)}{\\sin\\left(θ\\right)} & 8 \\, \\pi W_l^m\\left(θ, ϕ\\right) \\textit{s}_{lm}^{B2}\\left(t, r\\right) \\sin\\left(θ\\right) \\\\\n",
       "-8 \\, \\pi \\textit{s}_{lm}^{Bt}\\left(t, r\\right) \\sin\\left(θ\\right) \\frac{\\partial\\,Y_l^m}{\\partial θ} & -8 \\, \\pi \\textit{s}_{lm}^{B1}\\left(t, r\\right) \\sin\\left(θ\\right) \\frac{\\partial\\,Y_l^m}{\\partial θ} & 8 \\, \\pi W_l^m\\left(θ, ϕ\\right) \\textit{s}_{lm}^{B2}\\left(t, r\\right) \\sin\\left(θ\\right) & 8 \\, \\pi X_l^m\\left(θ, ϕ\\right) \\textit{s}_{lm}^{B2}\\left(t, r\\right) \\sin\\left(θ\\right)\n",
       "\\end{array}\\right)\\)</td>\n",
       "</tr>\n",
       "<tr class =\"row-b\">\n",
       "<td class=\"ch\"{style_attr}>Polar EM tensor:</td>\n",
       "<td style=\"text-align:left\">\\(\\left(\\begin{array}{rrrr}\n",
       "8 \\, \\pi Y_l^m\\left(θ, ϕ\\right) \\textit{s}_{lm}^{tt}\\left(t, r\\right) & 8 \\, \\pi Y_l^m\\left(θ, ϕ\\right) \\textit{s}_{lm}^{Rt}\\left(t, r\\right) & 8 \\, \\pi \\textit{s}_{lm}^{Et}\\left(t, r\\right) \\frac{\\partial\\,Y_l^m}{\\partial θ} & 8 \\, \\pi \\textit{s}_{lm}^{Et}\\left(t, r\\right) \\frac{\\partial\\,Y_l^m}{\\partial ϕ} \\\\\n",
       "8 \\, \\pi Y_l^m\\left(θ, ϕ\\right) \\textit{s}_{lm}^{Rt}\\left(t, r\\right) & 8 \\, \\pi Y_l^m\\left(θ, ϕ\\right) \\textit{s}_{lm}^{L0}\\left(t, r\\right) & 8 \\, \\pi \\textit{s}_{lm}^{E1}\\left(t, r\\right) \\frac{\\partial\\,Y_l^m}{\\partial θ} & 8 \\, \\pi \\textit{s}_{lm}^{E1}\\left(t, r\\right) \\frac{\\partial\\,Y_l^m}{\\partial ϕ} \\\\\n",
       "8 \\, \\pi \\textit{s}_{lm}^{Et}\\left(t, r\\right) \\frac{\\partial\\,Y_l^m}{\\partial θ} & 8 \\, \\pi \\textit{s}_{lm}^{E1}\\left(t, r\\right) \\frac{\\partial\\,Y_l^m}{\\partial θ} & 8 \\, \\pi W_l^m\\left(θ, ϕ\\right) \\textit{s}_{lm}^{E2}\\left(t, r\\right) + 8 \\, \\pi Y_l^m\\left(θ, ϕ\\right) \\textit{s}_{lm}^{T0}\\left(t, r\\right) & 8 \\, \\pi X_l^m\\left(θ, ϕ\\right) \\textit{s}_{lm}^{E2}\\left(t, r\\right) \\\\\n",
       "8 \\, \\pi \\textit{s}_{lm}^{Et}\\left(t, r\\right) \\frac{\\partial\\,Y_l^m}{\\partial ϕ} & 8 \\, \\pi \\textit{s}_{lm}^{E1}\\left(t, r\\right) \\frac{\\partial\\,Y_l^m}{\\partial ϕ} & 8 \\, \\pi X_l^m\\left(θ, ϕ\\right) \\textit{s}_{lm}^{E2}\\left(t, r\\right) & -8 \\, \\pi W_l^m\\left(θ, ϕ\\right) \\textit{s}_{lm}^{E2}\\left(t, r\\right) \\sin\\left(θ\\right)^{2} + 8 \\, \\pi Y_l^m\\left(θ, ϕ\\right) \\textit{s}_{lm}^{T0}\\left(t, r\\right) \\sin\\left(θ\\right)^{2}\n",
       "\\end{array}\\right)\\)</td>\n",
       "</tr>\n",
       "</tbody>\n",
       "</table>\n",
       "</div>"
      ],
      "text/plain": [
       "  Axial EM tensor: | [                             0                              0  8*pi*sBt(t, r)*d(Y)/dϕ/sin(θ) -8*pi*sBt(t, r)*sin(θ)*d(Y)/dθ]\n",
       "[                             0                              0  8*pi*sB1(t, r)*d(Y)/dϕ/sin(θ) -8*pi*sB1(t, r)*sin(θ)*d(Y)/dθ]\n",
       "[ 8*pi*sBt(t, r)*d(Y)/dϕ/sin(θ)  8*pi*sB1(t, r)*d(Y)/dϕ/sin(θ) -8*pi*X(θ, ϕ)*sB2(t, r)/sin(θ)  8*pi*W(θ, ϕ)*sB2(t, r)*sin(θ)]\n",
       "[-8*pi*sBt(t, r)*sin(θ)*d(Y)/dθ -8*pi*sB1(t, r)*sin(θ)*d(Y)/dθ  8*pi*W(θ, ϕ)*sB2(t, r)*sin(θ)  8*pi*X(θ, ϕ)*sB2(t, r)*sin(θ)]\n",
       "  Polar EM tensor: | [                                            8*pi*Y(θ, ϕ)*stt(t, r)                                             8*pi*Y(θ, ϕ)*sRt(t, r)                                             8*pi*sEt(t, r)*d(Y)/dθ                                             8*pi*sEt(t, r)*d(Y)/dϕ]\n",
       "[                                            8*pi*Y(θ, ϕ)*sRt(t, r)                                             8*pi*Y(θ, ϕ)*sL0(t, r)                                             8*pi*sE1(t, r)*d(Y)/dθ                                             8*pi*sE1(t, r)*d(Y)/dϕ]\n",
       "[                                            8*pi*sEt(t, r)*d(Y)/dθ                                             8*pi*sE1(t, r)*d(Y)/dθ                    8*pi*W(θ, ϕ)*sE2(t, r) + 8*pi*Y(θ, ϕ)*sT0(t, r)                                             8*pi*X(θ, ϕ)*sE2(t, r)]\n",
       "[                                            8*pi*sEt(t, r)*d(Y)/dϕ                                             8*pi*sE1(t, r)*d(Y)/dϕ                                             8*pi*X(θ, ϕ)*sE2(t, r) -8*pi*W(θ, ϕ)*sE2(t, r)*sin(θ)^2 + 8*pi*Y(θ, ϕ)*sT0(t, r)*sin(θ)^2]"
      ]
     },
     "execution_count": 22,
     "metadata": {},
     "output_type": "execute_result"
    }
   ],
   "source": [
    "slm = {k:function(r's'+k,latex_name=r'\\textit{s}_{lm}^{'+k+r'}')(t,r) for k in T}\n",
    "T_pol = sum(slm[q]*TH[q]*8*pi for q in polar_index)\n",
    "T_ax = sum(slm[q]*TH[q]*8*pi for q in axial_index)\n",
    "to_table(dict([('Axial EM tensor:',T_ax[:]),('Polar EM tensor:',T_pol[:])]))"
   ]
  },
  {
   "cell_type": "markdown",
   "id": "3f2b5ef6-4b28-49e9-8b80-05d357bb2550",
   "metadata": {},
   "source": [
    "## The Regge-Wheeler gauge"
   ]
  },
  {
   "cell_type": "markdown",
   "id": "2b646b62-4d8d-4ec9-8594-7b05766ed789",
   "metadata": {},
   "source": [
    "### Axial perturbations"
   ]
  },
  {
   "cell_type": "code",
   "execution_count": 23,
   "id": "e3b5dec8-6875-4876-969e-4fc13140f3ed",
   "metadata": {},
   "outputs": [
    {
     "data": {
      "text/html": [
       "<html>\\(\\displaystyle ξ_{ax} = -\\frac{Λ_{{\\rm lm}}\\left(t, r\\right) \\frac{\\partial\\,Y_l^m}{\\partial ϕ}}{\\sin\\left(θ\\right)} \\mathrm{d} θ + \\sin\\left(θ\\right) Λ_{{\\rm lm}}\\left(t, r\\right) \\frac{\\partial\\,Y_l^m}{\\partial θ} \\mathrm{d} ϕ\\)</html>"
      ],
      "text/latex": [
       "$\\displaystyle ξ_{ax} = -\\frac{Λ_{{\\rm lm}}\\left(t, r\\right) \\frac{\\partial\\,Y_l^m}{\\partial ϕ}}{\\sin\\left(θ\\right)} \\mathrm{d} θ + \\sin\\left(θ\\right) Λ_{{\\rm lm}}\\left(t, r\\right) \\frac{\\partial\\,Y_l^m}{\\partial θ} \\mathrm{d} ϕ$"
      ],
      "text/plain": [
       "ξ_{ax} = -Λ_lm(t, r)*d(Y)/dϕ/sin(θ) dθ + sin(θ)*Λ_lm(t, r)*d(Y)/dθ dϕ"
      ]
     },
     "metadata": {},
     "output_type": "display_data"
    }
   ],
   "source": [
    "Λlm = function('Λ_lm')(t,r)\n",
    "ξ_ax0 = Λlm*vector([0,0,-1/sin(θ)*diff(Y,ϕ),sin(θ)*diff(Y,θ)])\n",
    "ξ_ax = RW.one_form(ξ_ax0, name=r'ξ_{ax}')\n",
    "show(ξ_ax.display())"
   ]
  },
  {
   "cell_type": "code",
   "execution_count": 24,
   "id": "0627ace7-16e3-4355-a38f-c8426267decb",
   "metadata": {},
   "outputs": [
    {
     "name": "stdout",
     "output_type": "stream",
     "text": [
      "ξ_{ax} = -\\frac{Λ_{{\\rm lm}}\\left(t, r\\right) \\frac{\\partial\\,Y_l^m}{\\partial ϕ}}{\\sin\\left(θ\\right)} \\mathrm{d} θ + \\sin\\left(θ\\right) Λ_{{\\rm lm}}\\left(t, r\\right) \\frac{\\partial\\,Y_l^m}{\\partial θ} \\mathrm{d} ϕ\n"
     ]
    }
   ],
   "source": [
    "print(latex(ξ_ax.display()))"
   ]
  },
  {
   "cell_type": "code",
   "execution_count": 25,
   "id": "d9a3f07e-8cb4-4806-abc2-c5442532dee2",
   "metadata": {},
   "outputs": [],
   "source": [
    "DDξ_ax = 2*nabla(ξ_ax).symmetrize()\n",
    "DDξ_ax.apply_map(lambda q:q.subs(to_XW).full_simplify())\n",
    "# DDξ_ax[:]"
   ]
  },
  {
   "cell_type": "code",
   "execution_count": 26,
   "id": "701969bc-e248-4b4c-9508-566c7b9d29e5",
   "metadata": {},
   "outputs": [
    {
     "data": {
      "text/plain": [
       "True"
      ]
     },
     "execution_count": 26,
     "metadata": {},
     "output_type": "execute_result"
    }
   ],
   "source": [
    "DDξ_ax_check = (- diff(Λlm,t)*T['Bt'] - (diff(Λlm,r)-2/r*Λlm)*T['B1'] + Λlm*T['B2'])\n",
    "DDξ_ax[:] == DDξ_ax_check"
   ]
  },
  {
   "cell_type": "code",
   "execution_count": 27,
   "id": "00e0e59e-ef01-4776-9710-d41541f749af",
   "metadata": {},
   "outputs": [
    {
     "data": {
      "text/html": [
       "<div class=\"notruncate\">\n",
       "<table  class=\"table_form\">\n",
       "<tbody>\n",
       "<tr class =\"row-a\">\n",
       "<td class=\"ch\"{style_attr}>h_axial:</td>\n",
       "<td style=\"text-align:left\">\\(\\left(\\begin{array}{rrrr}\n",
       "0 & 0 & \\frac{\\textit{h}_{lm}^{Bt}\\left(t, r\\right) \\frac{\\partial\\,Y_l^m}{\\partial ϕ}}{\\sin\\left(θ\\right)} + \\frac{\\frac{\\partial\\,Y_l^m}{\\partial ϕ} \\frac{\\partial\\,Λ_{\\mathit{lm}}}{\\partial t}}{\\sin\\left(θ\\right)} & -\\textit{h}_{lm}^{Bt}\\left(t, r\\right) \\sin\\left(θ\\right) \\frac{\\partial\\,Y_l^m}{\\partial θ} - \\sin\\left(θ\\right) \\frac{\\partial\\,Y_l^m}{\\partial θ} \\frac{\\partial\\,Λ_{\\mathit{lm}}}{\\partial t} \\\\\n",
       "0 & 0 & \\frac{\\textit{h}_{lm}^{B1}\\left(t, r\\right) \\frac{\\partial\\,Y_l^m}{\\partial ϕ}}{\\sin\\left(θ\\right)} + \\frac{{\\left(r \\frac{\\partial\\,Λ_{\\mathit{lm}}}{\\partial r} - 2 \\, Λ_{{\\rm lm}}\\left(t, r\\right)\\right)} \\frac{\\partial\\,Y_l^m}{\\partial ϕ}}{r \\sin\\left(θ\\right)} & -\\textit{h}_{lm}^{B1}\\left(t, r\\right) \\sin\\left(θ\\right) \\frac{\\partial\\,Y_l^m}{\\partial θ} - \\frac{{\\left(r \\frac{\\partial\\,Λ_{\\mathit{lm}}}{\\partial r} - 2 \\, Λ_{{\\rm lm}}\\left(t, r\\right)\\right)} \\sin\\left(θ\\right) \\frac{\\partial\\,Y_l^m}{\\partial θ}}{r} \\\\\n",
       "\\frac{\\textit{h}_{lm}^{Bt}\\left(t, r\\right) \\frac{\\partial\\,Y_l^m}{\\partial ϕ}}{\\sin\\left(θ\\right)} + \\frac{\\frac{\\partial\\,Y_l^m}{\\partial ϕ} \\frac{\\partial\\,Λ_{\\mathit{lm}}}{\\partial t}}{\\sin\\left(θ\\right)} & \\frac{\\textit{h}_{lm}^{B1}\\left(t, r\\right) \\frac{\\partial\\,Y_l^m}{\\partial ϕ}}{\\sin\\left(θ\\right)} + \\frac{{\\left(r \\frac{\\partial\\,Λ_{\\mathit{lm}}}{\\partial r} - 2 \\, Λ_{{\\rm lm}}\\left(t, r\\right)\\right)} \\frac{\\partial\\,Y_l^m}{\\partial ϕ}}{r \\sin\\left(θ\\right)} & -\\frac{X_l^m\\left(θ, ϕ\\right) \\textit{h}_{lm}^{B2}\\left(t, r\\right)}{\\sin\\left(θ\\right)} + \\frac{X_l^m\\left(θ, ϕ\\right) Λ_{{\\rm lm}}\\left(t, r\\right)}{\\sin\\left(θ\\right)} & W_l^m\\left(θ, ϕ\\right) \\textit{h}_{lm}^{B2}\\left(t, r\\right) \\sin\\left(θ\\right) - W_l^m\\left(θ, ϕ\\right) \\sin\\left(θ\\right) Λ_{{\\rm lm}}\\left(t, r\\right) \\\\\n",
       "-\\textit{h}_{lm}^{Bt}\\left(t, r\\right) \\sin\\left(θ\\right) \\frac{\\partial\\,Y_l^m}{\\partial θ} - \\sin\\left(θ\\right) \\frac{\\partial\\,Y_l^m}{\\partial θ} \\frac{\\partial\\,Λ_{\\mathit{lm}}}{\\partial t} & -\\textit{h}_{lm}^{B1}\\left(t, r\\right) \\sin\\left(θ\\right) \\frac{\\partial\\,Y_l^m}{\\partial θ} - \\frac{{\\left(r \\frac{\\partial\\,Λ_{\\mathit{lm}}}{\\partial r} - 2 \\, Λ_{{\\rm lm}}\\left(t, r\\right)\\right)} \\sin\\left(θ\\right) \\frac{\\partial\\,Y_l^m}{\\partial θ}}{r} & W_l^m\\left(θ, ϕ\\right) \\textit{h}_{lm}^{B2}\\left(t, r\\right) \\sin\\left(θ\\right) - W_l^m\\left(θ, ϕ\\right) \\sin\\left(θ\\right) Λ_{{\\rm lm}}\\left(t, r\\right) & X_l^m\\left(θ, ϕ\\right) \\textit{h}_{lm}^{B2}\\left(t, r\\right) \\sin\\left(θ\\right) - X_l^m\\left(θ, ϕ\\right) \\sin\\left(θ\\right) Λ_{{\\rm lm}}\\left(t, r\\right)\n",
       "\\end{array}\\right)\\)</td>\n",
       "</tr>\n",
       "</tbody>\n",
       "</table>\n",
       "</div>"
      ],
      "text/plain": [
       "  h_axial: | [                                                                          0                                                                           0                        hBt(t, r)*d(Y)/dϕ/sin(θ) + d(Y)/dϕ*d(Λ_lm)/dt/sin(θ)                       -hBt(t, r)*sin(θ)*d(Y)/dθ - sin(θ)*d(Y)/dθ*d(Λ_lm)/dt]\n",
       "[                                                                          0                                                                           0 hB1(t, r)*d(Y)/dϕ/sin(θ) + (r*d(Λ_lm)/dr - 2*Λ_lm(t, r))*d(Y)/dϕ/(r*sin(θ))  -hB1(t, r)*sin(θ)*d(Y)/dθ - (r*d(Λ_lm)/dr - 2*Λ_lm(t, r))*sin(θ)*d(Y)/dθ/r]\n",
       "[                       hBt(t, r)*d(Y)/dϕ/sin(θ) + d(Y)/dϕ*d(Λ_lm)/dt/sin(θ) hB1(t, r)*d(Y)/dϕ/sin(θ) + (r*d(Λ_lm)/dr - 2*Λ_lm(t, r))*d(Y)/dϕ/(r*sin(θ))                       -X(θ, ϕ)*hB2(t, r)/sin(θ) + X(θ, ϕ)*Λ_lm(t, r)/sin(θ)                        W(θ, ϕ)*hB2(t, r)*sin(θ) - W(θ, ϕ)*sin(θ)*Λ_lm(t, r)]\n",
       "[                      -hBt(t, r)*sin(θ)*d(Y)/dθ - sin(θ)*d(Y)/dθ*d(Λ_lm)/dt  -hB1(t, r)*sin(θ)*d(Y)/dθ - (r*d(Λ_lm)/dr - 2*Λ_lm(t, r))*sin(θ)*d(Y)/dθ/r                        W(θ, ϕ)*hB2(t, r)*sin(θ) - W(θ, ϕ)*sin(θ)*Λ_lm(t, r)                        X(θ, ϕ)*hB2(t, r)*sin(θ) - X(θ, ϕ)*sin(θ)*Λ_lm(t, r)]"
      ]
     },
     "execution_count": 27,
     "metadata": {},
     "output_type": "execute_result"
    }
   ],
   "source": [
    "h_ax = RW.metric('h_ax', latex_name=r'(h^{\\rm{axial}})')\n",
    "h_ax[:] = (h0_ax - DDξ_ax)[:]\n",
    "to_table({'h_axial:':h_ax[:]})"
   ]
  },
  {
   "cell_type": "code",
   "execution_count": 28,
   "id": "004e18ee-c42b-4e10-967d-059ca28e1c08",
   "metadata": {},
   "outputs": [
    {
     "data": {
      "text/html": [
       "<div class=\"notruncate\">\n",
       "<table  class=\"table_form\">\n",
       "<tbody>\n",
       "<tr class =\"row-a\">\n",
       "<td class=\"ch\"{style_attr}>\\(Λ_{{\\rm lm}}\\left(t, r\\right)\\)</td>\n",
       "<td style=\"text-align:left\">\\(\\textit{h}_{lm}^{B2}\\left(t, r\\right)\\)</td>\n",
       "</tr>\n",
       "</tbody>\n",
       "</table>\n",
       "</div>"
      ],
      "text/plain": [
       "  Λ_lm(t, r) | hB2(t, r)"
      ]
     },
     "execution_count": 28,
     "metadata": {},
     "output_type": "execute_result"
    }
   ],
   "source": [
    "gauge_ax = solve(h_ax[3,3].expr(),Λlm,solution_dict=True)[0]\n",
    "to_table(gauge_ax)"
   ]
  },
  {
   "cell_type": "code",
   "execution_count": 29,
   "id": "23d70451-efe3-4ce2-b1be-14c0f1fb0adf",
   "metadata": {},
   "outputs": [
    {
     "data": {
      "text/html": [
       "<div class=\"notruncate\">\n",
       "<table  class=\"table_form\">\n",
       "<tbody>\n",
       "<tr class =\"row-a\">\n",
       "<td class=\"ch\"{style_attr}>h_axial (gauged):</td>\n",
       "<td style=\"text-align:left\">\\(\\left(\\begin{array}{rrrr}\n",
       "0 & 0 & \\frac{\\textit{h}_{lm}^{Bt}\\left(t, r\\right) \\frac{\\partial\\,Y_l^m}{\\partial ϕ}}{\\sin\\left(θ\\right)} & -\\textit{h}_{lm}^{Bt}\\left(t, r\\right) \\sin\\left(θ\\right) \\frac{\\partial\\,Y_l^m}{\\partial θ} \\\\\n",
       "0 & 0 & \\frac{\\textit{h}_{lm}^{B1}\\left(t, r\\right) \\frac{\\partial\\,Y_l^m}{\\partial ϕ}}{\\sin\\left(θ\\right)} & -\\textit{h}_{lm}^{B1}\\left(t, r\\right) \\sin\\left(θ\\right) \\frac{\\partial\\,Y_l^m}{\\partial θ} \\\\\n",
       "\\frac{\\textit{h}_{lm}^{Bt}\\left(t, r\\right) \\frac{\\partial\\,Y_l^m}{\\partial ϕ}}{\\sin\\left(θ\\right)} & \\frac{\\textit{h}_{lm}^{B1}\\left(t, r\\right) \\frac{\\partial\\,Y_l^m}{\\partial ϕ}}{\\sin\\left(θ\\right)} & 0 & 0 \\\\\n",
       "-\\textit{h}_{lm}^{Bt}\\left(t, r\\right) \\sin\\left(θ\\right) \\frac{\\partial\\,Y_l^m}{\\partial θ} & -\\textit{h}_{lm}^{B1}\\left(t, r\\right) \\sin\\left(θ\\right) \\frac{\\partial\\,Y_l^m}{\\partial θ} & 0 & 0\n",
       "\\end{array}\\right)\\)</td>\n",
       "</tr>\n",
       "</tbody>\n",
       "</table>\n",
       "</div>"
      ],
      "text/plain": [
       "  h_axial (gauged): | [                        0                         0  hBt(t, r)*d(Y)/dϕ/sin(θ) -hBt(t, r)*sin(θ)*d(Y)/dθ]\n",
       "[                        0                         0  hB1(t, r)*d(Y)/dϕ/sin(θ) -hB1(t, r)*sin(θ)*d(Y)/dθ]\n",
       "[ hBt(t, r)*d(Y)/dϕ/sin(θ)  hB1(t, r)*d(Y)/dϕ/sin(θ)                         0                         0]\n",
       "[-hBt(t, r)*sin(θ)*d(Y)/dθ -hB1(t, r)*sin(θ)*d(Y)/dθ                         0                         0]"
      ]
     },
     "execution_count": 29,
     "metadata": {},
     "output_type": "execute_result"
    }
   ],
   "source": [
    "gauge_ax2 = {diff(hlm['B2'],k):0 for k in [0,t,r]}\n",
    "h_ax.apply_map(lambda q:q.substitute_function(gauge_ax).subs(gauge_ax2).expand().factor())\n",
    "to_table({'h_axial (gauged):':h_ax[:]})"
   ]
  },
  {
   "cell_type": "code",
   "execution_count": 30,
   "id": "fd2b3c23-d5b1-4796-b057-e72cdf05f714",
   "metadata": {},
   "outputs": [
    {
     "name": "stdout",
     "output_type": "stream",
     "text": [
      "\\left(\\begin{array}{rrrr}\n",
      "0 & 0 & \\frac{\\textit{h}_{lm}^{Bt}\\left(t, r\\right) \\frac{\\partial\\,Y_l^m}{\\partial ϕ}}{\\sin\\left(θ\\right)} & -\\textit{h}_{lm}^{Bt}\\left(t, r\\right) \\sin\\left(θ\\right) \\frac{\\partial\\,Y_l^m}{\\partial θ} \\\\\n",
      "0 & 0 & \\frac{\\textit{h}_{lm}^{B1}\\left(t, r\\right) \\frac{\\partial\\,Y_l^m}{\\partial ϕ}}{\\sin\\left(θ\\right)} & -\\textit{h}_{lm}^{B1}\\left(t, r\\right) \\sin\\left(θ\\right) \\frac{\\partial\\,Y_l^m}{\\partial θ} \\\\\n",
      "\\frac{\\textit{h}_{lm}^{Bt}\\left(t, r\\right) \\frac{\\partial\\,Y_l^m}{\\partial ϕ}}{\\sin\\left(θ\\right)} & \\frac{\\textit{h}_{lm}^{B1}\\left(t, r\\right) \\frac{\\partial\\,Y_l^m}{\\partial ϕ}}{\\sin\\left(θ\\right)} & 0 & 0 \\\\\n",
      "-\\textit{h}_{lm}^{Bt}\\left(t, r\\right) \\sin\\left(θ\\right) \\frac{\\partial\\,Y_l^m}{\\partial θ} & -\\textit{h}_{lm}^{B1}\\left(t, r\\right) \\sin\\left(θ\\right) \\frac{\\partial\\,Y_l^m}{\\partial θ} & 0 & 0\n",
      "\\end{array}\\right)\n"
     ]
    }
   ],
   "source": [
    "print(latex(h_ax[:]))"
   ]
  },
  {
   "cell_type": "markdown",
   "id": "c8ea5744-670d-4da5-8f10-6f01645f14fd",
   "metadata": {},
   "source": [
    "### Polar perturbations"
   ]
  },
  {
   "cell_type": "code",
   "execution_count": 31,
   "id": "2a0a95a2-cf77-4964-be82-4f6ba232e150",
   "metadata": {},
   "outputs": [
    {
     "data": {
      "text/html": [
       "<html>\\(\\displaystyle ξ_{pol} = Y_l^m\\left(θ, ϕ\\right) ξ_{lm}^{t}\\left(t, r\\right) \\mathrm{d} t + Y_l^m\\left(θ, ϕ\\right) ξ_{lm}^{R}\\left(t, r\\right) \\mathrm{d} r + ξ_{lm}^{E}\\left(t, r\\right) \\frac{\\partial\\,Y_l^m}{\\partial θ} \\mathrm{d} θ + ξ_{lm}^{E}\\left(t, r\\right) \\frac{\\partial\\,Y_l^m}{\\partial ϕ} \\mathrm{d} ϕ\\)</html>"
      ],
      "text/latex": [
       "$\\displaystyle ξ_{pol} = Y_l^m\\left(θ, ϕ\\right) ξ_{lm}^{t}\\left(t, r\\right) \\mathrm{d} t + Y_l^m\\left(θ, ϕ\\right) ξ_{lm}^{R}\\left(t, r\\right) \\mathrm{d} r + ξ_{lm}^{E}\\left(t, r\\right) \\frac{\\partial\\,Y_l^m}{\\partial θ} \\mathrm{d} θ + ξ_{lm}^{E}\\left(t, r\\right) \\frac{\\partial\\,Y_l^m}{\\partial ϕ} \\mathrm{d} ϕ$"
      ],
      "text/plain": [
       "ξ_{pol} = Y(θ, ϕ)*ξt(t, r) dt + Y(θ, ϕ)*ξR(t, r) dr + ξE(t, r)*d(Y)/dθ dθ + ξE(t, r)*d(Y)/dϕ dϕ"
      ]
     },
     "metadata": {},
     "output_type": "display_data"
    }
   ],
   "source": [
    "ξ = {q:function('ξ'+q, latex_name=r'ξ_{lm}^{'+q+'}')(t,r) for q in ['t','R','E']}\n",
    "ξ_pol0 = vector([ξ['t']*Y,ξ['R']*Y,0,0]) + ξ['E']*vector([0,0,diff(Y,θ),diff(Y,ϕ)])\n",
    "ξ_pol = RW.one_form(ξ_pol0, name=r'ξ_{pol}')\n",
    "show(ξ_pol.display())"
   ]
  },
  {
   "cell_type": "code",
   "execution_count": 32,
   "id": "bdf1f89d-8565-4fd0-ad37-07331a77786d",
   "metadata": {},
   "outputs": [],
   "source": [
    "DDξ_pol = 2*nabla(ξ_pol).symmetrize()"
   ]
  },
  {
   "cell_type": "code",
   "execution_count": 33,
   "id": "6dc65ada-ddc2-4f08-a5d2-8ce79e940b0b",
   "metadata": {},
   "outputs": [
    {
     "data": {
      "text/html": [
       "<div class=\"notruncate\">\n",
       "<table  class=\"table_form\">\n",
       "<tbody>\n",
       "<tr class =\"row-a\">\n",
       "<td class=\"ch\"{style_attr}>h_polar:</td>\n",
       "<td style=\"text-align:left\">\\(\\left(\\begin{array}{rrrr}\n",
       "\\frac{{\\left(r^{3} \\textit{h}_{lm}^{tt}\\left(t, r\\right) - 2 \\, r^{3} \\frac{\\partial\\,ξ_{lm}^{t}}{\\partial t} - 2 \\, {\\left(2 \\, M^{2} - M r\\right)} ξ_{lm}^{R}\\left(t, r\\right)\\right)} Y_l^m\\left(θ, ϕ\\right)}{r^{3}} & \\frac{{\\left({\\left(2 \\, M r - r^{2}\\right)} \\textit{h}_{lm}^{Rt}\\left(t, r\\right) - 2 \\, M ξ_{lm}^{t}\\left(t, r\\right) - {\\left(2 \\, M r - r^{2}\\right)} \\frac{\\partial\\,ξ_{lm}^{R}}{\\partial t} - {\\left(2 \\, M r - r^{2}\\right)} \\frac{\\partial\\,ξ_{lm}^{t}}{\\partial r}\\right)} Y_l^m\\left(θ, ϕ\\right)}{2 \\, M r - r^{2}} & {\\left(\\textit{h}_{lm}^{Et}\\left(t, r\\right) - ξ_{lm}^{t}\\left(t, r\\right) - \\frac{\\partial\\,ξ_{lm}^{E}}{\\partial t}\\right)} \\frac{\\partial\\,Y_l^m}{\\partial θ} & {\\left(\\textit{h}_{lm}^{Et}\\left(t, r\\right) - ξ_{lm}^{t}\\left(t, r\\right) - \\frac{\\partial\\,ξ_{lm}^{E}}{\\partial t}\\right)} \\frac{\\partial\\,Y_l^m}{\\partial ϕ} \\\\\n",
       "\\frac{{\\left({\\left(2 \\, M r - r^{2}\\right)} \\textit{h}_{lm}^{Rt}\\left(t, r\\right) - 2 \\, M ξ_{lm}^{t}\\left(t, r\\right) - {\\left(2 \\, M r - r^{2}\\right)} \\frac{\\partial\\,ξ_{lm}^{R}}{\\partial t} - {\\left(2 \\, M r - r^{2}\\right)} \\frac{\\partial\\,ξ_{lm}^{t}}{\\partial r}\\right)} Y_l^m\\left(θ, ϕ\\right)}{2 \\, M r - r^{2}} & \\frac{{\\left({\\left(2 \\, M r - r^{2}\\right)} \\textit{h}_{lm}^{L0}\\left(t, r\\right) + 2 \\, M ξ_{lm}^{R}\\left(t, r\\right) - 2 \\, {\\left(2 \\, M r - r^{2}\\right)} \\frac{\\partial\\,ξ_{lm}^{R}}{\\partial r}\\right)} Y_l^m\\left(θ, ϕ\\right)}{2 \\, M r - r^{2}} & \\frac{{\\left(r \\textit{h}_{lm}^{E1}\\left(t, r\\right) - r ξ_{lm}^{R}\\left(t, r\\right) - r \\frac{\\partial\\,ξ_{lm}^{E}}{\\partial r} + 2 \\, ξ_{lm}^{E}\\left(t, r\\right)\\right)} \\frac{\\partial\\,Y_l^m}{\\partial θ}}{r} & \\frac{{\\left(r \\textit{h}_{lm}^{E1}\\left(t, r\\right) - r ξ_{lm}^{R}\\left(t, r\\right) - r \\frac{\\partial\\,ξ_{lm}^{E}}{\\partial r} + 2 \\, ξ_{lm}^{E}\\left(t, r\\right)\\right)} \\frac{\\partial\\,Y_l^m}{\\partial ϕ}}{r} \\\\\n",
       "{\\left(\\textit{h}_{lm}^{Et}\\left(t, r\\right) - ξ_{lm}^{t}\\left(t, r\\right) - \\frac{\\partial\\,ξ_{lm}^{E}}{\\partial t}\\right)} \\frac{\\partial\\,Y_l^m}{\\partial θ} & \\frac{{\\left(r \\textit{h}_{lm}^{E1}\\left(t, r\\right) - r ξ_{lm}^{R}\\left(t, r\\right) - r \\frac{\\partial\\,ξ_{lm}^{E}}{\\partial r} + 2 \\, ξ_{lm}^{E}\\left(t, r\\right)\\right)} \\frac{\\partial\\,Y_l^m}{\\partial θ}}{r} & \\frac{{\\left(2 \\, {\\left(2 \\, M - r\\right)} ξ_{lm}^{R}\\left(t, r\\right) + \\textit{h}_{lm}^{T0}\\left(t, r\\right)\\right)} Y_l^m\\left(θ, ϕ\\right) \\sin\\left(θ\\right)^{2} - \\cos\\left(θ\\right) \\textit{h}_{lm}^{E2}\\left(t, r\\right) \\sin\\left(θ\\right) \\frac{\\partial\\,Y_l^m}{\\partial θ} + {\\left(\\textit{h}_{lm}^{E2}\\left(t, r\\right) - 2 \\, ξ_{lm}^{E}\\left(t, r\\right)\\right)} \\sin\\left(θ\\right)^{2} \\frac{\\partial^2\\,Y_l^m}{\\partial θ ^ 2} - \\textit{h}_{lm}^{E2}\\left(t, r\\right) \\frac{\\partial^2\\,Y_l^m}{\\partial ϕ ^ 2}}{\\sin\\left(θ\\right)^{2}} & \\frac{2 \\, {\\left({\\left(\\textit{h}_{lm}^{E2}\\left(t, r\\right) - ξ_{lm}^{E}\\left(t, r\\right)\\right)} \\sin\\left(θ\\right) \\frac{\\partial^2\\,Y_l^m}{\\partial θ\\partial ϕ} - {\\left(\\textit{h}_{lm}^{E2}\\left(t, r\\right) - ξ_{lm}^{E}\\left(t, r\\right)\\right)} \\cos\\left(θ\\right) \\frac{\\partial\\,Y_l^m}{\\partial ϕ}\\right)}}{\\sin\\left(θ\\right)} \\\\\n",
       "{\\left(\\textit{h}_{lm}^{Et}\\left(t, r\\right) - ξ_{lm}^{t}\\left(t, r\\right) - \\frac{\\partial\\,ξ_{lm}^{E}}{\\partial t}\\right)} \\frac{\\partial\\,Y_l^m}{\\partial ϕ} & \\frac{{\\left(r \\textit{h}_{lm}^{E1}\\left(t, r\\right) - r ξ_{lm}^{R}\\left(t, r\\right) - r \\frac{\\partial\\,ξ_{lm}^{E}}{\\partial r} + 2 \\, ξ_{lm}^{E}\\left(t, r\\right)\\right)} \\frac{\\partial\\,Y_l^m}{\\partial ϕ}}{r} & \\frac{2 \\, {\\left({\\left(\\textit{h}_{lm}^{E2}\\left(t, r\\right) - ξ_{lm}^{E}\\left(t, r\\right)\\right)} \\sin\\left(θ\\right) \\frac{\\partial^2\\,Y_l^m}{\\partial θ\\partial ϕ} - {\\left(\\textit{h}_{lm}^{E2}\\left(t, r\\right) - ξ_{lm}^{E}\\left(t, r\\right)\\right)} \\cos\\left(θ\\right) \\frac{\\partial\\,Y_l^m}{\\partial ϕ}\\right)}}{\\sin\\left(θ\\right)} & {\\left(2 \\, {\\left(2 \\, M - r\\right)} ξ_{lm}^{R}\\left(t, r\\right) + \\textit{h}_{lm}^{T0}\\left(t, r\\right)\\right)} Y_l^m\\left(θ, ϕ\\right) \\sin\\left(θ\\right)^{2} + {\\left(\\textit{h}_{lm}^{E2}\\left(t, r\\right) - 2 \\, ξ_{lm}^{E}\\left(t, r\\right)\\right)} \\cos\\left(θ\\right) \\sin\\left(θ\\right) \\frac{\\partial\\,Y_l^m}{\\partial θ} - \\textit{h}_{lm}^{E2}\\left(t, r\\right) \\sin\\left(θ\\right)^{2} \\frac{\\partial^2\\,Y_l^m}{\\partial θ ^ 2} + {\\left(\\textit{h}_{lm}^{E2}\\left(t, r\\right) - 2 \\, ξ_{lm}^{E}\\left(t, r\\right)\\right)} \\frac{\\partial^2\\,Y_l^m}{\\partial ϕ ^ 2}\n",
       "\\end{array}\\right)\\)</td>\n",
       "</tr>\n",
       "</tbody>\n",
       "</table>\n",
       "</div>"
      ],
      "text/plain": [
       "  h_polar: | [                                                                                                     (r^3*htt(t, r) - 2*r^3*d(ξt)/dt - 2*(2*M^2 - M*r)*ξR(t, r))*Y(θ, ϕ)/r^3                                                             ((2*M*r - r^2)*hRt(t, r) - 2*M*ξt(t, r) - (2*M*r - r^2)*d(ξR)/dt - (2*M*r - r^2)*d(ξt)/dr)*Y(θ, ϕ)/(2*M*r - r^2)                                                                                                                                    (hEt(t, r) - ξt(t, r) - d(ξE)/dt)*d(Y)/dθ                                                                                                                                    (hEt(t, r) - ξt(t, r) - d(ξE)/dt)*d(Y)/dϕ]\n",
       "[                                                            ((2*M*r - r^2)*hRt(t, r) - 2*M*ξt(t, r) - (2*M*r - r^2)*d(ξR)/dt - (2*M*r - r^2)*d(ξt)/dr)*Y(θ, ϕ)/(2*M*r - r^2)                                                                                    ((2*M*r - r^2)*hL0(t, r) + 2*M*ξR(t, r) - 2*(2*M*r - r^2)*d(ξR)/dr)*Y(θ, ϕ)/(2*M*r - r^2)                                                                                                               (r*hE1(t, r) - r*ξR(t, r) - r*d(ξE)/dr + 2*ξE(t, r))*d(Y)/dθ/r                                                                                                               (r*hE1(t, r) - r*ξR(t, r) - r*d(ξE)/dr + 2*ξE(t, r))*d(Y)/dϕ/r]\n",
       "[                                                                                                                                   (hEt(t, r) - ξt(t, r) - d(ξE)/dt)*d(Y)/dθ                                                                                                               (r*hE1(t, r) - r*ξR(t, r) - r*d(ξE)/dr + 2*ξE(t, r))*d(Y)/dθ/r     ((2*(2*M - r)*ξR(t, r) + hT0(t, r))*Y(θ, ϕ)*sin(θ)^2 - cos(θ)*hE2(t, r)*sin(θ)*d(Y)/dθ + (hE2(t, r) - 2*ξE(t, r))*sin(θ)^2*d^2(Y)/dθ^2 - hE2(t, r)*d^2(Y)/dϕ^2)/sin(θ)^2                                                                                 2*((hE2(t, r) - ξE(t, r))*sin(θ)*d^2(Y)/dθdϕ - (hE2(t, r) - ξE(t, r))*cos(θ)*d(Y)/dϕ)/sin(θ)]\n",
       "[                                                                                                                                   (hEt(t, r) - ξt(t, r) - d(ξE)/dt)*d(Y)/dϕ                                                                                                               (r*hE1(t, r) - r*ξR(t, r) - r*d(ξE)/dr + 2*ξE(t, r))*d(Y)/dϕ/r                                                                                 2*((hE2(t, r) - ξE(t, r))*sin(θ)*d^2(Y)/dθdϕ - (hE2(t, r) - ξE(t, r))*cos(θ)*d(Y)/dϕ)/sin(θ) (2*(2*M - r)*ξR(t, r) + hT0(t, r))*Y(θ, ϕ)*sin(θ)^2 + (hE2(t, r) - 2*ξE(t, r))*cos(θ)*sin(θ)*d(Y)/dθ - hE2(t, r)*sin(θ)^2*d^2(Y)/dθ^2 + (hE2(t, r) - 2*ξE(t, r))*d^2(Y)/dϕ^2]"
      ]
     },
     "execution_count": 33,
     "metadata": {},
     "output_type": "execute_result"
    }
   ],
   "source": [
    "h_pol = RW.metric('h_pol', latex_name=r'(h^{\\rm{polar}})')\n",
    "h_pol[:] = (h0_pol - DDξ_pol)[:]\n",
    "h_pol.apply_map(lambda q:q.expand().substitute_function(from_XW).full_simplify())\n",
    "to_table({'h_polar:':h_pol[:]})"
   ]
  },
  {
   "cell_type": "code",
   "execution_count": 34,
   "id": "1818d4d9-5431-4a18-a246-3a0d66393558",
   "metadata": {},
   "outputs": [
    {
     "data": {
      "text/html": [
       "<div class=\"notruncate\">\n",
       "<table  class=\"table_form\">\n",
       "<tbody>\n",
       "<tr class =\"row-a\">\n",
       "<td class=\"ch\"{style_attr}>\\(ξ_{lm}^{t}\\left(t, r\\right)\\)</td>\n",
       "<td style=\"text-align:left\">\\(\\textit{h}_{lm}^{Et}\\left(t, r\\right) - \\frac{\\partial}{\\partial t}ξ_{lm}^{E}\\left(t, r\\right)\\)</td>\n",
       "</tr>\n",
       "</tbody>\n",
       "</table>\n",
       "</div>"
      ],
      "text/plain": [
       "  ξt(t, r) | hEt(t, r) - diff(ξE(t, r), t)"
      ]
     },
     "metadata": {},
     "output_type": "display_data"
    },
    {
     "data": {
      "text/html": [
       "<div class=\"notruncate\">\n",
       "<table  class=\"table_form\">\n",
       "<tbody>\n",
       "<tr class =\"row-a\">\n",
       "<td class=\"ch\"{style_attr}>\\(ξ_{lm}^{R}\\left(t, r\\right)\\)</td>\n",
       "<td style=\"text-align:left\">\\(\\frac{r \\textit{h}_{lm}^{E1}\\left(t, r\\right) - r \\frac{\\partial}{\\partial r}ξ_{lm}^{E}\\left(t, r\\right) + 2 \\, ξ_{lm}^{E}\\left(t, r\\right)}{r}\\)</td>\n",
       "</tr>\n",
       "</tbody>\n",
       "</table>\n",
       "</div>"
      ],
      "text/plain": [
       "  ξR(t, r) | (r*hE1(t, r) - r*diff(ξE(t, r), r) + 2*ξE(t, r))/r"
      ]
     },
     "metadata": {},
     "output_type": "display_data"
    },
    {
     "data": {
      "text/html": [
       "<div class=\"notruncate\">\n",
       "<table  class=\"table_form\">\n",
       "<tbody>\n",
       "<tr class =\"row-a\">\n",
       "<td class=\"ch\"{style_attr}>\\(ξ_{lm}^{E}\\left(t, r\\right)\\)</td>\n",
       "<td style=\"text-align:left\">\\(\\textit{h}_{lm}^{E2}\\left(t, r\\right)\\)</td>\n",
       "</tr>\n",
       "</tbody>\n",
       "</table>\n",
       "</div>"
      ],
      "text/plain": [
       "  ξE(t, r) | hE2(t, r)"
      ]
     },
     "metadata": {},
     "output_type": "display_data"
    },
    {
     "data": {
      "text/html": [
       "<div class=\"notruncate\">\n",
       "<table  class=\"table_form\">\n",
       "<tbody>\n",
       "<tr class =\"row-a\">\n",
       "<td class=\"ch\"{style_attr}>\\(\\textit{h}_{lm}^{E2}\\left(t, r\\right)\\)</td>\n",
       "<td style=\"text-align:left\">\\(0\\)</td>\n",
       "</tr>\n",
       "<tr class =\"row-b\">\n",
       "<td class=\"ch\"{style_attr}>\\(\\frac{\\partial}{\\partial t}\\textit{h}_{lm}^{E2}\\left(t, r\\right)\\)</td>\n",
       "<td style=\"text-align:left\">\\(0\\)</td>\n",
       "</tr>\n",
       "<tr class =\"row-a\">\n",
       "<td class=\"ch\"{style_attr}>\\(\\frac{\\partial}{\\partial r}\\textit{h}_{lm}^{E2}\\left(t, r\\right)\\)</td>\n",
       "<td style=\"text-align:left\">\\(0\\)</td>\n",
       "</tr>\n",
       "</tbody>\n",
       "</table>\n",
       "</div>"
      ],
      "text/plain": [
       "  hE2(t, r)          | 0\n",
       "  diff(hE2(t, r), t) | 0\n",
       "  diff(hE2(t, r), r) | 0"
      ]
     },
     "metadata": {},
     "output_type": "display_data"
    },
    {
     "data": {
      "text/html": [
       "<div class=\"notruncate\">\n",
       "<table  class=\"table_form\">\n",
       "<tbody>\n",
       "<tr class =\"row-a\">\n",
       "<td class=\"ch\"{style_attr}>\\(\\textit{h}_{lm}^{E1}\\left(t, r\\right)\\)</td>\n",
       "<td style=\"text-align:left\">\\(0\\)</td>\n",
       "</tr>\n",
       "<tr class =\"row-b\">\n",
       "<td class=\"ch\"{style_attr}>\\(\\frac{\\partial}{\\partial t}\\textit{h}_{lm}^{E1}\\left(t, r\\right)\\)</td>\n",
       "<td style=\"text-align:left\">\\(0\\)</td>\n",
       "</tr>\n",
       "<tr class =\"row-a\">\n",
       "<td class=\"ch\"{style_attr}>\\(\\frac{\\partial}{\\partial r}\\textit{h}_{lm}^{E1}\\left(t, r\\right)\\)</td>\n",
       "<td style=\"text-align:left\">\\(0\\)</td>\n",
       "</tr>\n",
       "</tbody>\n",
       "</table>\n",
       "</div>"
      ],
      "text/plain": [
       "  hE1(t, r)          | 0\n",
       "  diff(hE1(t, r), t) | 0\n",
       "  diff(hE1(t, r), r) | 0"
      ]
     },
     "metadata": {},
     "output_type": "display_data"
    },
    {
     "data": {
      "text/html": [
       "<div class=\"notruncate\">\n",
       "<table  class=\"table_form\">\n",
       "<tbody>\n",
       "<tr class =\"row-a\">\n",
       "<td class=\"ch\"{style_attr}>\\(\\textit{h}_{lm}^{Et}\\left(t, r\\right)\\)</td>\n",
       "<td style=\"text-align:left\">\\(0\\)</td>\n",
       "</tr>\n",
       "<tr class =\"row-b\">\n",
       "<td class=\"ch\"{style_attr}>\\(\\frac{\\partial}{\\partial t}\\textit{h}_{lm}^{Et}\\left(t, r\\right)\\)</td>\n",
       "<td style=\"text-align:left\">\\(0\\)</td>\n",
       "</tr>\n",
       "<tr class =\"row-a\">\n",
       "<td class=\"ch\"{style_attr}>\\(\\frac{\\partial}{\\partial r}\\textit{h}_{lm}^{Et}\\left(t, r\\right)\\)</td>\n",
       "<td style=\"text-align:left\">\\(0\\)</td>\n",
       "</tr>\n",
       "</tbody>\n",
       "</table>\n",
       "</div>"
      ],
      "text/plain": [
       "  hEt(t, r)          | 0\n",
       "  diff(hEt(t, r), t) | 0\n",
       "  diff(hEt(t, r), r) | 0"
      ]
     },
     "metadata": {},
     "output_type": "display_data"
    },
    {
     "data": {
      "text/html": [
       "<div class=\"notruncate\">\n",
       "<table  class=\"table_form\">\n",
       "<tbody>\n",
       "<tr class =\"row-a\">\n",
       "<td class=\"ch\"{style_attr}>\\(\\frac{\\partial^{2}}{(\\partial t)^{2}}\\textit{h}_{lm}^{E2}\\left(t, r\\right)\\)</td>\n",
       "<td style=\"text-align:left\">\\(0\\)</td>\n",
       "</tr>\n",
       "<tr class =\"row-b\">\n",
       "<td class=\"ch\"{style_attr}>\\(\\frac{\\partial^{2}}{\\partial t\\partial r}\\textit{h}_{lm}^{E2}\\left(t, r\\right)\\)</td>\n",
       "<td style=\"text-align:left\">\\(0\\)</td>\n",
       "</tr>\n",
       "<tr class =\"row-a\">\n",
       "<td class=\"ch\"{style_attr}>\\(\\frac{\\partial^{2}}{(\\partial r)^{2}}\\textit{h}_{lm}^{E2}\\left(t, r\\right)\\)</td>\n",
       "<td style=\"text-align:left\">\\(0\\)</td>\n",
       "</tr>\n",
       "</tbody>\n",
       "</table>\n",
       "</div>"
      ],
      "text/plain": [
       "  diff(hE2(t, r), t, t) | 0\n",
       "  diff(hE2(t, r), t, r) | 0\n",
       "  diff(hE2(t, r), r, r) | 0"
      ]
     },
     "metadata": {},
     "output_type": "display_data"
    }
   ],
   "source": [
    "gauge_pol = [solve(h_pol[3,q[0]].expr(),ξ[q[1]],solution_dict=True)[0] for q in enumerate(['t','R','E'])]\n",
    "for q in ['E2','E1','Et']: gauge_pol.append({diff(hlm[q],k):0 for k in [0,t,r]})\n",
    "gauge_pol.append({diff(hlm['E2'],*k):0 for k in [(t,t),(t,r),(r,r)]})\n",
    "for k in gauge_pol:\n",
    "    show(to_table(k))"
   ]
  },
  {
   "cell_type": "code",
   "execution_count": 35,
   "id": "bb0e9fa8-99d0-4327-9836-a306ba935b01",
   "metadata": {},
   "outputs": [
    {
     "data": {
      "text/html": [
       "<div class=\"notruncate\">\n",
       "<table  class=\"table_form\">\n",
       "<tbody>\n",
       "<tr class =\"row-a\">\n",
       "<td class=\"ch\"{style_attr}>h_polar (gauged):</td>\n",
       "<td style=\"text-align:left\">\\(\\left(\\begin{array}{rrrr}\n",
       "Y_l^m\\left(θ, ϕ\\right) \\textit{h}_{lm}^{tt}\\left(t, r\\right) & Y_l^m\\left(θ, ϕ\\right) \\textit{h}_{lm}^{Rt}\\left(t, r\\right) & 0 & 0 \\\\\n",
       "Y_l^m\\left(θ, ϕ\\right) \\textit{h}_{lm}^{Rt}\\left(t, r\\right) & Y_l^m\\left(θ, ϕ\\right) \\textit{h}_{lm}^{L0}\\left(t, r\\right) & 0 & 0 \\\\\n",
       "0 & 0 & Y_l^m\\left(θ, ϕ\\right) \\textit{h}_{lm}^{T0}\\left(t, r\\right) & 0 \\\\\n",
       "0 & 0 & 0 & Y_l^m\\left(θ, ϕ\\right) \\textit{h}_{lm}^{T0}\\left(t, r\\right) \\sin\\left(θ\\right)^{2}\n",
       "\\end{array}\\right)\\)</td>\n",
       "</tr>\n",
       "</tbody>\n",
       "</table>\n",
       "</div>"
      ],
      "text/plain": [
       "  h_polar (gauged): | [         Y(θ, ϕ)*htt(t, r)          Y(θ, ϕ)*hRt(t, r)                          0                          0]\n",
       "[         Y(θ, ϕ)*hRt(t, r)          Y(θ, ϕ)*hL0(t, r)                          0                          0]\n",
       "[                         0                          0          Y(θ, ϕ)*hT0(t, r)                          0]\n",
       "[                         0                          0                          0 Y(θ, ϕ)*hT0(t, r)*sin(θ)^2]"
      ]
     },
     "execution_count": 35,
     "metadata": {},
     "output_type": "execute_result"
    }
   ],
   "source": [
    "for k in gauge_pol[:3]: h_pol.apply_map(lambda q:q.substitute_function(k))\n",
    "for k in gauge_pol[3:]: h_pol.apply_map(lambda q:q.subs(k))\n",
    "to_table({'h_polar (gauged):':h_pol[:]})"
   ]
  },
  {
   "cell_type": "markdown",
   "id": "609b90b0-30ab-4201-ab21-806281343916",
   "metadata": {},
   "source": [
    "### General form"
   ]
  },
  {
   "cell_type": "code",
   "execution_count": 36,
   "id": "aabe2f8a-8307-47a8-92ea-f62d4ba9a751",
   "metadata": {},
   "outputs": [
    {
     "data": {
      "text/html": [
       "<div class=\"notruncate\">\n",
       "<table  class=\"table_form\">\n",
       "<tbody>\n",
       "<tr class =\"row-a\">\n",
       "<td class=\"ch\"{style_attr}>g + h_axial + h_polar:</td>\n",
       "<td style=\"text-align:left\">\\(\\left(\\begin{array}{rrrr}\n",
       "\\epsilon Y_l^m\\left(θ, ϕ\\right) \\textit{h}_{lm}^{tt}\\left(t, r\\right) + \\frac{2 \\, M}{r} - 1 & \\epsilon Y_l^m\\left(θ, ϕ\\right) \\textit{h}_{lm}^{Rt}\\left(t, r\\right) & \\frac{\\mathit{ax} \\epsilon \\textit{h}_{lm}^{Bt}\\left(t, r\\right) \\frac{\\partial\\,Y_l^m}{\\partial ϕ}}{\\sin\\left(θ\\right)} & -\\mathit{ax} \\epsilon \\textit{h}_{lm}^{Bt}\\left(t, r\\right) \\sin\\left(θ\\right) \\frac{\\partial\\,Y_l^m}{\\partial θ} \\\\\n",
       "\\epsilon Y_l^m\\left(θ, ϕ\\right) \\textit{h}_{lm}^{Rt}\\left(t, r\\right) & \\epsilon Y_l^m\\left(θ, ϕ\\right) \\textit{h}_{lm}^{L0}\\left(t, r\\right) - \\frac{1}{\\frac{2 \\, M}{r} - 1} & \\frac{\\mathit{ax} \\epsilon \\textit{h}_{lm}^{B1}\\left(t, r\\right) \\frac{\\partial\\,Y_l^m}{\\partial ϕ}}{\\sin\\left(θ\\right)} & -\\mathit{ax} \\epsilon \\textit{h}_{lm}^{B1}\\left(t, r\\right) \\sin\\left(θ\\right) \\frac{\\partial\\,Y_l^m}{\\partial θ} \\\\\n",
       "\\frac{\\mathit{ax} \\epsilon \\textit{h}_{lm}^{Bt}\\left(t, r\\right) \\frac{\\partial\\,Y_l^m}{\\partial ϕ}}{\\sin\\left(θ\\right)} & \\frac{\\mathit{ax} \\epsilon \\textit{h}_{lm}^{B1}\\left(t, r\\right) \\frac{\\partial\\,Y_l^m}{\\partial ϕ}}{\\sin\\left(θ\\right)} & \\epsilon Y_l^m\\left(θ, ϕ\\right) \\textit{h}_{lm}^{T0}\\left(t, r\\right) + r^{2} & 0 \\\\\n",
       "-\\mathit{ax} \\epsilon \\textit{h}_{lm}^{Bt}\\left(t, r\\right) \\sin\\left(θ\\right) \\frac{\\partial\\,Y_l^m}{\\partial θ} & -\\mathit{ax} \\epsilon \\textit{h}_{lm}^{B1}\\left(t, r\\right) \\sin\\left(θ\\right) \\frac{\\partial\\,Y_l^m}{\\partial θ} & 0 & \\epsilon Y_l^m\\left(θ, ϕ\\right) \\textit{h}_{lm}^{T0}\\left(t, r\\right) \\sin\\left(θ\\right)^{2} + r^{2} \\sin\\left(θ\\right)^{2}\n",
       "\\end{array}\\right)\\)</td>\n",
       "</tr>\n",
       "</tbody>\n",
       "</table>\n",
       "</div>"
      ],
      "text/plain": [
       "  g + h_axial + h_polar: | [            epsilon*Y(θ, ϕ)*htt(t, r) + 2*M/r - 1                         epsilon*Y(θ, ϕ)*hRt(t, r)               ax*epsilon*hBt(t, r)*d(Y)/dϕ/sin(θ)              -ax*epsilon*hBt(t, r)*sin(θ)*d(Y)/dθ]\n",
       "[                        epsilon*Y(θ, ϕ)*hRt(t, r)         epsilon*Y(θ, ϕ)*hL0(t, r) - 1/(2*M/r - 1)               ax*epsilon*hB1(t, r)*d(Y)/dϕ/sin(θ)              -ax*epsilon*hB1(t, r)*sin(θ)*d(Y)/dθ]\n",
       "[              ax*epsilon*hBt(t, r)*d(Y)/dϕ/sin(θ)               ax*epsilon*hB1(t, r)*d(Y)/dϕ/sin(θ)                   epsilon*Y(θ, ϕ)*hT0(t, r) + r^2                                                 0]\n",
       "[             -ax*epsilon*hBt(t, r)*sin(θ)*d(Y)/dθ              -ax*epsilon*hB1(t, r)*sin(θ)*d(Y)/dθ                                                 0 epsilon*Y(θ, ϕ)*hT0(t, r)*sin(θ)^2 + r^2*sin(θ)^2]"
      ]
     },
     "execution_count": 36,
     "metadata": {},
     "output_type": "execute_result"
    }
   ],
   "source": [
    "ep = var('epsilon')\n",
    "ax = var('ax')\n",
    "h_pert = ep*(h_pol + ax*h_ax)\n",
    "g_pert_0 = RW.metric('g_pert', latex_name=(r'(g_{\\mathrm{perturbed}})'))\n",
    "g_pert_0[:] = (g + h_pert)[:]\n",
    "to_table({'g + h_axial + h_polar:':g_pert_0[:]})"
   ]
  },
  {
   "cell_type": "code",
   "execution_count": 37,
   "id": "84118095-2e81-4a08-9521-bf0c786a19e1",
   "metadata": {},
   "outputs": [
    {
     "data": {
      "text/html": [
       "<div class=\"notruncate\">\n",
       "<table  class=\"table_form\">\n",
       "<tbody>\n",
       "<tr class =\"row-a\">\n",
       "<td class=\"ch\"{style_attr}>\\(\\textit{h}_{lm}^{tt}\\left(t, r\\right)\\)</td>\n",
       "<td style=\"text-align:left\">\\(-{\\left(\\frac{2 \\, M}{r} - 1\\right)} H_{lm}^{(0)}\\left(t, r\\right)\\)</td>\n",
       "</tr>\n",
       "<tr class =\"row-b\">\n",
       "<td class=\"ch\"{style_attr}>\\(\\textit{h}_{lm}^{L0}\\left(t, r\\right)\\)</td>\n",
       "<td style=\"text-align:left\">\\(-\\frac{H_{lm}^{(2)}\\left(t, r\\right)}{\\frac{2 \\, M}{r} - 1}\\)</td>\n",
       "</tr>\n",
       "<tr class =\"row-a\">\n",
       "<td class=\"ch\"{style_attr}>\\(\\textit{h}_{lm}^{T0}\\left(t, r\\right)\\)</td>\n",
       "<td style=\"text-align:left\">\\(r^{2} K_{lm}\\left(t, r\\right)\\)</td>\n",
       "</tr>\n",
       "<tr class =\"row-b\">\n",
       "<td class=\"ch\"{style_attr}>\\(\\textit{h}_{lm}^{Rt}\\left(t, r\\right)\\)</td>\n",
       "<td style=\"text-align:left\">\\(H_{lm}^{(1)}\\left(t, r\\right)\\)</td>\n",
       "</tr>\n",
       "<tr class =\"row-a\">\n",
       "<td class=\"ch\"{style_attr}>\\(\\textit{h}_{lm}^{Bt}\\left(t, r\\right)\\)</td>\n",
       "<td style=\"text-align:left\">\\(-h_{lm}^{(0)}\\left(t, r\\right)\\)</td>\n",
       "</tr>\n",
       "<tr class =\"row-b\">\n",
       "<td class=\"ch\"{style_attr}>\\(\\textit{h}_{lm}^{B1}\\left(t, r\\right)\\)</td>\n",
       "<td style=\"text-align:left\">\\(-h_{lm}^{(1)}\\left(t, r\\right)\\)</td>\n",
       "</tr>\n",
       "</tbody>\n",
       "</table>\n",
       "</div>"
      ],
      "text/plain": [
       "  htt(t, r) | -(2*M/r - 1)*H0(t, r)\n",
       "  hL0(t, r) | -H2(t, r)/(2*M/r - 1)\n",
       "  hT0(t, r) | r^2*K(t, r)\n",
       "  hRt(t, r) | H1(t, r)\n",
       "  hBt(t, r) | -h0(t, r)\n",
       "  hB1(t, r) | -h1(t, r)"
      ]
     },
     "execution_count": 37,
     "metadata": {},
     "output_type": "execute_result"
    }
   ],
   "source": [
    "new_functions = {hlm['tt']:-g[0,0].expr()*function('H0', latex_name=r'H_{lm}^{(0)}')(t,r),\n",
    "                 hlm['L0']:g[1,1].expr()*function('H2', latex_name=r'H_{lm}^{(2)}')(t,r),\n",
    "                 hlm['T0']:g[2,2].expr()*function('K', latex_name=r'K_{lm}')(t,r),\n",
    "                 hlm['Rt']:function('H1', latex_name=r'H_{lm}^{(1)}')(t,r),\n",
    "                 hlm['Bt']:-1*function('h0', latex_name=r'h_{lm}^{(0)}')(t,r),\n",
    "                 hlm['B1']:-1*function('h1', latex_name=r'h_{lm}^{(1)}')(t,r)\n",
    "                }\n",
    "to_table(new_functions)"
   ]
  },
  {
   "cell_type": "code",
   "execution_count": 38,
   "id": "9774e256-4c6d-4151-84f4-2396a9594c72",
   "metadata": {},
   "outputs": [
    {
     "data": {
      "text/html": [
       "<div class=\"notruncate\">\n",
       "<table  class=\"table_form\">\n",
       "<tbody>\n",
       "<tr class =\"row-a\">\n",
       "<td class=\"ch\"{style_attr}>g + h_axial + h_polar:</td>\n",
       "<td style=\"text-align:left\">\\(\\left(\\begin{array}{rrrr}\n",
       "-\\epsilon {\\left(\\frac{2 \\, M}{r} - 1\\right)} H_{lm}^{(0)}\\left(t, r\\right) Y_l^m\\left(θ, ϕ\\right) + \\frac{2 \\, M}{r} - 1 & \\epsilon H_{lm}^{(1)}\\left(t, r\\right) Y_l^m\\left(θ, ϕ\\right) & -\\frac{\\mathit{ax} \\epsilon h_{lm}^{(0)}\\left(t, r\\right) \\frac{\\partial\\,Y_l^m}{\\partial ϕ}}{\\sin\\left(θ\\right)} & \\mathit{ax} \\epsilon h_{lm}^{(0)}\\left(t, r\\right) \\sin\\left(θ\\right) \\frac{\\partial\\,Y_l^m}{\\partial θ} \\\\\n",
       "\\epsilon H_{lm}^{(1)}\\left(t, r\\right) Y_l^m\\left(θ, ϕ\\right) & -\\frac{\\epsilon H_{lm}^{(2)}\\left(t, r\\right) Y_l^m\\left(θ, ϕ\\right)}{\\frac{2 \\, M}{r} - 1} - \\frac{1}{\\frac{2 \\, M}{r} - 1} & -\\frac{\\mathit{ax} \\epsilon h_{lm}^{(1)}\\left(t, r\\right) \\frac{\\partial\\,Y_l^m}{\\partial ϕ}}{\\sin\\left(θ\\right)} & \\mathit{ax} \\epsilon h_{lm}^{(1)}\\left(t, r\\right) \\sin\\left(θ\\right) \\frac{\\partial\\,Y_l^m}{\\partial θ} \\\\\n",
       "-\\frac{\\mathit{ax} \\epsilon h_{lm}^{(0)}\\left(t, r\\right) \\frac{\\partial\\,Y_l^m}{\\partial ϕ}}{\\sin\\left(θ\\right)} & -\\frac{\\mathit{ax} \\epsilon h_{lm}^{(1)}\\left(t, r\\right) \\frac{\\partial\\,Y_l^m}{\\partial ϕ}}{\\sin\\left(θ\\right)} & \\epsilon r^{2} K_{lm}\\left(t, r\\right) Y_l^m\\left(θ, ϕ\\right) + r^{2} & 0 \\\\\n",
       "\\mathit{ax} \\epsilon h_{lm}^{(0)}\\left(t, r\\right) \\sin\\left(θ\\right) \\frac{\\partial\\,Y_l^m}{\\partial θ} & \\mathit{ax} \\epsilon h_{lm}^{(1)}\\left(t, r\\right) \\sin\\left(θ\\right) \\frac{\\partial\\,Y_l^m}{\\partial θ} & 0 & \\epsilon r^{2} K_{lm}\\left(t, r\\right) Y_l^m\\left(θ, ϕ\\right) \\sin\\left(θ\\right)^{2} + r^{2} \\sin\\left(θ\\right)^{2}\n",
       "\\end{array}\\right)\\)</td>\n",
       "</tr>\n",
       "</tbody>\n",
       "</table>\n",
       "</div>"
      ],
      "text/plain": [
       "  g + h_axial + h_polar: | [    -epsilon*(2*M/r - 1)*H0(t, r)*Y(θ, ϕ) + 2*M/r - 1                              epsilon*H1(t, r)*Y(θ, ϕ)                   -ax*epsilon*h0(t, r)*d(Y)/dϕ/sin(θ)                    ax*epsilon*h0(t, r)*sin(θ)*d(Y)/dθ]\n",
       "[                             epsilon*H1(t, r)*Y(θ, ϕ) -epsilon*H2(t, r)*Y(θ, ϕ)/(2*M/r - 1) - 1/(2*M/r - 1)                   -ax*epsilon*h1(t, r)*d(Y)/dϕ/sin(θ)                    ax*epsilon*h1(t, r)*sin(θ)*d(Y)/dθ]\n",
       "[                  -ax*epsilon*h0(t, r)*d(Y)/dϕ/sin(θ)                   -ax*epsilon*h1(t, r)*d(Y)/dϕ/sin(θ)                     epsilon*r^2*K(t, r)*Y(θ, ϕ) + r^2                                                     0]\n",
       "[                   ax*epsilon*h0(t, r)*sin(θ)*d(Y)/dθ                    ax*epsilon*h1(t, r)*sin(θ)*d(Y)/dθ                                                     0   epsilon*r^2*K(t, r)*Y(θ, ϕ)*sin(θ)^2 + r^2*sin(θ)^2]"
      ]
     },
     "execution_count": 38,
     "metadata": {},
     "output_type": "execute_result"
    }
   ],
   "source": [
    "h_pert.apply_map(lambda q: q.subs(new_functions))\n",
    "to_table({'g + h_axial + h_polar:':(g+h_pert)[:]})"
   ]
  },
  {
   "cell_type": "markdown",
   "id": "c8bd21c3-96d3-4434-8ce2-632a2bb35752",
   "metadata": {},
   "source": [
    "### RW gauge checker"
   ]
  },
  {
   "cell_type": "code",
   "execution_count": 39,
   "id": "5245b8d6-371b-4845-a998-b377b218789a",
   "metadata": {},
   "outputs": [
    {
     "data": {
      "text/html": [
       "<html>\\(\\displaystyle \\mathrm{True}\\)</html>"
      ],
      "text/latex": [
       "$\\displaystyle \\mathrm{True}$"
      ],
      "text/plain": [
       "True"
      ]
     },
     "metadata": {},
     "output_type": "display_data"
    },
    {
     "data": {
      "text/html": [
       "<html>\\(\\displaystyle \\mathrm{True}\\)</html>"
      ],
      "text/latex": [
       "$\\displaystyle \\mathrm{True}$"
      ],
      "text/plain": [
       "True"
      ]
     },
     "metadata": {},
     "output_type": "display_data"
    }
   ],
   "source": [
    "show(h_pert[2,3]==0)\n",
    "show(h_pert[3,3]==sin(θ)^2*h_pert[2,2])"
   ]
  },
  {
   "cell_type": "code",
   "execution_count": 40,
   "id": "b088a086-afee-4d25-ac35-37c14f75ead1",
   "metadata": {},
   "outputs": [
    {
     "data": {
      "text/html": [
       "<html>\\(\\displaystyle \\mathrm{True}\\)</html>"
      ],
      "text/latex": [
       "$\\displaystyle \\mathrm{True}$"
      ],
      "text/plain": [
       "True"
      ]
     },
     "metadata": {},
     "output_type": "display_data"
    },
    {
     "data": {
      "text/html": [
       "<html>\\(\\displaystyle \\mathrm{True}\\)</html>"
      ],
      "text/latex": [
       "$\\displaystyle \\mathrm{True}$"
      ],
      "text/plain": [
       "True"
      ]
     },
     "metadata": {},
     "output_type": "display_data"
    }
   ],
   "source": [
    "for q in [0,1]:\n",
    "    show(diff(h_pert[q,3],ϕ)==-sin(θ)*diff(h_pert[q,2]*sin(θ),θ))"
   ]
  },
  {
   "cell_type": "code",
   "execution_count": 41,
   "id": "eb1b7a93-0f22-49cd-bb24-9c3cca4a6758",
   "metadata": {},
   "outputs": [
    {
     "name": "stdout",
     "output_type": "stream",
     "text": [
      "Total time elapsed until the end of stage 0: 00:00:55\n"
     ]
    }
   ],
   "source": [
    "stage_time()"
   ]
  },
  {
   "cell_type": "markdown",
   "id": "9b43ea40-8db7-4ae7-83eb-eb37656260b7",
   "metadata": {
    "tags": []
   },
   "source": [
    "## Field equations"
   ]
  },
  {
   "cell_type": "markdown",
   "id": "ab58298d-6307-4992-9805-96f0015f548e",
   "metadata": {},
   "source": [
    "$$(G_\\mathrm{linear})_{\\alpha\\beta} = \\frac12\\left(\\nabla^\\mu\\nabla_\\beta \\bar{h}_{\\alpha\\mu} + \\nabla^\\mu\\nabla_\\alpha \\bar{h}_{\\beta\\mu} - \\square\\bar{h}_{\\mu\\nu} - g_{\\alpha\\beta}\\nabla^\\mu\\nabla^\\nu \\bar{h}_{\\mu\\nu}\\right)$$\n",
    "$$\\bar{h}_{\\alpha\\beta} = {h}_{\\alpha\\beta}-\\frac12 g_{\\alpha\\beta}h$$"
   ]
  },
  {
   "cell_type": "code",
   "execution_count": 42,
   "id": "a60c6a9a-e19a-40ec-a058-f1f5f2e1827e",
   "metadata": {},
   "outputs": [],
   "source": [
    "h_ax.apply_map(lambda q: q.subs(new_functions))\n",
    "# h_ax = h_pert\n",
    "hb_ax = h_ax - 1/2*g*(h_ax.up(g,0).trace())"
   ]
  },
  {
   "cell_type": "code",
   "execution_count": 43,
   "id": "fc5799e4-dff8-4f1e-9c58-5f10e1d76905",
   "metadata": {},
   "outputs": [
    {
     "name": "stdout",
     "output_type": "stream",
     "text": [
      "CPU times: user 274 ms, sys: 11.2 ms, total: 285 ms\n",
      "Wall time: 284 ms\n"
     ]
    }
   ],
   "source": [
    "%time G_dal = hb_ax.dalembertian(g)"
   ]
  },
  {
   "cell_type": "code",
   "execution_count": 44,
   "id": "95f4c1bd-b498-41f7-a7bf-4e293386830c",
   "metadata": {},
   "outputs": [
    {
     "name": "stdout",
     "output_type": "stream",
     "text": [
      "CPU times: user 161 ms, sys: 850 µs, total: 162 ms\n",
      "Wall time: 142 ms\n"
     ]
    }
   ],
   "source": [
    "%time G_div = g*hb_ax.div(g).div(g)"
   ]
  },
  {
   "cell_type": "code",
   "execution_count": 45,
   "id": "4db8ce3a-5fbe-4fbe-9d37-39db7e524a1d",
   "metadata": {},
   "outputs": [
    {
     "name": "stdout",
     "output_type": "stream",
     "text": [
      "CPU times: user 122 ms, sys: 3.81 ms, total: 126 ms\n",
      "Wall time: 126 ms\n"
     ]
    }
   ],
   "source": [
    "%time G_sym = (nabla(nabla(hb_ax)).up(g,3)['_bac^a']).symmetrize()"
   ]
  },
  {
   "cell_type": "code",
   "execution_count": 46,
   "id": "ea9bedd4-1956-4ff7-a320-32bfb5255b20",
   "metadata": {},
   "outputs": [
    {
     "name": "stdout",
     "output_type": "stream",
     "text": [
      "CPU times: user 1.59 ms, sys: 0 ns, total: 1.59 ms\n",
      "Wall time: 1.6 ms\n"
     ]
    }
   ],
   "source": [
    "%time G = G_sym - 1/2*(G_dal + G_div)\n",
    "# G.set_name('G')\n",
    "# show(G.display_comp(only_nonredundant=True))"
   ]
  },
  {
   "cell_type": "code",
   "execution_count": 47,
   "id": "424ad860-5ca4-40ea-8fd4-a2baca9a6a2b",
   "metadata": {},
   "outputs": [
    {
     "name": "stdout",
     "output_type": "stream",
     "text": [
      "Total time elapsed until the end of stage 1: 00:00:57\n"
     ]
    }
   ],
   "source": [
    "stage_time()"
   ]
  },
  {
   "cell_type": "code",
   "execution_count": 48,
   "id": "d9476d4c-e7f9-4706-9c35-7fa85324f7d9",
   "metadata": {},
   "outputs": [],
   "source": [
    "Gp = G.copy()\n",
    "Gp.set_name('(Gp)')\n",
    "# G.apply_map(lambda q: q.subs(to_XW).expand().trig_simplify().factor())\n",
    "for q in (2,3):\n",
    "    for k in (2,3):\n",
    "        Gp[q,k] = Gp[q,k].expr().subs(to_XW).expand().trig_simplify().factor()\n",
    "# show(Gp.display_comp(only_nonredundant=True))"
   ]
  },
  {
   "cell_type": "code",
   "execution_count": 49,
   "id": "7f87d4f6-b068-41d9-af9c-eb6b5306faae",
   "metadata": {},
   "outputs": [
    {
     "data": {
      "text/html": [
       "<div class=\"notruncate\">\n",
       "<table  class=\"table_form\">\n",
       "<tbody>\n",
       "<tr class =\"row-a\">\n",
       "<td class=\"ch\"{style_attr}>\\(\\frac{\\partial}{\\partial t}h_{lm}^{(0)}\\left(t, r\\right)\\)</td>\n",
       "<td style=\"text-align:left\">\\(-\\frac{2 \\, {\\left(2 \\, M^{2} - M r\\right)} h_{lm}^{(1)}\\left(t, r\\right) - {\\left(4 \\, M^{2} r - 4 \\, M r^{2} + r^{3}\\right)} \\frac{\\partial}{\\partial r}h_{lm}^{(1)}\\left(t, r\\right)}{r^{3}}\\)</td>\n",
       "</tr>\n",
       "<tr class =\"row-b\">\n",
       "<td class=\"ch\"{style_attr}>\\(\\frac{\\partial^{2}}{\\partial t\\partial r}h_{lm}^{(0)}\\left(t, r\\right)\\)</td>\n",
       "<td style=\"text-align:left\">\\(\\frac{2 \\, M h_{lm}^{(1)}\\left(t, r\\right) + {\\left(4 \\, M^{2} - 8 \\, M r + 3 \\, r^{2}\\right)} \\frac{\\partial}{\\partial r}h_{lm}^{(1)}\\left(t, r\\right) - 2 \\, {\\left(2 \\, M^{2} - M r\\right)} \\frac{\\partial}{\\partial r}h_{lm}^{(1)}\\left(t, r\\right) + {\\left(4 \\, M^{2} r - 4 \\, M r^{2} + r^{3}\\right)} \\frac{\\partial^{2}}{(\\partial r)^{2}}h_{lm}^{(1)}\\left(t, r\\right)}{r^{3}} + \\frac{3 \\, {\\left(2 \\, {\\left(2 \\, M^{2} - M r\\right)} h_{lm}^{(1)}\\left(t, r\\right) - {\\left(4 \\, M^{2} r - 4 \\, M r^{2} + r^{3}\\right)} \\frac{\\partial}{\\partial r}h_{lm}^{(1)}\\left(t, r\\right)\\right)}}{r^{4}}\\)</td>\n",
       "</tr>\n",
       "</tbody>\n",
       "</table>\n",
       "</div>"
      ],
      "text/plain": [
       "  diff(h0(t, r), t)    | -(2*(2*M^2 - M*r)*h1(t, r) - (4*M^2*r - 4*M*r^2 + r^3)*diff(h1(t, r), r))/r^3\n",
       "  diff(h0(t, r), t, r) | (2*M*h1(t, r) + (4*M^2 - 8*M*r + 3*r^2)*diff(h1(t, r), r) - 2*(2*M^2 - M*r)*diff(h1(t, r), r) + (4*M^2*r - 4*M*r^2 + r^3)*diff(h1(t, r), r, r))/r^3 + 3*(2*(2*M^2 - M*r)*h1(t, r) - (4*M^2*r - 4*M*r^2 + r^3)*diff(h1(t, r), r))/r^4"
      ]
     },
     "execution_count": 49,
     "metadata": {},
     "output_type": "execute_result"
    }
   ],
   "source": [
    "# G_θϕ = (-2*G[2,3]/(W*sin(θ))).expand()\n",
    "# show(G_θϕ)\n",
    "sol_h0 = solve(G[2,3].expr(),diff(h0(t,r),t), solution_dict=True)[0]\n",
    "for q in (2,3):\n",
    "    for k in (2,3):\n",
    "        Gp[q,k] = Gp[q,k].expr().subs(sol_h0).expand().trig_simplify().factor()\n",
    "sol_h0.update({diff(list(sol_h0.keys())[0],r):diff(list(sol_h0.values())[0],r)})\n",
    "to_table(sol_h0)"
   ]
  },
  {
   "cell_type": "code",
   "execution_count": 50,
   "id": "c6495b67-d613-4ce6-90b5-a8c4f9a237d5",
   "metadata": {},
   "outputs": [
    {
     "data": {
      "text/html": [
       "<div class=\"notruncate\">\n",
       "<table  class=\"table_form\">\n",
       "<tbody>\n",
       "<tr class =\"row-a\">\n",
       "<td class=\"ch\"{style_attr}>\\(\\frac{\\partial^{3}}{(\\partial ϕ)^{3}}Y_l^m\\left(θ, ϕ\\right)\\)</td>\n",
       "<td style=\"text-align:left\">\\(-i \\, m^{3} Y_l^m\\left(θ, ϕ\\right)\\)</td>\n",
       "</tr>\n",
       "<tr class =\"row-b\">\n",
       "<td class=\"ch\"{style_attr}>\\(\\frac{\\partial^{3}}{\\partial θ(\\partial ϕ)^{2}}Y_l^m\\left(θ, ϕ\\right)\\)</td>\n",
       "<td style=\"text-align:left\">\\(-m^{2} \\frac{\\partial}{\\partial θ}Y_l^m\\left(θ, ϕ\\right)\\)</td>\n",
       "</tr>\n",
       "<tr class =\"row-a\">\n",
       "<td class=\"ch\"{style_attr}>\\(\\frac{\\partial^{2}}{(\\partial ϕ)^{2}}Y_l^m\\left(θ, ϕ\\right)\\)</td>\n",
       "<td style=\"text-align:left\">\\(-m^{2} Y_l^m\\left(θ, ϕ\\right)\\)</td>\n",
       "</tr>\n",
       "<tr class =\"row-b\">\n",
       "<td class=\"ch\"{style_attr}>\\(\\frac{\\partial^{2}}{\\partial θ\\partial ϕ}Y_l^m\\left(θ, ϕ\\right)\\)</td>\n",
       "<td style=\"text-align:left\">\\(i \\, m \\frac{\\partial}{\\partial θ}Y_l^m\\left(θ, ϕ\\right)\\)</td>\n",
       "</tr>\n",
       "<tr class =\"row-a\">\n",
       "<td class=\"ch\"{style_attr}>\\(\\frac{\\partial^{3}}{(\\partial θ)^{2}\\partial ϕ}Y_l^m\\left(θ, ϕ\\right)\\)</td>\n",
       "<td style=\"text-align:left\">\\(i \\, m \\frac{\\partial^{2}}{(\\partial θ)^{2}}Y_l^m\\left(θ, ϕ\\right)\\)</td>\n",
       "</tr>\n",
       "<tr class =\"row-b\">\n",
       "<td class=\"ch\"{style_attr}>\\(\\frac{\\partial}{\\partial ϕ}Y_l^m\\left(θ, ϕ\\right)\\)</td>\n",
       "<td style=\"text-align:left\">\\(i \\, m Y_l^m\\left(θ, ϕ\\right)\\)</td>\n",
       "</tr>\n",
       "</tbody>\n",
       "</table>\n",
       "</div>"
      ],
      "text/plain": [
       "  diff(Y(θ, ϕ), ϕ, ϕ, ϕ) | -I*m^3*Y(θ, ϕ)\n",
       "  diff(Y(θ, ϕ), θ, ϕ, ϕ) | -m^2*diff(Y(θ, ϕ), θ)\n",
       "  diff(Y(θ, ϕ), ϕ, ϕ)    | -m^2*Y(θ, ϕ)\n",
       "  diff(Y(θ, ϕ), θ, ϕ)    | I*m*diff(Y(θ, ϕ), θ)\n",
       "  diff(Y(θ, ϕ), θ, θ, ϕ) | I*m*diff(Y(θ, ϕ), θ, θ)\n",
       "  diff(Y(θ, ϕ), ϕ)       | I*m*Y(θ, ϕ)"
      ]
     },
     "execution_count": 50,
     "metadata": {},
     "output_type": "execute_result"
    }
   ],
   "source": [
    "to_sph2 = {diff(Y,ϕ,3):Y*(diff(sph,ϕ,3)/sph).expand(),\n",
    "           diff(Y,ϕ,ϕ,θ):diff(Y,θ)*(diff(sph,ϕ,ϕ,θ)/diff(sph,θ)).expand(),\n",
    "           diff(Y,ϕ,2):Y*(diff(sph,ϕ,ϕ)/sph).expand(),\n",
    "           diff(Y,ϕ,θ):diff(Y,θ)*(diff(sph,ϕ,θ)/diff(sph,θ)).expand(),\n",
    "           diff(Y,θ,θ,ϕ):diff(Y,θ,2)*(diff(sph,ϕ)/sph).expand(),\n",
    "           diff(Y,ϕ):Y*(diff(sph,ϕ)/sph).expand()\n",
    "          }\n",
    "to_table(to_sph2)"
   ]
  },
  {
   "cell_type": "code",
   "execution_count": 51,
   "id": "26c006c6-d223-48d0-b87e-3ef38b1d0969",
   "metadata": {},
   "outputs": [],
   "source": [
    "Gp.apply_map(lambda q: q.subs(to_sph2).expand())\n",
    "# show(Gp.display_comp(only_nonredundant=True))"
   ]
  },
  {
   "cell_type": "markdown",
   "id": "3c4d96d9-bf29-49d7-8f31-8d70f58c05f4",
   "metadata": {},
   "source": [
    "### Vacuum equations"
   ]
  },
  {
   "cell_type": "code",
   "execution_count": 52,
   "id": "5b2f632e-6b98-4619-b3e4-979c01e4849c",
   "metadata": {},
   "outputs": [
    {
     "data": {
      "text/html": [
       "<html>\\(\\displaystyle \\frac{\\partial\\,h_{lm}^{(0)}}{\\partial t} = -\\frac{2 \\, {\\left(2 \\, M^{2} - M r\\right)} h_{lm}^{(1)}\\left(t, r\\right) - {\\left(4 \\, M^{2} r - 4 \\, M r^{2} + r^{3}\\right)} \\frac{\\partial\\,h_{lm}^{(1)}}{\\partial r}}{r^{3}}\\)</html>"
      ],
      "text/latex": [
       "$\\displaystyle \\frac{\\partial\\,h_{lm}^{(0)}}{\\partial t} = -\\frac{2 \\, {\\left(2 \\, M^{2} - M r\\right)} h_{lm}^{(1)}\\left(t, r\\right) - {\\left(4 \\, M^{2} r - 4 \\, M r^{2} + r^{3}\\right)} \\frac{\\partial\\,h_{lm}^{(1)}}{\\partial r}}{r^{3}}$"
      ],
      "text/plain": [
       "d(h0)/dt == -(2*(2*M^2 - M*r)*h1(t, r) - (4*M^2*r - 4*M*r^2 + r^3)*d(h1)/dr)/r^3"
      ]
     },
     "metadata": {},
     "output_type": "display_data"
    }
   ],
   "source": [
    "# sourceless\n",
    "eq_B2 = solve(G[2,3].expr(),diff(h0(t,r),t))[0]\n",
    "# sourced\n",
    "# eq_B2 = (solve(G[2,3].expr()==T_ax[2,3].expr(),slm['B2'])[0].subs(from_XW).full_simplify()*-16*pi).expand()\n",
    "disp(eq_B2) #eq 12.93"
   ]
  },
  {
   "cell_type": "code",
   "execution_count": 53,
   "id": "ac039d14-21ee-46be-9945-1d4c16677c48",
   "metadata": {},
   "outputs": [
    {
     "name": "stdout",
     "output_type": "stream",
     "text": [
      "\\frac{\\partial}{\\partial t}h_{lm}^{(0)}\\left(t, r\\right) = -\\frac{2 \\, {\\left(2 \\, M^{2} - M r\\right)} h_{lm}^{(1)}\\left(t, r\\right) - {\\left(4 \\, M^{2} r - 4 \\, M r^{2} + r^{3}\\right)} \\frac{\\partial}{\\partial r}h_{lm}^{(1)}\\left(t, r\\right)}{r^{3}}\n"
     ]
    }
   ],
   "source": [
    "print(latex(eq_B2))"
   ]
  },
  {
   "cell_type": "code",
   "execution_count": 54,
   "id": "1f1130d3-b5c8-485b-964a-64642fb68c7b",
   "metadata": {},
   "outputs": [
    {
     "data": {
      "text/html": [
       "<html>\\(\\displaystyle \\frac{\\partial^2\\,h_{lm}^{(0)}}{\\partial r ^ 2} = -{\\left(\\frac{{l(l+1)} r}{2 \\, M r^{2} - r^{3}} - \\frac{4 \\, M}{2 \\, M r^{2} - r^{3}}\\right)} h_{lm}^{(0)}\\left(t, r\\right) + 2 \\, {\\left(\\frac{2 \\, M r}{2 \\, M r^{2} - r^{3}} - \\frac{r^{2}}{2 \\, M r^{2} - r^{3}}\\right)} \\frac{\\partial\\,h_{lm}^{(1)}}{\\partial t} + {\\left(\\frac{2 \\, M r^{2}}{2 \\, M r^{2} - r^{3}} - \\frac{r^{3}}{2 \\, M r^{2} - r^{3}}\\right)} \\frac{\\partial^2\\,h_{lm}^{(1)}}{\\partial t\\partial r}\\)</html>"
      ],
      "text/latex": [
       "$\\displaystyle \\frac{\\partial^2\\,h_{lm}^{(0)}}{\\partial r ^ 2} = -{\\left(\\frac{{l(l+1)} r}{2 \\, M r^{2} - r^{3}} - \\frac{4 \\, M}{2 \\, M r^{2} - r^{3}}\\right)} h_{lm}^{(0)}\\left(t, r\\right) + 2 \\, {\\left(\\frac{2 \\, M r}{2 \\, M r^{2} - r^{3}} - \\frac{r^{2}}{2 \\, M r^{2} - r^{3}}\\right)} \\frac{\\partial\\,h_{lm}^{(1)}}{\\partial t} + {\\left(\\frac{2 \\, M r^{2}}{2 \\, M r^{2} - r^{3}} - \\frac{r^{3}}{2 \\, M r^{2} - r^{3}}\\right)} \\frac{\\partial^2\\,h_{lm}^{(1)}}{\\partial t\\partial r}$"
      ],
      "text/plain": [
       "d^2(h0)/dr^2 == -(cl*r/(2*M*r^2 - r^3) - 4*M/(2*M*r^2 - r^3))*h0(t, r) + 2*(2*M*r/(2*M*r^2 - r^3) - r^2/(2*M*r^2 - r^3))*d(h1)/dt + (2*M*r^2/(2*M*r^2 - r^3) - r^3/(2*M*r^2 - r^3))*d^2(h1)/dtdr"
      ]
     },
     "metadata": {},
     "output_type": "display_data"
    }
   ],
   "source": [
    "# sourceless\n",
    "eq_Bt0 = (Gp[0,2].expr().subs(sol_h0).subs(lap_eq)).solve(diff(h0(t,r),r,2))[0].expand()\n",
    "eq_Bt = eq_Bt0.lhs() == mycollect(mycollect(mycollect(eq_Bt0.rhs(),h0(t,r)),diff(h1(t,r),t)),diff(h1(t,r),r,t))\n",
    "# sourced\n",
    "# eq_Bt0 = ((Gp[0,2].expr().subs(sol_h0).subs(lap_eq)==T_ax[0,2].expr()).solve(slm['Bt'])[0].subs(to_sph2).full_simplify()*16*pi/f).expand()\n",
    "# eq_Bt = eq_Bt0.lhs() == mycollect(eq_Bt0.rhs(),h0(t,r))\n",
    "disp(eq_Bt) #eq 12.91"
   ]
  },
  {
   "cell_type": "code",
   "execution_count": 55,
   "id": "44af6736-caab-4486-a393-fdeaf7f503bf",
   "metadata": {},
   "outputs": [
    {
     "data": {
      "text/html": [
       "<html>\\(\\displaystyle \\frac{\\partial^2\\,h_{lm}^{(1)}}{\\partial t ^ 2} = {\\left(\\frac{2 \\, M {l(l+1)}}{r^{3}} - \\frac{{l(l+1)}}{r^{2}} - \\frac{4 \\, M}{r^{3}} + \\frac{2}{r^{2}}\\right)} h_{lm}^{(1)}\\left(t, r\\right) - \\frac{2 \\, \\frac{\\partial\\,h_{lm}^{(0)}}{\\partial t}}{r} + \\frac{\\partial^2\\,h_{lm}^{(0)}}{\\partial t\\partial r}\\)</html>"
      ],
      "text/latex": [
       "$\\displaystyle \\frac{\\partial^2\\,h_{lm}^{(1)}}{\\partial t ^ 2} = {\\left(\\frac{2 \\, M {l(l+1)}}{r^{3}} - \\frac{{l(l+1)}}{r^{2}} - \\frac{4 \\, M}{r^{3}} + \\frac{2}{r^{2}}\\right)} h_{lm}^{(1)}\\left(t, r\\right) - \\frac{2 \\, \\frac{\\partial\\,h_{lm}^{(0)}}{\\partial t}}{r} + \\frac{\\partial^2\\,h_{lm}^{(0)}}{\\partial t\\partial r}$"
      ],
      "text/plain": [
       "d^2(h1)/dt^2 == (2*M*cl/r^3 - cl/r^2 - 4*M/r^3 + 2/r^2)*h1(t, r) - 2*d(h0)/dt/r + d^2(h0)/dtdr"
      ]
     },
     "metadata": {},
     "output_type": "display_data"
    }
   ],
   "source": [
    "# sourceless\n",
    "eq_B1_0 = (Gp[1,2].expr().subs(lap_eq)).solve(diff(h1(t,r),t,2))[0].expand()\n",
    "eq_B1_1 = eq_B1_0.lhs() == mycollect(eq_B1_0.rhs(),h1(t,r))\n",
    "# sourced\n",
    "# eq_B1_0 = ((Gp[1,2].expr().subs(lap_eq)==T_ax[1,2].expr()).solve(slm['B1'])[0].subs(to_sph2).full_simplify()*-16*pi*f).expand()\n",
    "# eq_B1_1 = eq_B1_0.lhs() == mycollect(eq_B1_0.rhs(),h1(t,r))\n",
    "disp(eq_B1_1) #eq 12.92 l is different"
   ]
  },
  {
   "cell_type": "code",
   "execution_count": 56,
   "id": "37b71c24-7401-4d02-a341-e3c1cbaa2c5c",
   "metadata": {},
   "outputs": [
    {
     "name": "stdout",
     "output_type": "stream",
     "text": [
      "\\frac{\\partial^{2}}{(\\partial t)^{2}}h_{lm}^{(1)}\\left(t, r\\right) = {\\left(\\frac{2 \\, M {l(l+1)}}{r^{3}} - \\frac{{l(l+1)}}{r^{2}} - \\frac{4 \\, M}{r^{3}} + \\frac{2}{r^{2}}\\right)} h_{lm}^{(1)}\\left(t, r\\right) - \\frac{2 \\, \\frac{\\partial}{\\partial t}h_{lm}^{(0)}\\left(t, r\\right)}{r} + \\frac{\\partial^{2}}{\\partial t\\partial r}h_{lm}^{(0)}\\left(t, r\\right)\n"
     ]
    }
   ],
   "source": [
    "print(latex(eq_B1_1))"
   ]
  },
  {
   "cell_type": "markdown",
   "id": "b643403e-49c2-41f5-9c10-e370664575e5",
   "metadata": {},
   "source": [
    "Or (using eq. B2)"
   ]
  },
  {
   "cell_type": "code",
   "execution_count": 57,
   "id": "328da57e-3c7b-4165-85a7-ee473892d407",
   "metadata": {},
   "outputs": [
    {
     "data": {
      "text/html": [
       "<html>\\(\\displaystyle \\frac{\\partial^2\\,h_{lm}^{(1)}}{\\partial t ^ 2} = {\\left(\\frac{2 \\, M {l(l+1)}}{r^{3}} - \\frac{{l(l+1)}}{r^{2}} + \\frac{20 \\, M^{2}}{r^{4}} - \\frac{12 \\, M}{r^{3}} + \\frac{2}{r^{2}}\\right)} h_{lm}^{(1)}\\left(t, r\\right) - 2 \\, {\\left(\\frac{10 \\, M^{2}}{r^{3}} - \\frac{7 \\, M}{r^{2}} + \\frac{1}{r}\\right)} \\frac{\\partial\\,h_{lm}^{(1)}}{\\partial r} + {\\left(\\frac{4 \\, M^{2}}{r^{2}} - \\frac{4 \\, M}{r} + 1\\right)} \\frac{\\partial^2\\,h_{lm}^{(1)}}{\\partial r ^ 2}\\)</html>"
      ],
      "text/latex": [
       "$\\displaystyle \\frac{\\partial^2\\,h_{lm}^{(1)}}{\\partial t ^ 2} = {\\left(\\frac{2 \\, M {l(l+1)}}{r^{3}} - \\frac{{l(l+1)}}{r^{2}} + \\frac{20 \\, M^{2}}{r^{4}} - \\frac{12 \\, M}{r^{3}} + \\frac{2}{r^{2}}\\right)} h_{lm}^{(1)}\\left(t, r\\right) - 2 \\, {\\left(\\frac{10 \\, M^{2}}{r^{3}} - \\frac{7 \\, M}{r^{2}} + \\frac{1}{r}\\right)} \\frac{\\partial\\,h_{lm}^{(1)}}{\\partial r} + {\\left(\\frac{4 \\, M^{2}}{r^{2}} - \\frac{4 \\, M}{r} + 1\\right)} \\frac{\\partial^2\\,h_{lm}^{(1)}}{\\partial r ^ 2}$"
      ],
      "text/plain": [
       "d^2(h1)/dt^2 == (2*M*cl/r^3 - cl/r^2 + 20*M^2/r^4 - 12*M/r^3 + 2/r^2)*h1(t, r) - 2*(10*M^2/r^3 - 7*M/r^2 + 1/r)*d(h1)/dr + (4*M^2/r^2 - 4*M/r + 1)*d^2(h1)/dr^2"
      ]
     },
     "metadata": {},
     "output_type": "display_data"
    }
   ],
   "source": [
    "eq_B1 = eq_B1_1.lhs() == mycollect(mycollect(mycollect(eq_B1_1.rhs().subs(sol_h0),h1(t,r)),diff(h1(t,r),r)),diff(h1(t,r),r,2))\n",
    "disp(eq_B1)"
   ]
  },
  {
   "cell_type": "code",
   "execution_count": 58,
   "id": "12909872-65af-4b5b-8a99-6d3e41ffa46f",
   "metadata": {},
   "outputs": [
    {
     "name": "stdout",
     "output_type": "stream",
     "text": [
      "Total time elapsed until the end of stage 2: 00:01:02\n"
     ]
    }
   ],
   "source": [
    "stage_time()"
   ]
  },
  {
   "cell_type": "markdown",
   "id": "0d88ef28-7ea3-4528-b6bc-8f8a6adea731",
   "metadata": {},
   "source": [
    "### Regge-Wheeler equation"
   ]
  },
  {
   "cell_type": "code",
   "execution_count": 59,
   "id": "45db4d1a-a851-4bb2-86a9-6dc1d9287125",
   "metadata": {},
   "outputs": [
    {
     "data": {
      "text/html": [
       "<html>\\(\\displaystyle \\frac{r^{2} ω^{2} Q_{lm}\\left(r, ω\\right)}{2 \\, M - r} = \\frac{2 \\, M r \\frac{\\partial}{\\partial r}Q_{lm}\\left(r, ω\\right) - {\\left({l(l+1)} r - 6 \\, M\\right)} Q_{lm}\\left(r, ω\\right) - {\\left(2 \\, M r^{2} - r^{3}\\right)} \\frac{\\partial^{2}}{(\\partial r)^{2}}Q_{lm}\\left(r, ω\\right)}{r^{2}}\\)</html>"
      ],
      "text/latex": [
       "$\\displaystyle \\frac{r^{2} ω^{2} Q_{lm}\\left(r, ω\\right)}{2 \\, M - r} = \\frac{2 \\, M r \\frac{\\partial}{\\partial r}Q_{lm}\\left(r, ω\\right) - {\\left({l(l+1)} r - 6 \\, M\\right)} Q_{lm}\\left(r, ω\\right) - {\\left(2 \\, M r^{2} - r^{3}\\right)} \\frac{\\partial^{2}}{(\\partial r)^{2}}Q_{lm}\\left(r, ω\\right)}{r^{2}}$"
      ],
      "text/plain": [
       "r^2*ω^2*Q(r, ω)/(2*M - r) == (2*M*r*diff(Q(r, ω), r) - (cl*r - 6*M)*Q(r, ω) - (2*M*r^2 - r^3)*diff(Q(r, ω), r, r))/r^2"
      ]
     },
     "metadata": {},
     "output_type": "display_data"
    }
   ],
   "source": [
    "ω = var('ω')\n",
    "Q(r) = function('Q', latex_name=r'Q_{lm}')(r,ω)\n",
    "fun_Q = {h1(t,r):r*Q*exp(-i*ω*t)/f}\n",
    "RW0 = (eq_B1.substitute_function(fun_Q)*exp(i*ω*t)).expand().canonicalize_radical()\n",
    "show(RW0)"
   ]
  },
  {
   "cell_type": "code",
   "execution_count": 60,
   "id": "76038838-b099-41c9-845b-b9d96a0c13da",
   "metadata": {},
   "outputs": [
    {
     "name": "stdout",
     "output_type": "stream",
     "text": [
      "canonicalize_de for Q(tortoise, ω): \u001b[32mpassed!\u001b[39m\n"
     ]
    },
    {
     "data": {
      "text/html": [
       "<html>\\(\\displaystyle \\frac{{\\left(r^{4} ω^{2} + 2 \\, M {l(l+1)} r - {l(l+1)} r^{2} - 12 \\, M^{2} + 6 \\, M r\\right)} Q_{lm}\\left({r_\\star}, ω\\right)}{r^{4}} + \\frac{\\partial^2\\,Q_{lm}}{\\partial {r_\\star} ^ 2} = 0\\)</html>"
      ],
      "text/latex": [
       "$\\displaystyle \\frac{{\\left(r^{4} ω^{2} + 2 \\, M {l(l+1)} r - {l(l+1)} r^{2} - 12 \\, M^{2} + 6 \\, M r\\right)} Q_{lm}\\left({r_\\star}, ω\\right)}{r^{4}} + \\frac{\\partial^2\\,Q_{lm}}{\\partial {r_\\star} ^ 2} = 0$"
      ],
      "text/plain": [
       "(r^4*ω^2 + 2*M*cl*r - cl*r^2 - 12*M^2 + 6*M*r)*Q(tortoise, ω)/r^4 + d^2(Q)/dtortoise^2 == 0"
      ]
     },
     "metadata": {},
     "output_type": "display_data"
    }
   ],
   "source": [
    "from de_tools import change_variable\n",
    "ftortoise = function('ftortoise', latex_name=r'r_\\star')(r)\n",
    "tortoise = var('tortoise', latex_name=r'r_\\star', domain='real')\n",
    "dtortoise = sqrt((-g[1,1]/g[0,0]).expr()).canonicalize_radical()\n",
    "RW1 = change_variable(RW0, Q, r, ftortoise, tortoise, dtortoise, expand=True)\n",
    "disp(RW1)"
   ]
  },
  {
   "cell_type": "markdown",
   "id": "29f996b9-d163-4c07-9224-2efb9681a69c",
   "metadata": {},
   "source": [
    "$$\\dfrac{d^2 Q_{lm}(r,\\omega)}{dr_\\star} + \\left[\\omega^2 - V_l(r)\\right]Q_{lm}(r,\\omega) = 0$$"
   ]
  },
  {
   "cell_type": "code",
   "execution_count": 61,
   "id": "acc8cfda-47ee-43b1-825e-c35a41966c73",
   "metadata": {
    "scrolled": true
   },
   "outputs": [
    {
     "data": {
      "text/html": [
       "<html>\\(\\displaystyle V_l(r) =  -\\frac{2 \\, M {\\left(l + 1\\right)} l}{r^{3}} + \\frac{{\\left(l + 1\\right)} l}{r^{2}} + \\frac{12 \\, M^{2}}{r^{4}} - \\frac{6 \\, M}{r^{3}}\\)</html>"
      ],
      "text/latex": [
       "$\\displaystyle V_l(r) =  -\\frac{2 \\, M {\\left(l + 1\\right)} l}{r^{3}} + \\frac{{\\left(l + 1\\right)} l}{r^{2}} + \\frac{12 \\, M^{2}}{r^{4}} - \\frac{6 \\, M}{r^{3}}$"
      ],
      "text/plain": [
       "V_l(r) =  -2*M*(l + 1)*l/r^3 + (l + 1)*l/r^2 + 12*M^2/r^4 - 6*M/r^3"
      ]
     },
     "metadata": {},
     "output_type": "display_data"
    }
   ],
   "source": [
    "from de_tools import get_de_coefficients\n",
    "V(r,l) = ω^2-get_de_coefficients(RW1, Q(tortoise), tortoise)[0].expand().subs(sep_const)\n",
    "show(LatexExpr(r'V_l(r) = '),mycollect(V(r,l),f))"
   ]
  },
  {
   "cell_type": "code",
   "execution_count": 62,
   "id": "f322c850-29a9-4a3c-95e2-22a486f824ea",
   "metadata": {},
   "outputs": [
    {
     "data": {
      "text/html": [
       "<html>\\(\\displaystyle V_l(r)\\Big|_{\\rm{Schwarzschild}} =  -\\frac{2 \\, M {\\left(l + 1\\right)} l}{r^{3}} + \\frac{{\\left(l + 1\\right)} l}{r^{2}} + \\frac{12 \\, M^{2}}{r^{4}} - \\frac{6 \\, M}{r^{3}}\\)</html>"
      ],
      "text/latex": [
       "$\\displaystyle V_l(r)\\Big|_{\\rm{Schwarzschild}} =  -\\frac{2 \\, M {\\left(l + 1\\right)} l}{r^{3}} + \\frac{{\\left(l + 1\\right)} l}{r^{2}} + \\frac{12 \\, M^{2}}{r^{4}} - \\frac{6 \\, M}{r^{3}}$"
      ],
      "text/plain": [
       "V_l(r)\\Big|_{\\rm{Schwarzschild}} =  -2*M*(l + 1)*l/r^3 + (l + 1)*l/r^2 + 12*M^2/r^4 - 6*M/r^3"
      ]
     },
     "metadata": {},
     "output_type": "display_data"
    },
    {
     "data": {
      "text/html": [
       "<html>\\(\\displaystyle V_l(r)\\Big|_{\\rm{Schwarzschild}} =  -{\\left(\\frac{{\\left(l + 1\\right)} l}{r^{2}} - \\frac{6 \\, M}{r^{3}}\\right)} {\\left(\\frac{2 \\, M}{r} - 1\\right)}\\)</html>"
      ],
      "text/latex": [
       "$\\displaystyle V_l(r)\\Big|_{\\rm{Schwarzschild}} =  -{\\left(\\frac{{\\left(l + 1\\right)} l}{r^{2}} - \\frac{6 \\, M}{r^{3}}\\right)} {\\left(\\frac{2 \\, M}{r} - 1\\right)}$"
      ],
      "text/plain": [
       "V_l(r)\\Big|_{\\rm{Schwarzschild}} =  -((l + 1)*l/r^2 - 6*M/r^3)*(2*M/r - 1)"
      ]
     },
     "metadata": {},
     "output_type": "display_data"
    }
   ],
   "source": [
    "V_schw = -2*M*(l + 1)*l/r^3 + (l + 1)*l/r^2 + 12*M^2/r^4 - 6*M/r^3\n",
    "show(LatexExpr(r'V_l(r)\\Big|_{\\rm{Schwarzschild}} = '),V_schw)\n",
    "show(LatexExpr(r'V_l(r)\\Big|_{\\rm{Schwarzschild}} = '),(1-2*M/r)*(l*(l+1)/r^2-6*M/r^3))"
   ]
  },
  {
   "cell_type": "markdown",
   "id": "efaa362f-2c52-4908-98a1-bce67dec21f7",
   "metadata": {},
   "source": [
    "Checking the equation at https://bhptoolkit.org/ReggeWheeler/ (from RW0)"
   ]
  },
  {
   "cell_type": "code",
   "execution_count": 63,
   "id": "521d5014-37f1-46b2-a258-e1cb4e3b1666",
   "metadata": {},
   "outputs": [
    {
     "name": "stdout",
     "output_type": "stream",
     "text": [
      "canonicalize_de for Q(r, ω): \u001b[32mpassed!\u001b[39m\n"
     ]
    },
    {
     "data": {
      "text/html": [
       "<html>\\(\\displaystyle \\frac{{\\left(ω^{2} - U_{l}\\right)} r^{2} Q_{lm}\\left(r, ω\\right)}{{\\left(2 \\, M - r\\right)}^{2}} - \\frac{2 \\, M \\frac{\\partial\\,Q_{lm}}{\\partial r}}{{\\left(2 \\, M - r\\right)} r} + \\frac{\\partial^2\\,Q_{lm}}{\\partial r ^ 2} = 0\\)</html>"
      ],
      "text/latex": [
       "$\\displaystyle \\frac{{\\left(ω^{2} - U_{l}\\right)} r^{2} Q_{lm}\\left(r, ω\\right)}{{\\left(2 \\, M - r\\right)}^{2}} - \\frac{2 \\, M \\frac{\\partial\\,Q_{lm}}{\\partial r}}{{\\left(2 \\, M - r\\right)} r} + \\frac{\\partial^2\\,Q_{lm}}{\\partial r ^ 2} = 0$"
      ],
      "text/plain": [
       "(ω^2 - U_l)*r^2*Q(r, ω)/(2*M - r)^2 - 2*M*d(Q)/dr/((2*M - r)*r) + d^2(Q)/dr^2 == 0"
      ]
     },
     "metadata": {},
     "output_type": "display_data"
    }
   ],
   "source": [
    "U = var('U_l')\n",
    "lV = (-U + V(r,l).subs(solve(l*(l+1)==cl,l)[0]).expand()).solve(cl,solution_dict=True)[0]\n",
    "from de_tools import canonicalize_de\n",
    "RW_check = (RW0.solve(diff(Q,r,2))[0]*(-1)*f^2).expand().subs(lV)\n",
    "disp(canonicalize_de(RW_check,Q(r,ω),r))"
   ]
  },
  {
   "cell_type": "code",
   "execution_count": 64,
   "id": "a83efabb-0a72-4fba-ae75-b9144da0d5cf",
   "metadata": {},
   "outputs": [
    {
     "name": "stdout",
     "output_type": "stream",
     "text": [
      "Total time elapsed until the end of stage 3: 00:01:04\n"
     ]
    }
   ],
   "source": [
    "stage_time()"
   ]
  },
  {
   "cell_type": "markdown",
   "id": "5c1e5315-120a-4e75-9260-d541c6ea9858",
   "metadata": {},
   "source": [
    "***"
   ]
  },
  {
   "cell_type": "markdown",
   "id": "cf5df9e5-6c01-43b8-bc38-f5cf70fb0b3e",
   "metadata": {},
   "source": [
    "## The Zerilli equation"
   ]
  },
  {
   "cell_type": "code",
   "execution_count": 65,
   "id": "7cd5810e-8e83-4031-828d-1d72c18ad6ec",
   "metadata": {},
   "outputs": [],
   "source": [
    "h_pol.apply_map(lambda q: q.subs(new_functions))\n",
    "# h_pol = h_pert\n",
    "hb_pol = h_pol - 1/2*g*(h_pol.up(g,0).trace())"
   ]
  },
  {
   "cell_type": "code",
   "execution_count": 66,
   "id": "6d5cc8bd",
   "metadata": {},
   "outputs": [
    {
     "name": "stdout",
     "output_type": "stream",
     "text": [
      "CPU times: user 126 ms, sys: 0 ns, total: 126 ms\n",
      "Wall time: 126 ms\n"
     ]
    }
   ],
   "source": [
    "%time G_dal_pol = hb_pol.dalembertian(g)"
   ]
  },
  {
   "cell_type": "code",
   "execution_count": 67,
   "id": "120dc04d",
   "metadata": {},
   "outputs": [
    {
     "name": "stdout",
     "output_type": "stream",
     "text": [
      "CPU times: user 1.68 s, sys: 19.4 ms, total: 1.7 s\n",
      "Wall time: 1.41 s\n"
     ]
    }
   ],
   "source": [
    "%time G_div_pol = g*hb_pol.div(g).div(g)"
   ]
  },
  {
   "cell_type": "code",
   "execution_count": 68,
   "id": "90fbe053",
   "metadata": {},
   "outputs": [
    {
     "name": "stdout",
     "output_type": "stream",
     "text": [
      "CPU times: user 138 ms, sys: 140 µs, total: 138 ms\n",
      "Wall time: 137 ms\n"
     ]
    }
   ],
   "source": [
    "%time G_sym_pol = (nabla(nabla(hb_pol)).up(g,3)['_bac^a']).symmetrize()"
   ]
  },
  {
   "cell_type": "code",
   "execution_count": 69,
   "id": "b2be8bdb",
   "metadata": {},
   "outputs": [
    {
     "name": "stdout",
     "output_type": "stream",
     "text": [
      "CPU times: user 1.94 ms, sys: 122 µs, total: 2.07 ms\n",
      "Wall time: 2.08 ms\n"
     ]
    }
   ],
   "source": [
    "%time G_pol = G_sym_pol - 1/2*(G_dal_pol + G_div_pol)"
   ]
  },
  {
   "cell_type": "code",
   "execution_count": 70,
   "id": "2748ec84",
   "metadata": {},
   "outputs": [
    {
     "name": "stdout",
     "output_type": "stream",
     "text": [
      "Total time elapsed until the end of stage 4: 00:01:07\n"
     ]
    }
   ],
   "source": [
    "stage_time()"
   ]
  },
  {
   "cell_type": "code",
   "execution_count": 71,
   "id": "9faf80ba",
   "metadata": {},
   "outputs": [],
   "source": [
    "Gp_pol = G_pol.copy()\n",
    "Gp_pol.set_name('(Gp)')\n",
    "for q in (2,3):\n",
    "    for k in (2,3):\n",
    "        Gp_pol[q,k] = Gp_pol[q,k].expr().subs(to_XW).expand().trig_simplify().factor()\n",
    "# show(Gp_pol.display_comp(only_nonredundant=True))"
   ]
  },
  {
   "cell_type": "markdown",
   "id": "4d056aff",
   "metadata": {},
   "source": [
    "### Vacuum equations"
   ]
  },
  {
   "cell_type": "markdown",
   "id": "1103c116",
   "metadata": {},
   "source": [
    "A partir daqui começará a resolução das 7 equação diferenciais para a solução de vácuo, para a perturbação polar. Começaremos resolvendo a primeira equação, da componente `Gp_pol[2, 3]`, de acordo com a equação (12.371):"
   ]
  },
  {
   "cell_type": "code",
   "execution_count": 72,
   "id": "418983f9",
   "metadata": {},
   "outputs": [
    {
     "data": {
      "text/html": [
       "<div class=\"notruncate\">\n",
       "<table  class=\"table_form\">\n",
       "<tbody>\n",
       "<tr class =\"row-a\">\n",
       "<td class=\"ch\"{style_attr}>\\(H_{lm}^{(2)}\\left(t, r\\right)\\)</td>\n",
       "<td style=\"text-align:left\">\\(H_{lm}^{(0)}\\left(t, r\\right)\\)</td>\n",
       "</tr>\n",
       "<tr class =\"row-b\">\n",
       "<td class=\"ch\"{style_attr}>\\(\\frac{\\partial}{\\partial r}H_{lm}^{(2)}\\left(t, r\\right)\\)</td>\n",
       "<td style=\"text-align:left\">\\(\\frac{\\partial}{\\partial r}H_{lm}^{(0)}\\left(t, r\\right)\\)</td>\n",
       "</tr>\n",
       "<tr class =\"row-a\">\n",
       "<td class=\"ch\"{style_attr}>\\(\\frac{\\partial^{2}}{(\\partial r)^{2}}H_{lm}^{(2)}\\left(t, r\\right)\\)</td>\n",
       "<td style=\"text-align:left\">\\(\\frac{\\partial^{2}}{(\\partial r)^{2}}H_{lm}^{(0)}\\left(t, r\\right)\\)</td>\n",
       "</tr>\n",
       "<tr class =\"row-b\">\n",
       "<td class=\"ch\"{style_attr}>\\(\\frac{\\partial}{\\partial t}H_{lm}^{(2)}\\left(t, r\\right)\\)</td>\n",
       "<td style=\"text-align:left\">\\(\\frac{\\partial}{\\partial t}H_{lm}^{(0)}\\left(t, r\\right)\\)</td>\n",
       "</tr>\n",
       "<tr class =\"row-a\">\n",
       "<td class=\"ch\"{style_attr}>\\(\\frac{\\partial^{2}}{(\\partial t)^{2}}H_{lm}^{(2)}\\left(t, r\\right)\\)</td>\n",
       "<td style=\"text-align:left\">\\(\\frac{\\partial^{2}}{(\\partial t)^{2}}H_{lm}^{(0)}\\left(t, r\\right)\\)</td>\n",
       "</tr>\n",
       "</tbody>\n",
       "</table>\n",
       "</div>"
      ],
      "text/plain": [
       "  H2(t, r)             | H0(t, r)\n",
       "  diff(H2(t, r), r)    | diff(H0(t, r), r)\n",
       "  diff(H2(t, r), r, r) | diff(H0(t, r), r, r)\n",
       "  diff(H2(t, r), t)    | diff(H0(t, r), t)\n",
       "  diff(H2(t, r), t, t) | diff(H0(t, r), t, t)"
      ]
     },
     "execution_count": 72,
     "metadata": {},
     "output_type": "execute_result"
    }
   ],
   "source": [
    "sol_H2 = solve(Gp_pol[2,3].expr(),H2(t,r), solution_dict=True)[0] # eq. 12.371\n",
    "\n",
    "for q in (2,3):\n",
    "    for k in (2,3):\n",
    "        Gp_pol[q,k] = Gp_pol[q,k].expr().subs(sol_H2).expand().trig_simplify().factor()\n",
    "sol_H2.update({diff(list(sol_H2.keys())[0],r):diff(list(sol_H2.values())[0],r)})\n",
    "sol_H2.update({diff(list(sol_H2.keys())[0],r, 2):diff(list(sol_H2.values())[0],r,2)})\n",
    "sol_H2.update({diff(list(sol_H2.keys())[0],t):diff(list(sol_H2.values())[0],t)})\n",
    "sol_H2.update({diff(list(sol_H2.keys())[0],t,2):diff(list(sol_H2.values())[0],t,2)})\n",
    "to_table(sol_H2)"
   ]
  },
  {
   "cell_type": "markdown",
   "id": "5b5acda9",
   "metadata": {},
   "source": [
    "Agora, injetaremos o resultado acima em `Gp_pol`, para substituir $H^{(2)}$ por $H^{(0)}$:"
   ]
  },
  {
   "cell_type": "code",
   "execution_count": 73,
   "id": "255181f4",
   "metadata": {},
   "outputs": [],
   "source": [
    "Gp_pol.apply_map(lambda q: q.subs(to_sph2).subs(sol_H2).expand())\n",
    "# show(Gp_pol.display_comp(only_nonredundant=True))"
   ]
  },
  {
   "cell_type": "markdown",
   "id": "97d3efcc",
   "metadata": {},
   "source": [
    "A segunda equação de vácuo será resolvida utilizando `Gp_pol[0,0]`, de acordo com a equação (12.365):"
   ]
  },
  {
   "cell_type": "code",
   "execution_count": 74,
   "id": "24016e11",
   "metadata": {},
   "outputs": [],
   "source": [
    "eq_tt_1 = (Gp_pol[0,0].expr().subs(lap_eq)).solve(diff(K(t,r),r,2))[0].full_simplify().expand()\n",
    "eq_tt = eq_tt_1.lhs() == mycollect(mycollect(mycollect(mycollect(eq_tt_1.rhs(), H0(t, r)), \n",
    "                        K(t, r)), diff(H0(t, r), r)), diff(K(t, r), r)) # eq. 12.365"
   ]
  },
  {
   "cell_type": "code",
   "execution_count": 75,
   "id": "13c58188",
   "metadata": {},
   "outputs": [
    {
     "data": {
      "text/plain": [
       "diff(K(t, r), r, r) == -1/2*(cl/(2*M*r - r^2) + 2/(2*M*r - r^2))*H0(t, r) - 1/2*(cl/(2*M*r - r^2) - 2/(2*M*r - r^2))*K(t, r) + (2*M/(2*M*r - r^2) - r/(2*M*r - r^2))*diff(H0(t, r), r) - (5*M/(2*M*r - r^2) - 3*r/(2*M*r - r^2))*diff(K(t, r), r)"
      ]
     },
     "execution_count": 75,
     "metadata": {},
     "output_type": "execute_result"
    }
   ],
   "source": [
    "eq_tt"
   ]
  },
  {
   "cell_type": "markdown",
   "id": "eef06002",
   "metadata": {},
   "source": [
    "A terceira equação de vácuo será resolvida utilizando `Gp_pol[1,0]`, de acordo com a equação (12.366):"
   ]
  },
  {
   "cell_type": "code",
   "execution_count": 76,
   "id": "634370fd",
   "metadata": {},
   "outputs": [],
   "source": [
    "eq_Rt_1 = (Gp_pol[1,0].expr().subs(lap_eq)).solve(diff(K(t,r),r,t))[0].full_simplify().expand()\n",
    "eq_Rt = eq_Rt_1.lhs() == mycollect(mycollect(mycollect(eq_Rt_1.rhs(), diff(H0(t, r), t)), diff(K(t, r), t)), H1(t, r)) # eq. 12.366"
   ]
  },
  {
   "cell_type": "code",
   "execution_count": 77,
   "id": "581152d9",
   "metadata": {},
   "outputs": [
    {
     "data": {
      "text/plain": [
       "diff(K(t, r), t, r) == 1/2*(2*M*cl/(2*M*r^2 - r^3) - cl*r/(2*M*r^2 - r^3))*H1(t, r) + (2*M*r/(2*M*r^2 - r^3) - r^2/(2*M*r^2 - r^3))*diff(H0(t, r), t) - (3*M*r/(2*M*r^2 - r^3) - r^2/(2*M*r^2 - r^3))*diff(K(t, r), t)"
      ]
     },
     "execution_count": 77,
     "metadata": {},
     "output_type": "execute_result"
    }
   ],
   "source": [
    "eq_Rt"
   ]
  },
  {
   "cell_type": "markdown",
   "id": "6ab5861d",
   "metadata": {},
   "source": [
    "A quarta equação de vácuo será resolvida utilizando `Gp_pol[1,1]`, de acordo com a equação (12.367):"
   ]
  },
  {
   "cell_type": "code",
   "execution_count": 78,
   "id": "4edfef14",
   "metadata": {},
   "outputs": [],
   "source": [
    "eq_L0_1 = (Gp_pol[1,1].expr().subs(lap_eq)).solve(diff(K(t,r),t, 2))[0].expand()\n",
    "eq_L0 = eq_L0_1.lhs() == mycollect(mycollect(mycollect(mycollect(mycollect(eq_L0_1.rhs(), diff(H0(t, r), r)), \n",
    "                        diff(K(t, r), r)), K(t, r)), H0(t, r)), diff(H1(t, r), t)) # eq. 12.367"
   ]
  },
  {
   "cell_type": "code",
   "execution_count": 79,
   "id": "37de4770",
   "metadata": {},
   "outputs": [
    {
     "data": {
      "text/plain": [
       "diff(K(t, r), t, t) == -1/2*(2*M*cl/r^3 - cl/r^2 - 4*M/r^3 + 2/r^2)*H0(t, r) + 1/2*(2*M*cl/r^3 - cl/r^2 - 4*M/r^3 + 2/r^2)*K(t, r) - (4*M^2/r^3 - 4*M/r^2 + 1/r)*diff(H0(t, r), r) - 2*(2*M/r^2 - 1/r)*diff(H1(t, r), t) + (2*M^2/r^3 - 3*M/r^2 + 1/r)*diff(K(t, r), r)"
      ]
     },
     "execution_count": 79,
     "metadata": {},
     "output_type": "execute_result"
    }
   ],
   "source": [
    "eq_L0"
   ]
  },
  {
   "cell_type": "markdown",
   "id": "63434d2d",
   "metadata": {},
   "source": [
    "A quinta equação de vácuo será resolvida utilizando `Gp_pol[2,2]`, de acordo com a equação (12.368):"
   ]
  },
  {
   "cell_type": "code",
   "execution_count": 80,
   "id": "d906ce3e",
   "metadata": {},
   "outputs": [],
   "source": [
    "eq_T0_1 = (Gp_pol[2,2].expr().subs(lap_eq)).solve(diff(K(t,r),t, 2))[0].simplify().expand()\n",
    "eq_T0 = eq_T0_1.lhs() == mycollect(mycollect(mycollect(mycollect(mycollect(mycollect(eq_T0_1.rhs(), diff(K(t, r), r, 2)), diff(H0(t, r), r, 2)),\n",
    "                        diff(H1(t, r), r, t)), diff(K(t, r), r)), diff(H0(t, r), r)), diff(H1(t, r), t))# eq. 12.368"
   ]
  },
  {
   "cell_type": "code",
   "execution_count": 81,
   "id": "4365555d",
   "metadata": {},
   "outputs": [
    {
     "data": {
      "text/plain": [
       "diff(K(t, r), t, t) == 2*(2*M/r^2 - 1/r)*diff(H0(t, r), r) - (4*M^2/r^2 - 4*M/r + 1)*diff(H0(t, r), r, r) - 2*(M/r^2 - 1/r)*diff(H1(t, r), t) - 2*(2*M/r - 1)*diff(H1(t, r), t, r) + 2*(2*M^2/r^3 - 3*M/r^2 + 1/r)*diff(K(t, r), r) + (4*M^2/r^2 - 4*M/r + 1)*diff(K(t, r), r, r) - diff(H0(t, r), t, t)"
      ]
     },
     "execution_count": 81,
     "metadata": {},
     "output_type": "execute_result"
    }
   ],
   "source": [
    "eq_T0"
   ]
  },
  {
   "cell_type": "markdown",
   "id": "77bde36e",
   "metadata": {},
   "source": [
    "A sexta equação de vácuo será resolvida utilizando `Gp_pol[0,2]`, de acordo com a equação (12.369):"
   ]
  },
  {
   "cell_type": "code",
   "execution_count": 82,
   "id": "b757a3de",
   "metadata": {},
   "outputs": [],
   "source": [
    "eq_Et_1 = (Gp_pol[0,2].expr().subs(lap_eq)).solve(diff(K(t,r),t))[0].simplify().expand()\n",
    "eq_Et= eq_Et_1.lhs() == mycollect(eq_Et_1.rhs(), diff(H1(t, r), r))\n",
    "# eq. 12.369"
   ]
  },
  {
   "cell_type": "code",
   "execution_count": 83,
   "id": "14c41a31",
   "metadata": {},
   "outputs": [
    {
     "data": {
      "text/html": [
       "<html>\\(\\displaystyle \\frac{\\partial}{\\partial t}K_{lm}\\left(t, r\\right) = -{\\left(\\frac{2 \\, M}{r} - 1\\right)} \\frac{\\partial}{\\partial r}H_{lm}^{(1)}\\left(t, r\\right) + \\frac{2 \\, M H_{lm}^{(1)}\\left(t, r\\right)}{r^{2}} - \\frac{\\partial}{\\partial t}H_{lm}^{(0)}\\left(t, r\\right)\\)</html>"
      ],
      "text/latex": [
       "$\\displaystyle \\frac{\\partial}{\\partial t}K_{lm}\\left(t, r\\right) = -{\\left(\\frac{2 \\, M}{r} - 1\\right)} \\frac{\\partial}{\\partial r}H_{lm}^{(1)}\\left(t, r\\right) + \\frac{2 \\, M H_{lm}^{(1)}\\left(t, r\\right)}{r^{2}} - \\frac{\\partial}{\\partial t}H_{lm}^{(0)}\\left(t, r\\right)$"
      ],
      "text/plain": [
       "diff(K(t, r), t) == -(2*M/r - 1)*diff(H1(t, r), r) + 2*M*H1(t, r)/r^2 - diff(H0(t, r), t)"
      ]
     },
     "metadata": {},
     "output_type": "display_data"
    }
   ],
   "source": [
    "show(eq_Et)"
   ]
  },
  {
   "cell_type": "markdown",
   "id": "45a9ee65",
   "metadata": {},
   "source": [
    "Por fim, a setima equação de vácuo será resolvida utilizando `Gp_pol[1,2]`, de acordo com a equação (12.370):"
   ]
  },
  {
   "cell_type": "code",
   "execution_count": 84,
   "id": "e584d198",
   "metadata": {},
   "outputs": [],
   "source": [
    "eq_E1_1 = (Gp_pol[1,2].expr().subs(lap_eq)).solve(diff(H1(t,r),t))[0].simplify().expand()\n",
    "eq_E1= eq_E1_1.lhs() == mycollect(mycollect(eq_E1_1.rhs(), diff(K(t, r), r)), diff(H0(t, r), r)) # eq. 12.370"
   ]
  },
  {
   "cell_type": "code",
   "execution_count": 85,
   "id": "c07d5f01",
   "metadata": {},
   "outputs": [
    {
     "data": {
      "text/plain": [
       "diff(H1(t, r), t) == -(2*M/r - 1)*diff(H0(t, r), r) + (2*M/r - 1)*diff(K(t, r), r) + 2*M*H0(t, r)/r^2"
      ]
     },
     "execution_count": 85,
     "metadata": {},
     "output_type": "execute_result"
    }
   ],
   "source": [
    "eq_E1"
   ]
  },
  {
   "cell_type": "markdown",
   "id": "ed8a0632",
   "metadata": {},
   "source": [
    "Para resolver as 6 equações restantes acima, é conveniente realizar uma tranformada de Fourier com respeito ao tempo. Faremos a transformada como se segue:"
   ]
  },
  {
   "cell_type": "code",
   "execution_count": 86,
   "id": "43268903",
   "metadata": {},
   "outputs": [
    {
     "data": {
      "text/html": [
       "<html>\\(\\displaystyle \\left\\{K_{lm}\\left(t, r\\right) : \\left( r, ω \\right) \\ {\\mapsto} \\ \\tilde{K}_{lm}\\left(r, ω\\right) e^{\\left(-i \\, t ω\\right)}, H_{lm}^{(0)}\\left(t, r\\right) : \\left( r, ω \\right) \\ {\\mapsto} \\ \\tilde{H}^{(0)}_{lm}\\left(r, ω\\right) e^{\\left(-i \\, t ω\\right)}, H_{lm}^{(1)}\\left(t, r\\right) : \\left( r, ω \\right) \\ {\\mapsto} \\ \\tilde{H}^{(1)}_{lm}\\left(r, ω\\right) e^{\\left(-i \\, t ω\\right)}\\right\\}\\)</html>"
      ],
      "text/latex": [
       "$\\displaystyle \\left\\{K_{lm}\\left(t, r\\right) : \\left( r, ω \\right) \\ {\\mapsto} \\ \\tilde{K}_{lm}\\left(r, ω\\right) e^{\\left(-i \\, t ω\\right)}, H_{lm}^{(0)}\\left(t, r\\right) : \\left( r, ω \\right) \\ {\\mapsto} \\ \\tilde{H}^{(0)}_{lm}\\left(r, ω\\right) e^{\\left(-i \\, t ω\\right)}, H_{lm}^{(1)}\\left(t, r\\right) : \\left( r, ω \\right) \\ {\\mapsto} \\ \\tilde{H}^{(1)}_{lm}\\left(r, ω\\right) e^{\\left(-i \\, t ω\\right)}\\right\\}$"
      ],
      "text/plain": [
       "{K(t, r): (r, ω) |--> Kf(r, ω)*e^(-I*t*ω),\n",
       " H0(t, r): (r, ω) |--> H0f(r, ω)*e^(-I*t*ω),\n",
       " H1(t, r): (r, ω) |--> H1f(r, ω)*e^(-I*t*ω)}"
      ]
     },
     "metadata": {},
     "output_type": "display_data"
    }
   ],
   "source": [
    "Kf(r,ω) = function('Kf', latex_name=r'\\tilde{K}_{lm}')(r,ω)\n",
    "H0f(r,ω) = function('H0f', latex_name=r'\\tilde{H}^{(0)}_{lm}')(r,ω)\n",
    "H1f(r,ω) = function('H1f', latex_name=r'\\tilde{H}^{(1)}_{lm}')(r,ω)\n",
    "fun_H = {K(t,r):Kf*exp(-i*ω*t), H0(t,r):H0f*exp(-i*ω*t), H1(t,r):H1f*exp(-i*ω*t)}\n",
    "show(fun_H)"
   ]
  },
  {
   "cell_type": "markdown",
   "id": "9c985ca8",
   "metadata": {},
   "source": [
    "Aplicando a tranformada na equação (12.366), temos a equação (12.372):"
   ]
  },
  {
   "cell_type": "code",
   "execution_count": 87,
   "id": "0dbcce30",
   "metadata": {},
   "outputs": [],
   "source": [
    "eq_Z0_Rt = (eq_Rt.substitute_function(fun_H)*exp(i*ω*t))/(-i*ω)"
   ]
  },
  {
   "cell_type": "code",
   "execution_count": 88,
   "id": "988aa599",
   "metadata": {},
   "outputs": [],
   "source": [
    "eq_Z0_K = eq_Z0_Rt.lhs() == mycollect(mycollect(mycollect(eq_Z0_Rt.rhs(), Kf(r, ω)), H0f(r, ω)), H1f(r, ω))\n",
    "# eq. 12.372"
   ]
  },
  {
   "cell_type": "code",
   "execution_count": 89,
   "id": "ed81de1a",
   "metadata": {},
   "outputs": [
    {
     "data": {
      "text/plain": [
       "diff(Kf(r, ω), r) == (2*M*r/(2*M*r^2 - r^3) - r^2/(2*M*r^2 - r^3))*H0f(r, ω) - 1/2*(-2*I*M*cl/((2*M*r^2 - r^3)*ω) + I*cl*r/((2*M*r^2 - r^3)*ω))*H1f(r, ω) - (3*M*r/(2*M*r^2 - r^3) - r^2/(2*M*r^2 - r^3))*Kf(r, ω)"
      ]
     },
     "execution_count": 89,
     "metadata": {},
     "output_type": "execute_result"
    }
   ],
   "source": [
    "eq_Z0_K"
   ]
  },
  {
   "cell_type": "markdown",
   "id": "97f9c1b6",
   "metadata": {},
   "source": [
    "Aqui, para encontrar a solução para $\\partial_r \\tilde{H}^{(2)}$ faremos dois passos. Primeiro, realizaremos a tranformada de Fourier na eq. (12.370), e em seguida simplificaremos $\\partial_r \\tilde{K}$ com o uso da eq. (12.372):"
   ]
  },
  {
   "cell_type": "code",
   "execution_count": 90,
   "id": "dfe62826",
   "metadata": {},
   "outputs": [],
   "source": [
    "eq_Z0_E1 = ((((eq_E1.substitute_function(fun_H)*exp(i*ω*t))/(-i*ω)).simplify().expand())-H1f(r, ω))*(-1)"
   ]
  },
  {
   "cell_type": "code",
   "execution_count": 91,
   "id": "7c400bea",
   "metadata": {},
   "outputs": [],
   "source": [
    "eq_Z0_E1_1 = mycollect(mycollect(mycollect(mycollect((eq_Z0_E1.rhs().subs(eq_Z0_K)).expand().simplify(), \n",
    "            H1f(r, ω)), H0f(r, ω)), Kf(r, ω)), diff(H0f(r, ω), r)) == eq_Z0_E1.lhs()"
   ]
  },
  {
   "cell_type": "code",
   "execution_count": 92,
   "id": "adbe9c20",
   "metadata": {},
   "outputs": [
    {
     "data": {
      "text/plain": [
       "(-4*I*M^2/((2*M*r^2 - r^3)*ω) + 4*I*M*r/((2*M*r^2 - r^3)*ω) - I*r^2/((2*M*r^2 - r^3)*ω) - 2*I*M/(r^2*ω))*H0f(r, ω) - 1/2*(4*M*cl/((2*M*r^2 - r^3)*ω^2) - 4*M^2*cl/((2*M*r^2 - r^3)*r*ω^2) - cl*r/((2*M*r^2 - r^3)*ω^2) - 2)*H1f(r, ω) + (6*I*M^2/((2*M*r^2 - r^3)*ω) - 5*I*M*r/((2*M*r^2 - r^3)*ω) + I*r^2/((2*M*r^2 - r^3)*ω))*Kf(r, ω) + (2*I*M/(r*ω) - I/ω)*diff(H0f(r, ω), r) == 0"
      ]
     },
     "execution_count": 92,
     "metadata": {},
     "output_type": "execute_result"
    }
   ],
   "source": [
    "eq_Z0_E1_1"
   ]
  },
  {
   "cell_type": "code",
   "execution_count": 93,
   "id": "1f670f50",
   "metadata": {},
   "outputs": [],
   "source": [
    "eq_Z0_E1_2 =  eq_Z0_E1_1.solve(diff(H0f(r, ω), r))[0]\n",
    "#((eq_Z0_E1_1 - (2*i*M/(r*ω) -i/ω)*diff(H0f(r, ω), r))/(-((2*i*M/(r*ω) -i/ω)))).factor()"
   ]
  },
  {
   "cell_type": "code",
   "execution_count": 94,
   "id": "5c54e47d",
   "metadata": {},
   "outputs": [
    {
     "data": {
      "text/html": [
       "<html>\\(\\displaystyle \\frac{\\partial}{\\partial r}\\tilde{H}^{(0)}_{lm}\\left(r, ω\\right) = -\\frac{2 \\, r^{3} ω^{2} \\tilde{H}^{(1)}_{lm}\\left(r, ω\\right) - 2 \\, {\\left({\\left(4 i \\, M r - i \\, r^{2}\\right)} \\tilde{H}^{(0)}_{lm}\\left(r, ω\\right) + {\\left(-3 i \\, M r + i \\, r^{2}\\right)} \\tilde{K}_{lm}\\left(r, ω\\right)\\right)} ω + {\\left(2 \\, M {l(l+1)} - {l(l+1)} r\\right)} \\tilde{H}^{(1)}_{lm}\\left(r, ω\\right)}{2 \\, {\\left(2 i \\, M r^{2} - i \\, r^{3}\\right)} ω}\\)</html>"
      ],
      "text/latex": [
       "$\\displaystyle \\frac{\\partial}{\\partial r}\\tilde{H}^{(0)}_{lm}\\left(r, ω\\right) = -\\frac{2 \\, r^{3} ω^{2} \\tilde{H}^{(1)}_{lm}\\left(r, ω\\right) - 2 \\, {\\left({\\left(4 i \\, M r - i \\, r^{2}\\right)} \\tilde{H}^{(0)}_{lm}\\left(r, ω\\right) + {\\left(-3 i \\, M r + i \\, r^{2}\\right)} \\tilde{K}_{lm}\\left(r, ω\\right)\\right)} ω + {\\left(2 \\, M {l(l+1)} - {l(l+1)} r\\right)} \\tilde{H}^{(1)}_{lm}\\left(r, ω\\right)}{2 \\, {\\left(2 i \\, M r^{2} - i \\, r^{3}\\right)} ω}$"
      ],
      "text/plain": [
       "diff(H0f(r, ω), r) == -1/2*(2*r^3*ω^2*H1f(r, ω) - 2*((4*I*M*r - I*r^2)*H0f(r, ω) + (-3*I*M*r + I*r^2)*Kf(r, ω))*ω + (2*M*cl - cl*r)*H1f(r, ω))/((2*I*M*r^2 - I*r^3)*ω)"
      ]
     },
     "metadata": {},
     "output_type": "display_data"
    }
   ],
   "source": [
    "show(eq_Z0_E1_2)"
   ]
  },
  {
   "cell_type": "code",
   "execution_count": 95,
   "id": "09020b54",
   "metadata": {},
   "outputs": [],
   "source": [
    "eq_Z0_E1_3 = eq_Z0_E1_2.lhs() == mycollect(mycollect(mycollect(eq_Z0_E1_2.rhs().expand(), Kf(r, ω)), H1f(r, ω)), H0f(r, ω))\n",
    "# eq. 373"
   ]
  },
  {
   "cell_type": "code",
   "execution_count": 96,
   "id": "d37ba494",
   "metadata": {},
   "outputs": [
    {
     "data": {
      "text/html": [
       "<html>\\(\\displaystyle \\frac{\\partial}{\\partial r}\\tilde{H}^{(0)}_{lm}\\left(r, ω\\right) = -\\frac{-2 i \\, r^{3} ω^{2} \\tilde{H}^{(1)}_{lm}\\left(r, ω\\right) - 8 \\, M r ω \\tilde{H}^{(0)}_{lm}\\left(r, ω\\right) + 2 \\, r^{2} ω \\tilde{H}^{(0)}_{lm}\\left(r, ω\\right) + 6 \\, M r ω \\tilde{K}_{lm}\\left(r, ω\\right) - 2 \\, r^{2} ω \\tilde{K}_{lm}\\left(r, ω\\right) - 2 i \\, M {l(l+1)} \\tilde{H}^{(1)}_{lm}\\left(r, ω\\right) + i \\, {l(l+1)} r \\tilde{H}^{(1)}_{lm}\\left(r, ω\\right)}{2 \\, {\\left(2 \\, M - r\\right)} r^{2} ω}\\)</html>"
      ],
      "text/latex": [
       "$\\displaystyle \\frac{\\partial}{\\partial r}\\tilde{H}^{(0)}_{lm}\\left(r, ω\\right) = -\\frac{-2 i \\, r^{3} ω^{2} \\tilde{H}^{(1)}_{lm}\\left(r, ω\\right) - 8 \\, M r ω \\tilde{H}^{(0)}_{lm}\\left(r, ω\\right) + 2 \\, r^{2} ω \\tilde{H}^{(0)}_{lm}\\left(r, ω\\right) + 6 \\, M r ω \\tilde{K}_{lm}\\left(r, ω\\right) - 2 \\, r^{2} ω \\tilde{K}_{lm}\\left(r, ω\\right) - 2 i \\, M {l(l+1)} \\tilde{H}^{(1)}_{lm}\\left(r, ω\\right) + i \\, {l(l+1)} r \\tilde{H}^{(1)}_{lm}\\left(r, ω\\right)}{2 \\, {\\left(2 \\, M - r\\right)} r^{2} ω}$"
      ],
      "text/plain": [
       "diff(H0f(r, ω), r) == -1/2*(-2*I*r^3*ω^2*H1f(r, ω) - 8*M*r*ω*H0f(r, ω) + 2*r^2*ω*H0f(r, ω) + 6*M*r*ω*Kf(r, ω) - 2*r^2*ω*Kf(r, ω) - 2*I*M*cl*H1f(r, ω) + I*cl*r*H1f(r, ω))/((2*M - r)*r^2*ω)"
      ]
     },
     "metadata": {},
     "output_type": "display_data"
    }
   ],
   "source": [
    "show(eq_Z0_E1_3.factor())"
   ]
  },
  {
   "cell_type": "markdown",
   "id": "cac1c9cc",
   "metadata": {},
   "source": [
    "Aqui, para encontrar a solução para $\\partial_r \\tilde{H}^{(1)}$, faremos a tranformada de Fourier na eq. (12.369) e isolaremos a derivada:"
   ]
  },
  {
   "cell_type": "code",
   "execution_count": 97,
   "id": "a89deafe",
   "metadata": {},
   "outputs": [],
   "source": [
    "eq_Et_f = ((eq_Et.substitute_function(fun_H)*exp(i*ω*t))/(-i*ω)).expand()"
   ]
  },
  {
   "cell_type": "code",
   "execution_count": 98,
   "id": "10c27ff6",
   "metadata": {},
   "outputs": [
    {
     "data": {
      "text/html": [
       "<html>\\(\\displaystyle \\tilde{K}_{lm}\\left(r, ω\\right) = -\\frac{2 i \\, M \\frac{\\partial}{\\partial r}\\tilde{H}^{(1)}_{lm}\\left(r, ω\\right)}{r ω} + \\frac{i \\, \\frac{\\partial}{\\partial r}\\tilde{H}^{(1)}_{lm}\\left(r, ω\\right)}{ω} + \\frac{2 i \\, M \\tilde{H}^{(1)}_{lm}\\left(r, ω\\right)}{r^{2} ω} - \\tilde{H}^{(0)}_{lm}\\left(r, ω\\right)\\)</html>"
      ],
      "text/latex": [
       "$\\displaystyle \\tilde{K}_{lm}\\left(r, ω\\right) = -\\frac{2 i \\, M \\frac{\\partial}{\\partial r}\\tilde{H}^{(1)}_{lm}\\left(r, ω\\right)}{r ω} + \\frac{i \\, \\frac{\\partial}{\\partial r}\\tilde{H}^{(1)}_{lm}\\left(r, ω\\right)}{ω} + \\frac{2 i \\, M \\tilde{H}^{(1)}_{lm}\\left(r, ω\\right)}{r^{2} ω} - \\tilde{H}^{(0)}_{lm}\\left(r, ω\\right)$"
      ],
      "text/plain": [
       "Kf(r, ω) == -2*I*M*diff(H1f(r, ω), r)/(r*ω) + I*diff(H1f(r, ω), r)/ω + 2*I*M*H1f(r, ω)/(r^2*ω) - H0f(r, ω)"
      ]
     },
     "metadata": {},
     "output_type": "display_data"
    }
   ],
   "source": [
    "show(eq_Et_f)"
   ]
  },
  {
   "cell_type": "code",
   "execution_count": 99,
   "id": "b6a46b16",
   "metadata": {},
   "outputs": [],
   "source": [
    "eq_Et_f_1 = eq_Et_f.solve(diff(H1f(r, ω), r))[0]\n",
    "# ((eq_Et_f.lhs() == mycollect(eq_Et_f.rhs(), diff(H1f(r, ω), r)))-(-2*I*M/(r*ω) + I/ω)*diff(H1f(r, ω), r) - Kf(r, ω))/(-2*I*M/(r*ω) + I/ω)*(-1)"
   ]
  },
  {
   "cell_type": "code",
   "execution_count": 100,
   "id": "f6e60702",
   "metadata": {},
   "outputs": [
    {
     "data": {
      "text/html": [
       "<html>\\(\\displaystyle \\frac{\\partial}{\\partial r}\\tilde{H}^{(1)}_{lm}\\left(r, ω\\right) = \\frac{{\\left(r^{2} \\tilde{H}^{(0)}_{lm}\\left(r, ω\\right) + r^{2} \\tilde{K}_{lm}\\left(r, ω\\right)\\right)} ω - 2 i \\, M \\tilde{H}^{(1)}_{lm}\\left(r, ω\\right)}{-2 i \\, M r + i \\, r^{2}}\\)</html>"
      ],
      "text/latex": [
       "$\\displaystyle \\frac{\\partial}{\\partial r}\\tilde{H}^{(1)}_{lm}\\left(r, ω\\right) = \\frac{{\\left(r^{2} \\tilde{H}^{(0)}_{lm}\\left(r, ω\\right) + r^{2} \\tilde{K}_{lm}\\left(r, ω\\right)\\right)} ω - 2 i \\, M \\tilde{H}^{(1)}_{lm}\\left(r, ω\\right)}{-2 i \\, M r + i \\, r^{2}}$"
      ],
      "text/plain": [
       "diff(H1f(r, ω), r) == ((r^2*H0f(r, ω) + r^2*Kf(r, ω))*ω - 2*I*M*H1f(r, ω))/(-2*I*M*r + I*r^2)"
      ]
     },
     "metadata": {},
     "output_type": "display_data"
    }
   ],
   "source": [
    "show(eq_Et_f_1)"
   ]
  },
  {
   "cell_type": "code",
   "execution_count": 101,
   "id": "680a9ce1",
   "metadata": {},
   "outputs": [],
   "source": [
    "eq_Et_f_2 = eq_Et_f_1.lhs() == mycollect(mycollect(mycollect(eq_Et_f_1.rhs(), H1f(r, ω)), Kf(r, ω)), H0f(r, ω))\n",
    "# eq. 12.374"
   ]
  },
  {
   "cell_type": "code",
   "execution_count": 102,
   "id": "be37b142",
   "metadata": {},
   "outputs": [
    {
     "data": {
      "text/html": [
       "<html>\\(\\displaystyle \\frac{\\partial}{\\partial r}\\tilde{H}^{(1)}_{lm}\\left(r, ω\\right) = \\frac{r^{2} ω \\tilde{H}^{(0)}_{lm}\\left(r, ω\\right)}{-2 i \\, M r + i \\, r^{2}} + \\frac{r^{2} ω \\tilde{K}_{lm}\\left(r, ω\\right)}{-2 i \\, M r + i \\, r^{2}} - \\frac{2 i \\, M \\tilde{H}^{(1)}_{lm}\\left(r, ω\\right)}{-2 i \\, M r + i \\, r^{2}}\\)</html>"
      ],
      "text/latex": [
       "$\\displaystyle \\frac{\\partial}{\\partial r}\\tilde{H}^{(1)}_{lm}\\left(r, ω\\right) = \\frac{r^{2} ω \\tilde{H}^{(0)}_{lm}\\left(r, ω\\right)}{-2 i \\, M r + i \\, r^{2}} + \\frac{r^{2} ω \\tilde{K}_{lm}\\left(r, ω\\right)}{-2 i \\, M r + i \\, r^{2}} - \\frac{2 i \\, M \\tilde{H}^{(1)}_{lm}\\left(r, ω\\right)}{-2 i \\, M r + i \\, r^{2}}$"
      ],
      "text/plain": [
       "diff(H1f(r, ω), r) == r^2*ω*H0f(r, ω)/(-2*I*M*r + I*r^2) + r^2*ω*Kf(r, ω)/(-2*I*M*r + I*r^2) - 2*I*M*H1f(r, ω)/(-2*I*M*r + I*r^2)"
      ]
     },
     "metadata": {},
     "output_type": "display_data"
    }
   ],
   "source": [
    "show(eq_Et_f_2)"
   ]
  },
  {
   "cell_type": "markdown",
   "id": "9a438b00",
   "metadata": {},
   "source": [
    "___"
   ]
  },
  {
   "cell_type": "markdown",
   "id": "568bed74",
   "metadata": {},
   "source": [
    "Checagem eq. 12.365:"
   ]
  },
  {
   "cell_type": "code",
   "execution_count": 103,
   "id": "06e45046",
   "metadata": {},
   "outputs": [],
   "source": [
    "eq_tt_f = ((eq_tt.substitute_function(fun_H)*exp(i*ω*t))).canonicalize_radical() #eq. 12.365 - tranfs. por Fourier"
   ]
  },
  {
   "cell_type": "code",
   "execution_count": 104,
   "id": "1bb0b13b",
   "metadata": {},
   "outputs": [
    {
     "data": {
      "text/html": [
       "<html>\\(\\displaystyle \\frac{\\partial^{2}}{(\\partial r)^{2}}\\tilde{K}_{lm}\\left(r, ω\\right) = -\\frac{{\\left({l(l+1)} + 2\\right)} \\tilde{H}^{(0)}_{lm}\\left(r, ω\\right) + {\\left({l(l+1)} - 2\\right)} \\tilde{K}_{lm}\\left(r, ω\\right) - 2 \\, {\\left(2 \\, M - r\\right)} \\frac{\\partial}{\\partial r}\\tilde{H}^{(0)}_{lm}\\left(r, ω\\right) + 2 \\, {\\left(5 \\, M - 3 \\, r\\right)} \\frac{\\partial}{\\partial r}\\tilde{K}_{lm}\\left(r, ω\\right)}{2 \\, {\\left(2 \\, M r - r^{2}\\right)}}\\)</html>"
      ],
      "text/latex": [
       "$\\displaystyle \\frac{\\partial^{2}}{(\\partial r)^{2}}\\tilde{K}_{lm}\\left(r, ω\\right) = -\\frac{{\\left({l(l+1)} + 2\\right)} \\tilde{H}^{(0)}_{lm}\\left(r, ω\\right) + {\\left({l(l+1)} - 2\\right)} \\tilde{K}_{lm}\\left(r, ω\\right) - 2 \\, {\\left(2 \\, M - r\\right)} \\frac{\\partial}{\\partial r}\\tilde{H}^{(0)}_{lm}\\left(r, ω\\right) + 2 \\, {\\left(5 \\, M - 3 \\, r\\right)} \\frac{\\partial}{\\partial r}\\tilde{K}_{lm}\\left(r, ω\\right)}{2 \\, {\\left(2 \\, M r - r^{2}\\right)}}$"
      ],
      "text/plain": [
       "diff(Kf(r, ω), r, r) == -1/2*((cl + 2)*H0f(r, ω) + (cl - 2)*Kf(r, ω) - 2*(2*M - r)*diff(H0f(r, ω), r) + 2*(5*M - 3*r)*diff(Kf(r, ω), r))/(2*M*r - r^2)"
      ]
     },
     "metadata": {},
     "output_type": "display_data"
    }
   ],
   "source": [
    "show(eq_tt_f)"
   ]
  },
  {
   "cell_type": "code",
   "execution_count": 105,
   "id": "c4cdecb6",
   "metadata": {},
   "outputs": [],
   "source": [
    "check1 = (mycollect(mycollect(eq_tt_f.rhs(), diff(Kf(r, ω), r)), diff(H0f(r, ω), r)).subs(eq_Z0_K).subs(eq_Z0_E1_3)).full_simplify()"
   ]
  },
  {
   "cell_type": "code",
   "execution_count": 106,
   "id": "10e64e46",
   "metadata": {},
   "outputs": [
    {
     "data": {
      "text/html": [
       "<html>\\(\\displaystyle -\\frac{2 \\, {\\left(2 \\, M r^{3} - r^{4}\\right)} ω^{2} \\tilde{H}^{(1)}_{lm}\\left(r, ω\\right) - {\\left({\\left({\\left(i \\, {l(l+1)} - 2 i\\right)} r^{3} - 4 i \\, M^{2} r + 2 \\, {\\left(-i \\, M {l(l+1)} + 3 i \\, M\\right)} r^{2}\\right)} \\tilde{H}^{(0)}_{lm}\\left(r, ω\\right) + {\\left({\\left(i \\, {l(l+1)} + 2 i\\right)} r^{3} + 18 i \\, M^{2} r + 2 \\, {\\left(-i \\, M {l(l+1)} - 7 i \\, M\\right)} r^{2}\\right)} \\tilde{K}_{lm}\\left(r, ω\\right)\\right)} ω - {\\left(6 \\, M^{2} {l(l+1)} - 7 \\, M {l(l+1)} r + 2 \\, {l(l+1)} r^{2}\\right)} \\tilde{H}^{(1)}_{lm}\\left(r, ω\\right)}{2 \\, {\\left(4 i \\, M^{2} r^{3} - 4 i \\, M r^{4} + i \\, r^{5}\\right)} ω}\\)</html>"
      ],
      "text/latex": [
       "$\\displaystyle -\\frac{2 \\, {\\left(2 \\, M r^{3} - r^{4}\\right)} ω^{2} \\tilde{H}^{(1)}_{lm}\\left(r, ω\\right) - {\\left({\\left({\\left(i \\, {l(l+1)} - 2 i\\right)} r^{3} - 4 i \\, M^{2} r + 2 \\, {\\left(-i \\, M {l(l+1)} + 3 i \\, M\\right)} r^{2}\\right)} \\tilde{H}^{(0)}_{lm}\\left(r, ω\\right) + {\\left({\\left(i \\, {l(l+1)} + 2 i\\right)} r^{3} + 18 i \\, M^{2} r + 2 \\, {\\left(-i \\, M {l(l+1)} - 7 i \\, M\\right)} r^{2}\\right)} \\tilde{K}_{lm}\\left(r, ω\\right)\\right)} ω - {\\left(6 \\, M^{2} {l(l+1)} - 7 \\, M {l(l+1)} r + 2 \\, {l(l+1)} r^{2}\\right)} \\tilde{H}^{(1)}_{lm}\\left(r, ω\\right)}{2 \\, {\\left(4 i \\, M^{2} r^{3} - 4 i \\, M r^{4} + i \\, r^{5}\\right)} ω}$"
      ],
      "text/plain": [
       "-1/2*(2*(2*M*r^3 - r^4)*ω^2*H1f(r, ω) - (((I*cl - 2*I)*r^3 - 4*I*M^2*r + 2*(-I*M*cl + 3*I*M)*r^2)*H0f(r, ω) + ((I*cl + 2*I)*r^3 + 18*I*M^2*r + 2*(-I*M*cl - 7*I*M)*r^2)*Kf(r, ω))*ω - (6*M^2*cl - 7*M*cl*r + 2*cl*r^2)*H1f(r, ω))/((4*I*M^2*r^3 - 4*I*M*r^4 + I*r^5)*ω)"
      ]
     },
     "metadata": {},
     "output_type": "display_data"
    }
   ],
   "source": [
    "show(check1)"
   ]
  },
  {
   "cell_type": "code",
   "execution_count": 107,
   "id": "8addfc88",
   "metadata": {},
   "outputs": [],
   "source": [
    "check2 = (diff(eq_Z0_K.rhs(), r).subs(eq_Z0_K).subs(eq_Z0_E1_3).subs(eq_Et_f_2)).canonicalize_radical() # usando eq. 372"
   ]
  },
  {
   "cell_type": "code",
   "execution_count": 108,
   "id": "d21147cb",
   "metadata": {},
   "outputs": [
    {
     "data": {
      "text/plain": [
       "1/2*(2*(2*M*r^3 - r^4)*ω^2*H1f(r, ω) - (((I*cl - 2*I)*r^3 - 4*I*M^2*r - 2*(I*M*cl - 3*I*M)*r^2)*H0f(r, ω) + ((I*cl + 2*I)*r^3 + 18*I*M^2*r - 2*(I*M*cl + 7*I*M)*r^2)*Kf(r, ω))*ω - (6*M^2*cl - 7*M*cl*r + 2*cl*r^2)*H1f(r, ω))/((-4*I*M^2*r^3 + 4*I*M*r^4 - I*r^5)*ω)"
      ]
     },
     "execution_count": 108,
     "metadata": {},
     "output_type": "execute_result"
    }
   ],
   "source": [
    "check2"
   ]
  },
  {
   "cell_type": "code",
   "execution_count": 109,
   "id": "d8cabdca",
   "metadata": {},
   "outputs": [
    {
     "data": {
      "text/html": [
       "<html>\\(\\displaystyle 0\\)</html>"
      ],
      "text/latex": [
       "$\\displaystyle 0$"
      ],
      "text/plain": [
       "0"
      ]
     },
     "metadata": {},
     "output_type": "display_data"
    }
   ],
   "source": [
    "show((check1 - check2).full_simplify())"
   ]
  },
  {
   "cell_type": "markdown",
   "id": "7ed56c30",
   "metadata": {},
   "source": [
    "Checagem eq. 12.368:"
   ]
  },
  {
   "cell_type": "code",
   "execution_count": 110,
   "id": "c1d8bb78",
   "metadata": {},
   "outputs": [],
   "source": [
    "eq_T0_f = (eq_T0.substitute_function(fun_H)*exp(i*ω*t))/(-i*ω)^2 "
   ]
  },
  {
   "cell_type": "code",
   "execution_count": 111,
   "id": "73dac4cb",
   "metadata": {},
   "outputs": [
    {
     "data": {
      "text/plain": [
       "Kf(r, ω) == -(ω^2*H0f(r, ω)*e^(-I*t*ω) + 2*I*ω*(M/r^2 - 1/r)*H1f(r, ω)*e^(-I*t*ω) + 2*I*ω*(2*M/r - 1)*e^(-I*t*ω)*diff(H1f(r, ω), r) + 2*(2*M/r^2 - 1/r)*e^(-I*t*ω)*diff(H0f(r, ω), r) - (4*M^2/r^2 - 4*M/r + 1)*e^(-I*t*ω)*diff(H0f(r, ω), r, r) + 2*(2*M^2/r^3 - 3*M/r^2 + 1/r)*e^(-I*t*ω)*diff(Kf(r, ω), r) + (4*M^2/r^2 - 4*M/r + 1)*e^(-I*t*ω)*diff(Kf(r, ω), r, r))*e^(I*t*ω)/ω^2"
      ]
     },
     "execution_count": 111,
     "metadata": {},
     "output_type": "execute_result"
    }
   ],
   "source": [
    "eq_T0_f"
   ]
  },
  {
   "cell_type": "code",
   "execution_count": 112,
   "id": "cdfad73b",
   "metadata": {},
   "outputs": [],
   "source": [
    "check3 = (eq_T0_f).subs({diff(H0f(r, ω), r, 2) : diff(eq_Z0_E1_3.rhs(), r)}).subs(eq_tt_f).subs(eq_Et_f_2).subs(eq_Z0_E1_3).full_simplify()"
   ]
  },
  {
   "cell_type": "code",
   "execution_count": 113,
   "id": "ddc67841",
   "metadata": {},
   "outputs": [
    {
     "data": {
      "text/plain": [
       "Kf(r, ω) == Kf(r, ω)"
      ]
     },
     "execution_count": 113,
     "metadata": {},
     "output_type": "execute_result"
    }
   ],
   "source": [
    "check3"
   ]
  },
  {
   "cell_type": "markdown",
   "id": "789574d6",
   "metadata": {},
   "source": [
    "---"
   ]
  },
  {
   "cell_type": "markdown",
   "id": "ff8ce6d1",
   "metadata": {},
   "source": [
    "Para encontrar a solução para $\\tilde{K}$, usamores a tranformada de Fourier na eq. (12.367), e substituiremos as derivadas $\\partial_r \\tilde{K}$ e $\\partial_r \\tilde{H}^{(0)}$ usando as equações (12.371) e (12.372), respectivamente:"
   ]
  },
  {
   "cell_type": "code",
   "execution_count": 114,
   "id": "5ab9e631",
   "metadata": {},
   "outputs": [],
   "source": [
    "eq_L0_f = ((eq_L0.substitute_function(fun_H)*exp(i*ω*t))/(-i*ω)^2).subs(eq_Z0_K).subs(eq_Z0_E1_3).full_simplify()"
   ]
  },
  {
   "cell_type": "code",
   "execution_count": 115,
   "id": "c174088b",
   "metadata": {},
   "outputs": [
    {
     "data": {
      "text/plain": [
       "Kf(r, ω) == 1/2*(2*(-2*I*M*r^3 + I*r^4)*ω^2*H1f(r, ω) - (((cl - 2)*r^3 - 12*M^2*r - 2*(M*cl - 5*M)*r^2)*H0f(r, ω) - ((cl - 2)*r^3 - 6*M^2*r - 2*(M*cl - 3*M)*r^2)*Kf(r, ω))*ω + (2*I*M^2*cl - I*M*cl*r)*H1f(r, ω))/(r^5*ω^3)"
      ]
     },
     "execution_count": 115,
     "metadata": {},
     "output_type": "execute_result"
    }
   ],
   "source": [
    "eq_L0_f"
   ]
  },
  {
   "cell_type": "code",
   "execution_count": 116,
   "id": "85c9c926",
   "metadata": {},
   "outputs": [],
   "source": [
    "eq_Z_aux = (((eq_L0_f.rhs() - Kf(r, ω) == 0).canonicalize_radical())*(2*r^5*ω^3)).expand()"
   ]
  },
  {
   "cell_type": "code",
   "execution_count": 117,
   "id": "56748b03",
   "metadata": {},
   "outputs": [
    {
     "data": {
      "text/plain": [
       "-2*r^5*ω^3*Kf(r, ω) - 4*I*M*r^3*ω^2*H1f(r, ω) + 2*I*r^4*ω^2*H1f(r, ω) + 2*M*cl*r^2*ω*H0f(r, ω) - cl*r^3*ω*H0f(r, ω) - 2*M*cl*r^2*ω*Kf(r, ω) + cl*r^3*ω*Kf(r, ω) + 12*M^2*r*ω*H0f(r, ω) - 10*M*r^2*ω*H0f(r, ω) + 2*r^3*ω*H0f(r, ω) - 6*M^2*r*ω*Kf(r, ω) + 6*M*r^2*ω*Kf(r, ω) - 2*r^3*ω*Kf(r, ω) + 2*I*M^2*cl*H1f(r, ω) - I*M*cl*r*H1f(r, ω) == 0"
      ]
     },
     "execution_count": 117,
     "metadata": {},
     "output_type": "execute_result"
    }
   ],
   "source": [
    "eq_Z_aux"
   ]
  },
  {
   "cell_type": "markdown",
   "id": "9d6e3f8a",
   "metadata": {},
   "source": [
    "Ao reorganizar a expressão acima, temos a eq. (12.375):"
   ]
  },
  {
   "cell_type": "code",
   "execution_count": 118,
   "id": "80efc034",
   "metadata": {},
   "outputs": [],
   "source": [
    "eq_Z = mycollect(mycollect(mycollect(eq_Z_aux.lhs(), Kf(r, ω)), H0f(r, ω)), H1f(r, ω)) == eq_Z_aux.rhs() #eq. 12.375"
   ]
  },
  {
   "cell_type": "code",
   "execution_count": 119,
   "id": "2e49876d",
   "metadata": {},
   "outputs": [
    {
     "data": {
      "text/plain": [
       "(2*M*cl*r^2*ω - cl*r^3*ω + 12*M^2*r*ω - 10*M*r^2*ω + 2*r^3*ω)*H0f(r, ω) + (-4*I*M*r^3*ω^2 + 2*I*r^4*ω^2 + 2*I*M^2*cl - I*M*cl*r)*H1f(r, ω) - (2*r^5*ω^3 + 2*M*cl*r^2*ω - cl*r^3*ω + 6*M^2*r*ω - 6*M*r^2*ω + 2*r^3*ω)*Kf(r, ω) == 0"
      ]
     },
     "execution_count": 119,
     "metadata": {},
     "output_type": "execute_result"
    }
   ],
   "source": [
    "eq_Z"
   ]
  },
  {
   "cell_type": "markdown",
   "id": "6002767c",
   "metadata": {},
   "source": [
    "Isolado $\\tilde{H}^{(0)}_{lm}\\left(r, ω\\right)$ na equação acima (eq. 12.375):"
   ]
  },
  {
   "cell_type": "code",
   "execution_count": 120,
   "id": "af733265",
   "metadata": {},
   "outputs": [],
   "source": [
    "eq_H0f = eq_Z.solve(H0f(r, ω))[0]\n",
    "#eq_H0f = H0f(r, ω) == mycollect(mycollect((eq_Z.lhs() - (2*M*cl*r^2*ω - cl*r^3*ω + 12*M^2*r*ω - 10*M*r^2*ω + 2*r^3*ω)*H0f(r, ω))/(2*M*cl*r^2*ω - cl*r^3*ω + 12*M^2*r*ω - 10*M*r^2*ω + 2*r^3*ω), H1f(r, ω)), Kf(r, ω))"
   ]
  },
  {
   "cell_type": "code",
   "execution_count": 121,
   "id": "4cb2bbd3",
   "metadata": {},
   "outputs": [
    {
     "data": {
      "text/plain": [
       "H0f(r, ω) == (2*r^5*ω^3*Kf(r, ω) + 4*I*M*r^3*ω^2*H1f(r, ω) - 2*I*r^4*ω^2*H1f(r, ω) + 2*M*cl*r^2*ω*Kf(r, ω) - cl*r^3*ω*Kf(r, ω) + 6*M^2*r*ω*Kf(r, ω) - 6*M*r^2*ω*Kf(r, ω) + 2*r^3*ω*Kf(r, ω) - 2*I*M^2*cl*H1f(r, ω) + I*M*cl*r*H1f(r, ω))/((cl*r + 6*M - 2*r)*(2*M - r)*r*ω)"
      ]
     },
     "execution_count": 121,
     "metadata": {},
     "output_type": "execute_result"
    }
   ],
   "source": [
    "eq_H0f.factor()"
   ]
  },
  {
   "cell_type": "markdown",
   "id": "4d837072",
   "metadata": {},
   "source": [
    "Substituindo a expressão acima na eq. (12.372):"
   ]
  },
  {
   "cell_type": "code",
   "execution_count": 122,
   "id": "6f4aa11e",
   "metadata": {},
   "outputs": [],
   "source": [
    "eq_Z1_aux = eq_Z0_K.rhs().subs(eq_H0f)"
   ]
  },
  {
   "cell_type": "code",
   "execution_count": 123,
   "id": "aa250b7f",
   "metadata": {},
   "outputs": [
    {
     "data": {
      "text/plain": [
       "-1/2*(-2*I*M*cl/((2*M*r^2 - r^3)*ω) + I*cl*r/((2*M*r^2 - r^3)*ω))*H1f(r, ω) - (3*M*r/(2*M*r^2 - r^3) - r^2/(2*M*r^2 - r^3))*Kf(r, ω) - (2*r^5*ω^3*Kf(r, ω) - 2*(-2*I*M*r^3 + I*r^4)*ω^2*H1f(r, ω) - ((cl - 2)*r^3 - 6*M^2*r - 2*(M*cl - 3*M)*r^2)*ω*Kf(r, ω) + (-2*I*M^2*cl + I*M*cl*r)*H1f(r, ω))*(2*M*r/(2*M*r^2 - r^3) - r^2/(2*M*r^2 - r^3))/(((cl - 2)*r^3 - 12*M^2*r - 2*(M*cl - 5*M)*r^2)*ω)"
      ]
     },
     "execution_count": 123,
     "metadata": {},
     "output_type": "execute_result"
    }
   ],
   "source": [
    "eq_Z1_aux"
   ]
  },
  {
   "cell_type": "markdown",
   "id": "6116c940",
   "metadata": {},
   "source": [
    "Assim, teremos a eq. (12.377):"
   ]
  },
  {
   "cell_type": "code",
   "execution_count": 124,
   "id": "79acb95f",
   "metadata": {},
   "outputs": [],
   "source": [
    "eq_Z1 = (diff(Kf(r, ω), r) == mycollect(mycollect(eq_Z1_aux, Kf(r, ω)), H1f(r, ω)))\n",
    "#eq. 12.377"
   ]
  },
  {
   "cell_type": "code",
   "execution_count": 125,
   "id": "bef83cdb",
   "metadata": {},
   "outputs": [
    {
     "data": {
      "text/plain": [
       "diff(Kf(r, ω), r) == -1/2*(-16*I*M^2*r^4*ω/((2*M*cl*r^2 - cl*r^3 + 12*M^2*r - 10*M*r^2 + 2*r^3)*(2*M*r^2 - r^3)) + 16*I*M*r^5*ω/((2*M*cl*r^2 - cl*r^3 + 12*M^2*r - 10*M*r^2 + 2*r^3)*(2*M*r^2 - r^3)) - 4*I*r^6*ω/((2*M*cl*r^2 - cl*r^3 + 12*M^2*r - 10*M*r^2 + 2*r^3)*(2*M*r^2 - r^3)) + 8*I*M^3*cl*r/((2*M*cl*r^2 - cl*r^3 + 12*M^2*r - 10*M*r^2 + 2*r^3)*(2*M*r^2 - r^3)*ω) - 8*I*M^2*cl*r^2/((2*M*cl*r^2 - cl*r^3 + 12*M^2*r - 10*M*r^2 + 2*r^3)*(2*M*r^2 - r^3)*ω) + 2*I*M*cl*r^3/((2*M*cl*r^2 - cl*r^3 + 12*M^2*r - 10*M*r^2 + 2*r^3)*(2*M*r^2 - r^3)*ω) - 2*I*M*cl/((2*M*r^2 - r^3)*ω) + I*cl*r/((2*M*r^2 - r^3)*ω))*H1f(r, ω) + (4*M*r^6*ω^2/((2*M*cl*r^2 - cl*r^3 + 12*M^2*r - 10*M*r^2 + 2*r^3)*(2*M*r^2 - r^3)) - 2*r^7*ω^2/((2*M*cl*r^2 - cl*r^3 + 12*M^2*r - 10*M*r^2 + 2*r^3)*(2*M*r^2 - r^3)) + 4*M^2*cl*r^3/((2*M*cl*r^2 - cl*r^3 + 12*M^2*r - 10*M*r^2 + 2*r^3)*(2*M*r^2 - r^3)) - 4*M*cl*r^4/((2*M*cl*r^2 - cl*r^3 + 12*M^2*r - 10*M*r^2 + 2*r^3)*(2*M*r^2 - r^3)) + cl*r^5/((2*M*cl*r^2 - cl*r^3 + 12*M^2*r - 10*M*r^2 + 2*r^3)*(2*M*r^2 - r^3)) + 12*M^3*r^2/((2*M*cl*r^2 - cl*r^3 + 12*M^2*r - 10*M*r^2 + 2*r^3)*(2*M*r^2 - r^3)) - 18*M^2*r^3/((2*M*cl*r^2 - cl*r^3 + 12*M^2*r - 10*M*r^2 + 2*r^3)*(2*M*r^2 - r^3)) + 10*M*r^4/((2*M*cl*r^2 - cl*r^3 + 12*M^2*r - 10*M*r^2 + 2*r^3)*(2*M*r^2 - r^3)) - 2*r^5/((2*M*cl*r^2 - cl*r^3 + 12*M^2*r - 10*M*r^2 + 2*r^3)*(2*M*r^2 - r^3)) - 3*M*r/(2*M*r^2 - r^3) + r^2/(2*M*r^2 - r^3))*Kf(r, ω)"
      ]
     },
     "execution_count": 125,
     "metadata": {},
     "output_type": "execute_result"
    }
   ],
   "source": [
    "eq_Z1"
   ]
  },
  {
   "cell_type": "markdown",
   "id": "ac9a3396",
   "metadata": {},
   "source": [
    "Substituindo a expressão acima nas eq. (12.374):"
   ]
  },
  {
   "cell_type": "code",
   "execution_count": 126,
   "id": "646edfdc",
   "metadata": {},
   "outputs": [],
   "source": [
    "eq_Z2_aux = eq_Et_f_2.rhs().subs(eq_H0f)"
   ]
  },
  {
   "cell_type": "code",
   "execution_count": 127,
   "id": "3918086f",
   "metadata": {},
   "outputs": [
    {
     "data": {
      "text/plain": [
       "r^2*ω*Kf(r, ω)/(-2*I*M*r + I*r^2) - (2*r^5*ω^3*Kf(r, ω) - 2*(-2*I*M*r^3 + I*r^4)*ω^2*H1f(r, ω) - ((cl - 2)*r^3 - 6*M^2*r - 2*(M*cl - 3*M)*r^2)*ω*Kf(r, ω) + (-2*I*M^2*cl + I*M*cl*r)*H1f(r, ω))*r^2/(((cl - 2)*r^3 - 12*M^2*r - 2*(M*cl - 5*M)*r^2)*(-2*I*M*r + I*r^2)) - 2*I*M*H1f(r, ω)/(-2*I*M*r + I*r^2)"
      ]
     },
     "execution_count": 127,
     "metadata": {},
     "output_type": "execute_result"
    }
   ],
   "source": [
    "eq_Z2_aux"
   ]
  },
  {
   "cell_type": "markdown",
   "id": "36ae52ca",
   "metadata": {},
   "source": [
    "E a equação (12.378):"
   ]
  },
  {
   "cell_type": "code",
   "execution_count": 128,
   "id": "d67f1aa2",
   "metadata": {},
   "outputs": [],
   "source": [
    "eq_Z2 = (diff(H1f(r, ω), r) == mycollect(mycollect(eq_Z2_aux, Kf(r, ω)), H1f(r, ω))) #eq. 12.378"
   ]
  },
  {
   "cell_type": "code",
   "execution_count": 129,
   "id": "564e3b0f",
   "metadata": {},
   "outputs": [
    {
     "data": {
      "text/plain": [
       "diff(H1f(r, ω), r) == (4*I*M*r^5*ω^2/((2*M*cl*r^2 - cl*r^3 + 12*M^2*r - 10*M*r^2 + 2*r^3)*(-2*I*M*r + I*r^2)) - 2*I*r^6*ω^2/((2*M*cl*r^2 - cl*r^3 + 12*M^2*r - 10*M*r^2 + 2*r^3)*(-2*I*M*r + I*r^2)) - 2*I*M^2*cl*r^2/((2*M*cl*r^2 - cl*r^3 + 12*M^2*r - 10*M*r^2 + 2*r^3)*(-2*I*M*r + I*r^2)) + I*M*cl*r^3/((2*M*cl*r^2 - cl*r^3 + 12*M^2*r - 10*M*r^2 + 2*r^3)*(-2*I*M*r + I*r^2)) - 2*I*M/(-2*I*M*r + I*r^2))*H1f(r, ω) + (2*r^7*ω^3/((2*M*cl*r^2 - cl*r^3 + 12*M^2*r - 10*M*r^2 + 2*r^3)*(-2*I*M*r + I*r^2)) + 2*M*cl*r^4*ω/((2*M*cl*r^2 - cl*r^3 + 12*M^2*r - 10*M*r^2 + 2*r^3)*(-2*I*M*r + I*r^2)) - cl*r^5*ω/((2*M*cl*r^2 - cl*r^3 + 12*M^2*r - 10*M*r^2 + 2*r^3)*(-2*I*M*r + I*r^2)) + 6*M^2*r^3*ω/((2*M*cl*r^2 - cl*r^3 + 12*M^2*r - 10*M*r^2 + 2*r^3)*(-2*I*M*r + I*r^2)) - 6*M*r^4*ω/((2*M*cl*r^2 - cl*r^3 + 12*M^2*r - 10*M*r^2 + 2*r^3)*(-2*I*M*r + I*r^2)) + 2*r^5*ω/((2*M*cl*r^2 - cl*r^3 + 12*M^2*r - 10*M*r^2 + 2*r^3)*(-2*I*M*r + I*r^2)) + r^2*ω/(-2*I*M*r + I*r^2))*Kf(r, ω)"
      ]
     },
     "execution_count": 129,
     "metadata": {},
     "output_type": "execute_result"
    }
   ],
   "source": [
    "eq_Z2"
   ]
  },
  {
   "cell_type": "markdown",
   "id": "ff954cc1",
   "metadata": {},
   "source": [
    "Aqui, vamos encontrar uma solução apenas em função de $\\tilde{K}_{lm}$:"
   ]
  },
  {
   "cell_type": "markdown",
   "id": "4cd318d7",
   "metadata": {},
   "source": [
    "Definindo uma nova variável $R(r)$, juntamente com um fator $\\omega$, no lugar de $\\tilde{H}^{(1)}$:"
   ]
  },
  {
   "cell_type": "code",
   "execution_count": 130,
   "id": "7490a965",
   "metadata": {},
   "outputs": [],
   "source": [
    "Rf(r) = function('Rf', latex_name=r'\\tilde{R}_{lm}')(r)"
   ]
  },
  {
   "cell_type": "code",
   "execution_count": 131,
   "id": "5413bba5",
   "metadata": {},
   "outputs": [],
   "source": [
    "Rdef = {H1f(r) : ω*Rf(r)}"
   ]
  },
  {
   "cell_type": "code",
   "execution_count": 132,
   "id": "0cb7a845",
   "metadata": {},
   "outputs": [],
   "source": [
    "Rdef[diff(list(Rdef.keys())[0], r)] = diff(list(Rdef.values())[0], r)"
   ]
  },
  {
   "cell_type": "code",
   "execution_count": 133,
   "id": "dbe15d55",
   "metadata": {},
   "outputs": [
    {
     "data": {
      "text/plain": [
       "{H1f(r, ω): ω*Rf(r), diff(H1f(r, ω), r): ω*diff(Rf(r), r)}"
      ]
     },
     "execution_count": 133,
     "metadata": {},
     "output_type": "execute_result"
    }
   ],
   "source": [
    "Rdef"
   ]
  },
  {
   "cell_type": "markdown",
   "id": "a94f5ea5",
   "metadata": {},
   "source": [
    "Definindo uma expressão para $\\partial_r \\tilde{K}(r, \\omega)$, com as novas regras de substiuição:"
   ]
  },
  {
   "cell_type": "code",
   "execution_count": 134,
   "id": "15ee067a",
   "metadata": {},
   "outputs": [],
   "source": [
    "Zeq1_K = (diff(Kf(r), r) - eq_Z1).substitute_function(Rdef).factor().rhs()"
   ]
  },
  {
   "cell_type": "code",
   "execution_count": 135,
   "id": "0caae635",
   "metadata": {},
   "outputs": [
    {
     "data": {
      "text/plain": [
       "-1/2*(4*r^5*ω^2*Kf(r, ω) + 8*I*M*r^3*ω^2*Rf(r) - 4*I*r^4*ω^2*Rf(r) - 4*M*cl*r^3*diff(Kf(r, ω), r) + 2*cl*r^4*diff(Kf(r, ω), r) - 2*M*cl*r^2*Kf(r, ω) + 2*I*M*cl^2*r*Rf(r) - I*cl^2*r^2*Rf(r) - 24*M^2*r^2*diff(Kf(r, ω), r) + 20*M*r^3*diff(Kf(r, ω), r) - 4*r^4*diff(Kf(r, ω), r) - 24*M^2*r*Kf(r, ω) + 12*M*r^2*Kf(r, ω) + 8*I*M^2*cl*Rf(r) - 8*I*M*cl*r*Rf(r) + 2*I*cl*r^2*Rf(r))/((cl*r + 6*M - 2*r)*(2*M - r)*r^2)"
      ]
     },
     "execution_count": 135,
     "metadata": {},
     "output_type": "execute_result"
    }
   ],
   "source": [
    "Zeq1_K"
   ]
  },
  {
   "cell_type": "markdown",
   "id": "59df5257",
   "metadata": {},
   "source": [
    "Assim como uma expressão para $\\partial_r \\tilde{H}^{(1)}(r, \\omega)$:"
   ]
  },
  {
   "cell_type": "code",
   "execution_count": 136,
   "id": "cfedc659",
   "metadata": {},
   "outputs": [],
   "source": [
    "Zeq1_R = (diff(H1f(r), r) - eq_Z2).substitute_function(Rdef).factor().rhs()"
   ]
  },
  {
   "cell_type": "code",
   "execution_count": 137,
   "id": "82e2870b",
   "metadata": {},
   "outputs": [
    {
     "data": {
      "text/plain": [
       "-I*(2*r^6*ω^2*Kf(r, ω) + 4*I*M*r^4*ω^2*Rf(r) - 2*I*r^5*ω^2*Rf(r) + 4*M*cl*r^3*Kf(r, ω) - 2*cl*r^4*Kf(r, ω) + 4*I*M^2*cl*r^2*diff(Rf(r), r) - 4*I*M*cl*r^3*diff(Rf(r), r) + I*cl*r^4*diff(Rf(r), r) + 18*M^2*r^2*Kf(r, ω) - 16*M*r^3*Kf(r, ω) + 4*r^4*Kf(r, ω) - 6*I*M^2*cl*r*Rf(r) + 3*I*M*cl*r^2*Rf(r) + 24*I*M^3*r*diff(Rf(r), r) - 32*I*M^2*r^2*diff(Rf(r), r) + 14*I*M*r^3*diff(Rf(r), r) - 2*I*r^4*diff(Rf(r), r) - 24*I*M^3*Rf(r) + 20*I*M^2*r*Rf(r) - 4*I*M*r^2*Rf(r))*ω/((cl*r + 6*M - 2*r)*(2*M - r)^2*r)"
      ]
     },
     "execution_count": 137,
     "metadata": {},
     "output_type": "execute_result"
    }
   ],
   "source": [
    "Zeq1_R"
   ]
  },
  {
   "cell_type": "markdown",
   "id": "8f393a8c",
   "metadata": {},
   "source": [
    "Aqui, definiremos quatro novas funções:"
   ]
  },
  {
   "cell_type": "code",
   "execution_count": 138,
   "id": "14686cc5",
   "metadata": {},
   "outputs": [],
   "source": [
    "f1 = function('f1', latex_name=r'f_1')(r)\n",
    "f2 = function('f2', latex_name=r'f_2')(r)\n",
    "f3 = function('f3', latex_name=r'f_3')(r)\n",
    "f4 = function('f4', latex_name=r'f_4')(r)"
   ]
  },
  {
   "cell_type": "markdown",
   "id": "299fcbc8",
   "metadata": {},
   "source": [
    "De modo que as antigas variáveis $\\tilde{K}(r, \\omega)$ e $\\tilde{R}(r, \\omega)$ são substiuídas pelas expressões:"
   ]
  },
  {
   "cell_type": "code",
   "execution_count": 139,
   "id": "f8e989ef",
   "metadata": {},
   "outputs": [],
   "source": [
    "eq_Kn = {Kf : f1*Kf + f2*Rf}\n",
    "eq_Rn = {Rf : f3*Kf + f4*Rf}"
   ]
  },
  {
   "cell_type": "code",
   "execution_count": 140,
   "id": "048aebe9",
   "metadata": {},
   "outputs": [],
   "source": [
    "eq_Kn[diff(list(eq_Kn.keys())[0], r)] = diff(list(eq_Kn.values())[0], r)"
   ]
  },
  {
   "cell_type": "code",
   "execution_count": 141,
   "id": "73c2eb98",
   "metadata": {},
   "outputs": [
    {
     "data": {
      "text/plain": [
       "{(r, ω) |--> Kf(r, ω): (r, ω) |--> Kf(r, ω)*f1(r) + Rf(r)*f2(r),\n",
       " (r, ω) |--> diff(Kf(r, ω), r): (r, ω) |--> f1(r)*diff(Kf(r, ω), r) + f2(r)*diff(Rf(r), r) + Kf(r, ω)*diff(f1(r), r) + Rf(r)*diff(f2(r), r)}"
      ]
     },
     "execution_count": 141,
     "metadata": {},
     "output_type": "execute_result"
    }
   ],
   "source": [
    "eq_Kn"
   ]
  },
  {
   "cell_type": "code",
   "execution_count": 142,
   "id": "0d92e18a",
   "metadata": {},
   "outputs": [],
   "source": [
    "eq_Rn[diff(list(eq_Rn.keys())[0], r)] = diff(list(eq_Rn.values())[0], r)"
   ]
  },
  {
   "cell_type": "code",
   "execution_count": 143,
   "id": "cc4388ce",
   "metadata": {},
   "outputs": [
    {
     "data": {
      "text/plain": [
       "{r |--> Rf(r): (r, ω) |--> Kf(r, ω)*f3(r) + Rf(r)*f4(r),\n",
       " r |--> diff(Rf(r), r): (r, ω) |--> f3(r)*diff(Kf(r, ω), r) + f4(r)*diff(Rf(r), r) + Kf(r, ω)*diff(f3(r), r) + Rf(r)*diff(f4(r), r)}"
      ]
     },
     "execution_count": 143,
     "metadata": {},
     "output_type": "execute_result"
    }
   ],
   "source": [
    "eq_Rn"
   ]
  },
  {
   "cell_type": "code",
   "execution_count": 144,
   "id": "ec68da4a",
   "metadata": {},
   "outputs": [],
   "source": [
    "Zeq1replaced_K = Zeq1_K.subs(eq_Kn, eq_Rn).factor()"
   ]
  },
  {
   "cell_type": "code",
   "execution_count": 145,
   "id": "54abcbf8",
   "metadata": {},
   "outputs": [],
   "source": [
    "Zeq1replaced_R = Zeq1_R.subs(eq_Kn, eq_Rn).factor()"
   ]
  },
  {
   "cell_type": "markdown",
   "id": "996c3652",
   "metadata": {},
   "source": [
    "Aqui, definiremos a coordenada de tartaruga, $r_\\star$:"
   ]
  },
  {
   "cell_type": "code",
   "execution_count": 146,
   "id": "87777021",
   "metadata": {},
   "outputs": [],
   "source": [
    "diff_Tor = {diff(ftortoise, r) : 1/sqrt(f/B)}"
   ]
  },
  {
   "cell_type": "code",
   "execution_count": 147,
   "id": "f84d3cfc",
   "metadata": {},
   "outputs": [],
   "source": [
    "diff_Tor[diff(list(diff_Tor.keys())[0], r)] = diff(list(diff_Tor.values())[0], r) "
   ]
  },
  {
   "cell_type": "code",
   "execution_count": 148,
   "id": "b9d39baa",
   "metadata": {},
   "outputs": [
    {
     "data": {
      "text/html": [
       "<html>\\(\\displaystyle \\left\\{\\frac{\\partial}{\\partial r}r_\\star\\left(r\\right) : \\frac{1}{\\sqrt{{\\left(\\frac{2 \\, M}{r} - 1\\right)}^{2}}}, \\frac{\\partial^{2}}{(\\partial r)^{2}}r_\\star\\left(r\\right) : \\frac{2 \\, M {\\left(\\frac{2 \\, M}{r} - 1\\right)}}{r^{2} {\\left({\\left(\\frac{2 \\, M}{r} - 1\\right)}^{2}\\right)}^{\\frac{3}{2}}}\\right\\}\\)</html>"
      ],
      "text/latex": [
       "$\\displaystyle \\left\\{\\frac{\\partial}{\\partial r}r_\\star\\left(r\\right) : \\frac{1}{\\sqrt{{\\left(\\frac{2 \\, M}{r} - 1\\right)}^{2}}}, \\frac{\\partial^{2}}{(\\partial r)^{2}}r_\\star\\left(r\\right) : \\frac{2 \\, M {\\left(\\frac{2 \\, M}{r} - 1\\right)}}{r^{2} {\\left({\\left(\\frac{2 \\, M}{r} - 1\\right)}^{2}\\right)}^{\\frac{3}{2}}}\\right\\}$"
      ],
      "text/plain": [
       "{diff(ftortoise(r), r): 1/sqrt((2*M/r - 1)^2),\n",
       " diff(ftortoise(r), r, r): 2*M*(2*M/r - 1)/(r^2*((2*M/r - 1)^2)^(3/2))}"
      ]
     },
     "metadata": {},
     "output_type": "display_data"
    }
   ],
   "source": [
    "show(diff_Tor)"
   ]
  },
  {
   "cell_type": "code",
   "execution_count": 149,
   "id": "d980fc50",
   "metadata": {},
   "outputs": [
    {
     "data": {
      "text/plain": [
       "((tortoise, ω) |--> Kt(tortoise, ω), (tortoise, ω) |--> Rt(tortoise, ω))"
      ]
     },
     "execution_count": 149,
     "metadata": {},
     "output_type": "execute_result"
    }
   ],
   "source": [
    "Kt(tortoise, ω) = function('Kt', latex_name=r'\\tilde{K}_{lm}')(tortoise, ω)\n",
    "Rt(tortoise, ω) = function('Rt', latex_name=r'\\tilde{R}_{lm}')(tortoise, ω)\n",
    "Kt, Rt"
   ]
  },
  {
   "cell_type": "code",
   "execution_count": 150,
   "id": "acbffab6",
   "metadata": {},
   "outputs": [
    {
     "data": {
      "text/html": [
       "<html>\\(\\displaystyle \\left\\{\\tilde{K}_{lm}\\left(r, ω\\right) : \\tilde{K}_{lm}\\left({r_\\star}, ω\\right), \\frac{\\partial}{\\partial r}\\tilde{K}_{lm}\\left(r, ω\\right) : \\frac{\\partial}{\\partial {r_\\star}}\\tilde{K}_{lm}\\left({r_\\star}, ω\\right) \\frac{\\partial}{\\partial r}r_\\star\\left(r\\right), \\tilde{R}_{lm}\\left(r\\right) : \\tilde{R}_{lm}\\left({r_\\star}, ω\\right), \\frac{\\partial}{\\partial r}\\tilde{R}_{lm}\\left(r\\right) : \\frac{\\partial}{\\partial {r_\\star}}\\tilde{R}_{lm}\\left({r_\\star}, ω\\right) \\frac{\\partial}{\\partial r}r_\\star\\left(r\\right)\\right\\}\\)</html>"
      ],
      "text/latex": [
       "$\\displaystyle \\left\\{\\tilde{K}_{lm}\\left(r, ω\\right) : \\tilde{K}_{lm}\\left({r_\\star}, ω\\right), \\frac{\\partial}{\\partial r}\\tilde{K}_{lm}\\left(r, ω\\right) : \\frac{\\partial}{\\partial {r_\\star}}\\tilde{K}_{lm}\\left({r_\\star}, ω\\right) \\frac{\\partial}{\\partial r}r_\\star\\left(r\\right), \\tilde{R}_{lm}\\left(r\\right) : \\tilde{R}_{lm}\\left({r_\\star}, ω\\right), \\frac{\\partial}{\\partial r}\\tilde{R}_{lm}\\left(r\\right) : \\frac{\\partial}{\\partial {r_\\star}}\\tilde{R}_{lm}\\left({r_\\star}, ω\\right) \\frac{\\partial}{\\partial r}r_\\star\\left(r\\right)\\right\\}$"
      ],
      "text/plain": [
       "{Kf(r, ω): Kt(tortoise, ω),\n",
       " diff(Kf(r, ω), r): diff(Kt(tortoise, ω), tortoise)*diff(ftortoise(r), r),\n",
       " Rf(r): Rt(tortoise, ω),\n",
       " diff(Rf(r), r): diff(Rt(tortoise, ω), tortoise)*diff(ftortoise(r), r)}"
      ]
     },
     "metadata": {},
     "output_type": "display_data"
    }
   ],
   "source": [
    "fun_diff = {Kf(r, ω) : Kt(tortoise, ω), diff(Kf(r, ω), r) : diff(Kt(tortoise, ω), tortoise)*diff(ftortoise, r),\n",
    "           Rf(r, ω) : Rt(tortoise, ω), diff(Rf(r, ω), r) : diff(Rt(tortoise, ω), tortoise)*diff(ftortoise, r)}\n",
    "show(fun_diff)"
   ]
  },
  {
   "cell_type": "markdown",
   "id": "d64c6e97",
   "metadata": {},
   "source": [
    "Substituindo ambas as expressões acima nas equações para $\\tilde{K}$ e para $\\tilde{R}$, bem como a regra de substituição para as derivadas de $r_{\\star}$:"
   ]
  },
  {
   "cell_type": "code",
   "execution_count": 151,
   "id": "e17902f9",
   "metadata": {},
   "outputs": [],
   "source": [
    "Zeq1tor_Kn = Zeq1replaced_K.subs(fun_diff)"
   ]
  },
  {
   "cell_type": "code",
   "execution_count": 152,
   "id": "26f9684c",
   "metadata": {},
   "outputs": [],
   "source": [
    "Zeq1tor_Kn = Zeq1tor_Kn.subs(diff_Tor)"
   ]
  },
  {
   "cell_type": "code",
   "execution_count": 153,
   "id": "2757385b",
   "metadata": {},
   "outputs": [],
   "source": [
    "#Zeq1tor_Kn"
   ]
  },
  {
   "cell_type": "code",
   "execution_count": 154,
   "id": "78f6bdb4",
   "metadata": {},
   "outputs": [],
   "source": [
    "Zeq1tor_Rn = Zeq1replaced_R.subs(fun_diff)"
   ]
  },
  {
   "cell_type": "code",
   "execution_count": 155,
   "id": "5b7ebea4",
   "metadata": {},
   "outputs": [],
   "source": [
    "Zeq1tor_Rn = Zeq1tor_Rn.subs(diff_Tor)"
   ]
  },
  {
   "cell_type": "code",
   "execution_count": 156,
   "id": "f53c23bc",
   "metadata": {},
   "outputs": [],
   "source": [
    "#Zeq1tor_Rn"
   ]
  },
  {
   "cell_type": "markdown",
   "id": "dfca71c7",
   "metadata": {},
   "source": [
    "Aqui, temos de resolver um sistema de duas equações, em termos das funções $\\partial_\\star\\tilde{K}_{lm}$ e $\\partial_{\\star}\\tilde{R}_{lm}$, como se segue:"
   ]
  },
  {
   "cell_type": "code",
   "execution_count": 157,
   "id": "697086cf",
   "metadata": {},
   "outputs": [],
   "source": [
    "#Kn, Rn\n",
    "dic_aux2 = dict(zip([diff(Kt(tortoise, ω), tortoise), diff(Rt(tortoise, ω), tortoise)], var('aux2', n=3)))"
   ]
  },
  {
   "cell_type": "code",
   "execution_count": 158,
   "id": "b250b9ef",
   "metadata": {},
   "outputs": [
    {
     "data": {
      "text/plain": [
       "[aux20, aux21]"
      ]
     },
     "execution_count": 158,
     "metadata": {},
     "output_type": "execute_result"
    }
   ],
   "source": [
    "list(dic_aux2.values())"
   ]
  },
  {
   "cell_type": "code",
   "execution_count": 159,
   "id": "5ac2b107",
   "metadata": {},
   "outputs": [],
   "source": [
    "sist2 = solve([Zeq1tor_Kn.subs(dic_aux2)==0, Zeq1tor_Rn.subs(dic_aux2)==0], list(dic_aux2.values()))"
   ]
  },
  {
   "cell_type": "markdown",
   "id": "5740c284",
   "metadata": {},
   "source": [
    "a partir daqui, assumiremos que $f_2(r) = 1$ por simplicidade:"
   ]
  },
  {
   "cell_type": "code",
   "execution_count": 160,
   "id": "daf0ee09",
   "metadata": {},
   "outputs": [],
   "source": [
    "Zeqsol = [diff(Kt(tortoise), tortoise) == sist2[0][0].rhs().subs({f2 : 1, diff(f2, r) : 0}), diff(Rt(tortoise), tortoise) == sist2[0][1].rhs().subs({f2 : 1, diff(f2, r) : 0})]"
   ]
  },
  {
   "cell_type": "code",
   "execution_count": 161,
   "id": "40387139",
   "metadata": {},
   "outputs": [],
   "source": [
    "Zeqsol_subs = {diff(Kt(tortoise), tortoise) : sist2[0][0].rhs().subs({f2 : 1, diff(f2, r) : 0}), diff(Rt(tortoise), tortoise) : sist2[0][1].rhs().subs({f2 : 1, diff(f2, r) : 0})}"
   ]
  },
  {
   "cell_type": "markdown",
   "id": "3b5c51b1",
   "metadata": {},
   "source": [
    "Aqui, formularemos dois requisitos sobre a transformação:"
   ]
  },
  {
   "cell_type": "code",
   "execution_count": 162,
   "id": "5d798f6e",
   "metadata": {},
   "outputs": [],
   "source": [
    "requisito1 = (diff(Kt, tortoise) - Rt).subs(Zeqsol_subs)"
   ]
  },
  {
   "cell_type": "code",
   "execution_count": 163,
   "id": "01f00208",
   "metadata": {},
   "outputs": [],
   "source": [
    "requisito2 = (diff(Rt, tortoise).subs(Zeqsol_subs)).coefficient(Rt)"
   ]
  },
  {
   "cell_type": "markdown",
   "id": "8a58f9a4",
   "metadata": {},
   "source": [
    "As requisitos acima levam à equações algébricas e diferenciais para $f_1(r)$, $f_3(r)$ e $f_4(r)$. Assim, basta pegar as equações algébricas e depois verificar as diferenciais. Começaremos pela resolução da expressão para $f_4(r)$, nos restringindo aos coeficientes de $\\tilde{R}(r_{\\star})$ e $\\omega^2$, nessa ordem:"
   ]
  },
  {
   "cell_type": "code",
   "execution_count": 171,
   "id": "c29d9756",
   "metadata": {},
   "outputs": [],
   "source": [
    "f4sol = ((requisito1.coefficient(Rt)).coefficient(ω^2) == 0).solve(f4, solution_dict=True)[0]"
   ]
  },
  {
   "cell_type": "code",
   "execution_count": 172,
   "id": "718f37fd",
   "metadata": {},
   "outputs": [],
   "source": [
    "f4sol[diff(list(f4sol.keys())[0], r)] = diff(list(f4sol.values())[0], r)"
   ]
  },
  {
   "cell_type": "code",
   "execution_count": 173,
   "id": "c1fd372a",
   "metadata": {},
   "outputs": [
    {
     "data": {
      "text/html": [
       "<html>\\(\\displaystyle \\left\\{f_4\\left(r\\right) : \\frac{r^{2}}{-2 i \\, M + i \\, r}, \\frac{\\partial}{\\partial r}f_4\\left(r\\right) : \\frac{2 \\, r}{-2 i \\, M + i \\, r} - \\frac{i \\, r^{2}}{{\\left(-2 i \\, M + i \\, r\\right)}^{2}}\\right\\}\\)</html>"
      ],
      "text/latex": [
       "$\\displaystyle \\left\\{f_4\\left(r\\right) : \\frac{r^{2}}{-2 i \\, M + i \\, r}, \\frac{\\partial}{\\partial r}f_4\\left(r\\right) : \\frac{2 \\, r}{-2 i \\, M + i \\, r} - \\frac{i \\, r^{2}}{{\\left(-2 i \\, M + i \\, r\\right)}^{2}}\\right\\}$"
      ],
      "text/plain": [
       "{f4(r): r^2/(-2*I*M + I*r),\n",
       " diff(f4(r), r): 2*r/(-2*I*M + I*r) - I*r^2/(-2*I*M + I*r)^2}"
      ]
     },
     "metadata": {},
     "output_type": "display_data"
    }
   ],
   "source": [
    "show(f4sol)"
   ]
  },
  {
   "cell_type": "markdown",
   "id": "1abc2056",
   "metadata": {},
   "source": [
    "Para a solução de $f_3(r)$, substituiremos o resultado acima no `requisito1` e então pegaremos os coeficientes de $\\tilde{R}(r_{\\star})$:"
   ]
  },
  {
   "cell_type": "code",
   "execution_count": 171,
   "id": "2573f374",
   "metadata": {},
   "outputs": [],
   "source": [
    "f3sol = ((requisito1).subs(f4sol).coefficient(Rt) == 0).solve(f3, solution_dict=True)[0]"
   ]
  },
  {
   "cell_type": "code",
   "execution_count": 172,
   "id": "5548b627",
   "metadata": {},
   "outputs": [],
   "source": [
    "f3sol[diff(list(f3sol.keys())[0], r)] = diff(list(f3sol.values())[0], r)"
   ]
  },
  {
   "cell_type": "code",
   "execution_count": 173,
   "id": "920b8599",
   "metadata": {},
   "outputs": [
    {
     "data": {
      "text/plain": [
       "{f3(r): -((cl - 2)*r^2*sqrt((2*M/r - 1)^2) + 6*M*r*sqrt((2*M/r - 1)^2) + 2*(2*M*r^2 - r^3)*f1(r))/(8*I*M^2 - 8*I*M*r + 2*I*r^2),\n",
       " diff(f3(r), r): -2*((cl - 2)*r*sqrt((2*M/r - 1)^2) - M*(cl - 2)*(2*M/r - 1)/sqrt((2*M/r - 1)^2) + (4*M*r - 3*r^2)*f1(r) + (2*M*r^2 - r^3)*diff(f1(r), r) + 3*M*sqrt((2*M/r - 1)^2) - 6*M^2*(2*M/r - 1)/(r*sqrt((2*M/r - 1)^2)))/(8*I*M^2 - 8*I*M*r + 2*I*r^2) - 4*((cl - 2)*r^2*sqrt((2*M/r - 1)^2) + 6*M*r*sqrt((2*M/r - 1)^2) + 2*(2*M*r^2 - r^3)*f1(r))*(2*I*M - I*r)/(8*I*M^2 - 8*I*M*r + 2*I*r^2)^2}"
      ]
     },
     "execution_count": 173,
     "metadata": {},
     "output_type": "execute_result"
    }
   ],
   "source": [
    "f3sol"
   ]
  },
  {
   "cell_type": "markdown",
   "id": "25863f98",
   "metadata": {},
   "source": [
    "O mesmo procedimento será realizado para a função $f_1(r)$, mas usando o `requesito2`, como se segue:"
   ]
  },
  {
   "cell_type": "code",
   "execution_count": 174,
   "id": "38661a92",
   "metadata": {},
   "outputs": [],
   "source": [
    "f1sol = (requisito2.subs(f4sol).subs(f3sol) == 0).solve(f1, solution_dict=True)[0]"
   ]
  },
  {
   "cell_type": "code",
   "execution_count": 175,
   "id": "8c8160c4",
   "metadata": {},
   "outputs": [],
   "source": [
    "f1sol[diff(list(f1sol.keys())[0], r)] = diff(list(f1sol.values())[0], r)"
   ]
  },
  {
   "cell_type": "code",
   "execution_count": 176,
   "id": "96e82287",
   "metadata": {},
   "outputs": [
    {
     "data": {
      "text/plain": [
       "{f1(r): 1/2*((cl^2 - 2*cl)*r^2*sqrt((2*M/r - 1)^2) + 24*M^2*sqrt((2*M/r - 1)^2) + 6*(M*cl - 2*M)*r*sqrt((2*M/r - 1)^2))/((cl - 2)*r^3 - 12*M^2*r - 2*(M*cl - 5*M)*r^2),\n",
       " diff(f1(r), r): -1/2*((cl^2 - 2*cl)*r^2*sqrt((2*M/r - 1)^2) + 24*M^2*sqrt((2*M/r - 1)^2) + 6*(M*cl - 2*M)*r*sqrt((2*M/r - 1)^2))*(3*(cl - 2)*r^2 - 12*M^2 - 4*(M*cl - 5*M)*r)/((cl - 2)*r^3 - 12*M^2*r - 2*(M*cl - 5*M)*r^2)^2 + ((cl^2 - 2*cl)*r*sqrt((2*M/r - 1)^2) - (cl^2 - 2*cl)*M*(2*M/r - 1)/sqrt((2*M/r - 1)^2) + 3*(M*cl - 2*M)*sqrt((2*M/r - 1)^2) - 24*M^3*(2*M/r - 1)/(r^2*sqrt((2*M/r - 1)^2)) - 6*(M*cl - 2*M)*M*(2*M/r - 1)/(r*sqrt((2*M/r - 1)^2)))/((cl - 2)*r^3 - 12*M^2*r - 2*(M*cl - 5*M)*r^2)}"
      ]
     },
     "execution_count": 176,
     "metadata": {},
     "output_type": "execute_result"
    }
   ],
   "source": [
    "f1sol"
   ]
  },
  {
   "cell_type": "markdown",
   "id": "f794e18d",
   "metadata": {},
   "source": [
    "Aqui, inseriremos a solução das três funções nas expressões para $\\tilde{K}(r_{\\star})$ e $\\tilde{R}(r_{\\star})$, dentro da lista `Zeqsol`:"
   ]
  },
  {
   "cell_type": "code",
   "execution_count": 177,
   "id": "cbb55c48",
   "metadata": {},
   "outputs": [],
   "source": [
    "Zeqsol1_Kn = (Zeqsol[0].subs(f4sol).subs(f3sol).subs(f1sol)).simplify()"
   ]
  },
  {
   "cell_type": "code",
   "execution_count": 178,
   "id": "c343ec71",
   "metadata": {},
   "outputs": [],
   "source": [
    "Zeqsol1_Rn = (Zeqsol[1].subs(f4sol).subs(f3sol).subs(f1sol)).simplify()"
   ]
  },
  {
   "cell_type": "code",
   "execution_count": 179,
   "id": "f967dd8b",
   "metadata": {},
   "outputs": [],
   "source": [
    "#print(Zeqsol1_Kn)"
   ]
  },
  {
   "cell_type": "markdown",
   "id": "cbc7d756",
   "metadata": {},
   "source": [
    "Definindo uma nova variável $\\lambda$ e definindo-a como $l(l+1) = 2(\\lambda+1)$ e aplicando as substituição `backg`, tem-se:"
   ]
  },
  {
   "cell_type": "code",
   "execution_count": 180,
   "id": "c126e8d3",
   "metadata": {},
   "outputs": [],
   "source": [
    "var('λ')\n",
    "assume(r>0)"
   ]
  },
  {
   "cell_type": "code",
   "execution_count": 181,
   "id": "63748d8b",
   "metadata": {},
   "outputs": [],
   "source": [
    "Zeqs = [Zeqsol1_Kn.subs({cl : 2*(λ+1)}).factor(), Zeqsol1_Rn.subs({cl : 2*(λ+1)}).factor()]"
   ]
  },
  {
   "cell_type": "code",
   "execution_count": 182,
   "id": "5ccd65ff",
   "metadata": {},
   "outputs": [
    {
     "data": {
      "text/plain": [
       "[diff(Kt(tortoise, ω), tortoise) == Rt(tortoise, ω),\n",
       " diff(Rt(tortoise, ω), tortoise) == -(r^6*λ^2*ω^2 + 6*M*r^5*λ*ω^2 + 9*M^2*r^4*ω^2 + 4*M*r^3*λ^3 - 2*r^4*λ^3 + 12*M^2*r^2*λ^2 - 2*M*r^3*λ^2 - 2*r^4*λ^2 + 36*M^3*r*λ - 18*M^2*r^2*λ + 36*M^4 - 18*M^3*r)*Kt(tortoise, ω)/((r*λ + 3*M)^2*r^4)]"
      ]
     },
     "execution_count": 182,
     "metadata": {},
     "output_type": "execute_result"
    }
   ],
   "source": [
    "Zeqs"
   ]
  },
  {
   "cell_type": "code",
   "execution_count": 183,
   "id": "ca90c63c",
   "metadata": {},
   "outputs": [
    {
     "data": {
      "text/plain": [
       "diff(Rt(tortoise, ω), tortoise) == -(r^6*λ^2*ω^2 + 6*M*r^5*λ*ω^2 + 9*M^2*r^4*ω^2 + 4*M*r^3*λ^3 - 2*r^4*λ^3 + 12*M^2*r^2*λ^2 - 2*M*r^3*λ^2 - 2*r^4*λ^2 + 36*M^3*r*λ - 18*M^2*r^2*λ + 36*M^4 - 18*M^3*r)*Kt(tortoise, ω)/((r*λ + 3*M)^2*r^4)"
      ]
     },
     "execution_count": 183,
     "metadata": {},
     "output_type": "execute_result"
    }
   ],
   "source": [
    "Zeqsol1_Rn.subs({cl : 2*(λ+1)}).factor()"
   ]
  },
  {
   "cell_type": "code",
   "execution_count": 184,
   "id": "d863c12b",
   "metadata": {},
   "outputs": [],
   "source": [
    "Zeqs_subs = {diff(Rt(tortoise), tortoise) : Zeqs[1].rhs()}"
   ]
  },
  {
   "cell_type": "code",
   "execution_count": 185,
   "id": "705307d3",
   "metadata": {},
   "outputs": [
    {
     "data": {
      "text/plain": [
       "{diff(Rt(tortoise, ω), tortoise): -(r^6*λ^2*ω^2 + 6*M*r^5*λ*ω^2 + 9*M^2*r^4*ω^2 + 4*M*r^3*λ^3 - 2*r^4*λ^3 + 12*M^2*r^2*λ^2 - 2*M*r^3*λ^2 - 2*r^4*λ^2 + 36*M^3*r*λ - 18*M^2*r^2*λ + 36*M^4 - 18*M^3*r)*Kt(tortoise, ω)/((r*λ + 3*M)^2*r^4)}"
      ]
     },
     "execution_count": 185,
     "metadata": {},
     "output_type": "execute_result"
    }
   ],
   "source": [
    "Zeqs_subs"
   ]
  },
  {
   "cell_type": "markdown",
   "id": "d196a6b3",
   "metadata": {},
   "source": [
    "Aqui, transformaremos duas equações de primeira ordem em uma de segunda ordem:"
   ]
  },
  {
   "cell_type": "code",
   "execution_count": 186,
   "id": "3eb7b70c",
   "metadata": {},
   "outputs": [],
   "source": [
    "expr = diff(Kt(tortoise), tortoise, 2) - (diff(Rt(tortoise), tortoise).subs(Zeqs_subs)) == 0"
   ]
  },
  {
   "cell_type": "code",
   "execution_count": 187,
   "id": "30bfa4b3",
   "metadata": {},
   "outputs": [
    {
     "data": {
      "text/plain": [
       "(r^6*λ^2*ω^2 + 6*M*r^5*λ*ω^2 + 9*M^2*r^4*ω^2 + 4*M*r^3*λ^3 - 2*r^4*λ^3 + 12*M^2*r^2*λ^2 - 2*M*r^3*λ^2 - 2*r^4*λ^2 + 36*M^3*r*λ - 18*M^2*r^2*λ + 36*M^4 - 18*M^3*r)*Kt(tortoise, ω)/((r*λ + 3*M)^2*r^4) + diff(Kt(tortoise, ω), tortoise, tortoise) == 0"
      ]
     },
     "execution_count": 187,
     "metadata": {},
     "output_type": "execute_result"
    }
   ],
   "source": [
    "expr"
   ]
  },
  {
   "cell_type": "markdown",
   "id": "e5a1e30e",
   "metadata": {},
   "source": [
    "Por fim, aplicaremos a função `canonicalize_de()`para encontrar uma equação de onda do tipo Schödinger:"
   ]
  },
  {
   "cell_type": "code",
   "execution_count": 188,
   "id": "a10d6aef",
   "metadata": {},
   "outputs": [
    {
     "name": "stdout",
     "output_type": "stream",
     "text": [
      "canonicalize_de for Kt(tortoise, ω): \u001b[32mpassed!\u001b[39m\n"
     ]
    }
   ],
   "source": [
    "ZE = canonicalize_de(expr, Kt(tortoise), tortoise)"
   ]
  },
  {
   "cell_type": "code",
   "execution_count": 189,
   "id": "9f3e15fe",
   "metadata": {},
   "outputs": [
    {
     "data": {
      "text/plain": [
       "(r^6*λ^2*ω^2 + 6*M*r^5*λ*ω^2 + 9*M^2*r^4*ω^2 + 4*M*r^3*λ^3 - 2*r^4*λ^3 + 12*M^2*r^2*λ^2 - 2*M*r^3*λ^2 - 2*r^4*λ^2 + 36*M^3*r*λ - 18*M^2*r^2*λ + 36*M^4 - 18*M^3*r)*Kt(tortoise, ω)/((r*λ + 3*M)^2*r^4) + diff(Kt(tortoise, ω), tortoise, tortoise) == 0"
      ]
     },
     "execution_count": 189,
     "metadata": {},
     "output_type": "execute_result"
    }
   ],
   "source": [
    "ZE"
   ]
  },
  {
   "cell_type": "markdown",
   "id": "cd220a0e",
   "metadata": {},
   "source": [
    "Comparando a expressão acima com \n",
    "\n",
    "$$\\left(\\omega^2 - V\\right)\\hat{K} + \\hat{K}''=0$$ \n",
    "\n",
    "temos para a expressão do potencial"
   ]
  },
  {
   "cell_type": "code",
   "execution_count": 190,
   "id": "e428dfa5",
   "metadata": {},
   "outputs": [
    {
     "data": {
      "text/html": [
       "<html>\\(\\displaystyle V^{ZE}_\\ell(r) =  -\\frac{2 \\, {\\left(r^{3} λ^{3} + 3 \\, M r^{2} λ^{2} + r^{3} λ^{2} + 9 \\, M^{2} r λ + 9 \\, M^{3}\\right)} {\\left(2 \\, M - r\\right)}}{{\\left(r λ + 3 \\, M\\right)}^{2} r^{4}}\\)</html>"
      ],
      "text/latex": [
       "$\\displaystyle V^{ZE}_\\ell(r) =  -\\frac{2 \\, {\\left(r^{3} λ^{3} + 3 \\, M r^{2} λ^{2} + r^{3} λ^{2} + 9 \\, M^{2} r λ + 9 \\, M^{3}\\right)} {\\left(2 \\, M - r\\right)}}{{\\left(r λ + 3 \\, M\\right)}^{2} r^{4}}$"
      ],
      "text/plain": [
       "V^{ZE}_\\ell(r) =  -2*(r^3*λ^3 + 3*M*r^2*λ^2 + r^3*λ^2 + 9*M^2*r*λ + 9*M^3)*(2*M - r)/((r*λ + 3*M)^2*r^4)"
      ]
     },
     "metadata": {},
     "output_type": "display_data"
    }
   ],
   "source": [
    "V_ZE(r) = (ω^2 - get_de_coefficients(ZE, Kt(tortoise), tortoise)[0].expand()).factor()\n",
    "show(LatexExpr(r'V^{ZE}_\\ell(r) = '),V_ZE(r))"
   ]
  },
  {
   "cell_type": "code",
   "execution_count": 191,
   "id": "fe8158b6",
   "metadata": {},
   "outputs": [
    {
     "name": "stdout",
     "output_type": "stream",
     "text": [
      "Total time elapsed until the end of stage 5: 00:05:11\n"
     ]
    }
   ],
   "source": [
    "stage_time()"
   ]
  }
 ],
 "metadata": {
  "kernelspec": {
   "display_name": "SageMath 9.5",
   "language": "sage",
   "name": "sagemath"
  },
  "language_info": {
   "codemirror_mode": {
    "name": "ipython",
    "version": 3
   },
   "file_extension": ".py",
   "mimetype": "text/x-python",
   "name": "python",
   "nbconvert_exporter": "python",
   "pygments_lexer": "ipython3",
   "version": "3.10.6"
  },
  "toc-autonumbering": false,
  "toc-showcode": false,
  "toc-showmarkdowntxt": false,
  "vscode": {
   "interpreter": {
    "hash": "916dbcbb3f70747c44a77c7bcd40155683ae19c65e1c03b4aa3499c5328201f1"
   }
  }
 },
 "nbformat": 4,
 "nbformat_minor": 5
}
