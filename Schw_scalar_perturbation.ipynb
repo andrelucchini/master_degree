{
 "cells": [
  {
   "cell_type": "code",
   "execution_count": 1,
   "metadata": {},
   "outputs": [],
   "source": [
    "#load(sage.env.SAGE_STARTUP_FILE)\n",
    "%display latex"
   ]
  },
  {
   "cell_type": "code",
   "execution_count": 2,
   "metadata": {},
   "outputs": [],
   "source": [
    "# Parallelism().set(nproc=12)"
   ]
  },
  {
   "cell_type": "markdown",
   "metadata": {},
   "source": [
    "## Defining the space-time"
   ]
  },
  {
   "cell_type": "code",
   "execution_count": 3,
   "metadata": {},
   "outputs": [
    {
     "data": {
      "text/html": [
       "<html>\\(\\displaystyle t :\\ \\left( -\\infty, +\\infty \\right) ;\\quad r :\\ \\left( 0 , +\\infty \\right) ;\\quad {\\theta} :\\ \\left( 0 , \\pi \\right) ;\\quad {\\phi} :\\ \\left[ -\\pi , \\pi \\right] \\mbox{(periodic)}\\)</html>"
      ],
      "text/latex": [
       "$\\displaystyle t :\\ \\left( -\\infty, +\\infty \\right) ;\\quad r :\\ \\left( 0 , +\\infty \\right) ;\\quad {\\theta} :\\ \\left( 0 , \\pi \\right) ;\\quad {\\phi} :\\ \\left[ -\\pi , \\pi \\right] \\mbox{(periodic)}$"
      ],
      "text/plain": [
       "t: (-oo, +oo); r: (0, +oo); θ: (0, pi); ϕ: [-pi, pi] (periodic)"
      ]
     },
     "metadata": {},
     "output_type": "display_data"
    },
    {
     "data": {
      "text/html": [
       "<html>\\(\\displaystyle g = \\left( \\frac{2 \\, M}{r} - 1 \\right) \\mathrm{d} t\\otimes \\mathrm{d} t + \\left( -\\frac{r^{2}}{2 \\, M r - r^{2}} \\right) \\mathrm{d} r\\otimes \\mathrm{d} r + r^{2} \\mathrm{d} {\\theta}\\otimes \\mathrm{d} {\\theta} + r^{2} \\sin\\left({\\theta}\\right)^{2} \\mathrm{d} {\\phi}\\otimes \\mathrm{d} {\\phi}\\)</html>"
      ],
      "text/latex": [
       "$\\displaystyle g = \\left( \\frac{2 \\, M}{r} - 1 \\right) \\mathrm{d} t\\otimes \\mathrm{d} t + \\left( -\\frac{r^{2}}{2 \\, M r - r^{2}} \\right) \\mathrm{d} r\\otimes \\mathrm{d} r + r^{2} \\mathrm{d} {\\theta}\\otimes \\mathrm{d} {\\theta} + r^{2} \\sin\\left({\\theta}\\right)^{2} \\mathrm{d} {\\phi}\\otimes \\mathrm{d} {\\phi}$"
      ],
      "text/plain": [
       "g = (2*M/r - 1) dt⊗dt - r^2/(2*M*r - r^2) dr⊗dr + r^2 dθ⊗dθ + r^2*sin(θ)^2 dϕ⊗dϕ"
      ]
     },
     "execution_count": 3,
     "metadata": {},
     "output_type": "execute_result"
    }
   ],
   "source": [
    "var('M', domain='positive')\n",
    "Scw.<t,r,θ,ϕ> = manifolds.Kerr(m=M,a=0)\n",
    "show(Scw.default_chart().coord_range())\n",
    "g = Scw.metric()\n",
    "g.display()"
   ]
  },
  {
   "cell_type": "markdown",
   "metadata": {},
   "source": [
    "## Polynomial-Rational coordinates"
   ]
  },
  {
   "cell_type": "code",
   "execution_count": 4,
   "metadata": {},
   "outputs": [
    {
     "data": {
      "text/html": [
       "<html>\\(\\displaystyle t :\\ \\left( -\\infty, +\\infty \\right) ;\\quad r :\\ \\left( 0 , +\\infty \\right) ;\\quad {\\chi} :\\ \\left[ -1 , 1 \\right] ;\\quad {\\phi} :\\ \\left[ -\\pi , \\pi \\right] \\mbox{(periodic)}\\)</html>"
      ],
      "text/latex": [
       "$\\displaystyle t :\\ \\left( -\\infty, +\\infty \\right) ;\\quad r :\\ \\left( 0 , +\\infty \\right) ;\\quad {\\chi} :\\ \\left[ -1 , 1 \\right] ;\\quad {\\phi} :\\ \\left[ -\\pi , \\pi \\right] \\mbox{(periodic)}$"
      ],
      "text/plain": [
       "t: (-oo, +oo); r: (0, +oo); χ: [-1, 1]; ϕ: [-pi, pi] (periodic)"
      ]
     },
     "metadata": {},
     "output_type": "display_data"
    },
    {
     "data": {
      "text/html": [
       "<html>\\(\\displaystyle \\left\\{\\begin{array}{lcl} t & = & t \\\\ r & = & r \\\\ {\\theta} & = & \\arccos\\left({\\chi}\\right) \\\\ {\\phi} & = & {\\phi} \\end{array}\\right.\\)</html>"
      ],
      "text/latex": [
       "$\\displaystyle \\left\\{\\begin{array}{lcl} t & = & t \\\\ r & = & r \\\\ {\\theta} & = & \\arccos\\left({\\chi}\\right) \\\\ {\\phi} & = & {\\phi} \\end{array}\\right.$"
      ],
      "text/plain": [
       "t = t\n",
       "r = r\n",
       "θ = arccos(χ)\n",
       "ϕ = ϕ"
      ]
     },
     "execution_count": 4,
     "metadata": {},
     "output_type": "execute_result"
    }
   ],
   "source": [
    "PR.<t,r,χ,ϕ> = Scw.chart(r't r:(0,oo) χ:[-1,1]:\\chi ϕ:[-pi,pi]:periodic:\\phi')\n",
    "show(PR.coord_range())\n",
    "SC_to_PR = PR.transition_map(Scw.default_chart(), [t,r,arccos(χ),ϕ])\n",
    "SC_to_PR.display()"
   ]
  },
  {
   "cell_type": "code",
   "execution_count": 5,
   "metadata": {},
   "outputs": [
    {
     "data": {
      "text/html": [
       "<html>\\(\\displaystyle g = \\left( \\frac{2 \\, M - r}{r} \\right) \\mathrm{d} t\\otimes \\mathrm{d} t + \\left( -\\frac{r}{2 \\, M - r} \\right) \\mathrm{d} r\\otimes \\mathrm{d} r + \\left( -\\frac{r^{2}}{{\\chi}^{2} - 1} \\right) \\mathrm{d} {\\chi}\\otimes \\mathrm{d} {\\chi} + \\left( -r^{2} {\\chi}^{2} + r^{2} \\right) \\mathrm{d} {\\phi}\\otimes \\mathrm{d} {\\phi}\\)</html>"
      ],
      "text/latex": [
       "$\\displaystyle g = \\left( \\frac{2 \\, M - r}{r} \\right) \\mathrm{d} t\\otimes \\mathrm{d} t + \\left( -\\frac{r}{2 \\, M - r} \\right) \\mathrm{d} r\\otimes \\mathrm{d} r + \\left( -\\frac{r^{2}}{{\\chi}^{2} - 1} \\right) \\mathrm{d} {\\chi}\\otimes \\mathrm{d} {\\chi} + \\left( -r^{2} {\\chi}^{2} + r^{2} \\right) \\mathrm{d} {\\phi}\\otimes \\mathrm{d} {\\phi}$"
      ],
      "text/plain": [
       "g = (2*M - r)/r dt⊗dt - r/(2*M - r) dr⊗dr - r^2/(χ^2 - 1) dχ⊗dχ + (-r^2*χ^2 + r^2) dϕ⊗dϕ"
      ]
     },
     "execution_count": 5,
     "metadata": {},
     "output_type": "execute_result"
    }
   ],
   "source": [
    "Scw.set_default_chart(PR)\n",
    "Scw.set_default_frame(PR.frame())\n",
    "g.display()"
   ]
  },
  {
   "cell_type": "markdown",
   "metadata": {},
   "source": [
    "## Scalar field and Klein-Gordon equation"
   ]
  },
  {
   "cell_type": "markdown",
   "metadata": {},
   "source": [
    "The solutions of the Klein-Gordon equation are modes of frequency $ω$,\n",
    "orbital number $ℓ ∈ N$ and azimuthal $m ∈ Z$, with $−ℓ ≤ m ≤ ℓ$\n",
    "$$Φ_{ωℓm}(t, r, χ, ϕ) = \\exp(−iωt + imϕ) R_{ωℓ}(r)S_{ℓm}(χ)$$"
   ]
  },
  {
   "cell_type": "markdown",
   "metadata": {},
   "source": [
    "Since the KG is linear, any linear combination of modes is also a solution\n",
    "\n",
    "$$Φ(t, r, χ, ϕ) = \\int_{-\\infty}^\\infty dω \\sum_{\\ell=0}^\\infty \\sum_{m=-\\ell}^\\ell a_{ℓmω}\\exp(−iωt + imϕ) R_{ωℓ}(r) S_{ℓm}(χ)$$\n",
    "\n",
    "where $a_{ℓmω}$ are arbitrary functions of $ω$ for any given pair $(ℓ, m)$. The functions $a_{ℓmω}$ can be determined from the initial conditions associated with the problem under investigation."
   ]
  },
  {
   "cell_type": "markdown",
   "metadata": {},
   "source": [
    "**Taking into account the axisymmetry and the stationarity of the metric, we intrduce the following ansatz:**"
   ]
  },
  {
   "cell_type": "code",
   "execution_count": 6,
   "metadata": {},
   "outputs": [
    {
     "data": {
      "text/html": [
       "<html>\\(\\displaystyle \\begin{array}{llcl} \\Phi:& M & \\longrightarrow & \\mathbb{R} \\\\ & \\left(t, r, {\\chi}, {\\phi}\\right) & \\longmapsto & R\\left(r\\right) S\\left({\\chi}\\right) e^{\\left(-i \\, t ω + i \\, m {\\phi}\\right)} \\end{array}\\)</html>"
      ],
      "text/latex": [
       "$\\displaystyle \\begin{array}{llcl} \\Phi:& M & \\longrightarrow & \\mathbb{R} \\\\ & \\left(t, r, {\\chi}, {\\phi}\\right) & \\longmapsto & R\\left(r\\right) S\\left({\\chi}\\right) e^{\\left(-i \\, t ω + i \\, m {\\phi}\\right)} \\end{array}$"
      ],
      "text/plain": [
       "M → ℝ\n",
       "(t, r, χ, ϕ) ↦ R(r)*S(χ)*e^(-I*t*ω + I*m*ϕ)"
      ]
     },
     "execution_count": 6,
     "metadata": {},
     "output_type": "execute_result"
    }
   ],
   "source": [
    "var('m μ λ', domain='positive') # μ = M / ħ, λ = sep_constant\n",
    "var('ω')\n",
    "R, S = function('R')(r),function('S')(χ)\n",
    "Φ = Scw.scalar_field(exp(-i*ω*t+i*m*ϕ)*R*S,latex_name=r'\\Phi')\n",
    "Φ.display()"
   ]
  },
  {
   "cell_type": "markdown",
   "metadata": {},
   "source": [
    "**Below we calculate the left hand side of the Klein - Gordon equation:**"
   ]
  },
  {
   "cell_type": "code",
   "execution_count": 7,
   "metadata": {},
   "outputs": [
    {
     "data": {
      "text/html": [
       "<html>\\(\\displaystyle -\\frac{{\\left(r^{3} {\\chi}^{2} R\\left(r\\right) - r^{3} R\\left(r\\right)\\right)} ω^{2} S\\left({\\chi}\\right) - {\\left({\\left(2 \\, M r^{2} - r^{3}\\right)} μ^{2} R\\left(r\\right) - {\\left({\\left(2 \\, M r^{2} - r^{3}\\right)} μ^{2} R\\left(r\\right) + 2 \\, {\\left(2 \\, M^{2} - 3 \\, M r + r^{2}\\right)} \\frac{\\partial}{\\partial r}R\\left(r\\right) + {\\left(4 \\, M^{2} r - 4 \\, M r^{2} + r^{3}\\right)} \\frac{\\partial^{2}}{(\\partial r)^{2}}R\\left(r\\right)\\right)} {\\chi}^{2} + {\\left(2 \\, M m^{2} - m^{2} r\\right)} R\\left(r\\right) + 2 \\, {\\left(2 \\, M^{2} - 3 \\, M r + r^{2}\\right)} \\frac{\\partial}{\\partial r}R\\left(r\\right) + {\\left(4 \\, M^{2} r - 4 \\, M r^{2} + r^{3}\\right)} \\frac{\\partial^{2}}{(\\partial r)^{2}}R\\left(r\\right)\\right)} S\\left({\\chi}\\right) + 2 \\, {\\left({\\left(2 \\, M - r\\right)} {\\chi}^{3} R\\left(r\\right) - {\\left(2 \\, M - r\\right)} {\\chi} R\\left(r\\right)\\right)} \\frac{\\partial}{\\partial {\\chi}}S\\left({\\chi}\\right) + {\\left({\\left(2 \\, M - r\\right)} {\\chi}^{4} R\\left(r\\right) - 2 \\, {\\left(2 \\, M - r\\right)} {\\chi}^{2} R\\left(r\\right) + {\\left(2 \\, M - r\\right)} R\\left(r\\right)\\right)} \\frac{\\partial^{2}}{(\\partial {\\chi})^{2}}S\\left({\\chi}\\right)}{{\\left({\\left(2 \\, M r^{2} - r^{3}\\right)} {\\chi}^{2} R\\left(r\\right) - {\\left(2 \\, M r^{2} - r^{3}\\right)} R\\left(r\\right)\\right)} S\\left({\\chi}\\right)}\\)</html>"
      ],
      "text/latex": [
       "$\\displaystyle -\\frac{{\\left(r^{3} {\\chi}^{2} R\\left(r\\right) - r^{3} R\\left(r\\right)\\right)} ω^{2} S\\left({\\chi}\\right) - {\\left({\\left(2 \\, M r^{2} - r^{3}\\right)} μ^{2} R\\left(r\\right) - {\\left({\\left(2 \\, M r^{2} - r^{3}\\right)} μ^{2} R\\left(r\\right) + 2 \\, {\\left(2 \\, M^{2} - 3 \\, M r + r^{2}\\right)} \\frac{\\partial}{\\partial r}R\\left(r\\right) + {\\left(4 \\, M^{2} r - 4 \\, M r^{2} + r^{3}\\right)} \\frac{\\partial^{2}}{(\\partial r)^{2}}R\\left(r\\right)\\right)} {\\chi}^{2} + {\\left(2 \\, M m^{2} - m^{2} r\\right)} R\\left(r\\right) + 2 \\, {\\left(2 \\, M^{2} - 3 \\, M r + r^{2}\\right)} \\frac{\\partial}{\\partial r}R\\left(r\\right) + {\\left(4 \\, M^{2} r - 4 \\, M r^{2} + r^{3}\\right)} \\frac{\\partial^{2}}{(\\partial r)^{2}}R\\left(r\\right)\\right)} S\\left({\\chi}\\right) + 2 \\, {\\left({\\left(2 \\, M - r\\right)} {\\chi}^{3} R\\left(r\\right) - {\\left(2 \\, M - r\\right)} {\\chi} R\\left(r\\right)\\right)} \\frac{\\partial}{\\partial {\\chi}}S\\left({\\chi}\\right) + {\\left({\\left(2 \\, M - r\\right)} {\\chi}^{4} R\\left(r\\right) - 2 \\, {\\left(2 \\, M - r\\right)} {\\chi}^{2} R\\left(r\\right) + {\\left(2 \\, M - r\\right)} R\\left(r\\right)\\right)} \\frac{\\partial^{2}}{(\\partial {\\chi})^{2}}S\\left({\\chi}\\right)}{{\\left({\\left(2 \\, M r^{2} - r^{3}\\right)} {\\chi}^{2} R\\left(r\\right) - {\\left(2 \\, M r^{2} - r^{3}\\right)} R\\left(r\\right)\\right)} S\\left({\\chi}\\right)}$"
      ],
      "text/plain": [
       "-((r^3*χ^2*R(r) - r^3*R(r))*ω^2*S(χ) - ((2*M*r^2 - r^3)*μ^2*R(r) - ((2*M*r^2 - r^3)*μ^2*R(r) + 2*(2*M^2 - 3*M*r + r^2)*diff(R(r), r) + (4*M^2*r - 4*M*r^2 + r^3)*diff(R(r), r, r))*χ^2 + (2*M*m^2 - m^2*r)*R(r) + 2*(2*M^2 - 3*M*r + r^2)*diff(R(r), r) + (4*M^2*r - 4*M*r^2 + r^3)*diff(R(r), r, r))*S(χ) + 2*((2*M - r)*χ^3*R(r) - (2*M - r)*χ*R(r))*diff(S(χ), χ) + ((2*M - r)*χ^4*R(r) - 2*(2*M - r)*χ^2*R(r) + (2*M - r)*R(r))*diff(S(χ), χ, χ))/(((2*M*r^2 - r^3)*χ^2*R(r) - (2*M*r^2 - r^3)*R(r))*S(χ))"
      ]
     },
     "execution_count": 7,
     "metadata": {},
     "output_type": "execute_result"
    }
   ],
   "source": [
    "KG = (Φ.dalembertian()/Φ -μ^2).expr()\n",
    "KG"
   ]
  },
  {
   "cell_type": "markdown",
   "metadata": {},
   "source": [
    "## Separating the equation"
   ]
  },
  {
   "cell_type": "markdown",
   "metadata": {},
   "source": [
    "**My package for separating PDEs**"
   ]
  },
  {
   "cell_type": "code",
   "execution_count": 8,
   "metadata": {},
   "outputs": [],
   "source": [
    "from separate_ed import separate"
   ]
  },
  {
   "cell_type": "markdown",
   "metadata": {},
   "source": [
    "**We now try to separate $r$ and $\\chi$ variables**"
   ]
  },
  {
   "cell_type": "code",
   "execution_count": 9,
   "metadata": {},
   "outputs": [
    {
     "name": "stdout",
     "output_type": "stream",
     "text": [
      "result checked!\n"
     ]
    },
    {
     "data": {
      "text/html": [
       "<html>\\(\\displaystyle \\left[\\frac{2 \\, M m^{2}}{{\\left(2 \\, M - r\\right)} r^{2} {\\left({\\chi} + 1\\right)} {\\left({\\chi} - 1\\right)}} - \\frac{m^{2}}{{\\left(2 \\, M - r\\right)} r {\\left({\\chi} + 1\\right)} {\\left({\\chi} - 1\\right)}} - \\frac{2 \\, {\\left({\\chi}^{2} \\frac{\\partial^{2}}{(\\partial {\\chi})^{2}}S\\left({\\chi}\\right) + 2 \\, {\\chi} \\frac{\\partial}{\\partial {\\chi}}S\\left({\\chi}\\right) - \\frac{\\partial^{2}}{(\\partial {\\chi})^{2}}S\\left({\\chi}\\right)\\right)} M}{{\\left(2 \\, M - r\\right)} r^{2} S\\left({\\chi}\\right)} + \\frac{{\\chi}^{2} \\frac{\\partial^{2}}{(\\partial {\\chi})^{2}}S\\left({\\chi}\\right) + 2 \\, {\\chi} \\frac{\\partial}{\\partial {\\chi}}S\\left({\\chi}\\right) - \\frac{\\partial^{2}}{(\\partial {\\chi})^{2}}S\\left({\\chi}\\right)}{{\\left(2 \\, M - r\\right)} r S\\left({\\chi}\\right)}, -\\frac{2 \\, M μ^{2} - r μ^{2} + r ω^{2}}{2 \\, M - r} + \\frac{4 \\, M \\frac{\\partial^{2}}{(\\partial r)^{2}}R\\left(r\\right) - r \\frac{\\partial^{2}}{(\\partial r)^{2}}R\\left(r\\right) - 2 \\, \\frac{\\partial}{\\partial r}R\\left(r\\right)}{{\\left(2 \\, M - r\\right)} R\\left(r\\right)} - \\frac{2 \\, {\\left(2 \\, M \\frac{\\partial^{2}}{(\\partial r)^{2}}R\\left(r\\right) - 3 \\, \\frac{\\partial}{\\partial r}R\\left(r\\right)\\right)} M}{{\\left(2 \\, M - r\\right)} r R\\left(r\\right)} - \\frac{4 \\, M^{2} \\frac{\\partial}{\\partial r}R\\left(r\\right)}{{\\left(2 \\, M - r\\right)} r^{2} R\\left(r\\right)}, 0\\right]\\)</html>"
      ],
      "text/latex": [
       "$\\displaystyle \\left[\\frac{2 \\, M m^{2}}{{\\left(2 \\, M - r\\right)} r^{2} {\\left({\\chi} + 1\\right)} {\\left({\\chi} - 1\\right)}} - \\frac{m^{2}}{{\\left(2 \\, M - r\\right)} r {\\left({\\chi} + 1\\right)} {\\left({\\chi} - 1\\right)}} - \\frac{2 \\, {\\left({\\chi}^{2} \\frac{\\partial^{2}}{(\\partial {\\chi})^{2}}S\\left({\\chi}\\right) + 2 \\, {\\chi} \\frac{\\partial}{\\partial {\\chi}}S\\left({\\chi}\\right) - \\frac{\\partial^{2}}{(\\partial {\\chi})^{2}}S\\left({\\chi}\\right)\\right)} M}{{\\left(2 \\, M - r\\right)} r^{2} S\\left({\\chi}\\right)} + \\frac{{\\chi}^{2} \\frac{\\partial^{2}}{(\\partial {\\chi})^{2}}S\\left({\\chi}\\right) + 2 \\, {\\chi} \\frac{\\partial}{\\partial {\\chi}}S\\left({\\chi}\\right) - \\frac{\\partial^{2}}{(\\partial {\\chi})^{2}}S\\left({\\chi}\\right)}{{\\left(2 \\, M - r\\right)} r S\\left({\\chi}\\right)}, -\\frac{2 \\, M μ^{2} - r μ^{2} + r ω^{2}}{2 \\, M - r} + \\frac{4 \\, M \\frac{\\partial^{2}}{(\\partial r)^{2}}R\\left(r\\right) - r \\frac{\\partial^{2}}{(\\partial r)^{2}}R\\left(r\\right) - 2 \\, \\frac{\\partial}{\\partial r}R\\left(r\\right)}{{\\left(2 \\, M - r\\right)} R\\left(r\\right)} - \\frac{2 \\, {\\left(2 \\, M \\frac{\\partial^{2}}{(\\partial r)^{2}}R\\left(r\\right) - 3 \\, \\frac{\\partial}{\\partial r}R\\left(r\\right)\\right)} M}{{\\left(2 \\, M - r\\right)} r R\\left(r\\right)} - \\frac{4 \\, M^{2} \\frac{\\partial}{\\partial r}R\\left(r\\right)}{{\\left(2 \\, M - r\\right)} r^{2} R\\left(r\\right)}, 0\\right]$"
      ],
      "text/plain": [
       "[2*M*m^2/((2*M - r)*r^2*(χ + 1)*(χ - 1)) - m^2/((2*M - r)*r*(χ + 1)*(χ - 1)) - 2*(χ^2*diff(S(χ), χ, χ) + 2*χ*diff(S(χ), χ) - diff(S(χ), χ, χ))*M/((2*M - r)*r^2*S(χ)) + (χ^2*diff(S(χ), χ, χ) + 2*χ*diff(S(χ), χ) - diff(S(χ), χ, χ))/((2*M - r)*r*S(χ)),\n",
       " -(2*M*μ^2 - r*μ^2 + r*ω^2)/(2*M - r) + (4*M*diff(R(r), r, r) - r*diff(R(r), r, r) - 2*diff(R(r), r))/((2*M - r)*R(r)) - 2*(2*M*diff(R(r), r, r) - 3*diff(R(r), r))*M/((2*M - r)*r*R(r)) - 4*M^2*diff(R(r), r)/((2*M - r)*r^2*R(r)),\n",
       " 0]"
      ]
     },
     "execution_count": 9,
     "metadata": {},
     "output_type": "execute_result"
    }
   ],
   "source": [
    "KG1 = separate(KG==0)\n",
    "KG1"
   ]
  },
  {
   "cell_type": "markdown",
   "metadata": {},
   "source": [
    "**Multiplying by $r^2$, we see that the equation separates:**"
   ]
  },
  {
   "cell_type": "code",
   "execution_count": 10,
   "metadata": {},
   "outputs": [
    {
     "name": "stdout",
     "output_type": "stream",
     "text": [
      "result checked!\n"
     ]
    },
    {
     "data": {
      "text/html": [
       "<html>\\(\\displaystyle \\left[-2 \\, M r^{2} μ^{2} R\\left(r\\right) + r^{3} μ^{2} R\\left(r\\right) - r^{3} ω^{2} R\\left(r\\right) - 4 \\, M^{2} r \\frac{\\partial^{2}}{(\\partial r)^{2}}R\\left(r\\right) + 4 \\, M r^{2} \\frac{\\partial^{2}}{(\\partial r)^{2}}R\\left(r\\right) - r^{3} \\frac{\\partial^{2}}{(\\partial r)^{2}}R\\left(r\\right) - 2 \\, M λ R\\left(r\\right) + r λ R\\left(r\\right) - 4 \\, M^{2} \\frac{\\partial}{\\partial r}R\\left(r\\right) + 6 \\, M r \\frac{\\partial}{\\partial r}R\\left(r\\right) - 2 \\, r^{2} \\frac{\\partial}{\\partial r}R\\left(r\\right) = 0, -{\\chi}^{4} \\frac{\\partial^{2}}{(\\partial {\\chi})^{2}}S\\left({\\chi}\\right) - λ {\\chi}^{2} S\\left({\\chi}\\right) - 2 \\, {\\chi}^{3} \\frac{\\partial}{\\partial {\\chi}}S\\left({\\chi}\\right) + m^{2} S\\left({\\chi}\\right) + 2 \\, {\\chi}^{2} \\frac{\\partial^{2}}{(\\partial {\\chi})^{2}}S\\left({\\chi}\\right) + λ S\\left({\\chi}\\right) + 2 \\, {\\chi} \\frac{\\partial}{\\partial {\\chi}}S\\left({\\chi}\\right) - \\frac{\\partial^{2}}{(\\partial {\\chi})^{2}}S\\left({\\chi}\\right) = 0\\right]\\)</html>"
      ],
      "text/latex": [
       "$\\displaystyle \\left[-2 \\, M r^{2} μ^{2} R\\left(r\\right) + r^{3} μ^{2} R\\left(r\\right) - r^{3} ω^{2} R\\left(r\\right) - 4 \\, M^{2} r \\frac{\\partial^{2}}{(\\partial r)^{2}}R\\left(r\\right) + 4 \\, M r^{2} \\frac{\\partial^{2}}{(\\partial r)^{2}}R\\left(r\\right) - r^{3} \\frac{\\partial^{2}}{(\\partial r)^{2}}R\\left(r\\right) - 2 \\, M λ R\\left(r\\right) + r λ R\\left(r\\right) - 4 \\, M^{2} \\frac{\\partial}{\\partial r}R\\left(r\\right) + 6 \\, M r \\frac{\\partial}{\\partial r}R\\left(r\\right) - 2 \\, r^{2} \\frac{\\partial}{\\partial r}R\\left(r\\right) = 0, -{\\chi}^{4} \\frac{\\partial^{2}}{(\\partial {\\chi})^{2}}S\\left({\\chi}\\right) - λ {\\chi}^{2} S\\left({\\chi}\\right) - 2 \\, {\\chi}^{3} \\frac{\\partial}{\\partial {\\chi}}S\\left({\\chi}\\right) + m^{2} S\\left({\\chi}\\right) + 2 \\, {\\chi}^{2} \\frac{\\partial^{2}}{(\\partial {\\chi})^{2}}S\\left({\\chi}\\right) + λ S\\left({\\chi}\\right) + 2 \\, {\\chi} \\frac{\\partial}{\\partial {\\chi}}S\\left({\\chi}\\right) - \\frac{\\partial^{2}}{(\\partial {\\chi})^{2}}S\\left({\\chi}\\right) = 0\\right]$"
      ],
      "text/plain": [
       "[-2*M*r^2*μ^2*R(r) + r^3*μ^2*R(r) - r^3*ω^2*R(r) - 4*M^2*r*diff(R(r), r, r) + 4*M*r^2*diff(R(r), r, r) - r^3*diff(R(r), r, r) - 2*M*λ*R(r) + r*λ*R(r) - 4*M^2*diff(R(r), r) + 6*M*r*diff(R(r), r) - 2*r^2*diff(R(r), r) == 0,\n",
       " -χ^4*diff(S(χ), χ, χ) - λ*χ^2*S(χ) - 2*χ^3*diff(S(χ), χ) + m^2*S(χ) + 2*χ^2*diff(S(χ), χ, χ) + λ*S(χ) + 2*χ*diff(S(χ), χ) - diff(S(χ), χ, χ) == 0]"
      ]
     },
     "execution_count": 10,
     "metadata": {},
     "output_type": "execute_result"
    }
   ],
   "source": [
    "KG2 =  separate(KG1, is_list = True, factor=r^2)\n",
    "KG2"
   ]
  },
  {
   "cell_type": "markdown",
   "metadata": {},
   "source": [
    "**Just cheking**"
   ]
  },
  {
   "cell_type": "code",
   "execution_count": 11,
   "metadata": {},
   "outputs": [
    {
     "data": {
      "text/html": [
       "<html>\\(\\displaystyle 0 = 0\\)</html>"
      ],
      "text/latex": [
       "$\\displaystyle 0 = 0$"
      ],
      "text/plain": [
       "0 == 0"
      ]
     },
     "metadata": {},
     "output_type": "display_data"
    },
    {
     "data": {
      "text/html": [
       "<html>\\(\\displaystyle 0 = 0\\)</html>"
      ],
      "text/latex": [
       "$\\displaystyle 0 = 0$"
      ],
      "text/plain": [
       "0 == 0"
      ]
     },
     "metadata": {},
     "output_type": "display_data"
    }
   ],
   "source": [
    "for eq in KG2:\n",
    "    display(diff(eq,r,χ))"
   ]
  },
  {
   "cell_type": "markdown",
   "metadata": {},
   "source": [
    "**Note that the second equation is the associated Legendre equation. If we require that its solutions are well - behaved (i.e. non - singular) at $\\chi = -1$ and $\\chi =   1$ (equivalently, at $\\theta = 0$ and $\\theta = \\pi$), the separation constant must be $\\lambda =  \\ell(\\ell + 1)$, where $\\ell$ is an integer.**"
   ]
  },
  {
   "cell_type": "markdown",
   "metadata": {},
   "source": [
    "## Transformation of the radial equation to a Schroedinger-like equation"
   ]
  },
  {
   "cell_type": "markdown",
   "metadata": {},
   "source": [
    "**First we do $\\displaystyle R(r) = \\frac{\\psi(r)}{r}$**"
   ]
  },
  {
   "cell_type": "code",
   "execution_count": 12,
   "metadata": {},
   "outputs": [],
   "source": [
    "ψ(r) = function('ψ', latex_name=r'\\psi_{_{\\ell m}}')(r)\n",
    "new_R(r) = ψ(r)/r"
   ]
  },
  {
   "cell_type": "code",
   "execution_count": 13,
   "metadata": {},
   "outputs": [
    {
     "data": {
      "text/html": [
       "<html>\\(\\displaystyle -\\frac{r^{4} ω^{2} \\psi_{_{\\ell m}}\\left(r\\right) + {\\left(2 \\, M r^{3} - r^{4}\\right)} μ^{2} \\psi_{_{\\ell m}}\\left(r\\right) + {\\left(2 \\, M r - r^{2}\\right)} λ \\psi_{_{\\ell m}}\\left(r\\right) + 2 \\, {\\left(2 \\, M^{2} - M r\\right)} \\psi_{_{\\ell m}}\\left(r\\right) - 2 \\, {\\left(2 \\, M^{2} r - M r^{2}\\right)} \\frac{\\partial}{\\partial r}\\psi_{_{\\ell m}}\\left(r\\right) + {\\left(4 \\, M^{2} r^{2} - 4 \\, M r^{3} + r^{4}\\right)} \\frac{\\partial^{2}}{(\\partial r)^{2}}\\psi_{_{\\ell m}}\\left(r\\right)}{r^{2}} = 0\\)</html>"
      ],
      "text/latex": [
       "$\\displaystyle -\\frac{r^{4} ω^{2} \\psi_{_{\\ell m}}\\left(r\\right) + {\\left(2 \\, M r^{3} - r^{4}\\right)} μ^{2} \\psi_{_{\\ell m}}\\left(r\\right) + {\\left(2 \\, M r - r^{2}\\right)} λ \\psi_{_{\\ell m}}\\left(r\\right) + 2 \\, {\\left(2 \\, M^{2} - M r\\right)} \\psi_{_{\\ell m}}\\left(r\\right) - 2 \\, {\\left(2 \\, M^{2} r - M r^{2}\\right)} \\frac{\\partial}{\\partial r}\\psi_{_{\\ell m}}\\left(r\\right) + {\\left(4 \\, M^{2} r^{2} - 4 \\, M r^{3} + r^{4}\\right)} \\frac{\\partial^{2}}{(\\partial r)^{2}}\\psi_{_{\\ell m}}\\left(r\\right)}{r^{2}} = 0$"
      ],
      "text/plain": [
       "-(r^4*ω^2*ψ(r) + (2*M*r^3 - r^4)*μ^2*ψ(r) + (2*M*r - r^2)*λ*ψ(r) + 2*(2*M^2 - M*r)*ψ(r) - 2*(2*M^2*r - M*r^2)*diff(ψ(r), r) + (4*M^2*r^2 - 4*M*r^3 + r^4)*diff(ψ(r), r, r))/r^2 == 0"
      ]
     },
     "metadata": {},
     "output_type": "display_data"
    }
   ],
   "source": [
    "eq_ψ_0 = KG2[0].subs({diff(R,r,k):diff(new_R,r,k) for k in range(3)}).canonicalize_radical()\n",
    "display(eq_ψ_0)"
   ]
  },
  {
   "cell_type": "markdown",
   "metadata": {},
   "source": [
    "**eliminating the $r^2$**"
   ]
  },
  {
   "cell_type": "code",
   "execution_count": 14,
   "metadata": {},
   "outputs": [
    {
     "data": {
      "text/html": [
       "<html>\\(\\displaystyle -r^{4} ω^{2} \\psi_{_{\\ell m}}\\left(r\\right) - {\\left(2 \\, M r^{3} - r^{4}\\right)} μ^{2} \\psi_{_{\\ell m}}\\left(r\\right) - {\\left(2 \\, M r - r^{2}\\right)} λ \\psi_{_{\\ell m}}\\left(r\\right) - 2 \\, {\\left(2 \\, M^{2} - M r\\right)} \\psi_{_{\\ell m}}\\left(r\\right) + 2 \\, {\\left(2 \\, M^{2} r - M r^{2}\\right)} \\frac{\\partial}{\\partial r}\\psi_{_{\\ell m}}\\left(r\\right) - {\\left(4 \\, M^{2} r^{2} - 4 \\, M r^{3} + r^{4}\\right)} \\frac{\\partial^{2}}{(\\partial r)^{2}}\\psi_{_{\\ell m}}\\left(r\\right) = 0\\)</html>"
      ],
      "text/latex": [
       "$\\displaystyle -r^{4} ω^{2} \\psi_{_{\\ell m}}\\left(r\\right) - {\\left(2 \\, M r^{3} - r^{4}\\right)} μ^{2} \\psi_{_{\\ell m}}\\left(r\\right) - {\\left(2 \\, M r - r^{2}\\right)} λ \\psi_{_{\\ell m}}\\left(r\\right) - 2 \\, {\\left(2 \\, M^{2} - M r\\right)} \\psi_{_{\\ell m}}\\left(r\\right) + 2 \\, {\\left(2 \\, M^{2} r - M r^{2}\\right)} \\frac{\\partial}{\\partial r}\\psi_{_{\\ell m}}\\left(r\\right) - {\\left(4 \\, M^{2} r^{2} - 4 \\, M r^{3} + r^{4}\\right)} \\frac{\\partial^{2}}{(\\partial r)^{2}}\\psi_{_{\\ell m}}\\left(r\\right) = 0$"
      ],
      "text/plain": [
       "-r^4*ω^2*ψ(r) - (2*M*r^3 - r^4)*μ^2*ψ(r) - (2*M*r - r^2)*λ*ψ(r) - 2*(2*M^2 - M*r)*ψ(r) + 2*(2*M^2*r - M*r^2)*diff(ψ(r), r) - (4*M^2*r^2 - 4*M*r^3 + r^4)*diff(ψ(r), r, r) == 0"
      ]
     },
     "metadata": {},
     "output_type": "display_data"
    }
   ],
   "source": [
    "eq_ψ_1 = (eq_ψ_0*r^2).canonicalize_radical()\n",
    "display(eq_ψ_1)"
   ]
  },
  {
   "cell_type": "markdown",
   "metadata": {},
   "source": [
    "**Introducing the tortoise coordinate $r_\\star$, so that $\\dfrac{dr_\\star}{dr} = \\dfrac{r^2}{(r^2 - 2 Mr)}$. Therefore $\\dfrac{d\\psi}{dr} = \\dfrac{d\\psi}{dr_\\star}\\dfrac{dr_\\star}{dr}$ and $\\dfrac{d^2 \\psi}{dr^2} = \\dfrac{d\\psi}{dr_\\star}\\dfrac{d^2 r_\\star}{dr^2} + \\dfrac{d^2 \\psi}{dr_\\star^2}\\left(\\dfrac{dr_\\star}{dr}\\right)^2$.**"
   ]
  },
  {
   "cell_type": "markdown",
   "metadata": {},
   "source": [
    "**Testing**"
   ]
  },
  {
   "cell_type": "code",
   "execution_count": 15,
   "metadata": {},
   "outputs": [
    {
     "data": {
      "text/html": [
       "<html>\\(\\displaystyle \\frac{\\partial}{\\partial r}u\\left(r\\right)^{2} \\mathrm{D}_{0, 0}\\left(v\\right)\\left(u\\left(r\\right)\\right) + \\frac{\\partial^{2}}{(\\partial r)^{2}}u\\left(r\\right) \\mathrm{D}_{0}\\left(v\\right)\\left(u\\left(r\\right)\\right)\\)</html>"
      ],
      "text/latex": [
       "$\\displaystyle \\frac{\\partial}{\\partial r}u\\left(r\\right)^{2} \\mathrm{D}_{0, 0}\\left(v\\right)\\left(u\\left(r\\right)\\right) + \\frac{\\partial^{2}}{(\\partial r)^{2}}u\\left(r\\right) \\mathrm{D}_{0}\\left(v\\right)\\left(u\\left(r\\right)\\right)$"
      ],
      "text/plain": [
       "diff(u(r), r)^2*D[0, 0](v)(u(r)) + diff(u(r), r, r)*D[0](v)(u(r))"
      ]
     },
     "metadata": {},
     "output_type": "display_data"
    }
   ],
   "source": [
    "u(r) = function('u')(r)\n",
    "v(r) = function('v')(r)\n",
    "display(diff(v(u(r)),r,2))"
   ]
  },
  {
   "cell_type": "code",
   "execution_count": 16,
   "metadata": {},
   "outputs": [],
   "source": [
    "rtr(r) = function('rt', latex_name=r'r_\\star')(r)\n",
    "drt = r^2/(r^2-2*M*r)"
   ]
  },
  {
   "cell_type": "code",
   "execution_count": 17,
   "metadata": {},
   "outputs": [
    {
     "data": {
      "text/html": [
       "<html>\\(\\displaystyle -r^{4} ω^{2} \\psi_{_{\\ell m}}\\left(r_\\star\\left(r\\right)\\right) - {\\left(2 \\, M r^{3} - r^{4}\\right)} μ^{2} \\psi_{_{\\ell m}}\\left(r_\\star\\left(r\\right)\\right) - {\\left(2 \\, M r - r^{2}\\right)} λ \\psi_{_{\\ell m}}\\left(r_\\star\\left(r\\right)\\right) + 2 \\, {\\left(2 \\, M^{2} r - M r^{2}\\right)} \\frac{\\partial}{\\partial r}r_\\star\\left(r\\right) \\mathrm{D}_{0}\\left(\\psi_{_{\\ell m}}\\right)\\left(r_\\star\\left(r\\right)\\right) - {\\left(4 \\, M^{2} r^{2} - 4 \\, M r^{3} + r^{4}\\right)} {\\left(\\frac{\\partial}{\\partial r}r_\\star\\left(r\\right)^{2} \\mathrm{D}_{0, 0}\\left(\\psi_{_{\\ell m}}\\right)\\left(r_\\star\\left(r\\right)\\right) + \\frac{\\partial^{2}}{(\\partial r)^{2}}r_\\star\\left(r\\right) \\mathrm{D}_{0}\\left(\\psi_{_{\\ell m}}\\right)\\left(r_\\star\\left(r\\right)\\right)\\right)} - 2 \\, {\\left(2 \\, M^{2} - M r\\right)} \\psi_{_{\\ell m}}\\left(r_\\star\\left(r\\right)\\right) = 0\\)</html>"
      ],
      "text/latex": [
       "$\\displaystyle -r^{4} ω^{2} \\psi_{_{\\ell m}}\\left(r_\\star\\left(r\\right)\\right) - {\\left(2 \\, M r^{3} - r^{4}\\right)} μ^{2} \\psi_{_{\\ell m}}\\left(r_\\star\\left(r\\right)\\right) - {\\left(2 \\, M r - r^{2}\\right)} λ \\psi_{_{\\ell m}}\\left(r_\\star\\left(r\\right)\\right) + 2 \\, {\\left(2 \\, M^{2} r - M r^{2}\\right)} \\frac{\\partial}{\\partial r}r_\\star\\left(r\\right) \\mathrm{D}_{0}\\left(\\psi_{_{\\ell m}}\\right)\\left(r_\\star\\left(r\\right)\\right) - {\\left(4 \\, M^{2} r^{2} - 4 \\, M r^{3} + r^{4}\\right)} {\\left(\\frac{\\partial}{\\partial r}r_\\star\\left(r\\right)^{2} \\mathrm{D}_{0, 0}\\left(\\psi_{_{\\ell m}}\\right)\\left(r_\\star\\left(r\\right)\\right) + \\frac{\\partial^{2}}{(\\partial r)^{2}}r_\\star\\left(r\\right) \\mathrm{D}_{0}\\left(\\psi_{_{\\ell m}}\\right)\\left(r_\\star\\left(r\\right)\\right)\\right)} - 2 \\, {\\left(2 \\, M^{2} - M r\\right)} \\psi_{_{\\ell m}}\\left(r_\\star\\left(r\\right)\\right) = 0$"
      ],
      "text/plain": [
       "-r^4*ω^2*ψ(rt(r)) - (2*M*r^3 - r^4)*μ^2*ψ(rt(r)) - (2*M*r - r^2)*λ*ψ(rt(r)) + 2*(2*M^2*r - M*r^2)*diff(rt(r), r)*D[0](ψ)(rt(r)) - (4*M^2*r^2 - 4*M*r^3 + r^4)*(diff(rt(r), r)^2*D[0, 0](ψ)(rt(r)) + diff(rt(r), r, r)*D[0](ψ)(rt(r))) - 2*(2*M^2 - M*r)*ψ(rt(r)) == 0"
      ]
     },
     "metadata": {},
     "output_type": "display_data"
    }
   ],
   "source": [
    "eq_ψ_2 = eq_ψ_1.subs({diff(ψ(r),r,k):diff(ψ(rtr(r)),r,k) for k in range(3)})\n",
    "display(eq_ψ_2)"
   ]
  },
  {
   "cell_type": "code",
   "execution_count": 18,
   "metadata": {},
   "outputs": [
    {
     "data": {
      "text/html": [
       "<html>\\(\\displaystyle -r^{4} ω^{2} \\psi_{_{\\ell m}}\\left(r_\\star\\left(r\\right)\\right) - r^{4} \\mathrm{D}_{0, 0}\\left(\\psi_{_{\\ell m}}\\right)\\left(r_\\star\\left(r\\right)\\right) - {\\left(2 \\, M r^{3} - r^{4}\\right)} μ^{2} \\psi_{_{\\ell m}}\\left(r_\\star\\left(r\\right)\\right) - {\\left(2 \\, M r - r^{2}\\right)} λ \\psi_{_{\\ell m}}\\left(r_\\star\\left(r\\right)\\right) - 2 \\, {\\left(2 \\, M^{2} - M r\\right)} \\psi_{_{\\ell m}}\\left(r_\\star\\left(r\\right)\\right) = 0\\)</html>"
      ],
      "text/latex": [
       "$\\displaystyle -r^{4} ω^{2} \\psi_{_{\\ell m}}\\left(r_\\star\\left(r\\right)\\right) - r^{4} \\mathrm{D}_{0, 0}\\left(\\psi_{_{\\ell m}}\\right)\\left(r_\\star\\left(r\\right)\\right) - {\\left(2 \\, M r^{3} - r^{4}\\right)} μ^{2} \\psi_{_{\\ell m}}\\left(r_\\star\\left(r\\right)\\right) - {\\left(2 \\, M r - r^{2}\\right)} λ \\psi_{_{\\ell m}}\\left(r_\\star\\left(r\\right)\\right) - 2 \\, {\\left(2 \\, M^{2} - M r\\right)} \\psi_{_{\\ell m}}\\left(r_\\star\\left(r\\right)\\right) = 0$"
      ],
      "text/plain": [
       "-r^4*ω^2*ψ(rt(r)) - r^4*D[0, 0](ψ)(rt(r)) - (2*M*r^3 - r^4)*μ^2*ψ(rt(r)) - (2*M*r - r^2)*λ*ψ(rt(r)) - 2*(2*M^2 - M*r)*ψ(rt(r)) == 0"
      ]
     },
     "metadata": {},
     "output_type": "display_data"
    }
   ],
   "source": [
    "eq_ψ_3 = eq_ψ_2.subs({diff(rtr,r,k+1):diff(drt,r,k) for k in range(2)}).canonicalize_radical()\n",
    "display(eq_ψ_3)"
   ]
  },
  {
   "cell_type": "markdown",
   "metadata": {},
   "source": [
    "defining $r_\\star$ as symbolic variable and usi it"
   ]
  },
  {
   "cell_type": "code",
   "execution_count": 19,
   "metadata": {},
   "outputs": [
    {
     "data": {
      "text/html": [
       "<html>\\(\\displaystyle {r_\\star}\\)</html>"
      ],
      "text/latex": [
       "$\\displaystyle {r_\\star}$"
      ],
      "text/plain": [
       "rt"
      ]
     },
     "execution_count": 19,
     "metadata": {},
     "output_type": "execute_result"
    }
   ],
   "source": [
    "rt = var('rt', latex_name=r'r_\\star', domain='real')\n",
    "rt"
   ]
  },
  {
   "cell_type": "code",
   "execution_count": 20,
   "metadata": {},
   "outputs": [
    {
     "data": {
      "text/html": [
       "<html>\\(\\displaystyle \\frac{2 \\, M μ^{2} \\psi_{_{\\ell m}}\\left({r_\\star}\\right)}{r} - μ^{2} \\psi_{_{\\ell m}}\\left({r_\\star}\\right) + ω^{2} \\psi_{_{\\ell m}}\\left({r_\\star}\\right) + \\frac{2 \\, M λ \\psi_{_{\\ell m}}\\left({r_\\star}\\right)}{r^{3}} - \\frac{λ \\psi_{_{\\ell m}}\\left({r_\\star}\\right)}{r^{2}} + \\frac{4 \\, M^{2} \\psi_{_{\\ell m}}\\left({r_\\star}\\right)}{r^{4}} - \\frac{2 \\, M \\psi_{_{\\ell m}}\\left({r_\\star}\\right)}{r^{3}} + \\frac{\\partial^{2}}{(\\partial {r_\\star})^{2}}\\psi_{_{\\ell m}}\\left({r_\\star}\\right) = 0\\)</html>"
      ],
      "text/latex": [
       "$\\displaystyle \\frac{2 \\, M μ^{2} \\psi_{_{\\ell m}}\\left({r_\\star}\\right)}{r} - μ^{2} \\psi_{_{\\ell m}}\\left({r_\\star}\\right) + ω^{2} \\psi_{_{\\ell m}}\\left({r_\\star}\\right) + \\frac{2 \\, M λ \\psi_{_{\\ell m}}\\left({r_\\star}\\right)}{r^{3}} - \\frac{λ \\psi_{_{\\ell m}}\\left({r_\\star}\\right)}{r^{2}} + \\frac{4 \\, M^{2} \\psi_{_{\\ell m}}\\left({r_\\star}\\right)}{r^{4}} - \\frac{2 \\, M \\psi_{_{\\ell m}}\\left({r_\\star}\\right)}{r^{3}} + \\frac{\\partial^{2}}{(\\partial {r_\\star})^{2}}\\psi_{_{\\ell m}}\\left({r_\\star}\\right) = 0$"
      ],
      "text/plain": [
       "2*M*μ^2*ψ(rt)/r - μ^2*ψ(rt) + ω^2*ψ(rt) + 2*M*λ*ψ(rt)/r^3 - λ*ψ(rt)/r^2 + 4*M^2*ψ(rt)/r^4 - 2*M*ψ(rt)/r^3 + diff(ψ(rt), rt, rt) == 0"
      ]
     },
     "metadata": {},
     "output_type": "display_data"
    }
   ],
   "source": [
    "eq_ψ_4 = (eq_ψ_3/(-r^4)).subs({rtr:rt}).expand()\n",
    "display(eq_ψ_4)"
   ]
  },
  {
   "cell_type": "markdown",
   "metadata": {},
   "source": [
    "**Comparing the expression above with $$\\left(\\omega^2-V\\right)\\psi+\\psi''=0$$ we find the potential.**"
   ]
  },
  {
   "cell_type": "markdown",
   "metadata": {},
   "source": [
    "wild cards"
   ]
  },
  {
   "cell_type": "code",
   "execution_count": 21,
   "metadata": {},
   "outputs": [
    {
     "data": {
      "text/html": [
       "<html>\\(\\displaystyle \\left[-\\frac{2 \\, M \\psi_{_{\\ell m}}\\left({r_\\star}\\right)}{r^{3}}, \\frac{4 \\, M^{2} \\psi_{_{\\ell m}}\\left({r_\\star}\\right)}{r^{4}}, -\\frac{λ \\psi_{_{\\ell m}}\\left({r_\\star}\\right)}{r^{2}}, \\frac{2 \\, M λ \\psi_{_{\\ell m}}\\left({r_\\star}\\right)}{r^{3}}, ω^{2} \\psi_{_{\\ell m}}\\left({r_\\star}\\right), -μ^{2} \\psi_{_{\\ell m}}\\left({r_\\star}\\right), \\frac{2 \\, M μ^{2} \\psi_{_{\\ell m}}\\left({r_\\star}\\right)}{r}\\right]\\)</html>"
      ],
      "text/latex": [
       "$\\displaystyle \\left[-\\frac{2 \\, M \\psi_{_{\\ell m}}\\left({r_\\star}\\right)}{r^{3}}, \\frac{4 \\, M^{2} \\psi_{_{\\ell m}}\\left({r_\\star}\\right)}{r^{4}}, -\\frac{λ \\psi_{_{\\ell m}}\\left({r_\\star}\\right)}{r^{2}}, \\frac{2 \\, M λ \\psi_{_{\\ell m}}\\left({r_\\star}\\right)}{r^{3}}, ω^{2} \\psi_{_{\\ell m}}\\left({r_\\star}\\right), -μ^{2} \\psi_{_{\\ell m}}\\left({r_\\star}\\right), \\frac{2 \\, M μ^{2} \\psi_{_{\\ell m}}\\left({r_\\star}\\right)}{r}\\right]$"
      ],
      "text/plain": [
       "[-2*M*ψ(rt)/r^3,\n",
       " 4*M^2*ψ(rt)/r^4,\n",
       " -λ*ψ(rt)/r^2,\n",
       " 2*M*λ*ψ(rt)/r^3,\n",
       " ω^2*ψ(rt),\n",
       " -μ^2*ψ(rt),\n",
       " 2*M*μ^2*ψ(rt)/r]"
      ]
     },
     "execution_count": 21,
     "metadata": {},
     "output_type": "execute_result"
    }
   ],
   "source": [
    "w0 = SR.wild(0)\n",
    "LV = eq_ψ_4.find(w0*ψ(rt))\n",
    "LV"
   ]
  },
  {
   "cell_type": "markdown",
   "metadata": {},
   "source": [
    "**Potential**"
   ]
  },
  {
   "cell_type": "code",
   "execution_count": 22,
   "metadata": {},
   "outputs": [
    {
     "data": {
      "text/html": [
       "<html>\\(\\displaystyle r \\ {\\mapsto}\\ -\\frac{2 \\, M μ^{2}}{r} + μ^{2} - \\frac{2 \\, M λ}{r^{3}} + \\frac{λ}{r^{2}} - \\frac{4 \\, M^{2}}{r^{4}} + \\frac{2 \\, M}{r^{3}}\\)</html>"
      ],
      "text/latex": [
       "$\\displaystyle r \\ {\\mapsto}\\ -\\frac{2 \\, M μ^{2}}{r} + μ^{2} - \\frac{2 \\, M λ}{r^{3}} + \\frac{λ}{r^{2}} - \\frac{4 \\, M^{2}}{r^{4}} + \\frac{2 \\, M}{r^{3}}$"
      ],
      "text/plain": [
       "r |--> -2*M*μ^2/r + μ^2 - 2*M*λ/r^3 + λ/r^2 - 4*M^2/r^4 + 2*M/r^3"
      ]
     },
     "execution_count": 22,
     "metadata": {},
     "output_type": "execute_result"
    }
   ],
   "source": [
    "LV.remove(ω^2*ψ(rt))\n",
    "V(r) = -(sum(LV)/ψ(rt)).expand()\n",
    "V"
   ]
  },
  {
   "cell_type": "code",
   "execution_count": 23,
   "metadata": {},
   "outputs": [
    {
     "data": {
      "text/html": [
       "<html>\\(\\displaystyle r \\ {\\mapsto}\\ {\\left(\\frac{2 \\, M μ^{2}}{r} - μ^{2} + ω^{2} + \\frac{2 \\, M λ}{r^{3}} - \\frac{λ}{r^{2}} + \\frac{4 \\, M^{2}}{r^{4}} - \\frac{2 \\, M}{r^{3}}\\right)} \\psi_{_{\\ell m}}\\left({r_\\star}\\right) + \\frac{\\partial^{2}}{(\\partial {r_\\star})^{2}}\\psi_{_{\\ell m}}\\left({r_\\star}\\right) = 0\\)</html>"
      ],
      "text/latex": [
       "$\\displaystyle r \\ {\\mapsto}\\ {\\left(\\frac{2 \\, M μ^{2}}{r} - μ^{2} + ω^{2} + \\frac{2 \\, M λ}{r^{3}} - \\frac{λ}{r^{2}} + \\frac{4 \\, M^{2}}{r^{4}} - \\frac{2 \\, M}{r^{3}}\\right)} \\psi_{_{\\ell m}}\\left({r_\\star}\\right) + \\frac{\\partial^{2}}{(\\partial {r_\\star})^{2}}\\psi_{_{\\ell m}}\\left({r_\\star}\\right) = 0$"
      ],
      "text/plain": [
       "r |--> (2*M*μ^2/r - μ^2 + ω^2 + 2*M*λ/r^3 - λ/r^2 + 4*M^2/r^4 - 2*M/r^3)*ψ(rt) + diff(ψ(rt), rt, rt) == 0"
      ]
     },
     "metadata": {},
     "output_type": "display_data"
    }
   ],
   "source": [
    "eq_ψ = (ω^2-V)*ψ(rt)+diff(ψ(r),r,2).subs({r:rt})==0\n",
    "display(eq_ψ)"
   ]
  },
  {
   "cell_type": "markdown",
   "metadata": {},
   "source": [
    "**Checking that both are the same equation**"
   ]
  },
  {
   "cell_type": "code",
   "execution_count": 24,
   "metadata": {},
   "outputs": [
    {
     "data": {
      "text/html": [
       "<html>\\(\\displaystyle r \\ {\\mapsto}\\ 0 = 0\\)</html>"
      ],
      "text/latex": [
       "$\\displaystyle r \\ {\\mapsto}\\ 0 = 0$"
      ],
      "text/plain": [
       "r |--> 0 == 0"
      ]
     },
     "execution_count": 24,
     "metadata": {},
     "output_type": "execute_result"
    }
   ],
   "source": [
    "(eq_ψ_4 - eq_ψ).canonicalize_radical()"
   ]
  },
  {
   "cell_type": "markdown",
   "metadata": {},
   "source": [
    "Substituing $\\lambda = \\ell(\\ell+1)$"
   ]
  },
  {
   "cell_type": "code",
   "execution_count": 25,
   "metadata": {},
   "outputs": [
    {
     "data": {
      "text/html": [
       "<html>\\(\\displaystyle r \\ {\\mapsto}\\ {\\left(\\frac{2 \\, M μ^{2}}{r} - μ^{2} + ω^{2} + \\frac{2 \\, M {\\left(ℓ + 1\\right)} ℓ}{r^{3}} - \\frac{{\\left(ℓ + 1\\right)} ℓ}{r^{2}} + \\frac{4 \\, M^{2}}{r^{4}} - \\frac{2 \\, M}{r^{3}}\\right)} \\psi_{_{\\ell m}}\\left({r_\\star}\\right) + \\frac{\\partial^{2}}{(\\partial {r_\\star})^{2}}\\psi_{_{\\ell m}}\\left({r_\\star}\\right) = 0\\)</html>"
      ],
      "text/latex": [
       "$\\displaystyle r \\ {\\mapsto}\\ {\\left(\\frac{2 \\, M μ^{2}}{r} - μ^{2} + ω^{2} + \\frac{2 \\, M {\\left(ℓ + 1\\right)} ℓ}{r^{3}} - \\frac{{\\left(ℓ + 1\\right)} ℓ}{r^{2}} + \\frac{4 \\, M^{2}}{r^{4}} - \\frac{2 \\, M}{r^{3}}\\right)} \\psi_{_{\\ell m}}\\left({r_\\star}\\right) + \\frac{\\partial^{2}}{(\\partial {r_\\star})^{2}}\\psi_{_{\\ell m}}\\left({r_\\star}\\right) = 0$"
      ],
      "text/plain": [
       "r |--> (2*M*μ^2/r - μ^2 + ω^2 + 2*M*(ℓ + 1)*ℓ/r^3 - (ℓ + 1)*ℓ/r^2 + 4*M^2/r^4 - 2*M/r^3)*ψ(rt) + diff(ψ(rt), rt, rt) == 0"
      ]
     },
     "metadata": {},
     "output_type": "display_data"
    }
   ],
   "source": [
    "ℓ = var('ℓ', domain='positive')\n",
    "eq_ψ = eq_ψ.subs({λ:ℓ*(ℓ+1)})\n",
    "display(eq_ψ)"
   ]
  },
  {
   "cell_type": "code",
   "execution_count": 26,
   "metadata": {},
   "outputs": [
    {
     "data": {
      "text/html": [
       "<html>\\(\\displaystyle r \\ {\\mapsto}\\ -\\frac{2 \\, M μ^{2}}{r} + μ^{2} - \\frac{2 \\, M {\\left(ℓ + 1\\right)} ℓ}{r^{3}} + \\frac{{\\left(ℓ + 1\\right)} ℓ}{r^{2}} - \\frac{4 \\, M^{2}}{r^{4}} + \\frac{2 \\, M}{r^{3}}\\)</html>"
      ],
      "text/latex": [
       "$\\displaystyle r \\ {\\mapsto}\\ -\\frac{2 \\, M μ^{2}}{r} + μ^{2} - \\frac{2 \\, M {\\left(ℓ + 1\\right)} ℓ}{r^{3}} + \\frac{{\\left(ℓ + 1\\right)} ℓ}{r^{2}} - \\frac{4 \\, M^{2}}{r^{4}} + \\frac{2 \\, M}{r^{3}}$"
      ],
      "text/plain": [
       "r |--> -2*M*μ^2/r + μ^2 - 2*M*(ℓ + 1)*ℓ/r^3 + (ℓ + 1)*ℓ/r^2 - 4*M^2/r^4 + 2*M/r^3"
      ]
     },
     "execution_count": 26,
     "metadata": {},
     "output_type": "execute_result"
    }
   ],
   "source": [
    "V(r) = V(r).subs({λ:ℓ*(ℓ+1)})\n",
    "V"
   ]
  },
  {
   "cell_type": "code",
   "execution_count": 27,
   "metadata": {},
   "outputs": [
    {
     "data": {
      "text/html": [
       "\n",
       "<iframe srcdoc=\"<!DOCTYPE html>\n",
       "<html>\n",
       "<head>\n",
       "<title></title>\n",
       "<meta charset=&quot;utf-8&quot;>\n",
       "<meta name=viewport content=&quot;width=device-width, user-scalable=no, minimum-scale=1.0, maximum-scale=1.0&quot;>\n",
       "<style>\n",
       "\n",
       "    body { margin: 0px; overflow: hidden; }\n",
       "\n",
       "    #menu-container { position: absolute; bottom: 30px; right: 40px; cursor: default; }\n",
       "\n",
       "    #menu-message { position: absolute; bottom: 0px; right: 0px; white-space: nowrap;\n",
       "                    display: none; background-color: #F5F5F5; padding: 10px; }\n",
       "\n",
       "    #menu-content { position: absolute; bottom: 0px; right: 0px;\n",
       "                    display: none; background-color: #F5F5F5; border-bottom: 1px solid black;\n",
       "                    border-right: 1px solid black; border-left: 1px solid black; }\n",
       "\n",
       "    #menu-content div { border-top: 1px solid black; padding: 10px; white-space: nowrap; }\n",
       "\n",
       "    #menu-content div:hover { background-color: #FEFEFE; }\n",
       "\n",
       "    .dark-theme #menu-container { color: white; }\n",
       "\n",
       "    .dark-theme #menu-message { background-color: #181818; }\n",
       "\n",
       "    .dark-theme #menu-content { background-color: #181818; border-color: white; }\n",
       "\n",
       "    .dark-theme #menu-content div { border-color: white; }\n",
       "\n",
       "    .dark-theme #menu-content div:hover { background-color: #303030; }\n",
       "\n",
       "</style>\n",
       "\n",
       "</head>\n",
       "\n",
       "<body>\n",
       "\n",
       "<script src=&quot;/nbextensions/threejs-sage/r122/three.min.js&quot;></script>\n",
       "<script>\n",
       "  if ( !window.THREE ) document.write(' \\\n",
       "<script src=&quot;https://cdn.jsdelivr.net/gh/sagemath/threejs-sage@r122/build/three.min.js&quot;><\\/script> \\\n",
       "            ');\n",
       "</script>\n",
       "        \n",
       "<script>\n",
       "\n",
       "    var options = {&quot;animate&quot;: false, &quot;animationControls&quot;: true, &quot;aspectRatio&quot;: [1.0, 1.0, 1.0], &quot;autoScaling&quot;: [false, false, false], &quot;autoPlay&quot;: true, &quot;axes&quot;: false, &quot;axesLabels&quot;: [&quot;x&quot;, &quot;y&quot;, &quot;z&quot;], &quot;axesLabelsStyle&quot;: null, &quot;decimals&quot;: 2, &quot;delay&quot;: 20, &quot;frame&quot;: true, &quot;loop&quot;: true, &quot;projection&quot;: &quot;perspective&quot;, &quot;theme&quot;: &quot;dark&quot;, &quot;viewpoint&quot;: false};\n",
       "    var animate = options.animate;\n",
       "\n",
       "    if ( options.theme === 'dark' )\n",
       "        document.body.className = 'dark-theme';\n",
       "\n",
       "    var scene = new THREE.Scene();\n",
       "\n",
       "    var renderer = new THREE.WebGLRenderer( { antialias: true, preserveDrawingBuffer: true } );\n",
       "    renderer.setPixelRatio( window.devicePixelRatio );\n",
       "    renderer.setSize( window.innerWidth, window.innerHeight );\n",
       "    renderer.setClearColor( options.theme === 'dark' ? 0 : 0xffffff, 1 );\n",
       "    document.body.appendChild( renderer.domElement );\n",
       "\n",
       "    var b = [{&quot;x&quot;:2.0, &quot;y&quot;:0.0, &quot;z&quot;:0.0}, {&quot;x&quot;:10.0, &quot;y&quot;:3.0, &quot;z&quot;:7.2176}]; // bounds\n",
       "\n",
       "    if ( b[0].x === b[1].x ) {\n",
       "        b[0].x -= 1;\n",
       "        b[1].x += 1;\n",
       "    }\n",
       "    if ( b[0].y === b[1].y ) {\n",
       "        b[0].y -= 1;\n",
       "        b[1].y += 1;\n",
       "    }\n",
       "    if ( b[0].z === b[1].z ) {\n",
       "        b[0].z -= 1;\n",
       "        b[1].z += 1;\n",
       "    }\n",
       "\n",
       "    var rxRange = Math.sqrt( Math.pow( b[1].z - b[0].z, 2 )\n",
       "                            + Math.pow( b[1].y - b[0].y, 2 ) );\n",
       "    var ryRange = Math.sqrt( Math.pow( b[1].x - b[0].x, 2 )\n",
       "                            + Math.pow( b[1].z - b[0].z, 2 ) );\n",
       "    var rzRange = Math.sqrt( Math.pow( b[1].x - b[0].x, 2 )\n",
       "                            + Math.pow( b[1].y - b[0].y, 2 ) );\n",
       "    var xRange = b[1].x - b[0].x;\n",
       "    var yRange = b[1].y - b[0].y;\n",
       "    var zRange = b[1].z - b[0].z;\n",
       "\n",
       "    var ar = options.aspectRatio;\n",
       "    var a = [ ar[0], ar[1], ar[2] ]; // aspect multipliers\n",
       "\n",
       "    var autoScaling = options.autoScaling;\n",
       "    var autoAspect = 2.5;\n",
       "    if ( xRange > autoAspect * rxRange && autoScaling[0] ) a[0] = autoAspect * rxRange / xRange;\n",
       "    if ( yRange > autoAspect * ryRange && autoScaling[1] ) a[1] = autoAspect * ryRange / yRange;\n",
       "    if ( zRange > autoAspect * rzRange && autoScaling[2] ) a[2] = autoAspect * rzRange / zRange;\n",
       "\n",
       "    // Distance from (xMid,yMid,zMid) to any corner of the bounding box, after applying aspectRatio\n",
       "    var midToCorner = Math.sqrt( a[0]*a[0]*xRange*xRange + a[1]*a[1]*yRange*yRange + a[2]*a[2]*zRange*zRange ) / 2;\n",
       "\n",
       "    var xMid = ( b[0].x + b[1].x ) / 2;\n",
       "    var yMid = ( b[0].y + b[1].y ) / 2;\n",
       "    var zMid = ( b[0].z + b[1].z ) / 2;\n",
       "\n",
       "    var box = new THREE.Geometry();\n",
       "    box.vertices.push( new THREE.Vector3( a[0]*b[0].x, a[1]*b[0].y, a[2]*b[0].z ) );\n",
       "    box.vertices.push( new THREE.Vector3( a[0]*b[1].x, a[1]*b[1].y, a[2]*b[1].z ) );\n",
       "    var boxMesh = new THREE.Line( box );\n",
       "    var boxColor = options.theme === 'dark' ? 'white' : 'black';\n",
       "    if ( options.frame ) scene.add( new THREE.BoxHelper( boxMesh, boxColor ) );\n",
       "\n",
       "    if ( options.axesLabels ) {\n",
       "\n",
       "        var d = options.decimals; // decimals\n",
       "        var offsetRatio = 0.1;\n",
       "        var al = options.axesLabels;\n",
       "        var als = options.axesLabelsStyle || [{}, {}, {}];\n",
       "\n",
       "        var offset = offsetRatio * a[1]*( b[1].y - b[0].y );\n",
       "        var xm = xMid.toFixed(d);\n",
       "        if ( /^-0.?0*$/.test(xm) ) xm = xm.substr(1);\n",
       "        addLabel( al[0] + '=' + xm, a[0]*xMid, a[1]*b[1].y+offset, a[2]*b[0].z, als[0] );\n",
       "        addLabel( ( b[0].x ).toFixed(d), a[0]*b[0].x, a[1]*b[1].y+offset, a[2]*b[0].z, als[0] );\n",
       "        addLabel( ( b[1].x ).toFixed(d), a[0]*b[1].x, a[1]*b[1].y+offset, a[2]*b[0].z, als[0] );\n",
       "\n",
       "        var offset = offsetRatio * a[0]*( b[1].x - b[0].x );\n",
       "        var ym = yMid.toFixed(d);\n",
       "        if ( /^-0.?0*$/.test(ym) ) ym = ym.substr(1);\n",
       "        addLabel( al[1] + '=' + ym, a[0]*b[1].x+offset, a[1]*yMid, a[2]*b[0].z, als[1] );\n",
       "        addLabel( ( b[0].y ).toFixed(d), a[0]*b[1].x+offset, a[1]*b[0].y, a[2]*b[0].z, als[1] );\n",
       "        addLabel( ( b[1].y ).toFixed(d), a[0]*b[1].x+offset, a[1]*b[1].y, a[2]*b[0].z, als[1] );\n",
       "\n",
       "        var offset = offsetRatio * a[1]*( b[1].y - b[0].y );\n",
       "        var zm = zMid.toFixed(d);\n",
       "        if ( /^-0.?0*$/.test(zm) ) zm = zm.substr(1);\n",
       "        addLabel( al[2] + '=' + zm, a[0]*b[1].x, a[1]*b[0].y-offset, a[2]*zMid, als[2] );\n",
       "        addLabel( ( b[0].z ).toFixed(d), a[0]*b[1].x, a[1]*b[0].y-offset, a[2]*b[0].z, als[2] );\n",
       "        addLabel( ( b[1].z ).toFixed(d), a[0]*b[1].x, a[1]*b[0].y-offset, a[2]*b[1].z, als[2] );\n",
       "\n",
       "    }\n",
       "\n",
       "    function addLabel( text, x, y, z, style ) {\n",
       "\n",
       "        var color = style.color || 'black';\n",
       "        var fontSize = style.fontSize || 14;\n",
       "        var fontFamily = style.fontFamily || 'monospace';\n",
       "        var fontStyle = style.fontStyle || 'normal';\n",
       "        var fontWeight = style.fontWeight || 'normal';\n",
       "        var opacity = style.opacity || 1;\n",
       "\n",
       "        if ( options.theme === 'dark' )\n",
       "            if ( color === 'black' || color === '#000000' )\n",
       "                color = 'white';\n",
       "\n",
       "        if ( Array.isArray( fontStyle ) ) {\n",
       "            fontFamily = fontFamily.map( function( f ) {\n",
       "                // Need to put quotes around fonts that have whitespace in their names.\n",
       "                return /\\s/.test( f ) ? '&quot;' + f + '&quot;' : f;\n",
       "            }).join(', ');\n",
       "        }\n",
       "\n",
       "        var canvas = document.createElement( 'canvas' );\n",
       "        var context = canvas.getContext( '2d' );\n",
       "        var pixelRatio = Math.round( window.devicePixelRatio );\n",
       "\n",
       "        // For example: italic bold 20px &quot;Times New Roman&quot;, Georgia, serif\n",
       "        var font = [fontStyle, fontWeight, fontSize + 'px', fontFamily].join(' ');\n",
       "\n",
       "        context.font = font;\n",
       "        var width = context.measureText( text ).width;\n",
       "        var height = fontSize;\n",
       "\n",
       "        // The dimensions of the canvas's underlying image data need to be powers\n",
       "        // of two in order for the resulting texture to support mipmapping.\n",
       "        canvas.width = THREE.MathUtils.ceilPowerOfTwo( width * pixelRatio );\n",
       "        canvas.height = THREE.MathUtils.ceilPowerOfTwo( height * pixelRatio );\n",
       "\n",
       "        // Re-compute the unscaled dimensions after the power of two conversion.\n",
       "        width = canvas.width / pixelRatio;\n",
       "        height = canvas.height / pixelRatio;\n",
       "\n",
       "        canvas.style.width = width + 'px';\n",
       "        canvas.style.height = height + 'px';\n",
       "\n",
       "        context.scale( pixelRatio, pixelRatio );\n",
       "        context.fillStyle = color;\n",
       "        context.font = font; // Must be set again after measureText.\n",
       "        context.textAlign = 'center';\n",
       "        context.textBaseline = 'middle';\n",
       "        context.fillText( text, width/2, height/2 );\n",
       "\n",
       "        var texture = new THREE.Texture( canvas );\n",
       "        texture.needsUpdate = true;\n",
       "\n",
       "        var materialOptions = { map: texture, sizeAttenuation: false, depthWrite: false };\n",
       "        if ( opacity < 1 ) {\n",
       "            // Setting opacity=1 would cause the texture's alpha component to be\n",
       "            // discarded, giving the text a black background instead of the\n",
       "            // background being transparent.\n",
       "            materialOptions.opacity = opacity;\n",
       "        }\n",
       "        var sprite = new THREE.Sprite( new THREE.SpriteMaterial( materialOptions ) );\n",
       "        sprite.position.set( x, y, z );\n",
       "\n",
       "        // Scaling factor, chosen somewhat arbitrarily so that the size of the text\n",
       "        // is consistent with previously generated plots.\n",
       "        var scale = 1/625;\n",
       "        if ( options.projection === 'orthographic' ) {\n",
       "            scale = midToCorner/256; // Needs to scale along with the plot itself.\n",
       "        }\n",
       "        sprite.scale.set( scale * width, scale * height, 1 );\n",
       "\n",
       "        scene.add( sprite );\n",
       "\n",
       "        return sprite;\n",
       "\n",
       "    }\n",
       "\n",
       "    if ( options.axes ) scene.add( new THREE.AxesHelper( Math.min( a[0]*b[1].x, a[1]*b[1].y, a[2]*b[1].z ) ) );\n",
       "\n",
       "    var camera = createCamera();\n",
       "    camera.up.set( 0, 0, 1 );\n",
       "    camera.position.set( a[0]*xMid, a[1]*yMid, a[2]*zMid );\n",
       "\n",
       "    var offset = new THREE.Vector3( a[0]*xRange, a[1]*yRange, a[2]*zRange );\n",
       "\n",
       "    if ( options.viewpoint ) {\n",
       "\n",
       "        var aa = options.viewpoint;\n",
       "        var axis = new THREE.Vector3( aa[0][0], aa[0][1], aa[0][2] ).normalize();\n",
       "        var angle = aa[1] * Math.PI / 180;\n",
       "        var q = new THREE.Quaternion().setFromAxisAngle( axis, angle ).inverse();\n",
       "\n",
       "        offset.set( 0, 0, offset.length() );\n",
       "        offset.applyQuaternion( q );\n",
       "\n",
       "    }\n",
       "\n",
       "    camera.position.add( offset );\n",
       "\n",
       "    function createCamera() {\n",
       "\n",
       "        var aspect = window.innerWidth / window.innerHeight;\n",
       "\n",
       "        // Scale the near and far clipping planes along with the overall plot size.\n",
       "        var nearClip = 0.01 * midToCorner;\n",
       "        var farClip = 100 * midToCorner;\n",
       "\n",
       "        if ( options.projection === 'orthographic' ) {\n",
       "            var camera = new THREE.OrthographicCamera( -1, 1, 1, -1, -farClip, farClip );\n",
       "            updateCameraAspect( camera, aspect );\n",
       "            return camera;\n",
       "        }\n",
       "\n",
       "        return new THREE.PerspectiveCamera( 45, aspect, nearClip, farClip );\n",
       "\n",
       "    }\n",
       "\n",
       "    function updateCameraAspect( camera, aspect ) {\n",
       "\n",
       "        if ( camera.isPerspectiveCamera ) {\n",
       "            camera.aspect = aspect;\n",
       "        } else if ( camera.isOrthographicCamera ) {\n",
       "            // Fit the camera frustum to the bounding box's diagonal so that the entire plot fits\n",
       "            // within at the default zoom level and camera position.\n",
       "            if ( aspect > 1 ) { // Wide window\n",
       "                camera.top = midToCorner;\n",
       "                camera.right = midToCorner * aspect;\n",
       "            } else { // Tall or square window\n",
       "                camera.top = midToCorner / aspect;\n",
       "                camera.right = midToCorner;\n",
       "            }\n",
       "            camera.bottom = -camera.top;\n",
       "            camera.left = -camera.right;\n",
       "        }\n",
       "\n",
       "        camera.updateProjectionMatrix();\n",
       "\n",
       "    }\n",
       "\n",
       "    var lights = [{&quot;x&quot;:-5, &quot;y&quot;:3, &quot;z&quot;:0, &quot;color&quot;:&quot;#7f7f7f&quot;, &quot;parent&quot;:&quot;camera&quot;}];\n",
       "    for ( var i=0 ; i < lights.length ; i++ ) {\n",
       "        var light = new THREE.DirectionalLight( lights[i].color, 1 );\n",
       "        light.position.set( a[0]*lights[i].x, a[1]*lights[i].y, a[2]*lights[i].z );\n",
       "        if ( lights[i].parent === 'camera' ) {\n",
       "            light.target.position.set( a[0]*xMid, a[1]*yMid, a[2]*zMid );\n",
       "            scene.add( light.target );\n",
       "            camera.add( light );\n",
       "        } else scene.add( light );\n",
       "    }\n",
       "    scene.add( camera );\n",
       "\n",
       "    var ambient = {&quot;color&quot;:&quot;#7f7f7f&quot;};\n",
       "    scene.add( new THREE.AmbientLight( ambient.color, 1 ) );\n",
       "\n",
       "    var controls = new THREE.OrbitControls( camera, renderer.domElement );\n",
       "    controls.target.set( a[0]*xMid, a[1]*yMid, a[2]*zMid );\n",
       "    controls.addEventListener( 'change', function() { if ( !animate ) render(); } );\n",
       "\n",
       "    window.addEventListener( 'resize', function() {\n",
       "\n",
       "        renderer.setSize( window.innerWidth, window.innerHeight );\n",
       "        updateCameraAspect( camera, window.innerWidth / window.innerHeight );\n",
       "        if ( window.rescaleFatLines ) rescaleFatLines();\n",
       "        if ( !animate ) render();\n",
       "\n",
       "    } );\n",
       "\n",
       "    var texts = [];\n",
       "    for ( var i=0 ; i < texts.length ; i++ ) addText( texts[i] );\n",
       "\n",
       "    function addText( json ) {\n",
       "        var sprite = addLabel( json.text, a[0]*json.x, a[1]*json.y, a[2]*json.z, json );\n",
       "        sprite.userData = json;\n",
       "    }\n",
       "\n",
       "    var points = [];\n",
       "    for ( var i=0 ; i < points.length ; i++ ) addPoint( points[i] );\n",
       "\n",
       "    function addPoint( json ) {\n",
       "\n",
       "        var geometry = new THREE.Geometry();\n",
       "        var v = json.point;\n",
       "        geometry.vertices.push( new THREE.Vector3( a[0]*v[0], a[1]*v[1], a[2]*v[2] ) );\n",
       "\n",
       "        var canvas = document.createElement( 'canvas' );\n",
       "        canvas.width = 128;\n",
       "        canvas.height = 128;\n",
       "\n",
       "        var context = canvas.getContext( '2d' );\n",
       "        context.arc( 64, 64, 64, 0, 2 * Math.PI );\n",
       "        context.fillStyle = json.color;\n",
       "        context.fill();\n",
       "\n",
       "        var texture = new THREE.Texture( canvas );\n",
       "        texture.needsUpdate = true;\n",
       "\n",
       "        var transparent = json.opacity < 1 ? true : false;\n",
       "        var size = camera.isOrthographicCamera ? json.size : json.size/100;\n",
       "        var material = new THREE.PointsMaterial( { size: size, map: texture,\n",
       "                                                   transparent: transparent, opacity: json.opacity,\n",
       "                                                   alphaTest: .1 } );\n",
       "\n",
       "        var c = new THREE.Vector3();\n",
       "        geometry.computeBoundingBox();\n",
       "        geometry.boundingBox.getCenter( c );\n",
       "        geometry.translate( -c.x, -c.y, -c.z );\n",
       "\n",
       "        var mesh = new THREE.Points( geometry, material );\n",
       "        mesh.position.set( c.x, c.y, c.z );\n",
       "        mesh.userData = json;\n",
       "        scene.add( mesh );\n",
       "\n",
       "    }\n",
       "\n",
       "    var lines = [];\n",
       "    for ( var i=0 ; i < lines.length ; i++ ) addLine( lines[i] );\n",
       "\n",
       "    function addLine( json ) {\n",
       "\n",
       "        var geometry = new THREE.Geometry();\n",
       "        for ( var i=0 ; i < json.points.length ; i++ ) {\n",
       "            var v = json.points[i];\n",
       "            geometry.vertices.push( new THREE.Vector3( a[0]*v[0], a[1]*v[1], a[2]*v[2] ) );\n",
       "        }\n",
       "\n",
       "        var c = new THREE.Vector3();\n",
       "        geometry.computeBoundingBox();\n",
       "        geometry.boundingBox.getCenter( c );\n",
       "        geometry.translate( -c.x, -c.y, -c.z );\n",
       "\n",
       "        var transparent = json.opacity < 1 ? true : false;\n",
       "        var materialOptions = { color: json.color, linewidth: json.linewidth,\n",
       "                                transparent: transparent, opacity: json.opacity };\n",
       "\n",
       "        var mesh;\n",
       "        if ( json.linewidth > 1 && window.createFatLineStrip ) {\n",
       "            mesh = createFatLineStrip( geometry, materialOptions );\n",
       "        } else {\n",
       "            var material = new THREE.LineBasicMaterial( materialOptions );\n",
       "            mesh = new THREE.Line( geometry, material );\n",
       "        }\n",
       "\n",
       "        mesh.position.set( c.x, c.y, c.z );\n",
       "        mesh.userData = json;\n",
       "        scene.add( mesh );\n",
       "\n",
       "    }\n",
       "\n",
       "    var surfaces = [{&quot;vertices&quot;: [{&quot;x&quot;: 2.0, &quot;y&quot;: 0.0, &quot;z&quot;: 0.0}, {&quot;x&quot;: 2.0, &quot;y&quot;: 0.07692307692307693, &quot;z&quot;: 0.0}, {&quot;x&quot;: 2.2051282051282053, &quot;y&quot;: 0.07692307692307693, &quot;z&quot;: 0.05616203531156308}, {&quot;x&quot;: 2.2051282051282053, &quot;y&quot;: 0.0, &quot;z&quot;: 0.05561160184520833}, {&quot;x&quot;: 2.0, &quot;y&quot;: 0.15384615384615385, &quot;z&quot;: 0.0}, {&quot;x&quot;: 2.2051282051282053, &quot;y&quot;: 0.15384615384615385, &quot;z&quot;: 0.05781333571062733}, {&quot;x&quot;: 2.0, &quot;y&quot;: 0.23076923076923078, &quot;z&quot;: 0.0}, {&quot;x&quot;: 2.2051282051282053, &quot;y&quot;: 0.23076923076923078, &quot;z&quot;: 0.06056550304240113}, {&quot;x&quot;: 2.0, &quot;y&quot;: 0.3076923076923077, &quot;z&quot;: 0.0}, {&quot;x&quot;: 2.2051282051282053, &quot;y&quot;: 0.3076923076923077, &quot;z&quot;: 0.06441853730688438}, {&quot;x&quot;: 2.0, &quot;y&quot;: 0.38461538461538464, &quot;z&quot;: 0.0}, {&quot;x&quot;: 2.2051282051282053, &quot;y&quot;: 0.38461538461538464, &quot;z&quot;: 0.06937243850407723}, {&quot;x&quot;: 2.0, &quot;y&quot;: 0.46153846153846156, &quot;z&quot;: 0.0}, {&quot;x&quot;: 2.2051282051282053, &quot;y&quot;: 0.46153846153846156, &quot;z&quot;: 0.07542720663397948}, {&quot;x&quot;: 2.0, &quot;y&quot;: 0.5384615384615385, &quot;z&quot;: 0.0}, {&quot;x&quot;: 2.2051282051282053, &quot;y&quot;: 0.5384615384615385, &quot;z&quot;: 0.0825828416965913}, {&quot;x&quot;: 2.0, &quot;y&quot;: 0.6153846153846154, &quot;z&quot;: 0.0}, {&quot;x&quot;: 2.2051282051282053, &quot;y&quot;: 0.6153846153846154, &quot;z&quot;: 0.09083934369191266}, {&quot;x&quot;: 2.0, &quot;y&quot;: 0.6923076923076923, &quot;z&quot;: 0.0}, {&quot;x&quot;: 2.2051282051282053, &quot;y&quot;: 0.6923076923076923, &quot;z&quot;: 0.1001967126199435}, {&quot;x&quot;: 2.0, &quot;y&quot;: 0.7692307692307692, &quot;z&quot;: 0.0}, {&quot;x&quot;: 2.2051282051282053, &quot;y&quot;: 0.7692307692307692, &quot;z&quot;: 0.11065494848068386}, {&quot;x&quot;: 2.0, &quot;y&quot;: 0.846153846153846, &quot;z&quot;: 0.0}, {&quot;x&quot;: 2.2051282051282053, &quot;y&quot;: 0.846153846153846, &quot;z&quot;: 0.1222140512741337}, {&quot;x&quot;: 2.0, &quot;y&quot;: 0.9230769230769229, &quot;z&quot;: 0.0}, {&quot;x&quot;: 2.2051282051282053, &quot;y&quot;: 0.9230769230769229, &quot;z&quot;: 0.13487402100029305}, {&quot;x&quot;: 2.0, &quot;y&quot;: 0.9999999999999998, &quot;z&quot;: 0.0}, {&quot;x&quot;: 2.2051282051282053, &quot;y&quot;: 0.9999999999999998, &quot;z&quot;: 0.1486348576591618}, {&quot;x&quot;: 2.0, &quot;y&quot;: 1.0769230769230766, &quot;z&quot;: 0.0}, {&quot;x&quot;: 2.2051282051282053, &quot;y&quot;: 1.0769230769230766, &quot;z&quot;: 0.16349656125074014}, {&quot;x&quot;: 2.0, &quot;y&quot;: 1.1538461538461535, &quot;z&quot;: 0.0}, {&quot;x&quot;: 2.2051282051282053, &quot;y&quot;: 1.1538461538461535, &quot;z&quot;: 0.1794591317750282}, {&quot;x&quot;: 2.0, &quot;y&quot;: 1.2307692307692304, &quot;z&quot;: 0.0}, {&quot;x&quot;: 2.2051282051282053, &quot;y&quot;: 1.2307692307692304, &quot;z&quot;: 0.19652256923202555}, {&quot;x&quot;: 2.0, &quot;y&quot;: 1.3076923076923073, &quot;z&quot;: 0.0}, {&quot;x&quot;: 2.2051282051282053, &quot;y&quot;: 1.3076923076923073, &quot;z&quot;: 0.2146868736217324}, {&quot;x&quot;: 2.0, &quot;y&quot;: 1.3846153846153841, &quot;z&quot;: 0.0}, {&quot;x&quot;: 2.2051282051282053, &quot;y&quot;: 1.3846153846153841, &quot;z&quot;: 0.23395204494414873}, {&quot;x&quot;: 2.0, &quot;y&quot;: 1.461538461538461, &quot;z&quot;: 0.0}, {&quot;x&quot;: 2.2051282051282053, &quot;y&quot;: 1.461538461538461, &quot;z&quot;: 0.25431808319927457}, {&quot;x&quot;: 2.0, &quot;y&quot;: 1.5384615384615379, &quot;z&quot;: 0.0}, {&quot;x&quot;: 2.2051282051282053, &quot;y&quot;: 1.5384615384615379, &quot;z&quot;: 0.2757849883871099}, {&quot;x&quot;: 2.0, &quot;y&quot;: 1.6153846153846148, &quot;z&quot;: 0.0}, {&quot;x&quot;: 2.2051282051282053, &quot;y&quot;: 1.6153846153846148, &quot;z&quot;: 0.2983527605076552}, {&quot;x&quot;: 2.0, &quot;y&quot;: 1.6923076923076916, &quot;z&quot;: 0.0}, {&quot;x&quot;: 2.2051282051282053, &quot;y&quot;: 1.6923076923076916, &quot;z&quot;: 0.3220213995609093}, {&quot;x&quot;: 2.0, &quot;y&quot;: 1.7692307692307685, &quot;z&quot;: 0.0}, {&quot;x&quot;: 2.2051282051282053, &quot;y&quot;: 1.7692307692307685, &quot;z&quot;: 0.3467909055468736}, {&quot;x&quot;: 2.0, &quot;y&quot;: 1.8461538461538454, &quot;z&quot;: 0.0}, {&quot;x&quot;: 2.2051282051282053, &quot;y&quot;: 1.8461538461538454, &quot;z&quot;: 0.3726612784655467}, {&quot;x&quot;: 2.0, &quot;y&quot;: 1.9230769230769222, &quot;z&quot;: 0.0}, {&quot;x&quot;: 2.2051282051282053, &quot;y&quot;: 1.9230769230769222, &quot;z&quot;: 0.39963251831693}, {&quot;x&quot;: 2.0, &quot;y&quot;: 1.9999999999999991, &quot;z&quot;: 0.0}, {&quot;x&quot;: 2.2051282051282053, &quot;y&quot;: 1.9999999999999991, &quot;z&quot;: 0.4277046251010221}, {&quot;x&quot;: 2.0, &quot;y&quot;: 2.076923076923076, &quot;z&quot;: 0.0}, {&quot;x&quot;: 2.2051282051282053, &quot;y&quot;: 2.076923076923076, &quot;z&quot;: 0.45687759881782436}, {&quot;x&quot;: 2.0, &quot;y&quot;: 2.1538461538461533, &quot;z&quot;: 0.0}, {&quot;x&quot;: 2.2051282051282053, &quot;y&quot;: 2.1538461538461533, &quot;z&quot;: 0.48715143946733547}, {&quot;x&quot;: 2.0, &quot;y&quot;: 2.2307692307692304, &quot;z&quot;: 0.0}, {&quot;x&quot;: 2.2051282051282053, &quot;y&quot;: 2.2307692307692304, &quot;z&quot;: 0.5185261470495572}, {&quot;x&quot;: 2.0, &quot;y&quot;: 2.3076923076923075, &quot;z&quot;: 0.0}, {&quot;x&quot;: 2.2051282051282053, &quot;y&quot;: 2.3076923076923075, &quot;z&quot;: 0.5510017215644878}, {&quot;x&quot;: 2.0, &quot;y&quot;: 2.3846153846153846, &quot;z&quot;: 0.0}, {&quot;x&quot;: 2.2051282051282053, &quot;y&quot;: 2.3846153846153846, &quot;z&quot;: 0.5845781630121281}, {&quot;x&quot;: 2.0, &quot;y&quot;: 2.4615384615384617, &quot;z&quot;: 0.0}, {&quot;x&quot;: 2.2051282051282053, &quot;y&quot;: 2.4615384615384617, &quot;z&quot;: 0.6192554713924772}, {&quot;x&quot;: 2.0, &quot;y&quot;: 2.5384615384615388, &quot;z&quot;: 0.0}, {&quot;x&quot;: 2.2051282051282053, &quot;y&quot;: 2.5384615384615388, &quot;z&quot;: 0.6550336467055369}, {&quot;x&quot;: 2.0, &quot;y&quot;: 2.615384615384616, &quot;z&quot;: 0.0}, {&quot;x&quot;: 2.2051282051282053, &quot;y&quot;: 2.615384615384616, &quot;z&quot;: 0.6919126889513054}, {&quot;x&quot;: 2.0, &quot;y&quot;: 2.692307692307693, &quot;z&quot;: 0.0}, {&quot;x&quot;: 2.2051282051282053, &quot;y&quot;: 2.692307692307693, &quot;z&quot;: 0.7298925981297837}, {&quot;x&quot;: 2.0, &quot;y&quot;: 2.76923076923077, &quot;z&quot;: 0.0}, {&quot;x&quot;: 2.2051282051282053, &quot;y&quot;: 2.76923076923077, &quot;z&quot;: 0.7689733742409708}, {&quot;x&quot;: 2.0, &quot;y&quot;: 2.846153846153847, &quot;z&quot;: 0.0}, {&quot;x&quot;: 2.2051282051282053, &quot;y&quot;: 2.846153846153847, &quot;z&quot;: 0.8091550172848685}, {&quot;x&quot;: 2.0, &quot;y&quot;: 2.9230769230769242, &quot;z&quot;: 0.0}, {&quot;x&quot;: 2.2051282051282053, &quot;y&quot;: 2.9230769230769242, &quot;z&quot;: 0.850437527261475}, {&quot;x&quot;: 2.0, &quot;y&quot;: 3.0, &quot;z&quot;: 0.0}, {&quot;x&quot;: 2.2051282051282053, &quot;y&quot;: 3.0, &quot;z&quot;: 0.8928209041707895}, {&quot;x&quot;: 2.4102564102564106, &quot;y&quot;: 0.07692307692307693, &quot;z&quot;: 0.08391956323063991}, {&quot;x&quot;: 2.4102564102564106, &quot;y&quot;: 0.0, &quot;z&quot;: 0.08291238710071418}, {&quot;x&quot;: 2.4102564102564106, &quot;y&quot;: 0.15384615384615385, &quot;z&quot;: 0.08694109162041706}, {&quot;x&quot;: 2.4102564102564106, &quot;y&quot;: 0.23076923076923078, &quot;z&quot;: 0.09197697227004568}, {&quot;x&quot;: 2.4102564102564106, &quot;y&quot;: 0.3076923076923077, &quot;z&quot;: 0.09902720517952572}, {&quot;x&quot;: 2.4102564102564106, &quot;y&quot;: 0.38461538461538464, &quot;z&quot;: 0.10809179034885723}, {&quot;x&quot;: 2.4102564102564106, &quot;y&quot;: 0.46153846153846156, &quot;z&quot;: 0.11917072777804015}, {&quot;x&quot;: 2.4102564102564106, &quot;y&quot;: 0.5384615384615385, &quot;z&quot;: 0.13226401746707456}, {&quot;x&quot;: 2.4102564102564106, &quot;y&quot;: 0.6153846153846154, &quot;z&quot;: 0.14737165941596037}, {&quot;x&quot;: 2.4102564102564106, &quot;y&quot;: 0.6923076923076923, &quot;z&quot;: 0.16449365362469764}, {&quot;x&quot;: 2.4102564102564106, &quot;y&quot;: 0.7692307692307692, &quot;z&quot;: 0.18363000009328628}, {&quot;x&quot;: 2.4102564102564106, &quot;y&quot;: 0.846153846153846, &quot;z&quot;: 0.2047806988217264}, {&quot;x&quot;: 2.4102564102564106, &quot;y&quot;: 0.9230769230769229, &quot;z&quot;: 0.22794574981001797}, {&quot;x&quot;: 2.4102564102564106, &quot;y&quot;: 0.9999999999999998, &quot;z&quot;: 0.253125153058161}, {&quot;x&quot;: 2.4102564102564106, &quot;y&quot;: 1.0769230769230766, &quot;z&quot;: 0.28031890856615543}, {&quot;x&quot;: 2.4102564102564106, &quot;y&quot;: 1.1538461538461535, &quot;z&quot;: 0.3095270163340013}, {&quot;x&quot;: 2.4102564102564106, &quot;y&quot;: 1.2307692307692304, &quot;z&quot;: 0.34074947636169867}, {&quot;x&quot;: 2.4102564102564106, &quot;y&quot;: 1.3076923076923073, &quot;z&quot;: 0.3739862886492475}, {&quot;x&quot;: 2.4102564102564106, &quot;y&quot;: 1.3846153846153841, &quot;z&quot;: 0.4092374531966478}, {&quot;x&quot;: 2.4102564102564106, &quot;y&quot;: 1.461538461538461, &quot;z&quot;: 0.4465029700038993}, {&quot;x&quot;: 2.4102564102564106, &quot;y&quot;: 1.5384615384615379, &quot;z&quot;: 0.48578283907100256}, {&quot;x&quot;: 2.4102564102564106, &quot;y&quot;: 1.6153846153846148, &quot;z&quot;: 0.5270770603979569}, {&quot;x&quot;: 2.4102564102564106, &quot;y&quot;: 1.6923076923076916, &quot;z&quot;: 0.570385633984763}, {&quot;x&quot;: 2.4102564102564106, &quot;y&quot;: 1.7692307692307685, &quot;z&quot;: 0.6157085598314203}, {&quot;x&quot;: 2.4102564102564106, &quot;y&quot;: 1.8461538461538454, &quot;z&quot;: 0.6630458379379294}, {&quot;x&quot;: 2.4102564102564106, &quot;y&quot;: 1.9230769230769222, &quot;z&quot;: 0.7123974683042895}, {&quot;x&quot;: 2.4102564102564106, &quot;y&quot;: 1.9999999999999991, &quot;z&quot;: 0.7637634509305011}, {&quot;x&quot;: 2.4102564102564106, &quot;y&quot;: 2.076923076923076, &quot;z&quot;: 0.8171437858165647}, {&quot;x&quot;: 2.4102564102564106, &quot;y&quot;: 2.1538461538461533, &quot;z&quot;: 0.8725384729624797}, {&quot;x&quot;: 2.4102564102564106, &quot;y&quot;: 2.2307692307692304, &quot;z&quot;: 0.9299475123682458}, {&quot;x&quot;: 2.4102564102564106, &quot;y&quot;: 2.3076923076923075, &quot;z&quot;: 0.9893709040338637}, {&quot;x&quot;: 2.4102564102564106, &quot;y&quot;: 2.3846153846153846, &quot;z&quot;: 1.0508086479593322}, {&quot;x&quot;: 2.4102564102564106, &quot;y&quot;: 2.4615384615384617, &quot;z&quot;: 1.114260744144653}, {&quot;x&quot;: 2.4102564102564106, &quot;y&quot;: 2.5384615384615388, &quot;z&quot;: 1.1797271925898254}, {&quot;x&quot;: 2.4102564102564106, &quot;y&quot;: 2.615384615384616, &quot;z&quot;: 1.2472079932948483}, {&quot;x&quot;: 2.4102564102564106, &quot;y&quot;: 2.692307692307693, &quot;z&quot;: 1.3167031462597236}, {&quot;x&quot;: 2.4102564102564106, &quot;y&quot;: 2.76923076923077, &quot;z&quot;: 1.3882126514844504}, {&quot;x&quot;: 2.4102564102564106, &quot;y&quot;: 2.846153846153847, &quot;z&quot;: 1.4617365089690277}, {&quot;x&quot;: 2.4102564102564106, &quot;y&quot;: 2.9230769230769242, &quot;z&quot;: 1.5372747187134574}, {&quot;x&quot;: 2.4102564102564106, &quot;y&quot;: 3.0, &quot;z&quot;: 1.6148272807177368}, {&quot;x&quot;: 2.615384615384616, &quot;y&quot;: 0.07692307692307693, &quot;z&quot;: 0.09649410356280028}, {&quot;x&quot;: 2.615384615384616, &quot;y&quot;: 0.0, &quot;z&quot;: 0.09510183067731473}, {&quot;x&quot;: 2.615384615384616, &quot;y&quot;: 0.15384615384615385, &quot;z&quot;: 0.10067092221925697}, {&quot;x&quot;: 2.615384615384616, &quot;y&quot;: 0.23076923076923078, &quot;z&quot;: 0.10763228664668475}, {&quot;x&quot;: 2.615384615384616, &quot;y&quot;: 0.3076923076923077, &quot;z&quot;: 0.11737819684508363}, {&quot;x&quot;: 2.615384615384616, &quot;y&quot;: 0.38461538461538464, &quot;z&quot;: 0.12990865281445366}, {&quot;x&quot;: 2.615384615384616, &quot;y&quot;: 0.46153846153846156, &quot;z&quot;: 0.14522365455479472}, {&quot;x&quot;: 2.615384615384616, &quot;y&quot;: 0.5384615384615385, &quot;z&quot;: 0.16332320206610698}, {&quot;x&quot;: 2.615384615384616, &quot;y&quot;: 0.6153846153846154, &quot;z&quot;: 0.18420729534839034}, {&quot;x&quot;: 2.615384615384616, &quot;y&quot;: 0.6923076923076923, &quot;z&quot;: 0.20787593440164473}, {&quot;x&quot;: 2.615384615384616, &quot;y&quot;: 0.7692307692307692, &quot;z&quot;: 0.23432911922587032}, {&quot;x&quot;: 2.615384615384616, &quot;y&quot;: 0.846153846153846, &quot;z&quot;: 0.26356684982106693}, {&quot;x&quot;: 2.615384615384616, &quot;y&quot;: 0.9230769230769229, &quot;z&quot;: 0.29558912618723465}, {&quot;x&quot;: 2.615384615384616, &quot;y&quot;: 0.9999999999999998, &quot;z&quot;: 0.3303959483243736}, {&quot;x&quot;: 2.615384615384616, &quot;y&quot;: 1.0769230769230766, &quot;z&quot;: 0.3679873162324836}, {&quot;x&quot;: 2.615384615384616, &quot;y&quot;: 1.1538461538461535, &quot;z&quot;: 0.4083632299115646}, {&quot;x&quot;: 2.615384615384616, &quot;y&quot;: 1.2307692307692304, &quot;z&quot;: 0.4515236893616169}, {&quot;x&quot;: 2.615384615384616, &quot;y&quot;: 1.3076923076923073, &quot;z&quot;: 0.4974686945826402}, {&quot;x&quot;: 2.615384615384616, &quot;y&quot;: 1.3846153846153841, &quot;z&quot;: 0.5461982455746345}, {&quot;x&quot;: 2.615384615384616, &quot;y&quot;: 1.461538461538461, &quot;z&quot;: 0.5977123423376}, {&quot;x&quot;: 2.615384615384616, &quot;y&quot;: 1.5384615384615379, &quot;z&quot;: 0.6520109848715366}, {&quot;x&quot;: 2.615384615384616, &quot;y&quot;: 1.6153846153846148, &quot;z&quot;: 0.7090941731764445}, {&quot;x&quot;: 2.615384615384616, &quot;y&quot;: 1.6923076923076916, &quot;z&quot;: 0.7689619072523232}, {&quot;x&quot;: 2.615384615384616, &quot;y&quot;: 1.7692307692307685, &quot;z&quot;: 0.8316141870991732}, {&quot;x&quot;: 2.615384615384616, &quot;y&quot;: 1.8461538461538454, &quot;z&quot;: 0.8970510127169941}, {&quot;x&quot;: 2.615384615384616, &quot;y&quot;: 1.9230769230769222, &quot;z&quot;: 0.9652723841057865}, {&quot;x&quot;: 2.615384615384616, &quot;y&quot;: 1.9999999999999991, &quot;z&quot;: 1.0362783012655497}, {&quot;x&quot;: 2.615384615384616, &quot;y&quot;: 2.076923076923076, &quot;z&quot;: 1.110068764196284}, {&quot;x&quot;: 2.615384615384616, &quot;y&quot;: 2.1538461538461533, &quot;z&quot;: 1.1866437728979902}, {&quot;x&quot;: 2.615384615384616, &quot;y&quot;: 2.2307692307692304, &quot;z&quot;: 1.2660033273706666}, {&quot;x&quot;: 2.615384615384616, &quot;y&quot;: 2.3076923076923075, &quot;z&quot;: 1.348147427614315}, {&quot;x&quot;: 2.615384615384616, &quot;y&quot;: 2.3846153846153846, &quot;z&quot;: 1.4330760736289343}, {&quot;x&quot;: 2.615384615384616, &quot;y&quot;: 2.4615384615384617, &quot;z&quot;: 1.5207892654145243}, {&quot;x&quot;: 2.615384615384616, &quot;y&quot;: 2.5384615384615388, &quot;z&quot;: 1.611287002971085}, {&quot;x&quot;: 2.615384615384616, &quot;y&quot;: 2.615384615384616, &quot;z&quot;: 1.7045692862986175}, {&quot;x&quot;: 2.615384615384616, &quot;y&quot;: 2.692307692307693, &quot;z&quot;: 1.8006361153971215}, {&quot;x&quot;: 2.615384615384616, &quot;y&quot;: 2.76923076923077, &quot;z&quot;: 1.8994874902665964}, {&quot;x&quot;: 2.615384615384616, &quot;y&quot;: 2.846153846153847, &quot;z&quot;: 2.0011234109070424}, {&quot;x&quot;: 2.615384615384616, &quot;y&quot;: 2.9230769230769242, &quot;z&quot;: 2.1055438773184596}, {&quot;x&quot;: 2.615384615384616, &quot;y&quot;: 3.0, &quot;z&quot;: 2.212748889500846}, {&quot;x&quot;: 2.820512820512821, &quot;y&quot;: 0.07692307692307693, &quot;z&quot;: 0.100787375648105}, {&quot;x&quot;: 2.820512820512821, &quot;y&quot;: 0.0, &quot;z&quot;: 0.09906602008059559}, {&quot;x&quot;: 2.820512820512821, &quot;y&quot;: 0.15384615384615385, &quot;z&quot;: 0.10595144235063322}, {&quot;x&quot;: 2.820512820512821, &quot;y&quot;: 0.23076923076923078, &quot;z&quot;: 0.11455822018818032}, {&quot;x&quot;: 2.820512820512821, &quot;y&quot;: 0.3076923076923077, &quot;z&quot;: 0.12660770916074623}, {&quot;x&quot;: 2.820512820512821, &quot;y&quot;: 0.38461538461538464, &quot;z&quot;: 0.14209990926833097}, {&quot;x&quot;: 2.820512820512821, &quot;y&quot;: 0.46153846153846156, &quot;z&quot;: 0.16103482051093457}, {&quot;x&quot;: 2.820512820512821, &quot;y&quot;: 0.5384615384615385, &quot;z&quot;: 0.18341244288855693}, {&quot;x&quot;: 2.820512820512821, &quot;y&quot;: 0.6153846153846154, &quot;z&quot;: 0.2092327764011981}, {&quot;x&quot;: 2.820512820512821, &quot;y&quot;: 0.6923076923076923, &quot;z&quot;: 0.23849582104885816}, {&quot;x&quot;: 2.820512820512821, &quot;y&quot;: 0.7692307692307692, &quot;z&quot;: 0.271201576831537}, {&quot;x&quot;: 2.820512820512821, &quot;y&quot;: 0.846153846153846, &quot;z&quot;: 0.3073500437492347}, {&quot;x&quot;: 2.820512820512821, &quot;y&quot;: 0.9230769230769229, &quot;z&quot;: 0.3469412218019512}, {&quot;x&quot;: 2.820512820512821, &quot;y&quot;: 0.9999999999999998, &quot;z&quot;: 0.3899751109896864}, {&quot;x&quot;: 2.820512820512821, &quot;y&quot;: 1.0769230769230766, &quot;z&quot;: 0.43645171131244076}, {&quot;x&quot;: 2.820512820512821, &quot;y&quot;: 1.1538461538461535, &quot;z&quot;: 0.4863710227702137}, {&quot;x&quot;: 2.820512820512821, &quot;y&quot;: 1.2307692307692304, &quot;z&quot;: 0.5397330453630055}, {&quot;x&quot;: 2.820512820512821, &quot;y&quot;: 1.3076923076923073, &quot;z&quot;: 0.5965377790908161}, {&quot;x&quot;: 2.820512820512821, &quot;y&quot;: 1.3846153846153841, &quot;z&quot;: 0.6567852239536455}, {&quot;x&quot;: 2.820512820512821, &quot;y&quot;: 1.461538461538461, &quot;z&quot;: 0.7204753799514937}, {&quot;x&quot;: 2.820512820512821, &quot;y&quot;: 1.5384615384615379, &quot;z&quot;: 0.787608247084361}, {&quot;x&quot;: 2.820512820512821, &quot;y&quot;: 1.6153846153846148, &quot;z&quot;: 0.8581838253522468}, {&quot;x&quot;: 2.820512820512821, &quot;y&quot;: 1.6923076923076916, &quot;z&quot;: 0.9322021147551515}, {&quot;x&quot;: 2.820512820512821, &quot;y&quot;: 1.7692307692307685, &quot;z&quot;: 1.0096631152930753}, {&quot;x&quot;: 2.820512820512821, &quot;y&quot;: 1.8461538461538454, &quot;z&quot;: 1.0905668269660174}, {&quot;x&quot;: 2.820512820512821, &quot;y&quot;: 1.9230769230769222, &quot;z&quot;: 1.174913249773979}, {&quot;x&quot;: 2.820512820512821, &quot;y&quot;: 1.9999999999999991, &quot;z&quot;: 1.2627023837169586}, {&quot;x&quot;: 2.820512820512821, &quot;y&quot;: 2.076923076923076, &quot;z&quot;: 1.3539342287949578}, {&quot;x&quot;: 2.820512820512821, &quot;y&quot;: 2.1538461538461533, &quot;z&quot;: 1.448608785007976}, {&quot;x&quot;: 2.820512820512821, &quot;y&quot;: 2.2307692307692304, &quot;z&quot;: 1.5467260523560125}, {&quot;x&quot;: 2.820512820512821, &quot;y&quot;: 2.3076923076923075, &quot;z&quot;: 1.6482860308390683}, {&quot;x&quot;: 2.820512820512821, &quot;y&quot;: 2.3846153846153846, &quot;z&quot;: 1.7532887204571432}, {&quot;x&quot;: 2.820512820512821, &quot;y&quot;: 2.4615384615384617, &quot;z&quot;: 1.8617341212102356}, {&quot;x&quot;: 2.820512820512821, &quot;y&quot;: 2.5384615384615388, &quot;z&quot;: 1.9736222330983484}, {&quot;x&quot;: 2.820512820512821, &quot;y&quot;: 2.615384615384616, &quot;z&quot;: 2.088953056121479}, {&quot;x&quot;: 2.820512820512821, &quot;y&quot;: 2.692307692307693, &quot;z&quot;: 2.2077265902796297}, {&quot;x&quot;: 2.820512820512821, &quot;y&quot;: 2.76923076923077, &quot;z&quot;: 2.3299428355727985}, {&quot;x&quot;: 2.820512820512821, &quot;y&quot;: 2.846153846153847, &quot;z&quot;: 2.4556017920009863}, {&quot;x&quot;: 2.820512820512821, &quot;y&quot;: 2.9230769230769242, &quot;z&quot;: 2.5847034595641922}, {&quot;x&quot;: 2.820512820512821, &quot;y&quot;: 3.0, &quot;z&quot;: 2.7172478382624154}, {&quot;x&quot;: 3.0256410256410264, &quot;y&quot;: 0.07692307692307693, &quot;z&quot;: 0.10054088568464632}, {&quot;x&quot;: 3.0256410256410264, &quot;y&quot;: 0.0, &quot;z&quot;: 0.09853506881572645}, {&quot;x&quot;: 3.0256410256410264, &quot;y&quot;: 0.15384615384615385, &quot;z&quot;: 0.10655833629140592}, {&quot;x&quot;: 3.0256410256410264, &quot;y&quot;: 0.23076923076923078, &quot;z&quot;: 0.11658742063600526}, {&quot;x&quot;: 3.0256410256410264, &quot;y&quot;: 0.3076923076923077, &quot;z&quot;: 0.13062813871844436}, {&quot;x&quot;: 3.0256410256410264, &quot;y&quot;: 0.38461538461538464, &quot;z&quot;: 0.14868049053872318}, {&quot;x&quot;: 3.0256410256410264, &quot;y&quot;: 0.46153846153846156, &quot;z&quot;: 0.17074447609684174}, {&quot;x&quot;: 3.0256410256410264, &quot;y&quot;: 0.5384615384615385, &quot;z&quot;: 0.19682009539280004}, {&quot;x&quot;: 3.0256410256410264, &quot;y&quot;: 0.6153846153846154, &quot;z&quot;: 0.22690734842659804}, {&quot;x&quot;: 3.0256410256410264, &quot;y&quot;: 0.6923076923076923, &quot;z&quot;: 0.2610062351982358}, {&quot;x&quot;: 3.0256410256410264, &quot;y&quot;: 0.7692307692307692, &quot;z&quot;: 0.2991167557077133}, {&quot;x&quot;: 3.0256410256410264, &quot;y&quot;: 0.846153846153846, &quot;z&quot;: 0.34123890995503053}, {&quot;x&quot;: 3.0256410256410264, &quot;y&quot;: 0.9230769230769229, &quot;z&quot;: 0.3873726979401874}, {&quot;x&quot;: 3.0256410256410264, &quot;y&quot;: 0.9999999999999998, &quot;z&quot;: 0.43751811966318405}, {&quot;x&quot;: 3.0256410256410264, &quot;y&quot;: 1.0769230769230766, &quot;z&quot;: 0.49167517512402054}, {&quot;x&quot;: 3.0256410256410264, &quot;y&quot;: 1.1538461538461535, &quot;z&quot;: 0.5498438643226966}, {&quot;x&quot;: 3.0256410256410264, &quot;y&quot;: 1.2307692307692304, &quot;z&quot;: 0.6120241872592124}, {&quot;x&quot;: 3.0256410256410264, &quot;y&quot;: 1.3076923076923073, &quot;z&quot;: 0.678216143933568}, {&quot;x&quot;: 3.0256410256410264, &quot;y&quot;: 1.3846153846153841, &quot;z&quot;: 0.7484197343457634}, {&quot;x&quot;: 3.0256410256410264, &quot;y&quot;: 1.461538461538461, &quot;z&quot;: 0.8226349584957983}, {&quot;x&quot;: 3.0256410256410264, &quot;y&quot;: 1.5384615384615379, &quot;z&quot;: 0.9008618163836735}, {&quot;x&quot;: 3.0256410256410264, &quot;y&quot;: 1.6153846153846148, &quot;z&quot;: 0.983100308009388}, {&quot;x&quot;: 3.0256410256410264, &quot;y&quot;: 1.6923076923076916, &quot;z&quot;: 1.0693504333729424}, {&quot;x&quot;: 3.0256410256410264, &quot;y&quot;: 1.7692307692307685, &quot;z&quot;: 1.1596121924743361}, {&quot;x&quot;: 3.0256410256410264, &quot;y&quot;: 1.8461538461538454, &quot;z&quot;: 1.25388558531357}, {&quot;x&quot;: 3.0256410256410264, &quot;y&quot;: 1.9230769230769222, &quot;z&quot;: 1.3521706118906431}, {&quot;x&quot;: 3.0256410256410264, &quot;y&quot;: 1.9999999999999991, &quot;z&quot;: 1.4544672722055565}, {&quot;x&quot;: 3.0256410256410264, &quot;y&quot;: 2.076923076923076, &quot;z&quot;: 1.56077556625831}, {&quot;x&quot;: 3.0256410256410264, &quot;y&quot;: 2.1538461538461533, &quot;z&quot;: 1.671095494048903}, {&quot;x&quot;: 3.0256410256410264, &quot;y&quot;: 2.2307692307692304, &quot;z&quot;: 1.7854270555773355}, {&quot;x&quot;: 3.0256410256410264, &quot;y&quot;: 2.3076923076923075, &quot;z&quot;: 1.9037702508436078}, {&quot;x&quot;: 3.0256410256410264, &quot;y&quot;: 2.3846153846153846, &quot;z&quot;: 2.0261250798477204}, {&quot;x&quot;: 3.0256410256410264, &quot;y&quot;: 2.4615384615384617, &quot;z&quot;: 2.1524915425896722}, {&quot;x&quot;: 3.0256410256410264, &quot;y&quot;: 2.5384615384615388, &quot;z&quot;: 2.282869639069464}, {&quot;x&quot;: 3.0256410256410264, &quot;y&quot;: 2.615384615384616, &quot;z&quot;: 2.4172593692870956}, {&quot;x&quot;: 3.0256410256410264, &quot;y&quot;: 2.692307692307693, &quot;z&quot;: 2.5556607332425667}, {&quot;x&quot;: 3.0256410256410264, &quot;y&quot;: 2.76923076923077, &quot;z&quot;: 2.698073730935878}, {&quot;x&quot;: 3.0256410256410264, &quot;y&quot;: 2.846153846153847, &quot;z&quot;: 2.8444983623670286}, {&quot;x&quot;: 3.0256410256410264, &quot;y&quot;: 2.9230769230769242, &quot;z&quot;: 2.9949346275360194}, {&quot;x&quot;: 3.0256410256410264, &quot;y&quot;: 3.0, &quot;z&quot;: 3.1493825264428468}, {&quot;x&quot;: 3.2307692307692317, &quot;y&quot;: 0.07692307692307693, &quot;z&quot;: 0.09784189989019171}, {&quot;x&quot;: 3.2307692307692317, &quot;y&quot;: 0.0, &quot;z&quot;: 0.09558774378988177}, {&quot;x&quot;: 3.2307692307692317, &quot;y&quot;: 0.15384615384615385, &quot;z&quot;: 0.10460436819112157}, {&quot;x&quot;: 3.2307692307692317, &quot;y&quot;: 0.23076923076923078, &quot;z&quot;: 0.11587514869267129}, {&quot;x&quot;: 3.2307692307692317, &quot;y&quot;: 0.3076923076923077, &quot;z&quot;: 0.13165424139484094}, {&quot;x&quot;: 3.2307692307692317, &quot;y&quot;: 0.38461538461538464, &quot;z&quot;: 0.15194164629763046}, {&quot;x&quot;: 3.2307692307692317, &quot;y&quot;: 0.46153846153846156, &quot;z&quot;: 0.1767373634010399}, {&quot;x&quot;: 3.2307692307692317, &quot;y&quot;: 0.5384615384615385, &quot;z&quot;: 0.20604139270506922}, {&quot;x&quot;: 3.2307692307692317, &quot;y&quot;: 0.6153846153846154, &quot;z&quot;: 0.2398537342097184}, {&quot;x&quot;: 3.2307692307692317, &quot;y&quot;: 0.6923076923076923, &quot;z&quot;: 0.2781743879149875}, {&quot;x&quot;: 3.2307692307692317, &quot;y&quot;: 0.7692307692307692, &quot;z&quot;: 0.32100335382087647}, {&quot;x&quot;: 3.2307692307692317, &quot;y&quot;: 0.846153846153846, &quot;z&quot;: 0.36834063192738536}, {&quot;x&quot;: 3.2307692307692317, &quot;y&quot;: 0.9230769230769229, &quot;z&quot;: 0.42018622223451413}, {&quot;x&quot;: 3.2307692307692317, &quot;y&quot;: 0.9999999999999998, &quot;z&quot;: 0.47654012474226276}, {&quot;x&quot;: 3.2307692307692317, &quot;y&quot;: 1.0769230769230766, &quot;z&quot;: 0.5374023394506314}, {&quot;x&quot;: 3.2307692307692317, &quot;y&quot;: 1.1538461538461535, &quot;z&quot;: 0.6027728663596198}, {&quot;x&quot;: 3.2307692307692317, &quot;y&quot;: 1.2307692307692304, &quot;z&quot;: 0.6726517054692281}, {&quot;x&quot;: 3.2307692307692317, &quot;y&quot;: 1.3076923076923073, &quot;z&quot;: 0.7470388567794563}, {&quot;x&quot;: 3.2307692307692317, &quot;y&quot;: 1.3846153846153841, &quot;z&quot;: 0.8259343202903043}, {&quot;x&quot;: 3.2307692307692317, &quot;y&quot;: 1.461538461538461, &quot;z&quot;: 0.9093380960017722}, {&quot;x&quot;: 3.2307692307692317, &quot;y&quot;: 1.5384615384615379, &quot;z&quot;: 0.9972501839138602}, {&quot;x&quot;: 3.2307692307692317, &quot;y&quot;: 1.6153846153846148, &quot;z&quot;: 1.089670584026568}, {&quot;x&quot;: 3.2307692307692317, &quot;y&quot;: 1.6923076923076916, &quot;z&quot;: 1.1865992963398955}, {&quot;x&quot;: 3.2307692307692317, &quot;y&quot;: 1.7692307692307685, &quot;z&quot;: 1.288036320853843}, {&quot;x&quot;: 3.2307692307692317, &quot;y&quot;: 1.8461538461538454, &quot;z&quot;: 1.3939816575684105}, {&quot;x&quot;: 3.2307692307692317, &quot;y&quot;: 1.9230769230769222, &quot;z&quot;: 1.504435306483598}, {&quot;x&quot;: 3.2307692307692317, &quot;y&quot;: 1.9999999999999991, &quot;z&quot;: 1.619397267599405}, {&quot;x&quot;: 3.2307692307692317, &quot;y&quot;: 2.076923076923076, &quot;z&quot;: 1.7388675409158325}, {&quot;x&quot;: 3.2307692307692317, &quot;y&quot;: 2.1538461538461533, &quot;z&quot;: 1.86284612643288}, {&quot;x&quot;: 3.2307692307692317, &quot;y&quot;: 2.2307692307692304, &quot;z&quot;: 1.9913330241505471}, {&quot;x&quot;: 3.2307692307692317, &quot;y&quot;: 2.3076923076923075, &quot;z&quot;: 2.1243282340688348}, {&quot;x&quot;: 3.2307692307692317, &quot;y&quot;: 2.3846153846153846, &quot;z&quot;: 2.2618317561877417}, {&quot;x&quot;: 3.2307692307692317, &quot;y&quot;: 2.4615384615384617, &quot;z&quot;: 2.4038435905072686}, {&quot;x&quot;: 3.2307692307692317, &quot;y&quot;: 2.5384615384615388, &quot;z&quot;: 2.5503637370274155}, {&quot;x&quot;: 3.2307692307692317, &quot;y&quot;: 2.615384615384616, &quot;z&quot;: 2.7013921957481823}, {&quot;x&quot;: 3.2307692307692317, &quot;y&quot;: 2.692307692307693, &quot;z&quot;: 2.856928966669569}, {&quot;x&quot;: 3.2307692307692317, &quot;y&quot;: 2.76923076923077, &quot;z&quot;: 3.0169740497915756}, {&quot;x&quot;: 3.2307692307692317, &quot;y&quot;: 2.846153846153847, &quot;z&quot;: 3.1815274451142024}, {&quot;x&quot;: 3.2307692307692317, &quot;y&quot;: 2.9230769230769242, &quot;z&quot;: 3.3505891526374496}, {&quot;x&quot;: 3.2307692307692317, &quot;y&quot;: 3.0, &quot;z&quot;: 3.524159172361313}, {&quot;x&quot;: 3.435897435897437, &quot;y&quot;: 0.07692307692307693, &quot;z&quot;: 0.09387872546708531}, {&quot;x&quot;: 3.435897435897437, &quot;y&quot;: 0.0, &quot;z&quot;: 0.09140588258092439}, {&quot;x&quot;: 3.435897435897437, &quot;y&quot;: 0.15384615384615385, &quot;z&quot;: 0.10129725412556803}, {&quot;x&quot;: 3.435897435897437, &quot;y&quot;: 0.23076923076923078, &quot;z&quot;: 0.11366146855637257}, {&quot;x&quot;: 3.435897435897437, &quot;y&quot;: 0.3076923076923077, &quot;z&quot;: 0.13097136875949897}, {&quot;x&quot;: 3.435897435897437, &quot;y&quot;: 0.38461538461538464, &quot;z&quot;: 0.15322695473494716}, {&quot;x&quot;: 3.435897435897437, &quot;y&quot;: 0.46153846153846156, &quot;z&quot;: 0.18042822648271725}, {&quot;x&quot;: 3.435897435897437, &quot;y&quot;: 0.5384615384615385, &quot;z&quot;: 0.21257518400280914}, {&quot;x&quot;: 3.435897435897437, &quot;y&quot;: 0.6153846153846154, &quot;z&quot;: 0.24966782729522277}, {&quot;x&quot;: 3.435897435897437, &quot;y&quot;: 0.6923076923076923, &quot;z&quot;: 0.29170615635995834}, {&quot;x&quot;: 3.435897435897437, &quot;y&quot;: 0.7692307692307692, &quot;z&quot;: 0.3386901711970156}, {&quot;x&quot;: 3.435897435897437, &quot;y&quot;: 0.846153846153846, &quot;z&quot;: 0.3906198718063947}, {&quot;x&quot;: 3.435897435897437, &quot;y&quot;: 0.9230769230769229, &quot;z&quot;: 0.44749525818809566}, {&quot;x&quot;: 3.435897435897437, &quot;y&quot;: 0.9999999999999998, &quot;z&quot;: 0.5093163303421184}, {&quot;x&quot;: 3.435897435897437, &quot;y&quot;: 1.0769230769230766, &quot;z&quot;: 0.5760830882684631}, {&quot;x&quot;: 3.435897435897437, &quot;y&quot;: 1.1538461538461535, &quot;z&quot;: 0.6477955319671295}, {&quot;x&quot;: 3.435897435897437, &quot;y&quot;: 1.2307692307692304, &quot;z&quot;: 0.7244536614381176}, {&quot;x&quot;: 3.435897435897437, &quot;y&quot;: 1.3076923076923073, &quot;z&quot;: 0.8060574766814277}, {&quot;x&quot;: 3.435897435897437, &quot;y&quot;: 1.3846153846153841, &quot;z&quot;: 0.8926069776970594}, {&quot;x&quot;: 3.435897435897437, &quot;y&quot;: 1.461538461538461, &quot;z&quot;: 0.984102164485013}, {&quot;x&quot;: 3.435897435897437, &quot;y&quot;: 1.5384615384615379, &quot;z&quot;: 1.0805430370452886}, {&quot;x&quot;: 3.435897435897437, &quot;y&quot;: 1.6153846153846148, &quot;z&quot;: 1.1819295953778859}, {&quot;x&quot;: 3.435897435897437, &quot;y&quot;: 1.6923076923076916, &quot;z&quot;: 1.288261839482805}, {&quot;x&quot;: 3.435897435897437, &quot;y&quot;: 1.7692307692307685, &quot;z&quot;: 1.399539769360046}, {&quot;x&quot;: 3.435897435897437, &quot;y&quot;: 1.8461538461538454, &quot;z&quot;: 1.5157633850096086}, {&quot;x&quot;: 3.435897435897437, &quot;y&quot;: 1.9230769230769222, &quot;z&quot;: 1.6369326864314933}, {&quot;x&quot;: 3.435897435897437, &quot;y&quot;: 1.9999999999999991, &quot;z&quot;: 1.7630476736256995}, {&quot;x&quot;: 3.435897435897437, &quot;y&quot;: 2.076923076923076, &quot;z&quot;: 1.8941083465922284}, {&quot;x&quot;: 3.435897435897437, &quot;y&quot;: 2.1538461538461533, &quot;z&quot;: 2.030114705331079}, {&quot;x&quot;: 3.435897435897437, &quot;y&quot;: 2.2307692307692304, &quot;z&quot;: 2.171066749842251}, {&quot;x&quot;: 3.435897435897437, &quot;y&quot;: 2.3076923076923075, &quot;z&quot;: 2.316964480125745}, {&quot;x&quot;: 3.435897435897437, &quot;y&quot;: 2.3846153846153846, &quot;z&quot;: 2.467807896181561}, {&quot;x&quot;: 3.435897435897437, &quot;y&quot;: 2.4615384615384617, &quot;z&quot;: 2.623596998009699}, {&quot;x&quot;: 3.435897435897437, &quot;y&quot;: 2.5384615384615388, &quot;z&quot;: 2.7843317856101586}, {&quot;x&quot;: 3.435897435897437, &quot;y&quot;: 2.615384615384616, &quot;z&quot;: 2.95001225898294}, {&quot;x&quot;: 3.435897435897437, &quot;y&quot;: 2.692307692307693, &quot;z&quot;: 3.1206384181280433}, {&quot;x&quot;: 3.435897435897437, &quot;y&quot;: 2.76923076923077, &quot;z&quot;: 3.296210263045469}, {&quot;x&quot;: 3.435897435897437, &quot;y&quot;: 2.846153846153847, &quot;z&quot;: 3.476727793735216}, {&quot;x&quot;: 3.435897435897437, &quot;y&quot;: 2.9230769230769242, &quot;z&quot;: 3.662191010197285}, {&quot;x&quot;: 3.435897435897437, &quot;y&quot;: 3.0, &quot;z&quot;: 3.8525999124316725}, {&quot;x&quot;: 3.6410256410256423, &quot;y&quot;: 0.07692307692307693, &quot;z&quot;: 0.08933600772721469}, {&quot;x&quot;: 3.6410256410256423, &quot;y&quot;: 0.0, &quot;z&quot;: 0.08666911881980573}, {&quot;x&quot;: 3.6410256410256423, &quot;y&quot;: 0.15384615384615385, &quot;z&quot;: 0.09733667444944154}, {&quot;x&quot;: 3.6410256410256423, &quot;y&quot;: 0.23076923076923078, &quot;z&quot;: 0.11067111898648631}, {&quot;x&quot;: 3.6410256410256423, &quot;y&quot;: 0.3076923076923077, &quot;z&quot;: 0.12933934133834898}, {&quot;x&quot;: 3.6410256410256423, &quot;y&quot;: 0.38461538461538464, &quot;z&quot;: 0.15334134150502954}, {&quot;x&quot;: 3.6410256410256423, &quot;y&quot;: 0.46153846153846156, &quot;z&quot;: 0.182677119486528}, {&quot;x&quot;: 3.6410256410256423, &quot;y&quot;: 0.5384615384615385, &quot;z&quot;: 0.21734667528284443}, {&quot;x&quot;: 3.6410256410256423, &quot;y&quot;: 0.6153846153846154, &quot;z&quot;: 0.25735000889397863}, {&quot;x&quot;: 3.6410256410256423, &quot;y&quot;: 0.6923076923076923, &quot;z&quot;: 0.3026871203199308}, {&quot;x&quot;: 3.6410256410256423, &quot;y&quot;: 0.7692307692307692, &quot;z&quot;: 0.35335800956070085}, {&quot;x&quot;: 3.6410256410256423, &quot;y&quot;: 0.846153846153846, &quot;z&quot;: 0.4093626766162888}, {&quot;x&quot;: 3.6410256410256423, &quot;y&quot;: 0.9230769230769229, &quot;z&quot;: 0.47070112148669463}, {&quot;x&quot;: 3.6410256410256423, &quot;y&quot;: 0.9999999999999998, &quot;z&quot;: 0.5373733441719183}, {&quot;x&quot;: 3.6410256410256423, &quot;y&quot;: 1.0769230769230766, &quot;z&quot;: 0.6093793446719601}, {&quot;x&quot;: 3.6410256410256423, &quot;y&quot;: 1.1538461538461535, &quot;z&quot;: 0.6867191229868196}, {&quot;x&quot;: 3.6410256410256423, &quot;y&quot;: 1.2307692307692304, &quot;z&quot;: 0.769392679116497}, {&quot;x&quot;: 3.6410256410256423, &quot;y&quot;: 1.3076923076923073, &quot;z&quot;: 0.8574000130609923}, {&quot;x&quot;: 3.6410256410256423, &quot;y&quot;: 1.3846153846153841, &quot;z&quot;: 0.9507411248203056}, {&quot;x&quot;: 3.6410256410256423, &quot;y&quot;: 1.461538461538461, &quot;z&quot;: 1.0494160143944367}, {&quot;x&quot;: 3.6410256410256423, &quot;y&quot;: 1.5384615384615379, &quot;z&quot;: 1.153424681783386}, {&quot;x&quot;: 3.6410256410256423, &quot;y&quot;: 1.6153846153846148, &quot;z&quot;: 1.2627671269871528}, {&quot;x&quot;: 3.6410256410256423, &quot;y&quot;: 1.6923076923076916, &quot;z&quot;: 1.3774433500057375}, {&quot;x&quot;: 3.6410256410256423, &quot;y&quot;: 1.7692307692307685, &quot;z&quot;: 1.4974533508391403}, {&quot;x&quot;: 3.6410256410256423, &quot;y&quot;: 1.8461538461538454, &quot;z&quot;: 1.6227971294873609}, {&quot;x&quot;: 3.6410256410256423, &quot;y&quot;: 1.9230769230769222, &quot;z&quot;: 1.7534746859503996}, {&quot;x&quot;: 3.6410256410256423, &quot;y&quot;: 1.9999999999999991, &quot;z&quot;: 1.889486020228256}, {&quot;x&quot;: 3.6410256410256423, &quot;y&quot;: 2.076923076923076, &quot;z&quot;: 2.0308311323209303}, {&quot;x&quot;: 3.6410256410256423, &quot;y&quot;: 2.1538461538461533, &quot;z&quot;: 2.177510022228423}, {&quot;x&quot;: 3.6410256410256423, &quot;y&quot;: 2.2307692307692304, &quot;z&quot;: 2.3295226899507333}, {&quot;x&quot;: 3.6410256410256423, &quot;y&quot;: 2.3076923076923075, &quot;z&quot;: 2.486869135487862}, {&quot;x&quot;: 3.6410256410256423, &quot;y&quot;: 2.3846153846153846, &quot;z&quot;: 2.6495493588398085}, {&quot;x&quot;: 3.6410256410256423, &quot;y&quot;: 2.4615384615384617, &quot;z&quot;: 2.817563360006573}, {&quot;x&quot;: 3.6410256410256423, &quot;y&quot;: 2.5384615384615388, &quot;z&quot;: 2.990911138988155}, {&quot;x&quot;: 3.6410256410256423, &quot;y&quot;: 2.615384615384616, &quot;z&quot;: 3.169592695784555}, {&quot;x&quot;: 3.6410256410256423, &quot;y&quot;: 2.692307692307693, &quot;z&quot;: 3.3536080303957734}, {&quot;x&quot;: 3.6410256410256423, &quot;y&quot;: 2.76923076923077, &quot;z&quot;: 3.5429571428218094}, {&quot;x&quot;: 3.6410256410256423, &quot;y&quot;: 2.846153846153847, &quot;z&quot;: 3.737640033062663}, {&quot;x&quot;: 3.6410256410256423, &quot;y&quot;: 2.9230769230769242, &quot;z&quot;: 3.937656701118335}, {&quot;x&quot;: 3.6410256410256423, &quot;y&quot;: 3.0, &quot;z&quot;: 4.143007146988821}, {&quot;x&quot;: 3.8461538461538476, &quot;y&quot;: 0.07692307692307693, &quot;z&quot;: 0.0846091966863905}, {&quot;x&quot;: 3.8461538461538476, &quot;y&quot;: 0.0, &quot;z&quot;: 0.08176895999999997}, {&quot;x&quot;: 3.8461538461538476, &quot;y&quot;: 0.15384615384615385, &quot;z&quot;: 0.0931299067455621}, {&quot;x&quot;: 3.8461538461538476, &quot;y&quot;: 0.23076923076923078, &quot;z&quot;: 0.10733109017751477}, {&quot;x&quot;: 3.8461538461538476, &quot;y&quot;: 0.3076923076923077, &quot;z&quot;: 0.12721274698224852}, {&quot;x&quot;: 3.8461538461538476, &quot;y&quot;: 0.38461538461538464, &quot;z&quot;: 0.15277487715976332}, {&quot;x&quot;: 3.8461538461538476, &quot;y&quot;: 0.46153846153846156, &quot;z&quot;: 0.1840174807100592}, {&quot;x&quot;: 3.8461538461538476, &quot;y&quot;: 0.5384615384615385, &quot;z&quot;: 0.2209405576331362}, {&quot;x&quot;: 3.8461538461538476, &quot;y&quot;: 0.6153846153846154, &quot;z&quot;: 0.26354410792899413}, {&quot;x&quot;: 3.8461538461538476, &quot;y&quot;: 0.6923076923076923, &quot;z&quot;: 0.3118281315976332}, {&quot;x&quot;: 3.8461538461538476, &quot;y&quot;: 0.7692307692307692, &quot;z&quot;: 0.3657926286390533}, {&quot;x&quot;: 3.8461538461538476, &quot;y&quot;: 0.846153846153846, &quot;z&quot;: 0.42543759905325446}, {&quot;x&quot;: 3.8461538461538476, &quot;y&quot;: 0.9230769230769229, &quot;z&quot;: 0.4907630428402367}, {&quot;x&quot;: 3.8461538461538476, &quot;y&quot;: 0.9999999999999998, &quot;z&quot;: 0.5617689599999999}, {&quot;x&quot;: 3.8461538461538476, &quot;y&quot;: 1.0769230769230766, &quot;z&quot;: 0.6384553505325442}, {&quot;x&quot;: 3.8461538461538476, &quot;y&quot;: 1.1538461538461535, &quot;z&quot;: 0.7208222144378696}, {&quot;x&quot;: 3.8461538461538476, &quot;y&quot;: 1.2307692307692304, &quot;z&quot;: 0.8088695517159761}, {&quot;x&quot;: 3.8461538461538476, &quot;y&quot;: 1.3076923076923073, &quot;z&quot;: 0.9025973623668636}, {&quot;x&quot;: 3.8461538461538476, &quot;y&quot;: 1.3846153846153841, &quot;z&quot;: 1.0020056463905322}, {&quot;x&quot;: 3.8461538461538476, &quot;y&quot;: 1.461538461538461, &quot;z&quot;: 1.107094403786982}, {&quot;x&quot;: 3.8461538461538476, &quot;y&quot;: 1.5384615384615379, &quot;z&quot;: 1.2178636345562128}, {&quot;x&quot;: 3.8461538461538476, &quot;y&quot;: 1.6153846153846148, &quot;z&quot;: 1.3343133386982244}, {&quot;x&quot;: 3.8461538461538476, &quot;y&quot;: 1.6923076923076916, &quot;z&quot;: 1.4564435162130174}, {&quot;x&quot;: 3.8461538461538476, &quot;y&quot;: 1.7692307692307685, &quot;z&quot;: 1.5842541671005912}, {&quot;x&quot;: 3.8461538461538476, &quot;y&quot;: 1.8461538461538454, &quot;z&quot;: 1.717745291360946}, {&quot;x&quot;: 3.8461538461538476, &quot;y&quot;: 1.9230769230769222, &quot;z&quot;: 1.8569168889940824}, {&quot;x&quot;: 3.8461538461538476, &quot;y&quot;: 1.9999999999999991, &quot;z&quot;: 2.001768959999999}, {&quot;x&quot;: 3.8461538461538476, &quot;y&quot;: 2.076923076923076, &quot;z&quot;: 2.1523015043786975}, {&quot;x&quot;: 3.8461538461538476, &quot;y&quot;: 2.1538461538461533, &quot;z&quot;: 2.308514522130177}, {&quot;x&quot;: 3.8461538461538476, &quot;y&quot;: 2.2307692307692304, &quot;z&quot;: 2.4704080132544375}, {&quot;x&quot;: 3.8461538461538476, &quot;y&quot;: 2.3076923076923075, &quot;z&quot;: 2.6379819777514797}, {&quot;x&quot;: 3.8461538461538476, &quot;y&quot;: 2.3846153846153846, &quot;z&quot;: 2.8112364156213028}, {&quot;x&quot;: 3.8461538461538476, &quot;y&quot;: 2.4615384615384617, &quot;z&quot;: 2.9901713268639067}, {&quot;x&quot;: 3.8461538461538476, &quot;y&quot;: 2.5384615384615388, &quot;z&quot;: 3.1747867114792916}, {&quot;x&quot;: 3.8461538461538476, &quot;y&quot;: 2.615384615384616, &quot;z&quot;: 3.3650825694674578}, {&quot;x&quot;: 3.8461538461538476, &quot;y&quot;: 2.692307692307693, &quot;z&quot;: 3.5610589008284053}, {&quot;x&quot;: 3.8461538461538476, &quot;y&quot;: 2.76923076923077, &quot;z&quot;: 3.7627157055621336}, {&quot;x&quot;: 3.8461538461538476, &quot;y&quot;: 2.846153846153847, &quot;z&quot;: 3.970052983668644}, {&quot;x&quot;: 3.8461538461538476, &quot;y&quot;: 2.9230769230769242, &quot;z&quot;: 4.1830707351479335}, {&quot;x&quot;: 3.8461538461538476, &quot;y&quot;: 3.0, &quot;z&quot;: 4.401768960000002}, {&quot;x&quot;: 4.051282051282053, &quot;y&quot;: 0.07692307692307693, &quot;z&quot;: 0.07992449672445542}, {&quot;x&quot;: 4.051282051282053, &quot;y&quot;: 0.0, &quot;z&quot;: 0.0769284664645498}, {&quot;x&quot;: 4.051282051282053, &quot;y&quot;: 0.15384615384615385, &quot;z&quot;: 0.0889125875041723}, {&quot;x&quot;: 4.051282051282053, &quot;y&quot;: 0.23076923076923078, &quot;z&quot;: 0.10389273880370045}, {&quot;x&quot;: 4.051282051282053, &quot;y&quot;: 0.3076923076923077, &quot;z&quot;: 0.1248649506230398}, {&quot;x&quot;: 4.051282051282053, &quot;y&quot;: 0.38461538461538464, &quot;z&quot;: 0.15182922296219048}, {&quot;x&quot;: 4.051282051282053, &quot;y&quot;: 0.46153846153846156, &quot;z&quot;: 0.18478555582115236}, {&quot;x&quot;: 4.051282051282053, &quot;y&quot;: 0.5384615384615385, &quot;z&quot;: 0.2237339491999255}, {&quot;x&quot;: 4.051282051282053, &quot;y&quot;: 0.6153846153846154, &quot;z&quot;: 0.26867440309850993}, {&quot;x&quot;: 4.051282051282053, &quot;y&quot;: 0.6923076923076923, &quot;z&quot;: 0.3196069175169055}, {&quot;x&quot;: 4.051282051282053, &quot;y&quot;: 0.7692307692307692, &quot;z&quot;: 0.3765314924551124}, {&quot;x&quot;: 4.051282051282053, &quot;y&quot;: 0.846153846153846, &quot;z&quot;: 0.4394481279131305}, {&quot;x&quot;: 4.051282051282053, &quot;y&quot;: 0.9230769230769229, &quot;z&quot;: 0.5083568238909597}, {&quot;x&quot;: 4.051282051282053, &quot;y&quot;: 0.9999999999999998, &quot;z&quot;: 0.5832575803886004}, {&quot;x&quot;: 4.051282051282053, &quot;y&quot;: 1.0769230769230766, &quot;z&quot;: 0.6641503974060522}, {&quot;x&quot;: 4.051282051282053, &quot;y&quot;: 1.1538461538461535, &quot;z&quot;: 0.7510352749433152}, {&quot;x&quot;: 4.051282051282053, &quot;y&quot;: 1.2307692307692304, &quot;z&quot;: 0.8439122130003895}, {&quot;x&quot;: 4.051282051282053, &quot;y&quot;: 1.3076923076923073, &quot;z&quot;: 0.9427812115772752}, {&quot;x&quot;: 4.051282051282053, &quot;y&quot;: 1.3846153846153841, &quot;z&quot;: 1.0476422706739719}, {&quot;x&quot;: 4.051282051282053, &quot;y&quot;: 1.461538461538461, &quot;z&quot;: 1.15849539029048}, {&quot;x&quot;: 4.051282051282053, &quot;y&quot;: 1.5384615384615379, &quot;z&quot;: 1.2753405704267995}, {&quot;x&quot;: 4.051282051282053, &quot;y&quot;: 1.6153846153846148, &quot;z&quot;: 1.39817781108293}, {&quot;x&quot;: 4.051282051282053, &quot;y&quot;: 1.6923076923076916, &quot;z&quot;: 1.5270071122588718}, {&quot;x&quot;: 4.051282051282053, &quot;y&quot;: 1.7692307692307685, &quot;z&quot;: 1.6618284739546247}, {&quot;x&quot;: 4.051282051282053, &quot;y&quot;: 1.8461538461538454, &quot;z&quot;: 1.8026418961701889}, {&quot;x&quot;: 4.051282051282053, &quot;y&quot;: 1.9230769230769222, &quot;z&quot;: 1.9494473789055646}, {&quot;x&quot;: 4.051282051282053, &quot;y&quot;: 1.9999999999999991, &quot;z&quot;: 2.1022449221607515}, {&quot;x&quot;: 4.051282051282053, &quot;y&quot;: 2.076923076923076, &quot;z&quot;: 2.26103452593575}, {&quot;x&quot;: 4.051282051282053, &quot;y&quot;: 2.1538461538461533, &quot;z&quot;: 2.4258161902305595}, {&quot;x&quot;: 4.051282051282053, &quot;y&quot;: 2.2307692307692304, &quot;z&quot;: 2.5965899150451803}, {&quot;x&quot;: 4.051282051282053, &quot;y&quot;: 2.3076923076923075, &quot;z&quot;: 2.7733557003796125}, {&quot;x&quot;: 4.051282051282053, &quot;y&quot;: 2.3846153846153846, &quot;z&quot;: 2.9561135462338566}, {&quot;x&quot;: 4.051282051282053, &quot;y&quot;: 2.4615384615384617, &quot;z&quot;: 3.1448634526079116}, {&quot;x&quot;: 4.051282051282053, &quot;y&quot;: 2.5384615384615388, &quot;z&quot;: 3.3396054195017775}, {&quot;x&quot;: 4.051282051282053, &quot;y&quot;: 2.615384615384616, &quot;z&quot;: 3.5403394469154548}, {&quot;x&quot;: 4.051282051282053, &quot;y&quot;: 2.692307692307693, &quot;z&quot;: 3.7470655348489434}, {&quot;x&quot;: 4.051282051282053, &quot;y&quot;: 2.76923076923077, &quot;z&quot;: 3.9597836833022435}, {&quot;x&quot;: 4.051282051282053, &quot;y&quot;: 2.846153846153847, &quot;z&quot;: 4.178493892275355}, {&quot;x&quot;: 4.051282051282053, &quot;y&quot;: 2.9230769230769242, &quot;z&quot;: 4.403196161768278}, {&quot;x&quot;: 4.051282051282053, &quot;y&quot;: 3.0, &quot;z&quot;: 4.633890491781008}, {&quot;x&quot;: 4.256410256410258, &quot;y&quot;: 0.07692307692307693, &quot;z&quot;: 0.07540769555041305}, {&quot;x&quot;: 4.256410256410258, &quot;y&quot;: 0.0, &quot;z&quot;: 0.07227088796504197}, {&quot;x&quot;: 4.256410256410258, &quot;y&quot;: 0.15384615384615385, &quot;z&quot;: 0.08481811830652625}, {&quot;x&quot;: 4.256410256410258, &quot;y&quot;: 0.23076923076923078, &quot;z&quot;: 0.1005021562333816}, {&quot;x&quot;: 4.256410256410258, &quot;y&quot;: 0.3076923076923077, &quot;z&quot;: 0.12245980933097911}, {&quot;x&quot;: 4.256410256410258, &quot;y&quot;: 0.38461538461538464, &quot;z&quot;: 0.15069107759931874}, {&quot;x&quot;: 4.256410256410258, &quot;y&quot;: 0.46153846153846156, &quot;z&quot;: 0.18519596103840055}, {&quot;x&quot;: 4.256410256410258, &quot;y&quot;: 0.5384615384615385, &quot;z&quot;: 0.22597445964822452}, {&quot;x&quot;: 4.256410256410258, &quot;y&quot;: 0.6153846153846154, &quot;z&quot;: 0.27302657342879055}, {&quot;x&quot;: 4.256410256410258, &quot;y&quot;: 0.6923076923076923, &quot;z&quot;: 0.3263523023800987}, {&quot;x&quot;: 4.256410256410258, &quot;y&quot;: 0.7692307692307692, &quot;z&quot;: 0.3859516465021491}, {&quot;x&quot;: 4.256410256410258, &quot;y&quot;: 0.846153846153846, &quot;z&quot;: 0.4518246057949415}, {&quot;x&quot;: 4.256410256410258, &quot;y&quot;: 0.9230769230769229, &quot;z&quot;: 0.5239711802584761}, {&quot;x&quot;: 4.256410256410258, &quot;y&quot;: 0.9999999999999998, &quot;z&quot;: 0.6023913698927528}, {&quot;x&quot;: 4.256410256410258, &quot;y&quot;: 1.0769230769230766, &quot;z&quot;: 0.6870851746977716}, {&quot;x&quot;: 4.256410256410258, &quot;y&quot;: 1.1538461538461535, &quot;z&quot;: 0.7780525946735326}, {&quot;x&quot;: 4.256410256410258, &quot;y&quot;: 1.2307692307692304, &quot;z&quot;: 0.8752936298200358}, {&quot;x&quot;: 4.256410256410258, &quot;y&quot;: 1.3076923076923073, &quot;z&quot;: 0.978808280137281}, {&quot;x&quot;: 4.256410256410258, &quot;y&quot;: 1.3846153846153841, &quot;z&quot;: 1.0885965456252684}, {&quot;x&quot;: 4.256410256410258, &quot;y&quot;: 1.461538461538461, &quot;z&quot;: 1.2046584262839979}, {&quot;x&quot;: 4.256410256410258, &quot;y&quot;: 1.5384615384615379, &quot;z&quot;: 1.3269939221134697}, {&quot;x&quot;: 4.256410256410258, &quot;y&quot;: 1.6153846153846148, &quot;z&quot;: 1.4556030331136833}, {&quot;x&quot;: 4.256410256410258, &quot;y&quot;: 1.6923076923076916, &quot;z&quot;: 1.5904857592846393}, {&quot;x&quot;: 4.256410256410258, &quot;y&quot;: 1.7692307692307685, &quot;z&quot;: 1.7316421006263374}, {&quot;x&quot;: 4.256410256410258, &quot;y&quot;: 1.8461538461538454, &quot;z&quot;: 1.8790720571387773}, {&quot;x&quot;: 4.256410256410258, &quot;y&quot;: 1.9230769230769222, &quot;z&quot;: 2.03277562882196}, {&quot;x&quot;: 4.256410256410258, &quot;y&quot;: 1.9999999999999991, &quot;z&quot;: 2.192752815675884}, {&quot;x&quot;: 4.256410256410258, &quot;y&quot;: 2.076923076923076, &quot;z&quot;: 2.3590036177005516}, {&quot;x&quot;: 4.256410256410258, &quot;y&quot;: 2.1538461538461533, &quot;z&quot;: 2.5315280348959606}, {&quot;x&quot;: 4.256410256410258, &quot;y&quot;: 2.2307692307692304, &quot;z&quot;: 2.7103260672621117}, {&quot;x&quot;: 4.256410256410258, &quot;y&quot;: 2.3076923076923075, &quot;z&quot;: 2.8953977147990053}, {&quot;x&quot;: 4.256410256410258, &quot;y&quot;: 2.3846153846153846, &quot;z&quot;: 3.0867429775066415}, {&quot;x&quot;: 4.256410256410258, &quot;y&quot;: 2.4615384615384617, &quot;z&quot;: 3.2843618553850193}, {&quot;x&quot;: 4.256410256410258, &quot;y&quot;: 2.5384615384615388, &quot;z&quot;: 3.4882543484341393}, {&quot;x&quot;: 4.256410256410258, &quot;y&quot;: 2.615384615384616, &quot;z&quot;: 3.6984204566540013}, {&quot;x&quot;: 4.256410256410258, &quot;y&quot;: 2.692307692307693, &quot;z&quot;: 3.914860180044606}, {&quot;x&quot;: 4.256410256410258, &quot;y&quot;: 2.76923076923077, &quot;z&quot;: 4.137573518605953}, {&quot;x&quot;: 4.256410256410258, &quot;y&quot;: 2.846153846153847, &quot;z&quot;: 4.366560472338041}, {&quot;x&quot;: 4.256410256410258, &quot;y&quot;: 2.9230769230769242, &quot;z&quot;: 4.601821041240872}, {&quot;x&quot;: 4.256410256410258, &quot;y&quot;: 3.0, &quot;z&quot;: 4.843355225314441}, {&quot;x&quot;: 4.4615384615384635, &quot;y&quot;: 0.07692307692307693, &quot;z&quot;: 0.07112451451612478}, {&quot;x&quot;: 4.4615384615384635, &quot;y&quot;: 0.0, &quot;z&quot;: 0.06785987464671038}, {&quot;x&quot;: 4.4615384615384635, &quot;y&quot;: 0.15384615384615385, &quot;z&quot;: 0.08091843412436801}, {&quot;x&quot;: 4.4615384615384635, &quot;y&quot;: 0.23076923076923078, &quot;z&quot;: 0.09724163347144003}, {&quot;x&quot;: 4.4615384615384635, &quot;y&quot;: 0.3076923076923077, &quot;z&quot;: 0.12009411255734088}, {&quot;x&quot;: 4.4615384615384635, &quot;y&quot;: 0.38461538461538464, &quot;z&quot;: 0.14947587138207055}, {&quot;x&quot;: 4.4615384615384635, &quot;y&quot;: 0.46153846153846156, &quot;z&quot;: 0.18538690994562904}, {&quot;x&quot;: 4.4615384615384635, &quot;y&quot;: 0.5384615384615385, &quot;z&quot;: 0.22782722824801635}, {&quot;x&quot;: 4.4615384615384635, &quot;y&quot;: 0.6153846153846154, &quot;z&quot;: 0.27679682628923247}, {&quot;x&quot;: 4.4615384615384635, &quot;y&quot;: 0.6923076923076923, &quot;z&quot;: 0.33229570406927733}, {&quot;x&quot;: 4.4615384615384635, &quot;y&quot;: 0.7692307692307692, &quot;z&quot;: 0.394323861588151}, {&quot;x&quot;: 4.4615384615384635, &quot;y&quot;: 0.846153846153846, &quot;z&quot;: 0.4628812988458535}, {&quot;x&quot;: 4.4615384615384635, &quot;y&quot;: 0.9230769230769229, &quot;z&quot;: 0.5379680158423847}, {&quot;x&quot;: 4.4615384615384635, &quot;y&quot;: 0.9999999999999998, &quot;z&quot;: 0.6195840125777449}, {&quot;x&quot;: 4.4615384615384635, &quot;y&quot;: 1.0769230769230766, &quot;z&quot;: 0.7077292890519338}, {&quot;x&quot;: 4.4615384615384635, &quot;y&quot;: 1.1538461538461535, &quot;z&quot;: 0.8024038452649515}, {&quot;x&quot;: 4.4615384615384635, &quot;y&quot;: 1.2307692307692304, &quot;z&quot;: 0.9036076812167979}, {&quot;x&quot;: 4.4615384615384635, &quot;y&quot;: 1.3076923076923073, &quot;z&quot;: 1.0113407969074732}, {&quot;x&quot;: 4.4615384615384635, &quot;y&quot;: 1.3846153846153841, &quot;z&quot;: 1.1256031923369771}, {&quot;x&quot;: 4.4615384615384635, &quot;y&quot;: 1.461538461538461, &quot;z&quot;: 1.24639486750531}, {&quot;x&quot;: 4.4615384615384635, &quot;y&quot;: 1.5384615384615379, &quot;z&quot;: 1.373715822412472}, {&quot;x&quot;: 4.4615384615384635, &quot;y&quot;: 1.6153846153846148, &quot;z&quot;: 1.5075660570584624}, {&quot;x&quot;: 4.4615384615384635, &quot;y&quot;: 1.6923076923076916, &quot;z&quot;: 1.6479455714432818}, {&quot;x&quot;: 4.4615384615384635, &quot;y&quot;: 1.7692307692307685, &quot;z&quot;: 1.79485436556693}, {&quot;x&quot;: 4.4615384615384635, &quot;y&quot;: 1.8461538461538454, &quot;z&quot;: 1.9482924394294068}, {&quot;x&quot;: 4.4615384615384635, &quot;y&quot;: 1.9230769230769222, &quot;z&quot;: 2.108259793030713}, {&quot;x&quot;: 4.4615384615384635, &quot;y&quot;: 1.9999999999999991, &quot;z&quot;: 2.2747564263708475}, {&quot;x&quot;: 4.4615384615384635, &quot;y&quot;: 2.076923076923076, &quot;z&quot;: 2.447782339449811}, {&quot;x&quot;: 4.4615384615384635, &quot;y&quot;: 2.1538461538461533, &quot;z&quot;: 2.627337532267604}, {&quot;x&quot;: 4.4615384615384635, &quot;y&quot;: 2.2307692307692304, &quot;z&quot;: 2.813422004824225}, {&quot;x&quot;: 4.4615384615384635, &quot;y&quot;: 2.3076923076923075, &quot;z&quot;: 3.0060357571196756}, {&quot;x&quot;: 4.4615384615384635, &quot;y&quot;: 2.3846153846153846, &quot;z&quot;: 3.205178789153955}, {&quot;x&quot;: 4.4615384615384635, &quot;y&quot;: 2.4615384615384617, &quot;z&quot;: 3.4108511009270632}, {&quot;x&quot;: 4.4615384615384635, &quot;y&quot;: 2.5384615384615388, &quot;z&quot;: 3.623052692439}, {&quot;x&quot;: 4.4615384615384635, &quot;y&quot;: 2.615384615384616, &quot;z&quot;: 3.8417835636897655}, {&quot;x&quot;: 4.4615384615384635, &quot;y&quot;: 2.692307692307693, &quot;z&quot;: 4.06704371467936}, {&quot;x&quot;: 4.4615384615384635, &quot;y&quot;: 2.76923076923077, &quot;z&quot;: 4.298833145407783}, {&quot;x&quot;: 4.4615384615384635, &quot;y&quot;: 2.846153846153847, &quot;z&quot;: 4.5371518558750354}, {&quot;x&quot;: 4.4615384615384635, &quot;y&quot;: 2.9230769230769242, &quot;z&quot;: 4.781999846081116}, {&quot;x&quot;: 4.4615384615384635, &quot;y&quot;: 3.0, &quot;z&quot;: 5.033377116026022}, {&quot;x&quot;: 4.666666666666669, &quot;y&quot;: 0.07692307692307693, &quot;z&quot;: 0.0671046827135636}, {&quot;x&quot;: 4.666666666666669, &quot;y&quot;: 0.0, &quot;z&quot;: 0.06372344856309867}, {&quot;x&quot;: 4.666666666666669, &quot;y&quot;: 0.15384615384615385, &quot;z&quot;: 0.07724838516495836}, {&quot;x&quot;: 4.666666666666669, &quot;y&quot;: 0.23076923076923078, &quot;z&quot;: 0.09415455591728297}, {&quot;x&quot;: 4.666666666666669, &quot;y&quot;: 0.3076923076923077, &quot;z&quot;: 0.11782319497053742}, {&quot;x&quot;: 4.666666666666669, &quot;y&quot;: 0.38461538461538464, &quot;z&quot;: 0.1482543023247217}, {&quot;x&quot;: 4.666666666666669, &quot;y&quot;: 0.46153846153846156, &quot;z&quot;: 0.18544787797983586}, {&quot;x&quot;: 4.666666666666669, &quot;y&quot;: 0.5384615384615385, &quot;z&quot;: 0.22940392193587988}, {&quot;x&quot;: 4.666666666666669, &quot;y&quot;: 0.6153846153846154, &quot;z&quot;: 0.2801224341928536}, {&quot;x&quot;: 4.666666666666669, &quot;y&quot;: 0.6923076923076923, &quot;z&quot;: 0.33760341475075717}, {&quot;x&quot;: 4.666666666666669, &quot;y&quot;: 0.7692307692307692, &quot;z&quot;: 0.40184686360959065}, {&quot;x&quot;: 4.666666666666669, &quot;y&quot;: 0.846153846153846, &quot;z&quot;: 0.47285278076935394}, {&quot;x&quot;: 4.666666666666669, &quot;y&quot;: 0.9230769230769229, &quot;z&quot;: 0.5506211662300471}, {&quot;x&quot;: 4.666666666666669, &quot;y&quot;: 0.9999999999999998, &quot;z&quot;: 0.63515201999167}, {&quot;x&quot;: 4.666666666666669, &quot;y&quot;: 1.0769230769230766, &quot;z&quot;: 0.7264453420542228}, {&quot;x&quot;: 4.666666666666669, &quot;y&quot;: 1.1538461538461535, &quot;z&quot;: 0.8245011324177054}, {&quot;x&quot;: 4.666666666666669, &quot;y&quot;: 1.2307692307692304, &quot;z&quot;: 0.9293193910821178}, {&quot;x&quot;: 4.666666666666669, &quot;y&quot;: 1.3076923076923073, &quot;z&quot;: 1.0409001180474602}, {&quot;x&quot;: 4.666666666666669, &quot;y&quot;: 1.3846153846153841, &quot;z&quot;: 1.1592433133137323}, {&quot;x&quot;: 4.666666666666669, &quot;y&quot;: 1.461538461538461, &quot;z&quot;: 1.284348976880934}, {&quot;x&quot;: 4.666666666666669, &quot;y&quot;: 1.5384615384615379, &quot;z&quot;: 1.416217108749066}, {&quot;x&quot;: 4.666666666666669, &quot;y&quot;: 1.6153846153846148, &quot;z&quot;: 1.5548477089181276}, {&quot;x&quot;: 4.666666666666669, &quot;y&quot;: 1.6923076923076916, &quot;z&quot;: 1.700240777388119}, {&quot;x&quot;: 4.666666666666669, &quot;y&quot;: 1.7692307692307685, &quot;z&quot;: 1.8523963141590403}, {&quot;x&quot;: 4.666666666666669, &quot;y&quot;: 1.8461538461538454, &quot;z&quot;: 2.0113143192308915}, {&quot;x&quot;: 4.666666666666669, &quot;y&quot;: 1.9230769230769222, &quot;z&quot;: 2.176994792603673}, {&quot;x&quot;: 4.666666666666669, &quot;y&quot;: 1.9999999999999991, &quot;z&quot;: 2.349437734277384}, {&quot;x&quot;: 4.666666666666669, &quot;y&quot;: 2.076923076923076, &quot;z&quot;: 2.528643144252025}, {&quot;x&quot;: 4.666666666666669, &quot;y&quot;: 2.1538461538461533, &quot;z&quot;: 2.714611022527596}, {&quot;x&quot;: 4.666666666666669, &quot;y&quot;: 2.2307692307692304, &quot;z&quot;: 2.9073413691040964}, {&quot;x&quot;: 4.666666666666669, &quot;y&quot;: 2.3076923076923075, &quot;z&quot;: 3.106834183981527}, {&quot;x&quot;: 4.666666666666669, &quot;y&quot;: 2.3846153846153846, &quot;z&quot;: 3.313089467159888}, {&quot;x&quot;: 4.666666666666669, &quot;y&quot;: 2.4615384615384617, &quot;z&quot;: 3.5261072186391784}, {&quot;x&quot;: 4.666666666666669, &quot;y&quot;: 2.5384615384615388, &quot;z&quot;: 3.7458874384193983}, {&quot;x&quot;: 4.666666666666669, &quot;y&quot;: 2.615384615384616, &quot;z&quot;: 3.9724301265005484}, {&quot;x&quot;: 4.666666666666669, &quot;y&quot;: 2.692307692307693, &quot;z&quot;: 4.205735282882628}, {&quot;x&quot;: 4.666666666666669, &quot;y&quot;: 2.76923076923077, &quot;z&quot;: 4.445802907565638}, {&quot;x&quot;: 4.666666666666669, &quot;y&quot;: 2.846153846153847, &quot;z&quot;: 4.692633000549578}, {&quot;x&quot;: 4.666666666666669, &quot;y&quot;: 2.9230769230769242, &quot;z&quot;: 4.946225561834448}, {&quot;x&quot;: 4.666666666666669, &quot;y&quot;: 3.0, &quot;z&quot;: 5.206580591420242}, {&quot;x&quot;: 4.871794871794874, &quot;y&quot;: 0.07692307692307693, &quot;z&quot;: 0.0633565008459539}, {&quot;x&quot;: 4.871794871794874, &quot;y&quot;: 0.0, &quot;z&quot;: 0.059868490880211137}, {&quot;x&quot;: 4.871794871794874, &quot;y&quot;: 0.15384615384615385, &quot;z&quot;: 0.07382053074318218}, {&quot;x&quot;: 4.871794871794874, &quot;y&quot;: 0.23076923076923078, &quot;z&quot;: 0.09126058057189598}, {&quot;x&quot;: 4.871794871794874, &quot;y&quot;: 0.3076923076923077, &quot;z&quot;: 0.11567665033209532}, {&quot;x&quot;: 4.871794871794874, &quot;y&quot;: 0.38461538461538464, &quot;z&quot;: 0.14706874002378015}, {&quot;x&quot;: 4.871794871794874, &quot;y&quot;: 0.46153846153846156, &quot;z&quot;: 0.18543684964695054}, {&quot;x&quot;: 4.871794871794874, &quot;y&quot;: 0.5384615384615385, &quot;z&quot;: 0.23078097920160648}, {&quot;x&quot;: 4.871794871794874, &quot;y&quot;: 0.6153846153846154, &quot;z&quot;: 0.2831011286877478}, {&quot;x&quot;: 4.871794871794874, &quot;y&quot;: 0.6923076923076923, &quot;z&quot;: 0.34239729810537467}, {&quot;x&quot;: 4.871794871794874, &quot;y&quot;: 0.7692307692307692, &quot;z&quot;: 0.4086694874544871}, {&quot;x&quot;: 4.871794871794874, &quot;y&quot;: 0.846153846153846, &quot;z&quot;: 0.48191769673508494}, {&quot;x&quot;: 4.871794871794874, &quot;y&quot;: 0.9230769230769229, &quot;z&quot;: 0.5621419259471684}, {&quot;x&quot;: 4.871794871794874, &quot;y&quot;: 0.9999999999999998, &quot;z&quot;: 0.6493421750907373}, {&quot;x&quot;: 4.871794871794874, &quot;y&quot;: 1.0769230769230766, &quot;z&quot;: 0.7435184441657917}, {&quot;x&quot;: 4.871794871794874, &quot;y&quot;: 1.1538461538461535, &quot;z&quot;: 0.8446707331723317}, {&quot;x&quot;: 4.871794871794874, &quot;y&quot;: 1.2307692307692304, &quot;z&quot;: 0.9527990421103572}, {&quot;x&quot;: 4.871794871794874, &quot;y&quot;: 1.3076923076923073, &quot;z&quot;: 1.0679033709798682}, {&quot;x&quot;: 4.871794871794874, &quot;y&quot;: 1.3846153846153841, &quot;z&quot;: 1.1899837197808647}, {&quot;x&quot;: 4.871794871794874, &quot;y&quot;: 1.461538461538461, &quot;z&quot;: 1.3190400885133466}, {&quot;x&quot;: 4.871794871794874, &quot;y&quot;: 1.5384615384615379, &quot;z&quot;: 1.4550724771773142}, {&quot;x&quot;: 4.871794871794874, &quot;y&quot;: 1.6153846153846148, &quot;z&quot;: 1.5980808857727673}, {&quot;x&quot;: 4.871794871794874, &quot;y&quot;: 1.6923076923076916, &quot;z&quot;: 1.7480653142997058}, {&quot;x&quot;: 4.871794871794874, &quot;y&quot;: 1.7692307692307685, &quot;z&quot;: 1.90502576275813}, {&quot;x&quot;: 4.871794871794874, &quot;y&quot;: 1.8461538461538454, &quot;z&quot;: 2.0689622311480393}, {&quot;x&quot;: 4.871794871794874, &quot;y&quot;: 1.9230769230769222, &quot;z&quot;: 2.2398747194694346}, {&quot;x&quot;: 4.871794871794874, &quot;y&quot;: 1.9999999999999991, &quot;z&quot;: 2.4177632277223147}, {&quot;x&quot;: 4.871794871794874, &quot;y&quot;: 2.076923076923076, &quot;z&quot;: 2.6026277559066817}, {&quot;x&quot;: 4.871794871794874, &quot;y&quot;: 2.1538461538461533, &quot;z&quot;: 2.7944683040225335}, {&quot;x&quot;: 4.871794871794874, &quot;y&quot;: 2.2307692307692304, &quot;z&quot;: 2.9932848720698715}, {&quot;x&quot;: 4.871794871794874, &quot;y&quot;: 2.3076923076923075, &quot;z&quot;: 3.1990774600486946}, {&quot;x&quot;: 4.871794871794874, &quot;y&quot;: 2.3846153846153846, &quot;z&quot;: 3.4118460679590035}, {&quot;x&quot;: 4.871794871794874, &quot;y&quot;: 2.4615384615384617, &quot;z&quot;: 3.631590695800798}, {&quot;x&quot;: 4.871794871794874, &quot;y&quot;: 2.5384615384615388, &quot;z&quot;: 3.8583113435740777}, {&quot;x&quot;: 4.871794871794874, &quot;y&quot;: 2.615384615384616, &quot;z&quot;: 4.092008011278843}, {&quot;x&quot;: 4.871794871794874, &quot;y&quot;: 2.692307692307693, &quot;z&quot;: 4.3326806989150946}, {&quot;x&quot;: 4.871794871794874, &quot;y&quot;: 2.76923076923077, &quot;z&quot;: 4.580329406482831}, {&quot;x&quot;: 4.871794871794874, &quot;y&quot;: 2.846153846153847, &quot;z&quot;: 4.834954133982054}, {&quot;x&quot;: 4.871794871794874, &quot;y&quot;: 2.9230769230769242, &quot;z&quot;: 5.096554881412761}, {&quot;x&quot;: 4.871794871794874, &quot;y&quot;: 3.0, &quot;z&quot;: 5.36513164877495}, {&quot;x&quot;: 5.076923076923079, &quot;y&quot;: 0.07692307692307693, &quot;z&quot;: 0.059875741645762225}, {&quot;x&quot;: 5.076923076923079, &quot;y&quot;: 0.0, &quot;z&quot;: 0.05628958421345095}, {&quot;x&quot;: 5.076923076923079, &quot;y&quot;: 0.15384615384615385, &quot;z&quot;: 0.07063421394269606}, {&quot;x&quot;: 5.076923076923079, &quot;y&quot;: 0.23076923076923078, &quot;z&quot;: 0.08856500110425246}, {&quot;x&quot;: 5.076923076923079, &quot;y&quot;: 0.3076923076923077, &quot;z&quot;: 0.11366810313043141}, {&quot;x&quot;: 5.076923076923079, &quot;y&quot;: 0.38461538461538464, &quot;z&quot;: 0.14594352002123295}, {&quot;x&quot;: 5.076923076923079, &quot;y&quot;: 0.46153846153846156, &quot;z&quot;: 0.185391251776657}, {&quot;x&quot;: 5.076923076923079, &quot;y&quot;: 0.5384615384615385, &quot;z&quot;: 0.2320112983967037}, {&quot;x&quot;: 5.076923076923079, &quot;y&quot;: 0.6153846153846154, &quot;z&quot;: 0.28580365988137285}, {&quot;x&quot;: 5.076923076923079, &quot;y&quot;: 0.6923076923076923, &quot;z&quot;: 0.34676833623066455}, {&quot;x&quot;: 5.076923076923079, &quot;y&quot;: 0.7692307692307692, &quot;z&quot;: 0.4149053274445788}, {&quot;x&quot;: 5.076923076923079, &quot;y&quot;: 0.846153846153846, &quot;z&quot;: 0.4902146335231156}, {&quot;x&quot;: 5.076923076923079, &quot;y&quot;: 0.9230769230769229, &quot;z&quot;: 0.572696254466275}, {&quot;x&quot;: 5.076923076923079, &quot;y&quot;: 0.9999999999999998, &quot;z&quot;: 0.662350190274057}, {&quot;x&quot;: 5.076923076923079, &quot;y&quot;: 1.0769230769230766, &quot;z&quot;: 0.7591764409464614}, {&quot;x&quot;: 5.076923076923079, &quot;y&quot;: 1.1538461538461535, &quot;z&quot;: 0.8631750064834884}, {&quot;x&quot;: 5.076923076923079, &quot;y&quot;: 1.2307692307692304, &quot;z&quot;: 0.974345886885138}, {&quot;x&quot;: 5.076923076923079, &quot;y&quot;: 1.3076923076923073, &quot;z&quot;: 1.0926890821514101}, {&quot;x&quot;: 5.076923076923079, &quot;y&quot;: 1.3846153846153841, &quot;z&quot;: 1.2182045922823048}, {&quot;x&quot;: 5.076923076923079, &quot;y&quot;: 1.461538461538461, &quot;z&quot;: 1.3508924172778218}, {&quot;x&quot;: 5.076923076923079, &quot;y&quot;: 1.5384615384615379, &quot;z&quot;: 1.4907525571379618}, {&quot;x&quot;: 5.076923076923079, &quot;y&quot;: 1.6153846153846148, &quot;z&quot;: 1.637785011862724}, {&quot;x&quot;: 5.076923076923079, &quot;y&quot;: 1.6923076923076916, &quot;z&quot;: 1.7919897814521089}, {&quot;x&quot;: 5.076923076923079, &quot;y&quot;: 1.7692307692307685, &quot;z&quot;: 1.9533668659061163}, {&quot;x&quot;: 5.076923076923079, &quot;y&quot;: 1.8461538461538454, &quot;z&quot;: 2.1219162652247463}, {&quot;x&quot;: 5.076923076923079, &quot;y&quot;: 1.9230769230769222, &quot;z&quot;: 2.2976379794079986}, {&quot;x&quot;: 5.076923076923079, &quot;y&quot;: 1.9999999999999991, &quot;z&quot;: 2.480532008455874}, {&quot;x&quot;: 5.076923076923079, &quot;y&quot;: 2.076923076923076, &quot;z&quot;: 2.6705983523683723}, {&quot;x&quot;: 5.076923076923079, &quot;y&quot;: 2.1538461538461533, &quot;z&quot;: 2.8678370111454927}, {&quot;x&quot;: 5.076923076923079, &quot;y&quot;: 2.2307692307692304, &quot;z&quot;: 3.072247984787236}, {&quot;x&quot;: 5.076923076923079, &quot;y&quot;: 2.3076923076923075, &quot;z&quot;: 3.2838312732936017}, {&quot;x&quot;: 5.076923076923079, &quot;y&quot;: 2.3846153846153846, &quot;z&quot;: 3.5025868766645907}, {&quot;x&quot;: 5.076923076923079, &quot;y&quot;: 2.4615384615384617, &quot;z&quot;: 3.7285147949002018}, {&quot;x&quot;: 5.076923076923079, &quot;y&quot;: 2.5384615384615388, &quot;z&quot;: 3.961615028000435}, {&quot;x&quot;: 5.076923076923079, &quot;y&quot;: 2.615384615384616, &quot;z&quot;: 4.201887575965291}, {&quot;x&quot;: 5.076923076923079, &quot;y&quot;: 2.692307692307693, &quot;z&quot;: 4.4493324387947695}, {&quot;x&quot;: 5.076923076923079, &quot;y&quot;: 2.76923076923077, &quot;z&quot;: 4.703949616488872}, {&quot;x&quot;: 5.076923076923079, &quot;y&quot;: 2.846153846153847, &quot;z&quot;: 4.965739109047596}, {&quot;x&quot;: 5.076923076923079, &quot;y&quot;: 2.9230769230769242, &quot;z&quot;: 5.234700916470943}, {&quot;x&quot;: 5.076923076923079, &quot;y&quot;: 3.0, &quot;z&quot;: 5.510835038758907}, {&quot;x&quot;: 5.282051282051285, &quot;y&quot;: 0.07692307692307693, &quot;z&quot;: 0.05665112274996696}, {&quot;x&quot;: 5.282051282051285, &quot;y&quot;: 0.0, &quot;z&quot;: 0.05297444095528665}, {&quot;x&quot;: 5.282051282051285, &quot;y&quot;: 0.15384615384615385, &quot;z&quot;: 0.06768116813400786}, {&quot;x&quot;: 5.282051282051285, &quot;y&quot;: 0.23076923076923078, &quot;z&quot;: 0.08606457710740938}, {&quot;x&quot;: 5.282051282051285, &quot;y&quot;: 0.3076923076923077, &quot;z&quot;: 0.1118013496701715}, {&quot;x&quot;: 5.282051282051285, &quot;y&quot;: 0.38461538461538464, &quot;z&quot;: 0.14489148582229422}, {&quot;x&quot;: 5.282051282051285, &quot;y&quot;: 0.46153846153846156, &quot;z&quot;: 0.1853349855637776}, {&quot;x&quot;: 5.282051282051285, &quot;y&quot;: 0.5384615384615385, &quot;z&quot;: 0.23313184889462157}, {&quot;x&quot;: 5.282051282051285, &quot;y&quot;: 0.6153846153846154, &quot;z&quot;: 0.28828207581482607}, {&quot;x&quot;: 5.282051282051285, &quot;y&quot;: 0.6923076923076923, &quot;z&quot;: 0.3507856663243911}, {&quot;x&quot;: 5.282051282051285, &quot;y&quot;: 0.7692307692307692, &quot;z&quot;: 0.42064262042331685}, {&quot;x&quot;: 5.282051282051285, &quot;y&quot;: 0.846153846153846, &quot;z&quot;: 0.49785293811160297}, {&quot;x&quot;: 5.282051282051285, &quot;y&quot;: 0.9230769230769229, &quot;z&quot;: 0.5824166193892499}, {&quot;x&quot;: 5.282051282051285, &quot;y&quot;: 0.9999999999999998, &quot;z&quot;: 0.6743336642562574}, {&quot;x&quot;: 5.282051282051285, &quot;y&quot;: 1.0769230769230766, &quot;z&quot;: 0.7736040727126254}, {&quot;x&quot;: 5.282051282051285, &quot;y&quot;: 1.1538461538461535, &quot;z&quot;: 0.8802278447583541}, {&quot;x&quot;: 5.282051282051285, &quot;y&quot;: 1.2307692307692304, &quot;z&quot;: 0.9942049803934434}, {&quot;x&quot;: 5.282051282051285, &quot;y&quot;: 1.3076923076923073, &quot;z&quot;: 1.1155354796178933}, {&quot;x&quot;: 5.282051282051285, &quot;y&quot;: 1.3846153846153841, &quot;z&quot;: 1.2442193424317038}, {&quot;x&quot;: 5.282051282051285, &quot;y&quot;: 1.461538461538461, &quot;z&quot;: 1.380256568834875}, {&quot;x&quot;: 5.282051282051285, &quot;y&quot;: 1.5384615384615379, &quot;z&quot;: 1.5236471588274068}, {&quot;x&quot;: 5.282051282051285, &quot;y&quot;: 1.6153846153846148, &quot;z&quot;: 1.6743911124092987}, {&quot;x&quot;: 5.282051282051285, &quot;y&quot;: 1.6923076923076916, &quot;z&quot;: 1.8324884295805517}, {&quot;x&quot;: 5.282051282051285, &quot;y&quot;: 1.7692307692307685, &quot;z&quot;: 1.9979391103411646}, {&quot;x&quot;: 5.282051282051285, &quot;y&quot;: 1.8461538461538454, &quot;z&quot;: 2.1707431546911384}, {&quot;x&quot;: 5.282051282051285, &quot;y&quot;: 1.9230769230769222, &quot;z&quot;: 2.350900562630473}, {&quot;x&quot;: 5.282051282051285, &quot;y&quot;: 1.9999999999999991, &quot;z&quot;: 2.5384113341591683}, {&quot;x&quot;: 5.282051282051285, &quot;y&quot;: 2.076923076923076, &quot;z&quot;: 2.733275469277225}, {&quot;x&quot;: 5.282051282051285, &quot;y&quot;: 2.1538461538461533, &quot;z&quot;: 2.9354929679846418}, {&quot;x&quot;: 5.282051282051285, &quot;y&quot;: 2.2307692307692304, &quot;z&quot;: 3.145063830281419}, {&quot;x&quot;: 5.282051282051285, &quot;y&quot;: 2.3076923076923075, &quot;z&quot;: 3.3619880561675575}, {&quot;x&quot;: 5.282051282051285, &quot;y&quot;: 2.3846153846153846, &quot;z&quot;: 3.586265645643057}, {&quot;x&quot;: 5.282051282051285, &quot;y&quot;: 2.4615384615384617, &quot;z&quot;: 3.8178965987079163}, {&quot;x&quot;: 5.282051282051285, &quot;y&quot;: 2.5384615384615388, &quot;z&quot;: 4.056880915362137}, {&quot;x&quot;: 5.282051282051285, &quot;y&quot;: 2.615384615384616, &quot;z&quot;: 4.303218595605718}, {&quot;x&quot;: 5.282051282051285, &quot;y&quot;: 2.692307692307693, &quot;z&quot;: 4.5569096394386595}, {&quot;x&quot;: 5.282051282051285, &quot;y&quot;: 2.76923076923077, &quot;z&quot;: 4.817954046860962}, {&quot;x&quot;: 5.282051282051285, &quot;y&quot;: 2.846153846153847, &quot;z&quot;: 5.086351817872625}, {&quot;x&quot;: 5.282051282051285, &quot;y&quot;: 2.9230769230769242, &quot;z&quot;: 5.3621029524736485}, {&quot;x&quot;: 5.282051282051285, &quot;y&quot;: 3.0, &quot;z&quot;: 5.645207450664026}, {&quot;x&quot;: 5.48717948717949, &quot;y&quot;: 0.07692307692307693, &quot;z&quot;: 0.0536676771701431}, {&quot;x&quot;: 5.48717948717949, &quot;y&quot;: 0.0, &quot;z&quot;: 0.04990723918971949}, {&quot;x&quot;: 5.48717948717949, &quot;y&quot;: 0.15384615384615385, &quot;z&quot;: 0.06494899111141392}, {&quot;x&quot;: 5.48717948717949, &quot;y&quot;: 0.23076923076923078, &quot;z&quot;: 0.08375118101353193}, {&quot;x&quot;: 5.48717948717949, &quot;y&quot;: 0.3076923076923077, &quot;z&quot;: 0.11007424687649717}, {&quot;x&quot;: 5.48717948717949, &quot;y&quot;: 0.38461538461538464, &quot;z&quot;: 0.1439181887003096}, {&quot;x&quot;: 5.48717948717949, &quot;y&quot;: 0.46153846153846156, &quot;z&quot;: 0.18528300648496926}, {&quot;x&quot;: 5.48717948717949, &quot;y&quot;: 0.5384615384615385, &quot;z&quot;: 0.23416870023047615}, {&quot;x&quot;: 5.48717948717949, &quot;y&quot;: 0.6153846153846154, &quot;z&quot;: 0.29057526993683014}, {&quot;x&quot;: 5.48717948717949, &quot;y&quot;: 0.6923076923076923, &quot;z&quot;: 0.35450271560403135}, {&quot;x&quot;: 5.48717948717949, &quot;y&quot;: 0.7692307692307692, &quot;z&quot;: 0.4259510372320798}, {&quot;x&quot;: 5.48717948717949, &quot;y&quot;: 0.846153846153846, &quot;z&quot;: 0.5049202348209753}, {&quot;x&quot;: 5.48717948717949, &quot;y&quot;: 0.9230769230769229, &quot;z&quot;: 0.5914103083707181}, {&quot;x&quot;: 5.48717948717949, &quot;y&quot;: 0.9999999999999998, &quot;z&quot;: 0.685421257881308}, {&quot;x&quot;: 5.48717948717949, &quot;y&quot;: 1.0769230769230766, &quot;z&quot;: 0.7869530833527453}, {&quot;x&quot;: 5.48717948717949, &quot;y&quot;: 1.1538461538461535, &quot;z&quot;: 0.8960057847850297}, {&quot;x&quot;: 5.48717948717949, &quot;y&quot;: 1.2307692307692304, &quot;z&quot;: 1.0125793621781614}, {&quot;x&quot;: 5.48717948717949, &quot;y&quot;: 1.3076923076923073, &quot;z&quot;: 1.1366738155321403}, {&quot;x&quot;: 5.48717948717949, &quot;y&quot;: 1.3846153846153841, &quot;z&quot;: 1.2682891448469662}, {&quot;x&quot;: 5.48717948717949, &quot;y&quot;: 1.461538461538461, &quot;z&quot;: 1.4074253501226393}, {&quot;x&quot;: 5.48717948717949, &quot;y&quot;: 1.5384615384615379, &quot;z&quot;: 1.55408243135916}, {&quot;x&quot;: 5.48717948717949, &quot;y&quot;: 1.6153846153846148, &quot;z&quot;: 1.7082603885565273}, {&quot;x&quot;: 5.48717948717949, &quot;y&quot;: 1.6923076923076916, &quot;z&quot;: 1.869959221714742}, {&quot;x&quot;: 5.48717948717949, &quot;y&quot;: 1.7692307692307685, &quot;z&quot;: 2.0391789308338044}, {&quot;x&quot;: 5.48717948717949, &quot;y&quot;: 1.8461538461538454, &quot;z&quot;: 2.215919515913713}, {&quot;x&quot;: 5.48717948717949, &quot;y&quot;: 1.9230769230769222, &quot;z&quot;: 2.40018097695447}, {&quot;x&quot;: 5.48717948717949, &quot;y&quot;: 1.9999999999999991, &quot;z&quot;: 2.5919633139560734}, {&quot;x&quot;: 5.48717948717949, &quot;y&quot;: 2.076923076923076, &quot;z&quot;: 2.791266526918525}, {&quot;x&quot;: 5.48717948717949, &quot;y&quot;: 2.1538461538461533, &quot;z&quot;: 2.9980906158418232}, {&quot;x&quot;: 5.48717948717949, &quot;y&quot;: 2.2307692307692304, &quot;z&quot;: 3.212435580725969}, {&quot;x&quot;: 5.48717948717949, &quot;y&quot;: 2.3076923076923075, &quot;z&quot;: 3.4343014215709617}, {&quot;x&quot;: 5.48717948717949, &quot;y&quot;: 2.3846153846153846, &quot;z&quot;: 3.6636881383768025}, {&quot;x&quot;: 5.48717948717949, &quot;y&quot;: 2.4615384615384617, &quot;z&quot;: 3.9005957311434902}, {&quot;x&quot;: 5.48717948717949, &quot;y&quot;: 2.5384615384615388, &quot;z&quot;: 4.145024199871023}, {&quot;x&quot;: 5.48717948717949, &quot;y&quot;: 2.615384615384616, &quot;z&quot;: 4.396973544559406}, {&quot;x&quot;: 5.48717948717949, &quot;y&quot;: 2.692307692307693, &quot;z&quot;: 4.656443765208635}, {&quot;x&quot;: 5.48717948717949, &quot;y&quot;: 2.76923076923077, &quot;z&quot;: 4.923434861818712}, {&quot;x&quot;: 5.48717948717949, &quot;y&quot;: 2.846153846153847, &quot;z&quot;: 5.197946834389636}, {&quot;x&quot;: 5.48717948717949, &quot;y&quot;: 2.9230769230769242, &quot;z&quot;: 5.479979682921407}, {&quot;x&quot;: 5.48717948717949, &quot;y&quot;: 3.0, &quot;z&quot;: 5.769533407414019}, {&quot;x&quot;: 5.692307692307695, &quot;y&quot;: 0.07692307692307693, &quot;z&quot;: 0.05090882023678163}, {&quot;x&quot;: 5.692307692307695, &quot;y&quot;: 0.0, &quot;z&quot;: 0.047070662552470104}, {&quot;x&quot;: 5.692307692307695, &quot;y&quot;: 0.15384615384615385, &quot;z&quot;: 0.06242329328971622}, {&quot;x&quot;: 5.692307692307695, &quot;y&quot;: 0.23076923076923078, &quot;z&quot;: 0.08161408171127389}, {&quot;x&quot;: 5.692307692307695, &quot;y&quot;: 0.3076923076923077, &quot;z&quot;: 0.10848118550145462}, {&quot;x&quot;: 5.692307692307695, &quot;y&quot;: 0.38461538461538464, &quot;z&quot;: 0.14302460466025838}, {&quot;x&quot;: 5.692307692307695, &quot;y&quot;: 0.46153846153846156, &quot;z&quot;: 0.18524433918768524}, {&quot;x&quot;: 5.692307692307695, &quot;y&quot;: 0.5384615384615385, &quot;z&quot;: 0.2351403890837352}, {&quot;x&quot;: 5.692307692307695, &quot;y&quot;: 0.6153846153846154, &quot;z&quot;: 0.29271275434840816}, {&quot;x&quot;: 5.692307692307695, &quot;y&quot;: 0.6923076923076923, &quot;z&quot;: 0.35796143498170413}, {&quot;x&quot;: 5.692307692307695, &quot;y&quot;: 0.7692307692307692, &quot;z&quot;: 0.43088643098362317}, {&quot;x&quot;: 5.692307692307695, &quot;y&quot;: 0.846153846153846, &quot;z&quot;: 0.5114877423541653}, {&quot;x&quot;: 5.692307692307695, &quot;y&quot;: 0.9230769230769229, &quot;z&quot;: 0.5997653690933304}, {&quot;x&quot;: 5.692307692307695, &quot;y&quot;: 0.9999999999999998, &quot;z&quot;: 0.6957193112011186}, {&quot;x&quot;: 5.692307692307695, &quot;y&quot;: 1.0769230769230766, &quot;z&quot;: 0.79934956867753}, {&quot;x&quot;: 5.692307692307695, &quot;y&quot;: 1.1538461538461535, &quot;z&quot;: 0.9106561415225642}, {&quot;x&quot;: 5.692307692307695, &quot;y&quot;: 1.2307692307692304, &quot;z&quot;: 1.0296390297362217}, {&quot;x&quot;: 5.692307692307695, &quot;y&quot;: 1.3076923076923073, &quot;z&quot;: 1.1562982333185021}, {&quot;x&quot;: 5.692307692307695, &quot;y&quot;: 1.3846153846153841, &quot;z&quot;: 1.2906337522694056}, {&quot;x&quot;: 5.692307692307695, &quot;y&quot;: 1.461538461538461, &quot;z&quot;: 1.4326455865889318}, {&quot;x&quot;: 5.692307692307695, &quot;y&quot;: 1.5384615384615379, &quot;z&quot;: 1.5823337362770817}, {&quot;x&quot;: 5.692307692307695, &quot;y&quot;: 1.6153846153846148, &quot;z&quot;: 1.7396982013338542}, {&quot;x&quot;: 5.692307692307695, &quot;y&quot;: 1.6923076923076916, &quot;z&quot;: 1.90473898175925}, {&quot;x&quot;: 5.692307692307695, &quot;y&quot;: 1.7692307692307685, &quot;z&quot;: 2.0774560775532684}, {&quot;x&quot;: 5.692307692307695, &quot;y&quot;: 1.8461538461538454, &quot;z&quot;: 2.25784948871591}, {&quot;x&quot;: 5.692307692307695, &quot;y&quot;: 1.9230769230769222, &quot;z&quot;: 2.445919215247175}, {&quot;x&quot;: 5.692307692307695, &quot;y&quot;: 1.9999999999999991, &quot;z&quot;: 2.641665257147063}, {&quot;x&quot;: 5.692307692307695, &quot;y&quot;: 2.076923076923076, &quot;z&quot;: 2.845087614415575}, {&quot;x&quot;: 5.692307692307695, &quot;y&quot;: 2.1538461538461533, &quot;z&quot;: 3.0561862870527094}, {&quot;x&quot;: 5.692307692307695, &quot;y&quot;: 2.2307692307692304, &quot;z&quot;: 3.2749612750584665}, {&quot;x&quot;: 5.692307692307695, &quot;y&quot;: 2.3076923076923075, &quot;z&quot;: 3.5014125784328476}, {&quot;x&quot;: 5.692307692307695, &quot;y&quot;: 2.3846153846153846, &quot;z&quot;: 3.7355401971758515}, {&quot;x&quot;: 5.692307692307695, &quot;y&quot;: 2.4615384615384617, &quot;z&quot;: 3.9773441312874787}, {&quot;x&quot;: 5.692307692307695, &quot;y&quot;: 2.5384615384615388, &quot;z&quot;: 4.226824380767729}, {&quot;x&quot;: 5.692307692307695, &quot;y&quot;: 2.615384615384616, &quot;z&quot;: 4.483980945616602}, {&quot;x&quot;: 5.692307692307695, &quot;y&quot;: 2.692307692307693, &quot;z&quot;: 4.748813825834099}, {&quot;x&quot;: 5.692307692307695, &quot;y&quot;: 2.76923076923077, &quot;z&quot;: 5.021323021420218}, {&quot;x&quot;: 5.692307692307695, &quot;y&quot;: 2.846153846153847, &quot;z&quot;: 5.301508532374961}, {&quot;x&quot;: 5.692307692307695, &quot;y&quot;: 2.9230769230769242, &quot;z&quot;: 5.589370358698327}, {&quot;x&quot;: 5.692307692307695, &quot;y&quot;: 3.0, &quot;z&quot;: 5.88490850039031}, {&quot;x&quot;: 5.8974358974359005, &quot;y&quot;: 0.07692307692307693, &quot;z&quot;: 0.04835760184952022}, {&quot;x&quot;: 5.8974358974359005, &quot;y&quot;: 0.0, &quot;z&quot;: 0.04444713104941731}, {&quot;x&quot;: 5.8974358974359005, &quot;y&quot;: 0.15384615384615385, &quot;z&quot;: 0.060089014249828945}, {&quot;x&quot;: 5.8974358974359005, &quot;y&quot;: 0.23076923076923078, &quot;z&quot;: 0.0796413682503435}, {&quot;x&quot;: 5.8974358974359005, &quot;y&quot;: 0.3076923076923077, &quot;z&quot;: 0.10701466385106385}, {&quot;x&quot;: 5.8974358974359005, &quot;y&quot;: 0.38461538461538464, &quot;z&quot;: 0.14220890105199002}, {&quot;x&quot;: 5.8974358974359005, &quot;y&quot;: 0.46153846153846156, &quot;z&quot;: 0.18522407985312203}, {&quot;x&quot;: 5.8974358974359005, &quot;y&quot;: 0.5384615384615385, &quot;z&quot;: 0.23606020025445987}, {&quot;x&quot;: 5.8974358974359005, &quot;y&quot;: 0.6153846153846154, &quot;z&quot;: 0.2947172622560035}, {&quot;x&quot;: 5.8974358974359005, &quot;y&quot;: 0.6923076923076923, &quot;z&quot;: 0.36119526585775286}, {&quot;x&quot;: 5.8974358974359005, &quot;y&quot;: 0.7692307692307692, &quot;z&quot;: 0.4354942110597081}, {&quot;x&quot;: 5.8974358974359005, &quot;y&quot;: 0.846153846153846, &quot;z&quot;: 0.5176140978618691}, {&quot;x&quot;: 5.8974358974359005, &quot;y&quot;: 0.9230769230769229, &quot;z&quot;: 0.6075549262642359}, {&quot;x&quot;: 5.8974358974359005, &quot;y&quot;: 0.9999999999999998, &quot;z&quot;: 0.7053166962668086}, {&quot;x&quot;: 5.8974358974359005, &quot;y&quot;: 1.0769230769230766, &quot;z&quot;: 0.8108994078695869}, {&quot;x&quot;: 5.8974358974359005, &quot;y&quot;: 1.1538461538461535, &quot;z&quot;: 0.9243030610725712}, {&quot;x&quot;: 5.8974358974359005, &quot;y&quot;: 1.2307692307692304, &quot;z&quot;: 1.0455276558757611}, {&quot;x&quot;: 5.8974358974359005, &quot;y&quot;: 1.3076923076923073, &quot;z&quot;: 1.174573192279157}, {&quot;x&quot;: 5.8974358974359005, &quot;y&quot;: 1.3846153846153841, &quot;z&quot;: 1.3114396702827587}, {&quot;x&quot;: 5.8974358974359005, &quot;y&quot;: 1.461538461538461, &quot;z&quot;: 1.456127089886566}, {&quot;x&quot;: 5.8974358974359005, &quot;y&quot;: 1.5384615384615379, &quot;z&quot;: 1.6086354510905794}, {&quot;x&quot;: 5.8974358974359005, &quot;y&quot;: 1.6153846153846148, &quot;z&quot;: 1.7689647538947983}, {&quot;x&quot;: 5.8974358974359005, &quot;y&quot;: 1.6923076923076916, &quot;z&quot;: 1.9371149982992233}, {&quot;x&quot;: 5.8974358974359005, &quot;y&quot;: 1.7692307692307685, &quot;z&quot;: 2.113086184303854}, {&quot;x&quot;: 5.8974358974359005, &quot;y&quot;: 1.8461538461538454, &quot;z&quot;: 2.2968783119086904}, {&quot;x&quot;: 5.8974358974359005, &quot;y&quot;: 1.9230769230769222, &quot;z&quot;: 2.4884913811137332}, {&quot;x&quot;: 5.8974358974359005, &quot;y&quot;: 1.9999999999999991, &quot;z&quot;: 2.6879253919189807}, {&quot;x&quot;: 5.8974358974359005, &quot;y&quot;: 2.076923076923076, &quot;z&quot;: 2.8951803443244355}, {&quot;x&quot;: 5.8974358974359005, &quot;y&quot;: 2.1538461538461533, &quot;z&quot;: 3.110256238330096}, {&quot;x&quot;: 5.8974358974359005, &quot;y&quot;: 2.2307692307692304, &quot;z&quot;: 3.333153073935962}, {&quot;x&quot;: 5.8974358974359005, &quot;y&quot;: 2.3076923076923075, &quot;z&quot;: 3.563870851142034}, {&quot;x&quot;: 5.8974358974359005, &quot;y&quot;: 2.3846153846153846, &quot;z&quot;: 3.8024095699483125}, {&quot;x&quot;: 5.8974358974359005, &quot;y&quot;: 2.4615384615384617, &quot;z&quot;: 4.048769230354795}, {&quot;x&quot;: 5.8974358974359005, &quot;y&quot;: 2.5384615384615388, &quot;z&quot;: 4.3029498323614845}, {&quot;x&quot;: 5.8974358974359005, &quot;y&quot;: 2.615384615384616, &quot;z&quot;: 4.56495137596838}, {&quot;x&quot;: 5.8974358974359005, &quot;y&quot;: 2.692307692307693, &quot;z&quot;: 4.834773861175481}, {&quot;x&quot;: 5.8974358974359005, &quot;y&quot;: 2.76923076923077, &quot;z&quot;: 5.1124172879827885}, {&quot;x&quot;: 5.8974358974359005, &quot;y&quot;: 2.846153846153847, &quot;z&quot;: 5.397881656390302}, {&quot;x&quot;: 5.8974358974359005, &quot;y&quot;: 2.9230769230769242, &quot;z&quot;: 5.69116696639802}, {&quot;x&quot;: 5.8974358974359005, &quot;y&quot;: 3.0, &quot;z&quot;: 5.9922732180059395}, {&quot;x&quot;: 6.102564102564106, &quot;y&quot;: 0.07692307692307693, &quot;z&quot;: 0.04599744699734294}, {&quot;x&quot;: 6.102564102564106, &quot;y&quot;: 0.0, &quot;z&quot;: 0.04201952446738422}, {&quot;x&quot;: 6.102564102564106, &quot;y&quot;: 0.15384615384615385, &quot;z&quot;: 0.05793121458721914}, {&quot;x&quot;: 6.102564102564106, &quot;y&quot;: 0.23076923076923078, &quot;z&quot;: 0.0778208272370128}, {&quot;x&quot;: 6.102564102564106, &quot;y&quot;: 0.3076923076923077, &quot;z&quot;: 0.1056662849467239}, {&quot;x&quot;: 6.102564102564106, &quot;y&quot;: 0.38461538461538464, &quot;z&quot;: 0.14146758771635248}, {&quot;x&quot;: 6.102564102564106, &quot;y&quot;: 0.46153846153846156, &quot;z&quot;: 0.18522473554589852}, {&quot;x&quot;: 6.102564102564106, &quot;y&quot;: 0.5384615384615385, &quot;z&quot;: 0.23693772843536204}, {&quot;x&quot;: 6.102564102564106, &quot;y&quot;: 0.6153846153846154, &quot;z&quot;: 0.296606566384743}, {&quot;x&quot;: 6.102564102564106, &quot;y&quot;: 0.6923076923076923, &quot;z&quot;: 0.3642312493940413}, {&quot;x&quot;: 6.102564102564106, &quot;y&quot;: 0.7692307692307692, &quot;z&quot;: 0.43981177746325717}, {&quot;x&quot;: 6.102564102564106, &quot;y&quot;: 0.846153846153846, &quot;z&quot;: 0.5233481505923904}, {&quot;x&quot;: 6.102564102564106, &quot;y&quot;: 0.9230769230769229, &quot;z&quot;: 0.6148403687814412}, {&quot;x&quot;: 6.102564102564106, &quot;y&quot;: 0.9999999999999998, &quot;z&quot;: 0.7142884320304093}, {&quot;x&quot;: 6.102564102564106, &quot;y&quot;: 1.0769230769230766, &quot;z&quot;: 0.821692340339295}, {&quot;x&quot;: 6.102564102564106, &quot;y&quot;: 1.1538461538461535, &quot;z&quot;: 0.9370520937080979}, {&quot;x&quot;: 6.102564102564106, &quot;y&quot;: 1.2307692307692304, &quot;z&quot;: 1.0603676921368186}, {&quot;x&quot;: 6.102564102564106, &quot;y&quot;: 1.3076923076923073, &quot;z&quot;: 1.1916391356254563}, {&quot;x&quot;: 6.102564102564106, &quot;y&quot;: 1.3846153846153841, &quot;z&quot;: 1.330866424174012}, {&quot;x&quot;: 6.102564102564106, &quot;y&quot;: 1.461538461538461, &quot;z&quot;: 1.4780495577824844}, {&quot;x&quot;: 6.102564102564106, &quot;y&quot;: 1.5384615384615379, &quot;z&quot;: 1.6331885364508751}, {&quot;x&quot;: 6.102564102564106, &quot;y&quot;: 1.6153846153846148, &quot;z&quot;: 1.796283360179183}, {&quot;x&quot;: 6.102564102564106, &quot;y&quot;: 1.6923076923076916, &quot;z&quot;: 1.967334028967408}, {&quot;x&quot;: 6.102564102564106, &quot;y&quot;: 1.7692307692307685, &quot;z&quot;: 2.146340542815551}, {&quot;x&quot;: 6.102564102564106, &quot;y&quot;: 1.8461538461538454, &quot;z&quot;: 2.3333029017236107}, {&quot;x&quot;: 6.102564102564106, &quot;y&quot;: 1.9230769230769222, &quot;z&quot;: 2.5282211056915886}, {&quot;x&quot;: 6.102564102564106, &quot;y&quot;: 1.9999999999999991, &quot;z&quot;: 2.7310951547194837}, {&quot;x&quot;: 6.102564102564106, &quot;y&quot;: 2.076923076923076, &quot;z&quot;: 2.9419250488072968}, {&quot;x&quot;: 6.102564102564106, &quot;y&quot;: 2.1538461538461533, &quot;z&quot;: 3.1607107879550274}, {&quot;x&quot;: 6.102564102564106, &quot;y&quot;: 2.2307692307692304, &quot;z&quot;: 3.387452372162675}, {&quot;x&quot;: 6.102564102564106, &quot;y&quot;: 2.3076923076923075, &quot;z&quot;: 3.6221498014302407}, {&quot;x&quot;: 6.102564102564106, &quot;y&quot;: 2.3846153846153846, &quot;z&quot;: 3.8648030757577243}, {&quot;x&quot;: 6.102564102564106, &quot;y&quot;: 2.4615384615384617, &quot;z&quot;: 4.115412195145124}, {&quot;x&quot;: 6.102564102564106, &quot;y&quot;: 2.5384615384615388, &quot;z&quot;: 4.3739771595924415}, {&quot;x&quot;: 6.102564102564106, &quot;y&quot;: 2.615384615384616, &quot;z&quot;: 4.640497969099678}, {&quot;x&quot;: 6.102564102564106, &quot;y&quot;: 2.692307692307693, &quot;z&quot;: 4.91497462366683}, {&quot;x&quot;: 6.102564102564106, &quot;y&quot;: 2.76923076923077, &quot;z&quot;: 5.197407123293901}, {&quot;x&quot;: 6.102564102564106, &quot;y&quot;: 2.846153846153847, &quot;z&quot;: 5.487795467980889}, {&quot;x&quot;: 6.102564102564106, &quot;y&quot;: 2.9230769230769242, &quot;z&quot;: 5.786139657727795}, {&quot;x&quot;: 6.102564102564106, &quot;y&quot;: 3.0, &quot;z&quot;: 6.0924396925346125}, {&quot;x&quot;: 6.307692307692311, &quot;y&quot;: 0.07692307692307693, &quot;z&quot;: 0.043812574349113516}, {&quot;x&quot;: 6.307692307692311, &quot;y&quot;: 0.0, &quot;z&quot;: 0.039771587193679826}, {&quot;x&quot;: 6.307692307692311, &quot;y&quot;: 0.15384615384615385, &quot;z&quot;: 0.05593553581541457}, {&quot;x&quot;: 6.307692307692311, &quot;y&quot;: 0.23076923076923078, &quot;z&quot;: 0.07614047159258301}, {&quot;x&quot;: 6.307692307692311, &quot;y&quot;: 0.3076923076923077, &quot;z&quot;: 0.10442738168061881}, {&quot;x&quot;: 6.307692307692311, &quot;y&quot;: 0.38461538461538464, &quot;z&quot;: 0.14079626607952198}, {&quot;x&quot;: 6.307692307692311, &quot;y&quot;: 0.46153846153846156, &quot;z&quot;: 0.18524712478929253}, {&quot;x&quot;: 6.307692307692311, &quot;y&quot;: 0.5384615384615385, &quot;z&quot;: 0.23777995780993047}, {&quot;x&quot;: 6.307692307692311, &quot;y&quot;: 0.6153846153846154, &quot;z&quot;: 0.2983947651414357}, {&quot;x&quot;: 6.307692307692311, &quot;y&quot;: 0.6923076923076923, &quot;z&quot;: 0.3670915467838083}, {&quot;x&quot;: 6.307692307692311, &quot;y&quot;: 0.7692307692307692, &quot;z&quot;: 0.4438703027370483}, {&quot;x&quot;: 6.307692307692311, &quot;y&quot;: 0.846153846153846, &quot;z&quot;: 0.5287310330011558}, {&quot;x&quot;: 6.307692307692311, &quot;y&quot;: 0.9230769230769229, &quot;z&quot;: 0.6216737375761304}, {&quot;x&quot;: 6.307692307692311, &quot;y&quot;: 0.9999999999999998, &quot;z&quot;: 0.7226984164619724}, {&quot;x&quot;: 6.307692307692311, &quot;y&quot;: 1.0769230769230766, &quot;z&quot;: 0.8318050696586817}, {&quot;x&quot;: 6.307692307692311, &quot;y&quot;: 1.1538461538461535, &quot;z&quot;: 0.9489936971662586}, {&quot;x&quot;: 6.307692307692311, &quot;y&quot;: 1.2307692307692304, &quot;z&quot;: 1.0742642989847024}, {&quot;x&quot;: 6.307692307692311, &quot;y&quot;: 1.3076923076923073, &quot;z&quot;: 1.2076168751140142}, {&quot;x&quot;: 6.307692307692311, &quot;y&quot;: 1.3846153846153841, &quot;z&quot;: 1.3490514255541928}, {&quot;x&quot;: 6.307692307692311, &quot;y&quot;: 1.461538461538461, &quot;z&quot;: 1.498567950305239}, {&quot;x&quot;: 6.307692307692311, &quot;y&quot;: 1.5384615384615379, &quot;z&quot;: 1.6561664493671528}, {&quot;x&quot;: 6.307692307692311, &quot;y&quot;: 1.6153846153846148, &quot;z&quot;: 1.8218469227399336}, {&quot;x&quot;: 6.307692307692311, &quot;y&quot;: 1.6923076923076916, &quot;z&quot;: 1.9956093704235818}, {&quot;x&quot;: 6.307692307692311, &quot;y&quot;: 1.7692307692307685, &quot;z&quot;: 2.1774537924180977}, {&quot;x&quot;: 6.307692307692311, &quot;y&quot;: 1.8461538461538454, &quot;z&quot;: 2.3673801887234807}, {&quot;x&quot;: 6.307692307692311, &quot;y&quot;: 1.9230769230769222, &quot;z&quot;: 2.565388559339731}, {&quot;x&quot;: 6.307692307692311, &quot;y&quot;: 1.9999999999999991, &quot;z&quot;: 2.7714789042668486}, {&quot;x&quot;: 6.307692307692311, &quot;y&quot;: 2.076923076923076, &quot;z&quot;: 2.985651223504835}, {&quot;x&quot;: 6.307692307692311, &quot;y&quot;: 2.1538461538461533, &quot;z&quot;: 3.2079055170536876}, {&quot;x&quot;: 6.307692307692311, &quot;y&quot;: 2.2307692307692304, &quot;z&quot;: 3.438241784913408}, {&quot;x&quot;: 6.307692307692311, &quot;y&quot;: 2.3076923076923075, &quot;z&quot;: 3.676660027083996}, {&quot;x&quot;: 6.307692307692311, &quot;y&quot;: 2.3846153846153846, &quot;z&quot;: 3.9231602435654516}, {&quot;x&quot;: 6.307692307692311, &quot;y&quot;: 2.4615384615384617, &quot;z&quot;: 4.177742434357775}, {&quot;x&quot;: 6.307692307692311, &quot;y&quot;: 2.5384615384615388, &quot;z&quot;: 4.440406599460965}, {&quot;x&quot;: 6.307692307692311, &quot;y&quot;: 2.615384615384616, &quot;z&quot;: 4.711152738875022}, {&quot;x&quot;: 6.307692307692311, &quot;y&quot;: 2.692307692307693, &quot;z&quot;: 4.989980852599947}, {&quot;x&quot;: 6.307692307692311, &quot;y&quot;: 2.76923076923077, &quot;z&quot;: 5.27689094063574}, {&quot;x&quot;: 6.307692307692311, &quot;y&quot;: 2.846153846153847, &quot;z&quot;: 5.5718830029824}, {&quot;x&quot;: 6.307692307692311, &quot;y&quot;: 2.9230769230769242, &quot;z&quot;: 5.874957039639927}, {&quot;x&quot;: 6.307692307692311, &quot;y&quot;: 3.0, &quot;z&quot;: 6.186113050608316}, {&quot;x&quot;: 6.512820512820516, &quot;y&quot;: 0.07692307692307693, &quot;z&quot;: 0.041788212862459415}, {&quot;x&quot;: 6.512820512820516, &quot;y&quot;: 0.0, &quot;z&quot;: 0.03768813365638384}, {&quot;x&quot;: 6.512820512820516, &quot;y&quot;: 0.15384615384615385, &quot;z&quot;: 0.05408845048068613}, {&quot;x&quot;: 6.512820512820516, &quot;y&quot;: 0.23076923076923078, &quot;z&quot;: 0.074588846511064}, {&quot;x&quot;: 6.512820512820516, &quot;y&quot;: 0.3076923076923077, &quot;z&quot;: 0.10328940095359301}, {&quot;x&quot;: 6.512820512820516, &quot;y&quot;: 0.38461538461538464, &quot;z&quot;: 0.14019011380827318}, {&quot;x&quot;: 6.512820512820516, &quot;y&quot;: 0.46153846153846156, &quot;z&quot;: 0.1852909850751045}, {&quot;x&quot;: 6.512820512820516, &quot;y&quot;: 0.5384615384615385, &quot;z&quot;: 0.23859201475408698}, {&quot;x&quot;: 6.512820512820516, &quot;y&quot;: 0.6153846153846154, &quot;z&quot;: 0.30009320284522056}, {&quot;x&quot;: 6.512820512820516, &quot;y&quot;: 0.6923076923076923, &quot;z&quot;: 0.36979454934850525}, {&quot;x&quot;: 6.512820512820516, &quot;y&quot;: 0.7692307692307692, &quot;z&quot;: 0.44769605426394105}, {&quot;x&quot;: 6.512820512820516, &quot;y&quot;: 0.846153846153846, &quot;z&quot;: 0.5337977175915279}, {&quot;x&quot;: 6.512820512820516, &quot;y&quot;: 0.9230769230769229, &quot;z&quot;: 0.628099539331266}, {&quot;x&quot;: 6.512820512820516, &quot;y&quot;: 0.9999999999999998, &quot;z&quot;: 0.7306015194831553}, {&quot;x&quot;: 6.512820512820516, &quot;y&quot;: 1.0769230769230766, &quot;z&quot;: 0.8413036580471956}, {&quot;x&quot;: 6.512820512820516, &quot;y&quot;: 1.1538461538461535, &quot;z&quot;: 0.9602059550233871}, {&quot;x&quot;: 6.512820512820516, &quot;y&quot;: 1.2307692307692304, &quot;z&quot;: 1.0873084104117297}, {&quot;x&quot;: 6.512820512820516, &quot;y&quot;: 1.3076923076923073, &quot;z&quot;: 1.222611024212224}, {&quot;x&quot;: 6.512820512820516, &quot;y&quot;: 1.3846153846153841, &quot;z&quot;: 1.3661137964248686}, {&quot;x&quot;: 6.512820512820516, &quot;y&quot;: 1.461538461538461, &quot;z&quot;: 1.5178167270496643}, {&quot;x&quot;: 6.512820512820516, &quot;y&quot;: 1.5384615384615379, &quot;z&quot;: 1.6777198160866118}, {&quot;x&quot;: 6.512820512820516, &quot;y&quot;: 1.6153846153846148, &quot;z&quot;: 1.8458230635357102}, {&quot;x&quot;: 6.512820512820516, &quot;y&quot;: 1.6923076923076916, &quot;z&quot;: 2.02212646939696}, {&quot;x&quot;: 6.512820512820516, &quot;y&quot;: 1.7692307692307685, &quot;z&quot;: 2.206630033670361}, {&quot;x&quot;: 6.512820512820516, &quot;y&quot;: 1.8461538461538454, &quot;z&quot;: 2.399333756355912}, {&quot;x&quot;: 6.512820512820516, &quot;y&quot;: 1.9230769230769222, &quot;z&quot;: 2.6002376374536156}, {&quot;x&quot;: 6.512820512820516, &quot;y&quot;: 1.9999999999999991, &quot;z&quot;: 2.809341676963469}, {&quot;x&quot;: 6.512820512820516, &quot;y&quot;: 2.076923076923076, &quot;z&quot;: 3.026645874885475}, {&quot;x&quot;: 6.512820512820516, &quot;y&quot;: 2.1538461538461533, &quot;z&quot;: 3.2521502312196318}, {&quot;x&quot;: 6.512820512820516, &quot;y&quot;: 2.2307692307692304, &quot;z&quot;: 3.48585474596594}, {&quot;x&quot;: 6.512820512820516, &quot;y&quot;: 2.3076923076923075, &quot;z&quot;: 3.727759419124399}, {&quot;x&quot;: 6.512820512820516, &quot;y&quot;: 2.3846153846153846, &quot;z&quot;: 3.97786425069501}, {&quot;x&quot;: 6.512820512820516, &quot;y&quot;: 2.4615384615384617, &quot;z&quot;: 4.236169240677771}, {&quot;x&quot;: 6.512820512820516, &quot;y&quot;: 2.5384615384615388, &quot;z&quot;: 4.502674389072683}, {&quot;x&quot;: 6.512820512820516, &quot;y&quot;: 2.615384615384616, &quot;z&quot;: 4.777379695879747}, {&quot;x&quot;: 6.512820512820516, &quot;y&quot;: 2.692307692307693, &quot;z&quot;: 5.060285161098963}, {&quot;x&quot;: 6.512820512820516, &quot;y&quot;: 2.76923076923077, &quot;z&quot;: 5.35139078473033}, {&quot;x&quot;: 6.512820512820516, &quot;y&quot;: 2.846153846153847, &quot;z&quot;: 5.650696566773847}, {&quot;x&quot;: 6.512820512820516, &quot;y&quot;: 2.9230769230769242, &quot;z&quot;: 5.958202507229516}, {&quot;x&quot;: 6.512820512820516, &quot;y&quot;: 3.0, &quot;z&quot;: 6.27390860609733}, {&quot;x&quot;: 6.717948717948722, &quot;y&quot;: 0.07692307692307693, &quot;z&quot;: 0.03991069271652198}, {&quot;x&quot;: 6.717948717948722, &quot;y&quot;: 0.0, &quot;z&quot;: 0.035755130134652875}, {&quot;x&quot;: 6.717948717948722, &quot;y&quot;: 0.15384615384615385, &quot;z&quot;: 0.05237738046212928}, {&quot;x&quot;: 6.717948717948722, &quot;y&quot;: 0.23076923076923078, &quot;z&quot;: 0.07315519337147479}, {&quot;x&quot;: 6.717948717948722, &quot;y&quot;: 0.3076923076923077, &quot;z&quot;: 0.10224413144455849}, {&quot;x&quot;: 6.717948717948722, &quot;y&quot;: 0.38461538461538464, &quot;z&quot;: 0.13964419468138037}, {&quot;x&quot;: 6.717948717948722, &quot;y&quot;: 0.46153846153846156, &quot;z&quot;: 0.1853553830819405}, {&quot;x&quot;: 6.717948717948722, &quot;y&quot;: 0.5384615384615385, &quot;z&quot;: 0.23937769664623884}, {&quot;x&quot;: 6.717948717948722, &quot;y&quot;: 0.6153846153846154, &quot;z&quot;: 0.30171113537427535}, {&quot;x&quot;: 6.717948717948722, &quot;y&quot;: 0.6923076923076923, &quot;z&quot;: 0.37235569926605}, {&quot;x&quot;: 6.717948717948722, &quot;y&quot;: 0.7692307692307692, &quot;z&quot;: 0.45131138832156287}, {&quot;x&quot;: 6.717948717948722, &quot;y&quot;: 0.846153846153846, &quot;z&quot;: 0.538578202540814}, {&quot;x&quot;: 6.717948717948722, &quot;y&quot;: 0.9230769230769229, &quot;z&quot;: 0.6341561419238032}, {&quot;x&quot;: 6.717948717948722, &quot;y&quot;: 0.9999999999999998, &quot;z&quot;: 0.7380452064705306}, {&quot;x&quot;: 6.717948717948722, &quot;y&quot;: 1.0769230769230766, &quot;z&quot;: 0.8502453961809963}, {&quot;x&quot;: 6.717948717948722, &quot;y&quot;: 1.1538461538461535, &quot;z&quot;: 0.9707567110552001}, {&quot;x&quot;: 6.717948717948722, &quot;y&quot;: 1.2307692307692304, &quot;z&quot;: 1.0995791510931419}, {&quot;x&quot;: 6.717948717948722, &quot;y&quot;: 1.3076923076923073, &quot;z&quot;: 1.2367127162948222}, {&quot;x&quot;: 6.717948717948722, &quot;y&quot;: 1.3846153846153841, &quot;z&quot;: 1.3821574066602405}, {&quot;x&quot;: 6.717948717948722, &quot;y&quot;: 1.461538461538461, &quot;z&quot;: 1.535913222189397}, {&quot;x&quot;: 6.717948717948722, &quot;y&quot;: 1.5384615384615379, &quot;z&quot;: 1.697980162882292}, {&quot;x&quot;: 6.717948717948722, &quot;y&quot;: 1.6153846153846148, &quot;z&quot;: 1.8683582287389249}, {&quot;x&quot;: 6.717948717948722, &quot;y&quot;: 1.6923076923076916, &quot;z&quot;: 2.0470474197592963}, {&quot;x&quot;: 6.717948717948722, &quot;y&quot;: 1.7692307692307685, &quot;z&quot;: 2.2340477359434057}, {&quot;x&quot;: 6.717948717948722, &quot;y&quot;: 1.8461538461538454, &quot;z&quot;: 2.429359177291253}, {&quot;x&quot;: 6.717948717948722, &quot;y&quot;: 1.9230769230769222, &quot;z&quot;: 2.632981743802839}, {&quot;x&quot;: 6.717948717948722, &quot;y&quot;: 1.9999999999999991, &quot;z&quot;: 2.844915435478163}, {&quot;x&quot;: 6.717948717948722, &quot;y&quot;: 2.076923076923076, &quot;z&quot;: 3.065160252317226}, {&quot;x&quot;: 6.717948717948722, &quot;y&quot;: 2.1538461538461533, &quot;z&quot;: 3.2937161943200266}, {&quot;x&quot;: 6.717948717948722, &quot;y&quot;: 2.2307692307692304, &quot;z&quot;: 3.5305832614865658}, {&quot;x&quot;: 6.717948717948722, &quot;y&quot;: 2.3076923076923075, &quot;z&quot;: 3.775761453816843}, {&quot;x&quot;: 6.717948717948722, &quot;y&quot;: 2.3846153846153846, &quot;z&quot;: 4.029250771310858}, {&quot;x&quot;: 6.717948717948722, &quot;y&quot;: 2.4615384615384617, &quot;z&quot;: 4.291051213968612}, {&quot;x&quot;: 6.717948717948722, &quot;y&quot;: 2.5384615384615388, &quot;z&quot;: 4.561162781790104}, {&quot;x&quot;: 6.717948717948722, &quot;y&quot;: 2.615384615384616, &quot;z&quot;: 4.839585474775334}, {&quot;x&quot;: 6.717948717948722, &quot;y&quot;: 2.692307692307693, &quot;z&quot;: 5.126319292924303}, {&quot;x&quot;: 6.717948717948722, &quot;y&quot;: 2.76923076923077, &quot;z&quot;: 5.42136423623701}, {&quot;x&quot;: 6.717948717948722, &quot;y&quot;: 2.846153846153847, &quot;z&quot;: 5.724720304713455}, {&quot;x&quot;: 6.717948717948722, &quot;y&quot;: 2.9230769230769242, &quot;z&quot;: 6.036387498353639}, {&quot;x&quot;: 6.717948717948722, &quot;y&quot;: 3.0, &quot;z&quot;: 6.356365817157555}, {&quot;x&quot;: 6.923076923076927, &quot;y&quot;: 0.07692307692307693, &quot;z&quot;: 0.038167459318962926}, {&quot;x&quot;: 6.923076923076927, &quot;y&quot;: 0.0, &quot;z&quot;: 0.03395970126505102}, {&quot;x&quot;: 6.923076923076927, &quot;y&quot;: 0.15384615384615385, &quot;z&quot;: 0.050790733480698624}, {&quot;x&quot;: 6.923076923076927, &quot;y&quot;: 0.23076923076923078, &quot;z&quot;: 0.07182952375025815}, {&quot;x&quot;: 6.923076923076927, &quot;y&quot;: 0.3076923076923077, &quot;z&quot;: 0.10128383012764146}, {&quot;x&quot;: 6.923076923076927, &quot;y&quot;: 0.38461538461538464, &quot;z&quot;: 0.13915365261284854}, {&quot;x&quot;: 6.923076923076927, &quot;y&quot;: 0.46153846153846156, &quot;z&quot;: 0.18543899120587948}, {&quot;x&quot;: 6.923076923076927, &quot;y&quot;: 0.5384615384615385, &quot;z&quot;: 0.24013984590673423}, {&quot;x&quot;: 6.923076923076927, &quot;y&quot;: 0.6153846153846154, &quot;z&quot;: 0.3032562167154127}, {&quot;x&quot;: 6.923076923076927, &quot;y&quot;: 0.6923076923076923, &quot;z&quot;: 0.37478810363191495}, {&quot;x&quot;: 6.923076923076927, &quot;y&quot;: 0.7692307692307692, &quot;z&quot;: 0.4547355066562411}, {&quot;x&quot;: 6.923076923076927, &quot;y&quot;: 0.846153846153846, &quot;z&quot;: 0.5430984257883908}, {&quot;x&quot;: 6.923076923076927, &quot;y&quot;: 0.9230769230769229, &quot;z&quot;: 0.6398768610283645}, {&quot;x&quot;: 6.923076923076927, &quot;y&quot;: 0.9999999999999998, &quot;z&quot;: 0.745070812376162}, {&quot;x&quot;: 6.923076923076927, &quot;y&quot;: 1.0769230769230766, &quot;z&quot;: 0.8586802798317832}, {&quot;x&quot;: 6.923076923076927, &quot;y&quot;: 1.1538461538461535, &quot;z&quot;: 0.9807052633952282}, {&quot;x&quot;: 6.923076923076927, &quot;y&quot;: 1.2307692307692304, &quot;z&quot;: 1.1111457630664971}, {&quot;x&quot;: 6.923076923076927, &quot;y&quot;: 1.3076923076923073, &quot;z&quot;: 1.25000177884559}, {&quot;x&quot;: 6.923076923076927, &quot;y&quot;: 1.3846153846153841, &quot;z&quot;: 1.3972733107325062}, {&quot;x&quot;: 6.923076923076927, &quot;y&quot;: 1.461538461538461, &quot;z&quot;: 1.5529603587272462}, {&quot;x&quot;: 6.923076923076927, &quot;y&quot;: 1.5384615384615379, &quot;z&quot;: 1.7170629228298104}, {&quot;x&quot;: 6.923076923076927, &quot;y&quot;: 1.6153846153846148, &quot;z&quot;: 1.889581003040198}, {&quot;x&quot;: 6.923076923076927, &quot;y&quot;: 1.6923076923076916, &quot;z&quot;: 2.0705145993584093}, {&quot;x&quot;: 6.923076923076927, &quot;y&quot;: 1.7692307692307685, &quot;z&quot;: 2.259863711784445}, {&quot;x&quot;: 6.923076923076927, &quot;y&quot;: 1.8461538461538454, &quot;z&quot;: 2.4576283403183035}, {&quot;x&quot;: 6.923076923076927, &quot;y&quot;: 1.9230769230769222, &quot;z&quot;: 2.663808484959987}, {&quot;x&quot;: 6.923076923076927, &quot;y&quot;: 1.9999999999999991, &quot;z&quot;: 2.878404145709493}, {&quot;x&quot;: 6.923076923076927, &quot;y&quot;: 2.076923076923076, &quot;z&quot;: 3.101415322566825}, {&quot;x&quot;: 6.923076923076927, &quot;y&quot;: 2.1538461538461533, &quot;z&quot;: 3.3328420155319796}, {&quot;x&quot;: 6.923076923076927, &quot;y&quot;: 2.2307692307692304, &quot;z&quot;: 3.5726842246049584}, {&quot;x&quot;: 6.923076923076927, &quot;y&quot;: 2.3076923076923075, &quot;z&quot;: 3.8209419497857606}, {&quot;x&quot;: 6.923076923076927, &quot;y&quot;: 2.3846153846153846, &quot;z&quot;: 4.077615191074388}, {&quot;x&quot;: 6.923076923076927, &quot;y&quot;: 2.4615384615384617, &quot;z&quot;: 4.342703948470838}, {&quot;x&quot;: 6.923076923076927, &quot;y&quot;: 2.5384615384615388, &quot;z&quot;: 4.6162082219751115}, {&quot;x&quot;: 6.923076923076927, &quot;y&quot;: 2.615384615384616, &quot;z&quot;: 4.89812801158721}, {&quot;x&quot;: 6.923076923076927, &quot;y&quot;: 2.692307692307693, &quot;z&quot;: 5.188463317307132}, {&quot;x&quot;: 6.923076923076927, &quot;y&quot;: 2.76923076923077, &quot;z&quot;: 5.487214139134878}, {&quot;x&quot;: 6.923076923076927, &quot;y&quot;: 2.846153846153847, &quot;z&quot;: 5.7943804770704475}, {&quot;x&quot;: 6.923076923076927, &quot;y&quot;: 2.9230769230769242, &quot;z&quot;: 6.109962331113842}, {&quot;x&quot;: 6.923076923076927, &quot;y&quot;: 3.0, &quot;z&quot;: 6.433959701265052}, {&quot;x&quot;: 7.128205128205132, &quot;y&quot;: 0.07692307692307693, &quot;z&quot;: 0.036547041583629127}, {&quot;x&quot;: 7.128205128205132, &quot;y&quot;: 0.0, &quot;z&quot;: 0.032290092113619336}, {&quot;x&quot;: 7.128205128205132, &quot;y&quot;: 0.15384615384615385, &quot;z&quot;: 0.049317889993658506}, {&quot;x&quot;: 7.128205128205132, &quot;y&quot;: 0.23076923076923078, &quot;z&quot;: 0.07060263734370746}, {&quot;x&quot;: 7.128205128205132, &quot;y&quot;: 0.3076923076923077, &quot;z&quot;: 0.10040128363377603}, {&quot;x&quot;: 7.128205128205132, &quot;y&quot;: 0.38461538461538464, &quot;z&quot;: 0.13871382886386416}, {&quot;x&quot;: 7.128205128205132, &quot;y&quot;: 0.46153846153846156, &quot;z&quot;: 0.1855402730339719}, {&quot;x&quot;: 7.128205128205132, &quot;y&quot;: 0.5384615384615385, &quot;z&quot;: 0.24088061614409922}, {&quot;x&quot;: 7.128205128205132, &quot;y&quot;: 0.6153846153846154, &quot;z&quot;: 0.30473485819424606}, {&quot;x&quot;: 7.128205128205132, &quot;y&quot;: 0.6923076923076923, &quot;z&quot;: 0.3771029991844124}, {&quot;x&quot;: 7.128205128205132, &quot;y&quot;: 0.7692307692307692, &quot;z&quot;: 0.4579850391145984}, {&quot;x&quot;: 7.128205128205132, &quot;y&quot;: 0.846153846153846, &quot;z&quot;: 0.547380977984804}, {&quot;x&quot;: 7.128205128205132, &quot;y&quot;: 0.9230769230769229, &quot;z&quot;: 0.6452908157950291}, {&quot;x&quot;: 7.128205128205132, &quot;y&quot;: 0.9999999999999998, &quot;z&quot;: 0.7517145525452739}, {&quot;x&quot;: 7.128205128205132, &quot;y&quot;: 1.0769230769230766, &quot;z&quot;: 0.8666521882355382}, {&quot;x&quot;: 7.128205128205132, &quot;y&quot;: 1.1538461538461535, &quot;z&quot;: 0.990103722865822}, {&quot;x&quot;: 7.128205128205132, &quot;y&quot;: 1.2307692307692304, &quot;z&quot;: 1.1220691564361254}, {&quot;x&quot;: 7.128205128205132, &quot;y&quot;: 1.3076923076923073, &quot;z&quot;: 1.2625484889464484}, {&quot;x&quot;: 7.128205128205132, &quot;y&quot;: 1.3846153846153841, &quot;z&quot;: 1.411541720396791}, {&quot;x&quot;: 7.128205128205132, &quot;y&quot;: 1.461538461538461, &quot;z&quot;: 1.569048850787153}, {&quot;x&quot;: 7.128205128205132, &quot;y&quot;: 1.5384615384615379, &quot;z&quot;: 1.7350698801175348}, {&quot;x&quot;: 7.128205128205132, &quot;y&quot;: 1.6153846153846148, &quot;z&quot;: 1.9096048083879362}, {&quot;x&quot;: 7.128205128205132, &quot;y&quot;: 1.6923076923076916, &quot;z&quot;: 2.092653635598357}, {&quot;x&quot;: 7.128205128205132, &quot;y&quot;: 1.7692307692307685, &quot;z&quot;: 2.2842163617487974}, {&quot;x&quot;: 7.128205128205132, &quot;y&quot;: 1.8461538461538454, &quot;z&quot;: 2.484292986839257}, {&quot;x&quot;: 7.128205128205132, &quot;y&quot;: 1.9230769230769222, &quot;z&quot;: 2.692883510869737}, {&quot;x&quot;: 7.128205128205132, &quot;y&quot;: 1.9999999999999991, &quot;z&quot;: 2.909987933840236}, {&quot;x&quot;: 7.128205128205132, &quot;y&quot;: 2.076923076923076, &quot;z&quot;: 3.1356062557507554}, {&quot;x&quot;: 7.128205128205132, &quot;y&quot;: 2.1538461538461533, &quot;z&quot;: 3.3697384766012948}, {&quot;x&quot;: 7.128205128205132, &quot;y&quot;: 2.2307692307692304, &quot;z&quot;: 3.612384596391853}, {&quot;x&quot;: 7.128205128205132, &quot;y&quot;: 2.3076923076923075, &quot;z&quot;: 3.863544615122431}, {&quot;x&quot;: 7.128205128205132, &quot;y&quot;: 2.3846153846153846, &quot;z&quot;: 4.12321853279303}, {&quot;x&quot;: 7.128205128205132, &quot;y&quot;: 2.4615384615384617, &quot;z&quot;: 4.391406349403647}, {&quot;x&quot;: 7.128205128205132, &quot;y&quot;: 2.5384615384615388, &quot;z&quot;: 4.668108064954284}, {&quot;x&quot;: 7.128205128205132, &quot;y&quot;: 2.615384615384616, &quot;z&quot;: 4.9533236794449405}, {&quot;x&quot;: 7.128205128205132, &quot;y&quot;: 2.692307692307693, &quot;z&quot;: 5.247053192875617}, {&quot;x&quot;: 7.128205128205132, &quot;y&quot;: 2.76923076923077, &quot;z&quot;: 5.5492966052463135}, {&quot;x&quot;: 7.128205128205132, &quot;y&quot;: 2.846153846153847, &quot;z&quot;: 5.860053916557029}, {&quot;x&quot;: 7.128205128205132, &quot;y&quot;: 2.9230769230769242, &quot;z&quot;: 6.179325126807765}, {&quot;x&quot;: 7.128205128205132, &quot;y&quot;: 3.0, &quot;z&quot;: 6.507110235998513}, {&quot;x&quot;: 7.3333333333333375, &quot;y&quot;: 0.07692307692307693, &quot;z&quot;: 0.03503899441020169}, {&quot;x&quot;: 7.3333333333333375, &quot;y&quot;: 0.0, &quot;z&quot;: 0.030735605491428154}, {&quot;x&quot;: 7.3333333333333375, &quot;y&quot;: 0.15384615384615385, &quot;z&quot;: 0.04794916116652229}, {&quot;x&quot;: 7.3333333333333375, &quot;y&quot;: 0.23076923076923078, &quot;z&quot;: 0.06946610576038997}, {&quot;x&quot;: 7.3333333333333375, &quot;y&quot;: 0.3076923076923077, &quot;z&quot;: 0.09958982819180472}, {&quot;x&quot;: 7.3333333333333375, &quot;y&quot;: 0.38461538461538464, &quot;z&quot;: 0.13832032846076653}, {&quot;x&quot;: 7.3333333333333375, &quot;y&quot;: 0.46153846153846156, &quot;z&quot;: 0.18565760656727542}, {&quot;x&quot;: 7.3333333333333375, &quot;y&quot;: 0.5384615384615385, &quot;z&quot;: 0.24160166251133144}, {&quot;x&quot;: 7.3333333333333375, &quot;y&quot;: 0.6153846153846154, &quot;z&quot;: 0.3061524962929344}, {&quot;x&quot;: 7.3333333333333375, &quot;y&quot;: 0.6923076923076923, &quot;z&quot;: 0.3793101079120844}, {&quot;x&quot;: 7.3333333333333375, &quot;y&quot;: 0.7692307692307692, &quot;z&quot;: 0.4610744973687816}, {&quot;x&quot;: 7.3333333333333375, &quot;y&quot;: 0.846153846153846, &quot;z&quot;: 0.5514456646630258}, {&quot;x&quot;: 7.3333333333333375, &quot;y&quot;: 0.9230769230769229, &quot;z&quot;: 0.650423609794817}, {&quot;x&quot;: 7.3333333333333375, &quot;y&quot;: 0.9999999999999998, &quot;z&quot;: 0.7580083327641552}, {&quot;x&quot;: 7.3333333333333375, &quot;y&quot;: 1.0769230769230766, &quot;z&quot;: 0.8741998335710407}, {&quot;x&quot;: 7.3333333333333375, &quot;y&quot;: 1.1538461538461535, &quot;z&quot;: 0.9989981122154732}, {&quot;x&quot;: 7.3333333333333375, &quot;y&quot;: 1.2307692307692304, &quot;z&quot;: 1.1324031686974527}, {&quot;x&quot;: 7.3333333333333375, &quot;y&quot;: 1.3076923076923073, &quot;z&quot;: 1.2744150030169792}, {&quot;x&quot;: 7.3333333333333375, &quot;y&quot;: 1.3846153846153841, &quot;z&quot;: 1.4250336151740528}, {&quot;x&quot;: 7.3333333333333375, &quot;y&quot;: 1.461538461538461, &quot;z&quot;: 1.5842590051686731}, {&quot;x&quot;: 7.3333333333333375, &quot;y&quot;: 1.5384615384615379, &quot;z&quot;: 1.752091173000841}, {&quot;x&quot;: 7.3333333333333375, &quot;y&quot;: 1.6153846153846148, &quot;z&quot;: 1.9285301186705557}, {&quot;x&quot;: 7.3333333333333375, &quot;y&quot;: 1.6923076923076916, &quot;z&quot;: 2.113575842177817}, {&quot;x&quot;: 7.3333333333333375, &quot;y&quot;: 1.7692307692307685, &quot;z&quot;: 2.3072283435226257}, {&quot;x&quot;: 7.3333333333333375, &quot;y&quot;: 1.8461538461538454, &quot;z&quot;: 2.509487622704982}, {&quot;x&quot;: 7.3333333333333375, &quot;y&quot;: 1.9230769230769222, &quot;z&quot;: 2.7203536797248846}, {&quot;x&quot;: 7.3333333333333375, &quot;y&quot;: 1.9999999999999991, &quot;z&quot;: 2.939826514582335}, {&quot;x&quot;: 7.3333333333333375, &quot;y&quot;: 2.076923076923076, &quot;z&quot;: 3.167906127277333}, {&quot;x&quot;: 7.3333333333333375, &quot;y&quot;: 2.1538461538461533, &quot;z&quot;: 3.4045925178098777}, {&quot;x&quot;: 7.3333333333333375, &quot;y&quot;: 2.2307692307692304, &quot;z&quot;: 3.649885686179969}, {&quot;x&quot;: 7.3333333333333375, &quot;y&quot;: 2.3076923076923075, &quot;z&quot;: 3.903785632387608}, {&quot;x&quot;: 7.3333333333333375, &quot;y&quot;: 2.3846153846153846, &quot;z&quot;: 4.166292356432795}, {&quot;x&quot;: 7.3333333333333375, &quot;y&quot;: 2.4615384615384617, &quot;z&quot;: 4.437405858315528}, {&quot;x&quot;: 7.3333333333333375, &quot;y&quot;: 2.5384615384615388, &quot;z&quot;: 4.717126138035808}, {&quot;x&quot;: 7.3333333333333375, &quot;y&quot;: 2.615384615384616, &quot;z&quot;: 5.005453195593636}, {&quot;x&quot;: 7.3333333333333375, &quot;y&quot;: 2.692307692307693, &quot;z&quot;: 5.302387030989011}, {&quot;x&quot;: 7.3333333333333375, &quot;y&quot;: 2.76923076923077, &quot;z&quot;: 5.607927644221933}, {&quot;x&quot;: 7.3333333333333375, &quot;y&quot;: 2.846153846153847, &quot;z&quot;: 5.922075035292401}, {&quot;x&quot;: 7.3333333333333375, &quot;y&quot;: 2.9230769230769242, &quot;z&quot;: 6.244829204200418}, {&quot;x&quot;: 7.3333333333333375, &quot;y&quot;: 3.0, &quot;z&quot;: 6.576190150945974}, {&quot;x&quot;: 7.538461538461543, &quot;y&quot;: 0.07692307692307693, &quot;z&quot;: 0.033633828026984246}, {&quot;x&quot;: 7.538461538461543, &quot;y&quot;: 0.0, &quot;z&quot;: 0.029286526976386493}, {&quot;x&quot;: 7.538461538461543, &quot;y&quot;: 0.15384615384615385, &quot;z&quot;: 0.04667573117877751}, {&quot;x&quot;: 7.538461538461543, &quot;y&quot;: 0.23076923076923078, &quot;z&quot;: 0.06841223643176629}, {&quot;x&quot;: 7.538461538461543, &quot;y&quot;: 0.3076923076923077, &quot;z&quot;: 0.09884334378595057}, {&quot;x&quot;: 7.538461538461543, &quot;y&quot;: 0.38461538461538464, &quot;z&quot;: 0.13796905324133038}, {&quot;x&quot;: 7.538461538461543, &quot;y&quot;: 0.46153846153846156, &quot;z&quot;: 0.1857893647979057}, {&quot;x&quot;: 7.538461538461543, &quot;y&quot;: 0.5384615384615385, &quot;z&quot;: 0.24230427845567656}, {&quot;x&quot;: 7.538461538461543, &quot;y&quot;: 0.6153846153846154, &quot;z&quot;: 0.30751379421464287}, {&quot;x&quot;: 7.538461538461543, &quot;y&quot;: 0.6923076923076923, &quot;z&quot;: 0.38141791207480463}, {&quot;x&quot;: 7.538461538461543, &quot;y&quot;: 0.7692307692307692, &quot;z&quot;: 0.4640166320361619}, {&quot;x&quot;: 7.538461538461543, &quot;y&quot;: 0.846153846153846, &quot;z&quot;: 0.5553099540987146}, {&quot;x&quot;: 7.538461538461543, &quot;y&quot;: 0.9230769230769229, &quot;z&quot;: 0.6552978782624629}, {&quot;x&quot;: 7.538461538461543, &quot;y&quot;: 0.9999999999999998, &quot;z&quot;: 0.7639804045274067}, {&quot;x&quot;: 7.538461538461543, &quot;y&quot;: 1.0769230769230766, &quot;z&quot;: 0.881357532893546}, {&quot;x&quot;: 7.538461538461543, &quot;y&quot;: 1.1538461538461535, &quot;z&quot;: 1.0074292633608808}, {&quot;x&quot;: 7.538461538461543, &quot;y&quot;: 1.2307692307692304, &quot;z&quot;: 1.142195595929411}, {&quot;x&quot;: 7.538461538461543, &quot;y&quot;: 1.3076923076923073, &quot;z&quot;: 1.2856565305991368}, {&quot;x&quot;: 7.538461538461543, &quot;y&quot;: 1.3846153846153841, &quot;z&quot;: 1.437812067370058}, {&quot;x&quot;: 7.538461538461543, &quot;y&quot;: 1.461538461538461, &quot;z&quot;: 1.5986622062421747}, {&quot;x&quot;: 7.538461538461543, &quot;y&quot;: 1.5384615384615379, &quot;z&quot;: 1.768206947215487}, {&quot;x&quot;: 7.538461538461543, &quot;y&quot;: 1.6153846153846148, &quot;z&quot;: 1.9464462902899948}, {&quot;x&quot;: 7.538461538461543, &quot;y&quot;: 1.6923076923076916, &quot;z&quot;: 2.133380235465698}, {&quot;x&quot;: 7.538461538461543, &quot;y&quot;: 1.7692307692307685, &quot;z&quot;: 2.329008782742597}, {&quot;x&quot;: 7.538461538461543, &quot;y&quot;: 1.8461538461538454, &quot;z&quot;: 2.533331932120691}, {&quot;x&quot;: 7.538461538461543, &quot;y&quot;: 1.9230769230769222, &quot;z&quot;: 2.746349683599981}, {&quot;x&quot;: 7.538461538461543, &quot;y&quot;: 1.9999999999999991, &quot;z&quot;: 2.968062037180466}, {&quot;x&quot;: 7.538461538461543, &quot;y&quot;: 2.076923076923076, &quot;z&quot;: 3.1984689928621477}, {&quot;x&quot;: 7.538461538461543, &quot;y&quot;: 2.1538461538461533, &quot;z&quot;: 3.4375705506450247}, {&quot;x&quot;: 7.538461538461543, &quot;y&quot;: 2.2307692307692304, &quot;z&quot;: 3.6853667105290966}, {&quot;x&quot;: 7.538461538461543, &quot;y&quot;: 2.3076923076923075, &quot;z&quot;: 3.9418574725143647}, {&quot;x&quot;: 7.538461538461543, &quot;y&quot;: 2.3846153846153846, &quot;z&quot;: 4.207042836600829}, {&quot;x&quot;: 7.538461538461543, &quot;y&quot;: 2.4615384615384617, &quot;z&quot;: 4.480922802788489}, {&quot;x&quot;: 7.538461538461543, &quot;y&quot;: 2.5384615384615388, &quot;z&quot;: 4.763497371077342}, {&quot;x&quot;: 7.538461538461543, &quot;y&quot;: 2.615384615384616, &quot;z&quot;: 5.054766541467393}, {&quot;x&quot;: 7.538461538461543, &quot;y&quot;: 2.692307692307693, &quot;z&quot;: 5.354730313958639}, {&quot;x&quot;: 7.538461538461543, &quot;y&quot;: 2.76923076923077, &quot;z&quot;: 5.6633886885510805}, {&quot;x&quot;: 7.538461538461543, &quot;y&quot;: 2.846153846153847, &quot;z&quot;: 5.980741665244718}, {&quot;x&quot;: 7.538461538461543, &quot;y&quot;: 2.9230769230769242, &quot;z&quot;: 6.30678924403955}, {&quot;x&quot;: 7.538461538461543, &quot;y&quot;: 3.0, &quot;z&quot;: 6.641531424935572}, {&quot;x&quot;: 7.743589743589748, &quot;y&quot;: 0.07692307692307693, &quot;z&quot;: 0.03232293214813839}, {&quot;x&quot;: 7.743589743589748, &quot;y&quot;: 0.0, &quot;z&quot;: 0.027934045436276634}, {&quot;x&quot;: 7.743589743589748, &quot;y&quot;: 0.15384615384615385, &quot;z&quot;: 0.045489592283723644}, {&quot;x&quot;: 7.743589743589748, &quot;y&quot;: 0.23076923076923078, &quot;z&quot;: 0.06743402584303239}, {&quot;x&quot;: 7.743589743589748, &quot;y&quot;: 0.3076923076923077, &quot;z&quot;: 0.09815623282606466}, {&quot;x&quot;: 7.743589743589748, &quot;y&quot;: 0.38461538461538464, &quot;z&quot;: 0.13765621323282043}, {&quot;x&quot;: 7.743589743589748, &quot;y&quot;: 0.46153846153846156, &quot;z&quot;: 0.1859339670632997}, {&quot;x&quot;: 7.743589743589748, &quot;y&quot;: 0.5384615384615385, &quot;z&quot;: 0.2429894943175025}, {&quot;x&quot;: 7.743589743589748, &quot;y&quot;: 0.6153846153846154, &quot;z&quot;: 0.30882279499542875}, {&quot;x&quot;: 7.743589743589748, &quot;y&quot;: 0.6923076923076923, &quot;z&quot;: 0.38343386909707844}, {&quot;x&quot;: 7.743589743589748, &quot;y&quot;: 0.7692307692307692, &quot;z&quot;: 0.46682271662245167}, {&quot;x&quot;: 7.743589743589748, &quot;y&quot;: 0.846153846153846, &quot;z&quot;: 0.5589893375715482}, {&quot;x&quot;: 7.743589743589748, &quot;y&quot;: 0.9230769230769229, &quot;z&quot;: 0.6599337319443684}, {&quot;x&quot;: 7.743589743589748, &quot;y&quot;: 0.9999999999999998, &quot;z&quot;: 0.7696558997409121}, {&quot;x&quot;: 7.743589743589748, &quot;y&quot;: 1.0769230769230766, &quot;z&quot;: 0.8881558409611793}, {&quot;x&quot;: 7.743589743589748, &quot;y&quot;: 1.1538461538461535, &quot;z&quot;: 1.0154335556051701}, {&quot;x&quot;: 7.743589743589748, &quot;y&quot;: 1.2307692307692304, &quot;z&quot;: 1.1514890436728842}, {&quot;x&quot;: 7.743589743589748, &quot;y&quot;: 1.3076923076923073, &quot;z&quot;: 1.2963223051643218}, {&quot;x&quot;: 7.743589743589748, &quot;y&quot;: 1.3846153846153841, &quot;z&quot;: 1.449933340079483}, {&quot;x&quot;: 7.743589743589748, &quot;y&quot;: 1.461538461538461, &quot;z&quot;: 1.6123221484183674}, {&quot;x&quot;: 7.743589743589748, &quot;y&quot;: 1.5384615384615379, &quot;z&quot;: 1.7834887301809759}, {&quot;x&quot;: 7.743589743589748, &quot;y&quot;: 1.6153846153846148, &quot;z&quot;: 1.9634330853673072}, {&quot;x&quot;: 7.743589743589748, &quot;y&quot;: 1.6923076923076916, &quot;z&quot;: 2.1521552139773625}, {&quot;x&quot;: 7.743589743589748, &quot;y&quot;: 1.7692307692307685, &quot;z&quot;: 2.349655116011141}, {&quot;x&quot;: 7.743589743589748, &quot;y&quot;: 1.8461538461538454, &quot;z&quot;: 2.555932791468643}, {&quot;x&quot;: 7.743589743589748, &quot;y&quot;: 1.9230769230769222, &quot;z&quot;: 2.7709882403498685}, {&quot;x&quot;: 7.743589743589748, &quot;y&quot;: 1.9999999999999991, &quot;z&quot;: 2.994821462654818}, {&quot;x&quot;: 7.743589743589748, &quot;y&quot;: 2.076923076923076, &quot;z&quot;: 3.227432458383491}, {&quot;x&quot;: 7.743589743589748, &quot;y&quot;: 2.1538461538461533, &quot;z&quot;: 3.4688212275358876}, {&quot;x&quot;: 7.743589743589748, &quot;y&quot;: 2.2307692307692304, &quot;z&quot;: 3.7189877701120078}, {&quot;x&quot;: 7.743589743589748, &quot;y&quot;: 2.3076923076923075, &quot;z&quot;: 3.9779320861118515}, {&quot;x&quot;: 7.743589743589748, &quot;y&quot;: 2.3846153846153846, &quot;z&quot;: 4.24565417553542}, {&quot;x&quot;: 7.743589743589748, &quot;y&quot;: 2.4615384615384617, &quot;z&quot;: 4.522154038382711}, {&quot;x&quot;: 7.743589743589748, &quot;y&quot;: 2.5384615384615388, &quot;z&quot;: 4.807431674653724}, {&quot;x&quot;: 7.743589743589748, &quot;y&quot;: 2.615384615384616, &quot;z&quot;: 5.101487084348463}, {&quot;x&quot;: 7.743589743589748, &quot;y&quot;: 2.692307692307693, &quot;z&quot;: 5.404320267466924}, {&quot;x&quot;: 7.743589743589748, &quot;y&quot;: 2.76923076923077, &quot;z&quot;: 5.715931224009109}, {&quot;x&quot;: 7.743589743589748, &quot;y&quot;: 2.846153846153847, &quot;z&quot;: 6.036319953975019}, {&quot;x&quot;: 7.743589743589748, &quot;y&quot;: 2.9230769230769242, &quot;z&quot;: 6.365486457364651}, {&quot;x&quot;: 7.743589743589748, &quot;y&quot;: 3.0, &quot;z&quot;: 6.703430734178}, {&quot;x&quot;: 7.948717948717953, &quot;y&quot;: 0.07692307692307693, &quot;z&quot;: 0.031098499840291546}, {&quot;x&quot;: 7.948717948717953, &quot;y&quot;: 0.0, &quot;z&quot;: 0.026670173823876202}, {&quot;x&quot;: 7.948717948717953, &quot;y&quot;: 0.15384615384615385, &quot;z&quot;: 0.0443834778895376}, {&quot;x&quot;: 7.948717948717953, &quot;y&quot;: 0.23076923076923078, &quot;z&quot;: 0.06652510797161433}, {&quot;x&quot;: 7.948717948717953, &quot;y&quot;: 0.3076923076923077, &quot;z&quot;: 0.09752339008652176}, {&quot;x&quot;: 7.948717948717953, &quot;y&quot;: 0.38461538461538464, &quot;z&quot;: 0.13737832423425989}, {&quot;x&quot;: 7.948717948717953, &quot;y&quot;: 0.46153846153846156, &quot;z&quot;: 0.18608991041482872}, {&quot;x&quot;: 7.948717948717953, &quot;y&quot;: 0.5384615384615385, &quot;z&quot;: 0.24365814862822827}, {&quot;x&quot;: 7.948717948717953, &quot;y&quot;: 0.6153846153846154, &quot;z&quot;: 0.3100830388744585}, {&quot;x&quot;: 7.948717948717953, &quot;y&quot;: 0.6923076923076923, &quot;z&quot;: 0.3853645811535193}, {&quot;x&quot;: 7.948717948717953, &quot;y&quot;: 0.7692307692307692, &quot;z&quot;: 0.4695027754654109}, {&quot;x&quot;: 7.948717948717953, &quot;y&quot;: 0.846153846153846, &quot;z&quot;: 0.562497621810133}, {&quot;x&quot;: 7.948717948717953, &quot;y&quot;: 0.9230769230769229, &quot;z&quot;: 0.6643491201876859}, {&quot;x&quot;: 7.948717948717953, &quot;y&quot;: 0.9999999999999998, &quot;z&quot;: 0.7750572705980695}, {&quot;x&quot;: 7.948717948717953, &quot;y&quot;: 1.0769230769230766, &quot;z&quot;: 0.8946220730412838}, {&quot;x&quot;: 7.948717948717953, &quot;y&quot;: 1.1538461538461535, &quot;z&quot;: 1.0230435275173289}, {&quot;x&quot;: 7.948717948717953, &quot;y&quot;: 1.2307692307692304, &quot;z&quot;: 1.1603216340262046}, {&quot;x&quot;: 7.948717948717953, &quot;y&quot;: 1.3076923076923073, &quot;z&quot;: 1.306456392567911}, {&quot;x&quot;: 7.948717948717953, &quot;y&quot;: 1.3846153846153841, &quot;z&quot;: 1.4614478031424478}, {&quot;x&quot;: 7.948717948717953, &quot;y&quot;: 1.461538461538461, &quot;z&quot;: 1.6252958657498153}, {&quot;x&quot;: 7.948717948717953, &quot;y&quot;: 1.5384615384615379, &quot;z&quot;: 1.798000580390014}, {&quot;x&quot;: 7.948717948717953, &quot;y&quot;: 1.6153846153846148, &quot;z&quot;: 1.979561947063043}, {&quot;x&quot;: 7.948717948717953, &quot;y&quot;: 1.6923076923076916, &quot;z&quot;: 2.1699799657689023}, {&quot;x&quot;: 7.948717948717953, &quot;y&quot;: 1.7692307692307685, &quot;z&quot;: 2.3692546365075926}, {&quot;x&quot;: 7.948717948717953, &quot;y&quot;: 1.8461538461538454, &quot;z&quot;: 2.577385959279114}, {&quot;x&quot;: 7.948717948717953, &quot;y&quot;: 1.9230769230769222, &quot;z&quot;: 2.7943739340834655}, {&quot;x&quot;: 7.948717948717953, &quot;y&quot;: 1.9999999999999991, &quot;z&quot;: 3.020218560920648}, {&quot;x&quot;: 7.948717948717953, &quot;y&quot;: 2.076923076923076, &quot;z&quot;: 3.2549198397906625}, {&quot;x&quot;: 7.948717948717953, &quot;y&quot;: 2.1538461538461533, &quot;z&quot;: 3.4984777706935066}, {&quot;x&quot;: 7.948717948717953, &quot;y&quot;: 2.2307692307692304, &quot;z&quot;: 3.750892353629182}, {&quot;x&quot;: 7.948717948717953, &quot;y&quot;: 2.3076923076923075, &quot;z&quot;: 4.012163588597688}, {&quot;x&quot;: 7.948717948717953, &quot;y&quot;: 2.3846153846153846, &quot;z&quot;: 4.282291475599025}, {&quot;x&quot;: 7.948717948717953, &quot;y&quot;: 2.4615384615384617, &quot;z&quot;: 4.561276014633193}, {&quot;x&quot;: 7.948717948717953, &quot;y&quot;: 2.5384615384615388, &quot;z&quot;: 4.849117205700191}, {&quot;x&quot;: 7.948717948717953, &quot;y&quot;: 2.615384615384616, &quot;z&quot;: 5.14581504880002}, {&quot;x&quot;: 7.948717948717953, &quot;y&quot;: 2.692307692307693, &quot;z&quot;: 5.451369543932679}, {&quot;x&quot;: 7.948717948717953, &quot;y&quot;: 2.76923076923077, &quot;z&quot;: 5.76578069109817}, {&quot;x&quot;: 7.948717948717953, &quot;y&quot;: 2.846153846153847, &quot;z&quot;: 6.089048490296491}, {&quot;x&quot;: 7.948717948717953, &quot;y&quot;: 2.9230769230769242, &quot;z&quot;: 6.421172941527643}, {&quot;x&quot;: 7.948717948717953, &quot;y&quot;: 3.0, &quot;z&quot;: 6.762154044791619}, {&quot;x&quot;: 8.153846153846159, &quot;y&quot;: 0.07692307692307693, &quot;z&quot;: 0.029953454011651937}, {&quot;x&quot;: 8.153846153846159, &quot;y&quot;: 0.0, &quot;z&quot;: 0.025487673058207705}, {&quot;x&quot;: 8.153846153846159, &quot;y&quot;: 0.15384615384615385, &quot;z&quot;: 0.04335079687198465}, {&quot;x&quot;: 8.153846153846159, &quot;y&quot;: 0.23076923076923078, &quot;z&quot;: 0.0656797016392058}, {&quot;x&quot;: 8.153846153846159, &quot;y&quot;: 0.3076923076923077, &quot;z&quot;: 0.09694016831331545}, {&quot;x&quot;: 8.153846153846159, &quot;y&quot;: 0.38461538461538464, &quot;z&quot;: 0.13713219689431358}, {&quot;x&quot;: 8.153846153846159, &quot;y&quot;: 0.46153846153846156, &quot;z&quot;: 0.18625578738220017}, {&quot;x&quot;: 8.153846153846159, &quot;y&quot;: 0.5384615384615385, &quot;z&quot;: 0.24431093977697527}, {&quot;x&quot;: 8.153846153846159, &quot;y&quot;: 0.6153846153846154, &quot;z&quot;: 0.31129765407863874}, {&quot;x&quot;: 8.153846153846159, &quot;y&quot;: 0.6923076923076923, &quot;z&quot;: 0.38721593028719065}, {&quot;x&quot;: 8.153846153846159, &quot;y&quot;: 0.7692307692307692, &quot;z&quot;: 0.4720657684026311}, {&quot;x&quot;: 8.153846153846159, &quot;y&quot;: 0.846153846153846, &quot;z&quot;: 0.56584716842496}, {&quot;x&quot;: 8.153846153846159, &quot;y&quot;: 0.9230769230769229, &quot;z&quot;: 0.6685601303541773}, {&quot;x&quot;: 8.153846153846159, &quot;y&quot;: 0.9999999999999998, &quot;z&quot;: 0.7802046541902831}, {&quot;x&quot;: 8.153846153846159, &quot;y&quot;: 1.0769230769230766, &quot;z&quot;: 0.9007807399332773}, {&quot;x&quot;: 8.153846153846159, &quot;y&quot;: 1.1538461538461535, &quot;z&quot;: 1.03028838758316}, {&quot;x&quot;: 8.153846153846159, &quot;y&quot;: 1.2307692307692304, &quot;z&quot;: 1.1687275971399311}, {&quot;x&quot;: 8.153846153846159, &quot;y&quot;: 1.3076923076923073, &quot;z&quot;: 1.3160983686035908}, {&quot;x&quot;: 8.153846153846159, &quot;y&quot;: 1.3846153846153841, &quot;z&quot;: 1.4724007019741387}, {&quot;x&quot;: 8.153846153846159, &quot;y&quot;: 1.461538461538461, &quot;z&quot;: 1.6376345972515751}, {&quot;x&quot;: 8.153846153846159, &quot;y&quot;: 1.5384615384615379, &quot;z&quot;: 1.8118000544359005}, {&quot;x&quot;: 8.153846153846159, &quot;y&quot;: 1.6153846153846148, &quot;z&quot;: 1.9948970735271137}, {&quot;x&quot;: 8.153846153846159, &quot;y&quot;: 1.6923076923076916, &quot;z&quot;: 2.186925654525215}, {&quot;x&quot;: 8.153846153846159, &quot;y&quot;: 1.7692307692307685, &quot;z&quot;: 2.3878857974302057}, {&quot;x&quot;: 8.153846153846159, &quot;y&quot;: 1.8461538461538454, &quot;z&quot;: 2.597777502242084}, {&quot;x&quot;: 8.153846153846159, &quot;y&quot;: 1.9230769230769222, &quot;z&quot;: 2.8166007689608517}, {&quot;x&quot;: 8.153846153846159, &quot;y&quot;: 1.9999999999999991, &quot;z&quot;: 3.0443555975865073}, {&quot;x&quot;: 8.153846153846159, &quot;y&quot;: 2.076923076923076, &quot;z&quot;: 3.2810419881190525}, {&quot;x&quot;: 8.153846153846159, &quot;y&quot;: 2.1538461538461533, &quot;z&quot;: 3.5266599405584858}, {&quot;x&quot;: 8.153846153846159, &quot;y&quot;: 2.2307692307692304, &quot;z&quot;: 3.781209454904807}, {&quot;x&quot;: 8.153846153846159, &quot;y&quot;: 2.3076923076923075, &quot;z&quot;: 4.044690531158017}, {&quot;x&quot;: 8.153846153846159, &quot;y&quot;: 2.3846153846153846, &quot;z&quot;: 4.317103169318116}, {&quot;x&quot;: 8.153846153846159, &quot;y&quot;: 2.4615384615384617, &quot;z&quot;: 4.598447369385104}, {&quot;x&quot;: 8.153846153846159, &quot;y&quot;: 2.5384615384615388, &quot;z&quot;: 4.888723131358979}, {&quot;x&quot;: 8.153846153846159, &quot;y&quot;: 2.615384615384616, &quot;z&quot;: 5.187930455239744}, {&quot;x&quot;: 8.153846153846159, &quot;y&quot;: 2.692307692307693, &quot;z&quot;: 5.496069341027398}, {&quot;x&quot;: 8.153846153846159, &quot;y&quot;: 2.76923076923077, &quot;z&quot;: 5.813139788721939}, {&quot;x&quot;: 8.153846153846159, &quot;y&quot;: 2.846153846153847, &quot;z&quot;: 6.139141798323369}, {&quot;x&quot;: 8.153846153846159, &quot;y&quot;: 2.9230769230769242, &quot;z&quot;: 6.474075369831687}, {&quot;x&quot;: 8.153846153846159, &quot;y&quot;: 3.0, &quot;z&quot;: 6.817940503246888}, {&quot;x&quot;: 8.358974358974363, &quot;y&quot;: 0.07692307692307693, &quot;z&quot;: 0.028881378156827283}, {&quot;x&quot;: 8.358974358974363, &quot;y&quot;: 0.0, &quot;z&quot;: 0.024379980545472146}, {&quot;x&quot;: 8.358974358974363, &quot;y&quot;: 0.15384615384615385, &quot;z&quot;: 0.042385570990892706}, {&quot;x&quot;: 8.358974358974363, &quot;y&quot;: 0.23076923076923078, &quot;z&quot;: 0.06489255904766841}, {&quot;x&quot;: 8.358974358974363, &quot;y&quot;: 0.3076923076923077, &quot;z&quot;: 0.09640234232715439}, {&quot;x&quot;: 8.358974358974363, &quot;y&quot;: 0.38461538461538464, &quot;z&quot;: 0.1369149208293506}, {&quot;x&quot;: 8.358974358974363, &quot;y&quot;: 0.46153846153846156, &quot;z&quot;: 0.18643029455425716}, {&quot;x&quot;: 8.358974358974363, &quot;y&quot;: 0.5384615384615385, &quot;z&quot;: 0.24494846350187402}, {&quot;x&quot;: 8.358974358974363, &quot;y&quot;: 0.6153846153846154, &quot;z&quot;: 0.3124694276722011}, {&quot;x&quot;: 8.358974358974363, &quot;y&quot;: 0.6923076923076923, &quot;z&quot;: 0.3889931870652384}, {&quot;x&quot;: 8.358974358974363, &quot;y&quot;: 0.7692307692307692, &quot;z&quot;: 0.474519741680986}, {&quot;x&quot;: 8.358974358974363, &quot;y&quot;: 0.846153846153846, &quot;z&quot;: 0.5690490915194438}, {&quot;x&quot;: 8.358974358974363, &quot;y&quot;: 0.9230769230769229, &quot;z&quot;: 0.672581236580612}, {&quot;x&quot;: 8.358974358974363, &quot;y&quot;: 0.9999999999999998, &quot;z&quot;: 0.7851161768644904}, {&quot;x&quot;: 8.358974358974363, &quot;y&quot;: 1.0769230769230766, &quot;z&quot;: 0.9066539123710791}, {&quot;x&quot;: 8.358974358974363, &quot;y&quot;: 1.1538461538461535, &quot;z&quot;: 1.037194443100378}, {&quot;x&quot;: 8.358974358974363, &quot;y&quot;: 1.2307692307692304, &quot;z&quot;: 1.176737769052387}, {&quot;x&quot;: 8.358974358974363, &quot;y&quot;: 1.3076923076923073, &quot;z&quot;: 1.3252838902271065}, {&quot;x&quot;: 8.358974358974363, &quot;y&quot;: 1.3846153846153841, &quot;z&quot;: 1.4828328066245362}, {&quot;x&quot;: 8.358974358974363, &quot;y&quot;: 1.461538461538461, &quot;z&quot;: 1.649384518244676}, {&quot;x&quot;: 8.358974358974363, &quot;y&quot;: 1.5384615384615379, &quot;z&quot;: 1.8249390250875264}, {&quot;x&quot;: 8.358974358974363, &quot;y&quot;: 1.6153846153846148, &quot;z&quot;: 2.009496327153087}, {&quot;x&quot;: 8.358974358974363, &quot;y&quot;: 1.6923076923076916, &quot;z&quot;: 2.2030564244413577}, {&quot;x&quot;: 8.358974358974363, &quot;y&quot;: 1.7692307692307685, &quot;z&quot;: 2.4056193169523388}, {&quot;x&quot;: 8.358974358974363, &quot;y&quot;: 1.8461538461538454, &quot;z&quot;: 2.61718500468603}, {&quot;x&quot;: 8.358974358974363, &quot;y&quot;: 1.9230769230769222, &quot;z&quot;: 2.8377534876424315}, {&quot;x&quot;: 8.358974358974363, &quot;y&quot;: 1.9999999999999991, &quot;z&quot;: 3.0673247658215432}, {&quot;x&quot;: 8.358974358974363, &quot;y&quot;: 2.076923076923076, &quot;z&quot;: 3.3058988392233664}, {&quot;x&quot;: 8.358974358974363, &quot;y&quot;: 2.1538461538461533, &quot;z&quot;: 3.5534757078478996}, {&quot;x&quot;: 8.358974358974363, &quot;y&quot;: 2.2307692307692304, &quot;z&quot;: 3.8100553716951424}, {&quot;x&quot;: 8.358974358974363, &quot;y&quot;: 2.3076923076923075, &quot;z&quot;: 4.075637830765096}, {&quot;x&quot;: 8.358974358974363, &quot;y&quot;: 2.3846153846153846, &quot;z&quot;: 4.350223085057761}, {&quot;x&quot;: 8.358974358974363, &quot;y&quot;: 2.4615384615384617, &quot;z&quot;: 4.633811134573135}, {&quot;x&quot;: 8.358974358974363, &quot;y&quot;: 2.5384615384615388, &quot;z&quot;: 4.926401979311219}, {&quot;x&quot;: 8.358974358974363, &quot;y&quot;: 2.615384615384616, &quot;z&quot;: 5.227995619272015}, {&quot;x&quot;: 8.358974358974363, &quot;y&quot;: 2.692307692307693, &quot;z&quot;: 5.5385920544555205}, {&quot;x&quot;: 8.358974358974363, &quot;y&quot;: 2.76923076923077, &quot;z&quot;: 5.858191284861736}, {&quot;x&quot;: 8.358974358974363, &quot;y&quot;: 2.846153846153847, &quot;z&quot;: 6.186793310490662}, {&quot;x&quot;: 8.358974358974363, &quot;y&quot;: 2.9230769230769242, &quot;z&quot;: 6.5243981313422985}, {&quot;x&quot;: 8.358974358974363, &quot;y&quot;: 3.0, &quot;z&quot;: 6.871005747416639}, {&quot;x&quot;: 8.564102564102567, &quot;y&quot;: 0.07692307692307693, &quot;z&quot;: 0.02787645217060417}, {&quot;x&quot;: 8.564102564102567, &quot;y&quot;: 0.0, &quot;z&quot;: 0.02334114408854344}, {&quot;x&quot;: 8.564102564102567, &quot;y&quot;: 0.15384615384615385, &quot;z&quot;: 0.04148237641678637}, {&quot;x&quot;: 8.564102564102567, &quot;y&quot;: 0.23076923076923078, &quot;z&quot;: 0.06415891682709002}, {&quot;x&quot;: 8.564102564102567, &quot;y&quot;: 0.3076923076923077, &quot;z&quot;: 0.09590607340151514}, {&quot;x&quot;: 8.564102564102567, &quot;y&quot;: 0.38461538461538464, &quot;z&quot;: 0.13672384614006175}, {&quot;x&quot;: 8.564102564102567, &quot;y&quot;: 0.46153846153846156, &quot;z&quot;: 0.1866122350427298}, {&quot;x&quot;: 8.564102564102567, &quot;y&quot;: 0.5384615384615385, &quot;z&quot;: 0.24557124010951933}, {&quot;x&quot;: 8.564102564102567, &quot;y&quot;: 0.6153846153846154, &quot;z&quot;: 0.31360086134043025}, {&quot;x&quot;: 8.564102564102567, &quot;y&quot;: 0.6923076923076923, &quot;z&quot;: 0.3907010987354626}, {&quot;x&quot;: 8.564102564102567, &quot;y&quot;: 0.7692307692307692, &quot;z&quot;: 0.4768719522946165}, {&quot;x&quot;: 8.564102564102567, &quot;y&quot;: 0.846153846153846, &quot;z&quot;: 0.5721134220178916}, {&quot;x&quot;: 8.564102564102567, &quot;y&quot;: 0.9230769230769229, &quot;z&quot;: 0.6764255079052884}, {&quot;x&quot;: 8.564102564102567, &quot;y&quot;: 0.9999999999999998, &quot;z&quot;: 0.7898082099568066}, {&quot;x&quot;: 8.564102564102567, &quot;y&quot;: 1.0769230769230766, &quot;z&quot;: 0.9122615281724462}, {&quot;x&quot;: 8.564102564102567, &quot;y&quot;: 1.1538461538461535, &quot;z&quot;: 1.0437854625522076}, {&quot;x&quot;: 8.564102564102567, &quot;y&quot;: 1.2307692307692304, &quot;z&quot;: 1.18438001309609}, {&quot;x&quot;: 8.564102564102567, &quot;y&quot;: 1.3076923076923073, &quot;z&quot;: 1.334045179804094}, {&quot;x&quot;: 8.564102564102567, &quot;y&quot;: 1.3846153846153841, &quot;z&quot;: 1.4927809626762194}, {&quot;x&quot;: 8.564102564102567, &quot;y&quot;: 1.461538461538461, &quot;z&quot;: 1.6605873617124662}, {&quot;x&quot;: 8.564102564102567, &quot;y&quot;: 1.5384615384615379, &quot;z&quot;: 1.837464376912835}, {&quot;x&quot;: 8.564102564102567, &quot;y&quot;: 1.6153846153846148, &quot;z&quot;: 2.0234120082773246}, {&quot;x&quot;: 8.564102564102567, &quot;y&quot;: 1.6923076923076916, &quot;z&quot;: 2.2184302558059357}, {&quot;x&quot;: 8.564102564102567, &quot;y&quot;: 1.7692307692307685, &quot;z&quot;: 2.4225191194986686}, {&quot;x&quot;: 8.564102564102567, &quot;y&quot;: 1.8461538461538454, &quot;z&quot;: 2.6356785993555225}, {&quot;x&quot;: 8.564102564102567, &quot;y&quot;: 1.9230769230769222, &quot;z&quot;: 2.8579086953764983}, {&quot;x&quot;: 8.564102564102567, &quot;y&quot;: 1.9999999999999991, &quot;z&quot;: 3.089209407561595}, {&quot;x&quot;: 8.564102564102567, &quot;y&quot;: 2.076923076923076, &quot;z&quot;: 3.3295807359108145}, {&quot;x&quot;: 8.564102564102567, &quot;y&quot;: 2.1538461538461533, &quot;z&quot;: 3.579022680424155}, {&quot;x&quot;: 8.564102564102567, &quot;y&quot;: 2.2307692307692304, &quot;z&quot;: 3.8375352411016173}, {&quot;x&quot;: 8.564102564102567, &quot;y&quot;: 2.3076923076923075, &quot;z&quot;: 4.1051184179432}, {&quot;x&quot;: 8.564102564102567, &quot;y&quot;: 2.3846153846153846, &quot;z&quot;: 4.381772210948905}, {&quot;x&quot;: 8.564102564102567, &quot;y&quot;: 2.4615384615384617, &quot;z&quot;: 4.667496620118732}, {&quot;x&quot;: 8.564102564102567, &quot;y&quot;: 2.5384615384615388, &quot;z&quot;: 4.96229164545268}, {&quot;x&quot;: 8.564102564102567, &quot;y&quot;: 2.615384615384616, &quot;z&quot;: 5.26615728695075}, {&quot;x&quot;: 8.564102564102567, &quot;y&quot;: 2.692307692307693, &quot;z&quot;: 5.579093544612942}, {&quot;x&quot;: 8.564102564102567, &quot;y&quot;: 2.76923076923077, &quot;z&quot;: 5.901100418439254}, {&quot;x&quot;: 8.564102564102567, &quot;y&quot;: 2.846153846153847, &quot;z&quot;: 6.232177908429689}, {&quot;x&quot;: 8.564102564102567, &quot;y&quot;: 2.9230769230769242, &quot;z&quot;: 6.572326014584244}, {&quot;x&quot;: 8.564102564102567, &quot;y&quot;: 3.0, &quot;z&quot;: 6.9215447369029155}, {&quot;x&quot;: 8.769230769230772, &quot;y&quot;: 0.07692307692307693, &quot;z&quot;: 0.026933393526022087}, {&quot;x&quot;: 8.769230769230772, &quot;y&quot;: 0.0, &quot;z&quot;: 0.022365761428025616}, {&quot;x&quot;: 8.769230769230772, &quot;y&quot;: 0.15384615384615385, &quot;z&quot;: 0.04063628982001151}, {&quot;x&quot;: 8.769230769230772, &quot;y&quot;: 0.23076923076923078, &quot;z&quot;: 0.06347445030999387}, {&quot;x&quot;: 8.769230769230772, &quot;y&quot;: 0.3076923076923077, &quot;z&quot;: 0.09544787499596917}, {&quot;x&quot;: 8.769230769230772, &quot;y&quot;: 0.38461538461538464, &quot;z&quot;: 0.13655656387793738}, {&quot;x&quot;: 8.769230769230772, &quot;y&quot;: 0.46153846153846156, &quot;z&quot;: 0.18680051695589858}, {&quot;x&quot;: 8.769230769230772, &quot;y&quot;: 0.5384615384615385, &quot;z&quot;: 0.24617973422985273}, {&quot;x&quot;: 8.769230769230772, &quot;y&quot;: 0.6153846153846154, &quot;z&quot;: 0.3146942156997998}, {&quot;x&quot;: 8.769230769230772, &quot;y&quot;: 0.6923076923076923, &quot;z&quot;: 0.3923439613657397}, {&quot;x&quot;: 8.769230769230772, &quot;y&quot;: 0.7692307692307692, &quot;z&quot;: 0.4791289712276726}, {&quot;x&quot;: 8.769230769230772, &quot;y&quot;: 0.846153846153846, &quot;z&quot;: 0.5750492452855984}, {&quot;x&quot;: 8.769230769230772, &quot;y&quot;: 0.9230769230769229, &quot;z&quot;: 0.6801047835395172}, {&quot;x&quot;: 8.769230769230772, &quot;y&quot;: 0.9999999999999998, &quot;z&quot;: 0.7942955859894288}, {&quot;x&quot;: 8.769230769230772, &quot;y&quot;: 1.0769230769230766, &quot;z&quot;: 0.9176216526353335}, {&quot;x&quot;: 8.769230769230772, &quot;y&quot;: 1.1538461538461535, &quot;z&quot;: 1.050082983477231}, {&quot;x&quot;: 8.769230769230772, &quot;y&quot;: 1.2307692307692304, &quot;z&quot;: 1.1916795785151215}, {&quot;x&quot;: 8.769230769230772, &quot;y&quot;: 1.3076923076923073, &quot;z&quot;: 1.342411437749005}, {&quot;x&quot;: 8.769230769230772, &quot;y&quot;: 1.3846153846153841, &quot;z&quot;: 1.5022785611788811}, {&quot;x&quot;: 8.769230769230772, &quot;y&quot;: 1.461538461538461, &quot;z&quot;: 1.6712809488047504}, {&quot;x&quot;: 8.769230769230772, &quot;y&quot;: 1.5384615384615379, &quot;z&quot;: 1.849418600626613}, {&quot;x&quot;: 8.769230769230772, &quot;y&quot;: 1.6153846153846148, &quot;z&quot;: 2.036691516644468}, {&quot;x&quot;: 8.769230769230772, &quot;y&quot;: 1.6923076923076916, &quot;z&quot;: 2.2330996968583157}, {&quot;x&quot;: 8.769230769230772, &quot;y&quot;: 1.7692307692307685, &quot;z&quot;: 2.438643141268157}, {&quot;x&quot;: 8.769230769230772, &quot;y&quot;: 1.8461538461538454, &quot;z&quot;: 2.6533218498739903}, {&quot;x&quot;: 8.769230769230772, &quot;y&quot;: 1.9230769230769222, &quot;z&quot;: 2.8771358226758177}, {&quot;x&quot;: 8.769230769230772, &quot;y&quot;: 1.9999999999999991, &quot;z&quot;: 3.1100850596736374}, {&quot;x&quot;: 8.769230769230772, &quot;y&quot;: 2.076923076923076, &quot;z&quot;: 3.352169560867451}, {&quot;x&quot;: 8.769230769230772, &quot;y&quot;: 2.1538461538461533, &quot;z&quot;: 3.603389326257257}, {&quot;x&quot;: 8.769230769230772, &quot;y&quot;: 2.2307692307692304, &quot;z&quot;: 3.8637443558430564}, {&quot;x&quot;: 8.769230769230772, &quot;y&quot;: 2.3076923076923075, &quot;z&quot;: 4.133234649624849}, {&quot;x&quot;: 8.769230769230772, &quot;y&quot;: 2.3846153846153846, &quot;z&quot;: 4.4118602076026345}, {&quot;x&quot;: 8.769230769230772, &quot;y&quot;: 2.4615384615384617, &quot;z&quot;: 4.699621029776413}, {&quot;x&quot;: 8.769230769230772, &quot;y&quot;: 2.5384615384615388, &quot;z&quot;: 4.996517116146184}, {&quot;x&quot;: 8.769230769230772, &quot;y&quot;: 2.615384615384616, &quot;z&quot;: 5.302548466711948}, {&quot;x&quot;: 8.769230769230772, &quot;y&quot;: 2.692307692307693, &quot;z&quot;: 5.617715081473706}, {&quot;x&quot;: 8.769230769230772, &quot;y&quot;: 2.76923076923077, &quot;z&quot;: 5.942016960431456}, {&quot;x&quot;: 8.769230769230772, &quot;y&quot;: 2.846153846153847, &quot;z&quot;: 6.2754541035852}, {&quot;x&quot;: 8.769230769230772, &quot;y&quot;: 2.9230769230769242, &quot;z&quot;: 6.618026510934936}, {&quot;x&quot;: 8.769230769230772, &quot;y&quot;: 3.0, &quot;z&quot;: 6.969734182480658}, {&quot;x&quot;: 8.974358974358976, &quot;y&quot;: 0.07692307692307693, &quot;z&quot;: 0.02604740379240405}, {&quot;x&quot;: 8.974358974358976, &quot;y&quot;: 0.0, &quot;z&quot;: 0.021448925347771756}, {&quot;x&quot;: 8.974358974358976, &quot;y&quot;: 0.15384615384615385, &quot;z&quot;: 0.039842839126300926}, {&quot;x&quot;: 8.974358974358976, &quot;y&quot;: 0.23076923076923078, &quot;z&quot;: 0.06283523134946238}, {&quot;x&quot;: 8.974358974358976, &quot;y&quot;: 0.3076923076923077, &quot;z&quot;: 0.09502458046188841}, {&quot;x&quot;: 8.974358974358976, &quot;y&quot;: 0.38461538461538464, &quot;z&quot;: 0.13641088646357902}, {&quot;x&quot;: 8.974358974358976, &quot;y&quot;: 0.46153846153846156, &quot;z&quot;: 0.18699414935453423}, {&quot;x&quot;: 8.974358974358976, &quot;y&quot;: 0.5384615384615385, &quot;z&quot;: 0.24677436913475403}, {&quot;x&quot;: 8.974358974358976, &quot;y&quot;: 0.6153846153846154, &quot;z&quot;: 0.31575154580423836}, {&quot;x&quot;: 8.974358974358976, &quot;y&quot;: 0.6923076923076923, &quot;z&quot;: 0.3939256793629873}, {&quot;x&quot;: 8.974358974358976, &quot;y&quot;: 0.7692307692307692, &quot;z&quot;: 0.4812967698110008}, {&quot;x&quot;: 8.974358974358976, &quot;y&quot;: 0.846153846153846, &quot;z&quot;: 0.577864817148279}, {&quot;x&quot;: 8.974358974358976, &quot;y&quot;: 0.9230769230769229, &quot;z&quot;: 0.6836298213748215}, {&quot;x&quot;: 8.974358974358976, &quot;y&quot;: 0.9999999999999998, &quot;z&quot;: 0.7985917824906288}, {&quot;x&quot;: 8.974358974358976, &quot;y&quot;: 1.0769230769230766, &quot;z&quot;: 0.9227507004957005}, {&quot;x&quot;: 8.974358974358976, &quot;y&quot;: 1.1538461538461535, &quot;z&quot;: 1.0561065753900365}, {&quot;x&quot;: 8.974358974358976, &quot;y&quot;: 1.2307692307692304, &quot;z&quot;: 1.1986594071736374}, {&quot;x&quot;: 8.974358974358976, &quot;y&quot;: 1.3076923076923073, &quot;z&quot;: 1.350409195846503}, {&quot;x&quot;: 8.974358974358976, &quot;y&quot;: 1.3846153846153841, &quot;z&quot;: 1.5113559414086328}, {&quot;x&quot;: 8.974358974358976, &quot;y&quot;: 1.461538461538461, &quot;z&quot;: 1.6814996438600274}, {&quot;x&quot;: 8.974358974358976, &quot;y&quot;: 1.5384615384615379, &quot;z&quot;: 1.8608403032006868}, {&quot;x&quot;: 8.974358974358976, &quot;y&quot;: 1.6153846153846148, &quot;z&quot;: 2.0493779194306105}, {&quot;x&quot;: 8.974358974358976, &quot;y&quot;: 1.6923076923076916, &quot;z&quot;: 2.2471124925497987}, {&quot;x&quot;: 8.974358974358976, &quot;y&quot;: 1.7692307692307685, &quot;z&quot;: 2.454044022558252}, {&quot;x&quot;: 8.974358974358976, &quot;y&quot;: 1.8461538461538454, &quot;z&quot;: 2.670172509455969}, {&quot;x&quot;: 8.974358974358976, &quot;y&quot;: 1.9230769230769222, &quot;z&quot;: 2.895497953242951}, {&quot;x&quot;: 8.974358974358976, &quot;y&quot;: 1.9999999999999991, &quot;z&quot;: 3.1300203539191975}, {&quot;x&quot;: 8.974358974358976, &quot;y&quot;: 2.076923076923076, &quot;z&quot;: 3.37373971148471}, {&quot;x&quot;: 8.974358974358976, &quot;y&quot;: 2.1538461538461533, &quot;z&quot;: 3.626656025939486}, {&quot;x&quot;: 8.974358974358976, &quot;y&quot;: 2.2307692307692304, &quot;z&quot;: 3.888769297283527}, {&quot;x&quot;: 8.974358974358976, &quot;y&quot;: 2.3076923076923075, &quot;z&quot;: 4.160079525516833}, {&quot;x&quot;: 8.974358974358976, &quot;y&quot;: 2.3846153846153846, &quot;z&quot;: 4.440586710639404}, {&quot;x&quot;: 8.974358974358976, &quot;y&quot;: 2.4615384615384617, &quot;z&quot;: 4.730290852651239}, {&quot;x&quot;: 8.974358974358976, &quot;y&quot;: 2.5384615384615388, &quot;z&quot;: 5.029191951552338}, {&quot;x&quot;: 8.974358974358976, &quot;y&quot;: 2.615384615384616, &quot;z&quot;: 5.337290007342702}, {&quot;x&quot;: 8.974358974358976, &quot;y&quot;: 2.692307692307693, &quot;z&quot;: 5.654585020022331}, {&quot;x&quot;: 8.974358974358976, &quot;y&quot;: 2.76923076923077, &quot;z&quot;: 5.981076989591225}, {&quot;x&quot;: 8.974358974358976, &quot;y&quot;: 2.846153846153847, &quot;z&quot;: 6.316765916049383}, {&quot;x&quot;: 8.974358974358976, &quot;y&quot;: 2.9230769230769242, &quot;z&quot;: 6.6616517993968065}, {&quot;x&quot;: 8.974358974358976, &quot;y&quot;: 3.0, &quot;z&quot;: 7.015734639633487}, {&quot;x&quot;: 9.17948717948718, &quot;y&quot;: 0.07692307692307693, &quot;z&quot;: 0.025214120279119394}, {&quot;x&quot;: 9.17948717948718, &quot;y&quot;: 0.0, &quot;z&quot;: 0.02058617409552216}, {&quot;x&quot;: 9.17948717948718, &quot;y&quot;: 0.15384615384615385, &quot;z&quot;: 0.03909795882991111}, {&quot;x&quot;: 9.17948717948718, &quot;y&quot;: 0.23076923076923078, &quot;z&quot;: 0.0622376897478973}, {&quot;x&quot;: 9.17948717948718, &quot;y&quot;: 0.3076923076923077, &quot;z&quot;: 0.09463331303307795}, {&quot;x&quot;: 9.17948717948718, &quot;y&quot;: 0.38461538461538464, &quot;z&quot;: 0.1362848286854531}, {&quot;x&quot;: 9.17948717948718, &quot;y&quot;: 0.46153846153846156, &quot;z&quot;: 0.18719223670502272}, {&quot;x&quot;: 9.17948717948718, &quot;y&quot;: 0.5384615384615385, &quot;z&quot;: 0.24735553709178687}, {&quot;x&quot;: 9.17948717948718, &quot;y&quot;: 0.6153846153846154, &quot;z&quot;: 0.3167747298457453}, {&quot;x&quot;: 9.17948717948718, &quot;y&quot;: 0.6923076923076923, &quot;z&quot;: 0.39544981496689824}, {&quot;x&quot;: 9.17948717948718, &quot;y&quot;: 0.7692307692307692, &quot;z&quot;: 0.4833807924552457}, {&quot;x&quot;: 9.17948717948718, &quot;y&quot;: 0.846153846153846, &quot;z&quot;: 0.5805676623107875}, {&quot;x&quot;: 9.17948717948718, &quot;y&quot;: 0.9230769230769229, &quot;z&quot;: 0.6870104245335239}, {&quot;x&quot;: 9.17948717948718, &quot;y&quot;: 0.9999999999999998, &quot;z&quot;: 0.8027090791234547}, {&quot;x&quot;: 9.17948717948718, &quot;y&quot;: 1.0769230769230766, &quot;z&quot;: 0.9276636260805801}, {&quot;x&quot;: 9.17948717948718, &quot;y&quot;: 1.1538461538461535, &quot;z&quot;: 1.0618740654049}, {&quot;x&quot;: 9.17948717948718, &quot;y&quot;: 1.2307692307692304, &quot;z&quot;: 1.205340397096414}, {&quot;x&quot;: 9.17948717948718, &quot;y&quot;: 1.3076923076923073, &quot;z&quot;: 1.3580626211551228}, {&quot;x&quot;: 9.17948717948718, &quot;y&quot;: 1.3846153846153841, &quot;z&quot;: 1.5200407375810259}, {&quot;x&quot;: 9.17948717948718, &quot;y&quot;: 1.461538461538461, &quot;z&quot;: 1.6912747463741233}, {&quot;x&quot;: 9.17948717948718, &quot;y&quot;: 1.5384615384615379, &quot;z&quot;: 1.8717646475344156}, {&quot;x&quot;: 9.17948717948718, &quot;y&quot;: 1.6153846153846148, &quot;z&quot;: 2.061510441061902}, {&quot;x&quot;: 9.17948717948718, &quot;y&quot;: 1.6923076923076916, &quot;z&quot;: 2.260512126956583}, {&quot;x&quot;: 9.17948717948718, &quot;y&quot;: 1.7692307692307685, &quot;z&quot;: 2.4687697052184583}, {&quot;x&quot;: 9.17948717948718, &quot;y&quot;: 1.8461538461538454, &quot;z&quot;: 2.686283175847528}, {&quot;x&quot;: 9.17948717948718, &quot;y&quot;: 1.9230769230769222, &quot;z&quot;: 2.9130525388437927}, {&quot;x&quot;: 9.17948717948718, &quot;y&quot;: 1.9999999999999991, &quot;z&quot;: 3.1490777942072516}, {&quot;x&quot;: 9.17948717948718, &quot;y&quot;: 2.076923076923076, &quot;z&quot;: 3.3943589419379054}, {&quot;x&quot;: 9.17948717948718, &quot;y&quot;: 2.1538461538461533, &quot;z&quot;: 3.648895982035754}, {&quot;x&quot;: 9.17948717948718, &quot;y&quot;: 2.2307692307692304, &quot;z&quot;: 3.9126889145007966}, {&quot;x&quot;: 9.17948717948718, &quot;y&quot;: 2.3076923076923075, &quot;z&quot;: 4.1857377393330335}, {&quot;x&quot;: 9.17948717948718, &quot;y&quot;: 2.3846153846153846, &quot;z&quot;: 4.468042456532466}, {&quot;x&quot;: 9.17948717948718, &quot;y&quot;: 2.4615384615384617, &quot;z&quot;: 4.759603066099093}, {&quot;x&quot;: 9.17948717948718, &quot;y&quot;: 2.5384615384615388, &quot;z&quot;: 5.060419568032914}, {&quot;x&quot;: 9.17948717948718, &quot;y&quot;: 2.615384615384616, &quot;z&quot;: 5.370491962333929}, {&quot;x&quot;: 9.17948717948718, &quot;y&quot;: 2.692307692307693, &quot;z&quot;: 5.689820249002139}, {&quot;x&quot;: 9.17948717948718, &quot;y&quot;: 2.76923076923077, &quot;z&quot;: 6.0184044280375435}, {&quot;x&quot;: 9.17948717948718, &quot;y&quot;: 2.846153846153847, &quot;z&quot;: 6.356244499440144}, {&quot;x&quot;: 9.17948717948718, &quot;y&quot;: 2.9230769230769242, &quot;z&quot;: 6.703340463209937}, {&quot;x&quot;: 9.17948717948718, &quot;y&quot;: 3.0, &quot;z&quot;: 7.059692319346919}, {&quot;x&quot;: 9.384615384615385, &quot;y&quot;: 0.07692307692307693, &quot;z&quot;: 0.02442957248543884}, {&quot;x&quot;: 9.384615384615385, &quot;y&quot;: 0.0, &quot;z&quot;: 0.01977344677004452}, {&quot;x&quot;: 9.384615384615385, &quot;y&quot;: 0.15384615384615385, &quot;z&quot;: 0.03839794963162178}, {&quot;x&quot;: 9.384615384615385, &quot;y&quot;: 0.23076923076923078, &quot;z&quot;: 0.061678578208593376}, {&quot;x&quot;: 9.384615384615385, &quot;y&quot;: 0.3076923076923077, &quot;z&quot;: 0.09427145821635358}, {&quot;x&quot;: 9.384615384615385, &quot;y&quot;: 0.38461538461538464, &quot;z&quot;: 0.13617658965490242}, {&quot;x&quot;: 9.384615384615385, &quot;y&quot;: 0.46153846153846156, &quot;z&quot;: 0.18739397252423992}, {&quot;x&quot;: 9.384615384615385, &quot;y&quot;: 0.5384615384615385, &quot;z&quot;: 0.24792360682436604}, {&quot;x&quot;: 9.384615384615385, &quot;y&quot;: 0.6153846153846154, &quot;z&quot;: 0.31776549255528075}, {&quot;x&quot;: 9.384615384615385, &quot;y&quot;: 0.6923076923076923, &quot;z&quot;: 0.396919629716984}, {&quot;x&quot;: 9.384615384615385, &quot;y&quot;: 0.7692307692307692, &quot;z&quot;: 0.485386018309476}, {&quot;x&quot;: 9.384615384615385, &quot;y&quot;: 0.846153846153846, &quot;z&quot;: 0.5831646583327564}, {&quot;x&quot;: 9.384615384615385, &quot;y&quot;: 0.9230769230769229, &quot;z&quot;: 0.6902555497868257}, {&quot;x&quot;: 9.384615384615385, &quot;y&quot;: 0.9999999999999998, &quot;z&quot;: 0.8066586926716834}, {&quot;x&quot;: 9.384615384615385, &quot;y&quot;: 1.0769230769230766, &quot;z&quot;: 0.9323740869873299}, {&quot;x&quot;: 9.384615384615385, &quot;y&quot;: 1.1538461538461535, &quot;z&quot;: 1.067401732733765}, {&quot;x&quot;: 9.384615384615385, &quot;y&quot;: 1.2307692307692304, &quot;z&quot;: 1.2117416299109887}, {&quot;x&quot;: 9.384615384615385, &quot;y&quot;: 1.3076923076923073, &quot;z&quot;: 1.365393778519001}, {&quot;x&quot;: 9.384615384615385, &quot;y&quot;: 1.3846153846153841, &quot;z&quot;: 1.5283581785578018}, {&quot;x&quot;: 9.384615384615385, &quot;y&quot;: 1.461538461538461, &quot;z&quot;: 1.700634830027391}, {&quot;x&quot;: 9.384615384615385, &quot;y&quot;: 1.5384615384615379, &quot;z&quot;: 1.8822237329277696}, {&quot;x&quot;: 9.384615384615385, &quot;y&quot;: 1.6153846153846148, &quot;z&quot;: 2.073124887258936}, {&quot;x&quot;: 9.384615384615385, &quot;y&quot;: 1.6923076923076916, &quot;z&quot;: 2.2733382930208914}, {&quot;x&quot;: 9.384615384615385, &quot;y&quot;: 1.7692307692307685, &quot;z&quot;: 2.4828639502136354}, {&quot;x&quot;: 9.384615384615385, &quot;y&quot;: 1.8461538461538454, &quot;z&quot;: 2.701701858837168}, {&quot;x&quot;: 9.384615384615385, &quot;y&quot;: 1.9230769230769222, &quot;z&quot;: 2.929852018891489}, {&quot;x&quot;: 9.384615384615385, &quot;y&quot;: 1.9999999999999991, &quot;z&quot;: 3.167314430376599}, {&quot;x&quot;: 9.384615384615385, &quot;y&quot;: 2.076923076923076, &quot;z&quot;: 3.4140890932924983}, {&quot;x&quot;: 9.384615384615385, &quot;y&quot;: 2.1538461538461533, &quot;z&quot;: 3.6701760076391863}, {&quot;x&quot;: 9.384615384615385, &quot;y&quot;: 2.2307692307692304, &quot;z&quot;: 3.9355751734166624}, {&quot;x&quot;: 9.384615384615385, &quot;y&quot;: 2.3076923076923075, &quot;z&quot;: 4.210286590624928}, {&quot;x&quot;: 9.384615384615385, &quot;y&quot;: 2.3846153846153846, &quot;z&quot;: 4.494310259263982}, {&quot;x&quot;: 9.384615384615385, &quot;y&quot;: 2.4615384615384617, &quot;z&quot;: 4.787646179333825}, {&quot;x&quot;: 9.384615384615385, &quot;y&quot;: 2.5384615384615388, &quot;z&quot;: 5.090294350834456}, {&quot;x&quot;: 9.384615384615385, &quot;y&quot;: 2.615384615384616, &quot;z&quot;: 5.4022547737658755}, {&quot;x&quot;: 9.384615384615385, &quot;y&quot;: 2.692307692307693, &quot;z&quot;: 5.723527448128084}, {&quot;x&quot;: 9.384615384615385, &quot;y&quot;: 2.76923076923077, &quot;z&quot;: 6.054112373921082}, {&quot;x&quot;: 9.384615384615385, &quot;y&quot;: 2.846153846153847, &quot;z&quot;: 6.394009551144868}, {&quot;x&quot;: 9.384615384615385, &quot;y&quot;: 2.9230769230769242, &quot;z&quot;: 6.743218979799442}, {&quot;x&quot;: 9.384615384615385, &quot;y&quot;: 3.0, &quot;z&quot;: 7.101740659884799}, {&quot;x&quot;: 9.58974358974359, &quot;y&quot;: 0.07692307692307693, &quot;z&quot;: 0.023690142985845992}, {&quot;x&quot;: 9.58974358974359, &quot;y&quot;: 0.0, &quot;z&quot;: 0.019007043280121854}, {&quot;x&quot;: 9.58974358974359, &quot;y&quot;: 0.15384615384615385, &quot;z&quot;: 0.03773944210301842}, {&quot;x&quot;: 9.58974358974359, &quot;y&quot;: 0.23076923076923078, &quot;z&quot;: 0.061154940631639114}, {&quot;x&quot;: 9.58974358974359, &quot;y&quot;: 0.3076923076923077, &quot;z&quot;: 0.09393663857170809}, {&quot;x&quot;: 9.58974358974359, &quot;y&quot;: 0.38461538461538464, &quot;z&quot;: 0.13608453592322536}, {&quot;x&quot;: 9.58974358974359, &quot;y&quot;: 0.46153846153846156, &quot;z&quot;: 0.1875986326861909}, {&quot;x&quot;: 9.58974358974359, &quot;y&quot;: 0.5384615384615385, &quot;z&quot;: 0.2484789288606048}, {&quot;x&quot;: 9.58974358974359, &quot;y&quot;: 0.6153846153846154, &quot;z&quot;: 0.3187254244464669}, {&quot;x&quot;: 9.58974358974359, &quot;y&quot;: 0.6923076923076923, &quot;z&quot;: 0.3983381194437772}, {&quot;x&quot;: 9.58974358974359, &quot;y&quot;: 0.7692307692307692, &quot;z&quot;: 0.4873170138525359}, {&quot;x&quot;: 9.58974358974359, &quot;y&quot;: 0.846153846153846, &quot;z&quot;: 0.5856621076727425}, {&quot;x&quot;: 9.58974358974359, &quot;y&quot;: 0.9230769230769229, &quot;z&quot;: 0.6933734009043978}, {&quot;x&quot;: 9.58974358974359, &quot;y&quot;: 0.9999999999999998, &quot;z&quot;: 0.8104508935475011}, {&quot;x&quot;: 9.58974358974359, &quot;y&quot;: 1.0769230769230766, &quot;z&quot;: 0.9368945856020529}, {&quot;x&quot;: 9.58974358974359, &quot;y&quot;: 1.1538461538461535, &quot;z&quot;: 1.072704477068053}, {&quot;x&quot;: 9.58974358974359, &quot;y&quot;: 1.2307692307692304, &quot;z&quot;: 1.217880567945501}, {&quot;x&quot;: 9.58974358974359, &quot;y&quot;: 1.3076923076923073, &quot;z&quot;: 1.3724228582343976}, {&quot;x&quot;: 9.58974358974359, &quot;y&quot;: 1.3846153846153841, &quot;z&quot;: 1.5363313479347422}, {&quot;x&quot;: 9.58974358974359, &quot;y&quot;: 1.461538461538461, &quot;z&quot;: 1.7096060370465351}, {&quot;x&quot;: 9.58974358974359, &quot;y&quot;: 1.5384615384615379, &quot;z&quot;: 1.8922469255697767}, {&quot;x&quot;: 9.58974358974359, &quot;y&quot;: 1.6153846153846148, &quot;z&quot;: 2.084254013504466}, {&quot;x&quot;: 9.58974358974359, &quot;y&quot;: 1.6923076923076916, &quot;z&quot;: 2.285627300850604}, {&quot;x&quot;: 9.58974358974359, &quot;y&quot;: 1.7692307692307685, &quot;z&quot;: 2.4963667876081903}, {&quot;x&quot;: 9.58974358974359, &quot;y&quot;: 1.8461538461538454, &quot;z&quot;: 2.716472473777224}, {&quot;x&quot;: 9.58974358974359, &quot;y&quot;: 1.9230769230769222, &quot;z&quot;: 2.945944359357707}, {&quot;x&quot;: 9.58974358974359, &quot;y&quot;: 1.9999999999999991, &quot;z&quot;: 3.1847824443496378}, {&quot;x&quot;: 9.58974358974359, &quot;y&quot;: 2.076923076923076, &quot;z&quot;: 3.432986728753018}, {&quot;x&quot;: 9.58974358974359, &quot;y&quot;: 2.1538461538461533, &quot;z&quot;: 3.690557212567846}, {&quot;x&quot;: 9.58974358974359, &quot;y&quot;: 2.2307692307692304, &quot;z&quot;: 3.957493895794122}, {&quot;x&quot;: 9.58974358974359, &quot;y&quot;: 2.3076923076923075, &quot;z&quot;: 4.233796778431847}, {&quot;x&quot;: 9.58974358974359, &quot;y&quot;: 2.3846153846153846, &quot;z&quot;: 4.519465860481021}, {&quot;x&quot;: 9.58974358974359, &quot;y&quot;: 2.4615384615384617, &quot;z&quot;: 4.8145011419416415}, {&quot;x&quot;: 9.58974358974359, &quot;y&quot;: 2.5384615384615388, &quot;z&quot;: 5.118902622813711}, {&quot;x&quot;: 9.58974358974359, &quot;y&quot;: 2.615384615384616, &quot;z&quot;: 5.43267030309723}, {&quot;x&quot;: 9.58974358974359, &quot;y&quot;: 2.692307692307693, &quot;z&quot;: 5.755804182792196}, {&quot;x&quot;: 9.58974358974359, &quot;y&quot;: 2.76923076923077, &quot;z&quot;: 6.088304261898611}, {&quot;x&quot;: 9.58974358974359, &quot;y&quot;: 2.846153846153847, &quot;z&quot;: 6.430170540416475}, {&quot;x&quot;: 9.58974358974359, &quot;y&quot;: 2.9230769230769242, &quot;z&quot;: 6.781403018345785}, {&quot;x&quot;: 9.58974358974359, &quot;y&quot;: 3.0, &quot;z&quot;: 7.142001695686539}, {&quot;x&quot;: 9.794871794871794, &quot;y&quot;: 0.07692307692307693, &quot;z&quot;: 0.022992532363664855}, {&quot;x&quot;: 9.794871794871794, &quot;y&quot;: 0.0, &quot;z&quot;: 0.018283588468252978}, {&quot;x&quot;: 9.794871794871794, &quot;y&quot;: 0.15384615384615385, &quot;z&quot;: 0.037119364049900495}, {&quot;x&quot;: 9.794871794871794, &quot;y&quot;: 0.23076923076923078, &quot;z&quot;: 0.060664083526959886}, {&quot;x&quot;: 9.794871794871794, &quot;y&quot;: 0.3076923076923077, &quot;z&quot;: 0.09362669079484304}, {&quot;x&quot;: 9.794871794871794, &quot;y&quot;: 0.38461538461538464, &quot;z&quot;: 0.13600718585354993}, {&quot;x&quot;: 9.794871794871794, &quot;y&quot;: 0.46153846153846156, &quot;z&quot;: 0.1878055687030806}, {&quot;x&quot;: 9.794871794871794, &quot;y&quot;: 0.5384615384615385, &quot;z&quot;: 0.24902183934343508}, {&quot;x&quot;: 9.794871794871794, &quot;y&quot;: 0.6153846153846154, &quot;z&quot;: 0.31965599777461323}, {&quot;x&quot;: 9.794871794871794, &quot;y&quot;: 0.6923076923076923, &quot;z&quot;: 0.399708043996615}, {&quot;x&quot;: 9.794871794871794, &quot;y&quot;: 0.7692307692307692, &quot;z&quot;: 0.4891779780094407}, {&quot;x&quot;: 9.794871794871794, &quot;y&quot;: 0.846153846153846, &quot;z&quot;: 0.5880657998130899}, {&quot;x&quot;: 9.794871794871794, &quot;y&quot;: 0.9230769230769229, &quot;z&quot;: 0.6963715094075631}, {&quot;x&quot;: 9.794871794871794, &quot;y&quot;: 0.9999999999999998, &quot;z&quot;: 0.8140951067928599}, {&quot;x&quot;: 9.794871794871794, &quot;y&quot;: 1.0769230769230766, &quot;z&quot;: 0.9412365919689806}, {&quot;x&quot;: 9.794871794871794, &quot;y&quot;: 1.1538461538461535, &quot;z&quot;: 1.077795964935925}, {&quot;x&quot;: 9.794871794871794, &quot;y&quot;: 1.2307692307692304, &quot;z&quot;: 1.223773225693693}, {&quot;x&quot;: 9.794871794871794, &quot;y&quot;: 1.3076923076923073, &quot;z&quot;: 1.379168374242285}, {&quot;x&quot;: 9.794871794871794, &quot;y&quot;: 1.3846153846153841, &quot;z&quot;: 1.5439814105817002}, {&quot;x&quot;: 9.794871794871794, &quot;y&quot;: 1.461538461538461, &quot;z&quot;: 1.7182123347119393}, {&quot;x&quot;: 9.794871794871794, &quot;y&quot;: 1.5384615384615379, &quot;z&quot;: 1.9018611466330029}, {&quot;x&quot;: 9.794871794871794, &quot;y&quot;: 1.6153846153846148, &quot;z&quot;: 2.0949278463448895}, {&quot;x&quot;: 9.794871794871794, &quot;y&quot;: 1.6923076923076916, &quot;z&quot;: 2.2974124338476}, {&quot;x&quot;: 9.794871794871794, &quot;y&quot;: 1.7692307692307685, &quot;z&quot;: 2.509314909141134}, {&quot;x&quot;: 9.794871794871794, &quot;y&quot;: 1.8461538461538454, &quot;z&quot;: 2.7306352722254923}, {&quot;x&quot;: 9.794871794871794, &quot;y&quot;: 1.9230769230769222, &quot;z&quot;: 2.961373523100674}, {&quot;x&quot;: 9.794871794871794, &quot;y&quot;: 1.9999999999999991, &quot;z&quot;: 3.2015296617666795}, {&quot;x&quot;: 9.794871794871794, &quot;y&quot;: 2.076923076923076, &quot;z&quot;: 3.45110368822351}, {&quot;x&quot;: 9.794871794871794, &quot;y&quot;: 2.1538461538461533, &quot;z&quot;: 3.7100956024711635}, {&quot;x&quot;: 9.794871794871794, &quot;y&quot;: 2.2307692307692304, &quot;z&quot;: 3.9785054045096406}, {&quot;x&quot;: 9.794871794871794, &quot;y&quot;: 2.3076923076923075, &quot;z&quot;: 4.256333094338941}, {&quot;x&quot;: 9.794871794871794, &quot;y&quot;: 2.3846153846153846, &quot;z&quot;: 4.543578671959066}, {&quot;x&quot;: 9.794871794871794, &quot;y&quot;: 2.4615384615384617, &quot;z&quot;: 4.840242137370016}, {&quot;x&quot;: 9.794871794871794, &quot;y&quot;: 2.5384615384615388, &quot;z&quot;: 5.146323490571788}, {&quot;x&quot;: 9.794871794871794, &quot;y&quot;: 2.615384615384616, &quot;z&quot;: 5.461822731564384}, {&quot;x&quot;: 9.794871794871794, &quot;y&quot;: 2.692307692307693, &quot;z&quot;: 5.786739860347805}, {&quot;x&quot;: 9.794871794871794, &quot;y&quot;: 2.76923076923077, &quot;z&quot;: 6.121074876922049}, {&quot;x&quot;: 9.794871794871794, &quot;y&quot;: 2.846153846153847, &quot;z&quot;: 6.464827781287117}, {&quot;x&quot;: 9.794871794871794, &quot;y&quot;: 2.9230769230769242, &quot;z&quot;: 6.817998573443009}, {&quot;x&quot;: 9.794871794871794, &quot;y&quot;: 3.0, &quot;z&quot;: 7.180587253389718}, {&quot;x&quot;: 10.0, &quot;y&quot;: 0.07692307692307693, &quot;z&quot;: 0.022333727810650888}, {&quot;x&quot;: 10.0, &quot;y&quot;: 0.0, &quot;z&quot;: 0.0176}, {&quot;x&quot;: 10.0, &quot;y&quot;: 0.15384615384615385, &quot;z&quot;: 0.03653491124260355}, {&quot;x&quot;: 10.0, &quot;y&quot;: 0.23076923076923078, &quot;z&quot;: 0.060203550295858}, {&quot;x&quot;: 10.0, &quot;y&quot;: 0.3076923076923077, &quot;z&quot;: 0.09333964497041422}, {&quot;x&quot;: 10.0, &quot;y&quot;: 0.38461538461538464, &quot;z&quot;: 0.1359431952662722}, {&quot;x&quot;: 10.0, &quot;y&quot;: 0.46153846153846156, &quot;z&quot;: 0.18801420118343196}, {&quot;x&quot;: 10.0, &quot;y&quot;: 0.5384615384615385, &quot;z&quot;: 0.24955266272189358}, {&quot;x&quot;: 10.0, &quot;y&quot;: 0.6153846153846154, &quot;z&quot;: 0.32055857988165687}, {&quot;x&quot;: 10.0, &quot;y&quot;: 0.6923076923076923, &quot;z&quot;: 0.40103195266272185}, {&quot;x&quot;: 10.0, &quot;y&quot;: 0.7692307692307692, &quot;z&quot;: 0.4909727810650887}, {&quot;x&quot;: 10.0, &quot;y&quot;: 0.846153846153846, &quot;z&quot;: 0.5903810650887573}, {&quot;x&quot;: 10.0, &quot;y&quot;: 0.9230769230769229, &quot;z&quot;: 0.6992568047337276}, {&quot;x&quot;: 10.0, &quot;y&quot;: 0.9999999999999998, &quot;z&quot;: 0.8175999999999997}, {&quot;x&quot;: 10.0, &quot;y&quot;: 1.0769230769230766, &quot;z&quot;: 0.9454106508875736}, {&quot;x&quot;: 10.0, &quot;y&quot;: 1.1538461538461535, &quot;z&quot;: 1.0826887573964492}, {&quot;x&quot;: 10.0, &quot;y&quot;: 1.2307692307692304, &quot;z&quot;: 1.2294343195266266}, {&quot;x&quot;: 10.0, &quot;y&quot;: 1.3076923076923073, &quot;z&quot;: 1.3856473372781057}, {&quot;x&quot;: 10.0, &quot;y&quot;: 1.3846153846153841, &quot;z&quot;: 1.5513278106508865}, {&quot;x&quot;: 10.0, &quot;y&quot;: 1.461538461538461, &quot;z&quot;: 1.726475739644969}, {&quot;x&quot;: 10.0, &quot;y&quot;: 1.5384615384615379, &quot;z&quot;: 1.9110911242603537}, {&quot;x&quot;: 10.0, &quot;y&quot;: 1.6153846153846148, &quot;z&quot;: 2.10517396449704}, {&quot;x&quot;: 10.0, &quot;y&quot;: 1.6923076923076916, &quot;z&quot;: 2.308724260355028}, {&quot;x&quot;: 10.0, &quot;y&quot;: 1.7692307692307685, &quot;z&quot;: 2.5217420118343177}, {&quot;x&quot;: 10.0, &quot;y&quot;: 1.8461538461538454, &quot;z&quot;: 2.7442272189349093}, {&quot;x&quot;: 10.0, &quot;y&quot;: 1.9230769230769222, &quot;z&quot;: 2.9761798816568024}, {&quot;x&quot;: 10.0, &quot;y&quot;: 1.9999999999999991, &quot;z&quot;: 3.2175999999999974}, {&quot;x&quot;: 10.0, &quot;y&quot;: 2.076923076923076, &quot;z&quot;: 3.468487573964495}, {&quot;x&quot;: 10.0, &quot;y&quot;: 2.1538461538461533, &quot;z&quot;: 3.7288426035502944}, {&quot;x&quot;: 10.0, &quot;y&quot;: 2.2307692307692304, &quot;z&quot;: 3.998665088757395}, {&quot;x&quot;: 10.0, &quot;y&quot;: 2.3076923076923075, &quot;z&quot;: 4.277955029585797}, {&quot;x&quot;: 10.0, &quot;y&quot;: 2.3846153846153846, &quot;z&quot;: 4.566712426035503}, {&quot;x&quot;: 10.0, &quot;y&quot;: 2.4615384615384617, &quot;z&quot;: 4.86493727810651}, {&quot;x&quot;: 10.0, &quot;y&quot;: 2.5384615384615388, &quot;z&quot;: 5.172629585798817}, {&quot;x&quot;: 10.0, &quot;y&quot;: 2.615384615384616, &quot;z&quot;: 5.489789349112428}, {&quot;x&quot;: 10.0, &quot;y&quot;: 2.692307692307693, &quot;z&quot;: 5.81641656804734}, {&quot;x&quot;: 10.0, &quot;y&quot;: 2.76923076923077, &quot;z&quot;: 6.152511242603554}, {&quot;x&quot;: 10.0, &quot;y&quot;: 2.846153846153847, &quot;z&quot;: 6.49807337278107}, {&quot;x&quot;: 10.0, &quot;y&quot;: 2.9230769230769242, &quot;z&quot;: 6.853102958579887}, {&quot;x&quot;: 10.0, &quot;y&quot;: 3.0, &quot;z&quot;: 7.2176}], &quot;faces&quot;: [[0, 1, 2, 3], [1, 4, 5, 2], [4, 6, 7, 5], [6, 8, 9, 7], [8, 10, 11, 9], [10, 12, 13, 11], [12, 14, 15, 13], [14, 16, 17, 15], [16, 18, 19, 17], [18, 20, 21, 19], [20, 22, 23, 21], [22, 24, 25, 23], [24, 26, 27, 25], [26, 28, 29, 27], [28, 30, 31, 29], [30, 32, 33, 31], [32, 34, 35, 33], [34, 36, 37, 35], [36, 38, 39, 37], [38, 40, 41, 39], [40, 42, 43, 41], [42, 44, 45, 43], [44, 46, 47, 45], [46, 48, 49, 47], [48, 50, 51, 49], [50, 52, 53, 51], [52, 54, 55, 53], [54, 56, 57, 55], [56, 58, 59, 57], [58, 60, 61, 59], [60, 62, 63, 61], [62, 64, 65, 63], [64, 66, 67, 65], [66, 68, 69, 67], [68, 70, 71, 69], [70, 72, 73, 71], [72, 74, 75, 73], [74, 76, 77, 75], [76, 78, 79, 77], [3, 2, 80, 81], [2, 5, 82, 80], [5, 7, 83, 82], [7, 9, 84, 83], [9, 11, 85, 84], [11, 13, 86, 85], [13, 15, 87, 86], [15, 17, 88, 87], [17, 19, 89, 88], [19, 21, 90, 89], [21, 23, 91, 90], [23, 25, 92, 91], [25, 27, 93, 92], [27, 29, 94, 93], [29, 31, 95, 94], [31, 33, 96, 95], [33, 35, 97, 96], [35, 37, 98, 97], [37, 39, 99, 98], [39, 41, 100, 99], [41, 43, 101, 100], [43, 45, 102, 101], [45, 47, 103, 102], [47, 49, 104, 103], [49, 51, 105, 104], [51, 53, 106, 105], [53, 55, 107, 106], [55, 57, 108, 107], [57, 59, 109, 108], [59, 61, 110, 109], [61, 63, 111, 110], [63, 65, 112, 111], [65, 67, 113, 112], [67, 69, 114, 113], [69, 71, 115, 114], [71, 73, 116, 115], [73, 75, 117, 116], [75, 77, 118, 117], [77, 79, 119, 118], [81, 80, 120, 121], [80, 82, 122, 120], [82, 83, 123, 122], [83, 84, 124, 123], [84, 85, 125, 124], [85, 86, 126, 125], [86, 87, 127, 126], [87, 88, 128, 127], [88, 89, 129, 128], [89, 90, 130, 129], [90, 91, 131, 130], [91, 92, 132, 131], [92, 93, 133, 132], [93, 94, 134, 133], [94, 95, 135, 134], [95, 96, 136, 135], [96, 97, 137, 136], [97, 98, 138, 137], [98, 99, 139, 138], [99, 100, 140, 139], [100, 101, 141, 140], [101, 102, 142, 141], [102, 103, 143, 142], [103, 104, 144, 143], [104, 105, 145, 144], [105, 106, 146, 145], [106, 107, 147, 146], [107, 108, 148, 147], [108, 109, 149, 148], [109, 110, 150, 149], [110, 111, 151, 150], [111, 112, 152, 151], [112, 113, 153, 152], [113, 114, 154, 153], [114, 115, 155, 154], [115, 116, 156, 155], [116, 117, 157, 156], [117, 118, 158, 157], [118, 119, 159, 158], [121, 120, 160, 161], [120, 122, 162, 160], [122, 123, 163, 162], [123, 124, 164, 163], [124, 125, 165, 164], [125, 126, 166, 165], [126, 127, 167, 166], [127, 128, 168, 167], [128, 129, 169, 168], [129, 130, 170, 169], [130, 131, 171, 170], [131, 132, 172, 171], [132, 133, 173, 172], [133, 134, 174, 173], [134, 135, 175, 174], [135, 136, 176, 175], [136, 137, 177, 176], [137, 138, 178, 177], [138, 139, 179, 178], [139, 140, 180, 179], [140, 141, 181, 180], [141, 142, 182, 181], [142, 143, 183, 182], [143, 144, 184, 183], [144, 145, 185, 184], [145, 146, 186, 185], [146, 147, 187, 186], [147, 148, 188, 187], [148, 149, 189, 188], [149, 150, 190, 189], [150, 151, 191, 190], [151, 152, 192, 191], [152, 153, 193, 192], [153, 154, 194, 193], [154, 155, 195, 194], [155, 156, 196, 195], [156, 157, 197, 196], [157, 158, 198, 197], [158, 159, 199, 198], [161, 160, 200, 201], [160, 162, 202, 200], [162, 163, 203, 202], [163, 164, 204, 203], [164, 165, 205, 204], [165, 166, 206, 205], [166, 167, 207, 206], [167, 168, 208, 207], [168, 169, 209, 208], [169, 170, 210, 209], [170, 171, 211, 210], [171, 172, 212, 211], [172, 173, 213, 212], [173, 174, 214, 213], [174, 175, 215, 214], [175, 176, 216, 215], [176, 177, 217, 216], [177, 178, 218, 217], [178, 179, 219, 218], [179, 180, 220, 219], [180, 181, 221, 220], [181, 182, 222, 221], [182, 183, 223, 222], [183, 184, 224, 223], [184, 185, 225, 224], [185, 186, 226, 225], [186, 187, 227, 226], [187, 188, 228, 227], [188, 189, 229, 228], [189, 190, 230, 229], [190, 191, 231, 230], [191, 192, 232, 231], [192, 193, 233, 232], [193, 194, 234, 233], [194, 195, 235, 234], [195, 196, 236, 235], [196, 197, 237, 236], [197, 198, 238, 237], [198, 199, 239, 238], [201, 200, 240, 241], [200, 202, 242, 240], [202, 203, 243, 242], [203, 204, 244, 243], [204, 205, 245, 244], [205, 206, 246, 245], [206, 207, 247, 246], [207, 208, 248, 247], [208, 209, 249, 248], [209, 210, 250, 249], [210, 211, 251, 250], [211, 212, 252, 251], [212, 213, 253, 252], [213, 214, 254, 253], [214, 215, 255, 254], [215, 216, 256, 255], [216, 217, 257, 256], [217, 218, 258, 257], [218, 219, 259, 258], [219, 220, 260, 259], [220, 221, 261, 260], [221, 222, 262, 261], [222, 223, 263, 262], [223, 224, 264, 263], [224, 225, 265, 264], [225, 226, 266, 265], [226, 227, 267, 266], [227, 228, 268, 267], [228, 229, 269, 268], [229, 230, 270, 269], [230, 231, 271, 270], [231, 232, 272, 271], [232, 233, 273, 272], [233, 234, 274, 273], [234, 235, 275, 274], [235, 236, 276, 275], [236, 237, 277, 276], [237, 238, 278, 277], [238, 239, 279, 278], [241, 240, 280, 281], [240, 242, 282, 280], [242, 243, 283, 282], [243, 244, 284, 283], [244, 245, 285, 284], [245, 246, 286, 285], [246, 247, 287, 286], [247, 248, 288, 287], [248, 249, 289, 288], [249, 250, 290, 289], [250, 251, 291, 290], [251, 252, 292, 291], [252, 253, 293, 292], [253, 254, 294, 293], [254, 255, 295, 294], [255, 256, 296, 295], [256, 257, 297, 296], [257, 258, 298, 297], [258, 259, 299, 298], [259, 260, 300, 299], [260, 261, 301, 300], [261, 262, 302, 301], [262, 263, 303, 302], [263, 264, 304, 303], [264, 265, 305, 304], [265, 266, 306, 305], [266, 267, 307, 306], [267, 268, 308, 307], [268, 269, 309, 308], [269, 270, 310, 309], [270, 271, 311, 310], [271, 272, 312, 311], [272, 273, 313, 312], [273, 274, 314, 313], [274, 275, 315, 314], [275, 276, 316, 315], [276, 277, 317, 316], [277, 278, 318, 317], [278, 279, 319, 318], [281, 280, 320, 321], [280, 282, 322, 320], [282, 283, 323, 322], [283, 284, 324, 323], [284, 285, 325, 324], [285, 286, 326, 325], [286, 287, 327, 326], [287, 288, 328, 327], [288, 289, 329, 328], [289, 290, 330, 329], [290, 291, 331, 330], [291, 292, 332, 331], [292, 293, 333, 332], [293, 294, 334, 333], [294, 295, 335, 334], [295, 296, 336, 335], [296, 297, 337, 336], [297, 298, 338, 337], [298, 299, 339, 338], [299, 300, 340, 339], [300, 301, 341, 340], [301, 302, 342, 341], [302, 303, 343, 342], [303, 304, 344, 343], [304, 305, 345, 344], [305, 306, 346, 345], [306, 307, 347, 346], [307, 308, 348, 347], [308, 309, 349, 348], [309, 310, 350, 349], [310, 311, 351, 350], [311, 312, 352, 351], [312, 313, 353, 352], [313, 314, 354, 353], [314, 315, 355, 354], [315, 316, 356, 355], [316, 317, 357, 356], [317, 318, 358, 357], [318, 319, 359, 358], [321, 320, 360, 361], [320, 322, 362, 360], [322, 323, 363, 362], [323, 324, 364, 363], [324, 325, 365, 364], [325, 326, 366, 365], [326, 327, 367, 366], [327, 328, 368, 367], [328, 329, 369, 368], [329, 330, 370, 369], [330, 331, 371, 370], [331, 332, 372, 371], [332, 333, 373, 372], [333, 334, 374, 373], [334, 335, 375, 374], [335, 336, 376, 375], [336, 337, 377, 376], [337, 338, 378, 377], [338, 339, 379, 378], [339, 340, 380, 379], [340, 341, 381, 380], [341, 342, 382, 381], [342, 343, 383, 382], [343, 344, 384, 383], [344, 345, 385, 384], [345, 346, 386, 385], [346, 347, 387, 386], [347, 348, 388, 387], [348, 349, 389, 388], [349, 350, 390, 389], [350, 351, 391, 390], [351, 352, 392, 391], [352, 353, 393, 392], [353, 354, 394, 393], [354, 355, 395, 394], [355, 356, 396, 395], [356, 357, 397, 396], [357, 358, 398, 397], [358, 359, 399, 398], [361, 360, 400, 401], [360, 362, 402, 400], [362, 363, 403, 402], [363, 364, 404, 403], [364, 365, 405, 404], [365, 366, 406, 405], [366, 367, 407, 406], [367, 368, 408, 407], [368, 369, 409, 408], [369, 370, 410, 409], [370, 371, 411, 410], [371, 372, 412, 411], [372, 373, 413, 412], [373, 374, 414, 413], [374, 375, 415, 414], [375, 376, 416, 415], [376, 377, 417, 416], [377, 378, 418, 417], [378, 379, 419, 418], [379, 380, 420, 419], [380, 381, 421, 420], [381, 382, 422, 421], [382, 383, 423, 422], [383, 384, 424, 423], [384, 385, 425, 424], [385, 386, 426, 425], [386, 387, 427, 426], [387, 388, 428, 427], [388, 389, 429, 428], [389, 390, 430, 429], [390, 391, 431, 430], [391, 392, 432, 431], [392, 393, 433, 432], [393, 394, 434, 433], [394, 395, 435, 434], [395, 396, 436, 435], [396, 397, 437, 436], [397, 398, 438, 437], [398, 399, 439, 438], [401, 400, 440, 441], [400, 402, 442, 440], [402, 403, 443, 442], [403, 404, 444, 443], [404, 405, 445, 444], [405, 406, 446, 445], [406, 407, 447, 446], [407, 408, 448, 447], [408, 409, 449, 448], [409, 410, 450, 449], [410, 411, 451, 450], [411, 412, 452, 451], [412, 413, 453, 452], [413, 414, 454, 453], [414, 415, 455, 454], [415, 416, 456, 455], [416, 417, 457, 456], [417, 418, 458, 457], [418, 419, 459, 458], [419, 420, 460, 459], [420, 421, 461, 460], [421, 422, 462, 461], [422, 423, 463, 462], [423, 424, 464, 463], [424, 425, 465, 464], [425, 426, 466, 465], [426, 427, 467, 466], [427, 428, 468, 467], [428, 429, 469, 468], [429, 430, 470, 469], [430, 431, 471, 470], [431, 432, 472, 471], [432, 433, 473, 472], [433, 434, 474, 473], [434, 435, 475, 474], [435, 436, 476, 475], [436, 437, 477, 476], [437, 438, 478, 477], [438, 439, 479, 478], [441, 440, 480, 481], [440, 442, 482, 480], [442, 443, 483, 482], [443, 444, 484, 483], [444, 445, 485, 484], [445, 446, 486, 485], [446, 447, 487, 486], [447, 448, 488, 487], [448, 449, 489, 488], [449, 450, 490, 489], [450, 451, 491, 490], [451, 452, 492, 491], [452, 453, 493, 492], [453, 454, 494, 493], [454, 455, 495, 494], [455, 456, 496, 495], [456, 457, 497, 496], [457, 458, 498, 497], [458, 459, 499, 498], [459, 460, 500, 499], [460, 461, 501, 500], [461, 462, 502, 501], [462, 463, 503, 502], [463, 464, 504, 503], [464, 465, 505, 504], [465, 466, 506, 505], [466, 467, 507, 506], [467, 468, 508, 507], [468, 469, 509, 508], [469, 470, 510, 509], [470, 471, 511, 510], [471, 472, 512, 511], [472, 473, 513, 512], [473, 474, 514, 513], [474, 475, 515, 514], [475, 476, 516, 515], [476, 477, 517, 516], [477, 478, 518, 517], [478, 479, 519, 518], [481, 480, 520, 521], [480, 482, 522, 520], [482, 483, 523, 522], [483, 484, 524, 523], [484, 485, 525, 524], [485, 486, 526, 525], [486, 487, 527, 526], [487, 488, 528, 527], [488, 489, 529, 528], [489, 490, 530, 529], [490, 491, 531, 530], [491, 492, 532, 531], [492, 493, 533, 532], [493, 494, 534, 533], [494, 495, 535, 534], [495, 496, 536, 535], [496, 497, 537, 536], [497, 498, 538, 537], [498, 499, 539, 538], [499, 500, 540, 539], [500, 501, 541, 540], [501, 502, 542, 541], [502, 503, 543, 542], [503, 504, 544, 543], [504, 505, 545, 544], [505, 506, 546, 545], [506, 507, 547, 546], [507, 508, 548, 547], [508, 509, 549, 548], [509, 510, 550, 549], [510, 511, 551, 550], [511, 512, 552, 551], [512, 513, 553, 552], [513, 514, 554, 553], [514, 515, 555, 554], [515, 516, 556, 555], [516, 517, 557, 556], [517, 518, 558, 557], [518, 519, 559, 558], [521, 520, 560, 561], [520, 522, 562, 560], [522, 523, 563, 562], [523, 524, 564, 563], [524, 525, 565, 564], [525, 526, 566, 565], [526, 527, 567, 566], [527, 528, 568, 567], [528, 529, 569, 568], [529, 530, 570, 569], [530, 531, 571, 570], [531, 532, 572, 571], [532, 533, 573, 572], [533, 534, 574, 573], [534, 535, 575, 574], [535, 536, 576, 575], [536, 537, 577, 576], [537, 538, 578, 577], [538, 539, 579, 578], [539, 540, 580, 579], [540, 541, 581, 580], [541, 542, 582, 581], [542, 543, 583, 582], [543, 544, 584, 583], [544, 545, 585, 584], [545, 546, 586, 585], [546, 547, 587, 586], [547, 548, 588, 587], [548, 549, 589, 588], [549, 550, 590, 589], [550, 551, 591, 590], [551, 552, 592, 591], [552, 553, 593, 592], [553, 554, 594, 593], [554, 555, 595, 594], [555, 556, 596, 595], [556, 557, 597, 596], [557, 558, 598, 597], [558, 559, 599, 598], [561, 560, 600, 601], [560, 562, 602, 600], [562, 563, 603, 602], [563, 564, 604, 603], [564, 565, 605, 604], [565, 566, 606, 605], [566, 567, 607, 606], [567, 568, 608, 607], [568, 569, 609, 608], [569, 570, 610, 609], [570, 571, 611, 610], [571, 572, 612, 611], [572, 573, 613, 612], [573, 574, 614, 613], [574, 575, 615, 614], [575, 576, 616, 615], [576, 577, 617, 616], [577, 578, 618, 617], [578, 579, 619, 618], [579, 580, 620, 619], [580, 581, 621, 620], [581, 582, 622, 621], [582, 583, 623, 622], [583, 584, 624, 623], [584, 585, 625, 624], [585, 586, 626, 625], [586, 587, 627, 626], [587, 588, 628, 627], [588, 589, 629, 628], [589, 590, 630, 629], [590, 591, 631, 630], [591, 592, 632, 631], [592, 593, 633, 632], [593, 594, 634, 633], [594, 595, 635, 634], [595, 596, 636, 635], [596, 597, 637, 636], [597, 598, 638, 637], [598, 599, 639, 638], [601, 600, 640, 641], [600, 602, 642, 640], [602, 603, 643, 642], [603, 604, 644, 643], [604, 605, 645, 644], [605, 606, 646, 645], [606, 607, 647, 646], [607, 608, 648, 647], [608, 609, 649, 648], [609, 610, 650, 649], [610, 611, 651, 650], [611, 612, 652, 651], [612, 613, 653, 652], [613, 614, 654, 653], [614, 615, 655, 654], [615, 616, 656, 655], [616, 617, 657, 656], [617, 618, 658, 657], [618, 619, 659, 658], [619, 620, 660, 659], [620, 621, 661, 660], [621, 622, 662, 661], [622, 623, 663, 662], [623, 624, 664, 663], [624, 625, 665, 664], [625, 626, 666, 665], [626, 627, 667, 666], [627, 628, 668, 667], [628, 629, 669, 668], [629, 630, 670, 669], [630, 631, 671, 670], [631, 632, 672, 671], [632, 633, 673, 672], [633, 634, 674, 673], [634, 635, 675, 674], [635, 636, 676, 675], [636, 637, 677, 676], [637, 638, 678, 677], [638, 639, 679, 678], [641, 640, 680, 681], [640, 642, 682, 680], [642, 643, 683, 682], [643, 644, 684, 683], [644, 645, 685, 684], [645, 646, 686, 685], [646, 647, 687, 686], [647, 648, 688, 687], [648, 649, 689, 688], [649, 650, 690, 689], [650, 651, 691, 690], [651, 652, 692, 691], [652, 653, 693, 692], [653, 654, 694, 693], [654, 655, 695, 694], [655, 656, 696, 695], [656, 657, 697, 696], [657, 658, 698, 697], [658, 659, 699, 698], [659, 660, 700, 699], [660, 661, 701, 700], [661, 662, 702, 701], [662, 663, 703, 702], [663, 664, 704, 703], [664, 665, 705, 704], [665, 666, 706, 705], [666, 667, 707, 706], [667, 668, 708, 707], [668, 669, 709, 708], [669, 670, 710, 709], [670, 671, 711, 710], [671, 672, 712, 711], [672, 673, 713, 712], [673, 674, 714, 713], [674, 675, 715, 714], [675, 676, 716, 715], [676, 677, 717, 716], [677, 678, 718, 717], [678, 679, 719, 718], [681, 680, 720, 721], [680, 682, 722, 720], [682, 683, 723, 722], [683, 684, 724, 723], [684, 685, 725, 724], [685, 686, 726, 725], [686, 687, 727, 726], [687, 688, 728, 727], [688, 689, 729, 728], [689, 690, 730, 729], [690, 691, 731, 730], [691, 692, 732, 731], [692, 693, 733, 732], [693, 694, 734, 733], [694, 695, 735, 734], [695, 696, 736, 735], [696, 697, 737, 736], [697, 698, 738, 737], [698, 699, 739, 738], [699, 700, 740, 739], [700, 701, 741, 740], [701, 702, 742, 741], [702, 703, 743, 742], [703, 704, 744, 743], [704, 705, 745, 744], [705, 706, 746, 745], [706, 707, 747, 746], [707, 708, 748, 747], [708, 709, 749, 748], [709, 710, 750, 749], [710, 711, 751, 750], [711, 712, 752, 751], [712, 713, 753, 752], [713, 714, 754, 753], [714, 715, 755, 754], [715, 716, 756, 755], [716, 717, 757, 756], [717, 718, 758, 757], [718, 719, 759, 758], [721, 720, 760, 761], [720, 722, 762, 760], [722, 723, 763, 762], [723, 724, 764, 763], [724, 725, 765, 764], [725, 726, 766, 765], [726, 727, 767, 766], [727, 728, 768, 767], [728, 729, 769, 768], [729, 730, 770, 769], [730, 731, 771, 770], [731, 732, 772, 771], [732, 733, 773, 772], [733, 734, 774, 773], [734, 735, 775, 774], [735, 736, 776, 775], [736, 737, 777, 776], [737, 738, 778, 777], [738, 739, 779, 778], [739, 740, 780, 779], [740, 741, 781, 780], [741, 742, 782, 781], [742, 743, 783, 782], [743, 744, 784, 783], [744, 745, 785, 784], [745, 746, 786, 785], [746, 747, 787, 786], [747, 748, 788, 787], [748, 749, 789, 788], [749, 750, 790, 789], [750, 751, 791, 790], [751, 752, 792, 791], [752, 753, 793, 792], [753, 754, 794, 793], [754, 755, 795, 794], [755, 756, 796, 795], [756, 757, 797, 796], [757, 758, 798, 797], [758, 759, 799, 798], [761, 760, 800, 801], [760, 762, 802, 800], [762, 763, 803, 802], [763, 764, 804, 803], [764, 765, 805, 804], [765, 766, 806, 805], [766, 767, 807, 806], [767, 768, 808, 807], [768, 769, 809, 808], [769, 770, 810, 809], [770, 771, 811, 810], [771, 772, 812, 811], [772, 773, 813, 812], [773, 774, 814, 813], [774, 775, 815, 814], [775, 776, 816, 815], [776, 777, 817, 816], [777, 778, 818, 817], [778, 779, 819, 818], [779, 780, 820, 819], [780, 781, 821, 820], [781, 782, 822, 821], [782, 783, 823, 822], [783, 784, 824, 823], [784, 785, 825, 824], [785, 786, 826, 825], [786, 787, 827, 826], [787, 788, 828, 827], [788, 789, 829, 828], [789, 790, 830, 829], [790, 791, 831, 830], [791, 792, 832, 831], [792, 793, 833, 832], [793, 794, 834, 833], [794, 795, 835, 834], [795, 796, 836, 835], [796, 797, 837, 836], [797, 798, 838, 837], [798, 799, 839, 838], [801, 800, 840, 841], [800, 802, 842, 840], [802, 803, 843, 842], [803, 804, 844, 843], [804, 805, 845, 844], [805, 806, 846, 845], [806, 807, 847, 846], [807, 808, 848, 847], [808, 809, 849, 848], [809, 810, 850, 849], [810, 811, 851, 850], [811, 812, 852, 851], [812, 813, 853, 852], [813, 814, 854, 853], [814, 815, 855, 854], [815, 816, 856, 855], [816, 817, 857, 856], [817, 818, 858, 857], [818, 819, 859, 858], [819, 820, 860, 859], [820, 821, 861, 860], [821, 822, 862, 861], [822, 823, 863, 862], [823, 824, 864, 863], [824, 825, 865, 864], [825, 826, 866, 865], [826, 827, 867, 866], [827, 828, 868, 867], [828, 829, 869, 868], [829, 830, 870, 869], [830, 831, 871, 870], [831, 832, 872, 871], [832, 833, 873, 872], [833, 834, 874, 873], [834, 835, 875, 874], [835, 836, 876, 875], [836, 837, 877, 876], [837, 838, 878, 877], [838, 839, 879, 878], [841, 840, 880, 881], [840, 842, 882, 880], [842, 843, 883, 882], [843, 844, 884, 883], [844, 845, 885, 884], [845, 846, 886, 885], [846, 847, 887, 886], [847, 848, 888, 887], [848, 849, 889, 888], [849, 850, 890, 889], [850, 851, 891, 890], [851, 852, 892, 891], [852, 853, 893, 892], [853, 854, 894, 893], [854, 855, 895, 894], [855, 856, 896, 895], [856, 857, 897, 896], [857, 858, 898, 897], [858, 859, 899, 898], [859, 860, 900, 899], [860, 861, 901, 900], [861, 862, 902, 901], [862, 863, 903, 902], [863, 864, 904, 903], [864, 865, 905, 904], [865, 866, 906, 905], [866, 867, 907, 906], [867, 868, 908, 907], [868, 869, 909, 908], [869, 870, 910, 909], [870, 871, 911, 910], [871, 872, 912, 911], [872, 873, 913, 912], [873, 874, 914, 913], [874, 875, 915, 914], [875, 876, 916, 915], [876, 877, 917, 916], [877, 878, 918, 917], [878, 879, 919, 918], [881, 880, 920, 921], [880, 882, 922, 920], [882, 883, 923, 922], [883, 884, 924, 923], [884, 885, 925, 924], [885, 886, 926, 925], [886, 887, 927, 926], [887, 888, 928, 927], [888, 889, 929, 928], [889, 890, 930, 929], [890, 891, 931, 930], [891, 892, 932, 931], [892, 893, 933, 932], [893, 894, 934, 933], [894, 895, 935, 934], [895, 896, 936, 935], [896, 897, 937, 936], [897, 898, 938, 937], [898, 899, 939, 938], [899, 900, 940, 939], [900, 901, 941, 940], [901, 902, 942, 941], [902, 903, 943, 942], [903, 904, 944, 943], [904, 905, 945, 944], [905, 906, 946, 945], [906, 907, 947, 946], [907, 908, 948, 947], [908, 909, 949, 948], [909, 910, 950, 949], [910, 911, 951, 950], [911, 912, 952, 951], [912, 913, 953, 952], [913, 914, 954, 953], [914, 915, 955, 954], [915, 916, 956, 955], [916, 917, 957, 956], [917, 918, 958, 957], [918, 919, 959, 958], [921, 920, 960, 961], [920, 922, 962, 960], [922, 923, 963, 962], [923, 924, 964, 963], [924, 925, 965, 964], [925, 926, 966, 965], [926, 927, 967, 966], [927, 928, 968, 967], [928, 929, 969, 968], [929, 930, 970, 969], [930, 931, 971, 970], [931, 932, 972, 971], [932, 933, 973, 972], [933, 934, 974, 973], [934, 935, 975, 974], [935, 936, 976, 975], [936, 937, 977, 976], [937, 938, 978, 977], [938, 939, 979, 978], [939, 940, 980, 979], [940, 941, 981, 980], [941, 942, 982, 981], [942, 943, 983, 982], [943, 944, 984, 983], [944, 945, 985, 984], [945, 946, 986, 985], [946, 947, 987, 986], [947, 948, 988, 987], [948, 949, 989, 988], [949, 950, 990, 989], [950, 951, 991, 990], [951, 952, 992, 991], [952, 953, 993, 992], [953, 954, 994, 993], [954, 955, 995, 994], [955, 956, 996, 995], [956, 957, 997, 996], [957, 958, 998, 997], [958, 959, 999, 998], [961, 960, 1000, 1001], [960, 962, 1002, 1000], [962, 963, 1003, 1002], [963, 964, 1004, 1003], [964, 965, 1005, 1004], [965, 966, 1006, 1005], [966, 967, 1007, 1006], [967, 968, 1008, 1007], [968, 969, 1009, 1008], [969, 970, 1010, 1009], [970, 971, 1011, 1010], [971, 972, 1012, 1011], [972, 973, 1013, 1012], [973, 974, 1014, 1013], [974, 975, 1015, 1014], [975, 976, 1016, 1015], [976, 977, 1017, 1016], [977, 978, 1018, 1017], [978, 979, 1019, 1018], [979, 980, 1020, 1019], [980, 981, 1021, 1020], [981, 982, 1022, 1021], [982, 983, 1023, 1022], [983, 984, 1024, 1023], [984, 985, 1025, 1024], [985, 986, 1026, 1025], [986, 987, 1027, 1026], [987, 988, 1028, 1027], [988, 989, 1029, 1028], [989, 990, 1030, 1029], [990, 991, 1031, 1030], [991, 992, 1032, 1031], [992, 993, 1033, 1032], [993, 994, 1034, 1033], [994, 995, 1035, 1034], [995, 996, 1036, 1035], [996, 997, 1037, 1036], [997, 998, 1038, 1037], [998, 999, 1039, 1038], [1001, 1000, 1040, 1041], [1000, 1002, 1042, 1040], [1002, 1003, 1043, 1042], [1003, 1004, 1044, 1043], [1004, 1005, 1045, 1044], [1005, 1006, 1046, 1045], [1006, 1007, 1047, 1046], [1007, 1008, 1048, 1047], [1008, 1009, 1049, 1048], [1009, 1010, 1050, 1049], [1010, 1011, 1051, 1050], [1011, 1012, 1052, 1051], [1012, 1013, 1053, 1052], [1013, 1014, 1054, 1053], [1014, 1015, 1055, 1054], [1015, 1016, 1056, 1055], [1016, 1017, 1057, 1056], [1017, 1018, 1058, 1057], [1018, 1019, 1059, 1058], [1019, 1020, 1060, 1059], [1020, 1021, 1061, 1060], [1021, 1022, 1062, 1061], [1022, 1023, 1063, 1062], [1023, 1024, 1064, 1063], [1024, 1025, 1065, 1064], [1025, 1026, 1066, 1065], [1026, 1027, 1067, 1066], [1027, 1028, 1068, 1067], [1028, 1029, 1069, 1068], [1029, 1030, 1070, 1069], [1030, 1031, 1071, 1070], [1031, 1032, 1072, 1071], [1032, 1033, 1073, 1072], [1033, 1034, 1074, 1073], [1034, 1035, 1075, 1074], [1035, 1036, 1076, 1075], [1036, 1037, 1077, 1076], [1037, 1038, 1078, 1077], [1038, 1039, 1079, 1078], [1041, 1040, 1080, 1081], [1040, 1042, 1082, 1080], [1042, 1043, 1083, 1082], [1043, 1044, 1084, 1083], [1044, 1045, 1085, 1084], [1045, 1046, 1086, 1085], [1046, 1047, 1087, 1086], [1047, 1048, 1088, 1087], [1048, 1049, 1089, 1088], [1049, 1050, 1090, 1089], [1050, 1051, 1091, 1090], [1051, 1052, 1092, 1091], [1052, 1053, 1093, 1092], [1053, 1054, 1094, 1093], [1054, 1055, 1095, 1094], [1055, 1056, 1096, 1095], [1056, 1057, 1097, 1096], [1057, 1058, 1098, 1097], [1058, 1059, 1099, 1098], [1059, 1060, 1100, 1099], [1060, 1061, 1101, 1100], [1061, 1062, 1102, 1101], [1062, 1063, 1103, 1102], [1063, 1064, 1104, 1103], [1064, 1065, 1105, 1104], [1065, 1066, 1106, 1105], [1066, 1067, 1107, 1106], [1067, 1068, 1108, 1107], [1068, 1069, 1109, 1108], [1069, 1070, 1110, 1109], [1070, 1071, 1111, 1110], [1071, 1072, 1112, 1111], [1072, 1073, 1113, 1112], [1073, 1074, 1114, 1113], [1074, 1075, 1115, 1114], [1075, 1076, 1116, 1115], [1076, 1077, 1117, 1116], [1077, 1078, 1118, 1117], [1078, 1079, 1119, 1118], [1081, 1080, 1120, 1121], [1080, 1082, 1122, 1120], [1082, 1083, 1123, 1122], [1083, 1084, 1124, 1123], [1084, 1085, 1125, 1124], [1085, 1086, 1126, 1125], [1086, 1087, 1127, 1126], [1087, 1088, 1128, 1127], [1088, 1089, 1129, 1128], [1089, 1090, 1130, 1129], [1090, 1091, 1131, 1130], [1091, 1092, 1132, 1131], [1092, 1093, 1133, 1132], [1093, 1094, 1134, 1133], [1094, 1095, 1135, 1134], [1095, 1096, 1136, 1135], [1096, 1097, 1137, 1136], [1097, 1098, 1138, 1137], [1098, 1099, 1139, 1138], [1099, 1100, 1140, 1139], [1100, 1101, 1141, 1140], [1101, 1102, 1142, 1141], [1102, 1103, 1143, 1142], [1103, 1104, 1144, 1143], [1104, 1105, 1145, 1144], [1105, 1106, 1146, 1145], [1106, 1107, 1147, 1146], [1107, 1108, 1148, 1147], [1108, 1109, 1149, 1148], [1109, 1110, 1150, 1149], [1110, 1111, 1151, 1150], [1111, 1112, 1152, 1151], [1112, 1113, 1153, 1152], [1113, 1114, 1154, 1153], [1114, 1115, 1155, 1154], [1115, 1116, 1156, 1155], [1116, 1117, 1157, 1156], [1117, 1118, 1158, 1157], [1118, 1119, 1159, 1158], [1121, 1120, 1160, 1161], [1120, 1122, 1162, 1160], [1122, 1123, 1163, 1162], [1123, 1124, 1164, 1163], [1124, 1125, 1165, 1164], [1125, 1126, 1166, 1165], [1126, 1127, 1167, 1166], [1127, 1128, 1168, 1167], [1128, 1129, 1169, 1168], [1129, 1130, 1170, 1169], [1130, 1131, 1171, 1170], [1131, 1132, 1172, 1171], [1132, 1133, 1173, 1172], [1133, 1134, 1174, 1173], [1134, 1135, 1175, 1174], [1135, 1136, 1176, 1175], [1136, 1137, 1177, 1176], [1137, 1138, 1178, 1177], [1138, 1139, 1179, 1178], [1139, 1140, 1180, 1179], [1140, 1141, 1181, 1180], [1141, 1142, 1182, 1181], [1142, 1143, 1183, 1182], [1143, 1144, 1184, 1183], [1144, 1145, 1185, 1184], [1145, 1146, 1186, 1185], [1146, 1147, 1187, 1186], [1147, 1148, 1188, 1187], [1148, 1149, 1189, 1188], [1149, 1150, 1190, 1189], [1150, 1151, 1191, 1190], [1151, 1152, 1192, 1191], [1152, 1153, 1193, 1192], [1153, 1154, 1194, 1193], [1154, 1155, 1195, 1194], [1155, 1156, 1196, 1195], [1156, 1157, 1197, 1196], [1157, 1158, 1198, 1197], [1158, 1159, 1199, 1198], [1161, 1160, 1200, 1201], [1160, 1162, 1202, 1200], [1162, 1163, 1203, 1202], [1163, 1164, 1204, 1203], [1164, 1165, 1205, 1204], [1165, 1166, 1206, 1205], [1166, 1167, 1207, 1206], [1167, 1168, 1208, 1207], [1168, 1169, 1209, 1208], [1169, 1170, 1210, 1209], [1170, 1171, 1211, 1210], [1171, 1172, 1212, 1211], [1172, 1173, 1213, 1212], [1173, 1174, 1214, 1213], [1174, 1175, 1215, 1214], [1175, 1176, 1216, 1215], [1176, 1177, 1217, 1216], [1177, 1178, 1218, 1217], [1178, 1179, 1219, 1218], [1179, 1180, 1220, 1219], [1180, 1181, 1221, 1220], [1181, 1182, 1222, 1221], [1182, 1183, 1223, 1222], [1183, 1184, 1224, 1223], [1184, 1185, 1225, 1224], [1185, 1186, 1226, 1225], [1186, 1187, 1227, 1226], [1187, 1188, 1228, 1227], [1188, 1189, 1229, 1228], [1189, 1190, 1230, 1229], [1190, 1191, 1231, 1230], [1191, 1192, 1232, 1231], [1192, 1193, 1233, 1232], [1193, 1194, 1234, 1233], [1194, 1195, 1235, 1234], [1195, 1196, 1236, 1235], [1196, 1197, 1237, 1236], [1197, 1198, 1238, 1237], [1198, 1199, 1239, 1238], [1201, 1200, 1240, 1241], [1200, 1202, 1242, 1240], [1202, 1203, 1243, 1242], [1203, 1204, 1244, 1243], [1204, 1205, 1245, 1244], [1205, 1206, 1246, 1245], [1206, 1207, 1247, 1246], [1207, 1208, 1248, 1247], [1208, 1209, 1249, 1248], [1209, 1210, 1250, 1249], [1210, 1211, 1251, 1250], [1211, 1212, 1252, 1251], [1212, 1213, 1253, 1252], [1213, 1214, 1254, 1253], [1214, 1215, 1255, 1254], [1215, 1216, 1256, 1255], [1216, 1217, 1257, 1256], [1217, 1218, 1258, 1257], [1218, 1219, 1259, 1258], [1219, 1220, 1260, 1259], [1220, 1221, 1261, 1260], [1221, 1222, 1262, 1261], [1222, 1223, 1263, 1262], [1223, 1224, 1264, 1263], [1224, 1225, 1265, 1264], [1225, 1226, 1266, 1265], [1226, 1227, 1267, 1266], [1227, 1228, 1268, 1267], [1228, 1229, 1269, 1268], [1229, 1230, 1270, 1269], [1230, 1231, 1271, 1270], [1231, 1232, 1272, 1271], [1232, 1233, 1273, 1272], [1233, 1234, 1274, 1273], [1234, 1235, 1275, 1274], [1235, 1236, 1276, 1275], [1236, 1237, 1277, 1276], [1237, 1238, 1278, 1277], [1238, 1239, 1279, 1278], [1241, 1240, 1280, 1281], [1240, 1242, 1282, 1280], [1242, 1243, 1283, 1282], [1243, 1244, 1284, 1283], [1244, 1245, 1285, 1284], [1245, 1246, 1286, 1285], [1246, 1247, 1287, 1286], [1247, 1248, 1288, 1287], [1248, 1249, 1289, 1288], [1249, 1250, 1290, 1289], [1250, 1251, 1291, 1290], [1251, 1252, 1292, 1291], [1252, 1253, 1293, 1292], [1253, 1254, 1294, 1293], [1254, 1255, 1295, 1294], [1255, 1256, 1296, 1295], [1256, 1257, 1297, 1296], [1257, 1258, 1298, 1297], [1258, 1259, 1299, 1298], [1259, 1260, 1300, 1299], [1260, 1261, 1301, 1300], [1261, 1262, 1302, 1301], [1262, 1263, 1303, 1302], [1263, 1264, 1304, 1303], [1264, 1265, 1305, 1304], [1265, 1266, 1306, 1305], [1266, 1267, 1307, 1306], [1267, 1268, 1308, 1307], [1268, 1269, 1309, 1308], [1269, 1270, 1310, 1309], [1270, 1271, 1311, 1310], [1271, 1272, 1312, 1311], [1272, 1273, 1313, 1312], [1273, 1274, 1314, 1313], [1274, 1275, 1315, 1314], [1275, 1276, 1316, 1315], [1276, 1277, 1317, 1316], [1277, 1278, 1318, 1317], [1278, 1279, 1319, 1318], [1281, 1280, 1320, 1321], [1280, 1282, 1322, 1320], [1282, 1283, 1323, 1322], [1283, 1284, 1324, 1323], [1284, 1285, 1325, 1324], [1285, 1286, 1326, 1325], [1286, 1287, 1327, 1326], [1287, 1288, 1328, 1327], [1288, 1289, 1329, 1328], [1289, 1290, 1330, 1329], [1290, 1291, 1331, 1330], [1291, 1292, 1332, 1331], [1292, 1293, 1333, 1332], [1293, 1294, 1334, 1333], [1294, 1295, 1335, 1334], [1295, 1296, 1336, 1335], [1296, 1297, 1337, 1336], [1297, 1298, 1338, 1337], [1298, 1299, 1339, 1338], [1299, 1300, 1340, 1339], [1300, 1301, 1341, 1340], [1301, 1302, 1342, 1341], [1302, 1303, 1343, 1342], [1303, 1304, 1344, 1343], [1304, 1305, 1345, 1344], [1305, 1306, 1346, 1345], [1306, 1307, 1347, 1346], [1307, 1308, 1348, 1347], [1308, 1309, 1349, 1348], [1309, 1310, 1350, 1349], [1310, 1311, 1351, 1350], [1311, 1312, 1352, 1351], [1312, 1313, 1353, 1352], [1313, 1314, 1354, 1353], [1314, 1315, 1355, 1354], [1315, 1316, 1356, 1355], [1316, 1317, 1357, 1356], [1317, 1318, 1358, 1357], [1318, 1319, 1359, 1358], [1321, 1320, 1360, 1361], [1320, 1322, 1362, 1360], [1322, 1323, 1363, 1362], [1323, 1324, 1364, 1363], [1324, 1325, 1365, 1364], [1325, 1326, 1366, 1365], [1326, 1327, 1367, 1366], [1327, 1328, 1368, 1367], [1328, 1329, 1369, 1368], [1329, 1330, 1370, 1369], [1330, 1331, 1371, 1370], [1331, 1332, 1372, 1371], [1332, 1333, 1373, 1372], [1333, 1334, 1374, 1373], [1334, 1335, 1375, 1374], [1335, 1336, 1376, 1375], [1336, 1337, 1377, 1376], [1337, 1338, 1378, 1377], [1338, 1339, 1379, 1378], [1339, 1340, 1380, 1379], [1340, 1341, 1381, 1380], [1341, 1342, 1382, 1381], [1342, 1343, 1383, 1382], [1343, 1344, 1384, 1383], [1344, 1345, 1385, 1384], [1345, 1346, 1386, 1385], [1346, 1347, 1387, 1386], [1347, 1348, 1388, 1387], [1348, 1349, 1389, 1388], [1349, 1350, 1390, 1389], [1350, 1351, 1391, 1390], [1351, 1352, 1392, 1391], [1352, 1353, 1393, 1392], [1353, 1354, 1394, 1393], [1354, 1355, 1395, 1394], [1355, 1356, 1396, 1395], [1356, 1357, 1397, 1396], [1357, 1358, 1398, 1397], [1358, 1359, 1399, 1398], [1361, 1360, 1400, 1401], [1360, 1362, 1402, 1400], [1362, 1363, 1403, 1402], [1363, 1364, 1404, 1403], [1364, 1365, 1405, 1404], [1365, 1366, 1406, 1405], [1366, 1367, 1407, 1406], [1367, 1368, 1408, 1407], [1368, 1369, 1409, 1408], [1369, 1370, 1410, 1409], [1370, 1371, 1411, 1410], [1371, 1372, 1412, 1411], [1372, 1373, 1413, 1412], [1373, 1374, 1414, 1413], [1374, 1375, 1415, 1414], [1375, 1376, 1416, 1415], [1376, 1377, 1417, 1416], [1377, 1378, 1418, 1417], [1378, 1379, 1419, 1418], [1379, 1380, 1420, 1419], [1380, 1381, 1421, 1420], [1381, 1382, 1422, 1421], [1382, 1383, 1423, 1422], [1383, 1384, 1424, 1423], [1384, 1385, 1425, 1424], [1385, 1386, 1426, 1425], [1386, 1387, 1427, 1426], [1387, 1388, 1428, 1427], [1388, 1389, 1429, 1428], [1389, 1390, 1430, 1429], [1390, 1391, 1431, 1430], [1391, 1392, 1432, 1431], [1392, 1393, 1433, 1432], [1393, 1394, 1434, 1433], [1394, 1395, 1435, 1434], [1395, 1396, 1436, 1435], [1396, 1397, 1437, 1436], [1397, 1398, 1438, 1437], [1398, 1399, 1439, 1438], [1401, 1400, 1440, 1441], [1400, 1402, 1442, 1440], [1402, 1403, 1443, 1442], [1403, 1404, 1444, 1443], [1404, 1405, 1445, 1444], [1405, 1406, 1446, 1445], [1406, 1407, 1447, 1446], [1407, 1408, 1448, 1447], [1408, 1409, 1449, 1448], [1409, 1410, 1450, 1449], [1410, 1411, 1451, 1450], [1411, 1412, 1452, 1451], [1412, 1413, 1453, 1452], [1413, 1414, 1454, 1453], [1414, 1415, 1455, 1454], [1415, 1416, 1456, 1455], [1416, 1417, 1457, 1456], [1417, 1418, 1458, 1457], [1418, 1419, 1459, 1458], [1419, 1420, 1460, 1459], [1420, 1421, 1461, 1460], [1421, 1422, 1462, 1461], [1422, 1423, 1463, 1462], [1423, 1424, 1464, 1463], [1424, 1425, 1465, 1464], [1425, 1426, 1466, 1465], [1426, 1427, 1467, 1466], [1427, 1428, 1468, 1467], [1428, 1429, 1469, 1468], [1429, 1430, 1470, 1469], [1430, 1431, 1471, 1470], [1431, 1432, 1472, 1471], [1432, 1433, 1473, 1472], [1433, 1434, 1474, 1473], [1434, 1435, 1475, 1474], [1435, 1436, 1476, 1475], [1436, 1437, 1477, 1476], [1437, 1438, 1478, 1477], [1438, 1439, 1479, 1478], [1441, 1440, 1480, 1481], [1440, 1442, 1482, 1480], [1442, 1443, 1483, 1482], [1443, 1444, 1484, 1483], [1444, 1445, 1485, 1484], [1445, 1446, 1486, 1485], [1446, 1447, 1487, 1486], [1447, 1448, 1488, 1487], [1448, 1449, 1489, 1488], [1449, 1450, 1490, 1489], [1450, 1451, 1491, 1490], [1451, 1452, 1492, 1491], [1452, 1453, 1493, 1492], [1453, 1454, 1494, 1493], [1454, 1455, 1495, 1494], [1455, 1456, 1496, 1495], [1456, 1457, 1497, 1496], [1457, 1458, 1498, 1497], [1458, 1459, 1499, 1498], [1459, 1460, 1500, 1499], [1460, 1461, 1501, 1500], [1461, 1462, 1502, 1501], [1462, 1463, 1503, 1502], [1463, 1464, 1504, 1503], [1464, 1465, 1505, 1504], [1465, 1466, 1506, 1505], [1466, 1467, 1507, 1506], [1467, 1468, 1508, 1507], [1468, 1469, 1509, 1508], [1469, 1470, 1510, 1509], [1470, 1471, 1511, 1510], [1471, 1472, 1512, 1511], [1472, 1473, 1513, 1512], [1473, 1474, 1514, 1513], [1474, 1475, 1515, 1514], [1475, 1476, 1516, 1515], [1476, 1477, 1517, 1516], [1477, 1478, 1518, 1517], [1478, 1479, 1519, 1518], [1481, 1480, 1520, 1521], [1480, 1482, 1522, 1520], [1482, 1483, 1523, 1522], [1483, 1484, 1524, 1523], [1484, 1485, 1525, 1524], [1485, 1486, 1526, 1525], [1486, 1487, 1527, 1526], [1487, 1488, 1528, 1527], [1488, 1489, 1529, 1528], [1489, 1490, 1530, 1529], [1490, 1491, 1531, 1530], [1491, 1492, 1532, 1531], [1492, 1493, 1533, 1532], [1493, 1494, 1534, 1533], [1494, 1495, 1535, 1534], [1495, 1496, 1536, 1535], [1496, 1497, 1537, 1536], [1497, 1498, 1538, 1537], [1498, 1499, 1539, 1538], [1499, 1500, 1540, 1539], [1500, 1501, 1541, 1540], [1501, 1502, 1542, 1541], [1502, 1503, 1543, 1542], [1503, 1504, 1544, 1543], [1504, 1505, 1545, 1544], [1505, 1506, 1546, 1545], [1506, 1507, 1547, 1546], [1507, 1508, 1548, 1547], [1508, 1509, 1549, 1548], [1509, 1510, 1550, 1549], [1510, 1511, 1551, 1550], [1511, 1512, 1552, 1551], [1512, 1513, 1553, 1552], [1513, 1514, 1554, 1553], [1514, 1515, 1555, 1554], [1515, 1516, 1556, 1555], [1516, 1517, 1557, 1556], [1517, 1518, 1558, 1557], [1518, 1519, 1559, 1558], [1521, 1520, 1560, 1561], [1520, 1522, 1562, 1560], [1522, 1523, 1563, 1562], [1523, 1524, 1564, 1563], [1524, 1525, 1565, 1564], [1525, 1526, 1566, 1565], [1526, 1527, 1567, 1566], [1527, 1528, 1568, 1567], [1528, 1529, 1569, 1568], [1529, 1530, 1570, 1569], [1530, 1531, 1571, 1570], [1531, 1532, 1572, 1571], [1532, 1533, 1573, 1572], [1533, 1534, 1574, 1573], [1534, 1535, 1575, 1574], [1535, 1536, 1576, 1575], [1536, 1537, 1577, 1576], [1537, 1538, 1578, 1577], [1538, 1539, 1579, 1578], [1539, 1540, 1580, 1579], [1540, 1541, 1581, 1580], [1541, 1542, 1582, 1581], [1542, 1543, 1583, 1582], [1543, 1544, 1584, 1583], [1544, 1545, 1585, 1584], [1545, 1546, 1586, 1585], [1546, 1547, 1587, 1586], [1547, 1548, 1588, 1587], [1548, 1549, 1589, 1588], [1549, 1550, 1590, 1589], [1550, 1551, 1591, 1590], [1551, 1552, 1592, 1591], [1552, 1553, 1593, 1592], [1553, 1554, 1594, 1593], [1554, 1555, 1595, 1594], [1555, 1556, 1596, 1595], [1556, 1557, 1597, 1596], [1557, 1558, 1598, 1597], [1558, 1559, 1599, 1598]], &quot;color&quot;: &quot;#6666ff&quot;, &quot;opacity&quot;: 1.0}];\n",
       "    for ( var i=0 ; i < surfaces.length ; i++ ) addSurface( surfaces[i] );\n",
       "\n",
       "    function addSurface( json ) {\n",
       "\n",
       "        var useFaceColors = 'faceColors' in json ? true : false;\n",
       "\n",
       "        var geometry = new THREE.Geometry();\n",
       "        for ( var i=0 ; i < json.vertices.length ; i++ ) {\n",
       "            var v = json.vertices[i];\n",
       "            geometry.vertices.push( new THREE.Vector3( a[0]*v.x, a[1]*v.y, a[2]*v.z ) );\n",
       "        }\n",
       "        for ( var i=0 ; i < json.faces.length ; i++ ) {\n",
       "            var f = json.faces[i];\n",
       "            for ( var j=0 ; j < f.length - 2 ; j++ ) {\n",
       "                var face = new THREE.Face3( f[0], f[j+1], f[j+2] );\n",
       "                if ( useFaceColors ) face.color.set( json.faceColors[i] );\n",
       "                geometry.faces.push( face );\n",
       "            }\n",
       "        }\n",
       "        geometry.computeVertexNormals();\n",
       "\n",
       "        var side = json.singleSide ? THREE.FrontSide : THREE.DoubleSide;\n",
       "        var transparent = json.opacity < 1 ? true : false;\n",
       "        var depthWrite = 'depthWrite' in json ? json.depthWrite : !transparent;\n",
       "        var flatShading = json.useFlatShading ? json.useFlatShading : false;\n",
       "\n",
       "        var material = new THREE.MeshPhongMaterial( { side: side,\n",
       "                                     color: useFaceColors ? 'white' : json.color,\n",
       "                                     vertexColors: useFaceColors ? THREE.FaceColors : THREE.NoColors,\n",
       "                                     transparent: transparent, opacity: json.opacity,\n",
       "                                     shininess: 20, flatShading: flatShading,\n",
       "                                     depthWrite: depthWrite } );\n",
       "\n",
       "        var c = new THREE.Vector3();\n",
       "        geometry.computeBoundingBox();\n",
       "        geometry.boundingBox.getCenter( c );\n",
       "        geometry.translate( -c.x, -c.y, -c.z );\n",
       "\n",
       "        var mesh = new THREE.Mesh( geometry, material );\n",
       "        mesh.position.set( c.x, c.y, c.z );\n",
       "        if ( transparent && json.renderOrder ) mesh.renderOrder = json.renderOrder;\n",
       "        mesh.userData = json;\n",
       "        scene.add( mesh );\n",
       "\n",
       "        if ( json.showMeshGrid ) addSurfaceMeshGrid( json );\n",
       "\n",
       "    }\n",
       "\n",
       "    function addSurfaceMeshGrid( json ) {\n",
       "\n",
       "        var geometry = new THREE.Geometry();\n",
       "\n",
       "        for ( var i=0 ; i < json.faces.length ; i++ ) {\n",
       "            var f = json.faces[i];\n",
       "            for ( var j=0 ; j < f.length ; j++ ) {\n",
       "                var k = j === f.length-1 ? 0 : j+1;\n",
       "                var v1 = json.vertices[f[j]];\n",
       "                var v2 = json.vertices[f[k]];\n",
       "                // vertices in opposite directions on neighboring faces\n",
       "                var nudge = f[j] < f[k] ? .0005*zRange : -.0005*zRange;\n",
       "                geometry.vertices.push( new THREE.Vector3( a[0]*v1.x, a[1]*v1.y, a[2]*(v1.z+nudge) ) );\n",
       "                geometry.vertices.push( new THREE.Vector3( a[0]*v2.x, a[1]*v2.y, a[2]*(v2.z+nudge) ) );\n",
       "            }\n",
       "        }\n",
       "\n",
       "        var c = new THREE.Vector3();\n",
       "        geometry.computeBoundingBox();\n",
       "        geometry.boundingBox.getCenter( c );\n",
       "        geometry.translate( -c.x, -c.y, -c.z );\n",
       "\n",
       "        var gridColor = options.theme === 'dark' ? 'white' : 'black';\n",
       "        var linewidth = json.linewidth || 1;\n",
       "        var materialOptions = { color: gridColor, linewidth: linewidth };\n",
       "\n",
       "        var mesh;\n",
       "        if ( linewidth > 1 && window.createFatLineSegments ) {\n",
       "            mesh = createFatLineSegments( geometry, materialOptions );\n",
       "        } else {\n",
       "            var material = new THREE.LineBasicMaterial( materialOptions );\n",
       "            mesh = new THREE.LineSegments( geometry, material );\n",
       "        }\n",
       "\n",
       "        mesh.position.set( c.x, c.y, c.z );\n",
       "        mesh.userData = json;\n",
       "        scene.add( mesh );\n",
       "\n",
       "    }\n",
       "\n",
       "    function render() {\n",
       "\n",
       "        if ( window.updateAnimation ) animate = updateAnimation();\n",
       "        if ( animate ) requestAnimationFrame( render );\n",
       "\n",
       "        renderer.render( scene, camera );\n",
       "\n",
       "    }\n",
       "\n",
       "    render();\n",
       "    controls.update();\n",
       "    if ( !animate ) render();\n",
       "\n",
       "\n",
       "    // menu functions\n",
       "\n",
       "    function toggleMenu() {\n",
       "\n",
       "        var m = document.getElementById( 'menu-content' );\n",
       "        if ( m.style.display === 'block' ) m.style.display = 'none'\n",
       "        else m.style.display = 'block';\n",
       "\n",
       "    }\n",
       "\n",
       "\n",
       "    function saveAsPNG() {\n",
       "\n",
       "        var a = document.body.appendChild( document.createElement( 'a' ) );\n",
       "        a.href = renderer.domElement.toDataURL( 'image/png' );\n",
       "        a.download = 'screenshot';\n",
       "        a.click();\n",
       "\n",
       "    }\n",
       "\n",
       "    function saveAsHTML() {\n",
       "\n",
       "        toggleMenu(); // otherwise visible in output\n",
       "        event.stopPropagation();\n",
       "\n",
       "        var blob = new Blob( [ '<!DOCTYPE html>\\n' + document.documentElement.outerHTML ] );\n",
       "        var a = document.body.appendChild( document.createElement( 'a' ) );\n",
       "        a.href = window.URL.createObjectURL( blob );\n",
       "        a.download = suggestFilename();\n",
       "        a.click();\n",
       "\n",
       "        function suggestFilename() {\n",
       "            if ( !document.title ) {\n",
       "                return 'graphic.html';\n",
       "            } else if ( /\\.html?$/i.test( document.title ) ) {\n",
       "                return document.title; // already ends in .htm or .html\n",
       "            } else {\n",
       "                return document.title + '.html';\n",
       "            }\n",
       "        }\n",
       "\n",
       "    }\n",
       "\n",
       "    function getViewpoint() {\n",
       "\n",
       "        function roundTo( x, n ) { return +x.toFixed(n); }\n",
       "\n",
       "        var v = camera.quaternion.inverse();\n",
       "        var r = Math.sqrt( v.x*v.x + v.y*v.y + v.z*v.z );\n",
       "        var axis = [ roundTo( v.x / r, 4 ), roundTo( v.y / r, 4 ), roundTo( v.z / r, 4 ) ];\n",
       "        var angle = roundTo( 2 * Math.atan2( r, v.w ) * 180 / Math.PI, 2 );\n",
       "\n",
       "        var textArea = document.createElement( 'textarea' );\n",
       "        textArea.textContent = JSON.stringify( axis ) + ',' + angle;\n",
       "        textArea.style.csstext = 'position: absolute; top: -100%';\n",
       "        document.body.append( textArea );\n",
       "        textArea.select();\n",
       "        document.execCommand( 'copy' );\n",
       "\n",
       "        var m = document.getElementById( 'menu-message' );\n",
       "        m.innerHTML = 'Viewpoint copied to clipboard';\n",
       "        m.style.display = 'block';\n",
       "        setTimeout( function() { m.style.display = 'none'; }, 2000 );\n",
       "\n",
       "    }\n",
       "\n",
       "    function getCamera() {\n",
       "\n",
       "        function roundTo( x, n ) { return +x.toFixed(n); }\n",
       "\n",
       "        var pos = camera.position;\n",
       "        var pos_r = [ roundTo( pos.x, 4 ), roundTo( pos.y, 4 ), roundTo( pos.z, 4 ) ];\n",
       "   //     var up = camera.up; // up is always (0,0,1)\n",
       "        var textArea = document.createElement('textarea');\n",
       "        var cam_position = JSON.stringify(pos_r);\n",
       "        textArea.textContent = ',camera_position=' + cam_position;\n",
       "        textArea.style.csstext = 'position: absolute; top: -100%';\n",
       "        document.body.append( textArea );\n",
       "        textArea.select();\n",
       "        document.execCommand( 'copy' );\n",
       "\n",
       "        var m = document.getElementById( 'menu-message' );\n",
       "        m.innerHTML = 'Camera position '+ cam_position+' copied to clipboard';\n",
       "        m.style.display = 'block';\n",
       "        setTimeout( function() { m.style.display = 'none'; }, 2000 );\n",
       "\n",
       "    }\n",
       "                                       \n",
       "</script>\n",
       "\n",
       "<div id=&quot;menu-container&quot; onclick=&quot;toggleMenu()&quot;>&#x24d8;\n",
       "<div id=&quot;menu-message&quot;></div>\n",
       "<div id=&quot;menu-content&quot;>\n",
       "<div onclick=&quot;saveAsPNG()&quot;>Save as PNG</div>\n",
       "<div onclick=&quot;saveAsHTML()&quot;>Save as HTML</div>\n",
       "<div onclick=&quot;getCamera()&quot;>Get camera</div>\n",
       "<div onclick=&quot;getViewpoint()&quot;>Get viewpoint</div>\n",
       "<div>Close Menu</div>\n",
       "</div></div>\n",
       "\n",
       "\n",
       "</body>\n",
       "</html>\n",
       "\"\n",
       "        width=\"100%\"\n",
       "        height=\"400\"\n",
       "        style=\"border: 0;\">\n",
       "</iframe>\n"
      ],
      "text/plain": [
       "Graphics3d Object"
      ]
     },
     "execution_count": 27,
     "metadata": {},
     "output_type": "execute_result"
    }
   ],
   "source": [
    "plot3d(V(r).subs({M:1, ℓ:1}),(r,2,10), (μ,0,3),theme='dark')"
   ]
  },
  {
   "cell_type": "markdown",
   "metadata": {},
   "source": [
    "**Potential $V(r)$ and tortoise coordinates $r_\\star$**"
   ]
  },
  {
   "cell_type": "markdown",
   "metadata": {},
   "source": [
    "Setting the constant $C = -2M\\log(2M)$ for tortoise coordinates"
   ]
  },
  {
   "cell_type": "code",
   "execution_count": 28,
   "metadata": {},
   "outputs": [
    {
     "data": {
      "text/html": [
       "<html>\\(\\displaystyle -\\frac{2 \\, M μ^{2}}{r} + μ^{2} - \\frac{2 \\, M {\\left(ℓ + 1\\right)} ℓ}{r^{3}} + \\frac{{\\left(ℓ + 1\\right)} ℓ}{r^{2}} - \\frac{4 \\, M^{2}}{r^{4}} + \\frac{2 \\, M}{r^{3}}\\)</html>"
      ],
      "text/latex": [
       "$\\displaystyle -\\frac{2 \\, M μ^{2}}{r} + μ^{2} - \\frac{2 \\, M {\\left(ℓ + 1\\right)} ℓ}{r^{3}} + \\frac{{\\left(ℓ + 1\\right)} ℓ}{r^{2}} - \\frac{4 \\, M^{2}}{r^{4}} + \\frac{2 \\, M}{r^{3}}$"
      ],
      "text/plain": [
       "-2*M*μ^2/r + μ^2 - 2*M*(ℓ + 1)*ℓ/r^3 + (ℓ + 1)*ℓ/r^2 - 4*M^2/r^4 + 2*M/r^3"
      ]
     },
     "metadata": {},
     "output_type": "display_data"
    },
    {
     "data": {
      "text/html": [
       "<html>\\(\\displaystyle M \\log\\left(\\frac{{\\left(2 \\, M - r\\right)}^{2}}{4 \\, M^{2}}\\right) + r\\)</html>"
      ],
      "text/latex": [
       "$\\displaystyle M \\log\\left(\\frac{{\\left(2 \\, M - r\\right)}^{2}}{4 \\, M^{2}}\\right) + r$"
      ],
      "text/plain": [
       "M*log(1/4*(2*M - r)^2/M^2) + r"
      ]
     },
     "metadata": {},
     "output_type": "display_data"
    }
   ],
   "source": [
    "V(r) = V(r).subs({λ:ℓ*(ℓ+1)})\n",
    "display(V(r))\n",
    "tortoise = (integral(drt,r)-2*M*log(2*M)).simplify_log()\n",
    "display(tortoise)"
   ]
  },
  {
   "cell_type": "markdown",
   "metadata": {},
   "source": [
    "## Plot of the potential"
   ]
  },
  {
   "cell_type": "markdown",
   "metadata": {},
   "source": [
    "**Plot parameters $(m=1, \\ell=1, \\mu=.1)$**"
   ]
  },
  {
   "cell_type": "code",
   "execution_count": 29,
   "metadata": {},
   "outputs": [],
   "source": [
    "fast_tortoise = fast_callable(tortoise.subs({M:1}), vars=[r])"
   ]
  },
  {
   "cell_type": "code",
   "execution_count": 30,
   "metadata": {},
   "outputs": [],
   "source": [
    "fast_V = fast_callable(V(r).subs({M:1, ℓ:1, μ:.1}), vars=[r])"
   ]
  },
  {
   "cell_type": "code",
   "execution_count": 31,
   "metadata": {},
   "outputs": [],
   "source": [
    "import numpy as np"
   ]
  },
  {
   "cell_type": "code",
   "execution_count": 32,
   "metadata": {},
   "outputs": [],
   "source": [
    "r1 = np.arange(2+10**-5, 2+10**-3,10**-5)\n",
    "r2 = np.arange(2+2*10**-3, 2+1*10**-1,10**-3)\n",
    "r3 = np.arange(2+2*10**-1,50, 10**-1)"
   ]
  },
  {
   "cell_type": "code",
   "execution_count": 33,
   "metadata": {},
   "outputs": [
    {
     "data": {
      "text/html": [
       "<html>\\(\\displaystyle 49.899999999999835\\)</html>"
      ],
      "text/latex": [
       "$\\displaystyle 49.899999999999835$"
      ],
      "text/plain": [
       "49.899999999999835"
      ]
     },
     "metadata": {},
     "output_type": "display_data"
    },
    {
     "data": {
      "text/html": [
       "<html>\\(\\displaystyle 2.00001\\)</html>"
      ],
      "text/latex": [
       "$\\displaystyle 2.00001$"
      ],
      "text/plain": [
       "2.00001"
      ]
     },
     "metadata": {},
     "output_type": "display_data"
    }
   ],
   "source": [
    "rr = np.concatenate((r1,r2,r3))\n",
    "display(rr.max(),rr.min())"
   ]
  },
  {
   "cell_type": "code",
   "execution_count": 34,
   "metadata": {},
   "outputs": [
    {
     "data": {
      "text/html": [
       "<html>\\(\\displaystyle 56.25193664771368\\)</html>"
      ],
      "text/latex": [
       "$\\displaystyle 56.25193664771368$"
      ],
      "text/plain": [
       "56.25193664771368"
      ]
     },
     "metadata": {},
     "output_type": "display_data"
    },
    {
     "data": {
      "text/html": [
       "<html>\\(\\displaystyle -22.412135291047246\\)</html>"
      ],
      "text/latex": [
       "$\\displaystyle -22.412135291047246$"
      ],
      "text/plain": [
       "-22.412135291047246"
      ]
     },
     "metadata": {},
     "output_type": "display_data"
    }
   ],
   "source": [
    "tt = fast_tortoise(rr)\n",
    "display(tt.max(),tt.min())"
   ]
  },
  {
   "cell_type": "code",
   "execution_count": 35,
   "metadata": {},
   "outputs": [
    {
     "data": {
      "text/html": [
       "<html>\\(\\displaystyle 0.10235678605815796\\)</html>"
      ],
      "text/latex": [
       "$\\displaystyle 0.10235678605815796$"
      ],
      "text/plain": [
       "0.10235678605815796"
      ]
     },
     "metadata": {},
     "output_type": "display_data"
    },
    {
     "data": {
      "text/html": [
       "<html>\\(\\displaystyle \\verb|3.799937250685559e-06|\\)</html>"
      ],
      "text/latex": [
       "$\\displaystyle \\verb|3.799937250685559e-06|$"
      ],
      "text/plain": [
       "3.799937250685559e-06"
      ]
     },
     "metadata": {},
     "output_type": "display_data"
    }
   ],
   "source": [
    "vr = fast_V(rr)\n",
    "display(vr.max(),vr.min())"
   ]
  },
  {
   "cell_type": "code",
   "execution_count": 36,
   "metadata": {},
   "outputs": [],
   "source": [
    "plot_points = list(zip(tt,vr))"
   ]
  },
  {
   "cell_type": "code",
   "execution_count": 37,
   "metadata": {},
   "outputs": [],
   "source": [
    "from matplotlib import rc\n",
    "rc('text', usetex=True)"
   ]
  },
  {
   "cell_type": "markdown",
   "metadata": {},
   "source": [
    "**Plots of the potential**"
   ]
  },
  {
   "cell_type": "code",
   "execution_count": 38,
   "metadata": {},
   "outputs": [
    {
     "data": {
      "image/png": "[encoded data removed]",
      "text/plain": [
       "Graphics object consisting of 1 graphics primitive"
      ]
     },
     "execution_count": 38,
     "metadata": {},
     "output_type": "execute_result"
    }
   ],
   "source": [
    "plot_potential = list_plot(plot_points, plotjoined=True, gridlines=True,axes_labels=[r'${r_\\star}/{M}$','$M^2 V$'], frame=True, axes=False)\n",
    "plot_potential"
   ]
  },
  {
   "cell_type": "markdown",
   "metadata": {},
   "source": [
    "## Asymptotic solutions"
   ]
  },
  {
   "cell_type": "markdown",
   "metadata": {},
   "source": [
    "**Near the event horizon (r=2M)**"
   ]
  },
  {
   "cell_type": "code",
   "execution_count": 39,
   "metadata": {},
   "outputs": [
    {
     "data": {
      "text/html": [
       "<html>\\(\\displaystyle -\\infty\\)</html>"
      ],
      "text/latex": [
       "$\\displaystyle -\\infty$"
      ],
      "text/plain": [
       "-Infinity"
      ]
     },
     "execution_count": 39,
     "metadata": {},
     "output_type": "execute_result"
    }
   ],
   "source": [
    "limit(tortoise,r=2*M, dir='+')"
   ]
  },
  {
   "cell_type": "code",
   "execution_count": 40,
   "metadata": {},
   "outputs": [
    {
     "data": {
      "text/html": [
       "<html>\\(\\displaystyle 0\\)</html>"
      ],
      "text/latex": [
       "$\\displaystyle 0$"
      ],
      "text/plain": [
       "0"
      ]
     },
     "execution_count": 40,
     "metadata": {},
     "output_type": "execute_result"
    }
   ],
   "source": [
    "limit(V(r),r=2*M)"
   ]
  },
  {
   "cell_type": "code",
   "execution_count": 41,
   "metadata": {},
   "outputs": [
    {
     "data": {
      "text/html": [
       "<html>\\(\\displaystyle ω^{2} \\psi_{_{\\ell m}}\\left({r_\\star}\\right) + \\frac{\\partial^{2}}{(\\partial {r_\\star})^{2}}\\psi_{_{\\ell m}}\\left({r_\\star}\\right) = 0\\)</html>"
      ],
      "text/latex": [
       "$\\displaystyle ω^{2} \\psi_{_{\\ell m}}\\left({r_\\star}\\right) + \\frac{\\partial^{2}}{(\\partial {r_\\star})^{2}}\\psi_{_{\\ell m}}\\left({r_\\star}\\right) = 0$"
      ],
      "text/plain": [
       "ω^2*ψ(rt) + diff(ψ(rt), rt, rt) == 0"
      ]
     },
     "execution_count": 41,
     "metadata": {},
     "output_type": "execute_result"
    }
   ],
   "source": [
    "eq_ψ_H = limit(eq_ψ,r=2*M, dir='+')(rt)\n",
    "eq_ψ_H"
   ]
  },
  {
   "cell_type": "code",
   "execution_count": 42,
   "metadata": {},
   "outputs": [
    {
     "data": {
      "text/html": [
       "<html>\\(\\displaystyle -\\frac{1}{2} i \\, K_{1} e^{\\left(i \\, {r_\\star} ω\\right)} + \\frac{1}{2} \\, K_{2} e^{\\left(i \\, {r_\\star} ω\\right)} + \\frac{1}{2} i \\, K_{1} e^{\\left(-i \\, {r_\\star} ω\\right)} + \\frac{1}{2} \\, K_{2} e^{\\left(-i \\, {r_\\star} ω\\right)}\\)</html>"
      ],
      "text/latex": [
       "$\\displaystyle -\\frac{1}{2} i \\, K_{1} e^{\\left(i \\, {r_\\star} ω\\right)} + \\frac{1}{2} \\, K_{2} e^{\\left(i \\, {r_\\star} ω\\right)} + \\frac{1}{2} i \\, K_{1} e^{\\left(-i \\, {r_\\star} ω\\right)} + \\frac{1}{2} \\, K_{2} e^{\\left(-i \\, {r_\\star} ω\\right)}$"
      ],
      "text/plain": [
       "-1/2*I*_K1*e^(I*rt*ω) + 1/2*_K2*e^(I*rt*ω) + 1/2*I*_K1*e^(-I*rt*ω) + 1/2*_K2*e^(-I*rt*ω)"
      ]
     },
     "execution_count": 42,
     "metadata": {},
     "output_type": "execute_result"
    }
   ],
   "source": [
    "assume(ω>0)\n",
    "ψ_H0 = desolve(eq_ψ_H,ψ(rt), ivar=rt).maxima_methods().exponentialize().expand()\n",
    "ψ_H0"
   ]
  },
  {
   "cell_type": "code",
   "execution_count": 43,
   "metadata": {},
   "outputs": [],
   "source": [
    "k1,k2 = ψ_H0.variables()[:2]"
   ]
  },
  {
   "cell_type": "code",
   "execution_count": 44,
   "metadata": {},
   "outputs": [],
   "source": [
    "var('A_1 A_2')\n",
    "aux1 = solve(A_2 == -1/2*I*k1+1/2*k2, k1, solution_dict=True)\n",
    "aux2 = solve(A_1 == 1/2*I*k1+1/2*k2, k2, solution_dict=True)"
   ]
  },
  {
   "cell_type": "code",
   "execution_count": 45,
   "metadata": {},
   "outputs": [
    {
     "data": {
      "text/html": [
       "<html>\\(\\displaystyle A_{2} e^{\\left(i \\, {r_\\star} ω\\right)} + A_{1} e^{\\left(-i \\, {r_\\star} ω\\right)}\\)</html>"
      ],
      "text/latex": [
       "$\\displaystyle A_{2} e^{\\left(i \\, {r_\\star} ω\\right)} + A_{1} e^{\\left(-i \\, {r_\\star} ω\\right)}$"
      ],
      "text/plain": [
       "A_2*e^(I*rt*ω) + A_1*e^(-I*rt*ω)"
      ]
     },
     "execution_count": 45,
     "metadata": {},
     "output_type": "execute_result"
    }
   ],
   "source": [
    "s1 = sum(ψ_H0.find(w0*exp(i*rt*ω))).subs(aux1).expand()\n",
    "s2 = sum(ψ_H0.find(w0*exp(-i*rt*ω))).subs(aux2).expand()\n",
    "ψ_H = s1+s2\n",
    "ψ_H"
   ]
  },
  {
   "cell_type": "markdown",
   "metadata": {},
   "source": [
    "- $A_1$ represents the amplitude of a wave that enters the black hole \n",
    "- $A_2$ represents the amplitude of a wave that exits the black hole."
   ]
  },
  {
   "cell_type": "markdown",
   "metadata": {},
   "source": [
    "**Far away from the black hole, i.e. when $r → ∞$**"
   ]
  },
  {
   "cell_type": "code",
   "execution_count": 46,
   "metadata": {},
   "outputs": [
    {
     "data": {
      "text/html": [
       "<html>\\(\\displaystyle +\\infty\\)</html>"
      ],
      "text/latex": [
       "$\\displaystyle +\\infty$"
      ],
      "text/plain": [
       "+Infinity"
      ]
     },
     "execution_count": 46,
     "metadata": {},
     "output_type": "execute_result"
    }
   ],
   "source": [
    "limit(tortoise,r=oo)"
   ]
  },
  {
   "cell_type": "code",
   "execution_count": 47,
   "metadata": {},
   "outputs": [
    {
     "data": {
      "text/html": [
       "<html>\\(\\displaystyle μ^{2}\\)</html>"
      ],
      "text/latex": [
       "$\\displaystyle μ^{2}$"
      ],
      "text/plain": [
       "μ^2"
      ]
     },
     "execution_count": 47,
     "metadata": {},
     "output_type": "execute_result"
    }
   ],
   "source": [
    "limit(V(r),r=oo)"
   ]
  },
  {
   "cell_type": "code",
   "execution_count": 48,
   "metadata": {},
   "outputs": [
    {
     "data": {
      "text/html": [
       "<html>\\(\\displaystyle -μ^{2} \\psi_{_{\\ell m}}\\left({r_\\star}\\right) + ω^{2} \\psi_{_{\\ell m}}\\left({r_\\star}\\right) + \\frac{\\partial^{2}}{(\\partial {r_\\star})^{2}}\\psi_{_{\\ell m}}\\left({r_\\star}\\right) = 0\\)</html>"
      ],
      "text/latex": [
       "$\\displaystyle -μ^{2} \\psi_{_{\\ell m}}\\left({r_\\star}\\right) + ω^{2} \\psi_{_{\\ell m}}\\left({r_\\star}\\right) + \\frac{\\partial^{2}}{(\\partial {r_\\star})^{2}}\\psi_{_{\\ell m}}\\left({r_\\star}\\right) = 0$"
      ],
      "text/plain": [
       "-μ^2*ψ(rt) + ω^2*ψ(rt) + diff(ψ(rt), rt, rt) == 0"
      ]
     },
     "execution_count": 48,
     "metadata": {},
     "output_type": "execute_result"
    }
   ],
   "source": [
    "eq_ψ_oo = limit(eq_ψ,r=oo)(rt)\n",
    "eq_ψ_oo"
   ]
  },
  {
   "cell_type": "code",
   "execution_count": 49,
   "metadata": {},
   "outputs": [
    {
     "data": {
      "text/html": [
       "<html>\\(\\displaystyle -\\frac{1}{2} i \\, K_{1} e^{\\left(i \\, \\sqrt{-μ^{2} + ω^{2}} {r_\\star}\\right)} + \\frac{1}{2} \\, K_{2} e^{\\left(i \\, \\sqrt{-μ^{2} + ω^{2}} {r_\\star}\\right)} + \\frac{1}{2} i \\, K_{1} e^{\\left(-i \\, \\sqrt{-μ^{2} + ω^{2}} {r_\\star}\\right)} + \\frac{1}{2} \\, K_{2} e^{\\left(-i \\, \\sqrt{-μ^{2} + ω^{2}} {r_\\star}\\right)}\\)</html>"
      ],
      "text/latex": [
       "$\\displaystyle -\\frac{1}{2} i \\, K_{1} e^{\\left(i \\, \\sqrt{-μ^{2} + ω^{2}} {r_\\star}\\right)} + \\frac{1}{2} \\, K_{2} e^{\\left(i \\, \\sqrt{-μ^{2} + ω^{2}} {r_\\star}\\right)} + \\frac{1}{2} i \\, K_{1} e^{\\left(-i \\, \\sqrt{-μ^{2} + ω^{2}} {r_\\star}\\right)} + \\frac{1}{2} \\, K_{2} e^{\\left(-i \\, \\sqrt{-μ^{2} + ω^{2}} {r_\\star}\\right)}$"
      ],
      "text/plain": [
       "-1/2*I*_K1*e^(I*sqrt(-μ^2 + ω^2)*rt) + 1/2*_K2*e^(I*sqrt(-μ^2 + ω^2)*rt) + 1/2*I*_K1*e^(-I*sqrt(-μ^2 + ω^2)*rt) + 1/2*_K2*e^(-I*sqrt(-μ^2 + ω^2)*rt)"
      ]
     },
     "execution_count": 49,
     "metadata": {},
     "output_type": "execute_result"
    }
   ],
   "source": [
    "assume(ω-μ>0)\n",
    "ψ_oo0 = desolve(eq_ψ_oo,ψ(rt), ivar=rt).maxima_methods().exponentialize().expand()\n",
    "ψ_oo0"
   ]
  },
  {
   "cell_type": "code",
   "execution_count": 50,
   "metadata": {},
   "outputs": [
    {
     "data": {
      "text/html": [
       "<html>\\(\\displaystyle B_{2} e^{\\left(i \\, \\sqrt{-μ^{2} + ω^{2}} {r_\\star}\\right)} + B_{1} e^{\\left(-i \\, \\sqrt{-μ^{2} + ω^{2}} {r_\\star}\\right)}\\)</html>"
      ],
      "text/latex": [
       "$\\displaystyle B_{2} e^{\\left(i \\, \\sqrt{-μ^{2} + ω^{2}} {r_\\star}\\right)} + B_{1} e^{\\left(-i \\, \\sqrt{-μ^{2} + ω^{2}} {r_\\star}\\right)}$"
      ],
      "text/plain": [
       "B_2*e^(I*sqrt(-μ^2 + ω^2)*rt) + B_1*e^(-I*sqrt(-μ^2 + ω^2)*rt)"
      ]
     },
     "execution_count": 50,
     "metadata": {},
     "output_type": "execute_result"
    }
   ],
   "source": [
    "var('B_1 B_2')\n",
    "s1 = sum(ψ_oo0.find(w0*exp(i*rt*sqrt(ω^2-μ^2)))).subs(aux1).expand()\n",
    "s2 = sum(ψ_oo0.find(w0*exp(-i*rt*sqrt(ω^2-μ^2)))).subs(aux2).expand()\n",
    "ψ_oo = (s1+s2).subs({A_1:B_1, A_2:B_2})\n",
    "ψ_oo"
   ]
  },
  {
   "cell_type": "markdown",
   "metadata": {},
   "source": [
    "- If $ω > µ:$\n",
    "    - $B_1$ represents the amplitude of an incoming wave at infinity;\n",
    "    - $B_2$ represents the amplitude of an outgoing wave at infinity.\n",
    "- If $ω < µ:$\n",
    "    - $B_1$ represents an exponential growing mode at infinity;\n",
    "    - $B_2$ represents an exponential decaying mode at infinity."
   ]
  },
  {
   "cell_type": "code",
   "execution_count": null,
   "metadata": {},
   "outputs": [],
   "source": []
  }
 ],
 "metadata": {
  "kernelspec": {
   "display_name": "SageMath 10.0.rc2",
   "language": "sage",
   "name": "sagemath"
  },
  "language_info": {
   "codemirror_mode": {
    "name": "ipython",
    "version": 3
   },
   "file_extension": ".py",
   "mimetype": "text/x-python",
   "name": "python",
   "nbconvert_exporter": "python",
   "pygments_lexer": "ipython3",
   "version": "3.11.2"
  }
 },
 "nbformat": 4,
 "nbformat_minor": 4
}
