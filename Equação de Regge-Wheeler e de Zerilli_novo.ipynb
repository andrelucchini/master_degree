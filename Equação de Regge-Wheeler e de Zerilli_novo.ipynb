{
 "cells": [
  {
   "cell_type": "code",
   "execution_count": 1,
   "metadata": {},
   "outputs": [],
   "source": [
    "reset()"
   ]
  },
  {
   "cell_type": "code",
   "execution_count": 2,
   "metadata": {},
   "outputs": [],
   "source": [
    "%display latex"
   ]
  },
  {
   "cell_type": "markdown",
   "metadata": {},
   "source": [
    "#  Implementação das Equações de Regge-Wheeler e de Zerilli"
   ]
  },
  {
   "cell_type": "markdown",
   "metadata": {},
   "source": [
    "Definindo o espaço-tempo:"
   ]
  },
  {
   "cell_type": "code",
   "execution_count": 3,
   "metadata": {},
   "outputs": [],
   "source": [
    "M = Manifold(4, 'M', structure='Lorentzian')"
   ]
  },
  {
   "cell_type": "markdown",
   "metadata": {},
   "source": [
    "Definição da carta:"
   ]
  },
  {
   "cell_type": "code",
   "execution_count": 4,
   "metadata": {},
   "outputs": [
    {
     "data": {
      "text/html": [
       "<html>\\(\\displaystyle t :\\ \\left( -\\infty, +\\infty \\right) ;\\quad r :\\ \\left( 0 , +\\infty \\right) ;\\quad {θ} :\\ \\left[ 0 , \\pi \\right] ;\\quad {ϕ} :\\ \\left[ -\\pi , \\pi \\right] \\mbox{(periodic)}\\)</html>"
      ],
      "text/latex": [
       "$\\displaystyle t :\\ \\left( -\\infty, +\\infty \\right) ;\\quad r :\\ \\left( 0 , +\\infty \\right) ;\\quad {θ} :\\ \\left[ 0 , \\pi \\right] ;\\quad {ϕ} :\\ \\left[ -\\pi , \\pi \\right] \\mbox{(periodic)}$"
      ],
      "text/plain": [
       "t: (-oo, +oo); r: (0, +oo); θ: [0, pi]; ϕ: [-pi, pi] (periodic)"
      ]
     },
     "metadata": {},
     "output_type": "display_data"
    }
   ],
   "source": [
    "RW.<t,r,θ,ϕ> = M.chart(r't r:(0,oo) θ:[0,π]:θ ϕ:[-pi,pi]:periodic:ϕ')\n",
    "show(RW.coord_range())"
   ]
  },
  {
   "cell_type": "markdown",
   "metadata": {},
   "source": [
    "Definição das função $f(r)$ e $bb(r)$:"
   ]
  },
  {
   "cell_type": "code",
   "execution_count": 5,
   "metadata": {},
   "outputs": [],
   "source": [
    "var('ω m l')\n",
    "ll = var('ll')"
   ]
  },
  {
   "cell_type": "code",
   "execution_count": 6,
   "metadata": {},
   "outputs": [],
   "source": [
    "f = function('f')(r)\n",
    "bb = function('bb')(r)"
   ]
  },
  {
   "cell_type": "markdown",
   "metadata": {},
   "source": [
    "Definindo a métrica de Schwarzchild na forma\n",
    "\n",
    "$$g_{\\mu \\nu} = \\left(\\begin{array}{rrrr}\n",
    "-f\\left(r\\right) & 0 & 0 & 0 \\\\\n",
    "0 & f\\left(r\\right)^{-1} & 0 & 0 \\\\\n",
    "0 & 0 & r^{2} & 0 \\\\\n",
    "0 & 0 & 0 & r^{2} \\sin\\left(θ\\right)^{2}\n",
    "\\end{array}\\right)$$"
   ]
  },
  {
   "cell_type": "code",
   "execution_count": 7,
   "metadata": {},
   "outputs": [
    {
     "data": {
      "text/html": [
       "<html>\\(\\displaystyle g = -f\\left(r\\right) \\mathrm{d} t\\otimes \\mathrm{d} t + {\\rm bb}\\left(r\\right) \\mathrm{d} r\\otimes \\mathrm{d} r + r^{2} \\mathrm{d} {θ}\\otimes \\mathrm{d} {θ} + r^{2} \\sin\\left({θ}\\right)^{2} \\mathrm{d} {ϕ}\\otimes \\mathrm{d} {ϕ}\\)</html>"
      ],
      "text/latex": [
       "$\\displaystyle g = -f\\left(r\\right) \\mathrm{d} t\\otimes \\mathrm{d} t + {\\rm bb}\\left(r\\right) \\mathrm{d} r\\otimes \\mathrm{d} r + r^{2} \\mathrm{d} {θ}\\otimes \\mathrm{d} {θ} + r^{2} \\sin\\left({θ}\\right)^{2} \\mathrm{d} {ϕ}\\otimes \\mathrm{d} {ϕ}$"
      ],
      "text/plain": [
       "g = -f(r) dt⊗dt + bb(r) dr⊗dr + r^2 dθ⊗dθ + r^2*sin(θ)^2 dϕ⊗dϕ"
      ]
     },
     "execution_count": 7,
     "metadata": {},
     "output_type": "execute_result"
    }
   ],
   "source": [
    "g = M.metric()\n",
    "g[0,0] = - f\n",
    "g[1,1] = bb\n",
    "g[2,2] = r^2\n",
    "g[3,3] = r^2*sin(θ)^2\n",
    "g.display()"
   ]
  },
  {
   "cell_type": "markdown",
   "metadata": {},
   "source": [
    "Definindo $\\epsilon$ como parâmetro de expansão para as perturbações:"
   ]
  },
  {
   "cell_type": "code",
   "execution_count": 8,
   "metadata": {},
   "outputs": [
    {
     "data": {
      "text/html": [
       "<html>\\(\\displaystyle {\\epsilon}\\)</html>"
      ],
      "text/latex": [
       "$\\displaystyle {\\epsilon}$"
      ],
      "text/plain": [
       "ep"
      ]
     },
     "execution_count": 8,
     "metadata": {},
     "output_type": "execute_result"
    }
   ],
   "source": [
    "ep = var('ep', latex_name=r'\\epsilon')\n",
    "ep"
   ]
  },
  {
   "cell_type": "markdown",
   "metadata": {},
   "source": [
    "Definindo também: a freq. angular $\\omega$, a quantidade $ll$, os polinômios de Legendre $P_{\\ell}$ e os Harmônicos Esféricos $Y_{\\ell m}$. Bem como as funções Cossecante e Cotangente."
   ]
  },
  {
   "cell_type": "code",
   "execution_count": 9,
   "metadata": {},
   "outputs": [
    {
     "data": {
      "text/html": [
       "<html>\\(\\displaystyle P_\\ell\\left({θ}\\right)\\)</html>"
      ],
      "text/latex": [
       "$\\displaystyle P_\\ell\\left({θ}\\right)$"
      ],
      "text/plain": [
       "PL(θ)"
      ]
     },
     "execution_count": 9,
     "metadata": {},
     "output_type": "execute_result"
    }
   ],
   "source": [
    "PL = function('PL', latex_name=r'P_\\ell')(θ)\n",
    "#PL = legendre_P(l,θ)\n",
    "PL"
   ]
  },
  {
   "cell_type": "code",
   "execution_count": 10,
   "metadata": {},
   "outputs": [
    {
     "data": {
      "text/html": [
       "<html>\\(\\displaystyle \\left({\\rm Csc}\\left({θ}\\right), {\\rm Cot}\\left({θ}\\right)\\right)\\)</html>"
      ],
      "text/latex": [
       "$\\displaystyle \\left({\\rm Csc}\\left({θ}\\right), {\\rm Cot}\\left({θ}\\right)\\right)$"
      ],
      "text/plain": [
       "(Csc(θ), Cot(θ))"
      ]
     },
     "execution_count": 10,
     "metadata": {},
     "output_type": "execute_result"
    }
   ],
   "source": [
    "Csc = function('Csc')(θ)\n",
    "#Csc = csc(θ)\n",
    "Cot = function('Cot')(θ)\n",
    "#Cot = cot(θ)\n",
    "Csc, Cot"
   ]
  },
  {
   "cell_type": "markdown",
   "metadata": {},
   "source": [
    "Defindo a derivada segunda do polinômio de Legendre como\n",
    "\n",
    "$$\\frac{\\partial^2}{\\partial \\theta^2}P_{\\ell} = \\left(m^2 \\csc{(\\theta)}^2 - ll\\right)P_{\\ell}(\\theta) - \\cot{(\\theta)}\\frac{\\partial P_{\\ell}}{\\partial \\theta}$$"
   ]
  },
  {
   "cell_type": "code",
   "execution_count": 11,
   "metadata": {},
   "outputs": [
    {
     "data": {
      "text/html": [
       "<html>\\(\\displaystyle {\\left(m^{2} {\\rm Csc}\\left({θ}\\right)^{2} - \\mathit{ll}\\right)} P_\\ell\\left({θ}\\right) - {\\rm Cot}\\left({θ}\\right) \\frac{\\partial}{\\partial {θ}}P_\\ell\\left({θ}\\right)\\)</html>"
      ],
      "text/latex": [
       "$\\displaystyle {\\left(m^{2} {\\rm Csc}\\left({θ}\\right)^{2} - \\mathit{ll}\\right)} P_\\ell\\left({θ}\\right) - {\\rm Cot}\\left({θ}\\right) \\frac{\\partial}{\\partial {θ}}P_\\ell\\left({θ}\\right)$"
      ],
      "text/plain": [
       "(m^2*Csc(θ)^2 - ll)*PL(θ) - Cot(θ)*diff(PL(θ), θ)"
      ]
     },
     "execution_count": 11,
     "metadata": {},
     "output_type": "execute_result"
    }
   ],
   "source": [
    "PLdd = -(ll -m^2*Csc^2)*PL - Cot*diff(PL, θ)\n",
    "#PLdd = diff(PL, θ)\n",
    "PLdd"
   ]
  },
  {
   "cell_type": "markdown",
   "metadata": {},
   "source": [
    "Definindo a forma dos Harmônicos Esféricos \n",
    "\n",
    "$$Y_{\\ell m} = e^{(-im\\phi - i\\omega t)}P_{\\ell}(\\theta)$$"
   ]
  },
  {
   "cell_type": "code",
   "execution_count": 12,
   "metadata": {
    "scrolled": true
   },
   "outputs": [
    {
     "data": {
      "text/html": [
       "<html>\\(\\displaystyle P_\\ell\\left({θ}\\right) e^{\\left(-i \\, t ω - i \\, m {ϕ}\\right)}\\)</html>"
      ],
      "text/latex": [
       "$\\displaystyle P_\\ell\\left({θ}\\right) e^{\\left(-i \\, t ω - i \\, m {ϕ}\\right)}$"
      ],
      "text/plain": [
       "PL(θ)*e^(-I*t*ω - I*m*ϕ)"
      ]
     },
     "execution_count": 12,
     "metadata": {},
     "output_type": "execute_result"
    }
   ],
   "source": [
    "YLM = e^(-i*m*ϕ - i*ω*t)*PL\n",
    "#YLM = spherical_harmonic(l, m, θ, ϕ)\n",
    "YLM"
   ]
  },
  {
   "cell_type": "markdown",
   "metadata": {},
   "source": [
    "Agora, definiremos as métricas perturbadas. Para a métrica $\\tilde{h}_{\\mu \\nu}^{par}$ devemos definir primeiro algumas funções, como se segue:"
   ]
  },
  {
   "cell_type": "code",
   "execution_count": 13,
   "metadata": {},
   "outputs": [],
   "source": [
    "h0 = function('h0', latex_name=r'h_0')(r)\n",
    "h1 = function('h1', latex_name=r'h_1')(r)\n",
    "h2 = function('h2', latex_name=r'h_2')(r)\n",
    "H0(r) = function('H0', latex_name=r'H_0')(r)\n",
    "H1(r) = function('H1', latex_name=r'H_1')(r)\n",
    "H2(r) = function('H2', latex_name=r'H_2')(r)\n",
    "G  = function('G', latex_name=r'G')(r)\n",
    "K(r)  = function('K', latex_name=r'K')(r)"
   ]
  },
  {
   "cell_type": "markdown",
   "metadata": {},
   "source": [
    "A métrica perturbada par será \n",
    "$$\\scriptstyle \\tilde{h}_{\\mu \\nu}^{par} = \\left(\\begin{array}{rrrr}\n",
    "{\\epsilon} H_0\\left(r\\right) P_\\ell\\left({θ}\\right) e^{\\left(-i \\, t ω - i \\, m {ϕ}\\right)} f\\left(r\\right) & {\\epsilon} H_1\\left(r\\right) P_\\ell\\left({θ}\\right) e^{\\left(-i \\, t ω - i \\, m {ϕ}\\right)} & {\\epsilon} e^{\\left(-i \\, t ω - i \\, m {ϕ}\\right)} h_0\\left(r\\right) \\frac{\\partial\\,P_\\ell}{\\partial {θ}} & -i \\, {\\epsilon} m P_\\ell\\left({θ}\\right) e^{\\left(-i \\, t ω - i \\, m {ϕ}\\right)} h_0\\left(r\\right) \\\\\n",
    "{\\epsilon} H_1\\left(r\\right) P_\\ell\\left({θ}\\right) e^{\\left(-i \\, t ω - i \\, m {ϕ}\\right)} & {\\epsilon} H_2\\left(r\\right) P_\\ell\\left({θ}\\right) {\\rm bb}\\left(r\\right) e^{\\left(-i \\, t ω - i \\, m {ϕ}\\right)} & {\\epsilon} e^{\\left(-i \\, t ω - i \\, m {ϕ}\\right)} h_1\\left(r\\right) \\frac{\\partial\\,P_\\ell}{\\partial {θ}} & -i \\, {\\epsilon} m P_\\ell\\left({θ}\\right) e^{\\left(-i \\, t ω - i \\, m {ϕ}\\right)} h_1\\left(r\\right) \\\\\n",
    "{\\epsilon} e^{\\left(-i \\, t ω - i \\, m {ϕ}\\right)} h_0\\left(r\\right) \\frac{\\partial\\,P_\\ell}{\\partial {θ}} & {\\epsilon} e^{\\left(-i \\, t ω - i \\, m {ϕ}\\right)} h_1\\left(r\\right) \\frac{\\partial\\,P_\\ell}{\\partial {θ}} & {\\left({\\left({\\left(m^{2} {\\rm Csc}\\left({θ}\\right)^{2} - \\mathit{ll}\\right)} P_\\ell\\left({θ}\\right) - {\\rm Cot}\\left({θ}\\right) \\frac{\\partial\\,P_\\ell}{\\partial {θ}}\\right)} G\\left(r\\right) e^{\\left(-i \\, t ω - i \\, m {ϕ}\\right)} + K\\left(r\\right) P_\\ell\\left({θ}\\right) e^{\\left(-i \\, t ω - i \\, m {ϕ}\\right)}\\right)} {\\epsilon} r^{2} & {\\left(i \\, m {\\rm Cot}\\left({θ}\\right) P_\\ell\\left({θ}\\right) e^{\\left(-i \\, t ω - i \\, m {ϕ}\\right)} - i \\, m e^{\\left(-i \\, t ω - i \\, m {ϕ}\\right)} \\frac{\\partial\\,P_\\ell}{\\partial {θ}}\\right)} {\\epsilon} r^{2} G\\left(r\\right) \\\\\n",
    "-i \\, {\\epsilon} m P_\\ell\\left({θ}\\right) e^{\\left(-i \\, t ω - i \\, m {ϕ}\\right)} h_0\\left(r\\right) & -i \\, {\\epsilon} m P_\\ell\\left({θ}\\right) e^{\\left(-i \\, t ω - i \\, m {ϕ}\\right)} h_1\\left(r\\right) & {\\left(i \\, m {\\rm Cot}\\left({θ}\\right) P_\\ell\\left({θ}\\right) e^{\\left(-i \\, t ω - i \\, m {ϕ}\\right)} - i \\, m e^{\\left(-i \\, t ω - i \\, m {ϕ}\\right)} \\frac{\\partial\\,P_\\ell}{\\partial {θ}}\\right)} {\\epsilon} r^{2} G\\left(r\\right) & -{\\left(m^{2} G\\left(r\\right) P_\\ell\\left({θ}\\right) e^{\\left(-i \\, t ω - i \\, m {ϕ}\\right)} - K\\left(r\\right) P_\\ell\\left({θ}\\right) e^{\\left(-i \\, t ω - i \\, m {ϕ}\\right)} \\sin\\left({θ}\\right)^{2} - G\\left(r\\right) \\cos\\left({θ}\\right) e^{\\left(-i \\, t ω - i \\, m {ϕ}\\right)} \\sin\\left({θ}\\right) \\frac{\\partial\\,P_\\ell}{\\partial {θ}}\\right)} {\\epsilon} r^{2}\n",
    "\\end{array}\\right)$$"
   ]
  },
  {
   "cell_type": "code",
   "execution_count": 14,
   "metadata": {},
   "outputs": [
    {
     "data": {
      "text/html": [
       "<html>\\(\\displaystyle \\tilde{h}_{\\mu \\nu}^{par} = {\\epsilon} H_0\\left(r\\right) P_\\ell\\left({θ}\\right) e^{\\left(-i \\, t ω - i \\, m {ϕ}\\right)} f\\left(r\\right) \\mathrm{d} t\\otimes \\mathrm{d} t + {\\epsilon} H_1\\left(r\\right) P_\\ell\\left({θ}\\right) e^{\\left(-i \\, t ω - i \\, m {ϕ}\\right)} \\mathrm{d} t\\otimes \\mathrm{d} r + {\\epsilon} e^{\\left(-i \\, t ω - i \\, m {ϕ}\\right)} h_0\\left(r\\right) \\frac{\\partial\\,P_\\ell}{\\partial {θ}} \\mathrm{d} t\\otimes \\mathrm{d} {θ} -i \\, {\\epsilon} m P_\\ell\\left({θ}\\right) e^{\\left(-i \\, t ω - i \\, m {ϕ}\\right)} h_0\\left(r\\right) \\mathrm{d} t\\otimes \\mathrm{d} {ϕ} + {\\epsilon} H_1\\left(r\\right) P_\\ell\\left({θ}\\right) e^{\\left(-i \\, t ω - i \\, m {ϕ}\\right)} \\mathrm{d} r\\otimes \\mathrm{d} t + {\\epsilon} H_2\\left(r\\right) P_\\ell\\left({θ}\\right) {\\rm bb}\\left(r\\right) e^{\\left(-i \\, t ω - i \\, m {ϕ}\\right)} \\mathrm{d} r\\otimes \\mathrm{d} r + {\\epsilon} e^{\\left(-i \\, t ω - i \\, m {ϕ}\\right)} h_1\\left(r\\right) \\frac{\\partial\\,P_\\ell}{\\partial {θ}} \\mathrm{d} r\\otimes \\mathrm{d} {θ} -i \\, {\\epsilon} m P_\\ell\\left({θ}\\right) e^{\\left(-i \\, t ω - i \\, m {ϕ}\\right)} h_1\\left(r\\right) \\mathrm{d} r\\otimes \\mathrm{d} {ϕ} + {\\epsilon} e^{\\left(-i \\, t ω - i \\, m {ϕ}\\right)} h_0\\left(r\\right) \\frac{\\partial\\,P_\\ell}{\\partial {θ}} \\mathrm{d} {θ}\\otimes \\mathrm{d} t + {\\epsilon} e^{\\left(-i \\, t ω - i \\, m {ϕ}\\right)} h_1\\left(r\\right) \\frac{\\partial\\,P_\\ell}{\\partial {θ}} \\mathrm{d} {θ}\\otimes \\mathrm{d} r + {\\left({\\left({\\left(m^{2} {\\rm Csc}\\left({θ}\\right)^{2} - \\mathit{ll}\\right)} P_\\ell\\left({θ}\\right) - {\\rm Cot}\\left({θ}\\right) \\frac{\\partial\\,P_\\ell}{\\partial {θ}}\\right)} G\\left(r\\right) e^{\\left(-i \\, t ω - i \\, m {ϕ}\\right)} + K\\left(r\\right) P_\\ell\\left({θ}\\right) e^{\\left(-i \\, t ω - i \\, m {ϕ}\\right)}\\right)} {\\epsilon} r^{2} \\mathrm{d} {θ}\\otimes \\mathrm{d} {θ} + {\\left(i \\, m {\\rm Cot}\\left({θ}\\right) P_\\ell\\left({θ}\\right) e^{\\left(-i \\, t ω - i \\, m {ϕ}\\right)} - i \\, m e^{\\left(-i \\, t ω - i \\, m {ϕ}\\right)} \\frac{\\partial\\,P_\\ell}{\\partial {θ}}\\right)} {\\epsilon} r^{2} G\\left(r\\right) \\mathrm{d} {θ}\\otimes \\mathrm{d} {ϕ} -i \\, {\\epsilon} m P_\\ell\\left({θ}\\right) e^{\\left(-i \\, t ω - i \\, m {ϕ}\\right)} h_0\\left(r\\right) \\mathrm{d} {ϕ}\\otimes \\mathrm{d} t -i \\, {\\epsilon} m P_\\ell\\left({θ}\\right) e^{\\left(-i \\, t ω - i \\, m {ϕ}\\right)} h_1\\left(r\\right) \\mathrm{d} {ϕ}\\otimes \\mathrm{d} r + {\\left(i \\, m {\\rm Cot}\\left({θ}\\right) P_\\ell\\left({θ}\\right) e^{\\left(-i \\, t ω - i \\, m {ϕ}\\right)} - i \\, m e^{\\left(-i \\, t ω - i \\, m {ϕ}\\right)} \\frac{\\partial\\,P_\\ell}{\\partial {θ}}\\right)} {\\epsilon} r^{2} G\\left(r\\right) \\mathrm{d} {ϕ}\\otimes \\mathrm{d} {θ} -{\\left(m^{2} G\\left(r\\right) P_\\ell\\left({θ}\\right) e^{\\left(-i \\, t ω - i \\, m {ϕ}\\right)} - K\\left(r\\right) P_\\ell\\left({θ}\\right) e^{\\left(-i \\, t ω - i \\, m {ϕ}\\right)} \\sin\\left({θ}\\right)^{2} - G\\left(r\\right) \\cos\\left({θ}\\right) e^{\\left(-i \\, t ω - i \\, m {ϕ}\\right)} \\sin\\left({θ}\\right) \\frac{\\partial\\,P_\\ell}{\\partial {θ}}\\right)} {\\epsilon} r^{2} \\mathrm{d} {ϕ}\\otimes \\mathrm{d} {ϕ}\\)</html>"
      ],
      "text/latex": [
       "$\\displaystyle \\tilde{h}_{\\mu \\nu}^{par} = {\\epsilon} H_0\\left(r\\right) P_\\ell\\left({θ}\\right) e^{\\left(-i \\, t ω - i \\, m {ϕ}\\right)} f\\left(r\\right) \\mathrm{d} t\\otimes \\mathrm{d} t + {\\epsilon} H_1\\left(r\\right) P_\\ell\\left({θ}\\right) e^{\\left(-i \\, t ω - i \\, m {ϕ}\\right)} \\mathrm{d} t\\otimes \\mathrm{d} r + {\\epsilon} e^{\\left(-i \\, t ω - i \\, m {ϕ}\\right)} h_0\\left(r\\right) \\frac{\\partial\\,P_\\ell}{\\partial {θ}} \\mathrm{d} t\\otimes \\mathrm{d} {θ} -i \\, {\\epsilon} m P_\\ell\\left({θ}\\right) e^{\\left(-i \\, t ω - i \\, m {ϕ}\\right)} h_0\\left(r\\right) \\mathrm{d} t\\otimes \\mathrm{d} {ϕ} + {\\epsilon} H_1\\left(r\\right) P_\\ell\\left({θ}\\right) e^{\\left(-i \\, t ω - i \\, m {ϕ}\\right)} \\mathrm{d} r\\otimes \\mathrm{d} t + {\\epsilon} H_2\\left(r\\right) P_\\ell\\left({θ}\\right) {\\rm bb}\\left(r\\right) e^{\\left(-i \\, t ω - i \\, m {ϕ}\\right)} \\mathrm{d} r\\otimes \\mathrm{d} r + {\\epsilon} e^{\\left(-i \\, t ω - i \\, m {ϕ}\\right)} h_1\\left(r\\right) \\frac{\\partial\\,P_\\ell}{\\partial {θ}} \\mathrm{d} r\\otimes \\mathrm{d} {θ} -i \\, {\\epsilon} m P_\\ell\\left({θ}\\right) e^{\\left(-i \\, t ω - i \\, m {ϕ}\\right)} h_1\\left(r\\right) \\mathrm{d} r\\otimes \\mathrm{d} {ϕ} + {\\epsilon} e^{\\left(-i \\, t ω - i \\, m {ϕ}\\right)} h_0\\left(r\\right) \\frac{\\partial\\,P_\\ell}{\\partial {θ}} \\mathrm{d} {θ}\\otimes \\mathrm{d} t + {\\epsilon} e^{\\left(-i \\, t ω - i \\, m {ϕ}\\right)} h_1\\left(r\\right) \\frac{\\partial\\,P_\\ell}{\\partial {θ}} \\mathrm{d} {θ}\\otimes \\mathrm{d} r + {\\left({\\left({\\left(m^{2} {\\rm Csc}\\left({θ}\\right)^{2} - \\mathit{ll}\\right)} P_\\ell\\left({θ}\\right) - {\\rm Cot}\\left({θ}\\right) \\frac{\\partial\\,P_\\ell}{\\partial {θ}}\\right)} G\\left(r\\right) e^{\\left(-i \\, t ω - i \\, m {ϕ}\\right)} + K\\left(r\\right) P_\\ell\\left({θ}\\right) e^{\\left(-i \\, t ω - i \\, m {ϕ}\\right)}\\right)} {\\epsilon} r^{2} \\mathrm{d} {θ}\\otimes \\mathrm{d} {θ} + {\\left(i \\, m {\\rm Cot}\\left({θ}\\right) P_\\ell\\left({θ}\\right) e^{\\left(-i \\, t ω - i \\, m {ϕ}\\right)} - i \\, m e^{\\left(-i \\, t ω - i \\, m {ϕ}\\right)} \\frac{\\partial\\,P_\\ell}{\\partial {θ}}\\right)} {\\epsilon} r^{2} G\\left(r\\right) \\mathrm{d} {θ}\\otimes \\mathrm{d} {ϕ} -i \\, {\\epsilon} m P_\\ell\\left({θ}\\right) e^{\\left(-i \\, t ω - i \\, m {ϕ}\\right)} h_0\\left(r\\right) \\mathrm{d} {ϕ}\\otimes \\mathrm{d} t -i \\, {\\epsilon} m P_\\ell\\left({θ}\\right) e^{\\left(-i \\, t ω - i \\, m {ϕ}\\right)} h_1\\left(r\\right) \\mathrm{d} {ϕ}\\otimes \\mathrm{d} r + {\\left(i \\, m {\\rm Cot}\\left({θ}\\right) P_\\ell\\left({θ}\\right) e^{\\left(-i \\, t ω - i \\, m {ϕ}\\right)} - i \\, m e^{\\left(-i \\, t ω - i \\, m {ϕ}\\right)} \\frac{\\partial\\,P_\\ell}{\\partial {θ}}\\right)} {\\epsilon} r^{2} G\\left(r\\right) \\mathrm{d} {ϕ}\\otimes \\mathrm{d} {θ} -{\\left(m^{2} G\\left(r\\right) P_\\ell\\left({θ}\\right) e^{\\left(-i \\, t ω - i \\, m {ϕ}\\right)} - K\\left(r\\right) P_\\ell\\left({θ}\\right) e^{\\left(-i \\, t ω - i \\, m {ϕ}\\right)} \\sin\\left({θ}\\right)^{2} - G\\left(r\\right) \\cos\\left({θ}\\right) e^{\\left(-i \\, t ω - i \\, m {ϕ}\\right)} \\sin\\left({θ}\\right) \\frac{\\partial\\,P_\\ell}{\\partial {θ}}\\right)} {\\epsilon} r^{2} \\mathrm{d} {ϕ}\\otimes \\mathrm{d} {ϕ}$"
      ],
      "text/plain": [
       "\\tilde{h}_{\\mu \\nu}^{par} = ep*H0(r)*PL(θ)*e^(-I*t*ω - I*m*ϕ)*f(r) dt⊗dt + ep*H1(r)*PL(θ)*e^(-I*t*ω - I*m*ϕ) dt⊗dr + ep*e^(-I*t*ω - I*m*ϕ)*h0(r)*d(PL)/dθ dt⊗dθ - I*ep*m*PL(θ)*e^(-I*t*ω - I*m*ϕ)*h0(r) dt⊗dϕ + ep*H1(r)*PL(θ)*e^(-I*t*ω - I*m*ϕ) dr⊗dt + ep*H2(r)*PL(θ)*bb(r)*e^(-I*t*ω - I*m*ϕ) dr⊗dr + ep*e^(-I*t*ω - I*m*ϕ)*h1(r)*d(PL)/dθ dr⊗dθ - I*ep*m*PL(θ)*e^(-I*t*ω - I*m*ϕ)*h1(r) dr⊗dϕ + ep*e^(-I*t*ω - I*m*ϕ)*h0(r)*d(PL)/dθ dθ⊗dt + ep*e^(-I*t*ω - I*m*ϕ)*h1(r)*d(PL)/dθ dθ⊗dr + (((m^2*Csc(θ)^2 - ll)*PL(θ) - Cot(θ)*d(PL)/dθ)*G(r)*e^(-I*t*ω - I*m*ϕ) + K(r)*PL(θ)*e^(-I*t*ω - I*m*ϕ))*ep*r^2 dθ⊗dθ + (I*m*Cot(θ)*PL(θ)*e^(-I*t*ω - I*m*ϕ) - I*m*e^(-I*t*ω - I*m*ϕ)*d(PL)/dθ)*ep*r^2*G(r) dθ⊗dϕ - I*ep*m*PL(θ)*e^(-I*t*ω - I*m*ϕ)*h0(r) dϕ⊗dt - I*ep*m*PL(θ)*e^(-I*t*ω - I*m*ϕ)*h1(r) dϕ⊗dr + (I*m*Cot(θ)*PL(θ)*e^(-I*t*ω - I*m*ϕ) - I*m*e^(-I*t*ω - I*m*ϕ)*d(PL)/dθ)*ep*r^2*G(r) dϕ⊗dθ - (m^2*G(r)*PL(θ)*e^(-I*t*ω - I*m*ϕ) - K(r)*PL(θ)*e^(-I*t*ω - I*m*ϕ)*sin(θ)^2 - G(r)*cos(θ)*e^(-I*t*ω - I*m*ϕ)*sin(θ)*d(PL)/dθ)*ep*r^2 dϕ⊗dϕ"
      ]
     },
     "execution_count": 14,
     "metadata": {},
     "output_type": "execute_result"
    }
   ],
   "source": [
    "hp = M.lorentzian_metric(r'\\tilde{h}_{\\mu \\nu}^{par}')\n",
    "hp[0,0] = ep*f*H0*YLM\n",
    "hp[0,1] = ep*H1*YLM\n",
    "hp[0,2] = ep*h0*diff(YLM, θ)\n",
    "hp[0,3] = ep*h0*diff(YLM, ϕ)\n",
    "hp[1,0] = ep*H1*YLM\n",
    "hp[1,1] = ep*bb*H2*YLM\n",
    "hp[1,2] = ep*h1*diff(YLM, θ)\n",
    "hp[1,3] = ep*h1*diff(YLM, ϕ)\n",
    "hp[2,0] = ep*h0*diff(YLM, θ)\n",
    "hp[2,1] = ep*h1*diff(YLM, θ)\n",
    "hp[2,2] = ep*r^2*(e^(-i*ω*t-i*m*ϕ)*K*PL + e^(-i*ω*t-i*m*ϕ)*G*(-(ll -m^2*Csc^2)*PL - Cot*diff(PL, θ)))\n",
    "#hp[2,2] = ep*r^2*(e^(-i*ω*t-i*m*ϕ)*K*PL + e^(-i*ω*t-i*m*ϕ)*G*(diff(YLM, θ, 2)))\n",
    "hp[2,3] = ep*r^2*G*(diff(YLM, θ, ϕ) - Cot*diff(YLM, ϕ))\n",
    "hp[3,0] = ep*h0*diff(YLM, ϕ)\n",
    "hp[3,1] = ep*h1*diff(YLM, ϕ)\n",
    "hp[3,2] = ep*r^2*G*(diff(YLM, θ, ϕ) - Cot*diff(YLM, ϕ))\n",
    "hp[3,3] = ep*r^2*(K*sin(θ)^2*YLM + G*diff(YLM, ϕ, 2) + G*sin(θ)*cos(θ)*diff(YLM, θ))\n",
    "hp.display()"
   ]
  },
  {
   "cell_type": "code",
   "execution_count": 15,
   "metadata": {},
   "outputs": [
    {
     "data": {
      "text/html": [
       "<html>\\(\\displaystyle \\left(\\begin{array}{rrrr}\n",
       "{\\epsilon} H_0\\left(r\\right) P_\\ell\\left({θ}\\right) e^{\\left(-i \\, t ω - i \\, m {ϕ}\\right)} f\\left(r\\right) & {\\epsilon} H_1\\left(r\\right) P_\\ell\\left({θ}\\right) e^{\\left(-i \\, t ω - i \\, m {ϕ}\\right)} & {\\epsilon} e^{\\left(-i \\, t ω - i \\, m {ϕ}\\right)} h_0\\left(r\\right) \\frac{\\partial\\,P_\\ell}{\\partial {θ}} & -i \\, {\\epsilon} m P_\\ell\\left({θ}\\right) e^{\\left(-i \\, t ω - i \\, m {ϕ}\\right)} h_0\\left(r\\right) \\\\\n",
       "{\\epsilon} H_1\\left(r\\right) P_\\ell\\left({θ}\\right) e^{\\left(-i \\, t ω - i \\, m {ϕ}\\right)} & {\\epsilon} H_2\\left(r\\right) P_\\ell\\left({θ}\\right) {\\rm bb}\\left(r\\right) e^{\\left(-i \\, t ω - i \\, m {ϕ}\\right)} & {\\epsilon} e^{\\left(-i \\, t ω - i \\, m {ϕ}\\right)} h_1\\left(r\\right) \\frac{\\partial\\,P_\\ell}{\\partial {θ}} & -i \\, {\\epsilon} m P_\\ell\\left({θ}\\right) e^{\\left(-i \\, t ω - i \\, m {ϕ}\\right)} h_1\\left(r\\right) \\\\\n",
       "{\\epsilon} e^{\\left(-i \\, t ω - i \\, m {ϕ}\\right)} h_0\\left(r\\right) \\frac{\\partial\\,P_\\ell}{\\partial {θ}} & {\\epsilon} e^{\\left(-i \\, t ω - i \\, m {ϕ}\\right)} h_1\\left(r\\right) \\frac{\\partial\\,P_\\ell}{\\partial {θ}} & {\\left({\\left({\\left(m^{2} {\\rm Csc}\\left({θ}\\right)^{2} - \\mathit{ll}\\right)} P_\\ell\\left({θ}\\right) - {\\rm Cot}\\left({θ}\\right) \\frac{\\partial\\,P_\\ell}{\\partial {θ}}\\right)} G\\left(r\\right) e^{\\left(-i \\, t ω - i \\, m {ϕ}\\right)} + K\\left(r\\right) P_\\ell\\left({θ}\\right) e^{\\left(-i \\, t ω - i \\, m {ϕ}\\right)}\\right)} {\\epsilon} r^{2} & {\\left(i \\, m {\\rm Cot}\\left({θ}\\right) P_\\ell\\left({θ}\\right) e^{\\left(-i \\, t ω - i \\, m {ϕ}\\right)} - i \\, m e^{\\left(-i \\, t ω - i \\, m {ϕ}\\right)} \\frac{\\partial\\,P_\\ell}{\\partial {θ}}\\right)} {\\epsilon} r^{2} G\\left(r\\right) \\\\\n",
       "-i \\, {\\epsilon} m P_\\ell\\left({θ}\\right) e^{\\left(-i \\, t ω - i \\, m {ϕ}\\right)} h_0\\left(r\\right) & -i \\, {\\epsilon} m P_\\ell\\left({θ}\\right) e^{\\left(-i \\, t ω - i \\, m {ϕ}\\right)} h_1\\left(r\\right) & {\\left(i \\, m {\\rm Cot}\\left({θ}\\right) P_\\ell\\left({θ}\\right) e^{\\left(-i \\, t ω - i \\, m {ϕ}\\right)} - i \\, m e^{\\left(-i \\, t ω - i \\, m {ϕ}\\right)} \\frac{\\partial\\,P_\\ell}{\\partial {θ}}\\right)} {\\epsilon} r^{2} G\\left(r\\right) & -{\\left(m^{2} G\\left(r\\right) P_\\ell\\left({θ}\\right) e^{\\left(-i \\, t ω - i \\, m {ϕ}\\right)} - K\\left(r\\right) P_\\ell\\left({θ}\\right) e^{\\left(-i \\, t ω - i \\, m {ϕ}\\right)} \\sin\\left({θ}\\right)^{2} - G\\left(r\\right) \\cos\\left({θ}\\right) e^{\\left(-i \\, t ω - i \\, m {ϕ}\\right)} \\sin\\left({θ}\\right) \\frac{\\partial\\,P_\\ell}{\\partial {θ}}\\right)} {\\epsilon} r^{2}\n",
       "\\end{array}\\right)\\)</html>"
      ],
      "text/latex": [
       "$\\displaystyle \\left(\\begin{array}{rrrr}\n",
       "{\\epsilon} H_0\\left(r\\right) P_\\ell\\left({θ}\\right) e^{\\left(-i \\, t ω - i \\, m {ϕ}\\right)} f\\left(r\\right) & {\\epsilon} H_1\\left(r\\right) P_\\ell\\left({θ}\\right) e^{\\left(-i \\, t ω - i \\, m {ϕ}\\right)} & {\\epsilon} e^{\\left(-i \\, t ω - i \\, m {ϕ}\\right)} h_0\\left(r\\right) \\frac{\\partial\\,P_\\ell}{\\partial {θ}} & -i \\, {\\epsilon} m P_\\ell\\left({θ}\\right) e^{\\left(-i \\, t ω - i \\, m {ϕ}\\right)} h_0\\left(r\\right) \\\\\n",
       "{\\epsilon} H_1\\left(r\\right) P_\\ell\\left({θ}\\right) e^{\\left(-i \\, t ω - i \\, m {ϕ}\\right)} & {\\epsilon} H_2\\left(r\\right) P_\\ell\\left({θ}\\right) {\\rm bb}\\left(r\\right) e^{\\left(-i \\, t ω - i \\, m {ϕ}\\right)} & {\\epsilon} e^{\\left(-i \\, t ω - i \\, m {ϕ}\\right)} h_1\\left(r\\right) \\frac{\\partial\\,P_\\ell}{\\partial {θ}} & -i \\, {\\epsilon} m P_\\ell\\left({θ}\\right) e^{\\left(-i \\, t ω - i \\, m {ϕ}\\right)} h_1\\left(r\\right) \\\\\n",
       "{\\epsilon} e^{\\left(-i \\, t ω - i \\, m {ϕ}\\right)} h_0\\left(r\\right) \\frac{\\partial\\,P_\\ell}{\\partial {θ}} & {\\epsilon} e^{\\left(-i \\, t ω - i \\, m {ϕ}\\right)} h_1\\left(r\\right) \\frac{\\partial\\,P_\\ell}{\\partial {θ}} & {\\left({\\left({\\left(m^{2} {\\rm Csc}\\left({θ}\\right)^{2} - \\mathit{ll}\\right)} P_\\ell\\left({θ}\\right) - {\\rm Cot}\\left({θ}\\right) \\frac{\\partial\\,P_\\ell}{\\partial {θ}}\\right)} G\\left(r\\right) e^{\\left(-i \\, t ω - i \\, m {ϕ}\\right)} + K\\left(r\\right) P_\\ell\\left({θ}\\right) e^{\\left(-i \\, t ω - i \\, m {ϕ}\\right)}\\right)} {\\epsilon} r^{2} & {\\left(i \\, m {\\rm Cot}\\left({θ}\\right) P_\\ell\\left({θ}\\right) e^{\\left(-i \\, t ω - i \\, m {ϕ}\\right)} - i \\, m e^{\\left(-i \\, t ω - i \\, m {ϕ}\\right)} \\frac{\\partial\\,P_\\ell}{\\partial {θ}}\\right)} {\\epsilon} r^{2} G\\left(r\\right) \\\\\n",
       "-i \\, {\\epsilon} m P_\\ell\\left({θ}\\right) e^{\\left(-i \\, t ω - i \\, m {ϕ}\\right)} h_0\\left(r\\right) & -i \\, {\\epsilon} m P_\\ell\\left({θ}\\right) e^{\\left(-i \\, t ω - i \\, m {ϕ}\\right)} h_1\\left(r\\right) & {\\left(i \\, m {\\rm Cot}\\left({θ}\\right) P_\\ell\\left({θ}\\right) e^{\\left(-i \\, t ω - i \\, m {ϕ}\\right)} - i \\, m e^{\\left(-i \\, t ω - i \\, m {ϕ}\\right)} \\frac{\\partial\\,P_\\ell}{\\partial {θ}}\\right)} {\\epsilon} r^{2} G\\left(r\\right) & -{\\left(m^{2} G\\left(r\\right) P_\\ell\\left({θ}\\right) e^{\\left(-i \\, t ω - i \\, m {ϕ}\\right)} - K\\left(r\\right) P_\\ell\\left({θ}\\right) e^{\\left(-i \\, t ω - i \\, m {ϕ}\\right)} \\sin\\left({θ}\\right)^{2} - G\\left(r\\right) \\cos\\left({θ}\\right) e^{\\left(-i \\, t ω - i \\, m {ϕ}\\right)} \\sin\\left({θ}\\right) \\frac{\\partial\\,P_\\ell}{\\partial {θ}}\\right)} {\\epsilon} r^{2}\n",
       "\\end{array}\\right)$"
      ],
      "text/plain": [
       "[                                                                                               ep*H0(r)*PL(θ)*e^(-I*t*ω - I*m*ϕ)*f(r)                                                                                                     ep*H1(r)*PL(θ)*e^(-I*t*ω - I*m*ϕ)                                                                                                  ep*e^(-I*t*ω - I*m*ϕ)*h0(r)*d(PL)/dθ                                                                                                -I*ep*m*PL(θ)*e^(-I*t*ω - I*m*ϕ)*h0(r)]\n",
       "[                                                                                                    ep*H1(r)*PL(θ)*e^(-I*t*ω - I*m*ϕ)                                                                                               ep*H2(r)*PL(θ)*bb(r)*e^(-I*t*ω - I*m*ϕ)                                                                                                  ep*e^(-I*t*ω - I*m*ϕ)*h1(r)*d(PL)/dθ                                                                                                -I*ep*m*PL(θ)*e^(-I*t*ω - I*m*ϕ)*h1(r)]\n",
       "[                                                                                                 ep*e^(-I*t*ω - I*m*ϕ)*h0(r)*d(PL)/dθ                                                                                                  ep*e^(-I*t*ω - I*m*ϕ)*h1(r)*d(PL)/dθ                        (((m^2*Csc(θ)^2 - ll)*PL(θ) - Cot(θ)*d(PL)/dθ)*G(r)*e^(-I*t*ω - I*m*ϕ) + K(r)*PL(θ)*e^(-I*t*ω - I*m*ϕ))*ep*r^2                                                   (I*m*Cot(θ)*PL(θ)*e^(-I*t*ω - I*m*ϕ) - I*m*e^(-I*t*ω - I*m*ϕ)*d(PL)/dθ)*ep*r^2*G(r)]\n",
       "[                                                                                               -I*ep*m*PL(θ)*e^(-I*t*ω - I*m*ϕ)*h0(r)                                                                                                -I*ep*m*PL(θ)*e^(-I*t*ω - I*m*ϕ)*h1(r)                                                   (I*m*Cot(θ)*PL(θ)*e^(-I*t*ω - I*m*ϕ) - I*m*e^(-I*t*ω - I*m*ϕ)*d(PL)/dθ)*ep*r^2*G(r) -(m^2*G(r)*PL(θ)*e^(-I*t*ω - I*m*ϕ) - K(r)*PL(θ)*e^(-I*t*ω - I*m*ϕ)*sin(θ)^2 - G(r)*cos(θ)*e^(-I*t*ω - I*m*ϕ)*sin(θ)*d(PL)/dθ)*ep*r^2]"
      ]
     },
     "execution_count": 15,
     "metadata": {},
     "output_type": "execute_result"
    }
   ],
   "source": [
    "hp[:]"
   ]
  },
  {
   "cell_type": "markdown",
   "metadata": {},
   "source": [
    "Para a métrica perturbada ímpar, $h_{\\mu \\nu}^{impar}$, temos primeiramente as funções:"
   ]
  },
  {
   "cell_type": "code",
   "execution_count": 16,
   "metadata": {},
   "outputs": [
    {
     "data": {
      "text/html": [
       "<html>\\(\\displaystyle \\left(hh_0\\left(r\\right), hh_1\\left(r\\right), hh_2\\left(r\\right)\\right)\\)</html>"
      ],
      "text/latex": [
       "$\\displaystyle \\left(hh_0\\left(r\\right), hh_1\\left(r\\right), hh_2\\left(r\\right)\\right)$"
      ],
      "text/plain": [
       "(hh0(r), hh1(r), hh2(r))"
      ]
     },
     "execution_count": 16,
     "metadata": {},
     "output_type": "execute_result"
    }
   ],
   "source": [
    "hh0 = function('hh0', latex_name=r'hh_0')(r)\n",
    "hh1 = function('hh1', latex_name=r'hh_1')(r)\n",
    "hh2 = function('hh2', latex_name=r'hh_2')(r)\n",
    "hh0, hh1, hh2"
   ]
  },
  {
   "cell_type": "markdown",
   "metadata": {},
   "source": [
    "E a perturbação ímpar terá a forma\n",
    "\n",
    "$$\\scriptstyle \\tilde{h}_{\\mu \\nu}^{impar} = \\left(\\begin{array}{rrrr}\n",
    "0 & 0 & i \\, {\\epsilon} m {\\rm Csc}\\left({θ}\\right) P_\\ell\\left({θ}\\right) e^{\\left(-i \\, t ω - i \\, m {ϕ}\\right)} hh_0\\left(r\\right) & {\\epsilon} e^{\\left(-i \\, t ω - i \\, m {ϕ}\\right)} hh_0\\left(r\\right) \\sin\\left({θ}\\right) \\frac{\\partial\\,P_\\ell}{\\partial {θ}} \\\\\n",
    "0 & 0 & i \\, {\\epsilon} m {\\rm Csc}\\left({θ}\\right) P_\\ell\\left({θ}\\right) e^{\\left(-i \\, t ω - i \\, m {ϕ}\\right)} hh_1\\left(r\\right) & {\\epsilon} e^{\\left(-i \\, t ω - i \\, m {ϕ}\\right)} hh_1\\left(r\\right) \\sin\\left({θ}\\right) \\frac{\\partial\\,P_\\ell}{\\partial {θ}} \\\\\n",
    "i \\, {\\epsilon} m {\\rm Csc}\\left({θ}\\right) P_\\ell\\left({θ}\\right) e^{\\left(-i \\, t ω - i \\, m {ϕ}\\right)} hh_0\\left(r\\right) & i \\, {\\epsilon} m {\\rm Csc}\\left({θ}\\right) P_\\ell\\left({θ}\\right) e^{\\left(-i \\, t ω - i \\, m {ϕ}\\right)} hh_1\\left(r\\right) & {\\left(i \\, m {\\rm Cot}\\left({θ}\\right) {\\rm Csc}\\left({θ}\\right) P_\\ell\\left({θ}\\right) e^{\\left(-i \\, t ω - i \\, m {ϕ}\\right)} - i \\, m {\\rm Csc}\\left({θ}\\right) e^{\\left(-i \\, t ω - i \\, m {ϕ}\\right)} \\frac{\\partial\\,P_\\ell}{\\partial {θ}}\\right)} {\\epsilon} hh_2\\left(r\\right) & -\\frac{1}{2} \\, {\\left(m^{2} {\\rm Csc}\\left({θ}\\right) P_\\ell\\left({θ}\\right) e^{\\left(-i \\, t ω - i \\, m {ϕ}\\right)} + {\\left({\\left(m^{2} {\\rm Csc}\\left({θ}\\right)^{2} - \\mathit{ll}\\right)} P_\\ell\\left({θ}\\right) - {\\rm Cot}\\left({θ}\\right) \\frac{\\partial\\,P_\\ell}{\\partial {θ}}\\right)} e^{\\left(-i \\, t ω - i \\, m {ϕ}\\right)} \\sin\\left({θ}\\right) - \\cos\\left({θ}\\right) e^{\\left(-i \\, t ω - i \\, m {ϕ}\\right)} \\frac{\\partial\\,P_\\ell}{\\partial {θ}}\\right)} {\\epsilon} hh_2\\left(r\\right) \\\\\n",
    "{\\epsilon} e^{\\left(-i \\, t ω - i \\, m {ϕ}\\right)} hh_0\\left(r\\right) \\sin\\left({θ}\\right) \\frac{\\partial\\,P_\\ell}{\\partial {θ}} & {\\epsilon} e^{\\left(-i \\, t ω - i \\, m {ϕ}\\right)} hh_1\\left(r\\right) \\sin\\left({θ}\\right) \\frac{\\partial\\,P_\\ell}{\\partial {θ}} & -\\frac{1}{2} \\, {\\left(m^{2} {\\rm Csc}\\left({θ}\\right) P_\\ell\\left({θ}\\right) e^{\\left(-i \\, t ω - i \\, m {ϕ}\\right)} + {\\left({\\left(m^{2} {\\rm Csc}\\left({θ}\\right)^{2} - \\mathit{ll}\\right)} P_\\ell\\left({θ}\\right) - {\\rm Cot}\\left({θ}\\right) \\frac{\\partial\\,P_\\ell}{\\partial {θ}}\\right)} e^{\\left(-i \\, t ω - i \\, m {ϕ}\\right)} \\sin\\left({θ}\\right) - \\cos\\left({θ}\\right) e^{\\left(-i \\, t ω - i \\, m {ϕ}\\right)} \\frac{\\partial\\,P_\\ell}{\\partial {θ}}\\right)} {\\epsilon} hh_2\\left(r\\right) & -{\\left(i \\, m P_\\ell\\left({θ}\\right) \\cos\\left({θ}\\right) e^{\\left(-i \\, t ω - i \\, m {ϕ}\\right)} - i \\, m e^{\\left(-i \\, t ω - i \\, m {ϕ}\\right)} \\sin\\left({θ}\\right) \\frac{\\partial\\,P_\\ell}{\\partial {θ}}\\right)} {\\epsilon} hh_2\\left(r\\right)\n",
    "\\end{array}\\right)$$"
   ]
  },
  {
   "cell_type": "code",
   "execution_count": 17,
   "metadata": {},
   "outputs": [
    {
     "data": {
      "text/html": [
       "<html>\\(\\displaystyle \\tilde{h}_{\\mu \\nu}^{impar} = i \\, {\\epsilon} m {\\rm Csc}\\left({θ}\\right) P_\\ell\\left({θ}\\right) e^{\\left(-i \\, t ω - i \\, m {ϕ}\\right)} hh_0\\left(r\\right) \\mathrm{d} t\\otimes \\mathrm{d} {θ} + {\\epsilon} e^{\\left(-i \\, t ω - i \\, m {ϕ}\\right)} hh_0\\left(r\\right) \\sin\\left({θ}\\right) \\frac{\\partial\\,P_\\ell}{\\partial {θ}} \\mathrm{d} t\\otimes \\mathrm{d} {ϕ} + i \\, {\\epsilon} m {\\rm Csc}\\left({θ}\\right) P_\\ell\\left({θ}\\right) e^{\\left(-i \\, t ω - i \\, m {ϕ}\\right)} hh_1\\left(r\\right) \\mathrm{d} r\\otimes \\mathrm{d} {θ} + {\\epsilon} e^{\\left(-i \\, t ω - i \\, m {ϕ}\\right)} hh_1\\left(r\\right) \\sin\\left({θ}\\right) \\frac{\\partial\\,P_\\ell}{\\partial {θ}} \\mathrm{d} r\\otimes \\mathrm{d} {ϕ} + i \\, {\\epsilon} m {\\rm Csc}\\left({θ}\\right) P_\\ell\\left({θ}\\right) e^{\\left(-i \\, t ω - i \\, m {ϕ}\\right)} hh_0\\left(r\\right) \\mathrm{d} {θ}\\otimes \\mathrm{d} t + i \\, {\\epsilon} m {\\rm Csc}\\left({θ}\\right) P_\\ell\\left({θ}\\right) e^{\\left(-i \\, t ω - i \\, m {ϕ}\\right)} hh_1\\left(r\\right) \\mathrm{d} {θ}\\otimes \\mathrm{d} r + {\\left(i \\, m {\\rm Cot}\\left({θ}\\right) {\\rm Csc}\\left({θ}\\right) P_\\ell\\left({θ}\\right) e^{\\left(-i \\, t ω - i \\, m {ϕ}\\right)} - i \\, m {\\rm Csc}\\left({θ}\\right) e^{\\left(-i \\, t ω - i \\, m {ϕ}\\right)} \\frac{\\partial\\,P_\\ell}{\\partial {θ}}\\right)} {\\epsilon} hh_2\\left(r\\right) \\mathrm{d} {θ}\\otimes \\mathrm{d} {θ} -\\frac{1}{2} \\, {\\left(m^{2} {\\rm Csc}\\left({θ}\\right) P_\\ell\\left({θ}\\right) e^{\\left(-i \\, t ω - i \\, m {ϕ}\\right)} + {\\left({\\left(m^{2} {\\rm Csc}\\left({θ}\\right)^{2} - \\mathit{ll}\\right)} P_\\ell\\left({θ}\\right) - {\\rm Cot}\\left({θ}\\right) \\frac{\\partial\\,P_\\ell}{\\partial {θ}}\\right)} e^{\\left(-i \\, t ω - i \\, m {ϕ}\\right)} \\sin\\left({θ}\\right) - \\cos\\left({θ}\\right) e^{\\left(-i \\, t ω - i \\, m {ϕ}\\right)} \\frac{\\partial\\,P_\\ell}{\\partial {θ}}\\right)} {\\epsilon} hh_2\\left(r\\right) \\mathrm{d} {θ}\\otimes \\mathrm{d} {ϕ} + {\\epsilon} e^{\\left(-i \\, t ω - i \\, m {ϕ}\\right)} hh_0\\left(r\\right) \\sin\\left({θ}\\right) \\frac{\\partial\\,P_\\ell}{\\partial {θ}} \\mathrm{d} {ϕ}\\otimes \\mathrm{d} t + {\\epsilon} e^{\\left(-i \\, t ω - i \\, m {ϕ}\\right)} hh_1\\left(r\\right) \\sin\\left({θ}\\right) \\frac{\\partial\\,P_\\ell}{\\partial {θ}} \\mathrm{d} {ϕ}\\otimes \\mathrm{d} r -\\frac{1}{2} \\, {\\left(m^{2} {\\rm Csc}\\left({θ}\\right) P_\\ell\\left({θ}\\right) e^{\\left(-i \\, t ω - i \\, m {ϕ}\\right)} + {\\left({\\left(m^{2} {\\rm Csc}\\left({θ}\\right)^{2} - \\mathit{ll}\\right)} P_\\ell\\left({θ}\\right) - {\\rm Cot}\\left({θ}\\right) \\frac{\\partial\\,P_\\ell}{\\partial {θ}}\\right)} e^{\\left(-i \\, t ω - i \\, m {ϕ}\\right)} \\sin\\left({θ}\\right) - \\cos\\left({θ}\\right) e^{\\left(-i \\, t ω - i \\, m {ϕ}\\right)} \\frac{\\partial\\,P_\\ell}{\\partial {θ}}\\right)} {\\epsilon} hh_2\\left(r\\right) \\mathrm{d} {ϕ}\\otimes \\mathrm{d} {θ} -{\\left(i \\, m P_\\ell\\left({θ}\\right) \\cos\\left({θ}\\right) e^{\\left(-i \\, t ω - i \\, m {ϕ}\\right)} - i \\, m e^{\\left(-i \\, t ω - i \\, m {ϕ}\\right)} \\sin\\left({θ}\\right) \\frac{\\partial\\,P_\\ell}{\\partial {θ}}\\right)} {\\epsilon} hh_2\\left(r\\right) \\mathrm{d} {ϕ}\\otimes \\mathrm{d} {ϕ}\\)</html>"
      ],
      "text/latex": [
       "$\\displaystyle \\tilde{h}_{\\mu \\nu}^{impar} = i \\, {\\epsilon} m {\\rm Csc}\\left({θ}\\right) P_\\ell\\left({θ}\\right) e^{\\left(-i \\, t ω - i \\, m {ϕ}\\right)} hh_0\\left(r\\right) \\mathrm{d} t\\otimes \\mathrm{d} {θ} + {\\epsilon} e^{\\left(-i \\, t ω - i \\, m {ϕ}\\right)} hh_0\\left(r\\right) \\sin\\left({θ}\\right) \\frac{\\partial\\,P_\\ell}{\\partial {θ}} \\mathrm{d} t\\otimes \\mathrm{d} {ϕ} + i \\, {\\epsilon} m {\\rm Csc}\\left({θ}\\right) P_\\ell\\left({θ}\\right) e^{\\left(-i \\, t ω - i \\, m {ϕ}\\right)} hh_1\\left(r\\right) \\mathrm{d} r\\otimes \\mathrm{d} {θ} + {\\epsilon} e^{\\left(-i \\, t ω - i \\, m {ϕ}\\right)} hh_1\\left(r\\right) \\sin\\left({θ}\\right) \\frac{\\partial\\,P_\\ell}{\\partial {θ}} \\mathrm{d} r\\otimes \\mathrm{d} {ϕ} + i \\, {\\epsilon} m {\\rm Csc}\\left({θ}\\right) P_\\ell\\left({θ}\\right) e^{\\left(-i \\, t ω - i \\, m {ϕ}\\right)} hh_0\\left(r\\right) \\mathrm{d} {θ}\\otimes \\mathrm{d} t + i \\, {\\epsilon} m {\\rm Csc}\\left({θ}\\right) P_\\ell\\left({θ}\\right) e^{\\left(-i \\, t ω - i \\, m {ϕ}\\right)} hh_1\\left(r\\right) \\mathrm{d} {θ}\\otimes \\mathrm{d} r + {\\left(i \\, m {\\rm Cot}\\left({θ}\\right) {\\rm Csc}\\left({θ}\\right) P_\\ell\\left({θ}\\right) e^{\\left(-i \\, t ω - i \\, m {ϕ}\\right)} - i \\, m {\\rm Csc}\\left({θ}\\right) e^{\\left(-i \\, t ω - i \\, m {ϕ}\\right)} \\frac{\\partial\\,P_\\ell}{\\partial {θ}}\\right)} {\\epsilon} hh_2\\left(r\\right) \\mathrm{d} {θ}\\otimes \\mathrm{d} {θ} -\\frac{1}{2} \\, {\\left(m^{2} {\\rm Csc}\\left({θ}\\right) P_\\ell\\left({θ}\\right) e^{\\left(-i \\, t ω - i \\, m {ϕ}\\right)} + {\\left({\\left(m^{2} {\\rm Csc}\\left({θ}\\right)^{2} - \\mathit{ll}\\right)} P_\\ell\\left({θ}\\right) - {\\rm Cot}\\left({θ}\\right) \\frac{\\partial\\,P_\\ell}{\\partial {θ}}\\right)} e^{\\left(-i \\, t ω - i \\, m {ϕ}\\right)} \\sin\\left({θ}\\right) - \\cos\\left({θ}\\right) e^{\\left(-i \\, t ω - i \\, m {ϕ}\\right)} \\frac{\\partial\\,P_\\ell}{\\partial {θ}}\\right)} {\\epsilon} hh_2\\left(r\\right) \\mathrm{d} {θ}\\otimes \\mathrm{d} {ϕ} + {\\epsilon} e^{\\left(-i \\, t ω - i \\, m {ϕ}\\right)} hh_0\\left(r\\right) \\sin\\left({θ}\\right) \\frac{\\partial\\,P_\\ell}{\\partial {θ}} \\mathrm{d} {ϕ}\\otimes \\mathrm{d} t + {\\epsilon} e^{\\left(-i \\, t ω - i \\, m {ϕ}\\right)} hh_1\\left(r\\right) \\sin\\left({θ}\\right) \\frac{\\partial\\,P_\\ell}{\\partial {θ}} \\mathrm{d} {ϕ}\\otimes \\mathrm{d} r -\\frac{1}{2} \\, {\\left(m^{2} {\\rm Csc}\\left({θ}\\right) P_\\ell\\left({θ}\\right) e^{\\left(-i \\, t ω - i \\, m {ϕ}\\right)} + {\\left({\\left(m^{2} {\\rm Csc}\\left({θ}\\right)^{2} - \\mathit{ll}\\right)} P_\\ell\\left({θ}\\right) - {\\rm Cot}\\left({θ}\\right) \\frac{\\partial\\,P_\\ell}{\\partial {θ}}\\right)} e^{\\left(-i \\, t ω - i \\, m {ϕ}\\right)} \\sin\\left({θ}\\right) - \\cos\\left({θ}\\right) e^{\\left(-i \\, t ω - i \\, m {ϕ}\\right)} \\frac{\\partial\\,P_\\ell}{\\partial {θ}}\\right)} {\\epsilon} hh_2\\left(r\\right) \\mathrm{d} {ϕ}\\otimes \\mathrm{d} {θ} -{\\left(i \\, m P_\\ell\\left({θ}\\right) \\cos\\left({θ}\\right) e^{\\left(-i \\, t ω - i \\, m {ϕ}\\right)} - i \\, m e^{\\left(-i \\, t ω - i \\, m {ϕ}\\right)} \\sin\\left({θ}\\right) \\frac{\\partial\\,P_\\ell}{\\partial {θ}}\\right)} {\\epsilon} hh_2\\left(r\\right) \\mathrm{d} {ϕ}\\otimes \\mathrm{d} {ϕ}$"
      ],
      "text/plain": [
       "\\tilde{h}_{\\mu \\nu}^{impar} = I*ep*m*Csc(θ)*PL(θ)*e^(-I*t*ω - I*m*ϕ)*hh0(r) dt⊗dθ + ep*e^(-I*t*ω - I*m*ϕ)*hh0(r)*sin(θ)*d(PL)/dθ dt⊗dϕ + I*ep*m*Csc(θ)*PL(θ)*e^(-I*t*ω - I*m*ϕ)*hh1(r) dr⊗dθ + ep*e^(-I*t*ω - I*m*ϕ)*hh1(r)*sin(θ)*d(PL)/dθ dr⊗dϕ + I*ep*m*Csc(θ)*PL(θ)*e^(-I*t*ω - I*m*ϕ)*hh0(r) dθ⊗dt + I*ep*m*Csc(θ)*PL(θ)*e^(-I*t*ω - I*m*ϕ)*hh1(r) dθ⊗dr + (I*m*Cot(θ)*Csc(θ)*PL(θ)*e^(-I*t*ω - I*m*ϕ) - I*m*Csc(θ)*e^(-I*t*ω - I*m*ϕ)*d(PL)/dθ)*ep*hh2(r) dθ⊗dθ - 1/2*(m^2*Csc(θ)*PL(θ)*e^(-I*t*ω - I*m*ϕ) + ((m^2*Csc(θ)^2 - ll)*PL(θ) - Cot(θ)*d(PL)/dθ)*e^(-I*t*ω - I*m*ϕ)*sin(θ) - cos(θ)*e^(-I*t*ω - I*m*ϕ)*d(PL)/dθ)*ep*hh2(r) dθ⊗dϕ + ep*e^(-I*t*ω - I*m*ϕ)*hh0(r)*sin(θ)*d(PL)/dθ dϕ⊗dt + ep*e^(-I*t*ω - I*m*ϕ)*hh1(r)*sin(θ)*d(PL)/dθ dϕ⊗dr - 1/2*(m^2*Csc(θ)*PL(θ)*e^(-I*t*ω - I*m*ϕ) + ((m^2*Csc(θ)^2 - ll)*PL(θ) - Cot(θ)*d(PL)/dθ)*e^(-I*t*ω - I*m*ϕ)*sin(θ) - cos(θ)*e^(-I*t*ω - I*m*ϕ)*d(PL)/dθ)*ep*hh2(r) dϕ⊗dθ - (I*m*PL(θ)*cos(θ)*e^(-I*t*ω - I*m*ϕ) - I*m*e^(-I*t*ω - I*m*ϕ)*sin(θ)*d(PL)/dθ)*ep*hh2(r) dϕ⊗dϕ"
      ]
     },
     "execution_count": 17,
     "metadata": {},
     "output_type": "execute_result"
    }
   ],
   "source": [
    "hi = M.lorentzian_metric(r'\\tilde{h}_{\\mu \\nu}^{impar}')\n",
    "hi[0,0] = 0\n",
    "hi[0,1] = 0\n",
    "hi[0,2] = - ep*hh0*Csc*diff(YLM, ϕ)\n",
    "hi[0,3] = ep*hh0*sin(θ)*diff(YLM, θ)\n",
    "hi[1,0] = 0\n",
    "hi[1,1] = 0\n",
    "hi[1,2] = - ep*hh1*(1/sin(θ))*diff(YLM, ϕ)\n",
    "hi[1,3] = ep*hh1*sin(θ)*diff(YLM, θ)\n",
    "hi[2,0] = - ep*hh0*Csc*diff(YLM, ϕ)\n",
    "hi[2,1] = - ep*hh1*Csc*diff(YLM, ϕ)\n",
    "hi[2,2] = ep*hh2*(Csc*diff(YLM, θ, ϕ) - Cot*Csc*diff(YLM, ϕ))\n",
    "hi[2,3] = (ep/2)*hh2*(Csc*diff(YLM, ϕ, 2) + cos(θ)*diff(YLM, θ) - e^(-i*ω*t-i*m*ϕ)*sin(θ)*(-(ll -m^2*Csc^2)*PL - Cot*diff(PL, θ)))\n",
    "#hi[2,3] = (ep/2)*hh2*(Csc*diff(YLM, ϕ, 2) + cos(θ)*diff(YLM, θ) - sin(θ)*(diff(YLM, θ, 2)))\n",
    "hi[3,0] = ep*hh0*sin(θ)*diff(YLM, θ)\n",
    "hi[3,1] = ep*hh1*sin(θ)*diff(YLM, θ)\n",
    "hi[3,2] = (ep/2)*hh2*(Csc*diff(YLM, ϕ, 2) + cos(θ)*diff(YLM, θ) - e^(-i*ω*t-i*m*ϕ)*sin(θ)*(-(ll -m^2*Csc^2)*PL - Cot*diff(PL, θ)))\n",
    "#hi[3,2] = (ep/2)*hh2*(Csc*diff(YLM, ϕ, 2) + cos(θ)*diff(YLM, θ) - sin(θ)*(diff(YLM, θ, 2)))\n",
    "hi[3,3] = - ep*hh2*(sin(θ)*diff(YLM, θ, ϕ) - cos(θ)*diff(YLM, ϕ))\n",
    "hi.display()"
   ]
  },
  {
   "cell_type": "code",
   "execution_count": 18,
   "metadata": {
    "scrolled": true
   },
   "outputs": [
    {
     "data": {
      "text/html": [
       "<html>\\(\\displaystyle \\left(\\begin{array}{rrrr}\n",
       "0 & 0 & i \\, {\\epsilon} m {\\rm Csc}\\left({θ}\\right) P_\\ell\\left({θ}\\right) e^{\\left(-i \\, t ω - i \\, m {ϕ}\\right)} hh_0\\left(r\\right) & {\\epsilon} e^{\\left(-i \\, t ω - i \\, m {ϕ}\\right)} hh_0\\left(r\\right) \\sin\\left({θ}\\right) \\frac{\\partial\\,P_\\ell}{\\partial {θ}} \\\\\n",
       "0 & 0 & i \\, {\\epsilon} m {\\rm Csc}\\left({θ}\\right) P_\\ell\\left({θ}\\right) e^{\\left(-i \\, t ω - i \\, m {ϕ}\\right)} hh_1\\left(r\\right) & {\\epsilon} e^{\\left(-i \\, t ω - i \\, m {ϕ}\\right)} hh_1\\left(r\\right) \\sin\\left({θ}\\right) \\frac{\\partial\\,P_\\ell}{\\partial {θ}} \\\\\n",
       "i \\, {\\epsilon} m {\\rm Csc}\\left({θ}\\right) P_\\ell\\left({θ}\\right) e^{\\left(-i \\, t ω - i \\, m {ϕ}\\right)} hh_0\\left(r\\right) & i \\, {\\epsilon} m {\\rm Csc}\\left({θ}\\right) P_\\ell\\left({θ}\\right) e^{\\left(-i \\, t ω - i \\, m {ϕ}\\right)} hh_1\\left(r\\right) & {\\left(i \\, m {\\rm Cot}\\left({θ}\\right) {\\rm Csc}\\left({θ}\\right) P_\\ell\\left({θ}\\right) e^{\\left(-i \\, t ω - i \\, m {ϕ}\\right)} - i \\, m {\\rm Csc}\\left({θ}\\right) e^{\\left(-i \\, t ω - i \\, m {ϕ}\\right)} \\frac{\\partial\\,P_\\ell}{\\partial {θ}}\\right)} {\\epsilon} hh_2\\left(r\\right) & -\\frac{1}{2} \\, {\\left(m^{2} {\\rm Csc}\\left({θ}\\right) P_\\ell\\left({θ}\\right) e^{\\left(-i \\, t ω - i \\, m {ϕ}\\right)} + {\\left({\\left(m^{2} {\\rm Csc}\\left({θ}\\right)^{2} - \\mathit{ll}\\right)} P_\\ell\\left({θ}\\right) - {\\rm Cot}\\left({θ}\\right) \\frac{\\partial\\,P_\\ell}{\\partial {θ}}\\right)} e^{\\left(-i \\, t ω - i \\, m {ϕ}\\right)} \\sin\\left({θ}\\right) - \\cos\\left({θ}\\right) e^{\\left(-i \\, t ω - i \\, m {ϕ}\\right)} \\frac{\\partial\\,P_\\ell}{\\partial {θ}}\\right)} {\\epsilon} hh_2\\left(r\\right) \\\\\n",
       "{\\epsilon} e^{\\left(-i \\, t ω - i \\, m {ϕ}\\right)} hh_0\\left(r\\right) \\sin\\left({θ}\\right) \\frac{\\partial\\,P_\\ell}{\\partial {θ}} & {\\epsilon} e^{\\left(-i \\, t ω - i \\, m {ϕ}\\right)} hh_1\\left(r\\right) \\sin\\left({θ}\\right) \\frac{\\partial\\,P_\\ell}{\\partial {θ}} & -\\frac{1}{2} \\, {\\left(m^{2} {\\rm Csc}\\left({θ}\\right) P_\\ell\\left({θ}\\right) e^{\\left(-i \\, t ω - i \\, m {ϕ}\\right)} + {\\left({\\left(m^{2} {\\rm Csc}\\left({θ}\\right)^{2} - \\mathit{ll}\\right)} P_\\ell\\left({θ}\\right) - {\\rm Cot}\\left({θ}\\right) \\frac{\\partial\\,P_\\ell}{\\partial {θ}}\\right)} e^{\\left(-i \\, t ω - i \\, m {ϕ}\\right)} \\sin\\left({θ}\\right) - \\cos\\left({θ}\\right) e^{\\left(-i \\, t ω - i \\, m {ϕ}\\right)} \\frac{\\partial\\,P_\\ell}{\\partial {θ}}\\right)} {\\epsilon} hh_2\\left(r\\right) & -{\\left(i \\, m P_\\ell\\left({θ}\\right) \\cos\\left({θ}\\right) e^{\\left(-i \\, t ω - i \\, m {ϕ}\\right)} - i \\, m e^{\\left(-i \\, t ω - i \\, m {ϕ}\\right)} \\sin\\left({θ}\\right) \\frac{\\partial\\,P_\\ell}{\\partial {θ}}\\right)} {\\epsilon} hh_2\\left(r\\right)\n",
       "\\end{array}\\right)\\)</html>"
      ],
      "text/latex": [
       "$\\displaystyle \\left(\\begin{array}{rrrr}\n",
       "0 & 0 & i \\, {\\epsilon} m {\\rm Csc}\\left({θ}\\right) P_\\ell\\left({θ}\\right) e^{\\left(-i \\, t ω - i \\, m {ϕ}\\right)} hh_0\\left(r\\right) & {\\epsilon} e^{\\left(-i \\, t ω - i \\, m {ϕ}\\right)} hh_0\\left(r\\right) \\sin\\left({θ}\\right) \\frac{\\partial\\,P_\\ell}{\\partial {θ}} \\\\\n",
       "0 & 0 & i \\, {\\epsilon} m {\\rm Csc}\\left({θ}\\right) P_\\ell\\left({θ}\\right) e^{\\left(-i \\, t ω - i \\, m {ϕ}\\right)} hh_1\\left(r\\right) & {\\epsilon} e^{\\left(-i \\, t ω - i \\, m {ϕ}\\right)} hh_1\\left(r\\right) \\sin\\left({θ}\\right) \\frac{\\partial\\,P_\\ell}{\\partial {θ}} \\\\\n",
       "i \\, {\\epsilon} m {\\rm Csc}\\left({θ}\\right) P_\\ell\\left({θ}\\right) e^{\\left(-i \\, t ω - i \\, m {ϕ}\\right)} hh_0\\left(r\\right) & i \\, {\\epsilon} m {\\rm Csc}\\left({θ}\\right) P_\\ell\\left({θ}\\right) e^{\\left(-i \\, t ω - i \\, m {ϕ}\\right)} hh_1\\left(r\\right) & {\\left(i \\, m {\\rm Cot}\\left({θ}\\right) {\\rm Csc}\\left({θ}\\right) P_\\ell\\left({θ}\\right) e^{\\left(-i \\, t ω - i \\, m {ϕ}\\right)} - i \\, m {\\rm Csc}\\left({θ}\\right) e^{\\left(-i \\, t ω - i \\, m {ϕ}\\right)} \\frac{\\partial\\,P_\\ell}{\\partial {θ}}\\right)} {\\epsilon} hh_2\\left(r\\right) & -\\frac{1}{2} \\, {\\left(m^{2} {\\rm Csc}\\left({θ}\\right) P_\\ell\\left({θ}\\right) e^{\\left(-i \\, t ω - i \\, m {ϕ}\\right)} + {\\left({\\left(m^{2} {\\rm Csc}\\left({θ}\\right)^{2} - \\mathit{ll}\\right)} P_\\ell\\left({θ}\\right) - {\\rm Cot}\\left({θ}\\right) \\frac{\\partial\\,P_\\ell}{\\partial {θ}}\\right)} e^{\\left(-i \\, t ω - i \\, m {ϕ}\\right)} \\sin\\left({θ}\\right) - \\cos\\left({θ}\\right) e^{\\left(-i \\, t ω - i \\, m {ϕ}\\right)} \\frac{\\partial\\,P_\\ell}{\\partial {θ}}\\right)} {\\epsilon} hh_2\\left(r\\right) \\\\\n",
       "{\\epsilon} e^{\\left(-i \\, t ω - i \\, m {ϕ}\\right)} hh_0\\left(r\\right) \\sin\\left({θ}\\right) \\frac{\\partial\\,P_\\ell}{\\partial {θ}} & {\\epsilon} e^{\\left(-i \\, t ω - i \\, m {ϕ}\\right)} hh_1\\left(r\\right) \\sin\\left({θ}\\right) \\frac{\\partial\\,P_\\ell}{\\partial {θ}} & -\\frac{1}{2} \\, {\\left(m^{2} {\\rm Csc}\\left({θ}\\right) P_\\ell\\left({θ}\\right) e^{\\left(-i \\, t ω - i \\, m {ϕ}\\right)} + {\\left({\\left(m^{2} {\\rm Csc}\\left({θ}\\right)^{2} - \\mathit{ll}\\right)} P_\\ell\\left({θ}\\right) - {\\rm Cot}\\left({θ}\\right) \\frac{\\partial\\,P_\\ell}{\\partial {θ}}\\right)} e^{\\left(-i \\, t ω - i \\, m {ϕ}\\right)} \\sin\\left({θ}\\right) - \\cos\\left({θ}\\right) e^{\\left(-i \\, t ω - i \\, m {ϕ}\\right)} \\frac{\\partial\\,P_\\ell}{\\partial {θ}}\\right)} {\\epsilon} hh_2\\left(r\\right) & -{\\left(i \\, m P_\\ell\\left({θ}\\right) \\cos\\left({θ}\\right) e^{\\left(-i \\, t ω - i \\, m {ϕ}\\right)} - i \\, m e^{\\left(-i \\, t ω - i \\, m {ϕ}\\right)} \\sin\\left({θ}\\right) \\frac{\\partial\\,P_\\ell}{\\partial {θ}}\\right)} {\\epsilon} hh_2\\left(r\\right)\n",
       "\\end{array}\\right)$"
      ],
      "text/plain": [
       "[                                                                                                                                                                  0                                                                                                                                                                   0                                                                                                                       I*ep*m*Csc(θ)*PL(θ)*e^(-I*t*ω - I*m*ϕ)*hh0(r)                                                                                                                        ep*e^(-I*t*ω - I*m*ϕ)*hh0(r)*sin(θ)*d(PL)/dθ]\n",
       "[                                                                                                                                                                  0                                                                                                                                                                   0                                                                                                                       I*ep*m*Csc(θ)*PL(θ)*e^(-I*t*ω - I*m*ϕ)*hh1(r)                                                                                                                        ep*e^(-I*t*ω - I*m*ϕ)*hh1(r)*sin(θ)*d(PL)/dθ]\n",
       "[                                                                                                                      I*ep*m*Csc(θ)*PL(θ)*e^(-I*t*ω - I*m*ϕ)*hh0(r)                                                                                                                       I*ep*m*Csc(θ)*PL(θ)*e^(-I*t*ω - I*m*ϕ)*hh1(r)                                                                     (I*m*Cot(θ)*Csc(θ)*PL(θ)*e^(-I*t*ω - I*m*ϕ) - I*m*Csc(θ)*e^(-I*t*ω - I*m*ϕ)*d(PL)/dθ)*ep*hh2(r) -1/2*(m^2*Csc(θ)*PL(θ)*e^(-I*t*ω - I*m*ϕ) + ((m^2*Csc(θ)^2 - ll)*PL(θ) - Cot(θ)*d(PL)/dθ)*e^(-I*t*ω - I*m*ϕ)*sin(θ) - cos(θ)*e^(-I*t*ω - I*m*ϕ)*d(PL)/dθ)*ep*hh2(r)]\n",
       "[                                                                                                                       ep*e^(-I*t*ω - I*m*ϕ)*hh0(r)*sin(θ)*d(PL)/dθ                                                                                                                        ep*e^(-I*t*ω - I*m*ϕ)*hh1(r)*sin(θ)*d(PL)/dθ -1/2*(m^2*Csc(θ)*PL(θ)*e^(-I*t*ω - I*m*ϕ) + ((m^2*Csc(θ)^2 - ll)*PL(θ) - Cot(θ)*d(PL)/dθ)*e^(-I*t*ω - I*m*ϕ)*sin(θ) - cos(θ)*e^(-I*t*ω - I*m*ϕ)*d(PL)/dθ)*ep*hh2(r)                                                                           -(I*m*PL(θ)*cos(θ)*e^(-I*t*ω - I*m*ϕ) - I*m*e^(-I*t*ω - I*m*ϕ)*sin(θ)*d(PL)/dθ)*ep*hh2(r)]"
      ]
     },
     "execution_count": 18,
     "metadata": {},
     "output_type": "execute_result"
    }
   ],
   "source": [
    "hi[:]"
   ]
  },
  {
   "cell_type": "markdown",
   "metadata": {},
   "source": [
    "## Construção da métrica perturbada par $h_{\\mu \\nu}^{par}$"
   ]
  },
  {
   "cell_type": "markdown",
   "metadata": {},
   "source": [
    "Definindo a derivada covariante $\\nabla$ em termo da métrica $g_{\\mu \\nu}$:"
   ]
  },
  {
   "cell_type": "code",
   "execution_count": 19,
   "metadata": {},
   "outputs": [
    {
     "data": {
      "text/html": [
       "<html>\\(\\displaystyle \\nabla\\)</html>"
      ],
      "text/latex": [
       "$\\displaystyle \\nabla$"
      ],
      "text/plain": [
       "Levi-Civita connection nabla associated with the Lorentzian metric g on the 4-dimensional Lorentzian manifold M"
      ]
     },
     "execution_count": 19,
     "metadata": {},
     "output_type": "execute_result"
    }
   ],
   "source": [
    "nab = g.connection(name='nabla', latex_name=r'\\nabla')\n",
    "nab"
   ]
  },
  {
   "cell_type": "markdown",
   "metadata": {},
   "source": [
    "Definindo o campo vetorial $\\xi^{\\alpha}$ para perturbação $h_{\\mu \\nu}^{par}$, com as seguintes funções:"
   ]
  },
  {
   "cell_type": "code",
   "execution_count": 20,
   "metadata": {},
   "outputs": [],
   "source": [
    "M0 = function('M0', latex_name=r'M_0')(r)\n",
    "M1 = function('M1', latex_name=r'M_1')(r)\n",
    "M2 = function('M2', latex_name=r'M_2')(r)"
   ]
  },
  {
   "cell_type": "code",
   "execution_count": 21,
   "metadata": {},
   "outputs": [
    {
     "data": {
      "text/html": [
       "<html>\\(\\displaystyle \\left[M_0\\left(r\\right) P_\\ell\\left({θ}\\right) e^{\\left(-i \\, t ω - i \\, m {ϕ}\\right)}, M_1\\left(r\\right) P_\\ell\\left({θ}\\right) e^{\\left(-i \\, t ω - i \\, m {ϕ}\\right)}, M_2\\left(r\\right) e^{\\left(-i \\, t ω - i \\, m {ϕ}\\right)} \\frac{\\partial}{\\partial {θ}}P_\\ell\\left({θ}\\right), -\\frac{i \\, m M_2\\left(r\\right) P_\\ell\\left({θ}\\right) e^{\\left(-i \\, t ω - i \\, m {ϕ}\\right)}}{\\sin\\left({θ}\\right)^{2}}\\right]\\)</html>"
      ],
      "text/latex": [
       "$\\displaystyle \\left[M_0\\left(r\\right) P_\\ell\\left({θ}\\right) e^{\\left(-i \\, t ω - i \\, m {ϕ}\\right)}, M_1\\left(r\\right) P_\\ell\\left({θ}\\right) e^{\\left(-i \\, t ω - i \\, m {ϕ}\\right)}, M_2\\left(r\\right) e^{\\left(-i \\, t ω - i \\, m {ϕ}\\right)} \\frac{\\partial}{\\partial {θ}}P_\\ell\\left({θ}\\right), -\\frac{i \\, m M_2\\left(r\\right) P_\\ell\\left({θ}\\right) e^{\\left(-i \\, t ω - i \\, m {ϕ}\\right)}}{\\sin\\left({θ}\\right)^{2}}\\right]$"
      ],
      "text/plain": [
       "[M0(r)*PL(θ)*e^(-I*t*ω - I*m*ϕ),\n",
       " M1(r)*PL(θ)*e^(-I*t*ω - I*m*ϕ),\n",
       " M2(r)*e^(-I*t*ω - I*m*ϕ)*diff(PL(θ), θ),\n",
       " -I*m*M2(r)*PL(θ)*e^(-I*t*ω - I*m*ϕ)/sin(θ)^2]"
      ]
     },
     "execution_count": 21,
     "metadata": {},
     "output_type": "execute_result"
    }
   ],
   "source": [
    "ξ_lista = [YLM*M0, YLM*M1, M2*diff(YLM, θ), M2*diff(YLM, ϕ)*(1/sin(θ)^2)]\n",
    "ξ_lista"
   ]
  },
  {
   "cell_type": "markdown",
   "metadata": {},
   "source": [
    "$\\xi = \\xi^0 \\frac{\\partial}{\\partial t} + \\xi^1 \\frac{\\partial}{\\partial r} + \\xi^2 \\frac{\\partial}{\\partial \\theta} + \\xi^3 \\frac{\\partial}{\\partial \\phi}$:"
   ]
  },
  {
   "cell_type": "code",
   "execution_count": 22,
   "metadata": {},
   "outputs": [
    {
     "data": {
      "text/html": [
       "<html>\\(\\displaystyle ξ = M_0\\left(r\\right) P_\\ell\\left({θ}\\right) e^{\\left(-i \\, t ω - i \\, m {ϕ}\\right)} \\frac{\\partial}{\\partial t } + M_1\\left(r\\right) P_\\ell\\left({θ}\\right) e^{\\left(-i \\, t ω - i \\, m {ϕ}\\right)} \\frac{\\partial}{\\partial r } + M_2\\left(r\\right) e^{\\left(-i \\, t ω - i \\, m {ϕ}\\right)} \\frac{\\partial\\,P_\\ell}{\\partial {θ}} \\frac{\\partial}{\\partial {θ} } -\\frac{i \\, m M_2\\left(r\\right) P_\\ell\\left({θ}\\right) e^{\\left(-i \\, t ω - i \\, m {ϕ}\\right)}}{\\sin\\left({θ}\\right)^{2}} \\frac{\\partial}{\\partial {ϕ} }\\)</html>"
      ],
      "text/latex": [
       "$\\displaystyle ξ = M_0\\left(r\\right) P_\\ell\\left({θ}\\right) e^{\\left(-i \\, t ω - i \\, m {ϕ}\\right)} \\frac{\\partial}{\\partial t } + M_1\\left(r\\right) P_\\ell\\left({θ}\\right) e^{\\left(-i \\, t ω - i \\, m {ϕ}\\right)} \\frac{\\partial}{\\partial r } + M_2\\left(r\\right) e^{\\left(-i \\, t ω - i \\, m {ϕ}\\right)} \\frac{\\partial\\,P_\\ell}{\\partial {θ}} \\frac{\\partial}{\\partial {θ} } -\\frac{i \\, m M_2\\left(r\\right) P_\\ell\\left({θ}\\right) e^{\\left(-i \\, t ω - i \\, m {ϕ}\\right)}}{\\sin\\left({θ}\\right)^{2}} \\frac{\\partial}{\\partial {ϕ} }$"
      ],
      "text/plain": [
       "ξ = M0(r)*PL(θ)*e^(-I*t*ω - I*m*ϕ) ∂/∂t + M1(r)*PL(θ)*e^(-I*t*ω - I*m*ϕ) ∂/∂r + M2(r)*e^(-I*t*ω - I*m*ϕ)*d(PL)/dθ ∂/∂θ - I*m*M2(r)*PL(θ)*e^(-I*t*ω - I*m*ϕ)/sin(θ)^2 ∂/∂ϕ"
      ]
     },
     "execution_count": 22,
     "metadata": {},
     "output_type": "execute_result"
    }
   ],
   "source": [
    "ξ = M.vector_field(*ξ_lista, name='ξ')\n",
    "ξ.display()"
   ]
  },
  {
   "cell_type": "markdown",
   "metadata": {},
   "source": [
    "Baixando o indice de $\\xi$, da forma $\\xi_{\\mu} = g_{\\nu \\mu}\\xi^{\\nu}$:"
   ]
  },
  {
   "cell_type": "code",
   "execution_count": 23,
   "metadata": {},
   "outputs": [
    {
     "data": {
      "text/html": [
       "<html>\\(\\displaystyle -M_0\\left(r\\right) P_\\ell\\left({θ}\\right) e^{\\left(-i \\, t ω - i \\, m {ϕ}\\right)} f\\left(r\\right) \\mathrm{d} t + M_1\\left(r\\right) P_\\ell\\left({θ}\\right) {\\rm bb}\\left(r\\right) e^{\\left(-i \\, t ω - i \\, m {ϕ}\\right)} \\mathrm{d} r + r^{2} M_2\\left(r\\right) e^{\\left(-i \\, t ω - i \\, m {ϕ}\\right)} \\frac{\\partial\\,P_\\ell}{\\partial {θ}} \\mathrm{d} {θ} -i \\, m r^{2} M_2\\left(r\\right) P_\\ell\\left({θ}\\right) e^{\\left(-i \\, t ω - i \\, m {ϕ}\\right)} \\mathrm{d} {ϕ}\\)</html>"
      ],
      "text/latex": [
       "$\\displaystyle -M_0\\left(r\\right) P_\\ell\\left({θ}\\right) e^{\\left(-i \\, t ω - i \\, m {ϕ}\\right)} f\\left(r\\right) \\mathrm{d} t + M_1\\left(r\\right) P_\\ell\\left({θ}\\right) {\\rm bb}\\left(r\\right) e^{\\left(-i \\, t ω - i \\, m {ϕ}\\right)} \\mathrm{d} r + r^{2} M_2\\left(r\\right) e^{\\left(-i \\, t ω - i \\, m {ϕ}\\right)} \\frac{\\partial\\,P_\\ell}{\\partial {θ}} \\mathrm{d} {θ} -i \\, m r^{2} M_2\\left(r\\right) P_\\ell\\left({θ}\\right) e^{\\left(-i \\, t ω - i \\, m {ϕ}\\right)} \\mathrm{d} {ϕ}$"
      ],
      "text/plain": [
       "-M0(r)*PL(θ)*e^(-I*t*ω - I*m*ϕ)*f(r) dt + M1(r)*PL(θ)*bb(r)*e^(-I*t*ω - I*m*ϕ) dr + r^2*M2(r)*e^(-I*t*ω - I*m*ϕ)*d(PL)/dθ dθ - I*m*r^2*M2(r)*PL(θ)*e^(-I*t*ω - I*m*ϕ) dϕ"
      ]
     },
     "execution_count": 23,
     "metadata": {},
     "output_type": "execute_result"
    }
   ],
   "source": [
    "ξ_d = ξ.down(g) \n",
    "ξ_d.display()"
   ]
  },
  {
   "cell_type": "markdown",
   "metadata": {},
   "source": [
    "Definindo uma variação pequena para a perturbação par, dada por \n",
    "\n",
    "$$\\delta h^{par}_{\\mu \\nu} = \\nabla_{\\mu}\\xi_{\\nu} + \\nabla_{\\nu}\\xi_{\\mu}$$"
   ]
  },
  {
   "cell_type": "code",
   "execution_count": 24,
   "metadata": {},
   "outputs": [],
   "source": [
    "dh_par = (nab(ξ_d).symmetrize())*2 #D_a \\chi_b + D_b \\chi_a"
   ]
  },
  {
   "cell_type": "markdown",
   "metadata": {},
   "source": [
    "Fazendo a substituição de $\\frac{\\partial^2 P_{\\ell}}{\\partial \\theta^2}$ pela sua expressão definida  no início do arquivo:"
   ]
  },
  {
   "cell_type": "code",
   "execution_count": 25,
   "metadata": {},
   "outputs": [],
   "source": [
    "dh_par.apply_map(lambda q: q.subs({diff(PL, θ, 2) : PLdd}))"
   ]
  },
  {
   "cell_type": "code",
   "execution_count": 26,
   "metadata": {},
   "outputs": [
    {
     "data": {
      "text/html": [
       "<html>\\(\\displaystyle \\left(\\begin{array}{rrrr}\n",
       "{\\left(2 i \\, ω M_0\\left(r\\right) P_\\ell\\left({θ}\\right) f\\left(r\\right) - M_1\\left(r\\right) P_\\ell\\left({θ}\\right) \\frac{\\partial\\,f}{\\partial r}\\right)} e^{\\left(-i \\, t ω - i \\, m {ϕ}\\right)} & {\\left(-i \\, ω M_1\\left(r\\right) P_\\ell\\left({θ}\\right) {\\rm bb}\\left(r\\right) - P_\\ell\\left({θ}\\right) f\\left(r\\right) \\frac{\\partial\\,M_0}{\\partial r}\\right)} e^{\\left(-i \\, t ω - i \\, m {ϕ}\\right)} & {\\left(-i \\, r^{2} ω M_2\\left(r\\right) \\frac{\\partial\\,P_\\ell}{\\partial {θ}} - M_0\\left(r\\right) f\\left(r\\right) \\frac{\\partial\\,P_\\ell}{\\partial {θ}}\\right)} e^{\\left(-i \\, t ω - i \\, m {ϕ}\\right)} & -{\\left(m r^{2} ω M_2\\left(r\\right) P_\\ell\\left({θ}\\right) - i \\, m M_0\\left(r\\right) P_\\ell\\left({θ}\\right) f\\left(r\\right)\\right)} e^{\\left(-i \\, t ω - i \\, m {ϕ}\\right)} \\\\\n",
       "{\\left(-i \\, ω M_1\\left(r\\right) P_\\ell\\left({θ}\\right) {\\rm bb}\\left(r\\right) - P_\\ell\\left({θ}\\right) f\\left(r\\right) \\frac{\\partial\\,M_0}{\\partial r}\\right)} e^{\\left(-i \\, t ω - i \\, m {ϕ}\\right)} & {\\left(2 \\, {\\rm bb}\\left(r\\right) \\frac{\\partial\\,M_1}{\\partial r} + M_1\\left(r\\right) \\frac{\\partial\\,\\mathit{bb}}{\\partial r}\\right)} P_\\ell\\left({θ}\\right) e^{\\left(-i \\, t ω - i \\, m {ϕ}\\right)} & {\\left(r^{2} \\frac{\\partial\\,M_2}{\\partial r} + M_1\\left(r\\right) {\\rm bb}\\left(r\\right)\\right)} e^{\\left(-i \\, t ω - i \\, m {ϕ}\\right)} \\frac{\\partial\\,P_\\ell}{\\partial {θ}} & {\\left(-i \\, m r^{2} \\frac{\\partial\\,M_2}{\\partial r} - i \\, m M_1\\left(r\\right) {\\rm bb}\\left(r\\right)\\right)} P_\\ell\\left({θ}\\right) e^{\\left(-i \\, t ω - i \\, m {ϕ}\\right)} \\\\\n",
       "{\\left(-i \\, r^{2} ω M_2\\left(r\\right) \\frac{\\partial\\,P_\\ell}{\\partial {θ}} - M_0\\left(r\\right) f\\left(r\\right) \\frac{\\partial\\,P_\\ell}{\\partial {θ}}\\right)} e^{\\left(-i \\, t ω - i \\, m {ϕ}\\right)} & {\\left(r^{2} \\frac{\\partial\\,M_2}{\\partial r} + M_1\\left(r\\right) {\\rm bb}\\left(r\\right)\\right)} e^{\\left(-i \\, t ω - i \\, m {ϕ}\\right)} \\frac{\\partial\\,P_\\ell}{\\partial {θ}} & 2 \\, {\\left({\\left({\\left(m^{2} {\\rm Csc}\\left({θ}\\right)^{2} - \\mathit{ll}\\right)} P_\\ell\\left({θ}\\right) - {\\rm Cot}\\left({θ}\\right) \\frac{\\partial\\,P_\\ell}{\\partial {θ}}\\right)} r^{2} M_2\\left(r\\right) + r M_1\\left(r\\right) P_\\ell\\left({θ}\\right)\\right)} e^{\\left(-i \\, t ω - i \\, m {ϕ}\\right)} & \\frac{2 \\, {\\left(i \\, m r^{2} M_2\\left(r\\right) P_\\ell\\left({θ}\\right) \\cos\\left({θ}\\right) - i \\, m r^{2} M_2\\left(r\\right) \\sin\\left({θ}\\right) \\frac{\\partial\\,P_\\ell}{\\partial {θ}}\\right)} e^{\\left(-i \\, t ω - i \\, m {ϕ}\\right)}}{\\sin\\left({θ}\\right)} \\\\\n",
       "-{\\left(m r^{2} ω M_2\\left(r\\right) P_\\ell\\left({θ}\\right) - i \\, m M_0\\left(r\\right) P_\\ell\\left({θ}\\right) f\\left(r\\right)\\right)} e^{\\left(-i \\, t ω - i \\, m {ϕ}\\right)} & {\\left(-i \\, m r^{2} \\frac{\\partial\\,M_2}{\\partial r} - i \\, m M_1\\left(r\\right) {\\rm bb}\\left(r\\right)\\right)} P_\\ell\\left({θ}\\right) e^{\\left(-i \\, t ω - i \\, m {ϕ}\\right)} & \\frac{2 \\, {\\left(i \\, m r^{2} M_2\\left(r\\right) P_\\ell\\left({θ}\\right) \\cos\\left({θ}\\right) - i \\, m r^{2} M_2\\left(r\\right) \\sin\\left({θ}\\right) \\frac{\\partial\\,P_\\ell}{\\partial {θ}}\\right)} e^{\\left(-i \\, t ω - i \\, m {ϕ}\\right)}}{\\sin\\left({θ}\\right)} & -2 \\, {\\left(m^{2} r^{2} M_2\\left(r\\right) P_\\ell\\left({θ}\\right) - r^{2} M_2\\left(r\\right) \\cos\\left({θ}\\right) \\sin\\left({θ}\\right) \\frac{\\partial\\,P_\\ell}{\\partial {θ}} - r M_1\\left(r\\right) P_\\ell\\left({θ}\\right) \\sin\\left({θ}\\right)^{2}\\right)} e^{\\left(-i \\, t ω - i \\, m {ϕ}\\right)}\n",
       "\\end{array}\\right)\\)</html>"
      ],
      "text/latex": [
       "$\\displaystyle \\left(\\begin{array}{rrrr}\n",
       "{\\left(2 i \\, ω M_0\\left(r\\right) P_\\ell\\left({θ}\\right) f\\left(r\\right) - M_1\\left(r\\right) P_\\ell\\left({θ}\\right) \\frac{\\partial\\,f}{\\partial r}\\right)} e^{\\left(-i \\, t ω - i \\, m {ϕ}\\right)} & {\\left(-i \\, ω M_1\\left(r\\right) P_\\ell\\left({θ}\\right) {\\rm bb}\\left(r\\right) - P_\\ell\\left({θ}\\right) f\\left(r\\right) \\frac{\\partial\\,M_0}{\\partial r}\\right)} e^{\\left(-i \\, t ω - i \\, m {ϕ}\\right)} & {\\left(-i \\, r^{2} ω M_2\\left(r\\right) \\frac{\\partial\\,P_\\ell}{\\partial {θ}} - M_0\\left(r\\right) f\\left(r\\right) \\frac{\\partial\\,P_\\ell}{\\partial {θ}}\\right)} e^{\\left(-i \\, t ω - i \\, m {ϕ}\\right)} & -{\\left(m r^{2} ω M_2\\left(r\\right) P_\\ell\\left({θ}\\right) - i \\, m M_0\\left(r\\right) P_\\ell\\left({θ}\\right) f\\left(r\\right)\\right)} e^{\\left(-i \\, t ω - i \\, m {ϕ}\\right)} \\\\\n",
       "{\\left(-i \\, ω M_1\\left(r\\right) P_\\ell\\left({θ}\\right) {\\rm bb}\\left(r\\right) - P_\\ell\\left({θ}\\right) f\\left(r\\right) \\frac{\\partial\\,M_0}{\\partial r}\\right)} e^{\\left(-i \\, t ω - i \\, m {ϕ}\\right)} & {\\left(2 \\, {\\rm bb}\\left(r\\right) \\frac{\\partial\\,M_1}{\\partial r} + M_1\\left(r\\right) \\frac{\\partial\\,\\mathit{bb}}{\\partial r}\\right)} P_\\ell\\left({θ}\\right) e^{\\left(-i \\, t ω - i \\, m {ϕ}\\right)} & {\\left(r^{2} \\frac{\\partial\\,M_2}{\\partial r} + M_1\\left(r\\right) {\\rm bb}\\left(r\\right)\\right)} e^{\\left(-i \\, t ω - i \\, m {ϕ}\\right)} \\frac{\\partial\\,P_\\ell}{\\partial {θ}} & {\\left(-i \\, m r^{2} \\frac{\\partial\\,M_2}{\\partial r} - i \\, m M_1\\left(r\\right) {\\rm bb}\\left(r\\right)\\right)} P_\\ell\\left({θ}\\right) e^{\\left(-i \\, t ω - i \\, m {ϕ}\\right)} \\\\\n",
       "{\\left(-i \\, r^{2} ω M_2\\left(r\\right) \\frac{\\partial\\,P_\\ell}{\\partial {θ}} - M_0\\left(r\\right) f\\left(r\\right) \\frac{\\partial\\,P_\\ell}{\\partial {θ}}\\right)} e^{\\left(-i \\, t ω - i \\, m {ϕ}\\right)} & {\\left(r^{2} \\frac{\\partial\\,M_2}{\\partial r} + M_1\\left(r\\right) {\\rm bb}\\left(r\\right)\\right)} e^{\\left(-i \\, t ω - i \\, m {ϕ}\\right)} \\frac{\\partial\\,P_\\ell}{\\partial {θ}} & 2 \\, {\\left({\\left({\\left(m^{2} {\\rm Csc}\\left({θ}\\right)^{2} - \\mathit{ll}\\right)} P_\\ell\\left({θ}\\right) - {\\rm Cot}\\left({θ}\\right) \\frac{\\partial\\,P_\\ell}{\\partial {θ}}\\right)} r^{2} M_2\\left(r\\right) + r M_1\\left(r\\right) P_\\ell\\left({θ}\\right)\\right)} e^{\\left(-i \\, t ω - i \\, m {ϕ}\\right)} & \\frac{2 \\, {\\left(i \\, m r^{2} M_2\\left(r\\right) P_\\ell\\left({θ}\\right) \\cos\\left({θ}\\right) - i \\, m r^{2} M_2\\left(r\\right) \\sin\\left({θ}\\right) \\frac{\\partial\\,P_\\ell}{\\partial {θ}}\\right)} e^{\\left(-i \\, t ω - i \\, m {ϕ}\\right)}}{\\sin\\left({θ}\\right)} \\\\\n",
       "-{\\left(m r^{2} ω M_2\\left(r\\right) P_\\ell\\left({θ}\\right) - i \\, m M_0\\left(r\\right) P_\\ell\\left({θ}\\right) f\\left(r\\right)\\right)} e^{\\left(-i \\, t ω - i \\, m {ϕ}\\right)} & {\\left(-i \\, m r^{2} \\frac{\\partial\\,M_2}{\\partial r} - i \\, m M_1\\left(r\\right) {\\rm bb}\\left(r\\right)\\right)} P_\\ell\\left({θ}\\right) e^{\\left(-i \\, t ω - i \\, m {ϕ}\\right)} & \\frac{2 \\, {\\left(i \\, m r^{2} M_2\\left(r\\right) P_\\ell\\left({θ}\\right) \\cos\\left({θ}\\right) - i \\, m r^{2} M_2\\left(r\\right) \\sin\\left({θ}\\right) \\frac{\\partial\\,P_\\ell}{\\partial {θ}}\\right)} e^{\\left(-i \\, t ω - i \\, m {ϕ}\\right)}}{\\sin\\left({θ}\\right)} & -2 \\, {\\left(m^{2} r^{2} M_2\\left(r\\right) P_\\ell\\left({θ}\\right) - r^{2} M_2\\left(r\\right) \\cos\\left({θ}\\right) \\sin\\left({θ}\\right) \\frac{\\partial\\,P_\\ell}{\\partial {θ}} - r M_1\\left(r\\right) P_\\ell\\left({θ}\\right) \\sin\\left({θ}\\right)^{2}\\right)} e^{\\left(-i \\, t ω - i \\, m {ϕ}\\right)}\n",
       "\\end{array}\\right)$"
      ],
      "text/plain": [
       "[                                      (2*I*ω*M0(r)*PL(θ)*f(r) - M1(r)*PL(θ)*d(f)/dr)*e^(-I*t*ω - I*m*ϕ)                                       (-I*ω*M1(r)*PL(θ)*bb(r) - PL(θ)*f(r)*d(M0)/dr)*e^(-I*t*ω - I*m*ϕ)                                      (-I*r^2*ω*M2(r)*d(PL)/dθ - M0(r)*f(r)*d(PL)/dθ)*e^(-I*t*ω - I*m*ϕ)                                        -(m*r^2*ω*M2(r)*PL(θ) - I*m*M0(r)*PL(θ)*f(r))*e^(-I*t*ω - I*m*ϕ)]\n",
       "[                                      (-I*ω*M1(r)*PL(θ)*bb(r) - PL(θ)*f(r)*d(M0)/dr)*e^(-I*t*ω - I*m*ϕ)                                            (2*bb(r)*d(M1)/dr + M1(r)*d(bb)/dr)*PL(θ)*e^(-I*t*ω - I*m*ϕ)                                                (r^2*d(M2)/dr + M1(r)*bb(r))*e^(-I*t*ω - I*m*ϕ)*d(PL)/dθ                                          (-I*m*r^2*d(M2)/dr - I*m*M1(r)*bb(r))*PL(θ)*e^(-I*t*ω - I*m*ϕ)]\n",
       "[                                     (-I*r^2*ω*M2(r)*d(PL)/dθ - M0(r)*f(r)*d(PL)/dθ)*e^(-I*t*ω - I*m*ϕ)                                                (r^2*d(M2)/dr + M1(r)*bb(r))*e^(-I*t*ω - I*m*ϕ)*d(PL)/dθ          2*(((m^2*Csc(θ)^2 - ll)*PL(θ) - Cot(θ)*d(PL)/dθ)*r^2*M2(r) + r*M1(r)*PL(θ))*e^(-I*t*ω - I*m*ϕ)                2*(I*m*r^2*M2(r)*PL(θ)*cos(θ) - I*m*r^2*M2(r)*sin(θ)*d(PL)/dθ)*e^(-I*t*ω - I*m*ϕ)/sin(θ)]\n",
       "[                                       -(m*r^2*ω*M2(r)*PL(θ) - I*m*M0(r)*PL(θ)*f(r))*e^(-I*t*ω - I*m*ϕ)                                          (-I*m*r^2*d(M2)/dr - I*m*M1(r)*bb(r))*PL(θ)*e^(-I*t*ω - I*m*ϕ)                2*(I*m*r^2*M2(r)*PL(θ)*cos(θ) - I*m*r^2*M2(r)*sin(θ)*d(PL)/dθ)*e^(-I*t*ω - I*m*ϕ)/sin(θ) -2*(m^2*r^2*M2(r)*PL(θ) - r^2*M2(r)*cos(θ)*sin(θ)*d(PL)/dθ - r*M1(r)*PL(θ)*sin(θ)^2)*e^(-I*t*ω - I*m*ϕ)]"
      ]
     },
     "execution_count": 26,
     "metadata": {},
     "output_type": "execute_result"
    }
   ],
   "source": [
    "dh_par[:]"
   ]
  },
  {
   "cell_type": "markdown",
   "metadata": {},
   "source": [
    "Definindo a perturbação geral par da forma \n",
    "\n",
    "$$h_{\\mu \\nu}^{par} = \\tilde{h}_{\\mu \\nu}^{par} + \\epsilon \\delta h^{par}_{\\mu \\nu}$$"
   ]
  },
  {
   "cell_type": "code",
   "execution_count": 27,
   "metadata": {
    "scrolled": true
   },
   "outputs": [],
   "source": [
    "h_par  = hp[:] + ep*dh_par[:]"
   ]
  },
  {
   "cell_type": "code",
   "execution_count": 28,
   "metadata": {},
   "outputs": [
    {
     "data": {
      "text/html": [
       "<html>\\(\\displaystyle \\left(\\begin{array}{rrrr}\n",
       "{\\left(2 i \\, {\\epsilon} ω M_0\\left(r\\right) P_\\ell\\left({θ}\\right) f\\left(r\\right) + {\\left({\\epsilon} H_0\\left(r\\right) f\\left(r\\right) - {\\epsilon} M_1\\left(r\\right) \\frac{\\partial\\,f}{\\partial r}\\right)} P_\\ell\\left({θ}\\right)\\right)} e^{\\left(-i \\, t ω - i \\, m {ϕ}\\right)} & {\\left(-i \\, {\\epsilon} ω M_1\\left(r\\right) P_\\ell\\left({θ}\\right) {\\rm bb}\\left(r\\right) - {\\left({\\epsilon} f\\left(r\\right) \\frac{\\partial\\,M_0}{\\partial r} - {\\epsilon} H_1\\left(r\\right)\\right)} P_\\ell\\left({θ}\\right)\\right)} e^{\\left(-i \\, t ω - i \\, m {ϕ}\\right)} & {\\left(-i \\, {\\epsilon} r^{2} ω M_2\\left(r\\right) \\frac{\\partial\\,P_\\ell}{\\partial {θ}} - {\\left({\\epsilon} M_0\\left(r\\right) f\\left(r\\right) - {\\epsilon} h_0\\left(r\\right)\\right)} \\frac{\\partial\\,P_\\ell}{\\partial {θ}}\\right)} e^{\\left(-i \\, t ω - i \\, m {ϕ}\\right)} & -{\\left({\\epsilon} m r^{2} ω M_2\\left(r\\right) P_\\ell\\left({θ}\\right) + {\\left(-i \\, {\\epsilon} m M_0\\left(r\\right) f\\left(r\\right) + i \\, {\\epsilon} m h_0\\left(r\\right)\\right)} P_\\ell\\left({θ}\\right)\\right)} e^{\\left(-i \\, t ω - i \\, m {ϕ}\\right)} \\\\\n",
       "{\\left(-i \\, {\\epsilon} ω M_1\\left(r\\right) P_\\ell\\left({θ}\\right) {\\rm bb}\\left(r\\right) - {\\left({\\epsilon} f\\left(r\\right) \\frac{\\partial\\,M_0}{\\partial r} - {\\epsilon} H_1\\left(r\\right)\\right)} P_\\ell\\left({θ}\\right)\\right)} e^{\\left(-i \\, t ω - i \\, m {ϕ}\\right)} & {\\left({\\epsilon} H_2\\left(r\\right) {\\rm bb}\\left(r\\right) + 2 \\, {\\epsilon} {\\rm bb}\\left(r\\right) \\frac{\\partial\\,M_1}{\\partial r} + {\\epsilon} M_1\\left(r\\right) \\frac{\\partial\\,\\mathit{bb}}{\\partial r}\\right)} P_\\ell\\left({θ}\\right) e^{\\left(-i \\, t ω - i \\, m {ϕ}\\right)} & {\\left({\\epsilon} r^{2} \\frac{\\partial\\,M_2}{\\partial r} + {\\epsilon} M_1\\left(r\\right) {\\rm bb}\\left(r\\right) + {\\epsilon} h_1\\left(r\\right)\\right)} e^{\\left(-i \\, t ω - i \\, m {ϕ}\\right)} \\frac{\\partial\\,P_\\ell}{\\partial {θ}} & {\\left(-i \\, {\\epsilon} m r^{2} \\frac{\\partial\\,M_2}{\\partial r} - i \\, {\\epsilon} m M_1\\left(r\\right) {\\rm bb}\\left(r\\right) - i \\, {\\epsilon} m h_1\\left(r\\right)\\right)} P_\\ell\\left({θ}\\right) e^{\\left(-i \\, t ω - i \\, m {ϕ}\\right)} \\\\\n",
       "{\\left(-i \\, {\\epsilon} r^{2} ω M_2\\left(r\\right) \\frac{\\partial\\,P_\\ell}{\\partial {θ}} - {\\left({\\epsilon} M_0\\left(r\\right) f\\left(r\\right) - {\\epsilon} h_0\\left(r\\right)\\right)} \\frac{\\partial\\,P_\\ell}{\\partial {θ}}\\right)} e^{\\left(-i \\, t ω - i \\, m {ϕ}\\right)} & {\\left({\\epsilon} r^{2} \\frac{\\partial\\,M_2}{\\partial r} + {\\epsilon} M_1\\left(r\\right) {\\rm bb}\\left(r\\right) + {\\epsilon} h_1\\left(r\\right)\\right)} e^{\\left(-i \\, t ω - i \\, m {ϕ}\\right)} \\frac{\\partial\\,P_\\ell}{\\partial {θ}} & -{\\left({\\left({\\epsilon} r^{2} G\\left(r\\right) + 2 \\, {\\epsilon} r^{2} M_2\\left(r\\right)\\right)} {\\rm Cot}\\left({θ}\\right) \\frac{\\partial\\,P_\\ell}{\\partial {θ}} + {\\left({\\epsilon} \\mathit{ll} r^{2} G\\left(r\\right) + 2 \\, {\\epsilon} \\mathit{ll} r^{2} M_2\\left(r\\right) - {\\epsilon} r^{2} K\\left(r\\right) - {\\left({\\epsilon} m^{2} r^{2} G\\left(r\\right) + 2 \\, {\\epsilon} m^{2} r^{2} M_2\\left(r\\right)\\right)} {\\rm Csc}\\left({θ}\\right)^{2} - 2 \\, {\\epsilon} r M_1\\left(r\\right)\\right)} P_\\ell\\left({θ}\\right)\\right)} e^{\\left(-i \\, t ω - i \\, m {ϕ}\\right)} & -\\frac{{\\left(-i \\, {\\epsilon} m r^{2} {\\rm Cot}\\left({θ}\\right) G\\left(r\\right) P_\\ell\\left({θ}\\right) \\sin\\left({θ}\\right) - 2 i \\, {\\epsilon} m r^{2} M_2\\left(r\\right) P_\\ell\\left({θ}\\right) \\cos\\left({θ}\\right) + {\\left(i \\, {\\epsilon} m r^{2} G\\left(r\\right) + 2 i \\, {\\epsilon} m r^{2} M_2\\left(r\\right)\\right)} \\sin\\left({θ}\\right) \\frac{\\partial\\,P_\\ell}{\\partial {θ}}\\right)} e^{\\left(-i \\, t ω - i \\, m {ϕ}\\right)}}{\\sin\\left({θ}\\right)} \\\\\n",
       "-{\\left({\\epsilon} m r^{2} ω M_2\\left(r\\right) P_\\ell\\left({θ}\\right) + {\\left(-i \\, {\\epsilon} m M_0\\left(r\\right) f\\left(r\\right) + i \\, {\\epsilon} m h_0\\left(r\\right)\\right)} P_\\ell\\left({θ}\\right)\\right)} e^{\\left(-i \\, t ω - i \\, m {ϕ}\\right)} & {\\left(-i \\, {\\epsilon} m r^{2} \\frac{\\partial\\,M_2}{\\partial r} - i \\, {\\epsilon} m M_1\\left(r\\right) {\\rm bb}\\left(r\\right) - i \\, {\\epsilon} m h_1\\left(r\\right)\\right)} P_\\ell\\left({θ}\\right) e^{\\left(-i \\, t ω - i \\, m {ϕ}\\right)} & -\\frac{{\\left(-i \\, {\\epsilon} m r^{2} {\\rm Cot}\\left({θ}\\right) G\\left(r\\right) P_\\ell\\left({θ}\\right) \\sin\\left({θ}\\right) - 2 i \\, {\\epsilon} m r^{2} M_2\\left(r\\right) P_\\ell\\left({θ}\\right) \\cos\\left({θ}\\right) + {\\left(i \\, {\\epsilon} m r^{2} G\\left(r\\right) + 2 i \\, {\\epsilon} m r^{2} M_2\\left(r\\right)\\right)} \\sin\\left({θ}\\right) \\frac{\\partial\\,P_\\ell}{\\partial {θ}}\\right)} e^{\\left(-i \\, t ω - i \\, m {ϕ}\\right)}}{\\sin\\left({θ}\\right)} & {\\left({\\left({\\epsilon} r^{2} K\\left(r\\right) + 2 \\, {\\epsilon} r M_1\\left(r\\right)\\right)} P_\\ell\\left({θ}\\right) \\sin\\left({θ}\\right)^{2} + {\\left({\\epsilon} r^{2} G\\left(r\\right) + 2 \\, {\\epsilon} r^{2} M_2\\left(r\\right)\\right)} \\cos\\left({θ}\\right) \\sin\\left({θ}\\right) \\frac{\\partial\\,P_\\ell}{\\partial {θ}} - {\\left({\\epsilon} m^{2} r^{2} G\\left(r\\right) + 2 \\, {\\epsilon} m^{2} r^{2} M_2\\left(r\\right)\\right)} P_\\ell\\left({θ}\\right)\\right)} e^{\\left(-i \\, t ω - i \\, m {ϕ}\\right)}\n",
       "\\end{array}\\right)\\)</html>"
      ],
      "text/latex": [
       "$\\displaystyle \\left(\\begin{array}{rrrr}\n",
       "{\\left(2 i \\, {\\epsilon} ω M_0\\left(r\\right) P_\\ell\\left({θ}\\right) f\\left(r\\right) + {\\left({\\epsilon} H_0\\left(r\\right) f\\left(r\\right) - {\\epsilon} M_1\\left(r\\right) \\frac{\\partial\\,f}{\\partial r}\\right)} P_\\ell\\left({θ}\\right)\\right)} e^{\\left(-i \\, t ω - i \\, m {ϕ}\\right)} & {\\left(-i \\, {\\epsilon} ω M_1\\left(r\\right) P_\\ell\\left({θ}\\right) {\\rm bb}\\left(r\\right) - {\\left({\\epsilon} f\\left(r\\right) \\frac{\\partial\\,M_0}{\\partial r} - {\\epsilon} H_1\\left(r\\right)\\right)} P_\\ell\\left({θ}\\right)\\right)} e^{\\left(-i \\, t ω - i \\, m {ϕ}\\right)} & {\\left(-i \\, {\\epsilon} r^{2} ω M_2\\left(r\\right) \\frac{\\partial\\,P_\\ell}{\\partial {θ}} - {\\left({\\epsilon} M_0\\left(r\\right) f\\left(r\\right) - {\\epsilon} h_0\\left(r\\right)\\right)} \\frac{\\partial\\,P_\\ell}{\\partial {θ}}\\right)} e^{\\left(-i \\, t ω - i \\, m {ϕ}\\right)} & -{\\left({\\epsilon} m r^{2} ω M_2\\left(r\\right) P_\\ell\\left({θ}\\right) + {\\left(-i \\, {\\epsilon} m M_0\\left(r\\right) f\\left(r\\right) + i \\, {\\epsilon} m h_0\\left(r\\right)\\right)} P_\\ell\\left({θ}\\right)\\right)} e^{\\left(-i \\, t ω - i \\, m {ϕ}\\right)} \\\\\n",
       "{\\left(-i \\, {\\epsilon} ω M_1\\left(r\\right) P_\\ell\\left({θ}\\right) {\\rm bb}\\left(r\\right) - {\\left({\\epsilon} f\\left(r\\right) \\frac{\\partial\\,M_0}{\\partial r} - {\\epsilon} H_1\\left(r\\right)\\right)} P_\\ell\\left({θ}\\right)\\right)} e^{\\left(-i \\, t ω - i \\, m {ϕ}\\right)} & {\\left({\\epsilon} H_2\\left(r\\right) {\\rm bb}\\left(r\\right) + 2 \\, {\\epsilon} {\\rm bb}\\left(r\\right) \\frac{\\partial\\,M_1}{\\partial r} + {\\epsilon} M_1\\left(r\\right) \\frac{\\partial\\,\\mathit{bb}}{\\partial r}\\right)} P_\\ell\\left({θ}\\right) e^{\\left(-i \\, t ω - i \\, m {ϕ}\\right)} & {\\left({\\epsilon} r^{2} \\frac{\\partial\\,M_2}{\\partial r} + {\\epsilon} M_1\\left(r\\right) {\\rm bb}\\left(r\\right) + {\\epsilon} h_1\\left(r\\right)\\right)} e^{\\left(-i \\, t ω - i \\, m {ϕ}\\right)} \\frac{\\partial\\,P_\\ell}{\\partial {θ}} & {\\left(-i \\, {\\epsilon} m r^{2} \\frac{\\partial\\,M_2}{\\partial r} - i \\, {\\epsilon} m M_1\\left(r\\right) {\\rm bb}\\left(r\\right) - i \\, {\\epsilon} m h_1\\left(r\\right)\\right)} P_\\ell\\left({θ}\\right) e^{\\left(-i \\, t ω - i \\, m {ϕ}\\right)} \\\\\n",
       "{\\left(-i \\, {\\epsilon} r^{2} ω M_2\\left(r\\right) \\frac{\\partial\\,P_\\ell}{\\partial {θ}} - {\\left({\\epsilon} M_0\\left(r\\right) f\\left(r\\right) - {\\epsilon} h_0\\left(r\\right)\\right)} \\frac{\\partial\\,P_\\ell}{\\partial {θ}}\\right)} e^{\\left(-i \\, t ω - i \\, m {ϕ}\\right)} & {\\left({\\epsilon} r^{2} \\frac{\\partial\\,M_2}{\\partial r} + {\\epsilon} M_1\\left(r\\right) {\\rm bb}\\left(r\\right) + {\\epsilon} h_1\\left(r\\right)\\right)} e^{\\left(-i \\, t ω - i \\, m {ϕ}\\right)} \\frac{\\partial\\,P_\\ell}{\\partial {θ}} & -{\\left({\\left({\\epsilon} r^{2} G\\left(r\\right) + 2 \\, {\\epsilon} r^{2} M_2\\left(r\\right)\\right)} {\\rm Cot}\\left({θ}\\right) \\frac{\\partial\\,P_\\ell}{\\partial {θ}} + {\\left({\\epsilon} \\mathit{ll} r^{2} G\\left(r\\right) + 2 \\, {\\epsilon} \\mathit{ll} r^{2} M_2\\left(r\\right) - {\\epsilon} r^{2} K\\left(r\\right) - {\\left({\\epsilon} m^{2} r^{2} G\\left(r\\right) + 2 \\, {\\epsilon} m^{2} r^{2} M_2\\left(r\\right)\\right)} {\\rm Csc}\\left({θ}\\right)^{2} - 2 \\, {\\epsilon} r M_1\\left(r\\right)\\right)} P_\\ell\\left({θ}\\right)\\right)} e^{\\left(-i \\, t ω - i \\, m {ϕ}\\right)} & -\\frac{{\\left(-i \\, {\\epsilon} m r^{2} {\\rm Cot}\\left({θ}\\right) G\\left(r\\right) P_\\ell\\left({θ}\\right) \\sin\\left({θ}\\right) - 2 i \\, {\\epsilon} m r^{2} M_2\\left(r\\right) P_\\ell\\left({θ}\\right) \\cos\\left({θ}\\right) + {\\left(i \\, {\\epsilon} m r^{2} G\\left(r\\right) + 2 i \\, {\\epsilon} m r^{2} M_2\\left(r\\right)\\right)} \\sin\\left({θ}\\right) \\frac{\\partial\\,P_\\ell}{\\partial {θ}}\\right)} e^{\\left(-i \\, t ω - i \\, m {ϕ}\\right)}}{\\sin\\left({θ}\\right)} \\\\\n",
       "-{\\left({\\epsilon} m r^{2} ω M_2\\left(r\\right) P_\\ell\\left({θ}\\right) + {\\left(-i \\, {\\epsilon} m M_0\\left(r\\right) f\\left(r\\right) + i \\, {\\epsilon} m h_0\\left(r\\right)\\right)} P_\\ell\\left({θ}\\right)\\right)} e^{\\left(-i \\, t ω - i \\, m {ϕ}\\right)} & {\\left(-i \\, {\\epsilon} m r^{2} \\frac{\\partial\\,M_2}{\\partial r} - i \\, {\\epsilon} m M_1\\left(r\\right) {\\rm bb}\\left(r\\right) - i \\, {\\epsilon} m h_1\\left(r\\right)\\right)} P_\\ell\\left({θ}\\right) e^{\\left(-i \\, t ω - i \\, m {ϕ}\\right)} & -\\frac{{\\left(-i \\, {\\epsilon} m r^{2} {\\rm Cot}\\left({θ}\\right) G\\left(r\\right) P_\\ell\\left({θ}\\right) \\sin\\left({θ}\\right) - 2 i \\, {\\epsilon} m r^{2} M_2\\left(r\\right) P_\\ell\\left({θ}\\right) \\cos\\left({θ}\\right) + {\\left(i \\, {\\epsilon} m r^{2} G\\left(r\\right) + 2 i \\, {\\epsilon} m r^{2} M_2\\left(r\\right)\\right)} \\sin\\left({θ}\\right) \\frac{\\partial\\,P_\\ell}{\\partial {θ}}\\right)} e^{\\left(-i \\, t ω - i \\, m {ϕ}\\right)}}{\\sin\\left({θ}\\right)} & {\\left({\\left({\\epsilon} r^{2} K\\left(r\\right) + 2 \\, {\\epsilon} r M_1\\left(r\\right)\\right)} P_\\ell\\left({θ}\\right) \\sin\\left({θ}\\right)^{2} + {\\left({\\epsilon} r^{2} G\\left(r\\right) + 2 \\, {\\epsilon} r^{2} M_2\\left(r\\right)\\right)} \\cos\\left({θ}\\right) \\sin\\left({θ}\\right) \\frac{\\partial\\,P_\\ell}{\\partial {θ}} - {\\left({\\epsilon} m^{2} r^{2} G\\left(r\\right) + 2 \\, {\\epsilon} m^{2} r^{2} M_2\\left(r\\right)\\right)} P_\\ell\\left({θ}\\right)\\right)} e^{\\left(-i \\, t ω - i \\, m {ϕ}\\right)}\n",
       "\\end{array}\\right)$"
      ],
      "text/plain": [
       "[                                                                                                       (2*I*ep*ω*M0(r)*PL(θ)*f(r) + (ep*H0(r)*f(r) - ep*M1(r)*d(f)/dr)*PL(θ))*e^(-I*t*ω - I*m*ϕ)                                                                                                             (-I*ep*ω*M1(r)*PL(θ)*bb(r) - (ep*f(r)*d(M0)/dr - ep*H1(r))*PL(θ))*e^(-I*t*ω - I*m*ϕ)                                                                                                            (-I*ep*r^2*ω*M2(r)*d(PL)/dθ - (ep*M0(r)*f(r) - ep*h0(r))*d(PL)/dθ)*e^(-I*t*ω - I*m*ϕ)                                                                                                         -(ep*m*r^2*ω*M2(r)*PL(θ) + (-I*ep*m*M0(r)*f(r) + I*ep*m*h0(r))*PL(θ))*e^(-I*t*ω - I*m*ϕ)]\n",
       "[                                                                                                            (-I*ep*ω*M1(r)*PL(θ)*bb(r) - (ep*f(r)*d(M0)/dr - ep*H1(r))*PL(θ))*e^(-I*t*ω - I*m*ϕ)                                                                                                              (ep*H2(r)*bb(r) + 2*ep*bb(r)*d(M1)/dr + ep*M1(r)*d(bb)/dr)*PL(θ)*e^(-I*t*ω - I*m*ϕ)                                                                                                                        (ep*r^2*d(M2)/dr + ep*M1(r)*bb(r) + ep*h1(r))*e^(-I*t*ω - I*m*ϕ)*d(PL)/dθ                                                                                                              (-I*ep*m*r^2*d(M2)/dr - I*ep*m*M1(r)*bb(r) - I*ep*m*h1(r))*PL(θ)*e^(-I*t*ω - I*m*ϕ)]\n",
       "[                                                                                                           (-I*ep*r^2*ω*M2(r)*d(PL)/dθ - (ep*M0(r)*f(r) - ep*h0(r))*d(PL)/dθ)*e^(-I*t*ω - I*m*ϕ)                                                                                                                        (ep*r^2*d(M2)/dr + ep*M1(r)*bb(r) + ep*h1(r))*e^(-I*t*ω - I*m*ϕ)*d(PL)/dθ -((ep*r^2*G(r) + 2*ep*r^2*M2(r))*Cot(θ)*d(PL)/dθ + (ep*ll*r^2*G(r) + 2*ep*ll*r^2*M2(r) - ep*r^2*K(r) - (ep*m^2*r^2*G(r) + 2*ep*m^2*r^2*M2(r))*Csc(θ)^2 - 2*ep*r*M1(r))*PL(θ))*e^(-I*t*ω - I*m*ϕ)                                     -(-I*ep*m*r^2*Cot(θ)*G(r)*PL(θ)*sin(θ) - 2*I*ep*m*r^2*M2(r)*PL(θ)*cos(θ) + (I*ep*m*r^2*G(r) + 2*I*ep*m*r^2*M2(r))*sin(θ)*d(PL)/dθ)*e^(-I*t*ω - I*m*ϕ)/sin(θ)]\n",
       "[                                                                                                        -(ep*m*r^2*ω*M2(r)*PL(θ) + (-I*ep*m*M0(r)*f(r) + I*ep*m*h0(r))*PL(θ))*e^(-I*t*ω - I*m*ϕ)                                                                                                              (-I*ep*m*r^2*d(M2)/dr - I*ep*m*M1(r)*bb(r) - I*ep*m*h1(r))*PL(θ)*e^(-I*t*ω - I*m*ϕ)                                     -(-I*ep*m*r^2*Cot(θ)*G(r)*PL(θ)*sin(θ) - 2*I*ep*m*r^2*M2(r)*PL(θ)*cos(θ) + (I*ep*m*r^2*G(r) + 2*I*ep*m*r^2*M2(r))*sin(θ)*d(PL)/dθ)*e^(-I*t*ω - I*m*ϕ)/sin(θ)                          ((ep*r^2*K(r) + 2*ep*r*M1(r))*PL(θ)*sin(θ)^2 + (ep*r^2*G(r) + 2*ep*r^2*M2(r))*cos(θ)*sin(θ)*d(PL)/dθ - (ep*m^2*r^2*G(r) + 2*ep*m^2*r^2*M2(r))*PL(θ))*e^(-I*t*ω - I*m*ϕ)]"
      ]
     },
     "execution_count": 28,
     "metadata": {},
     "output_type": "execute_result"
    }
   ],
   "source": [
    "h_par[:]"
   ]
  },
  {
   "cell_type": "markdown",
   "metadata": {},
   "source": [
    "Definindo um dicionário para simplificar as expressões com termos trigonométricos, como se segue:"
   ]
  },
  {
   "cell_type": "code",
   "execution_count": 29,
   "metadata": {},
   "outputs": [],
   "source": [
    "Cot(θ) = function('Cot')(θ)\n",
    "Csc(θ) = function('Csc')(θ)"
   ]
  },
  {
   "cell_type": "code",
   "execution_count": 30,
   "metadata": {},
   "outputs": [
    {
     "data": {
      "text/html": [
       "<html>\\(\\displaystyle \\left({\\rm Cot}\\left({θ}\\right) = \\frac{\\cos\\left({θ}\\right)}{\\sin\\left({θ}\\right)}, {\\rm Csc}\\left({θ}\\right) = \\frac{1}{\\sin\\left({θ}\\right)}\\right)\\)</html>"
      ],
      "text/latex": [
       "$\\displaystyle \\left({\\rm Cot}\\left({θ}\\right) = \\frac{\\cos\\left({θ}\\right)}{\\sin\\left({θ}\\right)}, {\\rm Csc}\\left({θ}\\right) = \\frac{1}{\\sin\\left({θ}\\right)}\\right)$"
      ],
      "text/plain": [
       "(Cot(θ) == cos(θ)/sin(θ), Csc(θ) == (1/sin(θ)))"
      ]
     },
     "execution_count": 30,
     "metadata": {},
     "output_type": "execute_result"
    }
   ],
   "source": [
    "dic_trig = (Cot(θ) == cos(θ)/sin(θ), Csc(θ) == 1/sin(θ))\n",
    "dic_trig"
   ]
  },
  {
   "cell_type": "markdown",
   "metadata": {},
   "source": [
    "Aqui será feito o cálculo para encontrar os termos $M_0$, $M_1$ e $M_2$ da perturbação par:"
   ]
  },
  {
   "cell_type": "code",
   "execution_count": 31,
   "metadata": {},
   "outputs": [
    {
     "data": {
      "text/html": [
       "<html>\\(\\displaystyle \\left\\{M_2\\left(r\\right) : -\\frac{1}{2} \\, G\\left(r\\right)\\right\\}\\)</html>"
      ],
      "text/latex": [
       "$\\displaystyle \\left\\{M_2\\left(r\\right) : -\\frac{1}{2} \\, G\\left(r\\right)\\right\\}$"
      ],
      "text/plain": [
       "{M2(r): -1/2*G(r)}"
      ]
     },
     "execution_count": 31,
     "metadata": {},
     "output_type": "execute_result"
    }
   ],
   "source": [
    "eq_M2 = (h_par[2,3].expr().subs(dic_trig) == 0).solve(M2, solution_dict=True)[0]\n",
    "eq_M2"
   ]
  },
  {
   "cell_type": "code",
   "execution_count": 32,
   "metadata": {},
   "outputs": [
    {
     "data": {
      "text/html": [
       "<html>\\(\\displaystyle \\left\\{M_0\\left(r\\right) : \\frac{i \\, r^{2} ω G\\left(r\\right) + 2 \\, h_0\\left(r\\right)}{2 \\, f\\left(r\\right)}\\right\\}\\)</html>"
      ],
      "text/latex": [
       "$\\displaystyle \\left\\{M_0\\left(r\\right) : \\frac{i \\, r^{2} ω G\\left(r\\right) + 2 \\, h_0\\left(r\\right)}{2 \\, f\\left(r\\right)}\\right\\}$"
      ],
      "text/plain": [
       "{M0(r): 1/2*(I*r^2*ω*G(r) + 2*h0(r))/f(r)}"
      ]
     },
     "execution_count": 32,
     "metadata": {},
     "output_type": "execute_result"
    }
   ],
   "source": [
    "eq_M0 = ((h_par[0,2].expr().subs(eq_M2) == 0).solve(M0, solution_dict=True)[0])\n",
    "eq_M0"
   ]
  },
  {
   "cell_type": "code",
   "execution_count": 33,
   "metadata": {},
   "outputs": [
    {
     "data": {
      "text/html": [
       "<html>\\(\\displaystyle \\left\\{M_1\\left(r\\right) : \\frac{r^{2} \\frac{\\partial}{\\partial r}G\\left(r\\right) - 2 \\, h_1\\left(r\\right)}{2 \\, {\\rm bb}\\left(r\\right)}\\right\\}\\)</html>"
      ],
      "text/latex": [
       "$\\displaystyle \\left\\{M_1\\left(r\\right) : \\frac{r^{2} \\frac{\\partial}{\\partial r}G\\left(r\\right) - 2 \\, h_1\\left(r\\right)}{2 \\, {\\rm bb}\\left(r\\right)}\\right\\}$"
      ],
      "text/plain": [
       "{M1(r): 1/2*(r^2*diff(G(r), r) - 2*h1(r))/bb(r)}"
      ]
     },
     "execution_count": 33,
     "metadata": {},
     "output_type": "execute_result"
    }
   ],
   "source": [
    "eq_M1 = (h_par[1,2].expr().subs({diff(M2, r) : (-1/2)*diff(G, r)}) == 0).solve(M1, solution_dict=True)[0]\n",
    "eq_M1"
   ]
  },
  {
   "cell_type": "markdown",
   "metadata": {},
   "source": [
    "Aqui será construída uma lista com os termos de cada uma das três expressões acima, de modo que a substituição das mesmas e de suas respectivas derivadas sejam adicionadas às expressões das perturbações de uma vez só."
   ]
  },
  {
   "cell_type": "code",
   "execution_count": 34,
   "metadata": {},
   "outputs": [],
   "source": [
    "eq_M0[diff(list(eq_M0.keys())[0], r)] = diff(list(eq_M0.values())[0], r) "
   ]
  },
  {
   "cell_type": "code",
   "execution_count": 35,
   "metadata": {},
   "outputs": [],
   "source": [
    "eq_M1[diff(list(eq_M1.keys())[0], r)] = diff(list(eq_M1.values())[0], r) "
   ]
  },
  {
   "cell_type": "code",
   "execution_count": 36,
   "metadata": {},
   "outputs": [],
   "source": [
    "eq_M2[diff(list(eq_M2.keys())[0], r)] = diff(list(eq_M2.values())[0], r) "
   ]
  },
  {
   "cell_type": "markdown",
   "metadata": {},
   "source": [
    "Aqui, será feita a atualização de cada uma das listas para todas estarem em uma única lista, a `eq_M0`:"
   ]
  },
  {
   "cell_type": "code",
   "execution_count": 37,
   "metadata": {},
   "outputs": [],
   "source": [
    "eq_M0.update(eq_M1)"
   ]
  },
  {
   "cell_type": "code",
   "execution_count": 38,
   "metadata": {},
   "outputs": [],
   "source": [
    "eq_M0.update(eq_M2)"
   ]
  },
  {
   "cell_type": "code",
   "execution_count": 39,
   "metadata": {},
   "outputs": [
    {
     "data": {
      "text/html": [
       "<html>\\(\\displaystyle \\left\\{M_0\\left(r\\right) : \\frac{i \\, r^{2} ω G\\left(r\\right) + 2 \\, h_0\\left(r\\right)}{2 \\, f\\left(r\\right)}, \\frac{\\partial}{\\partial r}M_0\\left(r\\right) : \\frac{i \\, r^{2} ω \\frac{\\partial}{\\partial r}G\\left(r\\right) + 2 i \\, r ω G\\left(r\\right) + 2 \\, \\frac{\\partial}{\\partial r}h_0\\left(r\\right)}{2 \\, f\\left(r\\right)} - \\frac{{\\left(i \\, r^{2} ω G\\left(r\\right) + 2 \\, h_0\\left(r\\right)\\right)} \\frac{\\partial}{\\partial r}f\\left(r\\right)}{2 \\, f\\left(r\\right)^{2}}, M_1\\left(r\\right) : \\frac{r^{2} \\frac{\\partial}{\\partial r}G\\left(r\\right) - 2 \\, h_1\\left(r\\right)}{2 \\, {\\rm bb}\\left(r\\right)}, \\frac{\\partial}{\\partial r}M_1\\left(r\\right) : \\frac{r^{2} \\frac{\\partial^{2}}{(\\partial r)^{2}}G\\left(r\\right) + 2 \\, r \\frac{\\partial}{\\partial r}G\\left(r\\right) - 2 \\, \\frac{\\partial}{\\partial r}h_1\\left(r\\right)}{2 \\, {\\rm bb}\\left(r\\right)} - \\frac{{\\left(r^{2} \\frac{\\partial}{\\partial r}G\\left(r\\right) - 2 \\, h_1\\left(r\\right)\\right)} \\frac{\\partial}{\\partial r}{\\rm bb}\\left(r\\right)}{2 \\, {\\rm bb}\\left(r\\right)^{2}}, M_2\\left(r\\right) : -\\frac{1}{2} \\, G\\left(r\\right), \\frac{\\partial}{\\partial r}M_2\\left(r\\right) : -\\frac{1}{2} \\, \\frac{\\partial}{\\partial r}G\\left(r\\right)\\right\\}\\)</html>"
      ],
      "text/latex": [
       "$\\displaystyle \\left\\{M_0\\left(r\\right) : \\frac{i \\, r^{2} ω G\\left(r\\right) + 2 \\, h_0\\left(r\\right)}{2 \\, f\\left(r\\right)}, \\frac{\\partial}{\\partial r}M_0\\left(r\\right) : \\frac{i \\, r^{2} ω \\frac{\\partial}{\\partial r}G\\left(r\\right) + 2 i \\, r ω G\\left(r\\right) + 2 \\, \\frac{\\partial}{\\partial r}h_0\\left(r\\right)}{2 \\, f\\left(r\\right)} - \\frac{{\\left(i \\, r^{2} ω G\\left(r\\right) + 2 \\, h_0\\left(r\\right)\\right)} \\frac{\\partial}{\\partial r}f\\left(r\\right)}{2 \\, f\\left(r\\right)^{2}}, M_1\\left(r\\right) : \\frac{r^{2} \\frac{\\partial}{\\partial r}G\\left(r\\right) - 2 \\, h_1\\left(r\\right)}{2 \\, {\\rm bb}\\left(r\\right)}, \\frac{\\partial}{\\partial r}M_1\\left(r\\right) : \\frac{r^{2} \\frac{\\partial^{2}}{(\\partial r)^{2}}G\\left(r\\right) + 2 \\, r \\frac{\\partial}{\\partial r}G\\left(r\\right) - 2 \\, \\frac{\\partial}{\\partial r}h_1\\left(r\\right)}{2 \\, {\\rm bb}\\left(r\\right)} - \\frac{{\\left(r^{2} \\frac{\\partial}{\\partial r}G\\left(r\\right) - 2 \\, h_1\\left(r\\right)\\right)} \\frac{\\partial}{\\partial r}{\\rm bb}\\left(r\\right)}{2 \\, {\\rm bb}\\left(r\\right)^{2}}, M_2\\left(r\\right) : -\\frac{1}{2} \\, G\\left(r\\right), \\frac{\\partial}{\\partial r}M_2\\left(r\\right) : -\\frac{1}{2} \\, \\frac{\\partial}{\\partial r}G\\left(r\\right)\\right\\}$"
      ],
      "text/plain": [
       "{M0(r): 1/2*(I*r^2*ω*G(r) + 2*h0(r))/f(r),\n",
       " diff(M0(r), r): 1/2*(I*r^2*ω*diff(G(r), r) + 2*I*r*ω*G(r) + 2*diff(h0(r), r))/f(r) - 1/2*(I*r^2*ω*G(r) + 2*h0(r))*diff(f(r), r)/f(r)^2,\n",
       " M1(r): 1/2*(r^2*diff(G(r), r) - 2*h1(r))/bb(r),\n",
       " diff(M1(r), r): 1/2*(r^2*diff(G(r), r, r) + 2*r*diff(G(r), r) - 2*diff(h1(r), r))/bb(r) - 1/2*(r^2*diff(G(r), r) - 2*h1(r))*diff(bb(r), r)/bb(r)^2,\n",
       " M2(r): -1/2*G(r),\n",
       " diff(M2(r), r): -1/2*diff(G(r), r)}"
      ]
     },
     "execution_count": 39,
     "metadata": {},
     "output_type": "execute_result"
    }
   ],
   "source": [
    "eq_M0"
   ]
  },
  {
   "cell_type": "markdown",
   "metadata": {},
   "source": [
    "Substituindo as expressões para as funções $M_0(r)$, $M_1(r)$ e $M_2(r)$, bem como suas respectivas derivadas e também as funções trigonométricas, teremos a perturbação $h^{par}_{\\mu \\nu}$:"
   ]
  },
  {
   "cell_type": "code",
   "execution_count": 40,
   "metadata": {},
   "outputs": [],
   "source": [
    "h_par = h_par.apply_map(lambda q: q.expr().subs(eq_M0, dic_trig).expand())"
   ]
  },
  {
   "cell_type": "code",
   "execution_count": 41,
   "metadata": {},
   "outputs": [
    {
     "data": {
      "text/html": [
       "<html>\\(\\displaystyle \\left(\\begin{array}{rrrr}\n",
       "-{\\epsilon} r^{2} ω^{2} G\\left(r\\right) P_\\ell\\left({θ}\\right) e^{\\left(-i \\, t ω - i \\, m {ϕ}\\right)} - \\frac{{\\epsilon} r^{2} P_\\ell\\left({θ}\\right) e^{\\left(-i \\, t ω - i \\, m {ϕ}\\right)} \\frac{\\partial}{\\partial r}G\\left(r\\right) \\frac{\\partial}{\\partial r}f\\left(r\\right)}{2 \\, {\\rm bb}\\left(r\\right)} + {\\epsilon} H_0\\left(r\\right) P_\\ell\\left({θ}\\right) e^{\\left(-i \\, t ω - i \\, m {ϕ}\\right)} f\\left(r\\right) + 2 i \\, {\\epsilon} ω P_\\ell\\left({θ}\\right) e^{\\left(-i \\, t ω - i \\, m {ϕ}\\right)} h_0\\left(r\\right) + \\frac{{\\epsilon} P_\\ell\\left({θ}\\right) e^{\\left(-i \\, t ω - i \\, m {ϕ}\\right)} h_1\\left(r\\right) \\frac{\\partial}{\\partial r}f\\left(r\\right)}{{\\rm bb}\\left(r\\right)} & -i \\, {\\epsilon} r^{2} ω P_\\ell\\left({θ}\\right) e^{\\left(-i \\, t ω - i \\, m {ϕ}\\right)} \\frac{\\partial}{\\partial r}G\\left(r\\right) + \\frac{i \\, {\\epsilon} r^{2} ω G\\left(r\\right) P_\\ell\\left({θ}\\right) e^{\\left(-i \\, t ω - i \\, m {ϕ}\\right)} \\frac{\\partial}{\\partial r}f\\left(r\\right)}{2 \\, f\\left(r\\right)} - i \\, {\\epsilon} r ω G\\left(r\\right) P_\\ell\\left({θ}\\right) e^{\\left(-i \\, t ω - i \\, m {ϕ}\\right)} + i \\, {\\epsilon} ω P_\\ell\\left({θ}\\right) e^{\\left(-i \\, t ω - i \\, m {ϕ}\\right)} h_1\\left(r\\right) + {\\epsilon} H_1\\left(r\\right) P_\\ell\\left({θ}\\right) e^{\\left(-i \\, t ω - i \\, m {ϕ}\\right)} + \\frac{{\\epsilon} P_\\ell\\left({θ}\\right) e^{\\left(-i \\, t ω - i \\, m {ϕ}\\right)} h_0\\left(r\\right) \\frac{\\partial}{\\partial r}f\\left(r\\right)}{f\\left(r\\right)} - {\\epsilon} P_\\ell\\left({θ}\\right) e^{\\left(-i \\, t ω - i \\, m {ϕ}\\right)} \\frac{\\partial}{\\partial r}h_0\\left(r\\right) & 0 & 0 \\\\\n",
       "-i \\, {\\epsilon} r^{2} ω P_\\ell\\left({θ}\\right) e^{\\left(-i \\, t ω - i \\, m {ϕ}\\right)} \\frac{\\partial}{\\partial r}G\\left(r\\right) + \\frac{i \\, {\\epsilon} r^{2} ω G\\left(r\\right) P_\\ell\\left({θ}\\right) e^{\\left(-i \\, t ω - i \\, m {ϕ}\\right)} \\frac{\\partial}{\\partial r}f\\left(r\\right)}{2 \\, f\\left(r\\right)} - i \\, {\\epsilon} r ω G\\left(r\\right) P_\\ell\\left({θ}\\right) e^{\\left(-i \\, t ω - i \\, m {ϕ}\\right)} + i \\, {\\epsilon} ω P_\\ell\\left({θ}\\right) e^{\\left(-i \\, t ω - i \\, m {ϕ}\\right)} h_1\\left(r\\right) + {\\epsilon} H_1\\left(r\\right) P_\\ell\\left({θ}\\right) e^{\\left(-i \\, t ω - i \\, m {ϕ}\\right)} + \\frac{{\\epsilon} P_\\ell\\left({θ}\\right) e^{\\left(-i \\, t ω - i \\, m {ϕ}\\right)} h_0\\left(r\\right) \\frac{\\partial}{\\partial r}f\\left(r\\right)}{f\\left(r\\right)} - {\\epsilon} P_\\ell\\left({θ}\\right) e^{\\left(-i \\, t ω - i \\, m {ϕ}\\right)} \\frac{\\partial}{\\partial r}h_0\\left(r\\right) & {\\epsilon} r^{2} P_\\ell\\left({θ}\\right) e^{\\left(-i \\, t ω - i \\, m {ϕ}\\right)} \\frac{\\partial^{2}}{(\\partial r)^{2}}G\\left(r\\right) - \\frac{{\\epsilon} r^{2} P_\\ell\\left({θ}\\right) e^{\\left(-i \\, t ω - i \\, m {ϕ}\\right)} \\frac{\\partial}{\\partial r}G\\left(r\\right) \\frac{\\partial}{\\partial r}{\\rm bb}\\left(r\\right)}{2 \\, {\\rm bb}\\left(r\\right)} + {\\epsilon} H_2\\left(r\\right) P_\\ell\\left({θ}\\right) {\\rm bb}\\left(r\\right) e^{\\left(-i \\, t ω - i \\, m {ϕ}\\right)} + 2 \\, {\\epsilon} r P_\\ell\\left({θ}\\right) e^{\\left(-i \\, t ω - i \\, m {ϕ}\\right)} \\frac{\\partial}{\\partial r}G\\left(r\\right) + \\frac{{\\epsilon} P_\\ell\\left({θ}\\right) e^{\\left(-i \\, t ω - i \\, m {ϕ}\\right)} h_1\\left(r\\right) \\frac{\\partial}{\\partial r}{\\rm bb}\\left(r\\right)}{{\\rm bb}\\left(r\\right)} - 2 \\, {\\epsilon} P_\\ell\\left({θ}\\right) e^{\\left(-i \\, t ω - i \\, m {ϕ}\\right)} \\frac{\\partial}{\\partial r}h_1\\left(r\\right) & 0 & 0 \\\\\n",
       "0 & 0 & {\\epsilon} r^{2} K\\left(r\\right) P_\\ell\\left({θ}\\right) e^{\\left(-i \\, t ω - i \\, m {ϕ}\\right)} + \\frac{{\\epsilon} r^{3} P_\\ell\\left({θ}\\right) e^{\\left(-i \\, t ω - i \\, m {ϕ}\\right)} \\frac{\\partial}{\\partial r}G\\left(r\\right)}{{\\rm bb}\\left(r\\right)} - \\frac{2 \\, {\\epsilon} r P_\\ell\\left({θ}\\right) e^{\\left(-i \\, t ω - i \\, m {ϕ}\\right)} h_1\\left(r\\right)}{{\\rm bb}\\left(r\\right)} & 0 \\\\\n",
       "0 & 0 & 0 & {\\epsilon} r^{2} K\\left(r\\right) P_\\ell\\left({θ}\\right) e^{\\left(-i \\, t ω - i \\, m {ϕ}\\right)} \\sin\\left({θ}\\right)^{2} + \\frac{{\\epsilon} r^{3} P_\\ell\\left({θ}\\right) e^{\\left(-i \\, t ω - i \\, m {ϕ}\\right)} \\sin\\left({θ}\\right)^{2} \\frac{\\partial}{\\partial r}G\\left(r\\right)}{{\\rm bb}\\left(r\\right)} - \\frac{2 \\, {\\epsilon} r P_\\ell\\left({θ}\\right) e^{\\left(-i \\, t ω - i \\, m {ϕ}\\right)} h_1\\left(r\\right) \\sin\\left({θ}\\right)^{2}}{{\\rm bb}\\left(r\\right)}\n",
       "\\end{array}\\right)\\)</html>"
      ],
      "text/latex": [
       "$\\displaystyle \\left(\\begin{array}{rrrr}\n",
       "-{\\epsilon} r^{2} ω^{2} G\\left(r\\right) P_\\ell\\left({θ}\\right) e^{\\left(-i \\, t ω - i \\, m {ϕ}\\right)} - \\frac{{\\epsilon} r^{2} P_\\ell\\left({θ}\\right) e^{\\left(-i \\, t ω - i \\, m {ϕ}\\right)} \\frac{\\partial}{\\partial r}G\\left(r\\right) \\frac{\\partial}{\\partial r}f\\left(r\\right)}{2 \\, {\\rm bb}\\left(r\\right)} + {\\epsilon} H_0\\left(r\\right) P_\\ell\\left({θ}\\right) e^{\\left(-i \\, t ω - i \\, m {ϕ}\\right)} f\\left(r\\right) + 2 i \\, {\\epsilon} ω P_\\ell\\left({θ}\\right) e^{\\left(-i \\, t ω - i \\, m {ϕ}\\right)} h_0\\left(r\\right) + \\frac{{\\epsilon} P_\\ell\\left({θ}\\right) e^{\\left(-i \\, t ω - i \\, m {ϕ}\\right)} h_1\\left(r\\right) \\frac{\\partial}{\\partial r}f\\left(r\\right)}{{\\rm bb}\\left(r\\right)} & -i \\, {\\epsilon} r^{2} ω P_\\ell\\left({θ}\\right) e^{\\left(-i \\, t ω - i \\, m {ϕ}\\right)} \\frac{\\partial}{\\partial r}G\\left(r\\right) + \\frac{i \\, {\\epsilon} r^{2} ω G\\left(r\\right) P_\\ell\\left({θ}\\right) e^{\\left(-i \\, t ω - i \\, m {ϕ}\\right)} \\frac{\\partial}{\\partial r}f\\left(r\\right)}{2 \\, f\\left(r\\right)} - i \\, {\\epsilon} r ω G\\left(r\\right) P_\\ell\\left({θ}\\right) e^{\\left(-i \\, t ω - i \\, m {ϕ}\\right)} + i \\, {\\epsilon} ω P_\\ell\\left({θ}\\right) e^{\\left(-i \\, t ω - i \\, m {ϕ}\\right)} h_1\\left(r\\right) + {\\epsilon} H_1\\left(r\\right) P_\\ell\\left({θ}\\right) e^{\\left(-i \\, t ω - i \\, m {ϕ}\\right)} + \\frac{{\\epsilon} P_\\ell\\left({θ}\\right) e^{\\left(-i \\, t ω - i \\, m {ϕ}\\right)} h_0\\left(r\\right) \\frac{\\partial}{\\partial r}f\\left(r\\right)}{f\\left(r\\right)} - {\\epsilon} P_\\ell\\left({θ}\\right) e^{\\left(-i \\, t ω - i \\, m {ϕ}\\right)} \\frac{\\partial}{\\partial r}h_0\\left(r\\right) & 0 & 0 \\\\\n",
       "-i \\, {\\epsilon} r^{2} ω P_\\ell\\left({θ}\\right) e^{\\left(-i \\, t ω - i \\, m {ϕ}\\right)} \\frac{\\partial}{\\partial r}G\\left(r\\right) + \\frac{i \\, {\\epsilon} r^{2} ω G\\left(r\\right) P_\\ell\\left({θ}\\right) e^{\\left(-i \\, t ω - i \\, m {ϕ}\\right)} \\frac{\\partial}{\\partial r}f\\left(r\\right)}{2 \\, f\\left(r\\right)} - i \\, {\\epsilon} r ω G\\left(r\\right) P_\\ell\\left({θ}\\right) e^{\\left(-i \\, t ω - i \\, m {ϕ}\\right)} + i \\, {\\epsilon} ω P_\\ell\\left({θ}\\right) e^{\\left(-i \\, t ω - i \\, m {ϕ}\\right)} h_1\\left(r\\right) + {\\epsilon} H_1\\left(r\\right) P_\\ell\\left({θ}\\right) e^{\\left(-i \\, t ω - i \\, m {ϕ}\\right)} + \\frac{{\\epsilon} P_\\ell\\left({θ}\\right) e^{\\left(-i \\, t ω - i \\, m {ϕ}\\right)} h_0\\left(r\\right) \\frac{\\partial}{\\partial r}f\\left(r\\right)}{f\\left(r\\right)} - {\\epsilon} P_\\ell\\left({θ}\\right) e^{\\left(-i \\, t ω - i \\, m {ϕ}\\right)} \\frac{\\partial}{\\partial r}h_0\\left(r\\right) & {\\epsilon} r^{2} P_\\ell\\left({θ}\\right) e^{\\left(-i \\, t ω - i \\, m {ϕ}\\right)} \\frac{\\partial^{2}}{(\\partial r)^{2}}G\\left(r\\right) - \\frac{{\\epsilon} r^{2} P_\\ell\\left({θ}\\right) e^{\\left(-i \\, t ω - i \\, m {ϕ}\\right)} \\frac{\\partial}{\\partial r}G\\left(r\\right) \\frac{\\partial}{\\partial r}{\\rm bb}\\left(r\\right)}{2 \\, {\\rm bb}\\left(r\\right)} + {\\epsilon} H_2\\left(r\\right) P_\\ell\\left({θ}\\right) {\\rm bb}\\left(r\\right) e^{\\left(-i \\, t ω - i \\, m {ϕ}\\right)} + 2 \\, {\\epsilon} r P_\\ell\\left({θ}\\right) e^{\\left(-i \\, t ω - i \\, m {ϕ}\\right)} \\frac{\\partial}{\\partial r}G\\left(r\\right) + \\frac{{\\epsilon} P_\\ell\\left({θ}\\right) e^{\\left(-i \\, t ω - i \\, m {ϕ}\\right)} h_1\\left(r\\right) \\frac{\\partial}{\\partial r}{\\rm bb}\\left(r\\right)}{{\\rm bb}\\left(r\\right)} - 2 \\, {\\epsilon} P_\\ell\\left({θ}\\right) e^{\\left(-i \\, t ω - i \\, m {ϕ}\\right)} \\frac{\\partial}{\\partial r}h_1\\left(r\\right) & 0 & 0 \\\\\n",
       "0 & 0 & {\\epsilon} r^{2} K\\left(r\\right) P_\\ell\\left({θ}\\right) e^{\\left(-i \\, t ω - i \\, m {ϕ}\\right)} + \\frac{{\\epsilon} r^{3} P_\\ell\\left({θ}\\right) e^{\\left(-i \\, t ω - i \\, m {ϕ}\\right)} \\frac{\\partial}{\\partial r}G\\left(r\\right)}{{\\rm bb}\\left(r\\right)} - \\frac{2 \\, {\\epsilon} r P_\\ell\\left({θ}\\right) e^{\\left(-i \\, t ω - i \\, m {ϕ}\\right)} h_1\\left(r\\right)}{{\\rm bb}\\left(r\\right)} & 0 \\\\\n",
       "0 & 0 & 0 & {\\epsilon} r^{2} K\\left(r\\right) P_\\ell\\left({θ}\\right) e^{\\left(-i \\, t ω - i \\, m {ϕ}\\right)} \\sin\\left({θ}\\right)^{2} + \\frac{{\\epsilon} r^{3} P_\\ell\\left({θ}\\right) e^{\\left(-i \\, t ω - i \\, m {ϕ}\\right)} \\sin\\left({θ}\\right)^{2} \\frac{\\partial}{\\partial r}G\\left(r\\right)}{{\\rm bb}\\left(r\\right)} - \\frac{2 \\, {\\epsilon} r P_\\ell\\left({θ}\\right) e^{\\left(-i \\, t ω - i \\, m {ϕ}\\right)} h_1\\left(r\\right) \\sin\\left({θ}\\right)^{2}}{{\\rm bb}\\left(r\\right)}\n",
       "\\end{array}\\right)$"
      ],
      "text/plain": [
       "[                                                                                 -ep*r^2*ω^2*G(r)*PL(θ)*e^(-I*t*ω - I*m*ϕ) - 1/2*ep*r^2*PL(θ)*e^(-I*t*ω - I*m*ϕ)*diff(G(r), r)*diff(f(r), r)/bb(r) + ep*H0(r)*PL(θ)*e^(-I*t*ω - I*m*ϕ)*f(r) + 2*I*ep*ω*PL(θ)*e^(-I*t*ω - I*m*ϕ)*h0(r) + ep*PL(θ)*e^(-I*t*ω - I*m*ϕ)*h1(r)*diff(f(r), r)/bb(r) -I*ep*r^2*ω*PL(θ)*e^(-I*t*ω - I*m*ϕ)*diff(G(r), r) + 1/2*I*ep*r^2*ω*G(r)*PL(θ)*e^(-I*t*ω - I*m*ϕ)*diff(f(r), r)/f(r) - I*ep*r*ω*G(r)*PL(θ)*e^(-I*t*ω - I*m*ϕ) + I*ep*ω*PL(θ)*e^(-I*t*ω - I*m*ϕ)*h1(r) + ep*H1(r)*PL(θ)*e^(-I*t*ω - I*m*ϕ) + ep*PL(θ)*e^(-I*t*ω - I*m*ϕ)*h0(r)*diff(f(r), r)/f(r) - ep*PL(θ)*e^(-I*t*ω - I*m*ϕ)*diff(h0(r), r)                                                                                                                                                                                                                                                                                                                                             0                                                                                                                                                                                                                                                                                                                                             0]\n",
       "[-I*ep*r^2*ω*PL(θ)*e^(-I*t*ω - I*m*ϕ)*diff(G(r), r) + 1/2*I*ep*r^2*ω*G(r)*PL(θ)*e^(-I*t*ω - I*m*ϕ)*diff(f(r), r)/f(r) - I*ep*r*ω*G(r)*PL(θ)*e^(-I*t*ω - I*m*ϕ) + I*ep*ω*PL(θ)*e^(-I*t*ω - I*m*ϕ)*h1(r) + ep*H1(r)*PL(θ)*e^(-I*t*ω - I*m*ϕ) + ep*PL(θ)*e^(-I*t*ω - I*m*ϕ)*h0(r)*diff(f(r), r)/f(r) - ep*PL(θ)*e^(-I*t*ω - I*m*ϕ)*diff(h0(r), r)                   ep*r^2*PL(θ)*e^(-I*t*ω - I*m*ϕ)*diff(G(r), r, r) - 1/2*ep*r^2*PL(θ)*e^(-I*t*ω - I*m*ϕ)*diff(G(r), r)*diff(bb(r), r)/bb(r) + ep*H2(r)*PL(θ)*bb(r)*e^(-I*t*ω - I*m*ϕ) + 2*ep*r*PL(θ)*e^(-I*t*ω - I*m*ϕ)*diff(G(r), r) + ep*PL(θ)*e^(-I*t*ω - I*m*ϕ)*h1(r)*diff(bb(r), r)/bb(r) - 2*ep*PL(θ)*e^(-I*t*ω - I*m*ϕ)*diff(h1(r), r)                                                                                                                                                                                                                                                                                                                                             0                                                                                                                                                                                                                                                                                                                                             0]\n",
       "[                                                                                                                                                                                                                                                                                                                                            0                                                                                                                                                                                                                                                                                                                                             0                                                                                                                                                                                                      ep*r^2*K(r)*PL(θ)*e^(-I*t*ω - I*m*ϕ) + ep*r^3*PL(θ)*e^(-I*t*ω - I*m*ϕ)*diff(G(r), r)/bb(r) - 2*ep*r*PL(θ)*e^(-I*t*ω - I*m*ϕ)*h1(r)/bb(r)                                                                                                                                                                                                                                                                                                                                             0]\n",
       "[                                                                                                                                                                                                                                                                                                                                            0                                                                                                                                                                                                                                                                                                                                             0                                                                                                                                                                                                                                                                                                                                             0                                                                                                                                                                           ep*r^2*K(r)*PL(θ)*e^(-I*t*ω - I*m*ϕ)*sin(θ)^2 + ep*r^3*PL(θ)*e^(-I*t*ω - I*m*ϕ)*sin(θ)^2*diff(G(r), r)/bb(r) - 2*ep*r*PL(θ)*e^(-I*t*ω - I*m*ϕ)*h1(r)*sin(θ)^2/bb(r)]"
      ]
     },
     "execution_count": 41,
     "metadata": {},
     "output_type": "execute_result"
    }
   ],
   "source": [
    "h_par[:]"
   ]
  },
  {
   "cell_type": "markdown",
   "metadata": {},
   "source": [
    "Aqui, definiremos os novos parâmetros $\\tilde{H}_0(r)$, $\\tilde{H}_1(r)$, $\\tilde{H}_2(r)$ e $\\tilde{K}(r)$"
   ]
  },
  {
   "cell_type": "code",
   "execution_count": 42,
   "metadata": {},
   "outputs": [
    {
     "data": {
      "text/html": [
       "<html>\\(\\displaystyle \\left(\\tilde{H}_0\\left(r\\right), \\tilde{H}_1\\left(r\\right), \\tilde{H}_2\\left(r\\right), \\tilde{K}\\left(r\\right)\\right)\\)</html>"
      ],
      "text/latex": [
       "$\\displaystyle \\left(\\tilde{H}_0\\left(r\\right), \\tilde{H}_1\\left(r\\right), \\tilde{H}_2\\left(r\\right), \\tilde{K}\\left(r\\right)\\right)$"
      ],
      "text/plain": [
       "(H0n(r), H1n(r), H2n(r), Kn(r))"
      ]
     },
     "execution_count": 42,
     "metadata": {},
     "output_type": "execute_result"
    }
   ],
   "source": [
    "H0n = function('H0n', latex_name = r'\\tilde{H}_0')(r)\n",
    "H1n = function('H1n', latex_name = r'\\tilde{H}_1')(r)\n",
    "H2n = function('H2n', latex_name = r'\\tilde{H}_2')(r)\n",
    "Kn = function('Kn', latex_name = r'\\tilde{K}')(r)\n",
    "H0n, H1n, H2n, Kn"
   ]
  },
  {
   "cell_type": "markdown",
   "metadata": {},
   "source": [
    "O objetivo aqui é encontrar uma expressão para cada umas das funções $H_0(r)$, $H_1(r)$, $H_2(r)$ e $K(r)$ em função das novas definidas acima. A primeira expressão envolverá definir $H_0(r)$ em função de $\\tilde{H}_0(r)$:\n",
    "\n",
    "$$f(r)\\tilde{H}_0(r) = - \\frac{2 bb(r)\\left(-2i \\omega h_0(r) - f(r)H_0 + \\omega^2 G(r) r^2\\right) + \\frac{\\partial f(r)}{\\partial r}\\left(-2 h_1(r) + r^2 \\frac{\\partial G(r)}{\\partial r}\\right)}{2 bb(r)}$$"
   ]
  },
  {
   "cell_type": "code",
   "execution_count": 43,
   "metadata": {},
   "outputs": [],
   "source": [
    "eq_H0 = (-(2*bb*(-2*i*ω*h0 - f*H0 + ω^2*G*r^2) + diff(f, r)*(-2*h1 + r^2*diff(G, r)))/(2*bb) == f*H0n).solve(H0, solution_dict=True)[0]"
   ]
  },
  {
   "cell_type": "code",
   "execution_count": 44,
   "metadata": {},
   "outputs": [
    {
     "data": {
      "text/html": [
       "<html>\\(\\displaystyle \\left\\{H_0\\left(r\\right) : \\frac{2 \\, r^{2} ω^{2} G\\left(r\\right) {\\rm bb}\\left(r\\right) + 2 \\, \\tilde{H}_0\\left(r\\right) {\\rm bb}\\left(r\\right) f\\left(r\\right) - 4 i \\, ω {\\rm bb}\\left(r\\right) h_0\\left(r\\right) + {\\left(r^{2} \\frac{\\partial}{\\partial r}G\\left(r\\right) - 2 \\, h_1\\left(r\\right)\\right)} \\frac{\\partial}{\\partial r}f\\left(r\\right)}{2 \\, {\\rm bb}\\left(r\\right) f\\left(r\\right)}\\right\\}\\)</html>"
      ],
      "text/latex": [
       "$\\displaystyle \\left\\{H_0\\left(r\\right) : \\frac{2 \\, r^{2} ω^{2} G\\left(r\\right) {\\rm bb}\\left(r\\right) + 2 \\, \\tilde{H}_0\\left(r\\right) {\\rm bb}\\left(r\\right) f\\left(r\\right) - 4 i \\, ω {\\rm bb}\\left(r\\right) h_0\\left(r\\right) + {\\left(r^{2} \\frac{\\partial}{\\partial r}G\\left(r\\right) - 2 \\, h_1\\left(r\\right)\\right)} \\frac{\\partial}{\\partial r}f\\left(r\\right)}{2 \\, {\\rm bb}\\left(r\\right) f\\left(r\\right)}\\right\\}$"
      ],
      "text/plain": [
       "{H0(r): 1/2*(2*r^2*ω^2*G(r)*bb(r) + 2*H0n(r)*bb(r)*f(r) - 4*I*ω*bb(r)*h0(r) + (r^2*diff(G(r), r) - 2*h1(r))*diff(f(r), r))/(bb(r)*f(r))}"
      ]
     },
     "execution_count": 44,
     "metadata": {},
     "output_type": "execute_result"
    }
   ],
   "source": [
    "eq_H0"
   ]
  },
  {
   "cell_type": "markdown",
   "metadata": {},
   "source": [
    "Para a definição de $H_1(r)$ em função de $\\tilde{H}_1(r)$, temos a expressão:\n",
    "\n",
    "$$2f(r)\\tilde{H}_2(r) = \\left(2 h_0(r) + i\\omega G(r) r^2\\right)\\frac{\\partial f(r)}{\\partial r} + 2 f(r)\\left(i\\omega h_1(r) + H_1(r) - i \\omega r^2 \\frac{\\partial G}{\\partial r} - \\frac{h_0(r)}{\\partial r}\\right)$$"
   ]
  },
  {
   "cell_type": "code",
   "execution_count": 45,
   "metadata": {},
   "outputs": [],
   "source": [
    "eq_H1 = ((2*h0 + i*ω*G*r^2)*diff(f, r) + 2*f*(i*ω*h1 + H1 - i*ω*G*r -i*ω*r^2*diff(G, r) - diff(h0, r)) == H1n*2*f).solve(H1, solution_dict=True)[0]"
   ]
  },
  {
   "cell_type": "code",
   "execution_count": 46,
   "metadata": {},
   "outputs": [
    {
     "data": {
      "text/html": [
       "<html>\\(\\displaystyle \\left\\{H_1\\left(r\\right) : \\frac{{\\left(2 i \\, r^{2} f\\left(r\\right) \\frac{\\partial}{\\partial r}G\\left(r\\right) - i \\, r^{2} G\\left(r\\right) \\frac{\\partial}{\\partial r}f\\left(r\\right) + 2 i \\, r G\\left(r\\right) f\\left(r\\right) - 2 i \\, f\\left(r\\right) h_1\\left(r\\right)\\right)} ω + 2 \\, \\tilde{H}_1\\left(r\\right) f\\left(r\\right) - 2 \\, h_0\\left(r\\right) \\frac{\\partial}{\\partial r}f\\left(r\\right) + 2 \\, f\\left(r\\right) \\frac{\\partial}{\\partial r}h_0\\left(r\\right)}{2 \\, f\\left(r\\right)}\\right\\}\\)</html>"
      ],
      "text/latex": [
       "$\\displaystyle \\left\\{H_1\\left(r\\right) : \\frac{{\\left(2 i \\, r^{2} f\\left(r\\right) \\frac{\\partial}{\\partial r}G\\left(r\\right) - i \\, r^{2} G\\left(r\\right) \\frac{\\partial}{\\partial r}f\\left(r\\right) + 2 i \\, r G\\left(r\\right) f\\left(r\\right) - 2 i \\, f\\left(r\\right) h_1\\left(r\\right)\\right)} ω + 2 \\, \\tilde{H}_1\\left(r\\right) f\\left(r\\right) - 2 \\, h_0\\left(r\\right) \\frac{\\partial}{\\partial r}f\\left(r\\right) + 2 \\, f\\left(r\\right) \\frac{\\partial}{\\partial r}h_0\\left(r\\right)}{2 \\, f\\left(r\\right)}\\right\\}$"
      ],
      "text/plain": [
       "{H1(r): 1/2*((2*I*r^2*f(r)*diff(G(r), r) - I*r^2*G(r)*diff(f(r), r) + 2*I*r*G(r)*f(r) - 2*I*f(r)*h1(r))*ω + 2*H1n(r)*f(r) - 2*h0(r)*diff(f(r), r) + 2*f(r)*diff(h0(r), r))/f(r)}"
      ]
     },
     "execution_count": 46,
     "metadata": {},
     "output_type": "execute_result"
    }
   ],
   "source": [
    "eq_H1"
   ]
  },
  {
   "cell_type": "markdown",
   "metadata": {},
   "source": [
    "Para a definição de $H_2(r)$ em função de $\\tilde{H}_2(r)$, temos a expressão\n",
    "\n",
    "$$2 bb(r)^2 \\tilde{H}_2 = 2 bb(r)^2 H_2(r) + \\frac{\\partial bb(r)}{\\partial r}\\left(2 h_1(r) - r^2 \\frac{\\partial G}{\\partial r}\\right) + 2 bb(r)\\left(2 r \\frac{\\partial G}{\\partial r} - 2\\frac{\\partial h_1(r)}{\\partial r} + r^2 \\frac{\\partial^2 G}{\\partial r^2}\\right)$$"
   ]
  },
  {
   "cell_type": "code",
   "execution_count": 47,
   "metadata": {},
   "outputs": [],
   "source": [
    "eq_H2 = (2*bb^2*H2 + diff(bb, r)*(2*h1 - r^2*diff(G, r)) + 2*bb*(2*r*diff(G, r) - 2*diff(h1, r) + r^2*diff(G, r, 2)) == 2*bb^2*H2n).solve(H2, solution_dict=True)[0]"
   ]
  },
  {
   "cell_type": "code",
   "execution_count": 48,
   "metadata": {},
   "outputs": [
    {
     "data": {
      "text/html": [
       "<html>\\(\\displaystyle \\left\\{H_2\\left(r\\right) : -\\frac{2 \\, r^{2} {\\rm bb}\\left(r\\right) \\frac{\\partial^{2}}{(\\partial r)^{2}}G\\left(r\\right) - 2 \\, \\tilde{H}_2\\left(r\\right) {\\rm bb}\\left(r\\right)^{2} + 4 \\, r {\\rm bb}\\left(r\\right) \\frac{\\partial}{\\partial r}G\\left(r\\right) - {\\left(r^{2} \\frac{\\partial}{\\partial r}G\\left(r\\right) - 2 \\, h_1\\left(r\\right)\\right)} \\frac{\\partial}{\\partial r}{\\rm bb}\\left(r\\right) - 4 \\, {\\rm bb}\\left(r\\right) \\frac{\\partial}{\\partial r}h_1\\left(r\\right)}{2 \\, {\\rm bb}\\left(r\\right)^{2}}\\right\\}\\)</html>"
      ],
      "text/latex": [
       "$\\displaystyle \\left\\{H_2\\left(r\\right) : -\\frac{2 \\, r^{2} {\\rm bb}\\left(r\\right) \\frac{\\partial^{2}}{(\\partial r)^{2}}G\\left(r\\right) - 2 \\, \\tilde{H}_2\\left(r\\right) {\\rm bb}\\left(r\\right)^{2} + 4 \\, r {\\rm bb}\\left(r\\right) \\frac{\\partial}{\\partial r}G\\left(r\\right) - {\\left(r^{2} \\frac{\\partial}{\\partial r}G\\left(r\\right) - 2 \\, h_1\\left(r\\right)\\right)} \\frac{\\partial}{\\partial r}{\\rm bb}\\left(r\\right) - 4 \\, {\\rm bb}\\left(r\\right) \\frac{\\partial}{\\partial r}h_1\\left(r\\right)}{2 \\, {\\rm bb}\\left(r\\right)^{2}}\\right\\}$"
      ],
      "text/plain": [
       "{H2(r): -1/2*(2*r^2*bb(r)*diff(G(r), r, r) - 2*H2n(r)*bb(r)^2 + 4*r*bb(r)*diff(G(r), r) - (r^2*diff(G(r), r) - 2*h1(r))*diff(bb(r), r) - 4*bb(r)*diff(h1(r), r))/bb(r)^2}"
      ]
     },
     "execution_count": 48,
     "metadata": {},
     "output_type": "execute_result"
    }
   ],
   "source": [
    "eq_H2"
   ]
  },
  {
   "cell_type": "markdown",
   "metadata": {},
   "source": [
    "Para a definição de $K(r)$ em função de $\\tilde{K}(r)$, temos a expressão\n",
    "\n",
    "$$r^2 \\tilde{K} bb(r) = r\\left[-2 h_1(r) + r\\left(bb(r) K(r) + r \\frac{\\partial G}{\\partial r}\\right)\\right]$$"
   ]
  },
  {
   "cell_type": "code",
   "execution_count": 49,
   "metadata": {},
   "outputs": [],
   "source": [
    "eq_K = (r*(-2*h1 + r*(bb*K + r*diff(G, r))) == r^2*Kn*bb).solve(K, solution_dict=True)[0]"
   ]
  },
  {
   "cell_type": "code",
   "execution_count": 50,
   "metadata": {},
   "outputs": [
    {
     "data": {
      "text/html": [
       "<html>\\(\\displaystyle \\left\\{K\\left(r\\right) : \\frac{r \\tilde{K}\\left(r\\right) {\\rm bb}\\left(r\\right) - r^{2} \\frac{\\partial}{\\partial r}G\\left(r\\right) + 2 \\, h_1\\left(r\\right)}{r {\\rm bb}\\left(r\\right)}\\right\\}\\)</html>"
      ],
      "text/latex": [
       "$\\displaystyle \\left\\{K\\left(r\\right) : \\frac{r \\tilde{K}\\left(r\\right) {\\rm bb}\\left(r\\right) - r^{2} \\frac{\\partial}{\\partial r}G\\left(r\\right) + 2 \\, h_1\\left(r\\right)}{r {\\rm bb}\\left(r\\right)}\\right\\}$"
      ],
      "text/plain": [
       "{K(r): (r*Kn(r)*bb(r) - r^2*diff(G(r), r) + 2*h1(r))/(r*bb(r))}"
      ]
     },
     "execution_count": 50,
     "metadata": {},
     "output_type": "execute_result"
    }
   ],
   "source": [
    "eq_K"
   ]
  },
  {
   "cell_type": "markdown",
   "metadata": {},
   "source": [
    "Aqui será construída novamente uma lista com os termos de cada uma das quatro expressões acima, de modo que a substituição das mesmas e de suas respectivas derivadas sejam adicionadas às expressões das perturbações de uma vez só."
   ]
  },
  {
   "cell_type": "code",
   "execution_count": 51,
   "metadata": {},
   "outputs": [],
   "source": [
    "eq_H0[diff(list(eq_H0.keys())[0], r)] = diff(list(eq_H0.values())[0], r) "
   ]
  },
  {
   "cell_type": "code",
   "execution_count": 52,
   "metadata": {},
   "outputs": [],
   "source": [
    "eq_H1[diff(list(eq_H1.keys())[0], r)] = diff(list(eq_H1.values())[0], r) "
   ]
  },
  {
   "cell_type": "code",
   "execution_count": 53,
   "metadata": {},
   "outputs": [],
   "source": [
    "eq_H2[diff(list(eq_H2.keys())[0], r)] = diff(list(eq_H2.values())[0], r) "
   ]
  },
  {
   "cell_type": "code",
   "execution_count": 54,
   "metadata": {},
   "outputs": [],
   "source": [
    "eq_K[diff(list(eq_K.keys())[0], r)] = diff(list(eq_K.values())[0], r) "
   ]
  },
  {
   "cell_type": "markdown",
   "metadata": {},
   "source": [
    "Aqui, será feita a atualização de cada uma das listas para todas estarem em uma única lista, a `eq_H0`:"
   ]
  },
  {
   "cell_type": "code",
   "execution_count": 55,
   "metadata": {},
   "outputs": [],
   "source": [
    "eq_H0.update(eq_H1)"
   ]
  },
  {
   "cell_type": "code",
   "execution_count": 56,
   "metadata": {},
   "outputs": [],
   "source": [
    "eq_H0.update(eq_H2)"
   ]
  },
  {
   "cell_type": "code",
   "execution_count": 57,
   "metadata": {},
   "outputs": [],
   "source": [
    "eq_H0.update(eq_K)"
   ]
  },
  {
   "cell_type": "code",
   "execution_count": 58,
   "metadata": {},
   "outputs": [
    {
     "data": {
      "text/html": [
       "<html>\\(\\displaystyle \\left\\{H_0\\left(r\\right) : \\frac{2 \\, r^{2} ω^{2} G\\left(r\\right) {\\rm bb}\\left(r\\right) + 2 \\, \\tilde{H}_0\\left(r\\right) {\\rm bb}\\left(r\\right) f\\left(r\\right) - 4 i \\, ω {\\rm bb}\\left(r\\right) h_0\\left(r\\right) + {\\left(r^{2} \\frac{\\partial}{\\partial r}G\\left(r\\right) - 2 \\, h_1\\left(r\\right)\\right)} \\frac{\\partial}{\\partial r}f\\left(r\\right)}{2 \\, {\\rm bb}\\left(r\\right) f\\left(r\\right)}, \\frac{\\partial}{\\partial r}H_0\\left(r\\right) : \\frac{2 \\, r^{2} ω^{2} {\\rm bb}\\left(r\\right) \\frac{\\partial}{\\partial r}G\\left(r\\right) + 2 \\, r^{2} ω^{2} G\\left(r\\right) \\frac{\\partial}{\\partial r}{\\rm bb}\\left(r\\right) + 4 \\, r ω^{2} G\\left(r\\right) {\\rm bb}\\left(r\\right) + 2 \\, {\\rm bb}\\left(r\\right) f\\left(r\\right) \\frac{\\partial}{\\partial r}\\tilde{H}_0\\left(r\\right) + 2 \\, \\tilde{H}_0\\left(r\\right) f\\left(r\\right) \\frac{\\partial}{\\partial r}{\\rm bb}\\left(r\\right) - 4 i \\, ω h_0\\left(r\\right) \\frac{\\partial}{\\partial r}{\\rm bb}\\left(r\\right) + 2 \\, \\tilde{H}_0\\left(r\\right) {\\rm bb}\\left(r\\right) \\frac{\\partial}{\\partial r}f\\left(r\\right) - 4 i \\, ω {\\rm bb}\\left(r\\right) \\frac{\\partial}{\\partial r}h_0\\left(r\\right) + {\\left(r^{2} \\frac{\\partial^{2}}{(\\partial r)^{2}}G\\left(r\\right) + 2 \\, r \\frac{\\partial}{\\partial r}G\\left(r\\right) - 2 \\, \\frac{\\partial}{\\partial r}h_1\\left(r\\right)\\right)} \\frac{\\partial}{\\partial r}f\\left(r\\right) + {\\left(r^{2} \\frac{\\partial}{\\partial r}G\\left(r\\right) - 2 \\, h_1\\left(r\\right)\\right)} \\frac{\\partial^{2}}{(\\partial r)^{2}}f\\left(r\\right)}{2 \\, {\\rm bb}\\left(r\\right) f\\left(r\\right)} - \\frac{{\\left(2 \\, r^{2} ω^{2} G\\left(r\\right) {\\rm bb}\\left(r\\right) + 2 \\, \\tilde{H}_0\\left(r\\right) {\\rm bb}\\left(r\\right) f\\left(r\\right) - 4 i \\, ω {\\rm bb}\\left(r\\right) h_0\\left(r\\right) + {\\left(r^{2} \\frac{\\partial}{\\partial r}G\\left(r\\right) - 2 \\, h_1\\left(r\\right)\\right)} \\frac{\\partial}{\\partial r}f\\left(r\\right)\\right)} \\frac{\\partial}{\\partial r}{\\rm bb}\\left(r\\right)}{2 \\, {\\rm bb}\\left(r\\right)^{2} f\\left(r\\right)} - \\frac{{\\left(2 \\, r^{2} ω^{2} G\\left(r\\right) {\\rm bb}\\left(r\\right) + 2 \\, \\tilde{H}_0\\left(r\\right) {\\rm bb}\\left(r\\right) f\\left(r\\right) - 4 i \\, ω {\\rm bb}\\left(r\\right) h_0\\left(r\\right) + {\\left(r^{2} \\frac{\\partial}{\\partial r}G\\left(r\\right) - 2 \\, h_1\\left(r\\right)\\right)} \\frac{\\partial}{\\partial r}f\\left(r\\right)\\right)} \\frac{\\partial}{\\partial r}f\\left(r\\right)}{2 \\, {\\rm bb}\\left(r\\right) f\\left(r\\right)^{2}}, H_1\\left(r\\right) : \\frac{{\\left(2 i \\, r^{2} f\\left(r\\right) \\frac{\\partial}{\\partial r}G\\left(r\\right) - i \\, r^{2} G\\left(r\\right) \\frac{\\partial}{\\partial r}f\\left(r\\right) + 2 i \\, r G\\left(r\\right) f\\left(r\\right) - 2 i \\, f\\left(r\\right) h_1\\left(r\\right)\\right)} ω + 2 \\, \\tilde{H}_1\\left(r\\right) f\\left(r\\right) - 2 \\, h_0\\left(r\\right) \\frac{\\partial}{\\partial r}f\\left(r\\right) + 2 \\, f\\left(r\\right) \\frac{\\partial}{\\partial r}h_0\\left(r\\right)}{2 \\, f\\left(r\\right)}, \\frac{\\partial}{\\partial r}H_1\\left(r\\right) : \\frac{{\\left(2 i \\, r^{2} f\\left(r\\right) \\frac{\\partial^{2}}{(\\partial r)^{2}}G\\left(r\\right) + i \\, r^{2} \\frac{\\partial}{\\partial r}G\\left(r\\right) \\frac{\\partial}{\\partial r}f\\left(r\\right) - i \\, r^{2} G\\left(r\\right) \\frac{\\partial^{2}}{(\\partial r)^{2}}f\\left(r\\right) + 6 i \\, r f\\left(r\\right) \\frac{\\partial}{\\partial r}G\\left(r\\right) + 2 i \\, G\\left(r\\right) f\\left(r\\right) - 2 i \\, h_1\\left(r\\right) \\frac{\\partial}{\\partial r}f\\left(r\\right) - 2 i \\, f\\left(r\\right) \\frac{\\partial}{\\partial r}h_1\\left(r\\right)\\right)} ω + 2 \\, f\\left(r\\right) \\frac{\\partial}{\\partial r}\\tilde{H}_1\\left(r\\right) + 2 \\, \\tilde{H}_1\\left(r\\right) \\frac{\\partial}{\\partial r}f\\left(r\\right) - 2 \\, h_0\\left(r\\right) \\frac{\\partial^{2}}{(\\partial r)^{2}}f\\left(r\\right) + 2 \\, f\\left(r\\right) \\frac{\\partial^{2}}{(\\partial r)^{2}}h_0\\left(r\\right)}{2 \\, f\\left(r\\right)} - \\frac{{\\left({\\left(2 i \\, r^{2} f\\left(r\\right) \\frac{\\partial}{\\partial r}G\\left(r\\right) - i \\, r^{2} G\\left(r\\right) \\frac{\\partial}{\\partial r}f\\left(r\\right) + 2 i \\, r G\\left(r\\right) f\\left(r\\right) - 2 i \\, f\\left(r\\right) h_1\\left(r\\right)\\right)} ω + 2 \\, \\tilde{H}_1\\left(r\\right) f\\left(r\\right) - 2 \\, h_0\\left(r\\right) \\frac{\\partial}{\\partial r}f\\left(r\\right) + 2 \\, f\\left(r\\right) \\frac{\\partial}{\\partial r}h_0\\left(r\\right)\\right)} \\frac{\\partial}{\\partial r}f\\left(r\\right)}{2 \\, f\\left(r\\right)^{2}}, H_2\\left(r\\right) : -\\frac{2 \\, r^{2} {\\rm bb}\\left(r\\right) \\frac{\\partial^{2}}{(\\partial r)^{2}}G\\left(r\\right) - 2 \\, \\tilde{H}_2\\left(r\\right) {\\rm bb}\\left(r\\right)^{2} + 4 \\, r {\\rm bb}\\left(r\\right) \\frac{\\partial}{\\partial r}G\\left(r\\right) - {\\left(r^{2} \\frac{\\partial}{\\partial r}G\\left(r\\right) - 2 \\, h_1\\left(r\\right)\\right)} \\frac{\\partial}{\\partial r}{\\rm bb}\\left(r\\right) - 4 \\, {\\rm bb}\\left(r\\right) \\frac{\\partial}{\\partial r}h_1\\left(r\\right)}{2 \\, {\\rm bb}\\left(r\\right)^{2}}, \\frac{\\partial}{\\partial r}H_2\\left(r\\right) : -\\frac{2 \\, r^{2} {\\rm bb}\\left(r\\right) \\frac{\\partial^{3}}{(\\partial r)^{3}}G\\left(r\\right) + 2 \\, r^{2} \\frac{\\partial^{2}}{(\\partial r)^{2}}G\\left(r\\right) \\frac{\\partial}{\\partial r}{\\rm bb}\\left(r\\right) + 8 \\, r {\\rm bb}\\left(r\\right) \\frac{\\partial^{2}}{(\\partial r)^{2}}G\\left(r\\right) - 2 \\, {\\rm bb}\\left(r\\right)^{2} \\frac{\\partial}{\\partial r}\\tilde{H}_2\\left(r\\right) - 4 \\, \\tilde{H}_2\\left(r\\right) {\\rm bb}\\left(r\\right) \\frac{\\partial}{\\partial r}{\\rm bb}\\left(r\\right) + 4 \\, r \\frac{\\partial}{\\partial r}G\\left(r\\right) \\frac{\\partial}{\\partial r}{\\rm bb}\\left(r\\right) + 4 \\, {\\rm bb}\\left(r\\right) \\frac{\\partial}{\\partial r}G\\left(r\\right) - {\\left(r^{2} \\frac{\\partial^{2}}{(\\partial r)^{2}}G\\left(r\\right) + 2 \\, r \\frac{\\partial}{\\partial r}G\\left(r\\right) - 2 \\, \\frac{\\partial}{\\partial r}h_1\\left(r\\right)\\right)} \\frac{\\partial}{\\partial r}{\\rm bb}\\left(r\\right) - {\\left(r^{2} \\frac{\\partial}{\\partial r}G\\left(r\\right) - 2 \\, h_1\\left(r\\right)\\right)} \\frac{\\partial^{2}}{(\\partial r)^{2}}{\\rm bb}\\left(r\\right) - 4 \\, \\frac{\\partial}{\\partial r}{\\rm bb}\\left(r\\right) \\frac{\\partial}{\\partial r}h_1\\left(r\\right) - 4 \\, {\\rm bb}\\left(r\\right) \\frac{\\partial^{2}}{(\\partial r)^{2}}h_1\\left(r\\right)}{2 \\, {\\rm bb}\\left(r\\right)^{2}} + \\frac{{\\left(2 \\, r^{2} {\\rm bb}\\left(r\\right) \\frac{\\partial^{2}}{(\\partial r)^{2}}G\\left(r\\right) - 2 \\, \\tilde{H}_2\\left(r\\right) {\\rm bb}\\left(r\\right)^{2} + 4 \\, r {\\rm bb}\\left(r\\right) \\frac{\\partial}{\\partial r}G\\left(r\\right) - {\\left(r^{2} \\frac{\\partial}{\\partial r}G\\left(r\\right) - 2 \\, h_1\\left(r\\right)\\right)} \\frac{\\partial}{\\partial r}{\\rm bb}\\left(r\\right) - 4 \\, {\\rm bb}\\left(r\\right) \\frac{\\partial}{\\partial r}h_1\\left(r\\right)\\right)} \\frac{\\partial}{\\partial r}{\\rm bb}\\left(r\\right)}{{\\rm bb}\\left(r\\right)^{3}}, K\\left(r\\right) : \\frac{r \\tilde{K}\\left(r\\right) {\\rm bb}\\left(r\\right) - r^{2} \\frac{\\partial}{\\partial r}G\\left(r\\right) + 2 \\, h_1\\left(r\\right)}{r {\\rm bb}\\left(r\\right)}, \\frac{\\partial}{\\partial r}K\\left(r\\right) : -\\frac{r^{2} \\frac{\\partial^{2}}{(\\partial r)^{2}}G\\left(r\\right) - r {\\rm bb}\\left(r\\right) \\frac{\\partial}{\\partial r}\\tilde{K}\\left(r\\right) - r \\tilde{K}\\left(r\\right) \\frac{\\partial}{\\partial r}{\\rm bb}\\left(r\\right) - \\tilde{K}\\left(r\\right) {\\rm bb}\\left(r\\right) + 2 \\, r \\frac{\\partial}{\\partial r}G\\left(r\\right) - 2 \\, \\frac{\\partial}{\\partial r}h_1\\left(r\\right)}{r {\\rm bb}\\left(r\\right)} - \\frac{{\\left(r \\tilde{K}\\left(r\\right) {\\rm bb}\\left(r\\right) - r^{2} \\frac{\\partial}{\\partial r}G\\left(r\\right) + 2 \\, h_1\\left(r\\right)\\right)} \\frac{\\partial}{\\partial r}{\\rm bb}\\left(r\\right)}{r {\\rm bb}\\left(r\\right)^{2}} - \\frac{r \\tilde{K}\\left(r\\right) {\\rm bb}\\left(r\\right) - r^{2} \\frac{\\partial}{\\partial r}G\\left(r\\right) + 2 \\, h_1\\left(r\\right)}{r^{2} {\\rm bb}\\left(r\\right)}\\right\\}\\)</html>"
      ],
      "text/latex": [
       "$\\displaystyle \\left\\{H_0\\left(r\\right) : \\frac{2 \\, r^{2} ω^{2} G\\left(r\\right) {\\rm bb}\\left(r\\right) + 2 \\, \\tilde{H}_0\\left(r\\right) {\\rm bb}\\left(r\\right) f\\left(r\\right) - 4 i \\, ω {\\rm bb}\\left(r\\right) h_0\\left(r\\right) + {\\left(r^{2} \\frac{\\partial}{\\partial r}G\\left(r\\right) - 2 \\, h_1\\left(r\\right)\\right)} \\frac{\\partial}{\\partial r}f\\left(r\\right)}{2 \\, {\\rm bb}\\left(r\\right) f\\left(r\\right)}, \\frac{\\partial}{\\partial r}H_0\\left(r\\right) : \\frac{2 \\, r^{2} ω^{2} {\\rm bb}\\left(r\\right) \\frac{\\partial}{\\partial r}G\\left(r\\right) + 2 \\, r^{2} ω^{2} G\\left(r\\right) \\frac{\\partial}{\\partial r}{\\rm bb}\\left(r\\right) + 4 \\, r ω^{2} G\\left(r\\right) {\\rm bb}\\left(r\\right) + 2 \\, {\\rm bb}\\left(r\\right) f\\left(r\\right) \\frac{\\partial}{\\partial r}\\tilde{H}_0\\left(r\\right) + 2 \\, \\tilde{H}_0\\left(r\\right) f\\left(r\\right) \\frac{\\partial}{\\partial r}{\\rm bb}\\left(r\\right) - 4 i \\, ω h_0\\left(r\\right) \\frac{\\partial}{\\partial r}{\\rm bb}\\left(r\\right) + 2 \\, \\tilde{H}_0\\left(r\\right) {\\rm bb}\\left(r\\right) \\frac{\\partial}{\\partial r}f\\left(r\\right) - 4 i \\, ω {\\rm bb}\\left(r\\right) \\frac{\\partial}{\\partial r}h_0\\left(r\\right) + {\\left(r^{2} \\frac{\\partial^{2}}{(\\partial r)^{2}}G\\left(r\\right) + 2 \\, r \\frac{\\partial}{\\partial r}G\\left(r\\right) - 2 \\, \\frac{\\partial}{\\partial r}h_1\\left(r\\right)\\right)} \\frac{\\partial}{\\partial r}f\\left(r\\right) + {\\left(r^{2} \\frac{\\partial}{\\partial r}G\\left(r\\right) - 2 \\, h_1\\left(r\\right)\\right)} \\frac{\\partial^{2}}{(\\partial r)^{2}}f\\left(r\\right)}{2 \\, {\\rm bb}\\left(r\\right) f\\left(r\\right)} - \\frac{{\\left(2 \\, r^{2} ω^{2} G\\left(r\\right) {\\rm bb}\\left(r\\right) + 2 \\, \\tilde{H}_0\\left(r\\right) {\\rm bb}\\left(r\\right) f\\left(r\\right) - 4 i \\, ω {\\rm bb}\\left(r\\right) h_0\\left(r\\right) + {\\left(r^{2} \\frac{\\partial}{\\partial r}G\\left(r\\right) - 2 \\, h_1\\left(r\\right)\\right)} \\frac{\\partial}{\\partial r}f\\left(r\\right)\\right)} \\frac{\\partial}{\\partial r}{\\rm bb}\\left(r\\right)}{2 \\, {\\rm bb}\\left(r\\right)^{2} f\\left(r\\right)} - \\frac{{\\left(2 \\, r^{2} ω^{2} G\\left(r\\right) {\\rm bb}\\left(r\\right) + 2 \\, \\tilde{H}_0\\left(r\\right) {\\rm bb}\\left(r\\right) f\\left(r\\right) - 4 i \\, ω {\\rm bb}\\left(r\\right) h_0\\left(r\\right) + {\\left(r^{2} \\frac{\\partial}{\\partial r}G\\left(r\\right) - 2 \\, h_1\\left(r\\right)\\right)} \\frac{\\partial}{\\partial r}f\\left(r\\right)\\right)} \\frac{\\partial}{\\partial r}f\\left(r\\right)}{2 \\, {\\rm bb}\\left(r\\right) f\\left(r\\right)^{2}}, H_1\\left(r\\right) : \\frac{{\\left(2 i \\, r^{2} f\\left(r\\right) \\frac{\\partial}{\\partial r}G\\left(r\\right) - i \\, r^{2} G\\left(r\\right) \\frac{\\partial}{\\partial r}f\\left(r\\right) + 2 i \\, r G\\left(r\\right) f\\left(r\\right) - 2 i \\, f\\left(r\\right) h_1\\left(r\\right)\\right)} ω + 2 \\, \\tilde{H}_1\\left(r\\right) f\\left(r\\right) - 2 \\, h_0\\left(r\\right) \\frac{\\partial}{\\partial r}f\\left(r\\right) + 2 \\, f\\left(r\\right) \\frac{\\partial}{\\partial r}h_0\\left(r\\right)}{2 \\, f\\left(r\\right)}, \\frac{\\partial}{\\partial r}H_1\\left(r\\right) : \\frac{{\\left(2 i \\, r^{2} f\\left(r\\right) \\frac{\\partial^{2}}{(\\partial r)^{2}}G\\left(r\\right) + i \\, r^{2} \\frac{\\partial}{\\partial r}G\\left(r\\right) \\frac{\\partial}{\\partial r}f\\left(r\\right) - i \\, r^{2} G\\left(r\\right) \\frac{\\partial^{2}}{(\\partial r)^{2}}f\\left(r\\right) + 6 i \\, r f\\left(r\\right) \\frac{\\partial}{\\partial r}G\\left(r\\right) + 2 i \\, G\\left(r\\right) f\\left(r\\right) - 2 i \\, h_1\\left(r\\right) \\frac{\\partial}{\\partial r}f\\left(r\\right) - 2 i \\, f\\left(r\\right) \\frac{\\partial}{\\partial r}h_1\\left(r\\right)\\right)} ω + 2 \\, f\\left(r\\right) \\frac{\\partial}{\\partial r}\\tilde{H}_1\\left(r\\right) + 2 \\, \\tilde{H}_1\\left(r\\right) \\frac{\\partial}{\\partial r}f\\left(r\\right) - 2 \\, h_0\\left(r\\right) \\frac{\\partial^{2}}{(\\partial r)^{2}}f\\left(r\\right) + 2 \\, f\\left(r\\right) \\frac{\\partial^{2}}{(\\partial r)^{2}}h_0\\left(r\\right)}{2 \\, f\\left(r\\right)} - \\frac{{\\left({\\left(2 i \\, r^{2} f\\left(r\\right) \\frac{\\partial}{\\partial r}G\\left(r\\right) - i \\, r^{2} G\\left(r\\right) \\frac{\\partial}{\\partial r}f\\left(r\\right) + 2 i \\, r G\\left(r\\right) f\\left(r\\right) - 2 i \\, f\\left(r\\right) h_1\\left(r\\right)\\right)} ω + 2 \\, \\tilde{H}_1\\left(r\\right) f\\left(r\\right) - 2 \\, h_0\\left(r\\right) \\frac{\\partial}{\\partial r}f\\left(r\\right) + 2 \\, f\\left(r\\right) \\frac{\\partial}{\\partial r}h_0\\left(r\\right)\\right)} \\frac{\\partial}{\\partial r}f\\left(r\\right)}{2 \\, f\\left(r\\right)^{2}}, H_2\\left(r\\right) : -\\frac{2 \\, r^{2} {\\rm bb}\\left(r\\right) \\frac{\\partial^{2}}{(\\partial r)^{2}}G\\left(r\\right) - 2 \\, \\tilde{H}_2\\left(r\\right) {\\rm bb}\\left(r\\right)^{2} + 4 \\, r {\\rm bb}\\left(r\\right) \\frac{\\partial}{\\partial r}G\\left(r\\right) - {\\left(r^{2} \\frac{\\partial}{\\partial r}G\\left(r\\right) - 2 \\, h_1\\left(r\\right)\\right)} \\frac{\\partial}{\\partial r}{\\rm bb}\\left(r\\right) - 4 \\, {\\rm bb}\\left(r\\right) \\frac{\\partial}{\\partial r}h_1\\left(r\\right)}{2 \\, {\\rm bb}\\left(r\\right)^{2}}, \\frac{\\partial}{\\partial r}H_2\\left(r\\right) : -\\frac{2 \\, r^{2} {\\rm bb}\\left(r\\right) \\frac{\\partial^{3}}{(\\partial r)^{3}}G\\left(r\\right) + 2 \\, r^{2} \\frac{\\partial^{2}}{(\\partial r)^{2}}G\\left(r\\right) \\frac{\\partial}{\\partial r}{\\rm bb}\\left(r\\right) + 8 \\, r {\\rm bb}\\left(r\\right) \\frac{\\partial^{2}}{(\\partial r)^{2}}G\\left(r\\right) - 2 \\, {\\rm bb}\\left(r\\right)^{2} \\frac{\\partial}{\\partial r}\\tilde{H}_2\\left(r\\right) - 4 \\, \\tilde{H}_2\\left(r\\right) {\\rm bb}\\left(r\\right) \\frac{\\partial}{\\partial r}{\\rm bb}\\left(r\\right) + 4 \\, r \\frac{\\partial}{\\partial r}G\\left(r\\right) \\frac{\\partial}{\\partial r}{\\rm bb}\\left(r\\right) + 4 \\, {\\rm bb}\\left(r\\right) \\frac{\\partial}{\\partial r}G\\left(r\\right) - {\\left(r^{2} \\frac{\\partial^{2}}{(\\partial r)^{2}}G\\left(r\\right) + 2 \\, r \\frac{\\partial}{\\partial r}G\\left(r\\right) - 2 \\, \\frac{\\partial}{\\partial r}h_1\\left(r\\right)\\right)} \\frac{\\partial}{\\partial r}{\\rm bb}\\left(r\\right) - {\\left(r^{2} \\frac{\\partial}{\\partial r}G\\left(r\\right) - 2 \\, h_1\\left(r\\right)\\right)} \\frac{\\partial^{2}}{(\\partial r)^{2}}{\\rm bb}\\left(r\\right) - 4 \\, \\frac{\\partial}{\\partial r}{\\rm bb}\\left(r\\right) \\frac{\\partial}{\\partial r}h_1\\left(r\\right) - 4 \\, {\\rm bb}\\left(r\\right) \\frac{\\partial^{2}}{(\\partial r)^{2}}h_1\\left(r\\right)}{2 \\, {\\rm bb}\\left(r\\right)^{2}} + \\frac{{\\left(2 \\, r^{2} {\\rm bb}\\left(r\\right) \\frac{\\partial^{2}}{(\\partial r)^{2}}G\\left(r\\right) - 2 \\, \\tilde{H}_2\\left(r\\right) {\\rm bb}\\left(r\\right)^{2} + 4 \\, r {\\rm bb}\\left(r\\right) \\frac{\\partial}{\\partial r}G\\left(r\\right) - {\\left(r^{2} \\frac{\\partial}{\\partial r}G\\left(r\\right) - 2 \\, h_1\\left(r\\right)\\right)} \\frac{\\partial}{\\partial r}{\\rm bb}\\left(r\\right) - 4 \\, {\\rm bb}\\left(r\\right) \\frac{\\partial}{\\partial r}h_1\\left(r\\right)\\right)} \\frac{\\partial}{\\partial r}{\\rm bb}\\left(r\\right)}{{\\rm bb}\\left(r\\right)^{3}}, K\\left(r\\right) : \\frac{r \\tilde{K}\\left(r\\right) {\\rm bb}\\left(r\\right) - r^{2} \\frac{\\partial}{\\partial r}G\\left(r\\right) + 2 \\, h_1\\left(r\\right)}{r {\\rm bb}\\left(r\\right)}, \\frac{\\partial}{\\partial r}K\\left(r\\right) : -\\frac{r^{2} \\frac{\\partial^{2}}{(\\partial r)^{2}}G\\left(r\\right) - r {\\rm bb}\\left(r\\right) \\frac{\\partial}{\\partial r}\\tilde{K}\\left(r\\right) - r \\tilde{K}\\left(r\\right) \\frac{\\partial}{\\partial r}{\\rm bb}\\left(r\\right) - \\tilde{K}\\left(r\\right) {\\rm bb}\\left(r\\right) + 2 \\, r \\frac{\\partial}{\\partial r}G\\left(r\\right) - 2 \\, \\frac{\\partial}{\\partial r}h_1\\left(r\\right)}{r {\\rm bb}\\left(r\\right)} - \\frac{{\\left(r \\tilde{K}\\left(r\\right) {\\rm bb}\\left(r\\right) - r^{2} \\frac{\\partial}{\\partial r}G\\left(r\\right) + 2 \\, h_1\\left(r\\right)\\right)} \\frac{\\partial}{\\partial r}{\\rm bb}\\left(r\\right)}{r {\\rm bb}\\left(r\\right)^{2}} - \\frac{r \\tilde{K}\\left(r\\right) {\\rm bb}\\left(r\\right) - r^{2} \\frac{\\partial}{\\partial r}G\\left(r\\right) + 2 \\, h_1\\left(r\\right)}{r^{2} {\\rm bb}\\left(r\\right)}\\right\\}$"
      ],
      "text/plain": [
       "{H0(r): 1/2*(2*r^2*ω^2*G(r)*bb(r) + 2*H0n(r)*bb(r)*f(r) - 4*I*ω*bb(r)*h0(r) + (r^2*diff(G(r), r) - 2*h1(r))*diff(f(r), r))/(bb(r)*f(r)),\n",
       " diff(H0(r), r): 1/2*(2*r^2*ω^2*bb(r)*diff(G(r), r) + 2*r^2*ω^2*G(r)*diff(bb(r), r) + 4*r*ω^2*G(r)*bb(r) + 2*bb(r)*f(r)*diff(H0n(r), r) + 2*H0n(r)*f(r)*diff(bb(r), r) - 4*I*ω*h0(r)*diff(bb(r), r) + 2*H0n(r)*bb(r)*diff(f(r), r) - 4*I*ω*bb(r)*diff(h0(r), r) + (r^2*diff(G(r), r, r) + 2*r*diff(G(r), r) - 2*diff(h1(r), r))*diff(f(r), r) + (r^2*diff(G(r), r) - 2*h1(r))*diff(f(r), r, r))/(bb(r)*f(r)) - 1/2*(2*r^2*ω^2*G(r)*bb(r) + 2*H0n(r)*bb(r)*f(r) - 4*I*ω*bb(r)*h0(r) + (r^2*diff(G(r), r) - 2*h1(r))*diff(f(r), r))*diff(bb(r), r)/(bb(r)^2*f(r)) - 1/2*(2*r^2*ω^2*G(r)*bb(r) + 2*H0n(r)*bb(r)*f(r) - 4*I*ω*bb(r)*h0(r) + (r^2*diff(G(r), r) - 2*h1(r))*diff(f(r), r))*diff(f(r), r)/(bb(r)*f(r)^2),\n",
       " H1(r): 1/2*((2*I*r^2*f(r)*diff(G(r), r) - I*r^2*G(r)*diff(f(r), r) + 2*I*r*G(r)*f(r) - 2*I*f(r)*h1(r))*ω + 2*H1n(r)*f(r) - 2*h0(r)*diff(f(r), r) + 2*f(r)*diff(h0(r), r))/f(r),\n",
       " diff(H1(r), r): 1/2*((2*I*r^2*f(r)*diff(G(r), r, r) + I*r^2*diff(G(r), r)*diff(f(r), r) - I*r^2*G(r)*diff(f(r), r, r) + 6*I*r*f(r)*diff(G(r), r) + 2*I*G(r)*f(r) - 2*I*h1(r)*diff(f(r), r) - 2*I*f(r)*diff(h1(r), r))*ω + 2*f(r)*diff(H1n(r), r) + 2*H1n(r)*diff(f(r), r) - 2*h0(r)*diff(f(r), r, r) + 2*f(r)*diff(h0(r), r, r))/f(r) - 1/2*((2*I*r^2*f(r)*diff(G(r), r) - I*r^2*G(r)*diff(f(r), r) + 2*I*r*G(r)*f(r) - 2*I*f(r)*h1(r))*ω + 2*H1n(r)*f(r) - 2*h0(r)*diff(f(r), r) + 2*f(r)*diff(h0(r), r))*diff(f(r), r)/f(r)^2,\n",
       " H2(r): -1/2*(2*r^2*bb(r)*diff(G(r), r, r) - 2*H2n(r)*bb(r)^2 + 4*r*bb(r)*diff(G(r), r) - (r^2*diff(G(r), r) - 2*h1(r))*diff(bb(r), r) - 4*bb(r)*diff(h1(r), r))/bb(r)^2,\n",
       " diff(H2(r), r): -1/2*(2*r^2*bb(r)*diff(G(r), r, r, r) + 2*r^2*diff(G(r), r, r)*diff(bb(r), r) + 8*r*bb(r)*diff(G(r), r, r) - 2*bb(r)^2*diff(H2n(r), r) - 4*H2n(r)*bb(r)*diff(bb(r), r) + 4*r*diff(G(r), r)*diff(bb(r), r) + 4*bb(r)*diff(G(r), r) - (r^2*diff(G(r), r, r) + 2*r*diff(G(r), r) - 2*diff(h1(r), r))*diff(bb(r), r) - (r^2*diff(G(r), r) - 2*h1(r))*diff(bb(r), r, r) - 4*diff(bb(r), r)*diff(h1(r), r) - 4*bb(r)*diff(h1(r), r, r))/bb(r)^2 + (2*r^2*bb(r)*diff(G(r), r, r) - 2*H2n(r)*bb(r)^2 + 4*r*bb(r)*diff(G(r), r) - (r^2*diff(G(r), r) - 2*h1(r))*diff(bb(r), r) - 4*bb(r)*diff(h1(r), r))*diff(bb(r), r)/bb(r)^3,\n",
       " K(r): (r*Kn(r)*bb(r) - r^2*diff(G(r), r) + 2*h1(r))/(r*bb(r)),\n",
       " diff(K(r), r): -(r^2*diff(G(r), r, r) - r*bb(r)*diff(Kn(r), r) - r*Kn(r)*diff(bb(r), r) - Kn(r)*bb(r) + 2*r*diff(G(r), r) - 2*diff(h1(r), r))/(r*bb(r)) - (r*Kn(r)*bb(r) - r^2*diff(G(r), r) + 2*h1(r))*diff(bb(r), r)/(r*bb(r)^2) - (r*Kn(r)*bb(r) - r^2*diff(G(r), r) + 2*h1(r))/(r^2*bb(r))}"
      ]
     },
     "execution_count": 58,
     "metadata": {},
     "output_type": "execute_result"
    }
   ],
   "source": [
    "eq_H0"
   ]
  },
  {
   "cell_type": "markdown",
   "metadata": {},
   "source": [
    "Substituindo as expressões para as funções $H_0(r)$, $H_1(r)$, $H_2(r)$ e $K(r)$, bem como suas respectivas derivadas, teremos a nova expressão para a perturbação $h^{par}_{\\mu \\nu}$:"
   ]
  },
  {
   "cell_type": "code",
   "execution_count": 59,
   "metadata": {},
   "outputs": [],
   "source": [
    "h_par_new = h_par.apply_map(lambda q: q.subs(eq_H0).expand())"
   ]
  },
  {
   "cell_type": "code",
   "execution_count": 60,
   "metadata": {},
   "outputs": [
    {
     "data": {
      "text/html": [
       "<html>\\(\\displaystyle \\left(\\begin{array}{rrrr}\n",
       "{\\epsilon} \\tilde{H}_0\\left(r\\right) P_\\ell\\left({θ}\\right) e^{\\left(-i \\, t ω - i \\, m {ϕ}\\right)} f\\left(r\\right) & {\\epsilon} \\tilde{H}_1\\left(r\\right) P_\\ell\\left({θ}\\right) e^{\\left(-i \\, t ω - i \\, m {ϕ}\\right)} & 0 & 0 \\\\\n",
       "{\\epsilon} \\tilde{H}_1\\left(r\\right) P_\\ell\\left({θ}\\right) e^{\\left(-i \\, t ω - i \\, m {ϕ}\\right)} & {\\epsilon} \\tilde{H}_2\\left(r\\right) P_\\ell\\left({θ}\\right) {\\rm bb}\\left(r\\right) e^{\\left(-i \\, t ω - i \\, m {ϕ}\\right)} & 0 & 0 \\\\\n",
       "0 & 0 & {\\epsilon} r^{2} \\tilde{K}\\left(r\\right) P_\\ell\\left({θ}\\right) e^{\\left(-i \\, t ω - i \\, m {ϕ}\\right)} & 0 \\\\\n",
       "0 & 0 & 0 & {\\epsilon} r^{2} \\tilde{K}\\left(r\\right) P_\\ell\\left({θ}\\right) e^{\\left(-i \\, t ω - i \\, m {ϕ}\\right)} \\sin\\left({θ}\\right)^{2}\n",
       "\\end{array}\\right)\\)</html>"
      ],
      "text/latex": [
       "$\\displaystyle \\left(\\begin{array}{rrrr}\n",
       "{\\epsilon} \\tilde{H}_0\\left(r\\right) P_\\ell\\left({θ}\\right) e^{\\left(-i \\, t ω - i \\, m {ϕ}\\right)} f\\left(r\\right) & {\\epsilon} \\tilde{H}_1\\left(r\\right) P_\\ell\\left({θ}\\right) e^{\\left(-i \\, t ω - i \\, m {ϕ}\\right)} & 0 & 0 \\\\\n",
       "{\\epsilon} \\tilde{H}_1\\left(r\\right) P_\\ell\\left({θ}\\right) e^{\\left(-i \\, t ω - i \\, m {ϕ}\\right)} & {\\epsilon} \\tilde{H}_2\\left(r\\right) P_\\ell\\left({θ}\\right) {\\rm bb}\\left(r\\right) e^{\\left(-i \\, t ω - i \\, m {ϕ}\\right)} & 0 & 0 \\\\\n",
       "0 & 0 & {\\epsilon} r^{2} \\tilde{K}\\left(r\\right) P_\\ell\\left({θ}\\right) e^{\\left(-i \\, t ω - i \\, m {ϕ}\\right)} & 0 \\\\\n",
       "0 & 0 & 0 & {\\epsilon} r^{2} \\tilde{K}\\left(r\\right) P_\\ell\\left({θ}\\right) e^{\\left(-i \\, t ω - i \\, m {ϕ}\\right)} \\sin\\left({θ}\\right)^{2}\n",
       "\\end{array}\\right)$"
      ],
      "text/plain": [
       "[       ep*H0n(r)*PL(θ)*e^(-I*t*ω - I*m*ϕ)*f(r)             ep*H1n(r)*PL(θ)*e^(-I*t*ω - I*m*ϕ)                                              0                                              0]\n",
       "[            ep*H1n(r)*PL(θ)*e^(-I*t*ω - I*m*ϕ)       ep*H2n(r)*PL(θ)*bb(r)*e^(-I*t*ω - I*m*ϕ)                                              0                                              0]\n",
       "[                                             0                                              0          ep*r^2*Kn(r)*PL(θ)*e^(-I*t*ω - I*m*ϕ)                                              0]\n",
       "[                                             0                                              0                                              0 ep*r^2*Kn(r)*PL(θ)*e^(-I*t*ω - I*m*ϕ)*sin(θ)^2]"
      ]
     },
     "execution_count": 60,
     "metadata": {},
     "output_type": "execute_result"
    }
   ],
   "source": [
    "h_par_new[:]"
   ]
  },
  {
   "cell_type": "code",
   "execution_count": 61,
   "metadata": {},
   "outputs": [
    {
     "data": {
      "text/html": [
       "<html>\\(\\displaystyle {\\epsilon} r^{2} \\tilde{K}\\left(r\\right) P_\\ell\\left({θ}\\right) e^{\\left(-i \\, t ω - i \\, m {ϕ}\\right)}\\)</html>"
      ],
      "text/latex": [
       "$\\displaystyle {\\epsilon} r^{2} \\tilde{K}\\left(r\\right) P_\\ell\\left({θ}\\right) e^{\\left(-i \\, t ω - i \\, m {ϕ}\\right)}$"
      ],
      "text/plain": [
       "ep*r^2*Kn(r)*PL(θ)*e^(-I*t*ω - I*m*ϕ)"
      ]
     },
     "execution_count": 61,
     "metadata": {},
     "output_type": "execute_result"
    }
   ],
   "source": [
    "h_par_new[2,2].expand().simplify()"
   ]
  },
  {
   "cell_type": "markdown",
   "metadata": {},
   "source": [
    "Por se tratarem de funções arbitrárias até o momento, podemos retornar as funções $\\tilde{H}_0(r)$, $\\tilde{H}_1(r)$, $\\tilde{H}_2(r)$ e $\\tilde{K}(r)$ para as respectivas representações $H_0(r)$, $H_1(r)$, $H_2(r)$ e $K(r)$. Dessa forma, temos a forma da métrica perturbada par - $h_{\\mu \\nu}^{par}$ - no gauge de Regge-Wheeler:"
   ]
  },
  {
   "cell_type": "code",
   "execution_count": 62,
   "metadata": {},
   "outputs": [],
   "source": [
    "h_par_new = h_par_new.apply_map(lambda q: q.subs({H0n : H0, H1n : H1, H2n: H2, Kn: K}).expand())"
   ]
  },
  {
   "cell_type": "code",
   "execution_count": 63,
   "metadata": {},
   "outputs": [
    {
     "data": {
      "text/html": [
       "<html>\\(\\displaystyle \\left(\\begin{array}{rrrr}\n",
       "{\\epsilon} H_0\\left(r\\right) P_\\ell\\left({θ}\\right) e^{\\left(-i \\, t ω - i \\, m {ϕ}\\right)} f\\left(r\\right) & {\\epsilon} H_1\\left(r\\right) P_\\ell\\left({θ}\\right) e^{\\left(-i \\, t ω - i \\, m {ϕ}\\right)} & 0 & 0 \\\\\n",
       "{\\epsilon} H_1\\left(r\\right) P_\\ell\\left({θ}\\right) e^{\\left(-i \\, t ω - i \\, m {ϕ}\\right)} & {\\epsilon} H_2\\left(r\\right) P_\\ell\\left({θ}\\right) {\\rm bb}\\left(r\\right) e^{\\left(-i \\, t ω - i \\, m {ϕ}\\right)} & 0 & 0 \\\\\n",
       "0 & 0 & {\\epsilon} r^{2} K\\left(r\\right) P_\\ell\\left({θ}\\right) e^{\\left(-i \\, t ω - i \\, m {ϕ}\\right)} & 0 \\\\\n",
       "0 & 0 & 0 & {\\epsilon} r^{2} K\\left(r\\right) P_\\ell\\left({θ}\\right) e^{\\left(-i \\, t ω - i \\, m {ϕ}\\right)} \\sin\\left({θ}\\right)^{2}\n",
       "\\end{array}\\right)\\)</html>"
      ],
      "text/latex": [
       "$\\displaystyle \\left(\\begin{array}{rrrr}\n",
       "{\\epsilon} H_0\\left(r\\right) P_\\ell\\left({θ}\\right) e^{\\left(-i \\, t ω - i \\, m {ϕ}\\right)} f\\left(r\\right) & {\\epsilon} H_1\\left(r\\right) P_\\ell\\left({θ}\\right) e^{\\left(-i \\, t ω - i \\, m {ϕ}\\right)} & 0 & 0 \\\\\n",
       "{\\epsilon} H_1\\left(r\\right) P_\\ell\\left({θ}\\right) e^{\\left(-i \\, t ω - i \\, m {ϕ}\\right)} & {\\epsilon} H_2\\left(r\\right) P_\\ell\\left({θ}\\right) {\\rm bb}\\left(r\\right) e^{\\left(-i \\, t ω - i \\, m {ϕ}\\right)} & 0 & 0 \\\\\n",
       "0 & 0 & {\\epsilon} r^{2} K\\left(r\\right) P_\\ell\\left({θ}\\right) e^{\\left(-i \\, t ω - i \\, m {ϕ}\\right)} & 0 \\\\\n",
       "0 & 0 & 0 & {\\epsilon} r^{2} K\\left(r\\right) P_\\ell\\left({θ}\\right) e^{\\left(-i \\, t ω - i \\, m {ϕ}\\right)} \\sin\\left({θ}\\right)^{2}\n",
       "\\end{array}\\right)$"
      ],
      "text/plain": [
       "[       ep*H0(r)*PL(θ)*e^(-I*t*ω - I*m*ϕ)*f(r)             ep*H1(r)*PL(θ)*e^(-I*t*ω - I*m*ϕ)                                             0                                             0]\n",
       "[            ep*H1(r)*PL(θ)*e^(-I*t*ω - I*m*ϕ)       ep*H2(r)*PL(θ)*bb(r)*e^(-I*t*ω - I*m*ϕ)                                             0                                             0]\n",
       "[                                            0                                             0          ep*r^2*K(r)*PL(θ)*e^(-I*t*ω - I*m*ϕ)                                             0]\n",
       "[                                            0                                             0                                             0 ep*r^2*K(r)*PL(θ)*e^(-I*t*ω - I*m*ϕ)*sin(θ)^2]"
      ]
     },
     "execution_count": 63,
     "metadata": {},
     "output_type": "execute_result"
    }
   ],
   "source": [
    "h_par_new[:]"
   ]
  },
  {
   "cell_type": "markdown",
   "metadata": {},
   "source": [
    "___"
   ]
  },
  {
   "cell_type": "markdown",
   "metadata": {},
   "source": [
    "## Construção da métrica perturbada ímpar $h_{\\mu \\nu}^{impar}$"
   ]
  },
  {
   "cell_type": "markdown",
   "metadata": {},
   "source": [
    "Seguiremos os mesmos passos feitos anteriormente, agora para a a perturbação ímpar. Definindo o campo vetorial $\\eta$ para perturbação $h_{\\mu \\nu}^{impar}$, juntamente com a definição da função $\\Lambda(r)$:"
   ]
  },
  {
   "cell_type": "code",
   "execution_count": 64,
   "metadata": {},
   "outputs": [],
   "source": [
    "Lambda = function('Lambda', latex_name=r'\\Lambda')(r)"
   ]
  },
  {
   "cell_type": "code",
   "execution_count": 65,
   "metadata": {},
   "outputs": [
    {
     "data": {
      "text/html": [
       "<html>\\(\\displaystyle \\left[0, 0, \\frac{i \\, m \\Lambda\\left(r\\right) P_\\ell\\left({θ}\\right) e^{\\left(-i \\, t ω - i \\, m {ϕ}\\right)}}{r^{2} \\sin\\left({θ}\\right)}, \\frac{\\Lambda\\left(r\\right) e^{\\left(-i \\, t ω - i \\, m {ϕ}\\right)} \\frac{\\partial}{\\partial {θ}}P_\\ell\\left({θ}\\right)}{r^{2} \\sin\\left({θ}\\right)}\\right]\\)</html>"
      ],
      "text/latex": [
       "$\\displaystyle \\left[0, 0, \\frac{i \\, m \\Lambda\\left(r\\right) P_\\ell\\left({θ}\\right) e^{\\left(-i \\, t ω - i \\, m {ϕ}\\right)}}{r^{2} \\sin\\left({θ}\\right)}, \\frac{\\Lambda\\left(r\\right) e^{\\left(-i \\, t ω - i \\, m {ϕ}\\right)} \\frac{\\partial}{\\partial {θ}}P_\\ell\\left({θ}\\right)}{r^{2} \\sin\\left({θ}\\right)}\\right]$"
      ],
      "text/plain": [
       "[0,\n",
       " 0,\n",
       " I*m*Lambda(r)*PL(θ)*e^(-I*t*ω - I*m*ϕ)/(r^2*sin(θ)),\n",
       " Lambda(r)*e^(-I*t*ω - I*m*ϕ)*diff(PL(θ), θ)/(r^2*sin(θ))]"
      ]
     },
     "execution_count": 65,
     "metadata": {},
     "output_type": "execute_result"
    }
   ],
   "source": [
    "η_lista = [0, 0, -(Lambda*diff(YLM, ϕ))/(r^2*sin(θ)), (Lambda*diff(YLM, θ))/(r^2*sin(θ))]\n",
    "η_lista"
   ]
  },
  {
   "cell_type": "markdown",
   "metadata": {},
   "source": [
    "$\\eta = \\eta^0 \\frac{\\partial}{\\partial t} + \\eta^1 \\frac{\\partial}{\\partial r} + \\eta^2 \\frac{\\partial}{\\partial \\theta} + \\eta^3 \\frac{\\partial}{\\partial \\phi}$:"
   ]
  },
  {
   "cell_type": "code",
   "execution_count": 66,
   "metadata": {},
   "outputs": [
    {
     "data": {
      "text/html": [
       "<html>\\(\\displaystyle η = \\frac{i \\, m \\Lambda\\left(r\\right) P_\\ell\\left({θ}\\right) e^{\\left(-i \\, t ω - i \\, m {ϕ}\\right)}}{r^{2} \\sin\\left({θ}\\right)} \\frac{\\partial}{\\partial {θ} } + \\frac{\\Lambda\\left(r\\right) e^{\\left(-i \\, t ω - i \\, m {ϕ}\\right)} \\frac{\\partial\\,P_\\ell}{\\partial {θ}}}{r^{2} \\sin\\left({θ}\\right)} \\frac{\\partial}{\\partial {ϕ} }\\)</html>"
      ],
      "text/latex": [
       "$\\displaystyle η = \\frac{i \\, m \\Lambda\\left(r\\right) P_\\ell\\left({θ}\\right) e^{\\left(-i \\, t ω - i \\, m {ϕ}\\right)}}{r^{2} \\sin\\left({θ}\\right)} \\frac{\\partial}{\\partial {θ} } + \\frac{\\Lambda\\left(r\\right) e^{\\left(-i \\, t ω - i \\, m {ϕ}\\right)} \\frac{\\partial\\,P_\\ell}{\\partial {θ}}}{r^{2} \\sin\\left({θ}\\right)} \\frac{\\partial}{\\partial {ϕ} }$"
      ],
      "text/plain": [
       "η = I*m*Lambda(r)*PL(θ)*e^(-I*t*ω - I*m*ϕ)/(r^2*sin(θ)) ∂/∂θ + Lambda(r)*e^(-I*t*ω - I*m*ϕ)*d(PL)/dθ/(r^2*sin(θ)) ∂/∂ϕ"
      ]
     },
     "execution_count": 66,
     "metadata": {},
     "output_type": "execute_result"
    }
   ],
   "source": [
    "η = M.vector_field(*η_lista, name='η')\n",
    "η.display()"
   ]
  },
  {
   "cell_type": "markdown",
   "metadata": {},
   "source": [
    "Baixando o indice de $\\eta$, da forma $\\eta_{\\mu} = g_{\\nu \\mu}\\eta^{\\nu}$:"
   ]
  },
  {
   "cell_type": "code",
   "execution_count": 67,
   "metadata": {},
   "outputs": [
    {
     "data": {
      "text/html": [
       "<html>\\(\\displaystyle \\frac{i \\, m \\Lambda\\left(r\\right) P_\\ell\\left({θ}\\right) e^{\\left(-i \\, t ω - i \\, m {ϕ}\\right)}}{\\sin\\left({θ}\\right)} \\mathrm{d} {θ} + \\Lambda\\left(r\\right) e^{\\left(-i \\, t ω - i \\, m {ϕ}\\right)} \\sin\\left({θ}\\right) \\frac{\\partial\\,P_\\ell}{\\partial {θ}} \\mathrm{d} {ϕ}\\)</html>"
      ],
      "text/latex": [
       "$\\displaystyle \\frac{i \\, m \\Lambda\\left(r\\right) P_\\ell\\left({θ}\\right) e^{\\left(-i \\, t ω - i \\, m {ϕ}\\right)}}{\\sin\\left({θ}\\right)} \\mathrm{d} {θ} + \\Lambda\\left(r\\right) e^{\\left(-i \\, t ω - i \\, m {ϕ}\\right)} \\sin\\left({θ}\\right) \\frac{\\partial\\,P_\\ell}{\\partial {θ}} \\mathrm{d} {ϕ}$"
      ],
      "text/plain": [
       "I*m*Lambda(r)*PL(θ)*e^(-I*t*ω - I*m*ϕ)/sin(θ) dθ + Lambda(r)*e^(-I*t*ω - I*m*ϕ)*sin(θ)*d(PL)/dθ dϕ"
      ]
     },
     "execution_count": 67,
     "metadata": {},
     "output_type": "execute_result"
    }
   ],
   "source": [
    "η_d = η.down(g)\n",
    "η_d.display()"
   ]
  },
  {
   "cell_type": "markdown",
   "metadata": {},
   "source": [
    "Ao definir uma pequena variação para a perturbação ímpar dada por \n",
    "\n",
    "$$\\delta h^{impar}_{\\mu \\nu} = \\nabla_{\\mu}\\eta_{\\nu} + \\nabla_{\\nu}\\eta_{\\mu}$$\n",
    "\n",
    "Sua simetrização com respeito à métrica $g_{\\mu \\nu}$ será:"
   ]
  },
  {
   "cell_type": "code",
   "execution_count": 68,
   "metadata": {},
   "outputs": [],
   "source": [
    "dh_impar = (nab(η_d).symmetrize())*2 #D_a \\eta_b + D_b \\eta_a"
   ]
  },
  {
   "cell_type": "markdown",
   "metadata": {},
   "source": [
    "Substituindo a expressão de $\\frac{\\partial^2 P_{\\ell}}{\\partial \\theta^2}$ na variação:"
   ]
  },
  {
   "cell_type": "code",
   "execution_count": 69,
   "metadata": {},
   "outputs": [],
   "source": [
    "dh_impar.apply_map(lambda q: q.subs({diff(PL, θ, 2) : PLdd}))"
   ]
  },
  {
   "cell_type": "code",
   "execution_count": 70,
   "metadata": {},
   "outputs": [
    {
     "data": {
      "text/html": [
       "<html>\\(\\displaystyle \\left(\\begin{array}{rrrr}\n",
       "0 & 0 & \\frac{m ω \\Lambda\\left(r\\right) P_\\ell\\left({θ}\\right) e^{\\left(-i \\, t ω - i \\, m {ϕ}\\right)}}{\\sin\\left({θ}\\right)} & -i \\, ω \\Lambda\\left(r\\right) e^{\\left(-i \\, t ω - i \\, m {ϕ}\\right)} \\sin\\left({θ}\\right) \\frac{\\partial\\,P_\\ell}{\\partial {θ}} \\\\\n",
       "0 & 0 & \\frac{{\\left(i \\, m r \\frac{\\partial\\,\\Lambda}{\\partial r} - 2 i \\, m \\Lambda\\left(r\\right)\\right)} P_\\ell\\left({θ}\\right) e^{\\left(-i \\, t ω - i \\, m {ϕ}\\right)}}{r \\sin\\left({θ}\\right)} & \\frac{{\\left(r \\frac{\\partial\\,\\Lambda}{\\partial r} - 2 \\, \\Lambda\\left(r\\right)\\right)} e^{\\left(-i \\, t ω - i \\, m {ϕ}\\right)} \\sin\\left({θ}\\right) \\frac{\\partial\\,P_\\ell}{\\partial {θ}}}{r} \\\\\n",
       "\\frac{m ω \\Lambda\\left(r\\right) P_\\ell\\left({θ}\\right) e^{\\left(-i \\, t ω - i \\, m {ϕ}\\right)}}{\\sin\\left({θ}\\right)} & \\frac{{\\left(i \\, m r \\frac{\\partial\\,\\Lambda}{\\partial r} - 2 i \\, m \\Lambda\\left(r\\right)\\right)} P_\\ell\\left({θ}\\right) e^{\\left(-i \\, t ω - i \\, m {ϕ}\\right)}}{r \\sin\\left({θ}\\right)} & -\\frac{2 \\, {\\left(i \\, m \\Lambda\\left(r\\right) P_\\ell\\left({θ}\\right) \\cos\\left({θ}\\right) - i \\, m \\Lambda\\left(r\\right) \\sin\\left({θ}\\right) \\frac{\\partial\\,P_\\ell}{\\partial {θ}}\\right)} e^{\\left(-i \\, t ω - i \\, m {ϕ}\\right)}}{\\sin\\left({θ}\\right)^{2}} & \\frac{{\\left(m^{2} \\Lambda\\left(r\\right) P_\\ell\\left({θ}\\right) + {\\left({\\left(m^{2} {\\rm Csc}\\left({θ}\\right)^{2} - \\mathit{ll}\\right)} P_\\ell\\left({θ}\\right) - {\\rm Cot}\\left({θ}\\right) \\frac{\\partial\\,P_\\ell}{\\partial {θ}}\\right)} \\Lambda\\left(r\\right) \\sin\\left({θ}\\right)^{2} - \\Lambda\\left(r\\right) \\cos\\left({θ}\\right) \\sin\\left({θ}\\right) \\frac{\\partial\\,P_\\ell}{\\partial {θ}}\\right)} e^{\\left(-i \\, t ω - i \\, m {ϕ}\\right)}}{\\sin\\left({θ}\\right)} \\\\\n",
       "-i \\, ω \\Lambda\\left(r\\right) e^{\\left(-i \\, t ω - i \\, m {ϕ}\\right)} \\sin\\left({θ}\\right) \\frac{\\partial\\,P_\\ell}{\\partial {θ}} & \\frac{{\\left(r \\frac{\\partial\\,\\Lambda}{\\partial r} - 2 \\, \\Lambda\\left(r\\right)\\right)} e^{\\left(-i \\, t ω - i \\, m {ϕ}\\right)} \\sin\\left({θ}\\right) \\frac{\\partial\\,P_\\ell}{\\partial {θ}}}{r} & \\frac{{\\left(m^{2} \\Lambda\\left(r\\right) P_\\ell\\left({θ}\\right) + {\\left({\\left(m^{2} {\\rm Csc}\\left({θ}\\right)^{2} - \\mathit{ll}\\right)} P_\\ell\\left({θ}\\right) - {\\rm Cot}\\left({θ}\\right) \\frac{\\partial\\,P_\\ell}{\\partial {θ}}\\right)} \\Lambda\\left(r\\right) \\sin\\left({θ}\\right)^{2} - \\Lambda\\left(r\\right) \\cos\\left({θ}\\right) \\sin\\left({θ}\\right) \\frac{\\partial\\,P_\\ell}{\\partial {θ}}\\right)} e^{\\left(-i \\, t ω - i \\, m {ϕ}\\right)}}{\\sin\\left({θ}\\right)} & -2 \\, {\\left(-i \\, m \\Lambda\\left(r\\right) P_\\ell\\left({θ}\\right) \\cos\\left({θ}\\right) + i \\, m \\Lambda\\left(r\\right) \\sin\\left({θ}\\right) \\frac{\\partial\\,P_\\ell}{\\partial {θ}}\\right)} e^{\\left(-i \\, t ω - i \\, m {ϕ}\\right)}\n",
       "\\end{array}\\right)\\)</html>"
      ],
      "text/latex": [
       "$\\displaystyle \\left(\\begin{array}{rrrr}\n",
       "0 & 0 & \\frac{m ω \\Lambda\\left(r\\right) P_\\ell\\left({θ}\\right) e^{\\left(-i \\, t ω - i \\, m {ϕ}\\right)}}{\\sin\\left({θ}\\right)} & -i \\, ω \\Lambda\\left(r\\right) e^{\\left(-i \\, t ω - i \\, m {ϕ}\\right)} \\sin\\left({θ}\\right) \\frac{\\partial\\,P_\\ell}{\\partial {θ}} \\\\\n",
       "0 & 0 & \\frac{{\\left(i \\, m r \\frac{\\partial\\,\\Lambda}{\\partial r} - 2 i \\, m \\Lambda\\left(r\\right)\\right)} P_\\ell\\left({θ}\\right) e^{\\left(-i \\, t ω - i \\, m {ϕ}\\right)}}{r \\sin\\left({θ}\\right)} & \\frac{{\\left(r \\frac{\\partial\\,\\Lambda}{\\partial r} - 2 \\, \\Lambda\\left(r\\right)\\right)} e^{\\left(-i \\, t ω - i \\, m {ϕ}\\right)} \\sin\\left({θ}\\right) \\frac{\\partial\\,P_\\ell}{\\partial {θ}}}{r} \\\\\n",
       "\\frac{m ω \\Lambda\\left(r\\right) P_\\ell\\left({θ}\\right) e^{\\left(-i \\, t ω - i \\, m {ϕ}\\right)}}{\\sin\\left({θ}\\right)} & \\frac{{\\left(i \\, m r \\frac{\\partial\\,\\Lambda}{\\partial r} - 2 i \\, m \\Lambda\\left(r\\right)\\right)} P_\\ell\\left({θ}\\right) e^{\\left(-i \\, t ω - i \\, m {ϕ}\\right)}}{r \\sin\\left({θ}\\right)} & -\\frac{2 \\, {\\left(i \\, m \\Lambda\\left(r\\right) P_\\ell\\left({θ}\\right) \\cos\\left({θ}\\right) - i \\, m \\Lambda\\left(r\\right) \\sin\\left({θ}\\right) \\frac{\\partial\\,P_\\ell}{\\partial {θ}}\\right)} e^{\\left(-i \\, t ω - i \\, m {ϕ}\\right)}}{\\sin\\left({θ}\\right)^{2}} & \\frac{{\\left(m^{2} \\Lambda\\left(r\\right) P_\\ell\\left({θ}\\right) + {\\left({\\left(m^{2} {\\rm Csc}\\left({θ}\\right)^{2} - \\mathit{ll}\\right)} P_\\ell\\left({θ}\\right) - {\\rm Cot}\\left({θ}\\right) \\frac{\\partial\\,P_\\ell}{\\partial {θ}}\\right)} \\Lambda\\left(r\\right) \\sin\\left({θ}\\right)^{2} - \\Lambda\\left(r\\right) \\cos\\left({θ}\\right) \\sin\\left({θ}\\right) \\frac{\\partial\\,P_\\ell}{\\partial {θ}}\\right)} e^{\\left(-i \\, t ω - i \\, m {ϕ}\\right)}}{\\sin\\left({θ}\\right)} \\\\\n",
       "-i \\, ω \\Lambda\\left(r\\right) e^{\\left(-i \\, t ω - i \\, m {ϕ}\\right)} \\sin\\left({θ}\\right) \\frac{\\partial\\,P_\\ell}{\\partial {θ}} & \\frac{{\\left(r \\frac{\\partial\\,\\Lambda}{\\partial r} - 2 \\, \\Lambda\\left(r\\right)\\right)} e^{\\left(-i \\, t ω - i \\, m {ϕ}\\right)} \\sin\\left({θ}\\right) \\frac{\\partial\\,P_\\ell}{\\partial {θ}}}{r} & \\frac{{\\left(m^{2} \\Lambda\\left(r\\right) P_\\ell\\left({θ}\\right) + {\\left({\\left(m^{2} {\\rm Csc}\\left({θ}\\right)^{2} - \\mathit{ll}\\right)} P_\\ell\\left({θ}\\right) - {\\rm Cot}\\left({θ}\\right) \\frac{\\partial\\,P_\\ell}{\\partial {θ}}\\right)} \\Lambda\\left(r\\right) \\sin\\left({θ}\\right)^{2} - \\Lambda\\left(r\\right) \\cos\\left({θ}\\right) \\sin\\left({θ}\\right) \\frac{\\partial\\,P_\\ell}{\\partial {θ}}\\right)} e^{\\left(-i \\, t ω - i \\, m {ϕ}\\right)}}{\\sin\\left({θ}\\right)} & -2 \\, {\\left(-i \\, m \\Lambda\\left(r\\right) P_\\ell\\left({θ}\\right) \\cos\\left({θ}\\right) + i \\, m \\Lambda\\left(r\\right) \\sin\\left({θ}\\right) \\frac{\\partial\\,P_\\ell}{\\partial {θ}}\\right)} e^{\\left(-i \\, t ω - i \\, m {ϕ}\\right)}\n",
       "\\end{array}\\right)$"
      ],
      "text/plain": [
       "[                                                                                                                                                    0                                                                                                                                                     0                                                                                                         m*ω*Lambda(r)*PL(θ)*e^(-I*t*ω - I*m*ϕ)/sin(θ)                                                                                                     -I*ω*Lambda(r)*e^(-I*t*ω - I*m*ϕ)*sin(θ)*d(PL)/dθ]\n",
       "[                                                                                                                                                    0                                                                                                                                                     0                                                                            (I*m*r*d(Lambda)/dr - 2*I*m*Lambda(r))*PL(θ)*e^(-I*t*ω - I*m*ϕ)/(r*sin(θ))                                                                                   (r*d(Lambda)/dr - 2*Lambda(r))*e^(-I*t*ω - I*m*ϕ)*sin(θ)*d(PL)/dθ/r]\n",
       "[                                                                                                        m*ω*Lambda(r)*PL(θ)*e^(-I*t*ω - I*m*ϕ)/sin(θ)                                                                            (I*m*r*d(Lambda)/dr - 2*I*m*Lambda(r))*PL(θ)*e^(-I*t*ω - I*m*ϕ)/(r*sin(θ))                                                           -2*(I*m*Lambda(r)*PL(θ)*cos(θ) - I*m*Lambda(r)*sin(θ)*d(PL)/dθ)*e^(-I*t*ω - I*m*ϕ)/sin(θ)^2 (m^2*Lambda(r)*PL(θ) + ((m^2*Csc(θ)^2 - ll)*PL(θ) - Cot(θ)*d(PL)/dθ)*Lambda(r)*sin(θ)^2 - Lambda(r)*cos(θ)*sin(θ)*d(PL)/dθ)*e^(-I*t*ω - I*m*ϕ)/sin(θ)]\n",
       "[                                                                                                    -I*ω*Lambda(r)*e^(-I*t*ω - I*m*ϕ)*sin(θ)*d(PL)/dθ                                                                                   (r*d(Lambda)/dr - 2*Lambda(r))*e^(-I*t*ω - I*m*ϕ)*sin(θ)*d(PL)/dθ/r (m^2*Lambda(r)*PL(θ) + ((m^2*Csc(θ)^2 - ll)*PL(θ) - Cot(θ)*d(PL)/dθ)*Lambda(r)*sin(θ)^2 - Lambda(r)*cos(θ)*sin(θ)*d(PL)/dθ)*e^(-I*t*ω - I*m*ϕ)/sin(θ)                                                                   -2*(-I*m*Lambda(r)*PL(θ)*cos(θ) + I*m*Lambda(r)*sin(θ)*d(PL)/dθ)*e^(-I*t*ω - I*m*ϕ)]"
      ]
     },
     "execution_count": 70,
     "metadata": {},
     "output_type": "execute_result"
    }
   ],
   "source": [
    "dh_impar[:]"
   ]
  },
  {
   "cell_type": "markdown",
   "metadata": {},
   "source": [
    "Definindo a perturbação geral ímpar da forma \n",
    "\n",
    "$$h_{\\mu \\nu}^{impar} = \\tilde{h}_{\\mu \\nu}^{impar} + \\epsilon \\delta h^{impar}_{\\mu \\nu}$$"
   ]
  },
  {
   "cell_type": "code",
   "execution_count": 71,
   "metadata": {},
   "outputs": [],
   "source": [
    "h_impar  = hi[:] + ep*dh_impar[:]"
   ]
  },
  {
   "cell_type": "code",
   "execution_count": 72,
   "metadata": {},
   "outputs": [
    {
     "data": {
      "text/html": [
       "<html>\\(\\displaystyle \\left(\\begin{array}{rrrr}\n",
       "0 & 0 & \\frac{{\\left(i \\, {\\epsilon} m {\\rm Csc}\\left({θ}\\right) P_\\ell\\left({θ}\\right) hh_0\\left(r\\right) \\sin\\left({θ}\\right) + {\\epsilon} m ω \\Lambda\\left(r\\right) P_\\ell\\left({θ}\\right)\\right)} e^{\\left(-i \\, t ω - i \\, m {ϕ}\\right)}}{\\sin\\left({θ}\\right)} & {\\left(-i \\, {\\epsilon} ω \\Lambda\\left(r\\right) \\sin\\left({θ}\\right) \\frac{\\partial\\,P_\\ell}{\\partial {θ}} + {\\epsilon} hh_0\\left(r\\right) \\sin\\left({θ}\\right) \\frac{\\partial\\,P_\\ell}{\\partial {θ}}\\right)} e^{\\left(-i \\, t ω - i \\, m {ϕ}\\right)} \\\\\n",
       "0 & 0 & \\frac{{\\left(i \\, {\\epsilon} m r {\\rm Csc}\\left({θ}\\right) P_\\ell\\left({θ}\\right) hh_1\\left(r\\right) \\sin\\left({θ}\\right) + {\\left(i \\, {\\epsilon} m r \\frac{\\partial\\,\\Lambda}{\\partial r} - 2 i \\, {\\epsilon} m \\Lambda\\left(r\\right)\\right)} P_\\ell\\left({θ}\\right)\\right)} e^{\\left(-i \\, t ω - i \\, m {ϕ}\\right)}}{r \\sin\\left({θ}\\right)} & \\frac{{\\left({\\epsilon} r hh_1\\left(r\\right) + {\\epsilon} r \\frac{\\partial\\,\\Lambda}{\\partial r} - 2 \\, {\\epsilon} \\Lambda\\left(r\\right)\\right)} e^{\\left(-i \\, t ω - i \\, m {ϕ}\\right)} \\sin\\left({θ}\\right) \\frac{\\partial\\,P_\\ell}{\\partial {θ}}}{r} \\\\\n",
       "\\frac{{\\left(i \\, {\\epsilon} m {\\rm Csc}\\left({θ}\\right) P_\\ell\\left({θ}\\right) hh_0\\left(r\\right) \\sin\\left({θ}\\right) + {\\epsilon} m ω \\Lambda\\left(r\\right) P_\\ell\\left({θ}\\right)\\right)} e^{\\left(-i \\, t ω - i \\, m {ϕ}\\right)}}{\\sin\\left({θ}\\right)} & \\frac{{\\left(i \\, {\\epsilon} m r {\\rm Csc}\\left({θ}\\right) P_\\ell\\left({θ}\\right) hh_1\\left(r\\right) \\sin\\left({θ}\\right) + {\\left(i \\, {\\epsilon} m r \\frac{\\partial\\,\\Lambda}{\\partial r} - 2 i \\, {\\epsilon} m \\Lambda\\left(r\\right)\\right)} P_\\ell\\left({θ}\\right)\\right)} e^{\\left(-i \\, t ω - i \\, m {ϕ}\\right)}}{r \\sin\\left({θ}\\right)} & -\\frac{{\\left(-i \\, {\\epsilon} m {\\rm Cot}\\left({θ}\\right) {\\rm Csc}\\left({θ}\\right) P_\\ell\\left({θ}\\right) hh_2\\left(r\\right) \\sin\\left({θ}\\right)^{2} + 2 i \\, {\\epsilon} m \\Lambda\\left(r\\right) P_\\ell\\left({θ}\\right) \\cos\\left({θ}\\right) + {\\left(i \\, {\\epsilon} m {\\rm Csc}\\left({θ}\\right) hh_2\\left(r\\right) \\sin\\left({θ}\\right)^{2} - 2 i \\, {\\epsilon} m \\Lambda\\left(r\\right) \\sin\\left({θ}\\right)\\right)} \\frac{\\partial\\,P_\\ell}{\\partial {θ}}\\right)} e^{\\left(-i \\, t ω - i \\, m {ϕ}\\right)}}{\\sin\\left({θ}\\right)^{2}} & -\\frac{{\\left({\\epsilon} m^{2} {\\rm Csc}\\left({θ}\\right) P_\\ell\\left({θ}\\right) hh_2\\left(r\\right) \\sin\\left({θ}\\right) - 2 \\, {\\epsilon} m^{2} \\Lambda\\left(r\\right) P_\\ell\\left({θ}\\right) - {\\left({\\left(2 \\, {\\epsilon} m^{2} \\Lambda\\left(r\\right) - {\\epsilon} m^{2} hh_2\\left(r\\right)\\right)} {\\rm Csc}\\left({θ}\\right)^{2} - 2 \\, {\\epsilon} \\mathit{ll} \\Lambda\\left(r\\right) + {\\epsilon} \\mathit{ll} hh_2\\left(r\\right)\\right)} P_\\ell\\left({θ}\\right) \\sin\\left({θ}\\right)^{2} + {\\left({\\left(2 \\, {\\epsilon} \\Lambda\\left(r\\right) - {\\epsilon} hh_2\\left(r\\right)\\right)} {\\rm Cot}\\left({θ}\\right) \\sin\\left({θ}\\right)^{2} + {\\left(2 \\, {\\epsilon} \\Lambda\\left(r\\right) - {\\epsilon} hh_2\\left(r\\right)\\right)} \\cos\\left({θ}\\right) \\sin\\left({θ}\\right)\\right)} \\frac{\\partial\\,P_\\ell}{\\partial {θ}}\\right)} e^{\\left(-i \\, t ω - i \\, m {ϕ}\\right)}}{2 \\, \\sin\\left({θ}\\right)} \\\\\n",
       "{\\left(-i \\, {\\epsilon} ω \\Lambda\\left(r\\right) \\sin\\left({θ}\\right) \\frac{\\partial\\,P_\\ell}{\\partial {θ}} + {\\epsilon} hh_0\\left(r\\right) \\sin\\left({θ}\\right) \\frac{\\partial\\,P_\\ell}{\\partial {θ}}\\right)} e^{\\left(-i \\, t ω - i \\, m {ϕ}\\right)} & \\frac{{\\left({\\epsilon} r hh_1\\left(r\\right) + {\\epsilon} r \\frac{\\partial\\,\\Lambda}{\\partial r} - 2 \\, {\\epsilon} \\Lambda\\left(r\\right)\\right)} e^{\\left(-i \\, t ω - i \\, m {ϕ}\\right)} \\sin\\left({θ}\\right) \\frac{\\partial\\,P_\\ell}{\\partial {θ}}}{r} & -\\frac{{\\left({\\epsilon} m^{2} {\\rm Csc}\\left({θ}\\right) P_\\ell\\left({θ}\\right) hh_2\\left(r\\right) \\sin\\left({θ}\\right) - 2 \\, {\\epsilon} m^{2} \\Lambda\\left(r\\right) P_\\ell\\left({θ}\\right) - {\\left({\\left(2 \\, {\\epsilon} m^{2} \\Lambda\\left(r\\right) - {\\epsilon} m^{2} hh_2\\left(r\\right)\\right)} {\\rm Csc}\\left({θ}\\right)^{2} - 2 \\, {\\epsilon} \\mathit{ll} \\Lambda\\left(r\\right) + {\\epsilon} \\mathit{ll} hh_2\\left(r\\right)\\right)} P_\\ell\\left({θ}\\right) \\sin\\left({θ}\\right)^{2} + {\\left({\\left(2 \\, {\\epsilon} \\Lambda\\left(r\\right) - {\\epsilon} hh_2\\left(r\\right)\\right)} {\\rm Cot}\\left({θ}\\right) \\sin\\left({θ}\\right)^{2} + {\\left(2 \\, {\\epsilon} \\Lambda\\left(r\\right) - {\\epsilon} hh_2\\left(r\\right)\\right)} \\cos\\left({θ}\\right) \\sin\\left({θ}\\right)\\right)} \\frac{\\partial\\,P_\\ell}{\\partial {θ}}\\right)} e^{\\left(-i \\, t ω - i \\, m {ϕ}\\right)}}{2 \\, \\sin\\left({θ}\\right)} & {\\left({\\left(2 i \\, {\\epsilon} m \\Lambda\\left(r\\right) - i \\, {\\epsilon} m hh_2\\left(r\\right)\\right)} P_\\ell\\left({θ}\\right) \\cos\\left({θ}\\right) + {\\left(-2 i \\, {\\epsilon} m \\Lambda\\left(r\\right) + i \\, {\\epsilon} m hh_2\\left(r\\right)\\right)} \\sin\\left({θ}\\right) \\frac{\\partial\\,P_\\ell}{\\partial {θ}}\\right)} e^{\\left(-i \\, t ω - i \\, m {ϕ}\\right)}\n",
       "\\end{array}\\right)\\)</html>"
      ],
      "text/latex": [
       "$\\displaystyle \\left(\\begin{array}{rrrr}\n",
       "0 & 0 & \\frac{{\\left(i \\, {\\epsilon} m {\\rm Csc}\\left({θ}\\right) P_\\ell\\left({θ}\\right) hh_0\\left(r\\right) \\sin\\left({θ}\\right) + {\\epsilon} m ω \\Lambda\\left(r\\right) P_\\ell\\left({θ}\\right)\\right)} e^{\\left(-i \\, t ω - i \\, m {ϕ}\\right)}}{\\sin\\left({θ}\\right)} & {\\left(-i \\, {\\epsilon} ω \\Lambda\\left(r\\right) \\sin\\left({θ}\\right) \\frac{\\partial\\,P_\\ell}{\\partial {θ}} + {\\epsilon} hh_0\\left(r\\right) \\sin\\left({θ}\\right) \\frac{\\partial\\,P_\\ell}{\\partial {θ}}\\right)} e^{\\left(-i \\, t ω - i \\, m {ϕ}\\right)} \\\\\n",
       "0 & 0 & \\frac{{\\left(i \\, {\\epsilon} m r {\\rm Csc}\\left({θ}\\right) P_\\ell\\left({θ}\\right) hh_1\\left(r\\right) \\sin\\left({θ}\\right) + {\\left(i \\, {\\epsilon} m r \\frac{\\partial\\,\\Lambda}{\\partial r} - 2 i \\, {\\epsilon} m \\Lambda\\left(r\\right)\\right)} P_\\ell\\left({θ}\\right)\\right)} e^{\\left(-i \\, t ω - i \\, m {ϕ}\\right)}}{r \\sin\\left({θ}\\right)} & \\frac{{\\left({\\epsilon} r hh_1\\left(r\\right) + {\\epsilon} r \\frac{\\partial\\,\\Lambda}{\\partial r} - 2 \\, {\\epsilon} \\Lambda\\left(r\\right)\\right)} e^{\\left(-i \\, t ω - i \\, m {ϕ}\\right)} \\sin\\left({θ}\\right) \\frac{\\partial\\,P_\\ell}{\\partial {θ}}}{r} \\\\\n",
       "\\frac{{\\left(i \\, {\\epsilon} m {\\rm Csc}\\left({θ}\\right) P_\\ell\\left({θ}\\right) hh_0\\left(r\\right) \\sin\\left({θ}\\right) + {\\epsilon} m ω \\Lambda\\left(r\\right) P_\\ell\\left({θ}\\right)\\right)} e^{\\left(-i \\, t ω - i \\, m {ϕ}\\right)}}{\\sin\\left({θ}\\right)} & \\frac{{\\left(i \\, {\\epsilon} m r {\\rm Csc}\\left({θ}\\right) P_\\ell\\left({θ}\\right) hh_1\\left(r\\right) \\sin\\left({θ}\\right) + {\\left(i \\, {\\epsilon} m r \\frac{\\partial\\,\\Lambda}{\\partial r} - 2 i \\, {\\epsilon} m \\Lambda\\left(r\\right)\\right)} P_\\ell\\left({θ}\\right)\\right)} e^{\\left(-i \\, t ω - i \\, m {ϕ}\\right)}}{r \\sin\\left({θ}\\right)} & -\\frac{{\\left(-i \\, {\\epsilon} m {\\rm Cot}\\left({θ}\\right) {\\rm Csc}\\left({θ}\\right) P_\\ell\\left({θ}\\right) hh_2\\left(r\\right) \\sin\\left({θ}\\right)^{2} + 2 i \\, {\\epsilon} m \\Lambda\\left(r\\right) P_\\ell\\left({θ}\\right) \\cos\\left({θ}\\right) + {\\left(i \\, {\\epsilon} m {\\rm Csc}\\left({θ}\\right) hh_2\\left(r\\right) \\sin\\left({θ}\\right)^{2} - 2 i \\, {\\epsilon} m \\Lambda\\left(r\\right) \\sin\\left({θ}\\right)\\right)} \\frac{\\partial\\,P_\\ell}{\\partial {θ}}\\right)} e^{\\left(-i \\, t ω - i \\, m {ϕ}\\right)}}{\\sin\\left({θ}\\right)^{2}} & -\\frac{{\\left({\\epsilon} m^{2} {\\rm Csc}\\left({θ}\\right) P_\\ell\\left({θ}\\right) hh_2\\left(r\\right) \\sin\\left({θ}\\right) - 2 \\, {\\epsilon} m^{2} \\Lambda\\left(r\\right) P_\\ell\\left({θ}\\right) - {\\left({\\left(2 \\, {\\epsilon} m^{2} \\Lambda\\left(r\\right) - {\\epsilon} m^{2} hh_2\\left(r\\right)\\right)} {\\rm Csc}\\left({θ}\\right)^{2} - 2 \\, {\\epsilon} \\mathit{ll} \\Lambda\\left(r\\right) + {\\epsilon} \\mathit{ll} hh_2\\left(r\\right)\\right)} P_\\ell\\left({θ}\\right) \\sin\\left({θ}\\right)^{2} + {\\left({\\left(2 \\, {\\epsilon} \\Lambda\\left(r\\right) - {\\epsilon} hh_2\\left(r\\right)\\right)} {\\rm Cot}\\left({θ}\\right) \\sin\\left({θ}\\right)^{2} + {\\left(2 \\, {\\epsilon} \\Lambda\\left(r\\right) - {\\epsilon} hh_2\\left(r\\right)\\right)} \\cos\\left({θ}\\right) \\sin\\left({θ}\\right)\\right)} \\frac{\\partial\\,P_\\ell}{\\partial {θ}}\\right)} e^{\\left(-i \\, t ω - i \\, m {ϕ}\\right)}}{2 \\, \\sin\\left({θ}\\right)} \\\\\n",
       "{\\left(-i \\, {\\epsilon} ω \\Lambda\\left(r\\right) \\sin\\left({θ}\\right) \\frac{\\partial\\,P_\\ell}{\\partial {θ}} + {\\epsilon} hh_0\\left(r\\right) \\sin\\left({θ}\\right) \\frac{\\partial\\,P_\\ell}{\\partial {θ}}\\right)} e^{\\left(-i \\, t ω - i \\, m {ϕ}\\right)} & \\frac{{\\left({\\epsilon} r hh_1\\left(r\\right) + {\\epsilon} r \\frac{\\partial\\,\\Lambda}{\\partial r} - 2 \\, {\\epsilon} \\Lambda\\left(r\\right)\\right)} e^{\\left(-i \\, t ω - i \\, m {ϕ}\\right)} \\sin\\left({θ}\\right) \\frac{\\partial\\,P_\\ell}{\\partial {θ}}}{r} & -\\frac{{\\left({\\epsilon} m^{2} {\\rm Csc}\\left({θ}\\right) P_\\ell\\left({θ}\\right) hh_2\\left(r\\right) \\sin\\left({θ}\\right) - 2 \\, {\\epsilon} m^{2} \\Lambda\\left(r\\right) P_\\ell\\left({θ}\\right) - {\\left({\\left(2 \\, {\\epsilon} m^{2} \\Lambda\\left(r\\right) - {\\epsilon} m^{2} hh_2\\left(r\\right)\\right)} {\\rm Csc}\\left({θ}\\right)^{2} - 2 \\, {\\epsilon} \\mathit{ll} \\Lambda\\left(r\\right) + {\\epsilon} \\mathit{ll} hh_2\\left(r\\right)\\right)} P_\\ell\\left({θ}\\right) \\sin\\left({θ}\\right)^{2} + {\\left({\\left(2 \\, {\\epsilon} \\Lambda\\left(r\\right) - {\\epsilon} hh_2\\left(r\\right)\\right)} {\\rm Cot}\\left({θ}\\right) \\sin\\left({θ}\\right)^{2} + {\\left(2 \\, {\\epsilon} \\Lambda\\left(r\\right) - {\\epsilon} hh_2\\left(r\\right)\\right)} \\cos\\left({θ}\\right) \\sin\\left({θ}\\right)\\right)} \\frac{\\partial\\,P_\\ell}{\\partial {θ}}\\right)} e^{\\left(-i \\, t ω - i \\, m {ϕ}\\right)}}{2 \\, \\sin\\left({θ}\\right)} & {\\left({\\left(2 i \\, {\\epsilon} m \\Lambda\\left(r\\right) - i \\, {\\epsilon} m hh_2\\left(r\\right)\\right)} P_\\ell\\left({θ}\\right) \\cos\\left({θ}\\right) + {\\left(-2 i \\, {\\epsilon} m \\Lambda\\left(r\\right) + i \\, {\\epsilon} m hh_2\\left(r\\right)\\right)} \\sin\\left({θ}\\right) \\frac{\\partial\\,P_\\ell}{\\partial {θ}}\\right)} e^{\\left(-i \\, t ω - i \\, m {ϕ}\\right)}\n",
       "\\end{array}\\right)$"
      ],
      "text/plain": [
       "[                                                                                                                                                                                                                                                                                                       0                                                                                                                                                                                                                                                                                                        0                                                                                                                                                                                                                   (I*ep*m*Csc(θ)*PL(θ)*hh0(r)*sin(θ) + ep*m*ω*Lambda(r)*PL(θ))*e^(-I*t*ω - I*m*ϕ)/sin(θ)                                                                                                                                                                                                                       (-I*ep*ω*Lambda(r)*sin(θ)*d(PL)/dθ + ep*hh0(r)*sin(θ)*d(PL)/dθ)*e^(-I*t*ω - I*m*ϕ)]\n",
       "[                                                                                                                                                                                                                                                                                                       0                                                                                                                                                                                                                                                                                                        0                                                                                                                                                                                 (I*ep*m*r*Csc(θ)*PL(θ)*hh1(r)*sin(θ) + (I*ep*m*r*d(Lambda)/dr - 2*I*ep*m*Lambda(r))*PL(θ))*e^(-I*t*ω - I*m*ϕ)/(r*sin(θ))                                                                                                                                                                                                                  (ep*r*hh1(r) + ep*r*d(Lambda)/dr - 2*ep*Lambda(r))*e^(-I*t*ω - I*m*ϕ)*sin(θ)*d(PL)/dθ/r]\n",
       "[                                                                                                                                                                                                                  (I*ep*m*Csc(θ)*PL(θ)*hh0(r)*sin(θ) + ep*m*ω*Lambda(r)*PL(θ))*e^(-I*t*ω - I*m*ϕ)/sin(θ)                                                                                                                                                                                 (I*ep*m*r*Csc(θ)*PL(θ)*hh1(r)*sin(θ) + (I*ep*m*r*d(Lambda)/dr - 2*I*ep*m*Lambda(r))*PL(θ))*e^(-I*t*ω - I*m*ϕ)/(r*sin(θ))                                                                                                                      -(-I*ep*m*Cot(θ)*Csc(θ)*PL(θ)*hh2(r)*sin(θ)^2 + 2*I*ep*m*Lambda(r)*PL(θ)*cos(θ) + (I*ep*m*Csc(θ)*hh2(r)*sin(θ)^2 - 2*I*ep*m*Lambda(r)*sin(θ))*d(PL)/dθ)*e^(-I*t*ω - I*m*ϕ)/sin(θ)^2 -1/2*(ep*m^2*Csc(θ)*PL(θ)*hh2(r)*sin(θ) - 2*ep*m^2*Lambda(r)*PL(θ) - ((2*ep*m^2*Lambda(r) - ep*m^2*hh2(r))*Csc(θ)^2 - 2*ep*ll*Lambda(r) + ep*ll*hh2(r))*PL(θ)*sin(θ)^2 + ((2*ep*Lambda(r) - ep*hh2(r))*Cot(θ)*sin(θ)^2 + (2*ep*Lambda(r) - ep*hh2(r))*cos(θ)*sin(θ))*d(PL)/dθ)*e^(-I*t*ω - I*m*ϕ)/sin(θ)]\n",
       "[                                                                                                                                                                                                                      (-I*ep*ω*Lambda(r)*sin(θ)*d(PL)/dθ + ep*hh0(r)*sin(θ)*d(PL)/dθ)*e^(-I*t*ω - I*m*ϕ)                                                                                                                                                                                                                  (ep*r*hh1(r) + ep*r*d(Lambda)/dr - 2*ep*Lambda(r))*e^(-I*t*ω - I*m*ϕ)*sin(θ)*d(PL)/dθ/r -1/2*(ep*m^2*Csc(θ)*PL(θ)*hh2(r)*sin(θ) - 2*ep*m^2*Lambda(r)*PL(θ) - ((2*ep*m^2*Lambda(r) - ep*m^2*hh2(r))*Csc(θ)^2 - 2*ep*ll*Lambda(r) + ep*ll*hh2(r))*PL(θ)*sin(θ)^2 + ((2*ep*Lambda(r) - ep*hh2(r))*Cot(θ)*sin(θ)^2 + (2*ep*Lambda(r) - ep*hh2(r))*cos(θ)*sin(θ))*d(PL)/dθ)*e^(-I*t*ω - I*m*ϕ)/sin(θ)                                                                                                                                                                           ((2*I*ep*m*Lambda(r) - I*ep*m*hh2(r))*PL(θ)*cos(θ) + (-2*I*ep*m*Lambda(r) + I*ep*m*hh2(r))*sin(θ)*d(PL)/dθ)*e^(-I*t*ω - I*m*ϕ)]"
      ]
     },
     "execution_count": 72,
     "metadata": {},
     "output_type": "execute_result"
    }
   ],
   "source": [
    "h_impar[:]"
   ]
  },
  {
   "cell_type": "markdown",
   "metadata": {},
   "source": [
    "Encontrando a expressão para a função $\\Lambda(r)$:"
   ]
  },
  {
   "cell_type": "code",
   "execution_count": 73,
   "metadata": {},
   "outputs": [
    {
     "data": {
      "text/html": [
       "<html>\\(\\displaystyle \\left\\{\\Lambda\\left(r\\right) : \\frac{1}{2} \\, hh_2\\left(r\\right)\\right\\}\\)</html>"
      ],
      "text/latex": [
       "$\\displaystyle \\left\\{\\Lambda\\left(r\\right) : \\frac{1}{2} \\, hh_2\\left(r\\right)\\right\\}$"
      ],
      "text/plain": [
       "{Lambda(r): 1/2*hh2(r)}"
      ]
     },
     "execution_count": 73,
     "metadata": {},
     "output_type": "execute_result"
    }
   ],
   "source": [
    "eq_lambda = h_impar[2,2].expr().subs(dic_trig).solve(Lambda, solution_dict=True)[0]\n",
    "eq_lambda"
   ]
  },
  {
   "cell_type": "markdown",
   "metadata": {},
   "source": [
    "Aqui será feita a lista, como para as funções no tópico anteiror, para simplificar o resultado da perturbação ímpar:"
   ]
  },
  {
   "cell_type": "code",
   "execution_count": 74,
   "metadata": {},
   "outputs": [],
   "source": [
    "eq_lambda[diff(list(eq_lambda.keys())[0], r)] = diff(list(eq_lambda.values())[0], r) "
   ]
  },
  {
   "cell_type": "code",
   "execution_count": 75,
   "metadata": {},
   "outputs": [
    {
     "data": {
      "text/html": [
       "<html>\\(\\displaystyle \\left\\{\\Lambda\\left(r\\right) : \\frac{1}{2} \\, hh_2\\left(r\\right), \\frac{\\partial}{\\partial r}\\Lambda\\left(r\\right) : \\frac{1}{2} \\, \\frac{\\partial}{\\partial r}hh_2\\left(r\\right)\\right\\}\\)</html>"
      ],
      "text/latex": [
       "$\\displaystyle \\left\\{\\Lambda\\left(r\\right) : \\frac{1}{2} \\, hh_2\\left(r\\right), \\frac{\\partial}{\\partial r}\\Lambda\\left(r\\right) : \\frac{1}{2} \\, \\frac{\\partial}{\\partial r}hh_2\\left(r\\right)\\right\\}$"
      ],
      "text/plain": [
       "{Lambda(r): 1/2*hh2(r), diff(Lambda(r), r): 1/2*diff(hh2(r), r)}"
      ]
     },
     "execution_count": 75,
     "metadata": {},
     "output_type": "execute_result"
    }
   ],
   "source": [
    "eq_lambda"
   ]
  },
  {
   "cell_type": "markdown",
   "metadata": {},
   "source": [
    "Substituindo a expressão para a função $\\Lambda(r)$, bem como sua respectiva derivada e também as funções trigonométricas, teremos a perturbação $h^{impar}_{\\mu \\nu}$:"
   ]
  },
  {
   "cell_type": "code",
   "execution_count": 76,
   "metadata": {},
   "outputs": [],
   "source": [
    "h_impar = h_impar.apply_map(lambda q: q.expr().subs(eq_lambda, dic_trig).expand().trig_simplify())"
   ]
  },
  {
   "cell_type": "code",
   "execution_count": 77,
   "metadata": {},
   "outputs": [
    {
     "data": {
      "text/html": [
       "<html>\\(\\displaystyle \\left(\\begin{array}{rrrr}\n",
       "0 & 0 & \\frac{{\\left({\\epsilon} m ω P_\\ell\\left({θ}\\right) hh_2\\left(r\\right) + 2 i \\, {\\epsilon} m P_\\ell\\left({θ}\\right) hh_0\\left(r\\right)\\right)} e^{\\left(-i \\, t ω - i \\, m {ϕ}\\right)}}{2 \\, \\sin\\left({θ}\\right)} & -\\frac{1}{2} \\, {\\left(i \\, {\\epsilon} ω hh_2\\left(r\\right) \\sin\\left({θ}\\right) \\frac{\\partial}{\\partial {θ}}P_\\ell\\left({θ}\\right) - 2 \\, {\\epsilon} hh_0\\left(r\\right) \\sin\\left({θ}\\right) \\frac{\\partial}{\\partial {θ}}P_\\ell\\left({θ}\\right)\\right)} e^{\\left(-i \\, t ω - i \\, m {ϕ}\\right)} \\\\\n",
       "0 & 0 & \\frac{{\\left(2 i \\, {\\epsilon} m r hh_1\\left(r\\right) + i \\, {\\epsilon} m r \\frac{\\partial}{\\partial r}hh_2\\left(r\\right) - 2 i \\, {\\epsilon} m hh_2\\left(r\\right)\\right)} P_\\ell\\left({θ}\\right) e^{\\left(-i \\, t ω - i \\, m {ϕ}\\right)}}{2 \\, r \\sin\\left({θ}\\right)} & \\frac{{\\left(2 \\, {\\epsilon} r hh_1\\left(r\\right) + {\\epsilon} r \\frac{\\partial}{\\partial r}hh_2\\left(r\\right) - 2 \\, {\\epsilon} hh_2\\left(r\\right)\\right)} e^{\\left(-i \\, t ω - i \\, m {ϕ}\\right)} \\sin\\left({θ}\\right) \\frac{\\partial}{\\partial {θ}}P_\\ell\\left({θ}\\right)}{2 \\, r} \\\\\n",
       "\\frac{{\\left({\\epsilon} m ω P_\\ell\\left({θ}\\right) hh_2\\left(r\\right) + 2 i \\, {\\epsilon} m P_\\ell\\left({θ}\\right) hh_0\\left(r\\right)\\right)} e^{\\left(-i \\, t ω - i \\, m {ϕ}\\right)}}{2 \\, \\sin\\left({θ}\\right)} & \\frac{{\\left(2 i \\, {\\epsilon} m r hh_1\\left(r\\right) + i \\, {\\epsilon} m r \\frac{\\partial}{\\partial r}hh_2\\left(r\\right) - 2 i \\, {\\epsilon} m hh_2\\left(r\\right)\\right)} P_\\ell\\left({θ}\\right) e^{\\left(-i \\, t ω - i \\, m {ϕ}\\right)}}{2 \\, r \\sin\\left({θ}\\right)} & 0 & 0 \\\\\n",
       "-\\frac{1}{2} \\, {\\left(i \\, {\\epsilon} ω hh_2\\left(r\\right) \\sin\\left({θ}\\right) \\frac{\\partial}{\\partial {θ}}P_\\ell\\left({θ}\\right) - 2 \\, {\\epsilon} hh_0\\left(r\\right) \\sin\\left({θ}\\right) \\frac{\\partial}{\\partial {θ}}P_\\ell\\left({θ}\\right)\\right)} e^{\\left(-i \\, t ω - i \\, m {ϕ}\\right)} & \\frac{{\\left(2 \\, {\\epsilon} r hh_1\\left(r\\right) + {\\epsilon} r \\frac{\\partial}{\\partial r}hh_2\\left(r\\right) - 2 \\, {\\epsilon} hh_2\\left(r\\right)\\right)} e^{\\left(-i \\, t ω - i \\, m {ϕ}\\right)} \\sin\\left({θ}\\right) \\frac{\\partial}{\\partial {θ}}P_\\ell\\left({θ}\\right)}{2 \\, r} & 0 & 0\n",
       "\\end{array}\\right)\\)</html>"
      ],
      "text/latex": [
       "$\\displaystyle \\left(\\begin{array}{rrrr}\n",
       "0 & 0 & \\frac{{\\left({\\epsilon} m ω P_\\ell\\left({θ}\\right) hh_2\\left(r\\right) + 2 i \\, {\\epsilon} m P_\\ell\\left({θ}\\right) hh_0\\left(r\\right)\\right)} e^{\\left(-i \\, t ω - i \\, m {ϕ}\\right)}}{2 \\, \\sin\\left({θ}\\right)} & -\\frac{1}{2} \\, {\\left(i \\, {\\epsilon} ω hh_2\\left(r\\right) \\sin\\left({θ}\\right) \\frac{\\partial}{\\partial {θ}}P_\\ell\\left({θ}\\right) - 2 \\, {\\epsilon} hh_0\\left(r\\right) \\sin\\left({θ}\\right) \\frac{\\partial}{\\partial {θ}}P_\\ell\\left({θ}\\right)\\right)} e^{\\left(-i \\, t ω - i \\, m {ϕ}\\right)} \\\\\n",
       "0 & 0 & \\frac{{\\left(2 i \\, {\\epsilon} m r hh_1\\left(r\\right) + i \\, {\\epsilon} m r \\frac{\\partial}{\\partial r}hh_2\\left(r\\right) - 2 i \\, {\\epsilon} m hh_2\\left(r\\right)\\right)} P_\\ell\\left({θ}\\right) e^{\\left(-i \\, t ω - i \\, m {ϕ}\\right)}}{2 \\, r \\sin\\left({θ}\\right)} & \\frac{{\\left(2 \\, {\\epsilon} r hh_1\\left(r\\right) + {\\epsilon} r \\frac{\\partial}{\\partial r}hh_2\\left(r\\right) - 2 \\, {\\epsilon} hh_2\\left(r\\right)\\right)} e^{\\left(-i \\, t ω - i \\, m {ϕ}\\right)} \\sin\\left({θ}\\right) \\frac{\\partial}{\\partial {θ}}P_\\ell\\left({θ}\\right)}{2 \\, r} \\\\\n",
       "\\frac{{\\left({\\epsilon} m ω P_\\ell\\left({θ}\\right) hh_2\\left(r\\right) + 2 i \\, {\\epsilon} m P_\\ell\\left({θ}\\right) hh_0\\left(r\\right)\\right)} e^{\\left(-i \\, t ω - i \\, m {ϕ}\\right)}}{2 \\, \\sin\\left({θ}\\right)} & \\frac{{\\left(2 i \\, {\\epsilon} m r hh_1\\left(r\\right) + i \\, {\\epsilon} m r \\frac{\\partial}{\\partial r}hh_2\\left(r\\right) - 2 i \\, {\\epsilon} m hh_2\\left(r\\right)\\right)} P_\\ell\\left({θ}\\right) e^{\\left(-i \\, t ω - i \\, m {ϕ}\\right)}}{2 \\, r \\sin\\left({θ}\\right)} & 0 & 0 \\\\\n",
       "-\\frac{1}{2} \\, {\\left(i \\, {\\epsilon} ω hh_2\\left(r\\right) \\sin\\left({θ}\\right) \\frac{\\partial}{\\partial {θ}}P_\\ell\\left({θ}\\right) - 2 \\, {\\epsilon} hh_0\\left(r\\right) \\sin\\left({θ}\\right) \\frac{\\partial}{\\partial {θ}}P_\\ell\\left({θ}\\right)\\right)} e^{\\left(-i \\, t ω - i \\, m {ϕ}\\right)} & \\frac{{\\left(2 \\, {\\epsilon} r hh_1\\left(r\\right) + {\\epsilon} r \\frac{\\partial}{\\partial r}hh_2\\left(r\\right) - 2 \\, {\\epsilon} hh_2\\left(r\\right)\\right)} e^{\\left(-i \\, t ω - i \\, m {ϕ}\\right)} \\sin\\left({θ}\\right) \\frac{\\partial}{\\partial {θ}}P_\\ell\\left({θ}\\right)}{2 \\, r} & 0 & 0\n",
       "\\end{array}\\right)$"
      ],
      "text/plain": [
       "[                                                                                                       0                                                                                                        0                              1/2*(ep*m*ω*PL(θ)*hh2(r) + 2*I*ep*m*PL(θ)*hh0(r))*e^(-I*t*ω - I*m*ϕ)/sin(θ)        -1/2*(I*ep*ω*hh2(r)*sin(θ)*diff(PL(θ), θ) - 2*ep*hh0(r)*sin(θ)*diff(PL(θ), θ))*e^(-I*t*ω - I*m*ϕ)]\n",
       "[                                                                                                       0                                                                                                        0 1/2*(2*I*ep*m*r*hh1(r) + I*ep*m*r*diff(hh2(r), r) - 2*I*ep*m*hh2(r))*PL(θ)*e^(-I*t*ω - I*m*ϕ)/(r*sin(θ))      1/2*(2*ep*r*hh1(r) + ep*r*diff(hh2(r), r) - 2*ep*hh2(r))*e^(-I*t*ω - I*m*ϕ)*sin(θ)*diff(PL(θ), θ)/r]\n",
       "[                             1/2*(ep*m*ω*PL(θ)*hh2(r) + 2*I*ep*m*PL(θ)*hh0(r))*e^(-I*t*ω - I*m*ϕ)/sin(θ) 1/2*(2*I*ep*m*r*hh1(r) + I*ep*m*r*diff(hh2(r), r) - 2*I*ep*m*hh2(r))*PL(θ)*e^(-I*t*ω - I*m*ϕ)/(r*sin(θ))                                                                                                        0                                                                                                        0]\n",
       "[       -1/2*(I*ep*ω*hh2(r)*sin(θ)*diff(PL(θ), θ) - 2*ep*hh0(r)*sin(θ)*diff(PL(θ), θ))*e^(-I*t*ω - I*m*ϕ)      1/2*(2*ep*r*hh1(r) + ep*r*diff(hh2(r), r) - 2*ep*hh2(r))*e^(-I*t*ω - I*m*ϕ)*sin(θ)*diff(PL(θ), θ)/r                                                                                                        0                                                                                                        0]"
      ]
     },
     "execution_count": 77,
     "metadata": {},
     "output_type": "execute_result"
    }
   ],
   "source": [
    "h_impar[:]"
   ]
  },
  {
   "cell_type": "markdown",
   "metadata": {},
   "source": [
    "Definindo as novas funções $\\tilde{hh}_0(r)$ e $\\tilde{hh}_1(r)$:"
   ]
  },
  {
   "cell_type": "code",
   "execution_count": 78,
   "metadata": {},
   "outputs": [
    {
     "data": {
      "text/html": [
       "<html>\\(\\displaystyle \\left(\\tilde{hh}_0\\left(r\\right), \\tilde{hh}_1\\left(r\\right)\\right)\\)</html>"
      ],
      "text/latex": [
       "$\\displaystyle \\left(\\tilde{hh}_0\\left(r\\right), \\tilde{hh}_1\\left(r\\right)\\right)$"
      ],
      "text/plain": [
       "(hh0n(r), hh1n(r))"
      ]
     },
     "execution_count": 78,
     "metadata": {},
     "output_type": "execute_result"
    }
   ],
   "source": [
    "hh0n = function('hh0n', latex_name = r'\\tilde{hh}_0')(r)\n",
    "hh1n = function('hh1n', latex_name = r'\\tilde{hh}_1')(r)\n",
    "hh0n, hh1n"
   ]
  },
  {
   "cell_type": "markdown",
   "metadata": {},
   "source": [
    "O objetivo aqui é encontrar uma expressão para cada umas das funções $hh_0(r)$, $hh_1(r)$ em função das novas definidas acima. A primeira expressão envolverá definir $hh_0(r)$ em função de $\\tilde{hh}_0(r)$\n",
    "\n",
    "$$\\tilde{hh}_0(r) = hh_0(r) + \\frac{\\omega}{2i}hh_2(r)$$"
   ]
  },
  {
   "cell_type": "code",
   "execution_count": 79,
   "metadata": {},
   "outputs": [
    {
     "data": {
      "text/html": [
       "<html>\\(\\displaystyle \\left\\{hh_0\\left(r\\right) : \\frac{1}{2} i \\, ω hh_2\\left(r\\right) + \\tilde{hh}_0\\left(r\\right)\\right\\}\\)</html>"
      ],
      "text/latex": [
       "$\\displaystyle \\left\\{hh_0\\left(r\\right) : \\frac{1}{2} i \\, ω hh_2\\left(r\\right) + \\tilde{hh}_0\\left(r\\right)\\right\\}$"
      ],
      "text/plain": [
       "{hh0(r): 1/2*I*ω*hh2(r) + hh0n(r)}"
      ]
     },
     "execution_count": 79,
     "metadata": {},
     "output_type": "execute_result"
    }
   ],
   "source": [
    "eq_hh0 = (hh0 + (ω/(2*i))*hh2 == hh0n).solve(hh0, solution_dict=True)[0]\n",
    "eq_hh0"
   ]
  },
  {
   "cell_type": "markdown",
   "metadata": {},
   "source": [
    "Para a definição de $hh_1(r)$ em função de $\\tilde{hh}_1(r)$, temos a expressão:\n",
    "\n",
    "$$\\tilde{hh}_1(r) = -\\frac{hh_2(r)}{r} + hh_1(r) + \\frac{1}{2}\\frac{\\partial hh_2(r)}{\\partial r}$$"
   ]
  },
  {
   "cell_type": "code",
   "execution_count": 80,
   "metadata": {},
   "outputs": [
    {
     "data": {
      "text/html": [
       "<html>\\(\\displaystyle \\left\\{hh_1\\left(r\\right) : \\frac{2 \\, r \\tilde{hh}_1\\left(r\\right) - r \\frac{\\partial}{\\partial r}hh_2\\left(r\\right) + 2 \\, hh_2\\left(r\\right)}{2 \\, r}\\right\\}\\)</html>"
      ],
      "text/latex": [
       "$\\displaystyle \\left\\{hh_1\\left(r\\right) : \\frac{2 \\, r \\tilde{hh}_1\\left(r\\right) - r \\frac{\\partial}{\\partial r}hh_2\\left(r\\right) + 2 \\, hh_2\\left(r\\right)}{2 \\, r}\\right\\}$"
      ],
      "text/plain": [
       "{hh1(r): 1/2*(2*r*hh1n(r) - r*diff(hh2(r), r) + 2*hh2(r))/r}"
      ]
     },
     "execution_count": 80,
     "metadata": {},
     "output_type": "execute_result"
    }
   ],
   "source": [
    "eq_hh1 = (-hh2/r + (hh1 + diff(hh2, r)/2) == hh1n).solve(hh1, solution_dict=True)[0]\n",
    "eq_hh1"
   ]
  },
  {
   "cell_type": "markdown",
   "metadata": {},
   "source": [
    "Aqui será construída novamente uma lista com os termos de cada uma das duas expressões acima, de modo que a substituição das mesmas e de suas respectivas derivadas sejam adicionadas às expressões das perturbações de uma vez só."
   ]
  },
  {
   "cell_type": "code",
   "execution_count": 81,
   "metadata": {},
   "outputs": [],
   "source": [
    "eq_hh0[diff(list(eq_hh0.keys())[0], r)] = diff(list(eq_hh0.values())[0], r) "
   ]
  },
  {
   "cell_type": "code",
   "execution_count": 82,
   "metadata": {},
   "outputs": [],
   "source": [
    "eq_hh1[diff(list(eq_hh1.keys())[0], r)] = diff(list(eq_hh1.values())[0], r) "
   ]
  },
  {
   "cell_type": "markdown",
   "metadata": {},
   "source": [
    "Aqui, será feita a atualização de cada uma das listas para todas estarem em uma única lista, a `eq_hh0`:"
   ]
  },
  {
   "cell_type": "code",
   "execution_count": 83,
   "metadata": {},
   "outputs": [],
   "source": [
    "eq_hh0.update(eq_hh1)"
   ]
  },
  {
   "cell_type": "code",
   "execution_count": 84,
   "metadata": {},
   "outputs": [
    {
     "data": {
      "text/html": [
       "<html>\\(\\displaystyle \\left\\{hh_0\\left(r\\right) : \\frac{1}{2} i \\, ω hh_2\\left(r\\right) + \\tilde{hh}_0\\left(r\\right), \\frac{\\partial}{\\partial r}hh_0\\left(r\\right) : \\frac{1}{2} i \\, ω \\frac{\\partial}{\\partial r}hh_2\\left(r\\right) + \\frac{\\partial}{\\partial r}\\tilde{hh}_0\\left(r\\right), hh_1\\left(r\\right) : \\frac{2 \\, r \\tilde{hh}_1\\left(r\\right) - r \\frac{\\partial}{\\partial r}hh_2\\left(r\\right) + 2 \\, hh_2\\left(r\\right)}{2 \\, r}, \\frac{\\partial}{\\partial r}hh_1\\left(r\\right) : \\frac{2 \\, r \\frac{\\partial}{\\partial r}\\tilde{hh}_1\\left(r\\right) - r \\frac{\\partial^{2}}{(\\partial r)^{2}}hh_2\\left(r\\right) + 2 \\, \\tilde{hh}_1\\left(r\\right) + \\frac{\\partial}{\\partial r}hh_2\\left(r\\right)}{2 \\, r} - \\frac{2 \\, r \\tilde{hh}_1\\left(r\\right) - r \\frac{\\partial}{\\partial r}hh_2\\left(r\\right) + 2 \\, hh_2\\left(r\\right)}{2 \\, r^{2}}\\right\\}\\)</html>"
      ],
      "text/latex": [
       "$\\displaystyle \\left\\{hh_0\\left(r\\right) : \\frac{1}{2} i \\, ω hh_2\\left(r\\right) + \\tilde{hh}_0\\left(r\\right), \\frac{\\partial}{\\partial r}hh_0\\left(r\\right) : \\frac{1}{2} i \\, ω \\frac{\\partial}{\\partial r}hh_2\\left(r\\right) + \\frac{\\partial}{\\partial r}\\tilde{hh}_0\\left(r\\right), hh_1\\left(r\\right) : \\frac{2 \\, r \\tilde{hh}_1\\left(r\\right) - r \\frac{\\partial}{\\partial r}hh_2\\left(r\\right) + 2 \\, hh_2\\left(r\\right)}{2 \\, r}, \\frac{\\partial}{\\partial r}hh_1\\left(r\\right) : \\frac{2 \\, r \\frac{\\partial}{\\partial r}\\tilde{hh}_1\\left(r\\right) - r \\frac{\\partial^{2}}{(\\partial r)^{2}}hh_2\\left(r\\right) + 2 \\, \\tilde{hh}_1\\left(r\\right) + \\frac{\\partial}{\\partial r}hh_2\\left(r\\right)}{2 \\, r} - \\frac{2 \\, r \\tilde{hh}_1\\left(r\\right) - r \\frac{\\partial}{\\partial r}hh_2\\left(r\\right) + 2 \\, hh_2\\left(r\\right)}{2 \\, r^{2}}\\right\\}$"
      ],
      "text/plain": [
       "{hh0(r): 1/2*I*ω*hh2(r) + hh0n(r),\n",
       " diff(hh0(r), r): 1/2*I*ω*diff(hh2(r), r) + diff(hh0n(r), r),\n",
       " hh1(r): 1/2*(2*r*hh1n(r) - r*diff(hh2(r), r) + 2*hh2(r))/r,\n",
       " diff(hh1(r), r): 1/2*(2*r*diff(hh1n(r), r) - r*diff(hh2(r), r, r) + 2*hh1n(r) + diff(hh2(r), r))/r - 1/2*(2*r*hh1n(r) - r*diff(hh2(r), r) + 2*hh2(r))/r^2}"
      ]
     },
     "execution_count": 84,
     "metadata": {},
     "output_type": "execute_result"
    }
   ],
   "source": [
    "eq_hh0"
   ]
  },
  {
   "cell_type": "markdown",
   "metadata": {},
   "source": [
    "Substituindo das expressões paras as funções $hh_0(r)$ e $hh_1(r)$, bem como sua respectiva derivada, teremos a nova representação para a perturbação $h^{impar}_{\\mu \\nu}$:"
   ]
  },
  {
   "cell_type": "code",
   "execution_count": 85,
   "metadata": {},
   "outputs": [],
   "source": [
    "h_impar_new = h_impar.apply_map(lambda q: q.subs(eq_hh0).expand())"
   ]
  },
  {
   "cell_type": "code",
   "execution_count": 86,
   "metadata": {},
   "outputs": [
    {
     "data": {
      "text/html": [
       "<html>\\(\\displaystyle \\left(\\begin{array}{rrrr}\n",
       "0 & 0 & \\frac{i \\, {\\epsilon} m P_\\ell\\left({θ}\\right) e^{\\left(-i \\, t ω - i \\, m {ϕ}\\right)} \\tilde{hh}_0\\left(r\\right)}{\\sin\\left({θ}\\right)} & {\\epsilon} e^{\\left(-i \\, t ω - i \\, m {ϕ}\\right)} \\tilde{hh}_0\\left(r\\right) \\sin\\left({θ}\\right) \\frac{\\partial}{\\partial {θ}}P_\\ell\\left({θ}\\right) \\\\\n",
       "0 & 0 & \\frac{i \\, {\\epsilon} m P_\\ell\\left({θ}\\right) e^{\\left(-i \\, t ω - i \\, m {ϕ}\\right)} \\tilde{hh}_1\\left(r\\right)}{\\sin\\left({θ}\\right)} & {\\epsilon} e^{\\left(-i \\, t ω - i \\, m {ϕ}\\right)} \\tilde{hh}_1\\left(r\\right) \\sin\\left({θ}\\right) \\frac{\\partial}{\\partial {θ}}P_\\ell\\left({θ}\\right) \\\\\n",
       "\\frac{i \\, {\\epsilon} m P_\\ell\\left({θ}\\right) e^{\\left(-i \\, t ω - i \\, m {ϕ}\\right)} \\tilde{hh}_0\\left(r\\right)}{\\sin\\left({θ}\\right)} & \\frac{i \\, {\\epsilon} m P_\\ell\\left({θ}\\right) e^{\\left(-i \\, t ω - i \\, m {ϕ}\\right)} \\tilde{hh}_1\\left(r\\right)}{\\sin\\left({θ}\\right)} & 0 & 0 \\\\\n",
       "{\\epsilon} e^{\\left(-i \\, t ω - i \\, m {ϕ}\\right)} \\tilde{hh}_0\\left(r\\right) \\sin\\left({θ}\\right) \\frac{\\partial}{\\partial {θ}}P_\\ell\\left({θ}\\right) & {\\epsilon} e^{\\left(-i \\, t ω - i \\, m {ϕ}\\right)} \\tilde{hh}_1\\left(r\\right) \\sin\\left({θ}\\right) \\frac{\\partial}{\\partial {θ}}P_\\ell\\left({θ}\\right) & 0 & 0\n",
       "\\end{array}\\right)\\)</html>"
      ],
      "text/latex": [
       "$\\displaystyle \\left(\\begin{array}{rrrr}\n",
       "0 & 0 & \\frac{i \\, {\\epsilon} m P_\\ell\\left({θ}\\right) e^{\\left(-i \\, t ω - i \\, m {ϕ}\\right)} \\tilde{hh}_0\\left(r\\right)}{\\sin\\left({θ}\\right)} & {\\epsilon} e^{\\left(-i \\, t ω - i \\, m {ϕ}\\right)} \\tilde{hh}_0\\left(r\\right) \\sin\\left({θ}\\right) \\frac{\\partial}{\\partial {θ}}P_\\ell\\left({θ}\\right) \\\\\n",
       "0 & 0 & \\frac{i \\, {\\epsilon} m P_\\ell\\left({θ}\\right) e^{\\left(-i \\, t ω - i \\, m {ϕ}\\right)} \\tilde{hh}_1\\left(r\\right)}{\\sin\\left({θ}\\right)} & {\\epsilon} e^{\\left(-i \\, t ω - i \\, m {ϕ}\\right)} \\tilde{hh}_1\\left(r\\right) \\sin\\left({θ}\\right) \\frac{\\partial}{\\partial {θ}}P_\\ell\\left({θ}\\right) \\\\\n",
       "\\frac{i \\, {\\epsilon} m P_\\ell\\left({θ}\\right) e^{\\left(-i \\, t ω - i \\, m {ϕ}\\right)} \\tilde{hh}_0\\left(r\\right)}{\\sin\\left({θ}\\right)} & \\frac{i \\, {\\epsilon} m P_\\ell\\left({θ}\\right) e^{\\left(-i \\, t ω - i \\, m {ϕ}\\right)} \\tilde{hh}_1\\left(r\\right)}{\\sin\\left({θ}\\right)} & 0 & 0 \\\\\n",
       "{\\epsilon} e^{\\left(-i \\, t ω - i \\, m {ϕ}\\right)} \\tilde{hh}_0\\left(r\\right) \\sin\\left({θ}\\right) \\frac{\\partial}{\\partial {θ}}P_\\ell\\left({θ}\\right) & {\\epsilon} e^{\\left(-i \\, t ω - i \\, m {ϕ}\\right)} \\tilde{hh}_1\\left(r\\right) \\sin\\left({θ}\\right) \\frac{\\partial}{\\partial {θ}}P_\\ell\\left({θ}\\right) & 0 & 0\n",
       "\\end{array}\\right)$"
      ],
      "text/plain": [
       "[                                                  0                                                   0      I*ep*m*PL(θ)*e^(-I*t*ω - I*m*ϕ)*hh0n(r)/sin(θ) ep*e^(-I*t*ω - I*m*ϕ)*hh0n(r)*sin(θ)*diff(PL(θ), θ)]\n",
       "[                                                  0                                                   0      I*ep*m*PL(θ)*e^(-I*t*ω - I*m*ϕ)*hh1n(r)/sin(θ) ep*e^(-I*t*ω - I*m*ϕ)*hh1n(r)*sin(θ)*diff(PL(θ), θ)]\n",
       "[     I*ep*m*PL(θ)*e^(-I*t*ω - I*m*ϕ)*hh0n(r)/sin(θ)      I*ep*m*PL(θ)*e^(-I*t*ω - I*m*ϕ)*hh1n(r)/sin(θ)                                                   0                                                   0]\n",
       "[ep*e^(-I*t*ω - I*m*ϕ)*hh0n(r)*sin(θ)*diff(PL(θ), θ) ep*e^(-I*t*ω - I*m*ϕ)*hh1n(r)*sin(θ)*diff(PL(θ), θ)                                                   0                                                   0]"
      ]
     },
     "execution_count": 86,
     "metadata": {},
     "output_type": "execute_result"
    }
   ],
   "source": [
    "h_impar_new[:]"
   ]
  },
  {
   "cell_type": "markdown",
   "metadata": {},
   "source": [
    "Podemos então retornar as funções $\\tilde{hh}_0(r)$ e $\\tilde{hh}_1(r)$ para as respectivas representações $h_0(r)$ e $h_1(r)$, afim de deixar compartíveis as representações das métricas ímpar e par. Dessa forma, temos a forma da métrica perturbada ímpar - $h_{\\mu \\nu}^{impar}$ - no gauge de Regge-Wheeler:"
   ]
  },
  {
   "cell_type": "code",
   "execution_count": 87,
   "metadata": {},
   "outputs": [],
   "source": [
    "h_impar_new = h_impar_new.apply_map(lambda q: q.subs({hh0n : h0, hh1n : h1}).expand())"
   ]
  },
  {
   "cell_type": "code",
   "execution_count": 88,
   "metadata": {},
   "outputs": [
    {
     "data": {
      "text/html": [
       "<html>\\(\\displaystyle \\left(\\begin{array}{rrrr}\n",
       "0 & 0 & \\frac{i \\, {\\epsilon} m P_\\ell\\left({θ}\\right) e^{\\left(-i \\, t ω - i \\, m {ϕ}\\right)} h_0\\left(r\\right)}{\\sin\\left({θ}\\right)} & {\\epsilon} e^{\\left(-i \\, t ω - i \\, m {ϕ}\\right)} h_0\\left(r\\right) \\sin\\left({θ}\\right) \\frac{\\partial}{\\partial {θ}}P_\\ell\\left({θ}\\right) \\\\\n",
       "0 & 0 & \\frac{i \\, {\\epsilon} m P_\\ell\\left({θ}\\right) e^{\\left(-i \\, t ω - i \\, m {ϕ}\\right)} h_1\\left(r\\right)}{\\sin\\left({θ}\\right)} & {\\epsilon} e^{\\left(-i \\, t ω - i \\, m {ϕ}\\right)} h_1\\left(r\\right) \\sin\\left({θ}\\right) \\frac{\\partial}{\\partial {θ}}P_\\ell\\left({θ}\\right) \\\\\n",
       "\\frac{i \\, {\\epsilon} m P_\\ell\\left({θ}\\right) e^{\\left(-i \\, t ω - i \\, m {ϕ}\\right)} h_0\\left(r\\right)}{\\sin\\left({θ}\\right)} & \\frac{i \\, {\\epsilon} m P_\\ell\\left({θ}\\right) e^{\\left(-i \\, t ω - i \\, m {ϕ}\\right)} h_1\\left(r\\right)}{\\sin\\left({θ}\\right)} & 0 & 0 \\\\\n",
       "{\\epsilon} e^{\\left(-i \\, t ω - i \\, m {ϕ}\\right)} h_0\\left(r\\right) \\sin\\left({θ}\\right) \\frac{\\partial}{\\partial {θ}}P_\\ell\\left({θ}\\right) & {\\epsilon} e^{\\left(-i \\, t ω - i \\, m {ϕ}\\right)} h_1\\left(r\\right) \\sin\\left({θ}\\right) \\frac{\\partial}{\\partial {θ}}P_\\ell\\left({θ}\\right) & 0 & 0\n",
       "\\end{array}\\right)\\)</html>"
      ],
      "text/latex": [
       "$\\displaystyle \\left(\\begin{array}{rrrr}\n",
       "0 & 0 & \\frac{i \\, {\\epsilon} m P_\\ell\\left({θ}\\right) e^{\\left(-i \\, t ω - i \\, m {ϕ}\\right)} h_0\\left(r\\right)}{\\sin\\left({θ}\\right)} & {\\epsilon} e^{\\left(-i \\, t ω - i \\, m {ϕ}\\right)} h_0\\left(r\\right) \\sin\\left({θ}\\right) \\frac{\\partial}{\\partial {θ}}P_\\ell\\left({θ}\\right) \\\\\n",
       "0 & 0 & \\frac{i \\, {\\epsilon} m P_\\ell\\left({θ}\\right) e^{\\left(-i \\, t ω - i \\, m {ϕ}\\right)} h_1\\left(r\\right)}{\\sin\\left({θ}\\right)} & {\\epsilon} e^{\\left(-i \\, t ω - i \\, m {ϕ}\\right)} h_1\\left(r\\right) \\sin\\left({θ}\\right) \\frac{\\partial}{\\partial {θ}}P_\\ell\\left({θ}\\right) \\\\\n",
       "\\frac{i \\, {\\epsilon} m P_\\ell\\left({θ}\\right) e^{\\left(-i \\, t ω - i \\, m {ϕ}\\right)} h_0\\left(r\\right)}{\\sin\\left({θ}\\right)} & \\frac{i \\, {\\epsilon} m P_\\ell\\left({θ}\\right) e^{\\left(-i \\, t ω - i \\, m {ϕ}\\right)} h_1\\left(r\\right)}{\\sin\\left({θ}\\right)} & 0 & 0 \\\\\n",
       "{\\epsilon} e^{\\left(-i \\, t ω - i \\, m {ϕ}\\right)} h_0\\left(r\\right) \\sin\\left({θ}\\right) \\frac{\\partial}{\\partial {θ}}P_\\ell\\left({θ}\\right) & {\\epsilon} e^{\\left(-i \\, t ω - i \\, m {ϕ}\\right)} h_1\\left(r\\right) \\sin\\left({θ}\\right) \\frac{\\partial}{\\partial {θ}}P_\\ell\\left({θ}\\right) & 0 & 0\n",
       "\\end{array}\\right)$"
      ],
      "text/plain": [
       "[                                                0                                                 0      I*ep*m*PL(θ)*e^(-I*t*ω - I*m*ϕ)*h0(r)/sin(θ) ep*e^(-I*t*ω - I*m*ϕ)*h0(r)*sin(θ)*diff(PL(θ), θ)]\n",
       "[                                                0                                                 0      I*ep*m*PL(θ)*e^(-I*t*ω - I*m*ϕ)*h1(r)/sin(θ) ep*e^(-I*t*ω - I*m*ϕ)*h1(r)*sin(θ)*diff(PL(θ), θ)]\n",
       "[     I*ep*m*PL(θ)*e^(-I*t*ω - I*m*ϕ)*h0(r)/sin(θ)      I*ep*m*PL(θ)*e^(-I*t*ω - I*m*ϕ)*h1(r)/sin(θ)                                                 0                                                 0]\n",
       "[ep*e^(-I*t*ω - I*m*ϕ)*h0(r)*sin(θ)*diff(PL(θ), θ) ep*e^(-I*t*ω - I*m*ϕ)*h1(r)*sin(θ)*diff(PL(θ), θ)                                                 0                                                 0]"
      ]
     },
     "execution_count": 88,
     "metadata": {},
     "output_type": "execute_result"
    }
   ],
   "source": [
    "h_impar_new[:]"
   ]
  },
  {
   "cell_type": "markdown",
   "metadata": {},
   "source": [
    "---"
   ]
  },
  {
   "cell_type": "markdown",
   "metadata": {},
   "source": [
    "## Construção do Tensor de Einstein $G_{\\mu \\nu}$"
   ]
  },
  {
   "cell_type": "markdown",
   "metadata": {},
   "source": [
    "Métrica perturbada par, $h^{par}_{\\mu \\nu}$ no gauge de Regge-Wheeler: "
   ]
  },
  {
   "cell_type": "code",
   "execution_count": 89,
   "metadata": {},
   "outputs": [
    {
     "data": {
      "text/html": [
       "<html>\\(\\displaystyle \\left(\\begin{array}{rrrr}\n",
       "{\\epsilon} H_0\\left(r\\right) P_\\ell\\left({θ}\\right) e^{\\left(-i \\, t ω - i \\, m {ϕ}\\right)} f\\left(r\\right) & {\\epsilon} H_1\\left(r\\right) P_\\ell\\left({θ}\\right) e^{\\left(-i \\, t ω - i \\, m {ϕ}\\right)} & 0 & 0 \\\\\n",
       "{\\epsilon} H_1\\left(r\\right) P_\\ell\\left({θ}\\right) e^{\\left(-i \\, t ω - i \\, m {ϕ}\\right)} & {\\epsilon} H_2\\left(r\\right) P_\\ell\\left({θ}\\right) {\\rm bb}\\left(r\\right) e^{\\left(-i \\, t ω - i \\, m {ϕ}\\right)} & 0 & 0 \\\\\n",
       "0 & 0 & {\\epsilon} r^{2} K\\left(r\\right) P_\\ell\\left({θ}\\right) e^{\\left(-i \\, t ω - i \\, m {ϕ}\\right)} & 0 \\\\\n",
       "0 & 0 & 0 & {\\epsilon} r^{2} K\\left(r\\right) P_\\ell\\left({θ}\\right) e^{\\left(-i \\, t ω - i \\, m {ϕ}\\right)} \\sin\\left({θ}\\right)^{2}\n",
       "\\end{array}\\right)\\)</html>"
      ],
      "text/latex": [
       "$\\displaystyle \\left(\\begin{array}{rrrr}\n",
       "{\\epsilon} H_0\\left(r\\right) P_\\ell\\left({θ}\\right) e^{\\left(-i \\, t ω - i \\, m {ϕ}\\right)} f\\left(r\\right) & {\\epsilon} H_1\\left(r\\right) P_\\ell\\left({θ}\\right) e^{\\left(-i \\, t ω - i \\, m {ϕ}\\right)} & 0 & 0 \\\\\n",
       "{\\epsilon} H_1\\left(r\\right) P_\\ell\\left({θ}\\right) e^{\\left(-i \\, t ω - i \\, m {ϕ}\\right)} & {\\epsilon} H_2\\left(r\\right) P_\\ell\\left({θ}\\right) {\\rm bb}\\left(r\\right) e^{\\left(-i \\, t ω - i \\, m {ϕ}\\right)} & 0 & 0 \\\\\n",
       "0 & 0 & {\\epsilon} r^{2} K\\left(r\\right) P_\\ell\\left({θ}\\right) e^{\\left(-i \\, t ω - i \\, m {ϕ}\\right)} & 0 \\\\\n",
       "0 & 0 & 0 & {\\epsilon} r^{2} K\\left(r\\right) P_\\ell\\left({θ}\\right) e^{\\left(-i \\, t ω - i \\, m {ϕ}\\right)} \\sin\\left({θ}\\right)^{2}\n",
       "\\end{array}\\right)$"
      ],
      "text/plain": [
       "[       ep*H0(r)*PL(θ)*e^(-I*t*ω - I*m*ϕ)*f(r)             ep*H1(r)*PL(θ)*e^(-I*t*ω - I*m*ϕ)                                             0                                             0]\n",
       "[            ep*H1(r)*PL(θ)*e^(-I*t*ω - I*m*ϕ)       ep*H2(r)*PL(θ)*bb(r)*e^(-I*t*ω - I*m*ϕ)                                             0                                             0]\n",
       "[                                            0                                             0          ep*r^2*K(r)*PL(θ)*e^(-I*t*ω - I*m*ϕ)                                             0]\n",
       "[                                            0                                             0                                             0 ep*r^2*K(r)*PL(θ)*e^(-I*t*ω - I*m*ϕ)*sin(θ)^2]"
      ]
     },
     "execution_count": 89,
     "metadata": {},
     "output_type": "execute_result"
    }
   ],
   "source": [
    "h_par_new[:]"
   ]
  },
  {
   "cell_type": "markdown",
   "metadata": {},
   "source": [
    "Métrica perturbada ímpar, $h^{impar}_{\\mu \\nu}$ no gauge de Regge-Wheeler, com a adição do parâmetro de expansão `odd`: "
   ]
  },
  {
   "cell_type": "code",
   "execution_count": 90,
   "metadata": {},
   "outputs": [
    {
     "data": {
      "text/html": [
       "<html>\\(\\displaystyle \\mathit{odd}\\)</html>"
      ],
      "text/latex": [
       "$\\displaystyle \\mathit{odd}$"
      ],
      "text/plain": [
       "odd"
      ]
     },
     "execution_count": 90,
     "metadata": {},
     "output_type": "execute_result"
    }
   ],
   "source": [
    "var('odd')"
   ]
  },
  {
   "cell_type": "code",
   "execution_count": 91,
   "metadata": {},
   "outputs": [],
   "source": [
    "h_impar_new = h_impar_new.apply_map(lambda q: (q*odd).expand())"
   ]
  },
  {
   "cell_type": "code",
   "execution_count": 92,
   "metadata": {},
   "outputs": [
    {
     "data": {
      "text/html": [
       "<html>\\(\\displaystyle \\left(\\begin{array}{rrrr}\n",
       "0 & 0 & \\frac{i \\, {\\epsilon} m \\mathit{odd} P_\\ell\\left({θ}\\right) e^{\\left(-i \\, t ω - i \\, m {ϕ}\\right)} h_0\\left(r\\right)}{\\sin\\left({θ}\\right)} & {\\epsilon} \\mathit{odd} e^{\\left(-i \\, t ω - i \\, m {ϕ}\\right)} h_0\\left(r\\right) \\sin\\left({θ}\\right) \\frac{\\partial}{\\partial {θ}}P_\\ell\\left({θ}\\right) \\\\\n",
       "0 & 0 & \\frac{i \\, {\\epsilon} m \\mathit{odd} P_\\ell\\left({θ}\\right) e^{\\left(-i \\, t ω - i \\, m {ϕ}\\right)} h_1\\left(r\\right)}{\\sin\\left({θ}\\right)} & {\\epsilon} \\mathit{odd} e^{\\left(-i \\, t ω - i \\, m {ϕ}\\right)} h_1\\left(r\\right) \\sin\\left({θ}\\right) \\frac{\\partial}{\\partial {θ}}P_\\ell\\left({θ}\\right) \\\\\n",
       "\\frac{i \\, {\\epsilon} m \\mathit{odd} P_\\ell\\left({θ}\\right) e^{\\left(-i \\, t ω - i \\, m {ϕ}\\right)} h_0\\left(r\\right)}{\\sin\\left({θ}\\right)} & \\frac{i \\, {\\epsilon} m \\mathit{odd} P_\\ell\\left({θ}\\right) e^{\\left(-i \\, t ω - i \\, m {ϕ}\\right)} h_1\\left(r\\right)}{\\sin\\left({θ}\\right)} & 0 & 0 \\\\\n",
       "{\\epsilon} \\mathit{odd} e^{\\left(-i \\, t ω - i \\, m {ϕ}\\right)} h_0\\left(r\\right) \\sin\\left({θ}\\right) \\frac{\\partial}{\\partial {θ}}P_\\ell\\left({θ}\\right) & {\\epsilon} \\mathit{odd} e^{\\left(-i \\, t ω - i \\, m {ϕ}\\right)} h_1\\left(r\\right) \\sin\\left({θ}\\right) \\frac{\\partial}{\\partial {θ}}P_\\ell\\left({θ}\\right) & 0 & 0\n",
       "\\end{array}\\right)\\)</html>"
      ],
      "text/latex": [
       "$\\displaystyle \\left(\\begin{array}{rrrr}\n",
       "0 & 0 & \\frac{i \\, {\\epsilon} m \\mathit{odd} P_\\ell\\left({θ}\\right) e^{\\left(-i \\, t ω - i \\, m {ϕ}\\right)} h_0\\left(r\\right)}{\\sin\\left({θ}\\right)} & {\\epsilon} \\mathit{odd} e^{\\left(-i \\, t ω - i \\, m {ϕ}\\right)} h_0\\left(r\\right) \\sin\\left({θ}\\right) \\frac{\\partial}{\\partial {θ}}P_\\ell\\left({θ}\\right) \\\\\n",
       "0 & 0 & \\frac{i \\, {\\epsilon} m \\mathit{odd} P_\\ell\\left({θ}\\right) e^{\\left(-i \\, t ω - i \\, m {ϕ}\\right)} h_1\\left(r\\right)}{\\sin\\left({θ}\\right)} & {\\epsilon} \\mathit{odd} e^{\\left(-i \\, t ω - i \\, m {ϕ}\\right)} h_1\\left(r\\right) \\sin\\left({θ}\\right) \\frac{\\partial}{\\partial {θ}}P_\\ell\\left({θ}\\right) \\\\\n",
       "\\frac{i \\, {\\epsilon} m \\mathit{odd} P_\\ell\\left({θ}\\right) e^{\\left(-i \\, t ω - i \\, m {ϕ}\\right)} h_0\\left(r\\right)}{\\sin\\left({θ}\\right)} & \\frac{i \\, {\\epsilon} m \\mathit{odd} P_\\ell\\left({θ}\\right) e^{\\left(-i \\, t ω - i \\, m {ϕ}\\right)} h_1\\left(r\\right)}{\\sin\\left({θ}\\right)} & 0 & 0 \\\\\n",
       "{\\epsilon} \\mathit{odd} e^{\\left(-i \\, t ω - i \\, m {ϕ}\\right)} h_0\\left(r\\right) \\sin\\left({θ}\\right) \\frac{\\partial}{\\partial {θ}}P_\\ell\\left({θ}\\right) & {\\epsilon} \\mathit{odd} e^{\\left(-i \\, t ω - i \\, m {ϕ}\\right)} h_1\\left(r\\right) \\sin\\left({θ}\\right) \\frac{\\partial}{\\partial {θ}}P_\\ell\\left({θ}\\right) & 0 & 0\n",
       "\\end{array}\\right)$"
      ],
      "text/plain": [
       "[                                                    0                                                     0      I*ep*m*odd*PL(θ)*e^(-I*t*ω - I*m*ϕ)*h0(r)/sin(θ) ep*odd*e^(-I*t*ω - I*m*ϕ)*h0(r)*sin(θ)*diff(PL(θ), θ)]\n",
       "[                                                    0                                                     0      I*ep*m*odd*PL(θ)*e^(-I*t*ω - I*m*ϕ)*h1(r)/sin(θ) ep*odd*e^(-I*t*ω - I*m*ϕ)*h1(r)*sin(θ)*diff(PL(θ), θ)]\n",
       "[     I*ep*m*odd*PL(θ)*e^(-I*t*ω - I*m*ϕ)*h0(r)/sin(θ)      I*ep*m*odd*PL(θ)*e^(-I*t*ω - I*m*ϕ)*h1(r)/sin(θ)                                                     0                                                     0]\n",
       "[ep*odd*e^(-I*t*ω - I*m*ϕ)*h0(r)*sin(θ)*diff(PL(θ), θ) ep*odd*e^(-I*t*ω - I*m*ϕ)*h1(r)*sin(θ)*diff(PL(θ), θ)                                                     0                                                     0]"
      ]
     },
     "execution_count": 92,
     "metadata": {},
     "output_type": "execute_result"
    }
   ],
   "source": [
    "h_impar_new[:]"
   ]
  },
  {
   "cell_type": "markdown",
   "metadata": {},
   "source": [
    "Para a construção do tensor de Einstein, definiremos uma nova métrica, dada por\n",
    "\n",
    "$$\\eth_{\\mu \\nu} = g_{\\mu \\nu} + h^{par}_{\\mu \\nu} + h^{impar}_{\\mu \\nu}$$"
   ]
  },
  {
   "cell_type": "code",
   "execution_count": 93,
   "metadata": {},
   "outputs": [],
   "source": [
    "eth = M.lorentzian_metric(r'eth')"
   ]
  },
  {
   "cell_type": "code",
   "execution_count": 94,
   "metadata": {},
   "outputs": [],
   "source": [
    "eth[:] = g[:] + h_par_new[:] + h_impar_new[:]"
   ]
  },
  {
   "cell_type": "code",
   "execution_count": 95,
   "metadata": {
    "scrolled": true
   },
   "outputs": [
    {
     "data": {
      "text/html": [
       "<html>\\(\\displaystyle \\left(\\begin{array}{rrrr}\n",
       "{\\left({\\epsilon} H_0\\left(r\\right) P_\\ell\\left({θ}\\right) f\\left(r\\right) - e^{\\left(i \\, t ω + i \\, m {ϕ}\\right)} f\\left(r\\right)\\right)} e^{\\left(-i \\, t ω - i \\, m {ϕ}\\right)} & {\\epsilon} H_1\\left(r\\right) P_\\ell\\left({θ}\\right) e^{\\left(-i \\, t ω - i \\, m {ϕ}\\right)} & \\frac{i \\, {\\epsilon} m \\mathit{odd} P_\\ell\\left({θ}\\right) e^{\\left(-i \\, t ω - i \\, m {ϕ}\\right)} h_0\\left(r\\right)}{\\sin\\left({θ}\\right)} & {\\epsilon} \\mathit{odd} e^{\\left(-i \\, t ω - i \\, m {ϕ}\\right)} h_0\\left(r\\right) \\sin\\left({θ}\\right) \\frac{\\partial\\,P_\\ell}{\\partial {θ}} \\\\\n",
       "{\\epsilon} H_1\\left(r\\right) P_\\ell\\left({θ}\\right) e^{\\left(-i \\, t ω - i \\, m {ϕ}\\right)} & {\\left({\\epsilon} H_2\\left(r\\right) P_\\ell\\left({θ}\\right) {\\rm bb}\\left(r\\right) + {\\rm bb}\\left(r\\right) e^{\\left(i \\, t ω + i \\, m {ϕ}\\right)}\\right)} e^{\\left(-i \\, t ω - i \\, m {ϕ}\\right)} & \\frac{i \\, {\\epsilon} m \\mathit{odd} P_\\ell\\left({θ}\\right) e^{\\left(-i \\, t ω - i \\, m {ϕ}\\right)} h_1\\left(r\\right)}{\\sin\\left({θ}\\right)} & {\\epsilon} \\mathit{odd} e^{\\left(-i \\, t ω - i \\, m {ϕ}\\right)} h_1\\left(r\\right) \\sin\\left({θ}\\right) \\frac{\\partial\\,P_\\ell}{\\partial {θ}} \\\\\n",
       "\\frac{i \\, {\\epsilon} m \\mathit{odd} P_\\ell\\left({θ}\\right) e^{\\left(-i \\, t ω - i \\, m {ϕ}\\right)} h_0\\left(r\\right)}{\\sin\\left({θ}\\right)} & \\frac{i \\, {\\epsilon} m \\mathit{odd} P_\\ell\\left({θ}\\right) e^{\\left(-i \\, t ω - i \\, m {ϕ}\\right)} h_1\\left(r\\right)}{\\sin\\left({θ}\\right)} & {\\left({\\epsilon} r^{2} K\\left(r\\right) P_\\ell\\left({θ}\\right) + r^{2} e^{\\left(i \\, t ω + i \\, m {ϕ}\\right)}\\right)} e^{\\left(-i \\, t ω - i \\, m {ϕ}\\right)} & 0 \\\\\n",
       "{\\epsilon} \\mathit{odd} e^{\\left(-i \\, t ω - i \\, m {ϕ}\\right)} h_0\\left(r\\right) \\sin\\left({θ}\\right) \\frac{\\partial\\,P_\\ell}{\\partial {θ}} & {\\epsilon} \\mathit{odd} e^{\\left(-i \\, t ω - i \\, m {ϕ}\\right)} h_1\\left(r\\right) \\sin\\left({θ}\\right) \\frac{\\partial\\,P_\\ell}{\\partial {θ}} & 0 & {\\left({\\epsilon} r^{2} K\\left(r\\right) P_\\ell\\left({θ}\\right) \\sin\\left({θ}\\right)^{2} + r^{2} e^{\\left(i \\, t ω + i \\, m {ϕ}\\right)} \\sin\\left({θ}\\right)^{2}\\right)} e^{\\left(-i \\, t ω - i \\, m {ϕ}\\right)}\n",
       "\\end{array}\\right)\\)</html>"
      ],
      "text/latex": [
       "$\\displaystyle \\left(\\begin{array}{rrrr}\n",
       "{\\left({\\epsilon} H_0\\left(r\\right) P_\\ell\\left({θ}\\right) f\\left(r\\right) - e^{\\left(i \\, t ω + i \\, m {ϕ}\\right)} f\\left(r\\right)\\right)} e^{\\left(-i \\, t ω - i \\, m {ϕ}\\right)} & {\\epsilon} H_1\\left(r\\right) P_\\ell\\left({θ}\\right) e^{\\left(-i \\, t ω - i \\, m {ϕ}\\right)} & \\frac{i \\, {\\epsilon} m \\mathit{odd} P_\\ell\\left({θ}\\right) e^{\\left(-i \\, t ω - i \\, m {ϕ}\\right)} h_0\\left(r\\right)}{\\sin\\left({θ}\\right)} & {\\epsilon} \\mathit{odd} e^{\\left(-i \\, t ω - i \\, m {ϕ}\\right)} h_0\\left(r\\right) \\sin\\left({θ}\\right) \\frac{\\partial\\,P_\\ell}{\\partial {θ}} \\\\\n",
       "{\\epsilon} H_1\\left(r\\right) P_\\ell\\left({θ}\\right) e^{\\left(-i \\, t ω - i \\, m {ϕ}\\right)} & {\\left({\\epsilon} H_2\\left(r\\right) P_\\ell\\left({θ}\\right) {\\rm bb}\\left(r\\right) + {\\rm bb}\\left(r\\right) e^{\\left(i \\, t ω + i \\, m {ϕ}\\right)}\\right)} e^{\\left(-i \\, t ω - i \\, m {ϕ}\\right)} & \\frac{i \\, {\\epsilon} m \\mathit{odd} P_\\ell\\left({θ}\\right) e^{\\left(-i \\, t ω - i \\, m {ϕ}\\right)} h_1\\left(r\\right)}{\\sin\\left({θ}\\right)} & {\\epsilon} \\mathit{odd} e^{\\left(-i \\, t ω - i \\, m {ϕ}\\right)} h_1\\left(r\\right) \\sin\\left({θ}\\right) \\frac{\\partial\\,P_\\ell}{\\partial {θ}} \\\\\n",
       "\\frac{i \\, {\\epsilon} m \\mathit{odd} P_\\ell\\left({θ}\\right) e^{\\left(-i \\, t ω - i \\, m {ϕ}\\right)} h_0\\left(r\\right)}{\\sin\\left({θ}\\right)} & \\frac{i \\, {\\epsilon} m \\mathit{odd} P_\\ell\\left({θ}\\right) e^{\\left(-i \\, t ω - i \\, m {ϕ}\\right)} h_1\\left(r\\right)}{\\sin\\left({θ}\\right)} & {\\left({\\epsilon} r^{2} K\\left(r\\right) P_\\ell\\left({θ}\\right) + r^{2} e^{\\left(i \\, t ω + i \\, m {ϕ}\\right)}\\right)} e^{\\left(-i \\, t ω - i \\, m {ϕ}\\right)} & 0 \\\\\n",
       "{\\epsilon} \\mathit{odd} e^{\\left(-i \\, t ω - i \\, m {ϕ}\\right)} h_0\\left(r\\right) \\sin\\left({θ}\\right) \\frac{\\partial\\,P_\\ell}{\\partial {θ}} & {\\epsilon} \\mathit{odd} e^{\\left(-i \\, t ω - i \\, m {ϕ}\\right)} h_1\\left(r\\right) \\sin\\left({θ}\\right) \\frac{\\partial\\,P_\\ell}{\\partial {θ}} & 0 & {\\left({\\epsilon} r^{2} K\\left(r\\right) P_\\ell\\left({θ}\\right) \\sin\\left({θ}\\right)^{2} + r^{2} e^{\\left(i \\, t ω + i \\, m {ϕ}\\right)} \\sin\\left({θ}\\right)^{2}\\right)} e^{\\left(-i \\, t ω - i \\, m {ϕ}\\right)}\n",
       "\\end{array}\\right)$"
      ],
      "text/plain": [
       "[               (ep*H0(r)*PL(θ)*f(r) - e^(I*t*ω + I*m*ϕ)*f(r))*e^(-I*t*ω - I*m*ϕ)                                                ep*H1(r)*PL(θ)*e^(-I*t*ω - I*m*ϕ)                                 I*ep*m*odd*PL(θ)*e^(-I*t*ω - I*m*ϕ)*h0(r)/sin(θ)                                  ep*odd*e^(-I*t*ω - I*m*ϕ)*h0(r)*sin(θ)*d(PL)/dθ]\n",
       "[                                               ep*H1(r)*PL(θ)*e^(-I*t*ω - I*m*ϕ)              (ep*H2(r)*PL(θ)*bb(r) + bb(r)*e^(I*t*ω + I*m*ϕ))*e^(-I*t*ω - I*m*ϕ)                                 I*ep*m*odd*PL(θ)*e^(-I*t*ω - I*m*ϕ)*h1(r)/sin(θ)                                  ep*odd*e^(-I*t*ω - I*m*ϕ)*h1(r)*sin(θ)*d(PL)/dθ]\n",
       "[                                I*ep*m*odd*PL(θ)*e^(-I*t*ω - I*m*ϕ)*h0(r)/sin(θ)                                 I*ep*m*odd*PL(θ)*e^(-I*t*ω - I*m*ϕ)*h1(r)/sin(θ)                   (ep*r^2*K(r)*PL(θ) + r^2*e^(I*t*ω + I*m*ϕ))*e^(-I*t*ω - I*m*ϕ)                                                                                0]\n",
       "[                                 ep*odd*e^(-I*t*ω - I*m*ϕ)*h0(r)*sin(θ)*d(PL)/dθ                                  ep*odd*e^(-I*t*ω - I*m*ϕ)*h1(r)*sin(θ)*d(PL)/dθ                                                                                0 (ep*r^2*K(r)*PL(θ)*sin(θ)^2 + r^2*e^(I*t*ω + I*m*ϕ)*sin(θ)^2)*e^(-I*t*ω - I*m*ϕ)]"
      ]
     },
     "execution_count": 95,
     "metadata": {},
     "output_type": "execute_result"
    }
   ],
   "source": [
    "eth[:]"
   ]
  },
  {
   "cell_type": "markdown",
   "metadata": {},
   "source": [
    "Para o cálculo da métrica inversa, $\\eth^{\\mu \\nu}$, temos:"
   ]
  },
  {
   "cell_type": "markdown",
   "metadata": {},
   "source": [
    "<div class=\"alert alert-block alert-warning\">\n",
    "A expressão anterior, bem como as que se seguirão, não serão mostradas explicitamente, uma vez que demandarão um alto custo de processamento.\n",
    "</div>"
   ]
  },
  {
   "cell_type": "markdown",
   "metadata": {},
   "source": [
    "Aqui, as expressões para a métrica $\\eth_{\\mu \\nu}$ e sua inversa $\\eth^{\\mu \\nu}$, respectivamente, seão salvas como expressões simbólicas, para tornar os cálculos que se seguirão mais rápidos. Assim"
   ]
  },
  {
   "cell_type": "code",
   "execution_count": 96,
   "metadata": {},
   "outputs": [],
   "source": [
    "gd = eth[:].apply_map( lambda q: q.expr()) #gd - \"down\""
   ]
  },
  {
   "cell_type": "code",
   "execution_count": 97,
   "metadata": {},
   "outputs": [
    {
     "name": "stdout",
     "output_type": "stream",
     "text": [
      "CPU times: user 2min 3s, sys: 721 ms, total: 2min 4s\n",
      "Wall time: 1min 49s\n"
     ]
    }
   ],
   "source": [
    "%time gu = gd.inverse().apply_map(lambda q: q.taylor(ep,0,1)) # gu - \"up\""
   ]
  },
  {
   "cell_type": "code",
   "execution_count": 98,
   "metadata": {},
   "outputs": [],
   "source": [
    "#save(gd, 'eth') # salvando a expressão da métrica no arquivo denominado gd\n",
    "#save(gu, 'eth_inv') # salvando a expressão da métrica inversa no arquivo denominado gu"
   ]
  },
  {
   "cell_type": "markdown",
   "metadata": {},
   "source": [
    "A partir daqui, os cálculos serão feitos por meio de $\\textit{list comprehension}$, uma vez que o cálculo de tais componentes com a métrica $\\eth_{\\mu \\nu}$ tende a demandar muito processamento. Assim, a primeira etapa é definir `xu`, que conterá as coordendas com as quais estamos trabalhando, $t, r, \\theta, \\phi$. Já a variável `n` guardará a dimensão do espaço_tempo."
   ]
  },
  {
   "cell_type": "code",
   "execution_count": 99,
   "metadata": {},
   "outputs": [],
   "source": [
    "xu = RW[:]\n",
    "n = len(xu)"
   ]
  },
  {
   "cell_type": "markdown",
   "metadata": {},
   "source": [
    "Para a construção do Símbulo de Christoffel, da forma\n",
    "\n",
    "$$\\Gamma^\\alpha_{\\mu\\nu} = \\frac12 g^{\\alpha\\beta}\\left(\\partial_\\mu g_{\\beta\\nu} + \\partial_\\nu g_{\\beta\\mu} - \\partial_\\beta g_{\\mu\\nu}\\right)$$\n",
    "\n",
    "usaremos a seguinte sintaxe, na qual a expressão será guardada em $\\Gamma$"
   ]
  },
  {
   "cell_type": "code",
   "execution_count": 100,
   "metadata": {},
   "outputs": [
    {
     "name": "stdout",
     "output_type": "stream",
     "text": [
      "CPU times: user 3.5 s, sys: 44 ms, total: 3.54 s\n",
      "Wall time: 3.49 s\n"
     ]
    }
   ],
   "source": [
    "%time Γ = [[[1/2*sum(gu[α,β]*(diff(gd[β,ν],xu[μ]) + diff(gd[β,μ],xu[ν]) - diff(gd[μ,ν],xu[β])).taylor(ep,0,1) for β in range(n)) for ν in range(n)] for μ in range(n)] for α in range(n)]"
   ]
  },
  {
   "cell_type": "markdown",
   "metadata": {},
   "source": [
    "Para o tensor de Riemann, dado por\n",
    "\n",
    "$$ R^{\\rho}{}_{\\sigma\\mu\\nu} =\n",
    "  \\partial_{\\mu}\\Gamma^{\\rho}{}_{\\nu\\sigma} -\n",
    "  \\partial_{\\nu}\\Gamma^{\\rho}{}_{\\mu\\sigma} +\n",
    "  \\Gamma^{\\rho}{}_{\\mu\\alpha}\\Gamma^{\\alpha}{}_{\\nu\\sigma} -\n",
    "  \\Gamma^{\\rho}{}_{\\nu\\alpha}\\Gamma^{\\alpha}{}_{\\mu\\sigma}$$\n",
    "  \n",
    "temos a seguinte sintaxe, a qual será armazenada em `Riem_l`"
   ]
  },
  {
   "cell_type": "code",
   "execution_count": 101,
   "metadata": {},
   "outputs": [
    {
     "name": "stdout",
     "output_type": "stream",
     "text": [
      "CPU times: user 1.79 s, sys: 3.96 ms, total: 1.79 s\n",
      "Wall time: 1.79 s\n"
     ]
    }
   ],
   "source": [
    "%time Riem_l = [[[[diff(Γ[ρ][ν][σ],xu[μ]) - diff(Γ[ρ][μ][σ],xu[ν]) + sum(Γ[ρ][μ][α]*Γ[α][ν][σ] for α in range(n)) - \\\n",
    "               sum(Γ[ρ][ν][α]*Γ[α][μ][σ] for α in range(n)) for ν in range(n)] for μ in range(n)] for σ in range(n)] for ρ in range(n)]"
   ]
  },
  {
   "cell_type": "markdown",
   "metadata": {},
   "source": [
    "Para o tenso de Ricci, dado por\n",
    "\n",
    "$$R_{\\mu\\nu} = R^\\alpha{_{\\mu\\alpha\\nu}}$$\n",
    "\n",
    "temos a seguinte sintaxe, armazenada em `Ric_l`"
   ]
  },
  {
   "cell_type": "code",
   "execution_count": 102,
   "metadata": {},
   "outputs": [
    {
     "name": "stdout",
     "output_type": "stream",
     "text": [
      "CPU times: user 1.63 ms, sys: 0 ns, total: 1.63 ms\n",
      "Wall time: 1.64 ms\n"
     ]
    }
   ],
   "source": [
    "%time Ric_l = [flatten([[sum(Riem_l[α][μ][α][ν] for α in range(n))] for ν in range(n)]) for μ in range(n)]"
   ]
  },
  {
   "cell_type": "markdown",
   "metadata": {},
   "source": [
    "Assim como para o escalar de Ricci, dado por\n",
    "\n",
    "$$R = g^{\\mu\\nu}R_{\\mu\\nu}$$\n",
    "\n",
    "terá a sintaxe, armazenada em `R_l`"
   ]
  },
  {
   "cell_type": "code",
   "execution_count": 103,
   "metadata": {},
   "outputs": [
    {
     "name": "stdout",
     "output_type": "stream",
     "text": [
      "CPU times: user 65.8 ms, sys: 25 µs, total: 65.8 ms\n",
      "Wall time: 64.8 ms\n"
     ]
    }
   ],
   "source": [
    "%time R_l = sum(sum(gu[μ,ν]*Ric_l[μ][ν] for ν in range(n)) for μ in range(n))"
   ]
  },
  {
   "cell_type": "markdown",
   "metadata": {},
   "source": [
    "Por fim, para a construção do tensor de Einstein, dado por\n",
    "\n",
    "$$G_{\\mu \\nu} = R_{\\mu \\nu} - \\frac{1}{2}g_{\\mu \\nu}R$$\n",
    "\n",
    "teremos a sintaxe final, salva em `G`, construída a partir das componentes anteriores"
   ]
  },
  {
   "cell_type": "code",
   "execution_count": 104,
   "metadata": {},
   "outputs": [
    {
     "name": "stdout",
     "output_type": "stream",
     "text": [
      "CPU times: user 9.07 ms, sys: 4.01 ms, total: 13.1 ms\n",
      "Wall time: 29.2 ms\n"
     ]
    }
   ],
   "source": [
    "%time G = [[Ric_l[μ][ν] - (1/2)*gd[μ][ν]*R_l for ν in range(n)] for μ in range(n)]"
   ]
  },
  {
   "cell_type": "markdown",
   "metadata": {},
   "source": [
    "___"
   ]
  },
  {
   "cell_type": "markdown",
   "metadata": {},
   "source": [
    "## Equação de Campo"
   ]
  },
  {
   "cell_type": "markdown",
   "metadata": {},
   "source": [
    "Aqui, será construído o Tensor de Einstein, com a nova métrica $\\eth_{\\mu \\nu}$. A primeira etapa é construir a diagonal principal, da forma que se segue:"
   ]
  },
  {
   "cell_type": "code",
   "execution_count": 105,
   "metadata": {},
   "outputs": [
    {
     "name": "stdout",
     "output_type": "stream",
     "text": [
      "CPU times: user 1min 53s, sys: 304 ms, total: 1min 54s\n",
      "Wall time: 1min 48s\n"
     ]
    }
   ],
   "source": [
    "%time diag = [G[μ][μ].taylor(ep,0,1) for μ in range(n)]"
   ]
  },
  {
   "cell_type": "markdown",
   "metadata": {},
   "source": [
    "As componentes acima da diagonal principal será construídas da forma:"
   ]
  },
  {
   "cell_type": "code",
   "execution_count": 106,
   "metadata": {},
   "outputs": [
    {
     "name": "stdout",
     "output_type": "stream",
     "text": [
      "CPU times: user 2min 23s, sys: 486 ms, total: 2min 23s\n",
      "Wall time: 2min 16s\n"
     ]
    }
   ],
   "source": [
    "%time upper_diag = [G[μ][ν].taylor(ep,0,1) if ν > μ else 0 for μ in range(n) for ν in range(n)]"
   ]
  },
  {
   "cell_type": "code",
   "execution_count": 107,
   "metadata": {},
   "outputs": [],
   "source": [
    "msym = matrix(n,n,upper_diag)"
   ]
  },
  {
   "cell_type": "markdown",
   "metadata": {},
   "source": [
    "Por fim, a equação de campo de Einstein será:"
   ]
  },
  {
   "cell_type": "code",
   "execution_count": 108,
   "metadata": {},
   "outputs": [
    {
     "name": "stdout",
     "output_type": "stream",
     "text": [
      "CPU times: user 39.1 s, sys: 136 ms, total: 39.2 s\n",
      "Wall time: 37.9 s\n"
     ]
    }
   ],
   "source": [
    "%time eq_campo = msym + msym.transpose() + matrix.diagonal(diag)"
   ]
  },
  {
   "cell_type": "code",
   "execution_count": 109,
   "metadata": {},
   "outputs": [],
   "source": [
    "#%time save(G, 'tensor_G')"
   ]
  },
  {
   "cell_type": "markdown",
   "metadata": {},
   "source": [
    "### Perturbação Axial: Equação de Regge-Wheeler"
   ]
  },
  {
   "cell_type": "markdown",
   "metadata": {},
   "source": [
    "O presente tópico tem como objetivo encontrar a Equação de Regge-Wheeler, ou seja, a equação que descreverá a perturbação axial do problema que estamos estudando. E, para isso, nos voltaremos para a paridade ímpar da equação de Campo de Eisntein. \n",
    "\n",
    "Para a seleção da parte par da equação de campo, usaremos o comando `.coefficient(odd)`, que será responsável por coletar todas as expressões que contenham o coeficiente `odd`, definido anteriormente. Assim:"
   ]
  },
  {
   "cell_type": "code",
   "execution_count": 110,
   "metadata": {},
   "outputs": [
    {
     "name": "stdout",
     "output_type": "stream",
     "text": [
      "CPU times: user 11.6 ms, sys: 0 ns, total: 11.6 ms\n",
      "Wall time: 11.4 ms\n"
     ]
    }
   ],
   "source": [
    "%time campo_odd = eq_campo.apply_map(lambda q: q.coefficient(odd))"
   ]
  },
  {
   "cell_type": "markdown",
   "metadata": {},
   "source": [
    "Com o intúito de simplificar as expressões, definiremos algumas regras de substiuições, tanto para as funções trigonométricas, quanto para o Polinômio de Legendre, $P_{\\ell}$:"
   ]
  },
  {
   "cell_type": "code",
   "execution_count": 111,
   "metadata": {},
   "outputs": [],
   "source": [
    "PLdd_s = PLdd.subs({Csc(θ):1/sin(θ), Cot(θ):cos(θ)/sin(θ)})"
   ]
  },
  {
   "cell_type": "code",
   "execution_count": 112,
   "metadata": {},
   "outputs": [
    {
     "data": {
      "text/html": [
       "<html>\\(\\displaystyle \\left\\{\\frac{\\partial^{2}}{(\\partial {θ})^{2}}P_\\ell\\left({θ}\\right) : -{\\left(\\mathit{ll} - \\frac{m^{2}}{\\sin\\left({θ}\\right)^{2}}\\right)} P_\\ell\\left({θ}\\right) - \\frac{\\cos\\left({θ}\\right) \\frac{\\partial}{\\partial {θ}}P_\\ell\\left({θ}\\right)}{\\sin\\left({θ}\\right)}\\right\\}\\)</html>"
      ],
      "text/latex": [
       "$\\displaystyle \\left\\{\\frac{\\partial^{2}}{(\\partial {θ})^{2}}P_\\ell\\left({θ}\\right) : -{\\left(\\mathit{ll} - \\frac{m^{2}}{\\sin\\left({θ}\\right)^{2}}\\right)} P_\\ell\\left({θ}\\right) - \\frac{\\cos\\left({θ}\\right) \\frac{\\partial}{\\partial {θ}}P_\\ell\\left({θ}\\right)}{\\sin\\left({θ}\\right)}\\right\\}$"
      ],
      "text/plain": [
       "{diff(PL(θ), θ, θ): -(ll - m^2/sin(θ)^2)*PL(θ) - cos(θ)*diff(PL(θ), θ)/sin(θ)}"
      ]
     },
     "execution_count": 112,
     "metadata": {},
     "output_type": "execute_result"
    }
   ],
   "source": [
    "PLdd_dict = ({diff(PL, θ, 2) : PLdd_s})\n",
    "PLdd_dict"
   ]
  },
  {
   "cell_type": "code",
   "execution_count": 113,
   "metadata": {},
   "outputs": [],
   "source": [
    "PLdd_dict[diff(list(PLdd_dict.keys())[0], θ)] = diff(list(PLdd_dict.values())[0], θ)"
   ]
  },
  {
   "cell_type": "code",
   "execution_count": 114,
   "metadata": {},
   "outputs": [
    {
     "data": {
      "text/html": [
       "<html>\\(\\displaystyle \\left\\{\\frac{\\partial^{2}}{(\\partial {θ})^{2}}P_\\ell\\left({θ}\\right) : -{\\left(\\mathit{ll} - \\frac{m^{2}}{\\sin\\left({θ}\\right)^{2}}\\right)} P_\\ell\\left({θ}\\right) - \\frac{\\cos\\left({θ}\\right) \\frac{\\partial}{\\partial {θ}}P_\\ell\\left({θ}\\right)}{\\sin\\left({θ}\\right)}, \\frac{\\partial^{3}}{(\\partial {θ})^{3}}P_\\ell\\left({θ}\\right) : -{\\left(\\mathit{ll} - \\frac{m^{2}}{\\sin\\left({θ}\\right)^{2}}\\right)} \\frac{\\partial}{\\partial {θ}}P_\\ell\\left({θ}\\right) - \\frac{2 \\, m^{2} P_\\ell\\left({θ}\\right) \\cos\\left({θ}\\right)}{\\sin\\left({θ}\\right)^{3}} + \\frac{\\cos\\left({θ}\\right)^{2} \\frac{\\partial}{\\partial {θ}}P_\\ell\\left({θ}\\right)}{\\sin\\left({θ}\\right)^{2}} - \\frac{\\cos\\left({θ}\\right) \\frac{\\partial^{2}}{(\\partial {θ})^{2}}P_\\ell\\left({θ}\\right)}{\\sin\\left({θ}\\right)} + \\frac{\\partial}{\\partial {θ}}P_\\ell\\left({θ}\\right)\\right\\}\\)</html>"
      ],
      "text/latex": [
       "$\\displaystyle \\left\\{\\frac{\\partial^{2}}{(\\partial {θ})^{2}}P_\\ell\\left({θ}\\right) : -{\\left(\\mathit{ll} - \\frac{m^{2}}{\\sin\\left({θ}\\right)^{2}}\\right)} P_\\ell\\left({θ}\\right) - \\frac{\\cos\\left({θ}\\right) \\frac{\\partial}{\\partial {θ}}P_\\ell\\left({θ}\\right)}{\\sin\\left({θ}\\right)}, \\frac{\\partial^{3}}{(\\partial {θ})^{3}}P_\\ell\\left({θ}\\right) : -{\\left(\\mathit{ll} - \\frac{m^{2}}{\\sin\\left({θ}\\right)^{2}}\\right)} \\frac{\\partial}{\\partial {θ}}P_\\ell\\left({θ}\\right) - \\frac{2 \\, m^{2} P_\\ell\\left({θ}\\right) \\cos\\left({θ}\\right)}{\\sin\\left({θ}\\right)^{3}} + \\frac{\\cos\\left({θ}\\right)^{2} \\frac{\\partial}{\\partial {θ}}P_\\ell\\left({θ}\\right)}{\\sin\\left({θ}\\right)^{2}} - \\frac{\\cos\\left({θ}\\right) \\frac{\\partial^{2}}{(\\partial {θ})^{2}}P_\\ell\\left({θ}\\right)}{\\sin\\left({θ}\\right)} + \\frac{\\partial}{\\partial {θ}}P_\\ell\\left({θ}\\right)\\right\\}$"
      ],
      "text/plain": [
       "{diff(PL(θ), θ, θ): -(ll - m^2/sin(θ)^2)*PL(θ) - cos(θ)*diff(PL(θ), θ)/sin(θ),\n",
       " diff(PL(θ), θ, θ, θ): -(ll - m^2/sin(θ)^2)*diff(PL(θ), θ) - 2*m^2*PL(θ)*cos(θ)/sin(θ)^3 + cos(θ)^2*diff(PL(θ), θ)/sin(θ)^2 - cos(θ)*diff(PL(θ), θ, θ)/sin(θ) + diff(PL(θ), θ)}"
      ]
     },
     "execution_count": 114,
     "metadata": {},
     "output_type": "execute_result"
    }
   ],
   "source": [
    "PLdd_dict"
   ]
  },
  {
   "cell_type": "code",
   "execution_count": 115,
   "metadata": {},
   "outputs": [
    {
     "name": "stdout",
     "output_type": "stream",
     "text": [
      "CPU times: user 993 ms, sys: 12 ms, total: 1 s\n",
      "Wall time: 1 s\n"
     ]
    }
   ],
   "source": [
    "%time campo_odd = campo_odd.apply_map(lambda q: q.subs(PLdd_dict).subs(PLdd_dict).expand().factor())"
   ]
  },
  {
   "cell_type": "markdown",
   "metadata": {},
   "source": [
    "Primeiramente, resolveremos expressão para a métrica perturbada $h^{(0)}_{\\theta \\phi}$, expressa pela componente `eq_campo[2,3]`: "
   ]
  },
  {
   "cell_type": "code",
   "execution_count": 116,
   "metadata": {},
   "outputs": [
    {
     "name": "stdout",
     "output_type": "stream",
     "text": [
      "CPU times: user 490 µs, sys: 4 µs, total: 494 µs\n",
      "Wall time: 501 µs\n"
     ]
    }
   ],
   "source": [
    "%time campo_odd_23 = eq_campo[2,3].coefficient(odd)"
   ]
  },
  {
   "cell_type": "code",
   "execution_count": 117,
   "metadata": {},
   "outputs": [
    {
     "name": "stdout",
     "output_type": "stream",
     "text": [
      "CPU times: user 24.8 ms, sys: 5 µs, total: 24.8 ms\n",
      "Wall time: 24.6 ms\n"
     ]
    }
   ],
   "source": [
    "%time campo_odd_23 = campo_odd_23.simplify()"
   ]
  },
  {
   "cell_type": "code",
   "execution_count": 118,
   "metadata": {},
   "outputs": [
    {
     "name": "stdout",
     "output_type": "stream",
     "text": [
      "CPU times: user 30.2 ms, sys: 0 ns, total: 30.2 ms\n",
      "Wall time: 31.3 ms\n"
     ]
    }
   ],
   "source": [
    "%time h0sol = (campo_odd_23 == 0).solve(h0, solution_dict=True)[0]"
   ]
  },
  {
   "cell_type": "code",
   "execution_count": 119,
   "metadata": {},
   "outputs": [
    {
     "data": {
      "text/html": [
       "<html>\\(\\displaystyle \\left\\{h_0\\left(r\\right) : \\frac{-i \\, f\\left(r\\right) h_1\\left(r\\right) \\frac{\\partial}{\\partial r}{\\rm bb}\\left(r\\right) + i \\, {\\rm bb}\\left(r\\right) h_1\\left(r\\right) \\frac{\\partial}{\\partial r}f\\left(r\\right) + 2 i \\, {\\rm bb}\\left(r\\right) f\\left(r\\right) \\frac{\\partial}{\\partial r}h_1\\left(r\\right)}{2 \\, ω {\\rm bb}\\left(r\\right)^{2}}\\right\\}\\)</html>"
      ],
      "text/latex": [
       "$\\displaystyle \\left\\{h_0\\left(r\\right) : \\frac{-i \\, f\\left(r\\right) h_1\\left(r\\right) \\frac{\\partial}{\\partial r}{\\rm bb}\\left(r\\right) + i \\, {\\rm bb}\\left(r\\right) h_1\\left(r\\right) \\frac{\\partial}{\\partial r}f\\left(r\\right) + 2 i \\, {\\rm bb}\\left(r\\right) f\\left(r\\right) \\frac{\\partial}{\\partial r}h_1\\left(r\\right)}{2 \\, ω {\\rm bb}\\left(r\\right)^{2}}\\right\\}$"
      ],
      "text/plain": [
       "{h0(r): 1/2*(-I*f(r)*h1(r)*diff(bb(r), r) + I*bb(r)*h1(r)*diff(f(r), r) + 2*I*bb(r)*f(r)*diff(h1(r), r))/(ω*bb(r)^2)}"
      ]
     },
     "execution_count": 119,
     "metadata": {},
     "output_type": "execute_result"
    }
   ],
   "source": [
    "h0sol"
   ]
  },
  {
   "cell_type": "code",
   "execution_count": 120,
   "metadata": {},
   "outputs": [],
   "source": [
    "h0sol[diff(list(h0sol.keys())[0], r)] = diff(list(h0sol.values())[0], r)"
   ]
  },
  {
   "cell_type": "code",
   "execution_count": 121,
   "metadata": {},
   "outputs": [],
   "source": [
    "h0sol[diff(list(h0sol.keys())[0], r, 2)] = diff(list(h0sol.values())[0], r, 2)"
   ]
  },
  {
   "cell_type": "markdown",
   "metadata": {},
   "source": [
    "Inserindo o resultado de $h^{(0)}$ de volta na equação de campo ímpar:"
   ]
  },
  {
   "cell_type": "code",
   "execution_count": 122,
   "metadata": {},
   "outputs": [
    {
     "name": "stdout",
     "output_type": "stream",
     "text": [
      "CPU times: user 63.1 ms, sys: 0 ns, total: 63.1 ms\n",
      "Wall time: 63.8 ms\n"
     ]
    }
   ],
   "source": [
    "%time campo_odd_new = campo_odd.apply_map(lambda q: q.subs(h0sol))"
   ]
  },
  {
   "cell_type": "markdown",
   "metadata": {},
   "source": [
    "A próxima componente a ser resolvida será a $\\partial_r^2h^{(1)}_{r \\theta}$, presente na componente `eq_campo[1,3]`:"
   ]
  },
  {
   "cell_type": "code",
   "execution_count": 123,
   "metadata": {},
   "outputs": [
    {
     "name": "stdout",
     "output_type": "stream",
     "text": [
      "CPU times: user 15 µs, sys: 0 ns, total: 15 µs\n",
      "Wall time: 17.6 µs\n"
     ]
    }
   ],
   "source": [
    "%time campo_odd_new_13 = campo_odd_new[1,3]"
   ]
  },
  {
   "cell_type": "code",
   "execution_count": 124,
   "metadata": {},
   "outputs": [
    {
     "name": "stdout",
     "output_type": "stream",
     "text": [
      "CPU times: user 117 ms, sys: 0 ns, total: 117 ms\n",
      "Wall time: 118 ms\n"
     ]
    }
   ],
   "source": [
    "%time expr = (campo_odd_new_13 == 0).solve(diff(h1, r, 2))"
   ]
  },
  {
   "cell_type": "code",
   "execution_count": 125,
   "metadata": {},
   "outputs": [],
   "source": [
    "eq_h1sol = expr[0].rhs().factor()"
   ]
  },
  {
   "cell_type": "code",
   "execution_count": 126,
   "metadata": {},
   "outputs": [],
   "source": [
    "h1sol = {diff(h1, r, 2) : eq_h1sol}"
   ]
  },
  {
   "cell_type": "code",
   "execution_count": 127,
   "metadata": {},
   "outputs": [
    {
     "data": {
      "text/html": [
       "<html>\\(\\displaystyle \\left\\{\\frac{\\partial^{2}}{(\\partial r)^{2}}h_1\\left(r\\right) : -\\frac{2 \\, r^{2} ω^{2} {\\rm bb}\\left(r\\right)^{3} f\\left(r\\right) h_1\\left(r\\right) - 2 \\, \\mathit{ll} {\\rm bb}\\left(r\\right)^{3} f\\left(r\\right)^{2} h_1\\left(r\\right) + 2 \\, r^{2} f\\left(r\\right)^{2} h_1\\left(r\\right) \\frac{\\partial}{\\partial r}{\\rm bb}\\left(r\\right)^{2} - r^{2} {\\rm bb}\\left(r\\right) f\\left(r\\right)^{2} h_1\\left(r\\right) \\frac{\\partial^{2}}{(\\partial r)^{2}}{\\rm bb}\\left(r\\right) - r^{2} {\\rm bb}\\left(r\\right) f\\left(r\\right) h_1\\left(r\\right) \\frac{\\partial}{\\partial r}{\\rm bb}\\left(r\\right) \\frac{\\partial}{\\partial r}f\\left(r\\right) + r^{2} {\\rm bb}\\left(r\\right)^{2} h_1\\left(r\\right) \\frac{\\partial}{\\partial r}f\\left(r\\right)^{2} - r^{2} {\\rm bb}\\left(r\\right)^{2} f\\left(r\\right) h_1\\left(r\\right) \\frac{\\partial^{2}}{(\\partial r)^{2}}f\\left(r\\right) - 3 \\, r^{2} {\\rm bb}\\left(r\\right) f\\left(r\\right)^{2} \\frac{\\partial}{\\partial r}{\\rm bb}\\left(r\\right) \\frac{\\partial}{\\partial r}h_1\\left(r\\right) + 3 \\, r^{2} {\\rm bb}\\left(r\\right)^{2} f\\left(r\\right) \\frac{\\partial}{\\partial r}f\\left(r\\right) \\frac{\\partial}{\\partial r}h_1\\left(r\\right) + 4 \\, {\\rm bb}\\left(r\\right)^{3} f\\left(r\\right)^{2} h_1\\left(r\\right) + 4 \\, r {\\rm bb}\\left(r\\right) f\\left(r\\right)^{2} h_1\\left(r\\right) \\frac{\\partial}{\\partial r}{\\rm bb}\\left(r\\right) - 4 \\, r {\\rm bb}\\left(r\\right)^{2} f\\left(r\\right) h_1\\left(r\\right) \\frac{\\partial}{\\partial r}f\\left(r\\right) - 4 \\, r {\\rm bb}\\left(r\\right)^{2} f\\left(r\\right)^{2} \\frac{\\partial}{\\partial r}h_1\\left(r\\right)}{2 \\, r^{2} {\\rm bb}\\left(r\\right)^{2} f\\left(r\\right)^{2}}\\right\\}\\)</html>"
      ],
      "text/latex": [
       "$\\displaystyle \\left\\{\\frac{\\partial^{2}}{(\\partial r)^{2}}h_1\\left(r\\right) : -\\frac{2 \\, r^{2} ω^{2} {\\rm bb}\\left(r\\right)^{3} f\\left(r\\right) h_1\\left(r\\right) - 2 \\, \\mathit{ll} {\\rm bb}\\left(r\\right)^{3} f\\left(r\\right)^{2} h_1\\left(r\\right) + 2 \\, r^{2} f\\left(r\\right)^{2} h_1\\left(r\\right) \\frac{\\partial}{\\partial r}{\\rm bb}\\left(r\\right)^{2} - r^{2} {\\rm bb}\\left(r\\right) f\\left(r\\right)^{2} h_1\\left(r\\right) \\frac{\\partial^{2}}{(\\partial r)^{2}}{\\rm bb}\\left(r\\right) - r^{2} {\\rm bb}\\left(r\\right) f\\left(r\\right) h_1\\left(r\\right) \\frac{\\partial}{\\partial r}{\\rm bb}\\left(r\\right) \\frac{\\partial}{\\partial r}f\\left(r\\right) + r^{2} {\\rm bb}\\left(r\\right)^{2} h_1\\left(r\\right) \\frac{\\partial}{\\partial r}f\\left(r\\right)^{2} - r^{2} {\\rm bb}\\left(r\\right)^{2} f\\left(r\\right) h_1\\left(r\\right) \\frac{\\partial^{2}}{(\\partial r)^{2}}f\\left(r\\right) - 3 \\, r^{2} {\\rm bb}\\left(r\\right) f\\left(r\\right)^{2} \\frac{\\partial}{\\partial r}{\\rm bb}\\left(r\\right) \\frac{\\partial}{\\partial r}h_1\\left(r\\right) + 3 \\, r^{2} {\\rm bb}\\left(r\\right)^{2} f\\left(r\\right) \\frac{\\partial}{\\partial r}f\\left(r\\right) \\frac{\\partial}{\\partial r}h_1\\left(r\\right) + 4 \\, {\\rm bb}\\left(r\\right)^{3} f\\left(r\\right)^{2} h_1\\left(r\\right) + 4 \\, r {\\rm bb}\\left(r\\right) f\\left(r\\right)^{2} h_1\\left(r\\right) \\frac{\\partial}{\\partial r}{\\rm bb}\\left(r\\right) - 4 \\, r {\\rm bb}\\left(r\\right)^{2} f\\left(r\\right) h_1\\left(r\\right) \\frac{\\partial}{\\partial r}f\\left(r\\right) - 4 \\, r {\\rm bb}\\left(r\\right)^{2} f\\left(r\\right)^{2} \\frac{\\partial}{\\partial r}h_1\\left(r\\right)}{2 \\, r^{2} {\\rm bb}\\left(r\\right)^{2} f\\left(r\\right)^{2}}\\right\\}$"
      ],
      "text/plain": [
       "{diff(h1(r), r, r): -1/2*(2*r^2*ω^2*bb(r)^3*f(r)*h1(r) - 2*ll*bb(r)^3*f(r)^2*h1(r) + 2*r^2*f(r)^2*h1(r)*diff(bb(r), r)^2 - r^2*bb(r)*f(r)^2*h1(r)*diff(bb(r), r, r) - r^2*bb(r)*f(r)*h1(r)*diff(bb(r), r)*diff(f(r), r) + r^2*bb(r)^2*h1(r)*diff(f(r), r)^2 - r^2*bb(r)^2*f(r)*h1(r)*diff(f(r), r, r) - 3*r^2*bb(r)*f(r)^2*diff(bb(r), r)*diff(h1(r), r) + 3*r^2*bb(r)^2*f(r)*diff(f(r), r)*diff(h1(r), r) + 4*bb(r)^3*f(r)^2*h1(r) + 4*r*bb(r)*f(r)^2*h1(r)*diff(bb(r), r) - 4*r*bb(r)^2*f(r)*h1(r)*diff(f(r), r) - 4*r*bb(r)^2*f(r)^2*diff(h1(r), r))/(r^2*bb(r)^2*f(r)^2)}"
      ]
     },
     "execution_count": 127,
     "metadata": {},
     "output_type": "execute_result"
    }
   ],
   "source": [
    "h1sol"
   ]
  },
  {
   "cell_type": "code",
   "execution_count": 128,
   "metadata": {},
   "outputs": [],
   "source": [
    "h1sol[diff(list(h1sol.keys())[0], r)] = diff(list(h1sol.values())[0], r)"
   ]
  },
  {
   "cell_type": "code",
   "execution_count": 129,
   "metadata": {},
   "outputs": [],
   "source": [
    "h1sol[diff(list(h1sol.keys())[0], r, 2)] = diff(list(h1sol.values())[0], r, 2)"
   ]
  },
  {
   "cell_type": "markdown",
   "metadata": {},
   "source": [
    "Definindo a função de Regge-Wheller $Q(r)$, da forma:"
   ]
  },
  {
   "cell_type": "code",
   "execution_count": 130,
   "metadata": {},
   "outputs": [],
   "source": [
    "Q(r) = function('Q')(r)"
   ]
  },
  {
   "cell_type": "code",
   "execution_count": 131,
   "metadata": {},
   "outputs": [],
   "source": [
    "Qdef = {h1 : (r*Q)/sqrt(f/bb)}"
   ]
  },
  {
   "cell_type": "code",
   "execution_count": 132,
   "metadata": {},
   "outputs": [],
   "source": [
    "Qdef[diff(list(Qdef.keys())[0], r)] = diff(list(Qdef.values())[0], r) "
   ]
  },
  {
   "cell_type": "code",
   "execution_count": 133,
   "metadata": {},
   "outputs": [],
   "source": [
    "Qdef[diff(list(Qdef.keys())[0], r, 2)] = diff(list(Qdef.values())[0], r, 2) "
   ]
  },
  {
   "cell_type": "code",
   "execution_count": 134,
   "metadata": {},
   "outputs": [
    {
     "data": {
      "text/html": [
       "<html>\\(\\displaystyle \\left\\{h_1\\left(r\\right) : r \\ {\\mapsto}\\ \\frac{r Q\\left(r\\right)}{\\sqrt{\\frac{f\\left(r\\right)}{{\\rm bb}\\left(r\\right)}}}, \\frac{\\partial}{\\partial r}h_1\\left(r\\right) : r \\ {\\mapsto}\\ \\frac{r {\\left(\\frac{f\\left(r\\right) \\frac{\\partial}{\\partial r}{\\rm bb}\\left(r\\right)}{{\\rm bb}\\left(r\\right)^{2}} - \\frac{\\frac{\\partial}{\\partial r}f\\left(r\\right)}{{\\rm bb}\\left(r\\right)}\\right)} Q\\left(r\\right)}{2 \\, \\left(\\frac{f\\left(r\\right)}{{\\rm bb}\\left(r\\right)}\\right)^{\\frac{3}{2}}} + \\frac{r \\frac{\\partial}{\\partial r}Q\\left(r\\right)}{\\sqrt{\\frac{f\\left(r\\right)}{{\\rm bb}\\left(r\\right)}}} + \\frac{Q\\left(r\\right)}{\\sqrt{\\frac{f\\left(r\\right)}{{\\rm bb}\\left(r\\right)}}}, \\frac{\\partial^{2}}{(\\partial r)^{2}}h_1\\left(r\\right) : r \\ {\\mapsto}\\ \\frac{3 \\, r {\\left(\\frac{f\\left(r\\right) \\frac{\\partial}{\\partial r}{\\rm bb}\\left(r\\right)}{{\\rm bb}\\left(r\\right)^{2}} - \\frac{\\frac{\\partial}{\\partial r}f\\left(r\\right)}{{\\rm bb}\\left(r\\right)}\\right)}^{2} Q\\left(r\\right)}{4 \\, \\left(\\frac{f\\left(r\\right)}{{\\rm bb}\\left(r\\right)}\\right)^{\\frac{5}{2}}} - \\frac{r {\\left(\\frac{2 \\, f\\left(r\\right) \\frac{\\partial}{\\partial r}{\\rm bb}\\left(r\\right)^{2}}{{\\rm bb}\\left(r\\right)^{3}} - \\frac{f\\left(r\\right) \\frac{\\partial^{2}}{(\\partial r)^{2}}{\\rm bb}\\left(r\\right)}{{\\rm bb}\\left(r\\right)^{2}} - \\frac{2 \\, \\frac{\\partial}{\\partial r}{\\rm bb}\\left(r\\right) \\frac{\\partial}{\\partial r}f\\left(r\\right)}{{\\rm bb}\\left(r\\right)^{2}} + \\frac{\\frac{\\partial^{2}}{(\\partial r)^{2}}f\\left(r\\right)}{{\\rm bb}\\left(r\\right)}\\right)} Q\\left(r\\right)}{2 \\, \\left(\\frac{f\\left(r\\right)}{{\\rm bb}\\left(r\\right)}\\right)^{\\frac{3}{2}}} + \\frac{r {\\left(\\frac{f\\left(r\\right) \\frac{\\partial}{\\partial r}{\\rm bb}\\left(r\\right)}{{\\rm bb}\\left(r\\right)^{2}} - \\frac{\\frac{\\partial}{\\partial r}f\\left(r\\right)}{{\\rm bb}\\left(r\\right)}\\right)} \\frac{\\partial}{\\partial r}Q\\left(r\\right)}{\\left(\\frac{f\\left(r\\right)}{{\\rm bb}\\left(r\\right)}\\right)^{\\frac{3}{2}}} + \\frac{r \\frac{\\partial^{2}}{(\\partial r)^{2}}Q\\left(r\\right)}{\\sqrt{\\frac{f\\left(r\\right)}{{\\rm bb}\\left(r\\right)}}} + \\frac{{\\left(\\frac{f\\left(r\\right) \\frac{\\partial}{\\partial r}{\\rm bb}\\left(r\\right)}{{\\rm bb}\\left(r\\right)^{2}} - \\frac{\\frac{\\partial}{\\partial r}f\\left(r\\right)}{{\\rm bb}\\left(r\\right)}\\right)} Q\\left(r\\right)}{\\left(\\frac{f\\left(r\\right)}{{\\rm bb}\\left(r\\right)}\\right)^{\\frac{3}{2}}} + \\frac{2 \\, \\frac{\\partial}{\\partial r}Q\\left(r\\right)}{\\sqrt{\\frac{f\\left(r\\right)}{{\\rm bb}\\left(r\\right)}}}\\right\\}\\)</html>"
      ],
      "text/latex": [
       "$\\displaystyle \\left\\{h_1\\left(r\\right) : r \\ {\\mapsto}\\ \\frac{r Q\\left(r\\right)}{\\sqrt{\\frac{f\\left(r\\right)}{{\\rm bb}\\left(r\\right)}}}, \\frac{\\partial}{\\partial r}h_1\\left(r\\right) : r \\ {\\mapsto}\\ \\frac{r {\\left(\\frac{f\\left(r\\right) \\frac{\\partial}{\\partial r}{\\rm bb}\\left(r\\right)}{{\\rm bb}\\left(r\\right)^{2}} - \\frac{\\frac{\\partial}{\\partial r}f\\left(r\\right)}{{\\rm bb}\\left(r\\right)}\\right)} Q\\left(r\\right)}{2 \\, \\left(\\frac{f\\left(r\\right)}{{\\rm bb}\\left(r\\right)}\\right)^{\\frac{3}{2}}} + \\frac{r \\frac{\\partial}{\\partial r}Q\\left(r\\right)}{\\sqrt{\\frac{f\\left(r\\right)}{{\\rm bb}\\left(r\\right)}}} + \\frac{Q\\left(r\\right)}{\\sqrt{\\frac{f\\left(r\\right)}{{\\rm bb}\\left(r\\right)}}}, \\frac{\\partial^{2}}{(\\partial r)^{2}}h_1\\left(r\\right) : r \\ {\\mapsto}\\ \\frac{3 \\, r {\\left(\\frac{f\\left(r\\right) \\frac{\\partial}{\\partial r}{\\rm bb}\\left(r\\right)}{{\\rm bb}\\left(r\\right)^{2}} - \\frac{\\frac{\\partial}{\\partial r}f\\left(r\\right)}{{\\rm bb}\\left(r\\right)}\\right)}^{2} Q\\left(r\\right)}{4 \\, \\left(\\frac{f\\left(r\\right)}{{\\rm bb}\\left(r\\right)}\\right)^{\\frac{5}{2}}} - \\frac{r {\\left(\\frac{2 \\, f\\left(r\\right) \\frac{\\partial}{\\partial r}{\\rm bb}\\left(r\\right)^{2}}{{\\rm bb}\\left(r\\right)^{3}} - \\frac{f\\left(r\\right) \\frac{\\partial^{2}}{(\\partial r)^{2}}{\\rm bb}\\left(r\\right)}{{\\rm bb}\\left(r\\right)^{2}} - \\frac{2 \\, \\frac{\\partial}{\\partial r}{\\rm bb}\\left(r\\right) \\frac{\\partial}{\\partial r}f\\left(r\\right)}{{\\rm bb}\\left(r\\right)^{2}} + \\frac{\\frac{\\partial^{2}}{(\\partial r)^{2}}f\\left(r\\right)}{{\\rm bb}\\left(r\\right)}\\right)} Q\\left(r\\right)}{2 \\, \\left(\\frac{f\\left(r\\right)}{{\\rm bb}\\left(r\\right)}\\right)^{\\frac{3}{2}}} + \\frac{r {\\left(\\frac{f\\left(r\\right) \\frac{\\partial}{\\partial r}{\\rm bb}\\left(r\\right)}{{\\rm bb}\\left(r\\right)^{2}} - \\frac{\\frac{\\partial}{\\partial r}f\\left(r\\right)}{{\\rm bb}\\left(r\\right)}\\right)} \\frac{\\partial}{\\partial r}Q\\left(r\\right)}{\\left(\\frac{f\\left(r\\right)}{{\\rm bb}\\left(r\\right)}\\right)^{\\frac{3}{2}}} + \\frac{r \\frac{\\partial^{2}}{(\\partial r)^{2}}Q\\left(r\\right)}{\\sqrt{\\frac{f\\left(r\\right)}{{\\rm bb}\\left(r\\right)}}} + \\frac{{\\left(\\frac{f\\left(r\\right) \\frac{\\partial}{\\partial r}{\\rm bb}\\left(r\\right)}{{\\rm bb}\\left(r\\right)^{2}} - \\frac{\\frac{\\partial}{\\partial r}f\\left(r\\right)}{{\\rm bb}\\left(r\\right)}\\right)} Q\\left(r\\right)}{\\left(\\frac{f\\left(r\\right)}{{\\rm bb}\\left(r\\right)}\\right)^{\\frac{3}{2}}} + \\frac{2 \\, \\frac{\\partial}{\\partial r}Q\\left(r\\right)}{\\sqrt{\\frac{f\\left(r\\right)}{{\\rm bb}\\left(r\\right)}}}\\right\\}$"
      ],
      "text/plain": [
       "{h1(r): r |--> r*Q(r)/sqrt(f(r)/bb(r)),\n",
       " diff(h1(r), r): r |--> 1/2*r*(f(r)*diff(bb(r), r)/bb(r)^2 - diff(f(r), r)/bb(r))*Q(r)/(f(r)/bb(r))^(3/2) + r*diff(Q(r), r)/sqrt(f(r)/bb(r)) + Q(r)/sqrt(f(r)/bb(r)),\n",
       " diff(h1(r), r, r): r |--> 3/4*r*(f(r)*diff(bb(r), r)/bb(r)^2 - diff(f(r), r)/bb(r))^2*Q(r)/(f(r)/bb(r))^(5/2) - 1/2*r*(2*f(r)*diff(bb(r), r)^2/bb(r)^3 - f(r)*diff(bb(r), r, r)/bb(r)^2 - 2*diff(bb(r), r)*diff(f(r), r)/bb(r)^2 + diff(f(r), r, r)/bb(r))*Q(r)/(f(r)/bb(r))^(3/2) + r*(f(r)*diff(bb(r), r)/bb(r)^2 - diff(f(r), r)/bb(r))*diff(Q(r), r)/(f(r)/bb(r))^(3/2) + r*diff(Q(r), r, r)/sqrt(f(r)/bb(r)) + (f(r)*diff(bb(r), r)/bb(r)^2 - diff(f(r), r)/bb(r))*Q(r)/(f(r)/bb(r))^(3/2) + 2*diff(Q(r), r)/sqrt(f(r)/bb(r))}"
      ]
     },
     "execution_count": 134,
     "metadata": {},
     "output_type": "execute_result"
    }
   ],
   "source": [
    "Qdef"
   ]
  },
  {
   "cell_type": "markdown",
   "metadata": {},
   "source": [
    "Para a construção da equação de Regge-Wheeler devemos introduzir a função $Q(r)$ e, para isso, derivaremos a perturbação $h^{(1)}$ em termos da coordenada $r$ e subtraremos a expressão `h1sol` do resultado, e então adicionaremos a definição `Qdef`. De modo a obter:"
   ]
  },
  {
   "cell_type": "code",
   "execution_count": 135,
   "metadata": {},
   "outputs": [],
   "source": [
    "RWeq = (diff(h1, r, 2) - eq_h1sol).subs(Qdef).factor()"
   ]
  },
  {
   "cell_type": "code",
   "execution_count": 136,
   "metadata": {},
   "outputs": [
    {
     "data": {
      "text/html": [
       "<html>\\(\\displaystyle \\frac{2 \\, r^{2} ω^{2} Q\\left(r\\right) {\\rm bb}\\left(r\\right)^{2} f\\left(r\\right) - 2 \\, \\mathit{ll} Q\\left(r\\right) {\\rm bb}\\left(r\\right)^{2} f\\left(r\\right)^{2} + 2 \\, r^{2} {\\rm bb}\\left(r\\right) f\\left(r\\right)^{2} \\frac{\\partial^{2}}{(\\partial r)^{2}}Q\\left(r\\right) - r^{2} f\\left(r\\right)^{2} \\frac{\\partial}{\\partial r}Q\\left(r\\right) \\frac{\\partial}{\\partial r}{\\rm bb}\\left(r\\right) + r^{2} {\\rm bb}\\left(r\\right) f\\left(r\\right) \\frac{\\partial}{\\partial r}Q\\left(r\\right) \\frac{\\partial}{\\partial r}f\\left(r\\right) + r^{2} Q\\left(r\\right) f\\left(r\\right) \\frac{\\partial}{\\partial r}{\\rm bb}\\left(r\\right) \\frac{\\partial}{\\partial r}f\\left(r\\right) + r^{2} Q\\left(r\\right) {\\rm bb}\\left(r\\right) \\frac{\\partial}{\\partial r}f\\left(r\\right)^{2} - 2 \\, r^{2} Q\\left(r\\right) {\\rm bb}\\left(r\\right) f\\left(r\\right) \\frac{\\partial^{2}}{(\\partial r)^{2}}f\\left(r\\right) + 4 \\, Q\\left(r\\right) {\\rm bb}\\left(r\\right)^{2} f\\left(r\\right)^{2} + r Q\\left(r\\right) f\\left(r\\right)^{2} \\frac{\\partial}{\\partial r}{\\rm bb}\\left(r\\right) - r Q\\left(r\\right) {\\rm bb}\\left(r\\right) f\\left(r\\right) \\frac{\\partial}{\\partial r}f\\left(r\\right) - 4 \\, Q\\left(r\\right) {\\rm bb}\\left(r\\right) f\\left(r\\right)^{2}}{2 \\, r \\left(\\frac{f\\left(r\\right)}{{\\rm bb}\\left(r\\right)}\\right)^{\\frac{5}{2}} {\\rm bb}\\left(r\\right)^{3}}\\)</html>"
      ],
      "text/latex": [
       "$\\displaystyle \\frac{2 \\, r^{2} ω^{2} Q\\left(r\\right) {\\rm bb}\\left(r\\right)^{2} f\\left(r\\right) - 2 \\, \\mathit{ll} Q\\left(r\\right) {\\rm bb}\\left(r\\right)^{2} f\\left(r\\right)^{2} + 2 \\, r^{2} {\\rm bb}\\left(r\\right) f\\left(r\\right)^{2} \\frac{\\partial^{2}}{(\\partial r)^{2}}Q\\left(r\\right) - r^{2} f\\left(r\\right)^{2} \\frac{\\partial}{\\partial r}Q\\left(r\\right) \\frac{\\partial}{\\partial r}{\\rm bb}\\left(r\\right) + r^{2} {\\rm bb}\\left(r\\right) f\\left(r\\right) \\frac{\\partial}{\\partial r}Q\\left(r\\right) \\frac{\\partial}{\\partial r}f\\left(r\\right) + r^{2} Q\\left(r\\right) f\\left(r\\right) \\frac{\\partial}{\\partial r}{\\rm bb}\\left(r\\right) \\frac{\\partial}{\\partial r}f\\left(r\\right) + r^{2} Q\\left(r\\right) {\\rm bb}\\left(r\\right) \\frac{\\partial}{\\partial r}f\\left(r\\right)^{2} - 2 \\, r^{2} Q\\left(r\\right) {\\rm bb}\\left(r\\right) f\\left(r\\right) \\frac{\\partial^{2}}{(\\partial r)^{2}}f\\left(r\\right) + 4 \\, Q\\left(r\\right) {\\rm bb}\\left(r\\right)^{2} f\\left(r\\right)^{2} + r Q\\left(r\\right) f\\left(r\\right)^{2} \\frac{\\partial}{\\partial r}{\\rm bb}\\left(r\\right) - r Q\\left(r\\right) {\\rm bb}\\left(r\\right) f\\left(r\\right) \\frac{\\partial}{\\partial r}f\\left(r\\right) - 4 \\, Q\\left(r\\right) {\\rm bb}\\left(r\\right) f\\left(r\\right)^{2}}{2 \\, r \\left(\\frac{f\\left(r\\right)}{{\\rm bb}\\left(r\\right)}\\right)^{\\frac{5}{2}} {\\rm bb}\\left(r\\right)^{3}}$"
      ],
      "text/plain": [
       "1/2*(2*r^2*ω^2*Q(r)*bb(r)^2*f(r) - 2*ll*Q(r)*bb(r)^2*f(r)^2 + 2*r^2*bb(r)*f(r)^2*diff(Q(r), r, r) - r^2*f(r)^2*diff(Q(r), r)*diff(bb(r), r) + r^2*bb(r)*f(r)*diff(Q(r), r)*diff(f(r), r) + r^2*Q(r)*f(r)*diff(bb(r), r)*diff(f(r), r) + r^2*Q(r)*bb(r)*diff(f(r), r)^2 - 2*r^2*Q(r)*bb(r)*f(r)*diff(f(r), r, r) + 4*Q(r)*bb(r)^2*f(r)^2 + r*Q(r)*f(r)^2*diff(bb(r), r) - r*Q(r)*bb(r)*f(r)*diff(f(r), r) - 4*Q(r)*bb(r)*f(r)^2)/(r*(f(r)/bb(r))^(5/2)*bb(r)^3)"
      ]
     },
     "execution_count": 136,
     "metadata": {},
     "output_type": "execute_result"
    }
   ],
   "source": [
    "RWeq"
   ]
  },
  {
   "cell_type": "markdown",
   "metadata": {},
   "source": [
    "Nesse ponto, é interessante introduzir a coordenada de tartaruga ($\\textit{tortoise}$), $r_{\\star}(r)$, bem como a sua derivada:"
   ]
  },
  {
   "cell_type": "code",
   "execution_count": 137,
   "metadata": {},
   "outputs": [],
   "source": [
    "rTr = function('rT', latex_name=r'r_{\\star}')(r)"
   ]
  },
  {
   "cell_type": "code",
   "execution_count": 138,
   "metadata": {},
   "outputs": [],
   "source": [
    "rTd = {diff(rTr, r) : 1/sqrt(f/bb)}"
   ]
  },
  {
   "cell_type": "code",
   "execution_count": 139,
   "metadata": {},
   "outputs": [],
   "source": [
    "rTd[diff(list(rTd.keys())[0], r)] = diff(list(rTd.values())[0], r) "
   ]
  },
  {
   "cell_type": "code",
   "execution_count": 140,
   "metadata": {},
   "outputs": [
    {
     "data": {
      "text/html": [
       "<html>\\(\\displaystyle \\left\\{\\frac{\\partial}{\\partial r}r_{\\star}\\left(r\\right) : \\frac{1}{\\sqrt{\\frac{f\\left(r\\right)}{{\\rm bb}\\left(r\\right)}}}, \\frac{\\partial^{2}}{(\\partial r)^{2}}r_{\\star}\\left(r\\right) : \\frac{\\frac{f\\left(r\\right) \\frac{\\partial}{\\partial r}{\\rm bb}\\left(r\\right)}{{\\rm bb}\\left(r\\right)^{2}} - \\frac{\\frac{\\partial}{\\partial r}f\\left(r\\right)}{{\\rm bb}\\left(r\\right)}}{2 \\, \\left(\\frac{f\\left(r\\right)}{{\\rm bb}\\left(r\\right)}\\right)^{\\frac{3}{2}}}\\right\\}\\)</html>"
      ],
      "text/latex": [
       "$\\displaystyle \\left\\{\\frac{\\partial}{\\partial r}r_{\\star}\\left(r\\right) : \\frac{1}{\\sqrt{\\frac{f\\left(r\\right)}{{\\rm bb}\\left(r\\right)}}}, \\frac{\\partial^{2}}{(\\partial r)^{2}}r_{\\star}\\left(r\\right) : \\frac{\\frac{f\\left(r\\right) \\frac{\\partial}{\\partial r}{\\rm bb}\\left(r\\right)}{{\\rm bb}\\left(r\\right)^{2}} - \\frac{\\frac{\\partial}{\\partial r}f\\left(r\\right)}{{\\rm bb}\\left(r\\right)}}{2 \\, \\left(\\frac{f\\left(r\\right)}{{\\rm bb}\\left(r\\right)}\\right)^{\\frac{3}{2}}}\\right\\}$"
      ],
      "text/plain": [
       "{diff(rT(r), r): 1/sqrt(f(r)/bb(r)),\n",
       " diff(rT(r), r, r): 1/2*(f(r)*diff(bb(r), r)/bb(r)^2 - diff(f(r), r)/bb(r))/(f(r)/bb(r))^(3/2)}"
      ]
     },
     "execution_count": 140,
     "metadata": {},
     "output_type": "execute_result"
    }
   ],
   "source": [
    "rTd"
   ]
  },
  {
   "cell_type": "code",
   "execution_count": 141,
   "metadata": {},
   "outputs": [
    {
     "data": {
      "text/html": [
       "<html>\\(\\displaystyle {r_\\star}\\)</html>"
      ],
      "text/latex": [
       "$\\displaystyle {r_\\star}$"
      ],
      "text/plain": [
       "rT"
      ]
     },
     "execution_count": 141,
     "metadata": {},
     "output_type": "execute_result"
    }
   ],
   "source": [
    "rT = var('rT', latex_name=r'r_\\star', domain='real')\n",
    "rT"
   ]
  },
  {
   "cell_type": "markdown",
   "metadata": {},
   "source": [
    "Para trocar a coordenada radial $r$ por $r_{\\star}$ usaremos a função `change_variable()`, importado do pacote `de_tools`. Sua sintaxe é `change_variable(função, antiga variável, nova variável como função, nova variável como variável)`"
   ]
  },
  {
   "cell_type": "code",
   "execution_count": 142,
   "metadata": {},
   "outputs": [],
   "source": [
    "from de_tools import change_variable"
   ]
  },
  {
   "cell_type": "code",
   "execution_count": 143,
   "metadata": {},
   "outputs": [
    {
     "name": "stdout",
     "output_type": "stream",
     "text": [
      "canonicalize_de for Q(rT): \u001b[32mpassed!\u001b[39m\n"
     ]
    }
   ],
   "source": [
    "RWeqT = change_variable(RWeq, Q, r, rTr, rT, expand=True)"
   ]
  },
  {
   "cell_type": "markdown",
   "metadata": {},
   "source": [
    "Aplicando o dicionário com as derivadas primeira e segunda na equação acima:"
   ]
  },
  {
   "cell_type": "code",
   "execution_count": 144,
   "metadata": {},
   "outputs": [],
   "source": [
    "RWeqT = RWeqT.subs(rTd)"
   ]
  },
  {
   "cell_type": "code",
   "execution_count": 145,
   "metadata": {},
   "outputs": [
    {
     "data": {
      "text/html": [
       "<html>\\(\\displaystyle \\frac{2 \\, r^{2} ω^{2} Q\\left({r_\\star}\\right) {\\rm bb}\\left(r\\right)^{2} f\\left(r\\right) - 2 \\, \\mathit{ll} Q\\left({r_\\star}\\right) {\\rm bb}\\left(r\\right)^{2} f\\left(r\\right)^{2} + 2 \\, r^{2} {\\rm bb}\\left(r\\right)^{2} f\\left(r\\right) \\frac{\\partial^{2}}{(\\partial {r_\\star})^{2}}Q\\left({r_\\star}\\right) + r^{2} Q\\left({r_\\star}\\right) f\\left(r\\right) \\frac{\\partial}{\\partial r}{\\rm bb}\\left(r\\right) \\frac{\\partial}{\\partial r}f\\left(r\\right) + r^{2} Q\\left({r_\\star}\\right) {\\rm bb}\\left(r\\right) \\frac{\\partial}{\\partial r}f\\left(r\\right)^{2} - 2 \\, r^{2} Q\\left({r_\\star}\\right) {\\rm bb}\\left(r\\right) f\\left(r\\right) \\frac{\\partial^{2}}{(\\partial r)^{2}}f\\left(r\\right) + 4 \\, Q\\left({r_\\star}\\right) {\\rm bb}\\left(r\\right)^{2} f\\left(r\\right)^{2} + r Q\\left({r_\\star}\\right) f\\left(r\\right)^{2} \\frac{\\partial}{\\partial r}{\\rm bb}\\left(r\\right) - r Q\\left({r_\\star}\\right) {\\rm bb}\\left(r\\right) f\\left(r\\right) \\frac{\\partial}{\\partial r}f\\left(r\\right) - 4 \\, Q\\left({r_\\star}\\right) {\\rm bb}\\left(r\\right) f\\left(r\\right)^{2}}{2 \\, r^{2} {\\rm bb}\\left(r\\right)^{2} f\\left(r\\right)} = 0\\)</html>"
      ],
      "text/latex": [
       "$\\displaystyle \\frac{2 \\, r^{2} ω^{2} Q\\left({r_\\star}\\right) {\\rm bb}\\left(r\\right)^{2} f\\left(r\\right) - 2 \\, \\mathit{ll} Q\\left({r_\\star}\\right) {\\rm bb}\\left(r\\right)^{2} f\\left(r\\right)^{2} + 2 \\, r^{2} {\\rm bb}\\left(r\\right)^{2} f\\left(r\\right) \\frac{\\partial^{2}}{(\\partial {r_\\star})^{2}}Q\\left({r_\\star}\\right) + r^{2} Q\\left({r_\\star}\\right) f\\left(r\\right) \\frac{\\partial}{\\partial r}{\\rm bb}\\left(r\\right) \\frac{\\partial}{\\partial r}f\\left(r\\right) + r^{2} Q\\left({r_\\star}\\right) {\\rm bb}\\left(r\\right) \\frac{\\partial}{\\partial r}f\\left(r\\right)^{2} - 2 \\, r^{2} Q\\left({r_\\star}\\right) {\\rm bb}\\left(r\\right) f\\left(r\\right) \\frac{\\partial^{2}}{(\\partial r)^{2}}f\\left(r\\right) + 4 \\, Q\\left({r_\\star}\\right) {\\rm bb}\\left(r\\right)^{2} f\\left(r\\right)^{2} + r Q\\left({r_\\star}\\right) f\\left(r\\right)^{2} \\frac{\\partial}{\\partial r}{\\rm bb}\\left(r\\right) - r Q\\left({r_\\star}\\right) {\\rm bb}\\left(r\\right) f\\left(r\\right) \\frac{\\partial}{\\partial r}f\\left(r\\right) - 4 \\, Q\\left({r_\\star}\\right) {\\rm bb}\\left(r\\right) f\\left(r\\right)^{2}}{2 \\, r^{2} {\\rm bb}\\left(r\\right)^{2} f\\left(r\\right)} = 0$"
      ],
      "text/plain": [
       "1/2*(2*r^2*ω^2*Q(rT)*bb(r)^2*f(r) - 2*ll*Q(rT)*bb(r)^2*f(r)^2 + 2*r^2*bb(r)^2*f(r)*diff(Q(rT), rT, rT) + r^2*Q(rT)*f(r)*diff(bb(r), r)*diff(f(r), r) + r^2*Q(rT)*bb(r)*diff(f(r), r)^2 - 2*r^2*Q(rT)*bb(r)*f(r)*diff(f(r), r, r) + 4*Q(rT)*bb(r)^2*f(r)^2 + r*Q(rT)*f(r)^2*diff(bb(r), r) - r*Q(rT)*bb(r)*f(r)*diff(f(r), r) - 4*Q(rT)*bb(r)*f(r)^2)/(r^2*bb(r)^2*f(r)) == 0"
      ]
     },
     "execution_count": 145,
     "metadata": {},
     "output_type": "execute_result"
    }
   ],
   "source": [
    "RWeqT.factor()"
   ]
  },
  {
   "cell_type": "markdown",
   "metadata": {},
   "source": [
    "Aqui, definiremos a regra de substituição para as funções $f(r)$ e $bb(r) = 1/f(r)$ para a métrica de fundo de Schwarzschild:"
   ]
  },
  {
   "cell_type": "code",
   "execution_count": 146,
   "metadata": {},
   "outputs": [],
   "source": [
    "var('α')\n",
    "lc = var('lc', latex_name=r'\\mathrm{l}')\n",
    "mc = var('mc', latex_name=r'\\mathrm{m}')\n",
    "assume(lc >= 2*m/e^2)"
   ]
  },
  {
   "cell_type": "code",
   "execution_count": 147,
   "metadata": {},
   "outputs": [
    {
     "data": {
      "text/html": [
       "<html>\\(\\displaystyle \\left[\\verb|t|\\verb| |\\verb|is|\\verb| |\\verb|real|, \\verb|r|\\verb| |\\verb|is|\\verb| |\\verb|real|, r > 0, \\verb|θ|\\verb| |\\verb|is|\\verb| |\\verb|real|, {θ} \\geq 0, {θ} \\leq \\pi, \\verb|ϕ|\\verb| |\\verb|is|\\verb| |\\verb|real|, \\verb|rT|\\verb| |\\verb|is|\\verb| |\\verb|real|, {\\mathrm{l}} \\geq 2 \\, m e^{\\left(-2\\right)}\\right]\\)</html>"
      ],
      "text/latex": [
       "$\\displaystyle \\left[\\verb|t|\\verb| |\\verb|is|\\verb| |\\verb|real|, \\verb|r|\\verb| |\\verb|is|\\verb| |\\verb|real|, r > 0, \\verb|θ|\\verb| |\\verb|is|\\verb| |\\verb|real|, {θ} \\geq 0, {θ} \\leq \\pi, \\verb|ϕ|\\verb| |\\verb|is|\\verb| |\\verb|real|, \\verb|rT|\\verb| |\\verb|is|\\verb| |\\verb|real|, {\\mathrm{l}} \\geq 2 \\, m e^{\\left(-2\\right)}\\right]$"
      ],
      "text/plain": [
       "[t is real,\n",
       " r is real,\n",
       " r > 0,\n",
       " θ is real,\n",
       " θ >= 0,\n",
       " θ <= pi,\n",
       " ϕ is real,\n",
       " rT is real,\n",
       " lc >= 2*m*e^(-2)]"
      ]
     },
     "execution_count": 147,
     "metadata": {},
     "output_type": "execute_result"
    }
   ],
   "source": [
    "assumptions()"
   ]
  },
  {
   "cell_type": "code",
   "execution_count": 148,
   "metadata": {},
   "outputs": [],
   "source": [
    "exp_f = {f : 1 - 2*mc/r + α*e^(-r*(mc - α*lc/2)^(-1))}\n",
    "exp_bb = {bb: 1/(1 - 2*mc/r + α*e^(-r*(mc - α*lc/2)^(-1)))}"
   ]
  },
  {
   "cell_type": "code",
   "execution_count": 149,
   "metadata": {},
   "outputs": [],
   "source": [
    "exp_f[diff(list(exp_f.keys())[0], r)] = diff(list(exp_f.values())[0], r)"
   ]
  },
  {
   "cell_type": "code",
   "execution_count": 150,
   "metadata": {},
   "outputs": [],
   "source": [
    "exp_f[diff(list(exp_f.keys())[0], r,2)] = diff(list(exp_f.values())[0], r,2)"
   ]
  },
  {
   "cell_type": "code",
   "execution_count": 151,
   "metadata": {},
   "outputs": [
    {
     "data": {
      "text/html": [
       "<html>\\(\\displaystyle \\left\\{f\\left(r\\right) : α e^{\\left(\\frac{2 \\, r}{{\\mathrm{l}} α - 2 \\, {\\mathrm{m}}}\\right)} - \\frac{2 \\, {\\mathrm{m}}}{r} + 1, \\frac{\\partial}{\\partial r}f\\left(r\\right) : \\frac{2 \\, α e^{\\left(\\frac{2 \\, r}{{\\mathrm{l}} α - 2 \\, {\\mathrm{m}}}\\right)}}{{\\mathrm{l}} α - 2 \\, {\\mathrm{m}}} + \\frac{2 \\, {\\mathrm{m}}}{r^{2}}, \\frac{\\partial^{2}}{(\\partial r)^{2}}f\\left(r\\right) : \\frac{4 \\, α e^{\\left(\\frac{2 \\, r}{{\\mathrm{l}} α - 2 \\, {\\mathrm{m}}}\\right)}}{{\\left({\\mathrm{l}} α - 2 \\, {\\mathrm{m}}\\right)}^{2}} - \\frac{4 \\, {\\mathrm{m}}}{r^{3}}\\right\\}\\)</html>"
      ],
      "text/latex": [
       "$\\displaystyle \\left\\{f\\left(r\\right) : α e^{\\left(\\frac{2 \\, r}{{\\mathrm{l}} α - 2 \\, {\\mathrm{m}}}\\right)} - \\frac{2 \\, {\\mathrm{m}}}{r} + 1, \\frac{\\partial}{\\partial r}f\\left(r\\right) : \\frac{2 \\, α e^{\\left(\\frac{2 \\, r}{{\\mathrm{l}} α - 2 \\, {\\mathrm{m}}}\\right)}}{{\\mathrm{l}} α - 2 \\, {\\mathrm{m}}} + \\frac{2 \\, {\\mathrm{m}}}{r^{2}}, \\frac{\\partial^{2}}{(\\partial r)^{2}}f\\left(r\\right) : \\frac{4 \\, α e^{\\left(\\frac{2 \\, r}{{\\mathrm{l}} α - 2 \\, {\\mathrm{m}}}\\right)}}{{\\left({\\mathrm{l}} α - 2 \\, {\\mathrm{m}}\\right)}^{2}} - \\frac{4 \\, {\\mathrm{m}}}{r^{3}}\\right\\}$"
      ],
      "text/plain": [
       "{f(r): α*e^(2*r/(lc*α - 2*mc)) - 2*mc/r + 1,\n",
       " diff(f(r), r): 2*α*e^(2*r/(lc*α - 2*mc))/(lc*α - 2*mc) + 2*mc/r^2,\n",
       " diff(f(r), r, r): 4*α*e^(2*r/(lc*α - 2*mc))/(lc*α - 2*mc)^2 - 4*mc/r^3}"
      ]
     },
     "execution_count": 151,
     "metadata": {},
     "output_type": "execute_result"
    }
   ],
   "source": [
    "exp_f"
   ]
  },
  {
   "cell_type": "code",
   "execution_count": 152,
   "metadata": {},
   "outputs": [],
   "source": [
    "exp_bb[diff(list(exp_bb.keys())[0], r)] = diff(list(exp_bb.values())[0], r)"
   ]
  },
  {
   "cell_type": "code",
   "execution_count": 153,
   "metadata": {},
   "outputs": [
    {
     "data": {
      "text/html": [
       "<html>\\(\\displaystyle \\left\\{{\\rm bb}\\left(r\\right) : \\frac{1}{α e^{\\left(\\frac{2 \\, r}{{\\mathrm{l}} α - 2 \\, {\\mathrm{m}}}\\right)} - \\frac{2 \\, {\\mathrm{m}}}{r} + 1}, \\frac{\\partial}{\\partial r}{\\rm bb}\\left(r\\right) : -\\frac{2 \\, {\\left(\\frac{α e^{\\left(\\frac{2 \\, r}{{\\mathrm{l}} α - 2 \\, {\\mathrm{m}}}\\right)}}{{\\mathrm{l}} α - 2 \\, {\\mathrm{m}}} + \\frac{{\\mathrm{m}}}{r^{2}}\\right)}}{{\\left(α e^{\\left(\\frac{2 \\, r}{{\\mathrm{l}} α - 2 \\, {\\mathrm{m}}}\\right)} - \\frac{2 \\, {\\mathrm{m}}}{r} + 1\\right)}^{2}}, \\frac{\\partial^{2}}{(\\partial r)^{2}}{\\rm bb}\\left(r\\right) : \\frac{8 \\, {\\left(\\frac{α e^{\\left(\\frac{2 \\, r}{{\\mathrm{l}} α - 2 \\, {\\mathrm{m}}}\\right)}}{{\\mathrm{l}} α - 2 \\, {\\mathrm{m}}} + \\frac{{\\mathrm{m}}}{r^{2}}\\right)}^{2}}{{\\left(α e^{\\left(\\frac{2 \\, r}{{\\mathrm{l}} α - 2 \\, {\\mathrm{m}}}\\right)} - \\frac{2 \\, {\\mathrm{m}}}{r} + 1\\right)}^{3}} - \\frac{4 \\, {\\left(\\frac{α e^{\\left(\\frac{2 \\, r}{{\\mathrm{l}} α - 2 \\, {\\mathrm{m}}}\\right)}}{{\\left({\\mathrm{l}} α - 2 \\, {\\mathrm{m}}\\right)}^{2}} - \\frac{{\\mathrm{m}}}{r^{3}}\\right)}}{{\\left(α e^{\\left(\\frac{2 \\, r}{{\\mathrm{l}} α - 2 \\, {\\mathrm{m}}}\\right)} - \\frac{2 \\, {\\mathrm{m}}}{r} + 1\\right)}^{2}}\\right\\}\\)</html>"
      ],
      "text/latex": [
       "$\\displaystyle \\left\\{{\\rm bb}\\left(r\\right) : \\frac{1}{α e^{\\left(\\frac{2 \\, r}{{\\mathrm{l}} α - 2 \\, {\\mathrm{m}}}\\right)} - \\frac{2 \\, {\\mathrm{m}}}{r} + 1}, \\frac{\\partial}{\\partial r}{\\rm bb}\\left(r\\right) : -\\frac{2 \\, {\\left(\\frac{α e^{\\left(\\frac{2 \\, r}{{\\mathrm{l}} α - 2 \\, {\\mathrm{m}}}\\right)}}{{\\mathrm{l}} α - 2 \\, {\\mathrm{m}}} + \\frac{{\\mathrm{m}}}{r^{2}}\\right)}}{{\\left(α e^{\\left(\\frac{2 \\, r}{{\\mathrm{l}} α - 2 \\, {\\mathrm{m}}}\\right)} - \\frac{2 \\, {\\mathrm{m}}}{r} + 1\\right)}^{2}}, \\frac{\\partial^{2}}{(\\partial r)^{2}}{\\rm bb}\\left(r\\right) : \\frac{8 \\, {\\left(\\frac{α e^{\\left(\\frac{2 \\, r}{{\\mathrm{l}} α - 2 \\, {\\mathrm{m}}}\\right)}}{{\\mathrm{l}} α - 2 \\, {\\mathrm{m}}} + \\frac{{\\mathrm{m}}}{r^{2}}\\right)}^{2}}{{\\left(α e^{\\left(\\frac{2 \\, r}{{\\mathrm{l}} α - 2 \\, {\\mathrm{m}}}\\right)} - \\frac{2 \\, {\\mathrm{m}}}{r} + 1\\right)}^{3}} - \\frac{4 \\, {\\left(\\frac{α e^{\\left(\\frac{2 \\, r}{{\\mathrm{l}} α - 2 \\, {\\mathrm{m}}}\\right)}}{{\\left({\\mathrm{l}} α - 2 \\, {\\mathrm{m}}\\right)}^{2}} - \\frac{{\\mathrm{m}}}{r^{3}}\\right)}}{{\\left(α e^{\\left(\\frac{2 \\, r}{{\\mathrm{l}} α - 2 \\, {\\mathrm{m}}}\\right)} - \\frac{2 \\, {\\mathrm{m}}}{r} + 1\\right)}^{2}}\\right\\}$"
      ],
      "text/plain": [
       "{bb(r): 1/(α*e^(2*r/(lc*α - 2*mc)) - 2*mc/r + 1),\n",
       " diff(bb(r), r): -2*(α*e^(2*r/(lc*α - 2*mc))/(lc*α - 2*mc) + mc/r^2)/(α*e^(2*r/(lc*α - 2*mc)) - 2*mc/r + 1)^2,\n",
       " diff(bb(r), r, r): 8*(α*e^(2*r/(lc*α - 2*mc))/(lc*α - 2*mc) + mc/r^2)^2/(α*e^(2*r/(lc*α - 2*mc)) - 2*mc/r + 1)^3 - 4*(α*e^(2*r/(lc*α - 2*mc))/(lc*α - 2*mc)^2 - mc/r^3)/(α*e^(2*r/(lc*α - 2*mc)) - 2*mc/r + 1)^2}"
      ]
     },
     "execution_count": 153,
     "metadata": {},
     "output_type": "execute_result"
    }
   ],
   "source": [
    "exp_bb[diff(list(exp_bb.keys())[0], r,2)] = diff(list(exp_bb.values())[0], r,2)\n",
    "exp_bb"
   ]
  },
  {
   "cell_type": "code",
   "execution_count": 154,
   "metadata": {},
   "outputs": [
    {
     "data": {
      "text/html": [
       "<html>\\(\\displaystyle \\left\\{f\\left(r\\right) : α e^{\\left(\\frac{2 \\, r}{{\\mathrm{l}} α - 2 \\, {\\mathrm{m}}}\\right)} - \\frac{2 \\, {\\mathrm{m}}}{r} + 1, \\frac{\\partial}{\\partial r}f\\left(r\\right) : \\frac{2 \\, α e^{\\left(\\frac{2 \\, r}{{\\mathrm{l}} α - 2 \\, {\\mathrm{m}}}\\right)}}{{\\mathrm{l}} α - 2 \\, {\\mathrm{m}}} + \\frac{2 \\, {\\mathrm{m}}}{r^{2}}, \\frac{\\partial^{2}}{(\\partial r)^{2}}f\\left(r\\right) : \\frac{4 \\, α e^{\\left(\\frac{2 \\, r}{{\\mathrm{l}} α - 2 \\, {\\mathrm{m}}}\\right)}}{{\\left({\\mathrm{l}} α - 2 \\, {\\mathrm{m}}\\right)}^{2}} - \\frac{4 \\, {\\mathrm{m}}}{r^{3}}, {\\rm bb}\\left(r\\right) : \\frac{1}{α e^{\\left(\\frac{2 \\, r}{{\\mathrm{l}} α - 2 \\, {\\mathrm{m}}}\\right)} - \\frac{2 \\, {\\mathrm{m}}}{r} + 1}, \\frac{\\partial}{\\partial r}{\\rm bb}\\left(r\\right) : -\\frac{2 \\, {\\left(\\frac{α e^{\\left(\\frac{2 \\, r}{{\\mathrm{l}} α - 2 \\, {\\mathrm{m}}}\\right)}}{{\\mathrm{l}} α - 2 \\, {\\mathrm{m}}} + \\frac{{\\mathrm{m}}}{r^{2}}\\right)}}{{\\left(α e^{\\left(\\frac{2 \\, r}{{\\mathrm{l}} α - 2 \\, {\\mathrm{m}}}\\right)} - \\frac{2 \\, {\\mathrm{m}}}{r} + 1\\right)}^{2}}, \\frac{\\partial^{2}}{(\\partial r)^{2}}{\\rm bb}\\left(r\\right) : \\frac{8 \\, {\\left(\\frac{α e^{\\left(\\frac{2 \\, r}{{\\mathrm{l}} α - 2 \\, {\\mathrm{m}}}\\right)}}{{\\mathrm{l}} α - 2 \\, {\\mathrm{m}}} + \\frac{{\\mathrm{m}}}{r^{2}}\\right)}^{2}}{{\\left(α e^{\\left(\\frac{2 \\, r}{{\\mathrm{l}} α - 2 \\, {\\mathrm{m}}}\\right)} - \\frac{2 \\, {\\mathrm{m}}}{r} + 1\\right)}^{3}} - \\frac{4 \\, {\\left(\\frac{α e^{\\left(\\frac{2 \\, r}{{\\mathrm{l}} α - 2 \\, {\\mathrm{m}}}\\right)}}{{\\left({\\mathrm{l}} α - 2 \\, {\\mathrm{m}}\\right)}^{2}} - \\frac{{\\mathrm{m}}}{r^{3}}\\right)}}{{\\left(α e^{\\left(\\frac{2 \\, r}{{\\mathrm{l}} α - 2 \\, {\\mathrm{m}}}\\right)} - \\frac{2 \\, {\\mathrm{m}}}{r} + 1\\right)}^{2}}\\right\\}\\)</html>"
      ],
      "text/latex": [
       "$\\displaystyle \\left\\{f\\left(r\\right) : α e^{\\left(\\frac{2 \\, r}{{\\mathrm{l}} α - 2 \\, {\\mathrm{m}}}\\right)} - \\frac{2 \\, {\\mathrm{m}}}{r} + 1, \\frac{\\partial}{\\partial r}f\\left(r\\right) : \\frac{2 \\, α e^{\\left(\\frac{2 \\, r}{{\\mathrm{l}} α - 2 \\, {\\mathrm{m}}}\\right)}}{{\\mathrm{l}} α - 2 \\, {\\mathrm{m}}} + \\frac{2 \\, {\\mathrm{m}}}{r^{2}}, \\frac{\\partial^{2}}{(\\partial r)^{2}}f\\left(r\\right) : \\frac{4 \\, α e^{\\left(\\frac{2 \\, r}{{\\mathrm{l}} α - 2 \\, {\\mathrm{m}}}\\right)}}{{\\left({\\mathrm{l}} α - 2 \\, {\\mathrm{m}}\\right)}^{2}} - \\frac{4 \\, {\\mathrm{m}}}{r^{3}}, {\\rm bb}\\left(r\\right) : \\frac{1}{α e^{\\left(\\frac{2 \\, r}{{\\mathrm{l}} α - 2 \\, {\\mathrm{m}}}\\right)} - \\frac{2 \\, {\\mathrm{m}}}{r} + 1}, \\frac{\\partial}{\\partial r}{\\rm bb}\\left(r\\right) : -\\frac{2 \\, {\\left(\\frac{α e^{\\left(\\frac{2 \\, r}{{\\mathrm{l}} α - 2 \\, {\\mathrm{m}}}\\right)}}{{\\mathrm{l}} α - 2 \\, {\\mathrm{m}}} + \\frac{{\\mathrm{m}}}{r^{2}}\\right)}}{{\\left(α e^{\\left(\\frac{2 \\, r}{{\\mathrm{l}} α - 2 \\, {\\mathrm{m}}}\\right)} - \\frac{2 \\, {\\mathrm{m}}}{r} + 1\\right)}^{2}}, \\frac{\\partial^{2}}{(\\partial r)^{2}}{\\rm bb}\\left(r\\right) : \\frac{8 \\, {\\left(\\frac{α e^{\\left(\\frac{2 \\, r}{{\\mathrm{l}} α - 2 \\, {\\mathrm{m}}}\\right)}}{{\\mathrm{l}} α - 2 \\, {\\mathrm{m}}} + \\frac{{\\mathrm{m}}}{r^{2}}\\right)}^{2}}{{\\left(α e^{\\left(\\frac{2 \\, r}{{\\mathrm{l}} α - 2 \\, {\\mathrm{m}}}\\right)} - \\frac{2 \\, {\\mathrm{m}}}{r} + 1\\right)}^{3}} - \\frac{4 \\, {\\left(\\frac{α e^{\\left(\\frac{2 \\, r}{{\\mathrm{l}} α - 2 \\, {\\mathrm{m}}}\\right)}}{{\\left({\\mathrm{l}} α - 2 \\, {\\mathrm{m}}\\right)}^{2}} - \\frac{{\\mathrm{m}}}{r^{3}}\\right)}}{{\\left(α e^{\\left(\\frac{2 \\, r}{{\\mathrm{l}} α - 2 \\, {\\mathrm{m}}}\\right)} - \\frac{2 \\, {\\mathrm{m}}}{r} + 1\\right)}^{2}}\\right\\}$"
      ],
      "text/plain": [
       "{f(r): α*e^(2*r/(lc*α - 2*mc)) - 2*mc/r + 1,\n",
       " diff(f(r), r): 2*α*e^(2*r/(lc*α - 2*mc))/(lc*α - 2*mc) + 2*mc/r^2,\n",
       " diff(f(r), r, r): 4*α*e^(2*r/(lc*α - 2*mc))/(lc*α - 2*mc)^2 - 4*mc/r^3,\n",
       " bb(r): 1/(α*e^(2*r/(lc*α - 2*mc)) - 2*mc/r + 1),\n",
       " diff(bb(r), r): -2*(α*e^(2*r/(lc*α - 2*mc))/(lc*α - 2*mc) + mc/r^2)/(α*e^(2*r/(lc*α - 2*mc)) - 2*mc/r + 1)^2,\n",
       " diff(bb(r), r, r): 8*(α*e^(2*r/(lc*α - 2*mc))/(lc*α - 2*mc) + mc/r^2)^2/(α*e^(2*r/(lc*α - 2*mc)) - 2*mc/r + 1)^3 - 4*(α*e^(2*r/(lc*α - 2*mc))/(lc*α - 2*mc)^2 - mc/r^3)/(α*e^(2*r/(lc*α - 2*mc)) - 2*mc/r + 1)^2}"
      ]
     },
     "execution_count": 154,
     "metadata": {},
     "output_type": "execute_result"
    }
   ],
   "source": [
    "exp_f.update(exp_bb)\n",
    "backg = exp_f\n",
    "backg"
   ]
  },
  {
   "cell_type": "markdown",
   "metadata": {},
   "source": [
    "Aqui, multiplicaremos a expressão de `RWeqT` por $\\left(\\frac{f(r)}{bb(r)}\\right)^{3/2}\\frac{1}{r}$ para simplificação e aplicaremos a regra de substituições feitas anteriormente:"
   ]
  },
  {
   "cell_type": "code",
   "execution_count": 155,
   "metadata": {},
   "outputs": [],
   "source": [
    "RWeq_Schw = (RWeqT*sqrt(f/bb)^3/r).subs(backg)"
   ]
  },
  {
   "cell_type": "code",
   "execution_count": 156,
   "metadata": {},
   "outputs": [],
   "source": [
    "RWE = RWeq_Schw.factor()"
   ]
  },
  {
   "cell_type": "code",
   "execution_count": 157,
   "metadata": {},
   "outputs": [
    {
     "data": {
      "text/html": [
       "<html>\\(\\displaystyle \\frac{{\\left({\\mathrm{l}}^{2} r^{4} α^{2} ω^{2} Q\\left({r_\\star}\\right) - 4 \\, {\\mathrm{l}} {\\mathrm{m}} r^{4} α ω^{2} Q\\left({r_\\star}\\right) - 2 \\, {\\mathrm{l}}^{2} r^{2} α^{4} Q\\left({r_\\star}\\right) e^{\\left(\\frac{4 \\, r}{{\\mathrm{l}} α - 2 \\, {\\mathrm{m}}}\\right)} - {\\mathrm{l}}^{2} \\mathit{ll} r^{2} α^{3} Q\\left({r_\\star}\\right) e^{\\left(\\frac{2 \\, r}{{\\mathrm{l}} α - 2 \\, {\\mathrm{m}}}\\right)} + 4 \\, {\\mathrm{m}}^{2} r^{4} ω^{2} Q\\left({r_\\star}\\right) + 8 \\, {\\mathrm{l}} {\\mathrm{m}} r^{2} α^{3} Q\\left({r_\\star}\\right) e^{\\left(\\frac{4 \\, r}{{\\mathrm{l}} α - 2 \\, {\\mathrm{m}}}\\right)} - 2 \\, {\\mathrm{l}} r^{3} α^{3} Q\\left({r_\\star}\\right) e^{\\left(\\frac{4 \\, r}{{\\mathrm{l}} α - 2 \\, {\\mathrm{m}}}\\right)} + 4 \\, {\\mathrm{l}} \\mathit{ll} {\\mathrm{m}} r^{2} α^{2} Q\\left({r_\\star}\\right) e^{\\left(\\frac{2 \\, r}{{\\mathrm{l}} α - 2 \\, {\\mathrm{m}}}\\right)} + 10 \\, {\\mathrm{l}}^{2} {\\mathrm{m}} r α^{3} Q\\left({r_\\star}\\right) e^{\\left(\\frac{2 \\, r}{{\\mathrm{l}} α - 2 \\, {\\mathrm{m}}}\\right)} - 2 \\, {\\mathrm{l}}^{2} r^{2} α^{3} Q\\left({r_\\star}\\right) e^{\\left(\\frac{2 \\, r}{{\\mathrm{l}} α - 2 \\, {\\mathrm{m}}}\\right)} + {\\mathrm{l}}^{2} r^{4} α^{2} \\frac{\\partial^{2}}{(\\partial {r_\\star})^{2}}Q\\left({r_\\star}\\right) + 2 \\, {\\mathrm{l}}^{2} \\mathit{ll} {\\mathrm{m}} r α^{2} Q\\left({r_\\star}\\right) - {\\mathrm{l}}^{2} \\mathit{ll} r^{2} α^{2} Q\\left({r_\\star}\\right) - 8 \\, {\\mathrm{m}}^{2} r^{2} α^{2} Q\\left({r_\\star}\\right) e^{\\left(\\frac{4 \\, r}{{\\mathrm{l}} α - 2 \\, {\\mathrm{m}}}\\right)} + 4 \\, {\\mathrm{m}} r^{3} α^{2} Q\\left({r_\\star}\\right) e^{\\left(\\frac{4 \\, r}{{\\mathrm{l}} α - 2 \\, {\\mathrm{m}}}\\right)} - 4 \\, r^{4} α^{2} Q\\left({r_\\star}\\right) e^{\\left(\\frac{4 \\, r}{{\\mathrm{l}} α - 2 \\, {\\mathrm{m}}}\\right)} - 4 \\, \\mathit{ll} {\\mathrm{m}}^{2} r^{2} α Q\\left({r_\\star}\\right) e^{\\left(\\frac{2 \\, r}{{\\mathrm{l}} α - 2 \\, {\\mathrm{m}}}\\right)} - 40 \\, {\\mathrm{l}} {\\mathrm{m}}^{2} r α^{2} Q\\left({r_\\star}\\right) e^{\\left(\\frac{2 \\, r}{{\\mathrm{l}} α - 2 \\, {\\mathrm{m}}}\\right)} + 12 \\, {\\mathrm{l}} {\\mathrm{m}} r^{2} α^{2} Q\\left({r_\\star}\\right) e^{\\left(\\frac{2 \\, r}{{\\mathrm{l}} α - 2 \\, {\\mathrm{m}}}\\right)} - 2 \\, {\\mathrm{l}} r^{3} α^{2} Q\\left({r_\\star}\\right) e^{\\left(\\frac{2 \\, r}{{\\mathrm{l}} α - 2 \\, {\\mathrm{m}}}\\right)} - 4 \\, {\\mathrm{l}} {\\mathrm{m}} r^{4} α \\frac{\\partial^{2}}{(\\partial {r_\\star})^{2}}Q\\left({r_\\star}\\right) - 8 \\, {\\mathrm{l}} \\mathit{ll} {\\mathrm{m}}^{2} r α Q\\left({r_\\star}\\right) + 4 \\, {\\mathrm{l}} \\mathit{ll} {\\mathrm{m}} r^{2} α Q\\left({r_\\star}\\right) - 12 \\, {\\mathrm{l}}^{2} {\\mathrm{m}}^{2} α^{2} Q\\left({r_\\star}\\right) + 6 \\, {\\mathrm{l}}^{2} {\\mathrm{m}} r α^{2} Q\\left({r_\\star}\\right) + 40 \\, {\\mathrm{m}}^{3} r α Q\\left({r_\\star}\\right) e^{\\left(\\frac{2 \\, r}{{\\mathrm{l}} α - 2 \\, {\\mathrm{m}}}\\right)} - 16 \\, {\\mathrm{m}}^{2} r^{2} α Q\\left({r_\\star}\\right) e^{\\left(\\frac{2 \\, r}{{\\mathrm{l}} α - 2 \\, {\\mathrm{m}}}\\right)} + 12 \\, {\\mathrm{m}} r^{3} α Q\\left({r_\\star}\\right) e^{\\left(\\frac{2 \\, r}{{\\mathrm{l}} α - 2 \\, {\\mathrm{m}}}\\right)} - 4 \\, r^{4} α Q\\left({r_\\star}\\right) e^{\\left(\\frac{2 \\, r}{{\\mathrm{l}} α - 2 \\, {\\mathrm{m}}}\\right)} + 4 \\, {\\mathrm{m}}^{2} r^{4} \\frac{\\partial^{2}}{(\\partial {r_\\star})^{2}}Q\\left({r_\\star}\\right) + 8 \\, \\mathit{ll} {\\mathrm{m}}^{3} r Q\\left({r_\\star}\\right) - 4 \\, \\mathit{ll} {\\mathrm{m}}^{2} r^{2} Q\\left({r_\\star}\\right) + 48 \\, {\\mathrm{l}} {\\mathrm{m}}^{3} α Q\\left({r_\\star}\\right) - 24 \\, {\\mathrm{l}} {\\mathrm{m}}^{2} r α Q\\left({r_\\star}\\right) - 48 \\, {\\mathrm{m}}^{4} Q\\left({r_\\star}\\right) + 24 \\, {\\mathrm{m}}^{3} r Q\\left({r_\\star}\\right)\\right)} {\\left(r α e^{\\left(\\frac{2 \\, r}{{\\mathrm{l}} α - 2 \\, {\\mathrm{m}}}\\right)} - 2 \\, {\\mathrm{m}} + r\\right)}^{2} \\sqrt{{\\left(r α e^{\\left(\\frac{2 \\, r}{{\\mathrm{l}} α - 2 \\, {\\mathrm{m}}}\\right)} - 2 \\, {\\mathrm{m}} + r\\right)}^{2}}}{{\\left({\\mathrm{l}} α - 2 \\, {\\mathrm{m}}\\right)}^{2} r^{8}} = 0\\)</html>"
      ],
      "text/latex": [
       "$\\displaystyle \\frac{{\\left({\\mathrm{l}}^{2} r^{4} α^{2} ω^{2} Q\\left({r_\\star}\\right) - 4 \\, {\\mathrm{l}} {\\mathrm{m}} r^{4} α ω^{2} Q\\left({r_\\star}\\right) - 2 \\, {\\mathrm{l}}^{2} r^{2} α^{4} Q\\left({r_\\star}\\right) e^{\\left(\\frac{4 \\, r}{{\\mathrm{l}} α - 2 \\, {\\mathrm{m}}}\\right)} - {\\mathrm{l}}^{2} \\mathit{ll} r^{2} α^{3} Q\\left({r_\\star}\\right) e^{\\left(\\frac{2 \\, r}{{\\mathrm{l}} α - 2 \\, {\\mathrm{m}}}\\right)} + 4 \\, {\\mathrm{m}}^{2} r^{4} ω^{2} Q\\left({r_\\star}\\right) + 8 \\, {\\mathrm{l}} {\\mathrm{m}} r^{2} α^{3} Q\\left({r_\\star}\\right) e^{\\left(\\frac{4 \\, r}{{\\mathrm{l}} α - 2 \\, {\\mathrm{m}}}\\right)} - 2 \\, {\\mathrm{l}} r^{3} α^{3} Q\\left({r_\\star}\\right) e^{\\left(\\frac{4 \\, r}{{\\mathrm{l}} α - 2 \\, {\\mathrm{m}}}\\right)} + 4 \\, {\\mathrm{l}} \\mathit{ll} {\\mathrm{m}} r^{2} α^{2} Q\\left({r_\\star}\\right) e^{\\left(\\frac{2 \\, r}{{\\mathrm{l}} α - 2 \\, {\\mathrm{m}}}\\right)} + 10 \\, {\\mathrm{l}}^{2} {\\mathrm{m}} r α^{3} Q\\left({r_\\star}\\right) e^{\\left(\\frac{2 \\, r}{{\\mathrm{l}} α - 2 \\, {\\mathrm{m}}}\\right)} - 2 \\, {\\mathrm{l}}^{2} r^{2} α^{3} Q\\left({r_\\star}\\right) e^{\\left(\\frac{2 \\, r}{{\\mathrm{l}} α - 2 \\, {\\mathrm{m}}}\\right)} + {\\mathrm{l}}^{2} r^{4} α^{2} \\frac{\\partial^{2}}{(\\partial {r_\\star})^{2}}Q\\left({r_\\star}\\right) + 2 \\, {\\mathrm{l}}^{2} \\mathit{ll} {\\mathrm{m}} r α^{2} Q\\left({r_\\star}\\right) - {\\mathrm{l}}^{2} \\mathit{ll} r^{2} α^{2} Q\\left({r_\\star}\\right) - 8 \\, {\\mathrm{m}}^{2} r^{2} α^{2} Q\\left({r_\\star}\\right) e^{\\left(\\frac{4 \\, r}{{\\mathrm{l}} α - 2 \\, {\\mathrm{m}}}\\right)} + 4 \\, {\\mathrm{m}} r^{3} α^{2} Q\\left({r_\\star}\\right) e^{\\left(\\frac{4 \\, r}{{\\mathrm{l}} α - 2 \\, {\\mathrm{m}}}\\right)} - 4 \\, r^{4} α^{2} Q\\left({r_\\star}\\right) e^{\\left(\\frac{4 \\, r}{{\\mathrm{l}} α - 2 \\, {\\mathrm{m}}}\\right)} - 4 \\, \\mathit{ll} {\\mathrm{m}}^{2} r^{2} α Q\\left({r_\\star}\\right) e^{\\left(\\frac{2 \\, r}{{\\mathrm{l}} α - 2 \\, {\\mathrm{m}}}\\right)} - 40 \\, {\\mathrm{l}} {\\mathrm{m}}^{2} r α^{2} Q\\left({r_\\star}\\right) e^{\\left(\\frac{2 \\, r}{{\\mathrm{l}} α - 2 \\, {\\mathrm{m}}}\\right)} + 12 \\, {\\mathrm{l}} {\\mathrm{m}} r^{2} α^{2} Q\\left({r_\\star}\\right) e^{\\left(\\frac{2 \\, r}{{\\mathrm{l}} α - 2 \\, {\\mathrm{m}}}\\right)} - 2 \\, {\\mathrm{l}} r^{3} α^{2} Q\\left({r_\\star}\\right) e^{\\left(\\frac{2 \\, r}{{\\mathrm{l}} α - 2 \\, {\\mathrm{m}}}\\right)} - 4 \\, {\\mathrm{l}} {\\mathrm{m}} r^{4} α \\frac{\\partial^{2}}{(\\partial {r_\\star})^{2}}Q\\left({r_\\star}\\right) - 8 \\, {\\mathrm{l}} \\mathit{ll} {\\mathrm{m}}^{2} r α Q\\left({r_\\star}\\right) + 4 \\, {\\mathrm{l}} \\mathit{ll} {\\mathrm{m}} r^{2} α Q\\left({r_\\star}\\right) - 12 \\, {\\mathrm{l}}^{2} {\\mathrm{m}}^{2} α^{2} Q\\left({r_\\star}\\right) + 6 \\, {\\mathrm{l}}^{2} {\\mathrm{m}} r α^{2} Q\\left({r_\\star}\\right) + 40 \\, {\\mathrm{m}}^{3} r α Q\\left({r_\\star}\\right) e^{\\left(\\frac{2 \\, r}{{\\mathrm{l}} α - 2 \\, {\\mathrm{m}}}\\right)} - 16 \\, {\\mathrm{m}}^{2} r^{2} α Q\\left({r_\\star}\\right) e^{\\left(\\frac{2 \\, r}{{\\mathrm{l}} α - 2 \\, {\\mathrm{m}}}\\right)} + 12 \\, {\\mathrm{m}} r^{3} α Q\\left({r_\\star}\\right) e^{\\left(\\frac{2 \\, r}{{\\mathrm{l}} α - 2 \\, {\\mathrm{m}}}\\right)} - 4 \\, r^{4} α Q\\left({r_\\star}\\right) e^{\\left(\\frac{2 \\, r}{{\\mathrm{l}} α - 2 \\, {\\mathrm{m}}}\\right)} + 4 \\, {\\mathrm{m}}^{2} r^{4} \\frac{\\partial^{2}}{(\\partial {r_\\star})^{2}}Q\\left({r_\\star}\\right) + 8 \\, \\mathit{ll} {\\mathrm{m}}^{3} r Q\\left({r_\\star}\\right) - 4 \\, \\mathit{ll} {\\mathrm{m}}^{2} r^{2} Q\\left({r_\\star}\\right) + 48 \\, {\\mathrm{l}} {\\mathrm{m}}^{3} α Q\\left({r_\\star}\\right) - 24 \\, {\\mathrm{l}} {\\mathrm{m}}^{2} r α Q\\left({r_\\star}\\right) - 48 \\, {\\mathrm{m}}^{4} Q\\left({r_\\star}\\right) + 24 \\, {\\mathrm{m}}^{3} r Q\\left({r_\\star}\\right)\\right)} {\\left(r α e^{\\left(\\frac{2 \\, r}{{\\mathrm{l}} α - 2 \\, {\\mathrm{m}}}\\right)} - 2 \\, {\\mathrm{m}} + r\\right)}^{2} \\sqrt{{\\left(r α e^{\\left(\\frac{2 \\, r}{{\\mathrm{l}} α - 2 \\, {\\mathrm{m}}}\\right)} - 2 \\, {\\mathrm{m}} + r\\right)}^{2}}}{{\\left({\\mathrm{l}} α - 2 \\, {\\mathrm{m}}\\right)}^{2} r^{8}} = 0$"
      ],
      "text/plain": [
       "(lc^2*r^4*α^2*ω^2*Q(rT) - 4*lc*mc*r^4*α*ω^2*Q(rT) - 2*lc^2*r^2*α^4*Q(rT)*e^(4*r/(lc*α - 2*mc)) - lc^2*ll*r^2*α^3*Q(rT)*e^(2*r/(lc*α - 2*mc)) + 4*mc^2*r^4*ω^2*Q(rT) + 8*lc*mc*r^2*α^3*Q(rT)*e^(4*r/(lc*α - 2*mc)) - 2*lc*r^3*α^3*Q(rT)*e^(4*r/(lc*α - 2*mc)) + 4*lc*ll*mc*r^2*α^2*Q(rT)*e^(2*r/(lc*α - 2*mc)) + 10*lc^2*mc*r*α^3*Q(rT)*e^(2*r/(lc*α - 2*mc)) - 2*lc^2*r^2*α^3*Q(rT)*e^(2*r/(lc*α - 2*mc)) + lc^2*r^4*α^2*diff(Q(rT), rT, rT) + 2*lc^2*ll*mc*r*α^2*Q(rT) - lc^2*ll*r^2*α^2*Q(rT) - 8*mc^2*r^2*α^2*Q(rT)*e^(4*r/(lc*α - 2*mc)) + 4*mc*r^3*α^2*Q(rT)*e^(4*r/(lc*α - 2*mc)) - 4*r^4*α^2*Q(rT)*e^(4*r/(lc*α - 2*mc)) - 4*ll*mc^2*r^2*α*Q(rT)*e^(2*r/(lc*α - 2*mc)) - 40*lc*mc^2*r*α^2*Q(rT)*e^(2*r/(lc*α - 2*mc)) + 12*lc*mc*r^2*α^2*Q(rT)*e^(2*r/(lc*α - 2*mc)) - 2*lc*r^3*α^2*Q(rT)*e^(2*r/(lc*α - 2*mc)) - 4*lc*mc*r^4*α*diff(Q(rT), rT, rT) - 8*lc*ll*mc^2*r*α*Q(rT) + 4*lc*ll*mc*r^2*α*Q(rT) - 12*lc^2*mc^2*α^2*Q(rT) + 6*lc^2*mc*r*α^2*Q(rT) + 40*mc^3*r*α*Q(rT)*e^(2*r/(lc*α - 2*mc)) - 16*mc^2*r^2*α*Q(rT)*e^(2*r/(lc*α - 2*mc)) + 12*mc*r^3*α*Q(rT)*e^(2*r/(lc*α - 2*mc)) - 4*r^4*α*Q(rT)*e^(2*r/(lc*α - 2*mc)) + 4*mc^2*r^4*diff(Q(rT), rT, rT) + 8*ll*mc^3*r*Q(rT) - 4*ll*mc^2*r^2*Q(rT) + 48*lc*mc^3*α*Q(rT) - 24*lc*mc^2*r*α*Q(rT) - 48*mc^4*Q(rT) + 24*mc^3*r*Q(rT))*(r*α*e^(2*r/(lc*α - 2*mc)) - 2*mc + r)^2*sqrt((r*α*e^(2*r/(lc*α - 2*mc)) - 2*mc + r)^2)/((lc*α - 2*mc)^2*r^8) == 0"
      ]
     },
     "execution_count": 157,
     "metadata": {},
     "output_type": "execute_result"
    }
   ],
   "source": [
    "RWE.factor()"
   ]
  },
  {
   "cell_type": "markdown",
   "metadata": {},
   "source": [
    "Por fim, para encontrar a equação de onda de segunda ordem do tipo Schödinger para $Q(r)$, usaremos a função `canonicalize_de`do pacote `de_tools`. Com a sintaxe da forma `canonicalize_de(equação, função, variável)`:"
   ]
  },
  {
   "cell_type": "code",
   "execution_count": 158,
   "metadata": {},
   "outputs": [],
   "source": [
    "from de_tools import canonicalize_de"
   ]
  },
  {
   "cell_type": "code",
   "execution_count": 159,
   "metadata": {},
   "outputs": [
    {
     "name": "stdout",
     "output_type": "stream",
     "text": [
      "canonicalize_de for Q(rT): \u001b[32mpassed!\u001b[39m\n"
     ]
    }
   ],
   "source": [
    "RWE = canonicalize_de(RWE, Q(rT), rT)"
   ]
  },
  {
   "cell_type": "code",
   "execution_count": 160,
   "metadata": {},
   "outputs": [
    {
     "data": {
      "text/html": [
       "<html>\\(\\displaystyle \\frac{{\\left({\\mathrm{l}}^{2} r^{4} α^{2} ω^{2} - 4 \\, {\\mathrm{l}} {\\mathrm{m}} r^{4} α ω^{2} - 2 \\, {\\mathrm{l}}^{2} r^{2} α^{4} e^{\\left(\\frac{4 \\, r}{{\\mathrm{l}} α - 2 \\, {\\mathrm{m}}}\\right)} - {\\mathrm{l}}^{2} \\mathit{ll} r^{2} α^{3} e^{\\left(\\frac{2 \\, r}{{\\mathrm{l}} α - 2 \\, {\\mathrm{m}}}\\right)} + 4 \\, {\\mathrm{m}}^{2} r^{4} ω^{2} + 8 \\, {\\mathrm{l}} {\\mathrm{m}} r^{2} α^{3} e^{\\left(\\frac{4 \\, r}{{\\mathrm{l}} α - 2 \\, {\\mathrm{m}}}\\right)} - 2 \\, {\\mathrm{l}} r^{3} α^{3} e^{\\left(\\frac{4 \\, r}{{\\mathrm{l}} α - 2 \\, {\\mathrm{m}}}\\right)} + 4 \\, {\\mathrm{l}} \\mathit{ll} {\\mathrm{m}} r^{2} α^{2} e^{\\left(\\frac{2 \\, r}{{\\mathrm{l}} α - 2 \\, {\\mathrm{m}}}\\right)} + 10 \\, {\\mathrm{l}}^{2} {\\mathrm{m}} r α^{3} e^{\\left(\\frac{2 \\, r}{{\\mathrm{l}} α - 2 \\, {\\mathrm{m}}}\\right)} - 2 \\, {\\mathrm{l}}^{2} r^{2} α^{3} e^{\\left(\\frac{2 \\, r}{{\\mathrm{l}} α - 2 \\, {\\mathrm{m}}}\\right)} + 2 \\, {\\mathrm{l}}^{2} \\mathit{ll} {\\mathrm{m}} r α^{2} - {\\mathrm{l}}^{2} \\mathit{ll} r^{2} α^{2} - 8 \\, {\\mathrm{m}}^{2} r^{2} α^{2} e^{\\left(\\frac{4 \\, r}{{\\mathrm{l}} α - 2 \\, {\\mathrm{m}}}\\right)} + 4 \\, {\\mathrm{m}} r^{3} α^{2} e^{\\left(\\frac{4 \\, r}{{\\mathrm{l}} α - 2 \\, {\\mathrm{m}}}\\right)} - 4 \\, r^{4} α^{2} e^{\\left(\\frac{4 \\, r}{{\\mathrm{l}} α - 2 \\, {\\mathrm{m}}}\\right)} - 4 \\, \\mathit{ll} {\\mathrm{m}}^{2} r^{2} α e^{\\left(\\frac{2 \\, r}{{\\mathrm{l}} α - 2 \\, {\\mathrm{m}}}\\right)} - 40 \\, {\\mathrm{l}} {\\mathrm{m}}^{2} r α^{2} e^{\\left(\\frac{2 \\, r}{{\\mathrm{l}} α - 2 \\, {\\mathrm{m}}}\\right)} + 12 \\, {\\mathrm{l}} {\\mathrm{m}} r^{2} α^{2} e^{\\left(\\frac{2 \\, r}{{\\mathrm{l}} α - 2 \\, {\\mathrm{m}}}\\right)} - 2 \\, {\\mathrm{l}} r^{3} α^{2} e^{\\left(\\frac{2 \\, r}{{\\mathrm{l}} α - 2 \\, {\\mathrm{m}}}\\right)} - 8 \\, {\\mathrm{l}} \\mathit{ll} {\\mathrm{m}}^{2} r α + 4 \\, {\\mathrm{l}} \\mathit{ll} {\\mathrm{m}} r^{2} α - 12 \\, {\\mathrm{l}}^{2} {\\mathrm{m}}^{2} α^{2} + 6 \\, {\\mathrm{l}}^{2} {\\mathrm{m}} r α^{2} + 40 \\, {\\mathrm{m}}^{3} r α e^{\\left(\\frac{2 \\, r}{{\\mathrm{l}} α - 2 \\, {\\mathrm{m}}}\\right)} - 16 \\, {\\mathrm{m}}^{2} r^{2} α e^{\\left(\\frac{2 \\, r}{{\\mathrm{l}} α - 2 \\, {\\mathrm{m}}}\\right)} + 12 \\, {\\mathrm{m}} r^{3} α e^{\\left(\\frac{2 \\, r}{{\\mathrm{l}} α - 2 \\, {\\mathrm{m}}}\\right)} - 4 \\, r^{4} α e^{\\left(\\frac{2 \\, r}{{\\mathrm{l}} α - 2 \\, {\\mathrm{m}}}\\right)} + 8 \\, \\mathit{ll} {\\mathrm{m}}^{3} r - 4 \\, \\mathit{ll} {\\mathrm{m}}^{2} r^{2} + 48 \\, {\\mathrm{l}} {\\mathrm{m}}^{3} α - 24 \\, {\\mathrm{l}} {\\mathrm{m}}^{2} r α - 48 \\, {\\mathrm{m}}^{4} + 24 \\, {\\mathrm{m}}^{3} r\\right)} Q\\left({r_\\star}\\right)}{{\\left({\\mathrm{l}} α - 2 \\, {\\mathrm{m}}\\right)}^{2} r^{4}} + \\frac{\\partial^{2}}{(\\partial {r_\\star})^{2}}Q\\left({r_\\star}\\right) = 0\\)</html>"
      ],
      "text/latex": [
       "$\\displaystyle \\frac{{\\left({\\mathrm{l}}^{2} r^{4} α^{2} ω^{2} - 4 \\, {\\mathrm{l}} {\\mathrm{m}} r^{4} α ω^{2} - 2 \\, {\\mathrm{l}}^{2} r^{2} α^{4} e^{\\left(\\frac{4 \\, r}{{\\mathrm{l}} α - 2 \\, {\\mathrm{m}}}\\right)} - {\\mathrm{l}}^{2} \\mathit{ll} r^{2} α^{3} e^{\\left(\\frac{2 \\, r}{{\\mathrm{l}} α - 2 \\, {\\mathrm{m}}}\\right)} + 4 \\, {\\mathrm{m}}^{2} r^{4} ω^{2} + 8 \\, {\\mathrm{l}} {\\mathrm{m}} r^{2} α^{3} e^{\\left(\\frac{4 \\, r}{{\\mathrm{l}} α - 2 \\, {\\mathrm{m}}}\\right)} - 2 \\, {\\mathrm{l}} r^{3} α^{3} e^{\\left(\\frac{4 \\, r}{{\\mathrm{l}} α - 2 \\, {\\mathrm{m}}}\\right)} + 4 \\, {\\mathrm{l}} \\mathit{ll} {\\mathrm{m}} r^{2} α^{2} e^{\\left(\\frac{2 \\, r}{{\\mathrm{l}} α - 2 \\, {\\mathrm{m}}}\\right)} + 10 \\, {\\mathrm{l}}^{2} {\\mathrm{m}} r α^{3} e^{\\left(\\frac{2 \\, r}{{\\mathrm{l}} α - 2 \\, {\\mathrm{m}}}\\right)} - 2 \\, {\\mathrm{l}}^{2} r^{2} α^{3} e^{\\left(\\frac{2 \\, r}{{\\mathrm{l}} α - 2 \\, {\\mathrm{m}}}\\right)} + 2 \\, {\\mathrm{l}}^{2} \\mathit{ll} {\\mathrm{m}} r α^{2} - {\\mathrm{l}}^{2} \\mathit{ll} r^{2} α^{2} - 8 \\, {\\mathrm{m}}^{2} r^{2} α^{2} e^{\\left(\\frac{4 \\, r}{{\\mathrm{l}} α - 2 \\, {\\mathrm{m}}}\\right)} + 4 \\, {\\mathrm{m}} r^{3} α^{2} e^{\\left(\\frac{4 \\, r}{{\\mathrm{l}} α - 2 \\, {\\mathrm{m}}}\\right)} - 4 \\, r^{4} α^{2} e^{\\left(\\frac{4 \\, r}{{\\mathrm{l}} α - 2 \\, {\\mathrm{m}}}\\right)} - 4 \\, \\mathit{ll} {\\mathrm{m}}^{2} r^{2} α e^{\\left(\\frac{2 \\, r}{{\\mathrm{l}} α - 2 \\, {\\mathrm{m}}}\\right)} - 40 \\, {\\mathrm{l}} {\\mathrm{m}}^{2} r α^{2} e^{\\left(\\frac{2 \\, r}{{\\mathrm{l}} α - 2 \\, {\\mathrm{m}}}\\right)} + 12 \\, {\\mathrm{l}} {\\mathrm{m}} r^{2} α^{2} e^{\\left(\\frac{2 \\, r}{{\\mathrm{l}} α - 2 \\, {\\mathrm{m}}}\\right)} - 2 \\, {\\mathrm{l}} r^{3} α^{2} e^{\\left(\\frac{2 \\, r}{{\\mathrm{l}} α - 2 \\, {\\mathrm{m}}}\\right)} - 8 \\, {\\mathrm{l}} \\mathit{ll} {\\mathrm{m}}^{2} r α + 4 \\, {\\mathrm{l}} \\mathit{ll} {\\mathrm{m}} r^{2} α - 12 \\, {\\mathrm{l}}^{2} {\\mathrm{m}}^{2} α^{2} + 6 \\, {\\mathrm{l}}^{2} {\\mathrm{m}} r α^{2} + 40 \\, {\\mathrm{m}}^{3} r α e^{\\left(\\frac{2 \\, r}{{\\mathrm{l}} α - 2 \\, {\\mathrm{m}}}\\right)} - 16 \\, {\\mathrm{m}}^{2} r^{2} α e^{\\left(\\frac{2 \\, r}{{\\mathrm{l}} α - 2 \\, {\\mathrm{m}}}\\right)} + 12 \\, {\\mathrm{m}} r^{3} α e^{\\left(\\frac{2 \\, r}{{\\mathrm{l}} α - 2 \\, {\\mathrm{m}}}\\right)} - 4 \\, r^{4} α e^{\\left(\\frac{2 \\, r}{{\\mathrm{l}} α - 2 \\, {\\mathrm{m}}}\\right)} + 8 \\, \\mathit{ll} {\\mathrm{m}}^{3} r - 4 \\, \\mathit{ll} {\\mathrm{m}}^{2} r^{2} + 48 \\, {\\mathrm{l}} {\\mathrm{m}}^{3} α - 24 \\, {\\mathrm{l}} {\\mathrm{m}}^{2} r α - 48 \\, {\\mathrm{m}}^{4} + 24 \\, {\\mathrm{m}}^{3} r\\right)} Q\\left({r_\\star}\\right)}{{\\left({\\mathrm{l}} α - 2 \\, {\\mathrm{m}}\\right)}^{2} r^{4}} + \\frac{\\partial^{2}}{(\\partial {r_\\star})^{2}}Q\\left({r_\\star}\\right) = 0$"
      ],
      "text/plain": [
       "(lc^2*r^4*α^2*ω^2 - 4*lc*mc*r^4*α*ω^2 - 2*lc^2*r^2*α^4*e^(4*r/(lc*α - 2*mc)) - lc^2*ll*r^2*α^3*e^(2*r/(lc*α - 2*mc)) + 4*mc^2*r^4*ω^2 + 8*lc*mc*r^2*α^3*e^(4*r/(lc*α - 2*mc)) - 2*lc*r^3*α^3*e^(4*r/(lc*α - 2*mc)) + 4*lc*ll*mc*r^2*α^2*e^(2*r/(lc*α - 2*mc)) + 10*lc^2*mc*r*α^3*e^(2*r/(lc*α - 2*mc)) - 2*lc^2*r^2*α^3*e^(2*r/(lc*α - 2*mc)) + 2*lc^2*ll*mc*r*α^2 - lc^2*ll*r^2*α^2 - 8*mc^2*r^2*α^2*e^(4*r/(lc*α - 2*mc)) + 4*mc*r^3*α^2*e^(4*r/(lc*α - 2*mc)) - 4*r^4*α^2*e^(4*r/(lc*α - 2*mc)) - 4*ll*mc^2*r^2*α*e^(2*r/(lc*α - 2*mc)) - 40*lc*mc^2*r*α^2*e^(2*r/(lc*α - 2*mc)) + 12*lc*mc*r^2*α^2*e^(2*r/(lc*α - 2*mc)) - 2*lc*r^3*α^2*e^(2*r/(lc*α - 2*mc)) - 8*lc*ll*mc^2*r*α + 4*lc*ll*mc*r^2*α - 12*lc^2*mc^2*α^2 + 6*lc^2*mc*r*α^2 + 40*mc^3*r*α*e^(2*r/(lc*α - 2*mc)) - 16*mc^2*r^2*α*e^(2*r/(lc*α - 2*mc)) + 12*mc*r^3*α*e^(2*r/(lc*α - 2*mc)) - 4*r^4*α*e^(2*r/(lc*α - 2*mc)) + 8*ll*mc^3*r - 4*ll*mc^2*r^2 + 48*lc*mc^3*α - 24*lc*mc^2*r*α - 48*mc^4 + 24*mc^3*r)*Q(rT)/((lc*α - 2*mc)^2*r^4) + diff(Q(rT), rT, rT) == 0"
      ]
     },
     "execution_count": 160,
     "metadata": {},
     "output_type": "execute_result"
    }
   ],
   "source": [
    "RWE"
   ]
  },
  {
   "cell_type": "markdown",
   "metadata": {},
   "source": [
    "Comparando a expressão acima com \n",
    "\n",
    "$$\\left(\\omega^2 - V \\right)Q + Q'' = 0$$ \n",
    "\n",
    "podemos utilizar a função `get_de_coefficients` para escolher apenas o termo do Potencial $V_{\\ell}$, como se segue:"
   ]
  },
  {
   "cell_type": "code",
   "execution_count": 161,
   "metadata": {},
   "outputs": [],
   "source": [
    "from de_tools import get_de_coefficients"
   ]
  },
  {
   "cell_type": "code",
   "execution_count": 162,
   "metadata": {},
   "outputs": [
    {
     "data": {
      "text/html": [
       "<html>\\(\\displaystyle V^{RWE}_\\ell(r) =  \\frac{{\\left(2 \\, {\\mathrm{l}}^{2} r α^{3} e^{\\left(\\frac{2 \\, r}{{\\mathrm{l}} α - 2 \\, {\\mathrm{m}}}\\right)} + {\\mathrm{l}}^{2} \\mathit{ll} r α^{2} - 8 \\, {\\mathrm{l}} {\\mathrm{m}} r α^{2} e^{\\left(\\frac{2 \\, r}{{\\mathrm{l}} α - 2 \\, {\\mathrm{m}}}\\right)} + 2 \\, {\\mathrm{l}} r^{2} α^{2} e^{\\left(\\frac{2 \\, r}{{\\mathrm{l}} α - 2 \\, {\\mathrm{m}}}\\right)} - 4 \\, {\\mathrm{l}} \\mathit{ll} {\\mathrm{m}} r α - 6 \\, {\\mathrm{l}}^{2} {\\mathrm{m}} α^{2} + 8 \\, {\\mathrm{m}}^{2} r α e^{\\left(\\frac{2 \\, r}{{\\mathrm{l}} α - 2 \\, {\\mathrm{m}}}\\right)} - 4 \\, {\\mathrm{m}} r^{2} α e^{\\left(\\frac{2 \\, r}{{\\mathrm{l}} α - 2 \\, {\\mathrm{m}}}\\right)} + 4 \\, r^{3} α e^{\\left(\\frac{2 \\, r}{{\\mathrm{l}} α - 2 \\, {\\mathrm{m}}}\\right)} + 4 \\, \\mathit{ll} {\\mathrm{m}}^{2} r + 24 \\, {\\mathrm{l}} {\\mathrm{m}}^{2} α - 24 \\, {\\mathrm{m}}^{3}\\right)} {\\left(r α e^{\\left(\\frac{2 \\, r}{{\\mathrm{l}} α - 2 \\, {\\mathrm{m}}}\\right)} - 2 \\, {\\mathrm{m}} + r\\right)}}{{\\left({\\mathrm{l}} α - 2 \\, {\\mathrm{m}}\\right)}^{2} r^{4}}\\)</html>"
      ],
      "text/latex": [
       "$\\displaystyle V^{RWE}_\\ell(r) =  \\frac{{\\left(2 \\, {\\mathrm{l}}^{2} r α^{3} e^{\\left(\\frac{2 \\, r}{{\\mathrm{l}} α - 2 \\, {\\mathrm{m}}}\\right)} + {\\mathrm{l}}^{2} \\mathit{ll} r α^{2} - 8 \\, {\\mathrm{l}} {\\mathrm{m}} r α^{2} e^{\\left(\\frac{2 \\, r}{{\\mathrm{l}} α - 2 \\, {\\mathrm{m}}}\\right)} + 2 \\, {\\mathrm{l}} r^{2} α^{2} e^{\\left(\\frac{2 \\, r}{{\\mathrm{l}} α - 2 \\, {\\mathrm{m}}}\\right)} - 4 \\, {\\mathrm{l}} \\mathit{ll} {\\mathrm{m}} r α - 6 \\, {\\mathrm{l}}^{2} {\\mathrm{m}} α^{2} + 8 \\, {\\mathrm{m}}^{2} r α e^{\\left(\\frac{2 \\, r}{{\\mathrm{l}} α - 2 \\, {\\mathrm{m}}}\\right)} - 4 \\, {\\mathrm{m}} r^{2} α e^{\\left(\\frac{2 \\, r}{{\\mathrm{l}} α - 2 \\, {\\mathrm{m}}}\\right)} + 4 \\, r^{3} α e^{\\left(\\frac{2 \\, r}{{\\mathrm{l}} α - 2 \\, {\\mathrm{m}}}\\right)} + 4 \\, \\mathit{ll} {\\mathrm{m}}^{2} r + 24 \\, {\\mathrm{l}} {\\mathrm{m}}^{2} α - 24 \\, {\\mathrm{m}}^{3}\\right)} {\\left(r α e^{\\left(\\frac{2 \\, r}{{\\mathrm{l}} α - 2 \\, {\\mathrm{m}}}\\right)} - 2 \\, {\\mathrm{m}} + r\\right)}}{{\\left({\\mathrm{l}} α - 2 \\, {\\mathrm{m}}\\right)}^{2} r^{4}}$"
      ],
      "text/plain": [
       "V^{RWE}_\\ell(r) =  (2*lc^2*r*α^3*e^(2*r/(lc*α - 2*mc)) + lc^2*ll*r*α^2 - 8*lc*mc*r*α^2*e^(2*r/(lc*α - 2*mc)) + 2*lc*r^2*α^2*e^(2*r/(lc*α - 2*mc)) - 4*lc*ll*mc*r*α - 6*lc^2*mc*α^2 + 8*mc^2*r*α*e^(2*r/(lc*α - 2*mc)) - 4*mc*r^2*α*e^(2*r/(lc*α - 2*mc)) + 4*r^3*α*e^(2*r/(lc*α - 2*mc)) + 4*ll*mc^2*r + 24*lc*mc^2*α - 24*mc^3)*(r*α*e^(2*r/(lc*α - 2*mc)) - 2*mc + r)/((lc*α - 2*mc)^2*r^4)"
      ]
     },
     "metadata": {},
     "output_type": "display_data"
    }
   ],
   "source": [
    "V_RWE(r) = (ω^2 - get_de_coefficients(RWE, Q(rT), rT)[0].expand()).factor()\n",
    "show(LatexExpr(r'V^{RWE}_\\ell(r) = '),V_RWE(r))"
   ]
  },
  {
   "cell_type": "code",
   "execution_count": 163,
   "metadata": {},
   "outputs": [
    {
     "data": {
      "text/html": [
       "<html>\\(\\displaystyle -\\frac{{\\left(\\mathit{ll} r - 6 \\, m\\right)} {\\left(2 \\, m - r\\right)}}{r^{4}}\\)</html>"
      ],
      "text/latex": [
       "$\\displaystyle -\\frac{{\\left(\\mathit{ll} r - 6 \\, m\\right)} {\\left(2 \\, m - r\\right)}}{r^{4}}$"
      ],
      "text/plain": [
       "-(ll*r - 6*m)*(2*m - r)/r^4"
      ]
     },
     "execution_count": 163,
     "metadata": {},
     "output_type": "execute_result"
    }
   ],
   "source": [
    "V_RWE(r).subs({α:0, mc : m}).factor()"
   ]
  },
  {
   "cell_type": "markdown",
   "metadata": {},
   "source": [
    "***\n",
    "### Pertubação Polar: Equação de Zerilli"
   ]
  },
  {
   "cell_type": "markdown",
   "metadata": {},
   "source": [
    "Aqui, faremos o mesmo procedimento para paridade par da equação de campo, ou seja, perturbação polar. Primeiramente, utilizaremos apenas as expressões com o coeficiente $\\epsilon = 1$ e com $odd = 0$. Assim:"
   ]
  },
  {
   "cell_type": "code",
   "execution_count": 164,
   "metadata": {},
   "outputs": [
    {
     "name": "stdout",
     "output_type": "stream",
     "text": [
      "CPU times: user 28.3 ms, sys: 1 µs, total: 28.3 ms\n",
      "Wall time: 27.5 ms\n"
     ]
    }
   ],
   "source": [
    "%time campo_even = eq_campo.apply_map(lambda q: q.coefficient(ep).subs({odd : 0}))"
   ]
  },
  {
   "cell_type": "markdown",
   "metadata": {},
   "source": [
    "Aplicando a regra substituição das funções trigonométricas e do polinômio de Legendre por meio de:"
   ]
  },
  {
   "cell_type": "code",
   "execution_count": 165,
   "metadata": {},
   "outputs": [
    {
     "name": "stdout",
     "output_type": "stream",
     "text": [
      "CPU times: user 396 ms, sys: 4 ms, total: 400 ms\n",
      "Wall time: 400 ms\n"
     ]
    }
   ],
   "source": [
    "%time campo_even = campo_even.apply_map(lambda q: q.subs(PLdd_dict).subs(PLdd_dict).simplify())"
   ]
  },
  {
   "cell_type": "markdown",
   "metadata": {},
   "source": [
    "Para a construção da Equação de Zerilli teremos que resolver as equações para as diferentes polarizações polares, começando pela polarização $H^{(2)}_{\\theta \\phi}$, como se segue:"
   ]
  },
  {
   "cell_type": "code",
   "execution_count": 166,
   "metadata": {},
   "outputs": [],
   "source": [
    "eq_H2sol = (campo_even[2,3] == 0).solve(H2(r), solution_dict=True)[0]"
   ]
  },
  {
   "cell_type": "code",
   "execution_count": 167,
   "metadata": {},
   "outputs": [],
   "source": [
    "eq_H2sol[diff(list(eq_H2sol.keys())[0], r)] = diff(list(eq_H2sol.values())[0], r)"
   ]
  },
  {
   "cell_type": "code",
   "execution_count": 168,
   "metadata": {},
   "outputs": [
    {
     "data": {
      "text/html": [
       "<html>\\(\\displaystyle \\left\\{H_2\\left(r\\right) : H_0\\left(r\\right), \\frac{\\partial}{\\partial r}H_2\\left(r\\right) : \\frac{\\partial}{\\partial r}H_0\\left(r\\right)\\right\\}\\)</html>"
      ],
      "text/latex": [
       "$\\displaystyle \\left\\{H_2\\left(r\\right) : H_0\\left(r\\right), \\frac{\\partial}{\\partial r}H_2\\left(r\\right) : \\frac{\\partial}{\\partial r}H_0\\left(r\\right)\\right\\}$"
      ],
      "text/plain": [
       "{H2(r): H0(r), diff(H2(r), r): diff(H0(r), r)}"
      ]
     },
     "execution_count": 168,
     "metadata": {},
     "output_type": "execute_result"
    }
   ],
   "source": [
    "eq_H2sol"
   ]
  },
  {
   "cell_type": "markdown",
   "metadata": {},
   "source": [
    "Aqui, devemos resolver um sistema de três equações composto pelas derivadas primeira das polarizações $H^{(0)}$, $H^{(1)}$ e $K$. Portanto, temos para a solução do sistema:"
   ]
  },
  {
   "cell_type": "code",
   "execution_count": 169,
   "metadata": {},
   "outputs": [],
   "source": [
    "#H0, H1, K\n",
    "dic_aux = dict(zip([diff(H0(r), r), diff(H1(r), r), diff(K(r), r)], var('aux', n=3)))"
   ]
  },
  {
   "cell_type": "code",
   "execution_count": 170,
   "metadata": {},
   "outputs": [
    {
     "data": {
      "text/html": [
       "<html>\\(\\displaystyle \\left[\\mathit{aux}_{0}, \\mathit{aux}_{1}, \\mathit{aux}_{2}\\right]\\)</html>"
      ],
      "text/latex": [
       "$\\displaystyle \\left[\\mathit{aux}_{0}, \\mathit{aux}_{1}, \\mathit{aux}_{2}\\right]$"
      ],
      "text/plain": [
       "[aux0, aux1, aux2]"
      ]
     },
     "execution_count": 170,
     "metadata": {},
     "output_type": "execute_result"
    }
   ],
   "source": [
    "list(dic_aux.values())"
   ]
  },
  {
   "cell_type": "code",
   "execution_count": 171,
   "metadata": {},
   "outputs": [],
   "source": [
    "sist = solve([campo_even[2,0].subs(dic_aux)==0, campo_even[0,1].subs(dic_aux)==0, campo_even[1,2].subs(dic_aux)==0], list(dic_aux.values()), solution_dict=True)[0]"
   ]
  },
  {
   "cell_type": "code",
   "execution_count": 172,
   "metadata": {},
   "outputs": [],
   "source": [
    "zerillieq0 = dict(zip(dic_aux.keys(), sist.values()))"
   ]
  },
  {
   "cell_type": "code",
   "execution_count": 173,
   "metadata": {},
   "outputs": [
    {
     "data": {
      "text/html": [
       "<html>\\(\\displaystyle \\left\\{\\frac{\\partial}{\\partial r}H_0\\left(r\\right) : \\frac{-2 i \\, r^{2} ω^{2} H_1\\left(r\\right) {\\rm bb}\\left(r\\right)^{2} - 2 i \\, r H_1\\left(r\\right) f\\left(r\\right) \\frac{\\partial}{\\partial r}{\\rm bb}\\left(r\\right) + i \\, {\\left(2 \\, {\\left(-i \\, r H_0\\left(r\\right) + i \\, r K\\left(r\\right)\\right)} {\\rm bb}\\left(r\\right)^{2} f\\left(r\\right) - {\\left(-i \\, r^{2} H_0\\left(r\\right) - i \\, r^{2} H_2\\left(r\\right) + i \\, r^{2} K\\left(r\\right)\\right)} {\\rm bb}\\left(r\\right)^{2} \\frac{\\partial}{\\partial r}f\\left(r\\right)\\right)} ω + i \\, {\\left({\\left(\\mathit{ll} - 2\\right)} H_1\\left(r\\right) {\\rm bb}\\left(r\\right)^{2} + 2 \\, H_1\\left(r\\right) {\\rm bb}\\left(r\\right)\\right)} f\\left(r\\right)}{2 \\, r^{2} ω {\\rm bb}\\left(r\\right)^{2} f\\left(r\\right)}, \\frac{\\partial}{\\partial r}H_1\\left(r\\right) : \\frac{-2 i \\, ω {\\left(H_2\\left(r\\right) + K\\left(r\\right)\\right)} {\\rm bb}\\left(r\\right)^{2} f\\left(r\\right) + H_1\\left(r\\right) f\\left(r\\right) \\frac{\\partial}{\\partial r}{\\rm bb}\\left(r\\right) - H_1\\left(r\\right) {\\rm bb}\\left(r\\right) \\frac{\\partial}{\\partial r}f\\left(r\\right)}{2 \\, {\\rm bb}\\left(r\\right) f\\left(r\\right)}, \\frac{\\partial}{\\partial r}K\\left(r\\right) : \\frac{-2 i \\, r H_1\\left(r\\right) f\\left(r\\right) \\frac{\\partial}{\\partial r}{\\rm bb}\\left(r\\right) - i \\, {\\left(i \\, r^{2} K\\left(r\\right) {\\rm bb}\\left(r\\right)^{2} \\frac{\\partial}{\\partial r}f\\left(r\\right) - 2 \\, {\\left(-i \\, r H_2\\left(r\\right) + i \\, r K\\left(r\\right)\\right)} {\\rm bb}\\left(r\\right)^{2} f\\left(r\\right)\\right)} ω + i \\, {\\left({\\left(\\mathit{ll} - 2\\right)} H_1\\left(r\\right) {\\rm bb}\\left(r\\right)^{2} + 2 \\, H_1\\left(r\\right) {\\rm bb}\\left(r\\right)\\right)} f\\left(r\\right)}{2 \\, r^{2} ω {\\rm bb}\\left(r\\right)^{2} f\\left(r\\right)}\\right\\}\\)</html>"
      ],
      "text/latex": [
       "$\\displaystyle \\left\\{\\frac{\\partial}{\\partial r}H_0\\left(r\\right) : \\frac{-2 i \\, r^{2} ω^{2} H_1\\left(r\\right) {\\rm bb}\\left(r\\right)^{2} - 2 i \\, r H_1\\left(r\\right) f\\left(r\\right) \\frac{\\partial}{\\partial r}{\\rm bb}\\left(r\\right) + i \\, {\\left(2 \\, {\\left(-i \\, r H_0\\left(r\\right) + i \\, r K\\left(r\\right)\\right)} {\\rm bb}\\left(r\\right)^{2} f\\left(r\\right) - {\\left(-i \\, r^{2} H_0\\left(r\\right) - i \\, r^{2} H_2\\left(r\\right) + i \\, r^{2} K\\left(r\\right)\\right)} {\\rm bb}\\left(r\\right)^{2} \\frac{\\partial}{\\partial r}f\\left(r\\right)\\right)} ω + i \\, {\\left({\\left(\\mathit{ll} - 2\\right)} H_1\\left(r\\right) {\\rm bb}\\left(r\\right)^{2} + 2 \\, H_1\\left(r\\right) {\\rm bb}\\left(r\\right)\\right)} f\\left(r\\right)}{2 \\, r^{2} ω {\\rm bb}\\left(r\\right)^{2} f\\left(r\\right)}, \\frac{\\partial}{\\partial r}H_1\\left(r\\right) : \\frac{-2 i \\, ω {\\left(H_2\\left(r\\right) + K\\left(r\\right)\\right)} {\\rm bb}\\left(r\\right)^{2} f\\left(r\\right) + H_1\\left(r\\right) f\\left(r\\right) \\frac{\\partial}{\\partial r}{\\rm bb}\\left(r\\right) - H_1\\left(r\\right) {\\rm bb}\\left(r\\right) \\frac{\\partial}{\\partial r}f\\left(r\\right)}{2 \\, {\\rm bb}\\left(r\\right) f\\left(r\\right)}, \\frac{\\partial}{\\partial r}K\\left(r\\right) : \\frac{-2 i \\, r H_1\\left(r\\right) f\\left(r\\right) \\frac{\\partial}{\\partial r}{\\rm bb}\\left(r\\right) - i \\, {\\left(i \\, r^{2} K\\left(r\\right) {\\rm bb}\\left(r\\right)^{2} \\frac{\\partial}{\\partial r}f\\left(r\\right) - 2 \\, {\\left(-i \\, r H_2\\left(r\\right) + i \\, r K\\left(r\\right)\\right)} {\\rm bb}\\left(r\\right)^{2} f\\left(r\\right)\\right)} ω + i \\, {\\left({\\left(\\mathit{ll} - 2\\right)} H_1\\left(r\\right) {\\rm bb}\\left(r\\right)^{2} + 2 \\, H_1\\left(r\\right) {\\rm bb}\\left(r\\right)\\right)} f\\left(r\\right)}{2 \\, r^{2} ω {\\rm bb}\\left(r\\right)^{2} f\\left(r\\right)}\\right\\}$"
      ],
      "text/plain": [
       "{diff(H0(r), r): 1/2*(-2*I*r^2*ω^2*H1(r)*bb(r)^2 - 2*I*r*H1(r)*f(r)*diff(bb(r), r) + I*(2*(-I*r*H0(r) + I*r*K(r))*bb(r)^2*f(r) - (-I*r^2*H0(r) - I*r^2*H2(r) + I*r^2*K(r))*bb(r)^2*diff(f(r), r))*ω + I*((ll - 2)*H1(r)*bb(r)^2 + 2*H1(r)*bb(r))*f(r))/(r^2*ω*bb(r)^2*f(r)),\n",
       " diff(H1(r), r): 1/2*(-2*I*ω*(H2(r) + K(r))*bb(r)^2*f(r) + H1(r)*f(r)*diff(bb(r), r) - H1(r)*bb(r)*diff(f(r), r))/(bb(r)*f(r)),\n",
       " diff(K(r), r): 1/2*(-2*I*r*H1(r)*f(r)*diff(bb(r), r) - I*(I*r^2*K(r)*bb(r)^2*diff(f(r), r) - 2*(-I*r*H2(r) + I*r*K(r))*bb(r)^2*f(r))*ω + I*((ll - 2)*H1(r)*bb(r)^2 + 2*H1(r)*bb(r))*f(r))/(r^2*ω*bb(r)^2*f(r))}"
      ]
     },
     "execution_count": 173,
     "metadata": {},
     "output_type": "execute_result"
    }
   ],
   "source": [
    "zerillieq0"
   ]
  },
  {
   "cell_type": "markdown",
   "metadata": {},
   "source": [
    "Agora, resolveremos a equação para a componente $H^{(0)}_{rr}$, fazendo as substiuições feitas até agora antes de aplicar a função `solve()`, de modo a ter:"
   ]
  },
  {
   "cell_type": "code",
   "execution_count": 174,
   "metadata": {},
   "outputs": [],
   "source": [
    "eq_H0sol = ((campo_even[1,1] == 0).subs(zerillieq0).subs(eq_H2sol)).solve(H0(r), solution_dict=True)[0]"
   ]
  },
  {
   "cell_type": "code",
   "execution_count": 175,
   "metadata": {},
   "outputs": [
    {
     "data": {
      "text/html": [
       "<html>\\(\\displaystyle \\left\\{H_0\\left(r\\right) : -\\frac{4 \\, r^{2} ω^{3} K\\left(r\\right) {\\rm bb}\\left(r\\right)^{3} f\\left(r\\right) - 4 i \\, r ω^{2} H_1\\left(r\\right) {\\rm bb}\\left(r\\right)^{2} f\\left(r\\right) - {\\left(2 \\, {\\left(\\mathit{ll} - 2\\right)} K\\left(r\\right) {\\rm bb}\\left(r\\right)^{3} f\\left(r\\right)^{2} - r^{2} K\\left(r\\right) {\\rm bb}\\left(r\\right)^{2} \\frac{\\partial}{\\partial r}f\\left(r\\right)^{2} + 2 \\, r K\\left(r\\right) {\\rm bb}\\left(r\\right)^{2} f\\left(r\\right) \\frac{\\partial}{\\partial r}f\\left(r\\right)\\right)} ω + {\\left(-2 i \\, r H_1\\left(r\\right) f\\left(r\\right) \\frac{\\partial}{\\partial r}{\\rm bb}\\left(r\\right) + {\\left({\\left(i \\, \\mathit{ll} - 2 i\\right)} H_1\\left(r\\right) {\\rm bb}\\left(r\\right)^{2} + 2 i \\, H_1\\left(r\\right) {\\rm bb}\\left(r\\right)\\right)} f\\left(r\\right)\\right)} \\frac{\\partial}{\\partial r}f\\left(r\\right)}{2 \\, {\\left({\\left(\\mathit{ll} - 2\\right)} {\\rm bb}\\left(r\\right)^{3} f\\left(r\\right)^{2} + 3 \\, r {\\rm bb}\\left(r\\right)^{2} f\\left(r\\right) \\frac{\\partial}{\\partial r}f\\left(r\\right)\\right)} ω}\\right\\}\\)</html>"
      ],
      "text/latex": [
       "$\\displaystyle \\left\\{H_0\\left(r\\right) : -\\frac{4 \\, r^{2} ω^{3} K\\left(r\\right) {\\rm bb}\\left(r\\right)^{3} f\\left(r\\right) - 4 i \\, r ω^{2} H_1\\left(r\\right) {\\rm bb}\\left(r\\right)^{2} f\\left(r\\right) - {\\left(2 \\, {\\left(\\mathit{ll} - 2\\right)} K\\left(r\\right) {\\rm bb}\\left(r\\right)^{3} f\\left(r\\right)^{2} - r^{2} K\\left(r\\right) {\\rm bb}\\left(r\\right)^{2} \\frac{\\partial}{\\partial r}f\\left(r\\right)^{2} + 2 \\, r K\\left(r\\right) {\\rm bb}\\left(r\\right)^{2} f\\left(r\\right) \\frac{\\partial}{\\partial r}f\\left(r\\right)\\right)} ω + {\\left(-2 i \\, r H_1\\left(r\\right) f\\left(r\\right) \\frac{\\partial}{\\partial r}{\\rm bb}\\left(r\\right) + {\\left({\\left(i \\, \\mathit{ll} - 2 i\\right)} H_1\\left(r\\right) {\\rm bb}\\left(r\\right)^{2} + 2 i \\, H_1\\left(r\\right) {\\rm bb}\\left(r\\right)\\right)} f\\left(r\\right)\\right)} \\frac{\\partial}{\\partial r}f\\left(r\\right)}{2 \\, {\\left({\\left(\\mathit{ll} - 2\\right)} {\\rm bb}\\left(r\\right)^{3} f\\left(r\\right)^{2} + 3 \\, r {\\rm bb}\\left(r\\right)^{2} f\\left(r\\right) \\frac{\\partial}{\\partial r}f\\left(r\\right)\\right)} ω}\\right\\}$"
      ],
      "text/plain": [
       "{H0(r): -1/2*(4*r^2*ω^3*K(r)*bb(r)^3*f(r) - 4*I*r*ω^2*H1(r)*bb(r)^2*f(r) - (2*(ll - 2)*K(r)*bb(r)^3*f(r)^2 - r^2*K(r)*bb(r)^2*diff(f(r), r)^2 + 2*r*K(r)*bb(r)^2*f(r)*diff(f(r), r))*ω + (-2*I*r*H1(r)*f(r)*diff(bb(r), r) + ((I*ll - 2*I)*H1(r)*bb(r)^2 + 2*I*H1(r)*bb(r))*f(r))*diff(f(r), r))/(((ll - 2)*bb(r)^3*f(r)^2 + 3*r*bb(r)^2*f(r)*diff(f(r), r))*ω)}"
      ]
     },
     "execution_count": 175,
     "metadata": {},
     "output_type": "execute_result"
    }
   ],
   "source": [
    "eq_H0sol"
   ]
  },
  {
   "cell_type": "markdown",
   "metadata": {},
   "source": [
    "Definindo uma nova variável $R(r)$, juntamente com um fator $\\omega$, no lugar de $H^{(1)}$:"
   ]
  },
  {
   "cell_type": "code",
   "execution_count": 176,
   "metadata": {},
   "outputs": [],
   "source": [
    "R(r) = function('R')(r)"
   ]
  },
  {
   "cell_type": "code",
   "execution_count": 177,
   "metadata": {},
   "outputs": [],
   "source": [
    "Rdef = {H1(r) : ω*R(r)}"
   ]
  },
  {
   "cell_type": "code",
   "execution_count": 178,
   "metadata": {},
   "outputs": [],
   "source": [
    "Rdef[diff(list(Rdef.keys())[0], r)] = diff(list(Rdef.values())[0], r)"
   ]
  },
  {
   "cell_type": "code",
   "execution_count": 179,
   "metadata": {},
   "outputs": [
    {
     "data": {
      "text/html": [
       "<html>\\(\\displaystyle \\left\\{H_1\\left(r\\right) : ω R\\left(r\\right), \\frac{\\partial}{\\partial r}H_1\\left(r\\right) : ω \\frac{\\partial}{\\partial r}R\\left(r\\right)\\right\\}\\)</html>"
      ],
      "text/latex": [
       "$\\displaystyle \\left\\{H_1\\left(r\\right) : ω R\\left(r\\right), \\frac{\\partial}{\\partial r}H_1\\left(r\\right) : ω \\frac{\\partial}{\\partial r}R\\left(r\\right)\\right\\}$"
      ],
      "text/plain": [
       "{H1(r): ω*R(r), diff(H1(r), r): ω*diff(R(r), r)}"
      ]
     },
     "execution_count": 179,
     "metadata": {},
     "output_type": "execute_result"
    }
   ],
   "source": [
    "Rdef"
   ]
  },
  {
   "cell_type": "markdown",
   "metadata": {},
   "source": [
    "Definindo uma expressão para $\\partial_r K(r)$, com as novas regras de substiuição:"
   ]
  },
  {
   "cell_type": "code",
   "execution_count": 180,
   "metadata": {},
   "outputs": [],
   "source": [
    "eq_Kd = diff(K(r), r).subs(zerillieq0).subs(eq_H2sol).expand().subs(eq_H0sol).subs(Rdef)"
   ]
  },
  {
   "cell_type": "code",
   "execution_count": 181,
   "metadata": {},
   "outputs": [
    {
     "data": {
      "text/html": [
       "<html>\\(\\displaystyle \\frac{K\\left(r\\right) \\frac{\\partial}{\\partial r}f\\left(r\\right)}{2 \\, f\\left(r\\right)} - \\frac{K\\left(r\\right)}{r} + \\frac{i \\, \\mathit{ll} R\\left(r\\right)}{2 \\, r^{2}} - \\frac{i \\, R\\left(r\\right)}{r^{2}} - \\frac{i \\, R\\left(r\\right) \\frac{\\partial}{\\partial r}{\\rm bb}\\left(r\\right)}{r {\\rm bb}\\left(r\\right)^{2}} - \\frac{4 \\, r^{2} ω^{3} K\\left(r\\right) {\\rm bb}\\left(r\\right)^{3} f\\left(r\\right) - 4 i \\, r ω^{3} R\\left(r\\right) {\\rm bb}\\left(r\\right)^{2} f\\left(r\\right) - {\\left(2 \\, {\\left(\\mathit{ll} - 2\\right)} K\\left(r\\right) {\\rm bb}\\left(r\\right)^{3} f\\left(r\\right)^{2} - r^{2} K\\left(r\\right) {\\rm bb}\\left(r\\right)^{2} \\frac{\\partial}{\\partial r}f\\left(r\\right)^{2} + 2 \\, r K\\left(r\\right) {\\rm bb}\\left(r\\right)^{2} f\\left(r\\right) \\frac{\\partial}{\\partial r}f\\left(r\\right)\\right)} ω + {\\left(-2 i \\, r ω R\\left(r\\right) f\\left(r\\right) \\frac{\\partial}{\\partial r}{\\rm bb}\\left(r\\right) + {\\left({\\left(i \\, \\mathit{ll} - 2 i\\right)} ω R\\left(r\\right) {\\rm bb}\\left(r\\right)^{2} + 2 i \\, ω R\\left(r\\right) {\\rm bb}\\left(r\\right)\\right)} f\\left(r\\right)\\right)} \\frac{\\partial}{\\partial r}f\\left(r\\right)}{2 \\, {\\left({\\left(\\mathit{ll} - 2\\right)} {\\rm bb}\\left(r\\right)^{3} f\\left(r\\right)^{2} + 3 \\, r {\\rm bb}\\left(r\\right)^{2} f\\left(r\\right) \\frac{\\partial}{\\partial r}f\\left(r\\right)\\right)} r ω} + \\frac{i \\, R\\left(r\\right)}{r^{2} {\\rm bb}\\left(r\\right)}\\)</html>"
      ],
      "text/latex": [
       "$\\displaystyle \\frac{K\\left(r\\right) \\frac{\\partial}{\\partial r}f\\left(r\\right)}{2 \\, f\\left(r\\right)} - \\frac{K\\left(r\\right)}{r} + \\frac{i \\, \\mathit{ll} R\\left(r\\right)}{2 \\, r^{2}} - \\frac{i \\, R\\left(r\\right)}{r^{2}} - \\frac{i \\, R\\left(r\\right) \\frac{\\partial}{\\partial r}{\\rm bb}\\left(r\\right)}{r {\\rm bb}\\left(r\\right)^{2}} - \\frac{4 \\, r^{2} ω^{3} K\\left(r\\right) {\\rm bb}\\left(r\\right)^{3} f\\left(r\\right) - 4 i \\, r ω^{3} R\\left(r\\right) {\\rm bb}\\left(r\\right)^{2} f\\left(r\\right) - {\\left(2 \\, {\\left(\\mathit{ll} - 2\\right)} K\\left(r\\right) {\\rm bb}\\left(r\\right)^{3} f\\left(r\\right)^{2} - r^{2} K\\left(r\\right) {\\rm bb}\\left(r\\right)^{2} \\frac{\\partial}{\\partial r}f\\left(r\\right)^{2} + 2 \\, r K\\left(r\\right) {\\rm bb}\\left(r\\right)^{2} f\\left(r\\right) \\frac{\\partial}{\\partial r}f\\left(r\\right)\\right)} ω + {\\left(-2 i \\, r ω R\\left(r\\right) f\\left(r\\right) \\frac{\\partial}{\\partial r}{\\rm bb}\\left(r\\right) + {\\left({\\left(i \\, \\mathit{ll} - 2 i\\right)} ω R\\left(r\\right) {\\rm bb}\\left(r\\right)^{2} + 2 i \\, ω R\\left(r\\right) {\\rm bb}\\left(r\\right)\\right)} f\\left(r\\right)\\right)} \\frac{\\partial}{\\partial r}f\\left(r\\right)}{2 \\, {\\left({\\left(\\mathit{ll} - 2\\right)} {\\rm bb}\\left(r\\right)^{3} f\\left(r\\right)^{2} + 3 \\, r {\\rm bb}\\left(r\\right)^{2} f\\left(r\\right) \\frac{\\partial}{\\partial r}f\\left(r\\right)\\right)} r ω} + \\frac{i \\, R\\left(r\\right)}{r^{2} {\\rm bb}\\left(r\\right)}$"
      ],
      "text/plain": [
       "1/2*K(r)*diff(f(r), r)/f(r) - K(r)/r + 1/2*I*ll*R(r)/r^2 - I*R(r)/r^2 - I*R(r)*diff(bb(r), r)/(r*bb(r)^2) - 1/2*(4*r^2*ω^3*K(r)*bb(r)^3*f(r) - 4*I*r*ω^3*R(r)*bb(r)^2*f(r) - (2*(ll - 2)*K(r)*bb(r)^3*f(r)^2 - r^2*K(r)*bb(r)^2*diff(f(r), r)^2 + 2*r*K(r)*bb(r)^2*f(r)*diff(f(r), r))*ω + (-2*I*r*ω*R(r)*f(r)*diff(bb(r), r) + ((I*ll - 2*I)*ω*R(r)*bb(r)^2 + 2*I*ω*R(r)*bb(r))*f(r))*diff(f(r), r))/(((ll - 2)*bb(r)^3*f(r)^2 + 3*r*bb(r)^2*f(r)*diff(f(r), r))*r*ω) + I*R(r)/(r^2*bb(r))"
      ]
     },
     "execution_count": 181,
     "metadata": {},
     "output_type": "execute_result"
    }
   ],
   "source": [
    "eq_Kd"
   ]
  },
  {
   "cell_type": "code",
   "execution_count": 182,
   "metadata": {},
   "outputs": [],
   "source": [
    "Zeq1_K = (diff(K(r), r) - eq_Kd).factor()"
   ]
  },
  {
   "cell_type": "code",
   "execution_count": 183,
   "metadata": {},
   "outputs": [
    {
     "data": {
      "text/html": [
       "<html>\\(\\displaystyle \\frac{4 \\, r^{3} ω^{2} K\\left(r\\right) {\\rm bb}\\left(r\\right)^{3} f\\left(r\\right) + 2 \\, \\mathit{ll} r^{2} {\\rm bb}\\left(r\\right)^{3} f\\left(r\\right)^{2} \\frac{\\partial}{\\partial r}K\\left(r\\right) - \\mathit{ll} r^{2} K\\left(r\\right) {\\rm bb}\\left(r\\right)^{3} f\\left(r\\right) \\frac{\\partial}{\\partial r}f\\left(r\\right) - 4 i \\, r^{2} ω^{2} R\\left(r\\right) {\\rm bb}\\left(r\\right)^{2} f\\left(r\\right) - i \\, \\mathit{ll}^{2} R\\left(r\\right) {\\rm bb}\\left(r\\right)^{3} f\\left(r\\right)^{2} - 4 \\, r^{2} {\\rm bb}\\left(r\\right)^{3} f\\left(r\\right)^{2} \\frac{\\partial}{\\partial r}K\\left(r\\right) + 2 \\, r^{2} K\\left(r\\right) {\\rm bb}\\left(r\\right)^{3} f\\left(r\\right) \\frac{\\partial}{\\partial r}f\\left(r\\right) + 6 \\, r^{3} {\\rm bb}\\left(r\\right)^{2} f\\left(r\\right) \\frac{\\partial}{\\partial r}K\\left(r\\right) \\frac{\\partial}{\\partial r}f\\left(r\\right) - 2 \\, r^{3} K\\left(r\\right) {\\rm bb}\\left(r\\right)^{2} \\frac{\\partial}{\\partial r}f\\left(r\\right)^{2} + 4 i \\, \\mathit{ll} R\\left(r\\right) {\\rm bb}\\left(r\\right)^{3} f\\left(r\\right)^{2} + 2 i \\, \\mathit{ll} r R\\left(r\\right) {\\rm bb}\\left(r\\right) f\\left(r\\right)^{2} \\frac{\\partial}{\\partial r}{\\rm bb}\\left(r\\right) + 4 \\, r^{2} K\\left(r\\right) {\\rm bb}\\left(r\\right)^{2} f\\left(r\\right) \\frac{\\partial}{\\partial r}f\\left(r\\right) - 2 i \\, \\mathit{ll} r R\\left(r\\right) {\\rm bb}\\left(r\\right)^{2} f\\left(r\\right) \\frac{\\partial}{\\partial r}f\\left(r\\right) - 2 i \\, \\mathit{ll} R\\left(r\\right) {\\rm bb}\\left(r\\right)^{2} f\\left(r\\right)^{2} - 4 i \\, R\\left(r\\right) {\\rm bb}\\left(r\\right)^{3} f\\left(r\\right)^{2} - 4 i \\, r R\\left(r\\right) {\\rm bb}\\left(r\\right) f\\left(r\\right)^{2} \\frac{\\partial}{\\partial r}{\\rm bb}\\left(r\\right) + 4 i \\, r R\\left(r\\right) {\\rm bb}\\left(r\\right)^{2} f\\left(r\\right) \\frac{\\partial}{\\partial r}f\\left(r\\right) + 4 i \\, r^{2} R\\left(r\\right) f\\left(r\\right) \\frac{\\partial}{\\partial r}{\\rm bb}\\left(r\\right) \\frac{\\partial}{\\partial r}f\\left(r\\right) + 4 i \\, R\\left(r\\right) {\\rm bb}\\left(r\\right)^{2} f\\left(r\\right)^{2} - 4 i \\, r R\\left(r\\right) {\\rm bb}\\left(r\\right) f\\left(r\\right) \\frac{\\partial}{\\partial r}f\\left(r\\right)}{2 \\, {\\left(\\mathit{ll} {\\rm bb}\\left(r\\right) f\\left(r\\right) - 2 \\, {\\rm bb}\\left(r\\right) f\\left(r\\right) + 3 \\, r \\frac{\\partial}{\\partial r}f\\left(r\\right)\\right)} r^{2} {\\rm bb}\\left(r\\right)^{2} f\\left(r\\right)}\\)</html>"
      ],
      "text/latex": [
       "$\\displaystyle \\frac{4 \\, r^{3} ω^{2} K\\left(r\\right) {\\rm bb}\\left(r\\right)^{3} f\\left(r\\right) + 2 \\, \\mathit{ll} r^{2} {\\rm bb}\\left(r\\right)^{3} f\\left(r\\right)^{2} \\frac{\\partial}{\\partial r}K\\left(r\\right) - \\mathit{ll} r^{2} K\\left(r\\right) {\\rm bb}\\left(r\\right)^{3} f\\left(r\\right) \\frac{\\partial}{\\partial r}f\\left(r\\right) - 4 i \\, r^{2} ω^{2} R\\left(r\\right) {\\rm bb}\\left(r\\right)^{2} f\\left(r\\right) - i \\, \\mathit{ll}^{2} R\\left(r\\right) {\\rm bb}\\left(r\\right)^{3} f\\left(r\\right)^{2} - 4 \\, r^{2} {\\rm bb}\\left(r\\right)^{3} f\\left(r\\right)^{2} \\frac{\\partial}{\\partial r}K\\left(r\\right) + 2 \\, r^{2} K\\left(r\\right) {\\rm bb}\\left(r\\right)^{3} f\\left(r\\right) \\frac{\\partial}{\\partial r}f\\left(r\\right) + 6 \\, r^{3} {\\rm bb}\\left(r\\right)^{2} f\\left(r\\right) \\frac{\\partial}{\\partial r}K\\left(r\\right) \\frac{\\partial}{\\partial r}f\\left(r\\right) - 2 \\, r^{3} K\\left(r\\right) {\\rm bb}\\left(r\\right)^{2} \\frac{\\partial}{\\partial r}f\\left(r\\right)^{2} + 4 i \\, \\mathit{ll} R\\left(r\\right) {\\rm bb}\\left(r\\right)^{3} f\\left(r\\right)^{2} + 2 i \\, \\mathit{ll} r R\\left(r\\right) {\\rm bb}\\left(r\\right) f\\left(r\\right)^{2} \\frac{\\partial}{\\partial r}{\\rm bb}\\left(r\\right) + 4 \\, r^{2} K\\left(r\\right) {\\rm bb}\\left(r\\right)^{2} f\\left(r\\right) \\frac{\\partial}{\\partial r}f\\left(r\\right) - 2 i \\, \\mathit{ll} r R\\left(r\\right) {\\rm bb}\\left(r\\right)^{2} f\\left(r\\right) \\frac{\\partial}{\\partial r}f\\left(r\\right) - 2 i \\, \\mathit{ll} R\\left(r\\right) {\\rm bb}\\left(r\\right)^{2} f\\left(r\\right)^{2} - 4 i \\, R\\left(r\\right) {\\rm bb}\\left(r\\right)^{3} f\\left(r\\right)^{2} - 4 i \\, r R\\left(r\\right) {\\rm bb}\\left(r\\right) f\\left(r\\right)^{2} \\frac{\\partial}{\\partial r}{\\rm bb}\\left(r\\right) + 4 i \\, r R\\left(r\\right) {\\rm bb}\\left(r\\right)^{2} f\\left(r\\right) \\frac{\\partial}{\\partial r}f\\left(r\\right) + 4 i \\, r^{2} R\\left(r\\right) f\\left(r\\right) \\frac{\\partial}{\\partial r}{\\rm bb}\\left(r\\right) \\frac{\\partial}{\\partial r}f\\left(r\\right) + 4 i \\, R\\left(r\\right) {\\rm bb}\\left(r\\right)^{2} f\\left(r\\right)^{2} - 4 i \\, r R\\left(r\\right) {\\rm bb}\\left(r\\right) f\\left(r\\right) \\frac{\\partial}{\\partial r}f\\left(r\\right)}{2 \\, {\\left(\\mathit{ll} {\\rm bb}\\left(r\\right) f\\left(r\\right) - 2 \\, {\\rm bb}\\left(r\\right) f\\left(r\\right) + 3 \\, r \\frac{\\partial}{\\partial r}f\\left(r\\right)\\right)} r^{2} {\\rm bb}\\left(r\\right)^{2} f\\left(r\\right)}$"
      ],
      "text/plain": [
       "1/2*(4*r^3*ω^2*K(r)*bb(r)^3*f(r) + 2*ll*r^2*bb(r)^3*f(r)^2*diff(K(r), r) - ll*r^2*K(r)*bb(r)^3*f(r)*diff(f(r), r) - 4*I*r^2*ω^2*R(r)*bb(r)^2*f(r) - I*ll^2*R(r)*bb(r)^3*f(r)^2 - 4*r^2*bb(r)^3*f(r)^2*diff(K(r), r) + 2*r^2*K(r)*bb(r)^3*f(r)*diff(f(r), r) + 6*r^3*bb(r)^2*f(r)*diff(K(r), r)*diff(f(r), r) - 2*r^3*K(r)*bb(r)^2*diff(f(r), r)^2 + 4*I*ll*R(r)*bb(r)^3*f(r)^2 + 2*I*ll*r*R(r)*bb(r)*f(r)^2*diff(bb(r), r) + 4*r^2*K(r)*bb(r)^2*f(r)*diff(f(r), r) - 2*I*ll*r*R(r)*bb(r)^2*f(r)*diff(f(r), r) - 2*I*ll*R(r)*bb(r)^2*f(r)^2 - 4*I*R(r)*bb(r)^3*f(r)^2 - 4*I*r*R(r)*bb(r)*f(r)^2*diff(bb(r), r) + 4*I*r*R(r)*bb(r)^2*f(r)*diff(f(r), r) + 4*I*r^2*R(r)*f(r)*diff(bb(r), r)*diff(f(r), r) + 4*I*R(r)*bb(r)^2*f(r)^2 - 4*I*r*R(r)*bb(r)*f(r)*diff(f(r), r))/((ll*bb(r)*f(r) - 2*bb(r)*f(r) + 3*r*diff(f(r), r))*r^2*bb(r)^2*f(r))"
      ]
     },
     "execution_count": 183,
     "metadata": {},
     "output_type": "execute_result"
    }
   ],
   "source": [
    "Zeq1_K"
   ]
  },
  {
   "cell_type": "markdown",
   "metadata": {},
   "source": [
    "Assim como uma expressão para $\\partial_r H^{(1)}(r)$:"
   ]
  },
  {
   "cell_type": "code",
   "execution_count": 184,
   "metadata": {},
   "outputs": [],
   "source": [
    "eq_H1d = (diff(H1(r), r)/ω).subs(zerillieq0).subs(eq_H2sol).expand().subs(eq_H0sol).subs(Rdef)"
   ]
  },
  {
   "cell_type": "code",
   "execution_count": 185,
   "metadata": {},
   "outputs": [
    {
     "data": {
      "text/html": [
       "<html>\\(\\displaystyle -i \\, K\\left(r\\right) {\\rm bb}\\left(r\\right) + \\frac{R\\left(r\\right) \\frac{\\partial}{\\partial r}{\\rm bb}\\left(r\\right)}{2 \\, {\\rm bb}\\left(r\\right)} - \\frac{R\\left(r\\right) \\frac{\\partial}{\\partial r}f\\left(r\\right)}{2 \\, f\\left(r\\right)} + \\frac{i \\, {\\left(4 \\, r^{2} ω^{3} K\\left(r\\right) {\\rm bb}\\left(r\\right)^{3} f\\left(r\\right) - 4 i \\, r ω^{3} R\\left(r\\right) {\\rm bb}\\left(r\\right)^{2} f\\left(r\\right) - {\\left(2 \\, {\\left(\\mathit{ll} - 2\\right)} K\\left(r\\right) {\\rm bb}\\left(r\\right)^{3} f\\left(r\\right)^{2} - r^{2} K\\left(r\\right) {\\rm bb}\\left(r\\right)^{2} \\frac{\\partial}{\\partial r}f\\left(r\\right)^{2} + 2 \\, r K\\left(r\\right) {\\rm bb}\\left(r\\right)^{2} f\\left(r\\right) \\frac{\\partial}{\\partial r}f\\left(r\\right)\\right)} ω + {\\left(-2 i \\, r ω R\\left(r\\right) f\\left(r\\right) \\frac{\\partial}{\\partial r}{\\rm bb}\\left(r\\right) + {\\left({\\left(i \\, \\mathit{ll} - 2 i\\right)} ω R\\left(r\\right) {\\rm bb}\\left(r\\right)^{2} + 2 i \\, ω R\\left(r\\right) {\\rm bb}\\left(r\\right)\\right)} f\\left(r\\right)\\right)} \\frac{\\partial}{\\partial r}f\\left(r\\right)\\right)} {\\rm bb}\\left(r\\right)}{2 \\, {\\left({\\left(\\mathit{ll} - 2\\right)} {\\rm bb}\\left(r\\right)^{3} f\\left(r\\right)^{2} + 3 \\, r {\\rm bb}\\left(r\\right)^{2} f\\left(r\\right) \\frac{\\partial}{\\partial r}f\\left(r\\right)\\right)} ω}\\)</html>"
      ],
      "text/latex": [
       "$\\displaystyle -i \\, K\\left(r\\right) {\\rm bb}\\left(r\\right) + \\frac{R\\left(r\\right) \\frac{\\partial}{\\partial r}{\\rm bb}\\left(r\\right)}{2 \\, {\\rm bb}\\left(r\\right)} - \\frac{R\\left(r\\right) \\frac{\\partial}{\\partial r}f\\left(r\\right)}{2 \\, f\\left(r\\right)} + \\frac{i \\, {\\left(4 \\, r^{2} ω^{3} K\\left(r\\right) {\\rm bb}\\left(r\\right)^{3} f\\left(r\\right) - 4 i \\, r ω^{3} R\\left(r\\right) {\\rm bb}\\left(r\\right)^{2} f\\left(r\\right) - {\\left(2 \\, {\\left(\\mathit{ll} - 2\\right)} K\\left(r\\right) {\\rm bb}\\left(r\\right)^{3} f\\left(r\\right)^{2} - r^{2} K\\left(r\\right) {\\rm bb}\\left(r\\right)^{2} \\frac{\\partial}{\\partial r}f\\left(r\\right)^{2} + 2 \\, r K\\left(r\\right) {\\rm bb}\\left(r\\right)^{2} f\\left(r\\right) \\frac{\\partial}{\\partial r}f\\left(r\\right)\\right)} ω + {\\left(-2 i \\, r ω R\\left(r\\right) f\\left(r\\right) \\frac{\\partial}{\\partial r}{\\rm bb}\\left(r\\right) + {\\left({\\left(i \\, \\mathit{ll} - 2 i\\right)} ω R\\left(r\\right) {\\rm bb}\\left(r\\right)^{2} + 2 i \\, ω R\\left(r\\right) {\\rm bb}\\left(r\\right)\\right)} f\\left(r\\right)\\right)} \\frac{\\partial}{\\partial r}f\\left(r\\right)\\right)} {\\rm bb}\\left(r\\right)}{2 \\, {\\left({\\left(\\mathit{ll} - 2\\right)} {\\rm bb}\\left(r\\right)^{3} f\\left(r\\right)^{2} + 3 \\, r {\\rm bb}\\left(r\\right)^{2} f\\left(r\\right) \\frac{\\partial}{\\partial r}f\\left(r\\right)\\right)} ω}$"
      ],
      "text/plain": [
       "-I*K(r)*bb(r) + 1/2*R(r)*diff(bb(r), r)/bb(r) - 1/2*R(r)*diff(f(r), r)/f(r) + 1/2*I*(4*r^2*ω^3*K(r)*bb(r)^3*f(r) - 4*I*r*ω^3*R(r)*bb(r)^2*f(r) - (2*(ll - 2)*K(r)*bb(r)^3*f(r)^2 - r^2*K(r)*bb(r)^2*diff(f(r), r)^2 + 2*r*K(r)*bb(r)^2*f(r)*diff(f(r), r))*ω + (-2*I*r*ω*R(r)*f(r)*diff(bb(r), r) + ((I*ll - 2*I)*ω*R(r)*bb(r)^2 + 2*I*ω*R(r)*bb(r))*f(r))*diff(f(r), r))*bb(r)/(((ll - 2)*bb(r)^3*f(r)^2 + 3*r*bb(r)^2*f(r)*diff(f(r), r))*ω)"
      ]
     },
     "execution_count": 185,
     "metadata": {},
     "output_type": "execute_result"
    }
   ],
   "source": [
    "eq_H1d"
   ]
  },
  {
   "cell_type": "code",
   "execution_count": 186,
   "metadata": {},
   "outputs": [],
   "source": [
    "Zeq1_R = (diff(R(r), r) - eq_H1d).factor()"
   ]
  },
  {
   "cell_type": "code",
   "execution_count": 187,
   "metadata": {},
   "outputs": [
    {
     "data": {
      "text/html": [
       "<html>\\(\\displaystyle \\frac{-4 i \\, r^{2} ω^{2} K\\left(r\\right) {\\rm bb}\\left(r\\right)^{3} f\\left(r\\right) - 4 \\, r ω^{2} R\\left(r\\right) {\\rm bb}\\left(r\\right)^{2} f\\left(r\\right) + 4 i \\, \\mathit{ll} K\\left(r\\right) {\\rm bb}\\left(r\\right)^{3} f\\left(r\\right)^{2} - i \\, r^{2} K\\left(r\\right) {\\rm bb}\\left(r\\right)^{2} \\frac{\\partial}{\\partial r}f\\left(r\\right)^{2} - 8 i \\, K\\left(r\\right) {\\rm bb}\\left(r\\right)^{3} f\\left(r\\right)^{2} + 2 \\, \\mathit{ll} {\\rm bb}\\left(r\\right)^{2} f\\left(r\\right)^{2} \\frac{\\partial}{\\partial r}R\\left(r\\right) - \\mathit{ll} R\\left(r\\right) {\\rm bb}\\left(r\\right) f\\left(r\\right)^{2} \\frac{\\partial}{\\partial r}{\\rm bb}\\left(r\\right) + 8 i \\, r K\\left(r\\right) {\\rm bb}\\left(r\\right)^{2} f\\left(r\\right) \\frac{\\partial}{\\partial r}f\\left(r\\right) + 2 \\, \\mathit{ll} R\\left(r\\right) {\\rm bb}\\left(r\\right)^{2} f\\left(r\\right) \\frac{\\partial}{\\partial r}f\\left(r\\right) - 4 \\, {\\rm bb}\\left(r\\right)^{2} f\\left(r\\right)^{2} \\frac{\\partial}{\\partial r}R\\left(r\\right) + 2 \\, R\\left(r\\right) {\\rm bb}\\left(r\\right) f\\left(r\\right)^{2} \\frac{\\partial}{\\partial r}{\\rm bb}\\left(r\\right) - 4 \\, R\\left(r\\right) {\\rm bb}\\left(r\\right)^{2} f\\left(r\\right) \\frac{\\partial}{\\partial r}f\\left(r\\right) + 6 \\, r {\\rm bb}\\left(r\\right) f\\left(r\\right) \\frac{\\partial}{\\partial r}R\\left(r\\right) \\frac{\\partial}{\\partial r}f\\left(r\\right) - 5 \\, r R\\left(r\\right) f\\left(r\\right) \\frac{\\partial}{\\partial r}{\\rm bb}\\left(r\\right) \\frac{\\partial}{\\partial r}f\\left(r\\right) + 3 \\, r R\\left(r\\right) {\\rm bb}\\left(r\\right) \\frac{\\partial}{\\partial r}f\\left(r\\right)^{2} + 2 \\, R\\left(r\\right) {\\rm bb}\\left(r\\right) f\\left(r\\right) \\frac{\\partial}{\\partial r}f\\left(r\\right)}{2 \\, {\\left(\\mathit{ll} {\\rm bb}\\left(r\\right) f\\left(r\\right) - 2 \\, {\\rm bb}\\left(r\\right) f\\left(r\\right) + 3 \\, r \\frac{\\partial}{\\partial r}f\\left(r\\right)\\right)} {\\rm bb}\\left(r\\right) f\\left(r\\right)}\\)</html>"
      ],
      "text/latex": [
       "$\\displaystyle \\frac{-4 i \\, r^{2} ω^{2} K\\left(r\\right) {\\rm bb}\\left(r\\right)^{3} f\\left(r\\right) - 4 \\, r ω^{2} R\\left(r\\right) {\\rm bb}\\left(r\\right)^{2} f\\left(r\\right) + 4 i \\, \\mathit{ll} K\\left(r\\right) {\\rm bb}\\left(r\\right)^{3} f\\left(r\\right)^{2} - i \\, r^{2} K\\left(r\\right) {\\rm bb}\\left(r\\right)^{2} \\frac{\\partial}{\\partial r}f\\left(r\\right)^{2} - 8 i \\, K\\left(r\\right) {\\rm bb}\\left(r\\right)^{3} f\\left(r\\right)^{2} + 2 \\, \\mathit{ll} {\\rm bb}\\left(r\\right)^{2} f\\left(r\\right)^{2} \\frac{\\partial}{\\partial r}R\\left(r\\right) - \\mathit{ll} R\\left(r\\right) {\\rm bb}\\left(r\\right) f\\left(r\\right)^{2} \\frac{\\partial}{\\partial r}{\\rm bb}\\left(r\\right) + 8 i \\, r K\\left(r\\right) {\\rm bb}\\left(r\\right)^{2} f\\left(r\\right) \\frac{\\partial}{\\partial r}f\\left(r\\right) + 2 \\, \\mathit{ll} R\\left(r\\right) {\\rm bb}\\left(r\\right)^{2} f\\left(r\\right) \\frac{\\partial}{\\partial r}f\\left(r\\right) - 4 \\, {\\rm bb}\\left(r\\right)^{2} f\\left(r\\right)^{2} \\frac{\\partial}{\\partial r}R\\left(r\\right) + 2 \\, R\\left(r\\right) {\\rm bb}\\left(r\\right) f\\left(r\\right)^{2} \\frac{\\partial}{\\partial r}{\\rm bb}\\left(r\\right) - 4 \\, R\\left(r\\right) {\\rm bb}\\left(r\\right)^{2} f\\left(r\\right) \\frac{\\partial}{\\partial r}f\\left(r\\right) + 6 \\, r {\\rm bb}\\left(r\\right) f\\left(r\\right) \\frac{\\partial}{\\partial r}R\\left(r\\right) \\frac{\\partial}{\\partial r}f\\left(r\\right) - 5 \\, r R\\left(r\\right) f\\left(r\\right) \\frac{\\partial}{\\partial r}{\\rm bb}\\left(r\\right) \\frac{\\partial}{\\partial r}f\\left(r\\right) + 3 \\, r R\\left(r\\right) {\\rm bb}\\left(r\\right) \\frac{\\partial}{\\partial r}f\\left(r\\right)^{2} + 2 \\, R\\left(r\\right) {\\rm bb}\\left(r\\right) f\\left(r\\right) \\frac{\\partial}{\\partial r}f\\left(r\\right)}{2 \\, {\\left(\\mathit{ll} {\\rm bb}\\left(r\\right) f\\left(r\\right) - 2 \\, {\\rm bb}\\left(r\\right) f\\left(r\\right) + 3 \\, r \\frac{\\partial}{\\partial r}f\\left(r\\right)\\right)} {\\rm bb}\\left(r\\right) f\\left(r\\right)}$"
      ],
      "text/plain": [
       "1/2*(-4*I*r^2*ω^2*K(r)*bb(r)^3*f(r) - 4*r*ω^2*R(r)*bb(r)^2*f(r) + 4*I*ll*K(r)*bb(r)^3*f(r)^2 - I*r^2*K(r)*bb(r)^2*diff(f(r), r)^2 - 8*I*K(r)*bb(r)^3*f(r)^2 + 2*ll*bb(r)^2*f(r)^2*diff(R(r), r) - ll*R(r)*bb(r)*f(r)^2*diff(bb(r), r) + 8*I*r*K(r)*bb(r)^2*f(r)*diff(f(r), r) + 2*ll*R(r)*bb(r)^2*f(r)*diff(f(r), r) - 4*bb(r)^2*f(r)^2*diff(R(r), r) + 2*R(r)*bb(r)*f(r)^2*diff(bb(r), r) - 4*R(r)*bb(r)^2*f(r)*diff(f(r), r) + 6*r*bb(r)*f(r)*diff(R(r), r)*diff(f(r), r) - 5*r*R(r)*f(r)*diff(bb(r), r)*diff(f(r), r) + 3*r*R(r)*bb(r)*diff(f(r), r)^2 + 2*R(r)*bb(r)*f(r)*diff(f(r), r))/((ll*bb(r)*f(r) - 2*bb(r)*f(r) + 3*r*diff(f(r), r))*bb(r)*f(r))"
      ]
     },
     "execution_count": 187,
     "metadata": {},
     "output_type": "execute_result"
    }
   ],
   "source": [
    "Zeq1_R"
   ]
  },
  {
   "cell_type": "markdown",
   "metadata": {},
   "source": [
    "Aqui, definiremos duas novas expressões, $\\hat{K}(r)$ e $\\hat{R}(r)$:{"
   ]
  },
  {
   "cell_type": "code",
   "execution_count": 188,
   "metadata": {},
   "outputs": [
    {
     "data": {
      "text/html": [
       "<html>\\(\\displaystyle \\left(r \\ {\\mapsto}\\ \\hat{K}\\left(r\\right), r \\ {\\mapsto}\\ \\hat{R}\\left(r\\right)\\right)\\)</html>"
      ],
      "text/latex": [
       "$\\displaystyle \\left(r \\ {\\mapsto}\\ \\hat{K}\\left(r\\right), r \\ {\\mapsto}\\ \\hat{R}\\left(r\\right)\\right)$"
      ],
      "text/plain": [
       "(r |--> Kh(r), r |--> Rh(r))"
      ]
     },
     "execution_count": 188,
     "metadata": {},
     "output_type": "execute_result"
    }
   ],
   "source": [
    "Kh(r) = function('Kh', latex_name=r'\\hat{K}')(r)\n",
    "Rh(r) = function('Rh', latex_name=r'\\hat{R}')(r)\n",
    "Kh, Rh"
   ]
  },
  {
   "cell_type": "markdown",
   "metadata": {},
   "source": [
    "Juntamente com as quatro novas funções abaixo:"
   ]
  },
  {
   "cell_type": "code",
   "execution_count": 189,
   "metadata": {},
   "outputs": [],
   "source": [
    "f1 = function('f1', latex_name=r'f_1')(r)\n",
    "f2 = function('f2', latex_name=r'f_2')(r)\n",
    "f3 = function('f3', latex_name=r'f_3')(r)\n",
    "f4 = function('f4', latex_name=r'f_4')(r)"
   ]
  },
  {
   "cell_type": "markdown",
   "metadata": {},
   "source": [
    "De modo que as antigas variáveis $K(r)$ e $R(r)$ são substiuídas pelas expressões:"
   ]
  },
  {
   "cell_type": "code",
   "execution_count": 190,
   "metadata": {},
   "outputs": [],
   "source": [
    "eq_Kh = {K : f1*Kh + f2*Rh}\n",
    "eq_Rh = {R : f3*Kh + f4*Rh}"
   ]
  },
  {
   "cell_type": "code",
   "execution_count": 191,
   "metadata": {},
   "outputs": [],
   "source": [
    "eq_Kh[diff(list(eq_Kh.keys())[0], r)] = diff(list(eq_Kh.values())[0], r)"
   ]
  },
  {
   "cell_type": "code",
   "execution_count": 192,
   "metadata": {},
   "outputs": [
    {
     "data": {
      "text/html": [
       "<html>\\(\\displaystyle \\left\\{r \\ {\\mapsto}\\ K\\left(r\\right) : r \\ {\\mapsto}\\ \\hat{K}\\left(r\\right) f_1\\left(r\\right) + \\hat{R}\\left(r\\right) f_2\\left(r\\right), r \\ {\\mapsto}\\ \\frac{\\partial}{\\partial r}K\\left(r\\right) : r \\ {\\mapsto}\\ f_1\\left(r\\right) \\frac{\\partial}{\\partial r}\\hat{K}\\left(r\\right) + f_2\\left(r\\right) \\frac{\\partial}{\\partial r}\\hat{R}\\left(r\\right) + \\hat{K}\\left(r\\right) \\frac{\\partial}{\\partial r}f_1\\left(r\\right) + \\hat{R}\\left(r\\right) \\frac{\\partial}{\\partial r}f_2\\left(r\\right)\\right\\}\\)</html>"
      ],
      "text/latex": [
       "$\\displaystyle \\left\\{r \\ {\\mapsto}\\ K\\left(r\\right) : r \\ {\\mapsto}\\ \\hat{K}\\left(r\\right) f_1\\left(r\\right) + \\hat{R}\\left(r\\right) f_2\\left(r\\right), r \\ {\\mapsto}\\ \\frac{\\partial}{\\partial r}K\\left(r\\right) : r \\ {\\mapsto}\\ f_1\\left(r\\right) \\frac{\\partial}{\\partial r}\\hat{K}\\left(r\\right) + f_2\\left(r\\right) \\frac{\\partial}{\\partial r}\\hat{R}\\left(r\\right) + \\hat{K}\\left(r\\right) \\frac{\\partial}{\\partial r}f_1\\left(r\\right) + \\hat{R}\\left(r\\right) \\frac{\\partial}{\\partial r}f_2\\left(r\\right)\\right\\}$"
      ],
      "text/plain": [
       "{r |--> K(r): r |--> Kh(r)*f1(r) + Rh(r)*f2(r),\n",
       " r |--> diff(K(r), r): r |--> f1(r)*diff(Kh(r), r) + f2(r)*diff(Rh(r), r) + Kh(r)*diff(f1(r), r) + Rh(r)*diff(f2(r), r)}"
      ]
     },
     "execution_count": 192,
     "metadata": {},
     "output_type": "execute_result"
    }
   ],
   "source": [
    "eq_Kh"
   ]
  },
  {
   "cell_type": "code",
   "execution_count": 193,
   "metadata": {},
   "outputs": [],
   "source": [
    "eq_Rh[diff(list(eq_Rh.keys())[0], r)] = diff(list(eq_Rh.values())[0], r)"
   ]
  },
  {
   "cell_type": "code",
   "execution_count": 194,
   "metadata": {},
   "outputs": [
    {
     "data": {
      "text/html": [
       "<html>\\(\\displaystyle \\left\\{r \\ {\\mapsto}\\ R\\left(r\\right) : r \\ {\\mapsto}\\ \\hat{K}\\left(r\\right) f_3\\left(r\\right) + \\hat{R}\\left(r\\right) f_4\\left(r\\right), r \\ {\\mapsto}\\ \\frac{\\partial}{\\partial r}R\\left(r\\right) : r \\ {\\mapsto}\\ f_3\\left(r\\right) \\frac{\\partial}{\\partial r}\\hat{K}\\left(r\\right) + f_4\\left(r\\right) \\frac{\\partial}{\\partial r}\\hat{R}\\left(r\\right) + \\hat{K}\\left(r\\right) \\frac{\\partial}{\\partial r}f_3\\left(r\\right) + \\hat{R}\\left(r\\right) \\frac{\\partial}{\\partial r}f_4\\left(r\\right)\\right\\}\\)</html>"
      ],
      "text/latex": [
       "$\\displaystyle \\left\\{r \\ {\\mapsto}\\ R\\left(r\\right) : r \\ {\\mapsto}\\ \\hat{K}\\left(r\\right) f_3\\left(r\\right) + \\hat{R}\\left(r\\right) f_4\\left(r\\right), r \\ {\\mapsto}\\ \\frac{\\partial}{\\partial r}R\\left(r\\right) : r \\ {\\mapsto}\\ f_3\\left(r\\right) \\frac{\\partial}{\\partial r}\\hat{K}\\left(r\\right) + f_4\\left(r\\right) \\frac{\\partial}{\\partial r}\\hat{R}\\left(r\\right) + \\hat{K}\\left(r\\right) \\frac{\\partial}{\\partial r}f_3\\left(r\\right) + \\hat{R}\\left(r\\right) \\frac{\\partial}{\\partial r}f_4\\left(r\\right)\\right\\}$"
      ],
      "text/plain": [
       "{r |--> R(r): r |--> Kh(r)*f3(r) + Rh(r)*f4(r),\n",
       " r |--> diff(R(r), r): r |--> f3(r)*diff(Kh(r), r) + f4(r)*diff(Rh(r), r) + Kh(r)*diff(f3(r), r) + Rh(r)*diff(f4(r), r)}"
      ]
     },
     "execution_count": 194,
     "metadata": {},
     "output_type": "execute_result"
    }
   ],
   "source": [
    "eq_Rh"
   ]
  },
  {
   "cell_type": "markdown",
   "metadata": {},
   "source": [
    " "
   ]
  },
  {
   "cell_type": "code",
   "execution_count": 195,
   "metadata": {},
   "outputs": [],
   "source": [
    "Zeq1replaced_K = Zeq1_K.subs(eq_Kh, eq_Rh).factor()"
   ]
  },
  {
   "cell_type": "code",
   "execution_count": 196,
   "metadata": {},
   "outputs": [],
   "source": [
    "Zeq1replaced_R = Zeq1_R.subs(eq_Kh, eq_Rh).factor()"
   ]
  },
  {
   "cell_type": "markdown",
   "metadata": {},
   "source": [
    "Assim como no tópico anteior, faremos agora uma mudança de coordendas e introduziremos a coordenada de tartaruga, $r_{\\star}$. Porém, diferentemente do tópico para a equação de Regge-Wheeler, a função `change_variable()`não foi efetiva nesse caso, então por hora será feita a mudança de coordendas manualmente. Definiremos primeiro então as funções $\\hat{K}(r_{\\star})$ e $\\hat{R}(r_{\\star})$, bem como suas derivadas, respectivamente:"
   ]
  },
  {
   "cell_type": "code",
   "execution_count": 197,
   "metadata": {},
   "outputs": [
    {
     "data": {
      "text/html": [
       "<html>\\(\\displaystyle \\left({r_\\star} \\ {\\mapsto}\\ \\hat{K}\\left({r_\\star}\\right), {r_\\star} \\ {\\mapsto}\\ \\hat{R}\\left({r_\\star}\\right)\\right)\\)</html>"
      ],
      "text/latex": [
       "$\\displaystyle \\left({r_\\star} \\ {\\mapsto}\\ \\hat{K}\\left({r_\\star}\\right), {r_\\star} \\ {\\mapsto}\\ \\hat{R}\\left({r_\\star}\\right)\\right)$"
      ],
      "text/plain": [
       "(rT |--> KhT(rT), rT |--> RhT(rT))"
      ]
     },
     "execution_count": 197,
     "metadata": {},
     "output_type": "execute_result"
    }
   ],
   "source": [
    "KhT(rT) = function('KhT', latex_name=r'\\hat{K}')(rT)\n",
    "RhT(rT) = function('RhT', latex_name=r'\\hat{R}')(rT)\n",
    "KhT, RhT"
   ]
  },
  {
   "cell_type": "code",
   "execution_count": 198,
   "metadata": {},
   "outputs": [
    {
     "data": {
      "text/html": [
       "<html>\\(\\displaystyle \\left\\{r \\ {\\mapsto}\\ \\hat{K}\\left(r\\right) : {r_\\star} \\ {\\mapsto}\\ \\hat{K}\\left({r_\\star}\\right), r \\ {\\mapsto}\\ \\frac{\\partial}{\\partial r}\\hat{K}\\left(r\\right) : {r_\\star} \\ {\\mapsto}\\ \\frac{\\partial}{\\partial {r_\\star}}\\hat{K}\\left({r_\\star}\\right) \\frac{\\partial}{\\partial r}r_{\\star}\\left(r\\right)\\right\\}\\)</html>"
      ],
      "text/latex": [
       "$\\displaystyle \\left\\{r \\ {\\mapsto}\\ \\hat{K}\\left(r\\right) : {r_\\star} \\ {\\mapsto}\\ \\hat{K}\\left({r_\\star}\\right), r \\ {\\mapsto}\\ \\frac{\\partial}{\\partial r}\\hat{K}\\left(r\\right) : {r_\\star} \\ {\\mapsto}\\ \\frac{\\partial}{\\partial {r_\\star}}\\hat{K}\\left({r_\\star}\\right) \\frac{\\partial}{\\partial r}r_{\\star}\\left(r\\right)\\right\\}$"
      ],
      "text/plain": [
       "{r |--> Kh(r): rT |--> KhT(rT),\n",
       " r |--> diff(Kh(r), r): rT |--> diff(KhT(rT), rT)*diff(rT(r), r)}"
      ]
     },
     "execution_count": 198,
     "metadata": {},
     "output_type": "execute_result"
    }
   ],
   "source": [
    "dKh = {Kh : KhT, diff(Kh, r) : diff(KhT, rT)*diff(rTr, r)}\n",
    "dKh"
   ]
  },
  {
   "cell_type": "code",
   "execution_count": 199,
   "metadata": {},
   "outputs": [
    {
     "data": {
      "text/html": [
       "<html>\\(\\displaystyle \\left\\{r \\ {\\mapsto}\\ \\hat{R}\\left(r\\right) : {r_\\star} \\ {\\mapsto}\\ \\hat{R}\\left({r_\\star}\\right), r \\ {\\mapsto}\\ \\frac{\\partial}{\\partial r}\\hat{R}\\left(r\\right) : {r_\\star} \\ {\\mapsto}\\ \\frac{\\partial}{\\partial {r_\\star}}\\hat{R}\\left({r_\\star}\\right) \\frac{\\partial}{\\partial r}r_{\\star}\\left(r\\right)\\right\\}\\)</html>"
      ],
      "text/latex": [
       "$\\displaystyle \\left\\{r \\ {\\mapsto}\\ \\hat{R}\\left(r\\right) : {r_\\star} \\ {\\mapsto}\\ \\hat{R}\\left({r_\\star}\\right), r \\ {\\mapsto}\\ \\frac{\\partial}{\\partial r}\\hat{R}\\left(r\\right) : {r_\\star} \\ {\\mapsto}\\ \\frac{\\partial}{\\partial {r_\\star}}\\hat{R}\\left({r_\\star}\\right) \\frac{\\partial}{\\partial r}r_{\\star}\\left(r\\right)\\right\\}$"
      ],
      "text/plain": [
       "{r |--> Rh(r): rT |--> RhT(rT),\n",
       " r |--> diff(Rh(r), r): rT |--> diff(RhT(rT), rT)*diff(rT(r), r)}"
      ]
     },
     "execution_count": 199,
     "metadata": {},
     "output_type": "execute_result"
    }
   ],
   "source": [
    "dRh = {Rh : RhT, diff(Rh, r) : diff(RhT, rT)*diff(rTr, r)}\n",
    "dRh"
   ]
  },
  {
   "cell_type": "markdown",
   "metadata": {},
   "source": [
    "Substituindo ambas as expressões acima nas equações para $\\hat{K}$ e para $\\hat{R}$, bem como a regra de substituição para as derivadas de $r_{\\star}$:"
   ]
  },
  {
   "cell_type": "code",
   "execution_count": 200,
   "metadata": {},
   "outputs": [],
   "source": [
    "#Zeq1tor_Kh = change_variable(Zeq1replaced_K, Kh, r, rTr, rT, expand=True)\n",
    "Zeq1tor_Kh = Zeq1replaced_K.subs(dKh, dRh)"
   ]
  },
  {
   "cell_type": "code",
   "execution_count": 201,
   "metadata": {},
   "outputs": [],
   "source": [
    "Zeq1tor_Kh = Zeq1tor_Kh.subs(rTd)"
   ]
  },
  {
   "cell_type": "code",
   "execution_count": 202,
   "metadata": {},
   "outputs": [],
   "source": [
    "#Zeq1tor_Kh"
   ]
  },
  {
   "cell_type": "markdown",
   "metadata": {},
   "source": [
    " "
   ]
  },
  {
   "cell_type": "code",
   "execution_count": 203,
   "metadata": {},
   "outputs": [],
   "source": [
    "#Zeq1tor_Rh = change_variable(Zeq1replaced_R, Rh, r, rTr, rT, expand=True)\n",
    "Zeq1tor_Rh = Zeq1replaced_R.subs(dKh, dRh)"
   ]
  },
  {
   "cell_type": "code",
   "execution_count": 204,
   "metadata": {},
   "outputs": [],
   "source": [
    "Zeq1tor_Rh = Zeq1tor_Rh.subs(rTd)"
   ]
  },
  {
   "cell_type": "code",
   "execution_count": 205,
   "metadata": {},
   "outputs": [],
   "source": [
    "#Zeq1tor_Rh"
   ]
  },
  {
   "cell_type": "markdown",
   "metadata": {},
   "source": [
    "Aqui, temos de resolver um sistema de duas equações, em termos das funções $\\partial_{r_{\\star}}\\hat{K}$ e $\\partial_{r_{\\star}}\\hat{R}$, como se segue:"
   ]
  },
  {
   "cell_type": "code",
   "execution_count": 206,
   "metadata": {},
   "outputs": [],
   "source": [
    "#Kh, Rh\n",
    "dic_aux2 = dict(zip([diff(KhT(rT), rT), diff(RhT(rT), rT)], var('aux2', n=3)))"
   ]
  },
  {
   "cell_type": "code",
   "execution_count": 207,
   "metadata": {},
   "outputs": [
    {
     "data": {
      "text/html": [
       "<html>\\(\\displaystyle \\left[\\mathit{aux}_{20}, \\mathit{aux}_{21}\\right]\\)</html>"
      ],
      "text/latex": [
       "$\\displaystyle \\left[\\mathit{aux}_{20}, \\mathit{aux}_{21}\\right]$"
      ],
      "text/plain": [
       "[aux20, aux21]"
      ]
     },
     "execution_count": 207,
     "metadata": {},
     "output_type": "execute_result"
    }
   ],
   "source": [
    "list(dic_aux2.values())"
   ]
  },
  {
   "cell_type": "code",
   "execution_count": 208,
   "metadata": {},
   "outputs": [],
   "source": [
    "sist2 = solve([Zeq1tor_Kh.subs(dic_aux2)==0, Zeq1tor_Rh.subs(dic_aux2)==0], list(dic_aux2.values()))"
   ]
  },
  {
   "cell_type": "markdown",
   "metadata": {},
   "source": [
    "a partir daqui, assumiremos que $f_2(r) = 1$ por simplicidade:"
   ]
  },
  {
   "cell_type": "code",
   "execution_count": 209,
   "metadata": {},
   "outputs": [],
   "source": [
    "Zeqsol = [diff(KhT(rT), rT) == sist2[0][0].rhs().subs({f2 : 1, diff(f2, r) : 0}), diff(RhT(rT), rT) == sist2[0][1].rhs().subs({f2 : 1, diff(f2, r) : 0})]"
   ]
  },
  {
   "cell_type": "code",
   "execution_count": 210,
   "metadata": {},
   "outputs": [],
   "source": [
    "Zeqsol_subs = {diff(KhT(rT), rT) : sist2[0][0].rhs().subs({f2 : 1, diff(f2, r) : 0}), diff(RhT(rT), rT) : sist2[0][1].rhs().subs({f2 : 1, diff(f2, r) : 0})}"
   ]
  },
  {
   "cell_type": "markdown",
   "metadata": {},
   "source": [
    "Aqui, formularemos dois requisitos sobre a transformação:"
   ]
  },
  {
   "cell_type": "code",
   "execution_count": 211,
   "metadata": {},
   "outputs": [],
   "source": [
    "requisito1 = (diff(KhT, rT) - RhT).subs(Zeqsol_subs)"
   ]
  },
  {
   "cell_type": "code",
   "execution_count": 212,
   "metadata": {},
   "outputs": [],
   "source": [
    "requisito2 = (diff(RhT, rT).subs(Zeqsol_subs)).coefficient(RhT)"
   ]
  },
  {
   "cell_type": "markdown",
   "metadata": {},
   "source": [
    "As requisitos acima levam à equações algébricas e diferenciais para $f_1(r)$, $f_(3)$ e $f_4(r)$. Assim, basta pegar as equações algébricas e depois verificar as diferenciais. Começaremos pela resolução da expressão para $f_4(r)$, nos restringindo aos coeficientes de $\\hat{R}(r_{\\star})$ e $\\omega^2$, nessa ordem:"
   ]
  },
  {
   "cell_type": "code",
   "execution_count": 213,
   "metadata": {},
   "outputs": [],
   "source": [
    "f4sol = ((requisito1.coefficient(RhT)).coefficient(ω^2) == 0).solve(f4, solution_dict=True)[0]"
   ]
  },
  {
   "cell_type": "code",
   "execution_count": 214,
   "metadata": {},
   "outputs": [],
   "source": [
    "f4sol[diff(list(f4sol.keys())[0], r)] = diff(list(f4sol.values())[0], r)"
   ]
  },
  {
   "cell_type": "code",
   "execution_count": 215,
   "metadata": {},
   "outputs": [
    {
     "data": {
      "text/html": [
       "<html>\\(\\displaystyle \\left\\{f_4\\left(r\\right) : -i \\, r {\\rm bb}\\left(r\\right), \\frac{\\partial}{\\partial r}f_4\\left(r\\right) : -i \\, r \\frac{\\partial}{\\partial r}{\\rm bb}\\left(r\\right) - i \\, {\\rm bb}\\left(r\\right)\\right\\}\\)</html>"
      ],
      "text/latex": [
       "$\\displaystyle \\left\\{f_4\\left(r\\right) : -i \\, r {\\rm bb}\\left(r\\right), \\frac{\\partial}{\\partial r}f_4\\left(r\\right) : -i \\, r \\frac{\\partial}{\\partial r}{\\rm bb}\\left(r\\right) - i \\, {\\rm bb}\\left(r\\right)\\right\\}$"
      ],
      "text/plain": [
       "{f4(r): -I*r*bb(r), diff(f4(r), r): -I*r*diff(bb(r), r) - I*bb(r)}"
      ]
     },
     "execution_count": 215,
     "metadata": {},
     "output_type": "execute_result"
    }
   ],
   "source": [
    "f4sol"
   ]
  },
  {
   "cell_type": "markdown",
   "metadata": {},
   "source": [
    "Para a solução de $f_3(r)$, substituiremos o resultado acima no `requisito1` e então pegaremos os coeficientes de $\\hat{R}(r_{\\star})$:"
   ]
  },
  {
   "cell_type": "code",
   "execution_count": 216,
   "metadata": {},
   "outputs": [],
   "source": [
    "f3sol = ((requisito1).subs(f4sol).coefficient(RhT) == 0).solve(f3, solution_dict=True)[0]"
   ]
  },
  {
   "cell_type": "code",
   "execution_count": 217,
   "metadata": {},
   "outputs": [],
   "source": [
    "f3sol[diff(list(f3sol.keys())[0], r)] = diff(list(f3sol.values())[0], r)"
   ]
  },
  {
   "cell_type": "code",
   "execution_count": 218,
   "metadata": {},
   "outputs": [],
   "source": [
    "#f3sol"
   ]
  },
  {
   "cell_type": "markdown",
   "metadata": {},
   "source": [
    "O mesmo procedimento será realizado para a função $f_1(r)$, mas usando o `requesito2`, como se segue:"
   ]
  },
  {
   "cell_type": "code",
   "execution_count": 219,
   "metadata": {},
   "outputs": [],
   "source": [
    "f1sol = (requisito2.subs(f4sol).subs(f3sol) == 0).solve(f1, solution_dict=True)[0]"
   ]
  },
  {
   "cell_type": "code",
   "execution_count": 220,
   "metadata": {},
   "outputs": [],
   "source": [
    "f1sol[diff(list(f1sol.keys())[0], r)] = diff(list(f1sol.values())[0], r)"
   ]
  },
  {
   "cell_type": "code",
   "execution_count": 221,
   "metadata": {},
   "outputs": [],
   "source": [
    "#f1sol"
   ]
  },
  {
   "cell_type": "markdown",
   "metadata": {},
   "source": [
    "Aqui, inseriremos a solução das três funções nas expressões para $\\hat{K}(r_{\\star})$ e $\\hat{R}(r_{\\star})$, dentro da lista `Zeqsol`:"
   ]
  },
  {
   "cell_type": "code",
   "execution_count": 222,
   "metadata": {},
   "outputs": [],
   "source": [
    "Zeqsol1_Kh = (Zeqsol[0].subs(f4sol).subs(f3sol).subs(f1sol)).simplify()"
   ]
  },
  {
   "cell_type": "code",
   "execution_count": 223,
   "metadata": {},
   "outputs": [],
   "source": [
    "Zeqsol1_Rh = (Zeqsol[1].subs(f4sol).subs(f3sol).subs(f1sol)).simplify()"
   ]
  },
  {
   "cell_type": "code",
   "execution_count": 224,
   "metadata": {},
   "outputs": [],
   "source": [
    "#print(Zeqsol1_Kh)"
   ]
  },
  {
   "cell_type": "markdown",
   "metadata": {},
   "source": [
    "Definindo uma nova variável $\\lambda$ e definindo-a como $ll = 2(\\lambda+1)$ e aplicando as substituição `backg`, tem-se:"
   ]
  },
  {
   "cell_type": "code",
   "execution_count": 225,
   "metadata": {},
   "outputs": [
    {
     "data": {
      "text/html": [
       "<html>\\(\\displaystyle λ\\)</html>"
      ],
      "text/latex": [
       "$\\displaystyle λ$"
      ],
      "text/plain": [
       "λ"
      ]
     },
     "execution_count": 225,
     "metadata": {},
     "output_type": "execute_result"
    }
   ],
   "source": [
    "var('λ')"
   ]
  },
  {
   "cell_type": "code",
   "execution_count": 226,
   "metadata": {},
   "outputs": [],
   "source": [
    "Zeqs = [Zeqsol1_Kh.subs(backg).subs({ll : 2*(λ+1)}).factor(), Zeqsol1_Rh.subs(backg).subs({ll : 2*(λ+1)}).factor()]"
   ]
  },
  {
   "cell_type": "code",
   "execution_count": 227,
   "metadata": {},
   "outputs": [
    {
     "data": {
      "text/html": [
       "<html>\\(\\displaystyle \\left[\\frac{\\partial}{\\partial {r_\\star}}\\hat{K}\\left({r_\\star}\\right) = -\\frac{6 \\, {\\mathrm{l}} r^{2} α^{4} \\hat{K}\\left({r_\\star}\\right) e^{\\left(\\frac{6 \\, r}{{\\mathrm{l}} α - 2 \\, {\\mathrm{m}}}\\right)} - 12 \\, {\\mathrm{m}} r^{2} α^{3} \\hat{K}\\left({r_\\star}\\right) e^{\\left(\\frac{6 \\, r}{{\\mathrm{l}} α - 2 \\, {\\mathrm{m}}}\\right)} + 6 \\, r^{3} α^{3} \\hat{K}\\left({r_\\star}\\right) e^{\\left(\\frac{6 \\, r}{{\\mathrm{l}} α - 2 \\, {\\mathrm{m}}}\\right)} - 24 \\, {\\mathrm{l}} {\\mathrm{m}} r α^{3} \\hat{K}\\left({r_\\star}\\right) e^{\\left(\\frac{4 \\, r}{{\\mathrm{l}} α - 2 \\, {\\mathrm{m}}}\\right)} + 12 \\, {\\mathrm{l}} r^{2} α^{3} \\hat{K}\\left({r_\\star}\\right) e^{\\left(\\frac{4 \\, r}{{\\mathrm{l}} α - 2 \\, {\\mathrm{m}}}\\right)} - \\sqrt{{\\left(r α e^{\\left(\\frac{2 \\, r}{{\\mathrm{l}} α - 2 \\, {\\mathrm{m}}}\\right)} - 2 \\, {\\mathrm{m}} + r\\right)}^{2}} {\\mathrm{l}}^{2} r α^{2} λ \\hat{R}\\left({r_\\star}\\right) - 3 \\, \\sqrt{{\\left(r α e^{\\left(\\frac{2 \\, r}{{\\mathrm{l}} α - 2 \\, {\\mathrm{m}}}\\right)} - 2 \\, {\\mathrm{m}} + r\\right)}^{2}} {\\mathrm{l}} r^{2} α^{2} \\hat{R}\\left({r_\\star}\\right) e^{\\left(\\frac{2 \\, r}{{\\mathrm{l}} α - 2 \\, {\\mathrm{m}}}\\right)} + 48 \\, {\\mathrm{m}}^{2} r α^{2} \\hat{K}\\left({r_\\star}\\right) e^{\\left(\\frac{4 \\, r}{{\\mathrm{l}} α - 2 \\, {\\mathrm{m}}}\\right)} - 48 \\, {\\mathrm{m}} r^{2} α^{2} \\hat{K}\\left({r_\\star}\\right) e^{\\left(\\frac{4 \\, r}{{\\mathrm{l}} α - 2 \\, {\\mathrm{m}}}\\right)} + 12 \\, r^{3} α^{2} \\hat{K}\\left({r_\\star}\\right) e^{\\left(\\frac{4 \\, r}{{\\mathrm{l}} α - 2 \\, {\\mathrm{m}}}\\right)} + 24 \\, {\\mathrm{l}} {\\mathrm{m}}^{2} α^{2} \\hat{K}\\left({r_\\star}\\right) e^{\\left(\\frac{2 \\, r}{{\\mathrm{l}} α - 2 \\, {\\mathrm{m}}}\\right)} - 24 \\, {\\mathrm{l}} {\\mathrm{m}} r α^{2} \\hat{K}\\left({r_\\star}\\right) e^{\\left(\\frac{2 \\, r}{{\\mathrm{l}} α - 2 \\, {\\mathrm{m}}}\\right)} + 6 \\, {\\mathrm{l}} r^{2} α^{2} \\hat{K}\\left({r_\\star}\\right) e^{\\left(\\frac{2 \\, r}{{\\mathrm{l}} α - 2 \\, {\\mathrm{m}}}\\right)} - 3 \\, \\sqrt{{\\left(r α e^{\\left(\\frac{2 \\, r}{{\\mathrm{l}} α - 2 \\, {\\mathrm{m}}}\\right)} - 2 \\, {\\mathrm{m}} + r\\right)}^{2}} {\\mathrm{l}}^{2} {\\mathrm{m}} α^{2} \\hat{R}\\left({r_\\star}\\right) + 4 \\, \\sqrt{{\\left(r α e^{\\left(\\frac{2 \\, r}{{\\mathrm{l}} α - 2 \\, {\\mathrm{m}}}\\right)} - 2 \\, {\\mathrm{m}} + r\\right)}^{2}} {\\mathrm{l}} {\\mathrm{m}} r α λ \\hat{R}\\left({r_\\star}\\right) + 6 \\, \\sqrt{{\\left(r α e^{\\left(\\frac{2 \\, r}{{\\mathrm{l}} α - 2 \\, {\\mathrm{m}}}\\right)} - 2 \\, {\\mathrm{m}} + r\\right)}^{2}} {\\mathrm{m}} r^{2} α \\hat{R}\\left({r_\\star}\\right) e^{\\left(\\frac{2 \\, r}{{\\mathrm{l}} α - 2 \\, {\\mathrm{m}}}\\right)} - 48 \\, {\\mathrm{m}}^{3} α \\hat{K}\\left({r_\\star}\\right) e^{\\left(\\frac{2 \\, r}{{\\mathrm{l}} α - 2 \\, {\\mathrm{m}}}\\right)} + 72 \\, {\\mathrm{m}}^{2} r α \\hat{K}\\left({r_\\star}\\right) e^{\\left(\\frac{2 \\, r}{{\\mathrm{l}} α - 2 \\, {\\mathrm{m}}}\\right)} - 36 \\, {\\mathrm{m}} r^{2} α \\hat{K}\\left({r_\\star}\\right) e^{\\left(\\frac{2 \\, r}{{\\mathrm{l}} α - 2 \\, {\\mathrm{m}}}\\right)} + 6 \\, r^{3} α \\hat{K}\\left({r_\\star}\\right) e^{\\left(\\frac{2 \\, r}{{\\mathrm{l}} α - 2 \\, {\\mathrm{m}}}\\right)} + 12 \\, \\sqrt{{\\left(r α e^{\\left(\\frac{2 \\, r}{{\\mathrm{l}} α - 2 \\, {\\mathrm{m}}}\\right)} - 2 \\, {\\mathrm{m}} + r\\right)}^{2}} {\\mathrm{l}} {\\mathrm{m}}^{2} α \\hat{R}\\left({r_\\star}\\right) - 4 \\, \\sqrt{{\\left(r α e^{\\left(\\frac{2 \\, r}{{\\mathrm{l}} α - 2 \\, {\\mathrm{m}}}\\right)} - 2 \\, {\\mathrm{m}} + r\\right)}^{2}} {\\mathrm{m}}^{2} r λ \\hat{R}\\left({r_\\star}\\right) - 12 \\, \\sqrt{{\\left(r α e^{\\left(\\frac{2 \\, r}{{\\mathrm{l}} α - 2 \\, {\\mathrm{m}}}\\right)} - 2 \\, {\\mathrm{m}} + r\\right)}^{2}} {\\mathrm{m}}^{3} \\hat{R}\\left({r_\\star}\\right)}{{\\left({\\mathrm{l}} r α λ + 3 \\, r^{2} α e^{\\left(\\frac{2 \\, r}{{\\mathrm{l}} α - 2 \\, {\\mathrm{m}}}\\right)} + 3 \\, {\\mathrm{l}} {\\mathrm{m}} α - 2 \\, {\\mathrm{m}} r λ - 6 \\, {\\mathrm{m}}^{2}\\right)} \\sqrt{{\\left(r α e^{\\left(\\frac{2 \\, r}{{\\mathrm{l}} α - 2 \\, {\\mathrm{m}}}\\right)} - 2 \\, {\\mathrm{m}} + r\\right)}^{2}} {\\left({\\mathrm{l}} α - 2 \\, {\\mathrm{m}}\\right)}}, \\frac{\\partial}{\\partial {r_\\star}}\\hat{R}\\left({r_\\star}\\right) = -\\frac{{\\left({\\mathrm{l}}^{3} r^{6} α^{3} λ^{2} ω^{2} + 6 \\, {\\mathrm{l}}^{2} r^{7} α^{3} λ ω^{2} e^{\\left(\\frac{2 \\, r}{{\\mathrm{l}} α - 2 \\, {\\mathrm{m}}}\\right)} + 6 \\, {\\mathrm{l}}^{3} {\\mathrm{m}} r^{5} α^{3} λ ω^{2} - 6 \\, {\\mathrm{l}}^{2} {\\mathrm{m}} r^{6} α^{2} λ^{2} ω^{2} - 2 \\, {\\mathrm{l}}^{3} r^{4} α^{5} λ^{2} e^{\\left(\\frac{4 \\, r}{{\\mathrm{l}} α - 2 \\, {\\mathrm{m}}}\\right)} + 9 \\, {\\mathrm{l}} r^{8} α^{3} ω^{2} e^{\\left(\\frac{4 \\, r}{{\\mathrm{l}} α - 2 \\, {\\mathrm{m}}}\\right)} - 2 \\, {\\mathrm{l}}^{3} r^{4} α^{4} λ^{3} e^{\\left(\\frac{2 \\, r}{{\\mathrm{l}} α - 2 \\, {\\mathrm{m}}}\\right)} + 18 \\, {\\mathrm{l}}^{2} {\\mathrm{m}} r^{6} α^{3} ω^{2} e^{\\left(\\frac{2 \\, r}{{\\mathrm{l}} α - 2 \\, {\\mathrm{m}}}\\right)} - 24 \\, {\\mathrm{l}} {\\mathrm{m}} r^{7} α^{2} λ ω^{2} e^{\\left(\\frac{2 \\, r}{{\\mathrm{l}} α - 2 \\, {\\mathrm{m}}}\\right)} + 9 \\, {\\mathrm{l}}^{3} {\\mathrm{m}}^{2} r^{4} α^{3} ω^{2} - 36 \\, {\\mathrm{l}}^{2} {\\mathrm{m}}^{2} r^{5} α^{2} λ ω^{2} + 12 \\, {\\mathrm{l}} {\\mathrm{m}}^{2} r^{6} α λ^{2} ω^{2} - 12 \\, {\\mathrm{l}}^{2} r^{5} α^{5} λ e^{\\left(\\frac{6 \\, r}{{\\mathrm{l}} α - 2 \\, {\\mathrm{m}}}\\right)} + 12 \\, {\\mathrm{l}}^{2} {\\mathrm{m}} r^{4} α^{4} λ^{2} e^{\\left(\\frac{4 \\, r}{{\\mathrm{l}} α - 2 \\, {\\mathrm{m}}}\\right)} - 12 \\, {\\mathrm{l}}^{2} r^{5} α^{4} λ^{2} e^{\\left(\\frac{4 \\, r}{{\\mathrm{l}} α - 2 \\, {\\mathrm{m}}}\\right)} - 18 \\, {\\mathrm{m}} r^{8} α^{2} ω^{2} e^{\\left(\\frac{4 \\, r}{{\\mathrm{l}} α - 2 \\, {\\mathrm{m}}}\\right)} - 2 \\, {\\mathrm{l}}^{3} {\\mathrm{m}} r^{3} α^{4} λ^{2} e^{\\left(\\frac{2 \\, r}{{\\mathrm{l}} α - 2 \\, {\\mathrm{m}}}\\right)} - 4 \\, {\\mathrm{l}}^{3} r^{4} α^{4} λ^{2} e^{\\left(\\frac{2 \\, r}{{\\mathrm{l}} α - 2 \\, {\\mathrm{m}}}\\right)} + 12 \\, {\\mathrm{l}}^{2} {\\mathrm{m}} r^{4} α^{3} λ^{3} e^{\\left(\\frac{2 \\, r}{{\\mathrm{l}} α - 2 \\, {\\mathrm{m}}}\\right)} - 72 \\, {\\mathrm{l}} {\\mathrm{m}}^{2} r^{6} α^{2} ω^{2} e^{\\left(\\frac{2 \\, r}{{\\mathrm{l}} α - 2 \\, {\\mathrm{m}}}\\right)} + 24 \\, {\\mathrm{m}}^{2} r^{7} α λ ω^{2} e^{\\left(\\frac{2 \\, r}{{\\mathrm{l}} α - 2 \\, {\\mathrm{m}}}\\right)} + 4 \\, {\\mathrm{l}}^{3} {\\mathrm{m}} r^{3} α^{3} λ^{3} - 2 \\, {\\mathrm{l}}^{3} r^{4} α^{3} λ^{3} - 54 \\, {\\mathrm{l}}^{2} {\\mathrm{m}}^{3} r^{4} α^{2} ω^{2} + 72 \\, {\\mathrm{l}} {\\mathrm{m}}^{3} r^{5} α λ ω^{2} - 8 \\, {\\mathrm{m}}^{3} r^{6} λ^{2} ω^{2} + 48 \\, {\\mathrm{l}} {\\mathrm{m}} r^{5} α^{4} λ e^{\\left(\\frac{6 \\, r}{{\\mathrm{l}} α - 2 \\, {\\mathrm{m}}}\\right)} - 36 \\, {\\mathrm{l}} r^{6} α^{4} λ e^{\\left(\\frac{6 \\, r}{{\\mathrm{l}} α - 2 \\, {\\mathrm{m}}}\\right)} + 6 \\, {\\mathrm{l}}^{2} {\\mathrm{m}} r^{4} α^{4} λ e^{\\left(\\frac{4 \\, r}{{\\mathrm{l}} α - 2 \\, {\\mathrm{m}}}\\right)} - 24 \\, {\\mathrm{l}}^{2} r^{5} α^{4} λ e^{\\left(\\frac{4 \\, r}{{\\mathrm{l}} α - 2 \\, {\\mathrm{m}}}\\right)} - 24 \\, {\\mathrm{l}} {\\mathrm{m}}^{2} r^{4} α^{3} λ^{2} e^{\\left(\\frac{4 \\, r}{{\\mathrm{l}} α - 2 \\, {\\mathrm{m}}}\\right)} + 48 \\, {\\mathrm{l}} {\\mathrm{m}} r^{5} α^{3} λ^{2} e^{\\left(\\frac{4 \\, r}{{\\mathrm{l}} α - 2 \\, {\\mathrm{m}}}\\right)} - 2 \\, {\\mathrm{l}} r^{6} α^{3} λ^{2} e^{\\left(\\frac{4 \\, r}{{\\mathrm{l}} α - 2 \\, {\\mathrm{m}}}\\right)} - 18 \\, {\\mathrm{l}}^{3} {\\mathrm{m}}^{2} r^{2} α^{4} λ e^{\\left(\\frac{2 \\, r}{{\\mathrm{l}} α - 2 \\, {\\mathrm{m}}}\\right)} + 12 \\, {\\mathrm{l}}^{2} {\\mathrm{m}}^{2} r^{3} α^{3} λ^{2} e^{\\left(\\frac{2 \\, r}{{\\mathrm{l}} α - 2 \\, {\\mathrm{m}}}\\right)} + 48 \\, {\\mathrm{l}}^{2} {\\mathrm{m}} r^{4} α^{3} λ^{2} e^{\\left(\\frac{2 \\, r}{{\\mathrm{l}} α - 2 \\, {\\mathrm{m}}}\\right)} - 12 \\, {\\mathrm{l}}^{2} r^{5} α^{3} λ^{2} e^{\\left(\\frac{2 \\, r}{{\\mathrm{l}} α - 2 \\, {\\mathrm{m}}}\\right)} - 24 \\, {\\mathrm{l}} {\\mathrm{m}}^{2} r^{4} α^{2} λ^{3} e^{\\left(\\frac{2 \\, r}{{\\mathrm{l}} α - 2 \\, {\\mathrm{m}}}\\right)} + 72 \\, {\\mathrm{m}}^{3} r^{6} α ω^{2} e^{\\left(\\frac{2 \\, r}{{\\mathrm{l}} α - 2 \\, {\\mathrm{m}}}\\right)} + 12 \\, {\\mathrm{l}}^{3} {\\mathrm{m}}^{2} r^{2} α^{3} λ^{2} - 2 \\, {\\mathrm{l}}^{3} {\\mathrm{m}} r^{3} α^{3} λ^{2} - 2 \\, {\\mathrm{l}}^{3} r^{4} α^{3} λ^{2} - 24 \\, {\\mathrm{l}}^{2} {\\mathrm{m}}^{2} r^{3} α^{2} λ^{3} + 12 \\, {\\mathrm{l}}^{2} {\\mathrm{m}} r^{4} α^{2} λ^{3} + 108 \\, {\\mathrm{l}} {\\mathrm{m}}^{4} r^{4} α ω^{2} - 48 \\, {\\mathrm{m}}^{4} r^{5} λ ω^{2} - 18 \\, r^{7} α^{4} e^{\\left(\\frac{8 \\, r}{{\\mathrm{l}} α - 2 \\, {\\mathrm{m}}}\\right)} - 54 \\, {\\mathrm{l}} {\\mathrm{m}} r^{5} α^{4} e^{\\left(\\frac{6 \\, r}{{\\mathrm{l}} α - 2 \\, {\\mathrm{m}}}\\right)} - 48 \\, {\\mathrm{m}}^{2} r^{5} α^{3} λ e^{\\left(\\frac{6 \\, r}{{\\mathrm{l}} α - 2 \\, {\\mathrm{m}}}\\right)} + 72 \\, {\\mathrm{m}} r^{6} α^{3} λ e^{\\left(\\frac{6 \\, r}{{\\mathrm{l}} α - 2 \\, {\\mathrm{m}}}\\right)} - 6 \\, r^{7} α^{3} λ e^{\\left(\\frac{6 \\, r}{{\\mathrm{l}} α - 2 \\, {\\mathrm{m}}}\\right)} - 54 \\, {\\mathrm{l}}^{2} {\\mathrm{m}}^{2} r^{3} α^{4} e^{\\left(\\frac{4 \\, r}{{\\mathrm{l}} α - 2 \\, {\\mathrm{m}}}\\right)} - 24 \\, {\\mathrm{l}} {\\mathrm{m}}^{2} r^{4} α^{3} λ e^{\\left(\\frac{4 \\, r}{{\\mathrm{l}} α - 2 \\, {\\mathrm{m}}}\\right)} + 186 \\, {\\mathrm{l}} {\\mathrm{m}} r^{5} α^{3} λ e^{\\left(\\frac{4 \\, r}{{\\mathrm{l}} α - 2 \\, {\\mathrm{m}}}\\right)} - 48 \\, {\\mathrm{l}} r^{6} α^{3} λ e^{\\left(\\frac{4 \\, r}{{\\mathrm{l}} α - 2 \\, {\\mathrm{m}}}\\right)} + 16 \\, {\\mathrm{m}}^{3} r^{4} α^{2} λ^{2} e^{\\left(\\frac{4 \\, r}{{\\mathrm{l}} α - 2 \\, {\\mathrm{m}}}\\right)} - 48 \\, {\\mathrm{m}}^{2} r^{5} α^{2} λ^{2} e^{\\left(\\frac{4 \\, r}{{\\mathrm{l}} α - 2 \\, {\\mathrm{m}}}\\right)} + 4 \\, {\\mathrm{m}} r^{6} α^{2} λ^{2} e^{\\left(\\frac{4 \\, r}{{\\mathrm{l}} α - 2 \\, {\\mathrm{m}}}\\right)} - 18 \\, {\\mathrm{l}}^{3} {\\mathrm{m}}^{3} r α^{4} e^{\\left(\\frac{2 \\, r}{{\\mathrm{l}} α - 2 \\, {\\mathrm{m}}}\\right)} + 108 \\, {\\mathrm{l}}^{2} {\\mathrm{m}}^{3} r^{2} α^{3} λ e^{\\left(\\frac{2 \\, r}{{\\mathrm{l}} α - 2 \\, {\\mathrm{m}}}\\right)} + 36 \\, {\\mathrm{l}}^{2} {\\mathrm{m}}^{2} r^{3} α^{3} λ e^{\\left(\\frac{2 \\, r}{{\\mathrm{l}} α - 2 \\, {\\mathrm{m}}}\\right)} + 6 \\, {\\mathrm{l}}^{2} {\\mathrm{m}} r^{4} α^{3} λ e^{\\left(\\frac{2 \\, r}{{\\mathrm{l}} α - 2 \\, {\\mathrm{m}}}\\right)} - 12 \\, {\\mathrm{l}}^{2} r^{5} α^{3} λ e^{\\left(\\frac{2 \\, r}{{\\mathrm{l}} α - 2 \\, {\\mathrm{m}}}\\right)} - 24 \\, {\\mathrm{l}} {\\mathrm{m}}^{3} r^{3} α^{2} λ^{2} e^{\\left(\\frac{2 \\, r}{{\\mathrm{l}} α - 2 \\, {\\mathrm{m}}}\\right)} - 144 \\, {\\mathrm{l}} {\\mathrm{m}}^{2} r^{4} α^{2} λ^{2} e^{\\left(\\frac{2 \\, r}{{\\mathrm{l}} α - 2 \\, {\\mathrm{m}}}\\right)} + 52 \\, {\\mathrm{l}} {\\mathrm{m}} r^{5} α^{2} λ^{2} e^{\\left(\\frac{2 \\, r}{{\\mathrm{l}} α - 2 \\, {\\mathrm{m}}}\\right)} - 2 \\, {\\mathrm{l}} r^{6} α^{2} λ^{2} e^{\\left(\\frac{2 \\, r}{{\\mathrm{l}} α - 2 \\, {\\mathrm{m}}}\\right)} + 16 \\, {\\mathrm{m}}^{3} r^{4} α λ^{3} e^{\\left(\\frac{2 \\, r}{{\\mathrm{l}} α - 2 \\, {\\mathrm{m}}}\\right)} + 36 \\, {\\mathrm{l}}^{3} {\\mathrm{m}}^{3} r α^{3} λ - 18 \\, {\\mathrm{l}}^{3} {\\mathrm{m}}^{2} r^{2} α^{3} λ - 72 \\, {\\mathrm{l}}^{2} {\\mathrm{m}}^{3} r^{2} α^{2} λ^{2} + 12 \\, {\\mathrm{l}}^{2} {\\mathrm{m}}^{2} r^{3} α^{2} λ^{2} + 12 \\, {\\mathrm{l}}^{2} {\\mathrm{m}} r^{4} α^{2} λ^{2} + 48 \\, {\\mathrm{l}} {\\mathrm{m}}^{3} r^{3} α λ^{3} - 24 \\, {\\mathrm{l}} {\\mathrm{m}}^{2} r^{4} α λ^{3} - 72 \\, {\\mathrm{m}}^{5} r^{4} ω^{2} + 108 \\, {\\mathrm{m}}^{2} r^{5} α^{3} e^{\\left(\\frac{6 \\, r}{{\\mathrm{l}} α - 2 \\, {\\mathrm{m}}}\\right)} + 36 \\, {\\mathrm{m}} r^{6} α^{3} e^{\\left(\\frac{6 \\, r}{{\\mathrm{l}} α - 2 \\, {\\mathrm{m}}}\\right)} - 18 \\, r^{7} α^{3} e^{\\left(\\frac{6 \\, r}{{\\mathrm{l}} α - 2 \\, {\\mathrm{m}}}\\right)} + 216 \\, {\\mathrm{l}} {\\mathrm{m}}^{3} r^{3} α^{3} e^{\\left(\\frac{4 \\, r}{{\\mathrm{l}} α - 2 \\, {\\mathrm{m}}}\\right)} + 108 \\, {\\mathrm{l}} {\\mathrm{m}}^{2} r^{4} α^{3} e^{\\left(\\frac{4 \\, r}{{\\mathrm{l}} α - 2 \\, {\\mathrm{m}}}\\right)} - 54 \\, {\\mathrm{l}} {\\mathrm{m}} r^{5} α^{3} e^{\\left(\\frac{4 \\, r}{{\\mathrm{l}} α - 2 \\, {\\mathrm{m}}}\\right)} + 24 \\, {\\mathrm{m}}^{3} r^{4} α^{2} λ e^{\\left(\\frac{4 \\, r}{{\\mathrm{l}} α - 2 \\, {\\mathrm{m}}}\\right)} - 276 \\, {\\mathrm{m}}^{2} r^{5} α^{2} λ e^{\\left(\\frac{4 \\, r}{{\\mathrm{l}} α - 2 \\, {\\mathrm{m}}}\\right)} + 108 \\, {\\mathrm{m}} r^{6} α^{2} λ e^{\\left(\\frac{4 \\, r}{{\\mathrm{l}} α - 2 \\, {\\mathrm{m}}}\\right)} - 6 \\, r^{7} α^{2} λ e^{\\left(\\frac{4 \\, r}{{\\mathrm{l}} α - 2 \\, {\\mathrm{m}}}\\right)} + 108 \\, {\\mathrm{l}}^{2} {\\mathrm{m}}^{4} r α^{3} e^{\\left(\\frac{2 \\, r}{{\\mathrm{l}} α - 2 \\, {\\mathrm{m}}}\\right)} + 108 \\, {\\mathrm{l}}^{2} {\\mathrm{m}}^{3} r^{2} α^{3} e^{\\left(\\frac{2 \\, r}{{\\mathrm{l}} α - 2 \\, {\\mathrm{m}}}\\right)} - 54 \\, {\\mathrm{l}}^{2} {\\mathrm{m}}^{2} r^{3} α^{3} e^{\\left(\\frac{2 \\, r}{{\\mathrm{l}} α - 2 \\, {\\mathrm{m}}}\\right)} - 216 \\, {\\mathrm{l}} {\\mathrm{m}}^{4} r^{2} α^{2} λ e^{\\left(\\frac{2 \\, r}{{\\mathrm{l}} α - 2 \\, {\\mathrm{m}}}\\right)} - 144 \\, {\\mathrm{l}} {\\mathrm{m}}^{3} r^{3} α^{2} λ e^{\\left(\\frac{2 \\, r}{{\\mathrm{l}} α - 2 \\, {\\mathrm{m}}}\\right)} - 60 \\, {\\mathrm{l}} {\\mathrm{m}}^{2} r^{4} α^{2} λ e^{\\left(\\frac{2 \\, r}{{\\mathrm{l}} α - 2 \\, {\\mathrm{m}}}\\right)} + 90 \\, {\\mathrm{l}} {\\mathrm{m}} r^{5} α^{2} λ e^{\\left(\\frac{2 \\, r}{{\\mathrm{l}} α - 2 \\, {\\mathrm{m}}}\\right)} - 12 \\, {\\mathrm{l}} r^{6} α^{2} λ e^{\\left(\\frac{2 \\, r}{{\\mathrm{l}} α - 2 \\, {\\mathrm{m}}}\\right)} + 16 \\, {\\mathrm{m}}^{4} r^{3} α λ^{2} e^{\\left(\\frac{2 \\, r}{{\\mathrm{l}} α - 2 \\, {\\mathrm{m}}}\\right)} + 128 \\, {\\mathrm{m}}^{3} r^{4} α λ^{2} e^{\\left(\\frac{2 \\, r}{{\\mathrm{l}} α - 2 \\, {\\mathrm{m}}}\\right)} - 56 \\, {\\mathrm{m}}^{2} r^{5} α λ^{2} e^{\\left(\\frac{2 \\, r}{{\\mathrm{l}} α - 2 \\, {\\mathrm{m}}}\\right)} + 4 \\, {\\mathrm{m}} r^{6} α λ^{2} e^{\\left(\\frac{2 \\, r}{{\\mathrm{l}} α - 2 \\, {\\mathrm{m}}}\\right)} + 36 \\, {\\mathrm{l}}^{3} {\\mathrm{m}}^{4} α^{3} - 18 \\, {\\mathrm{l}}^{3} {\\mathrm{m}}^{3} r α^{3} - 216 \\, {\\mathrm{l}}^{2} {\\mathrm{m}}^{4} r α^{2} λ + 108 \\, {\\mathrm{l}}^{2} {\\mathrm{m}}^{3} r^{2} α^{2} λ + 144 \\, {\\mathrm{l}} {\\mathrm{m}}^{4} r^{2} α λ^{2} - 24 \\, {\\mathrm{l}} {\\mathrm{m}}^{3} r^{3} α λ^{2} - 24 \\, {\\mathrm{l}} {\\mathrm{m}}^{2} r^{4} α λ^{2} - 32 \\, {\\mathrm{m}}^{4} r^{3} λ^{3} + 16 \\, {\\mathrm{m}}^{3} r^{4} λ^{3} - 216 \\, {\\mathrm{m}}^{4} r^{3} α^{2} e^{\\left(\\frac{4 \\, r}{{\\mathrm{l}} α - 2 \\, {\\mathrm{m}}}\\right)} - 216 \\, {\\mathrm{m}}^{3} r^{4} α^{2} e^{\\left(\\frac{4 \\, r}{{\\mathrm{l}} α - 2 \\, {\\mathrm{m}}}\\right)} + 108 \\, {\\mathrm{m}}^{2} r^{5} α^{2} e^{\\left(\\frac{4 \\, r}{{\\mathrm{l}} α - 2 \\, {\\mathrm{m}}}\\right)} - 216 \\, {\\mathrm{l}} {\\mathrm{m}}^{5} r α^{2} e^{\\left(\\frac{2 \\, r}{{\\mathrm{l}} α - 2 \\, {\\mathrm{m}}}\\right)} - 432 \\, {\\mathrm{l}} {\\mathrm{m}}^{4} r^{2} α^{2} e^{\\left(\\frac{2 \\, r}{{\\mathrm{l}} α - 2 \\, {\\mathrm{m}}}\\right)} + 216 \\, {\\mathrm{l}} {\\mathrm{m}}^{3} r^{3} α^{2} e^{\\left(\\frac{2 \\, r}{{\\mathrm{l}} α - 2 \\, {\\mathrm{m}}}\\right)} + 144 \\, {\\mathrm{m}}^{5} r^{2} α λ e^{\\left(\\frac{2 \\, r}{{\\mathrm{l}} α - 2 \\, {\\mathrm{m}}}\\right)} + 144 \\, {\\mathrm{m}}^{4} r^{3} α λ e^{\\left(\\frac{2 \\, r}{{\\mathrm{l}} α - 2 \\, {\\mathrm{m}}}\\right)} + 96 \\, {\\mathrm{m}}^{3} r^{4} α λ e^{\\left(\\frac{2 \\, r}{{\\mathrm{l}} α - 2 \\, {\\mathrm{m}}}\\right)} - 132 \\, {\\mathrm{m}}^{2} r^{5} α λ e^{\\left(\\frac{2 \\, r}{{\\mathrm{l}} α - 2 \\, {\\mathrm{m}}}\\right)} + 24 \\, {\\mathrm{m}} r^{6} α λ e^{\\left(\\frac{2 \\, r}{{\\mathrm{l}} α - 2 \\, {\\mathrm{m}}}\\right)} - 216 \\, {\\mathrm{l}}^{2} {\\mathrm{m}}^{5} α^{2} + 108 \\, {\\mathrm{l}}^{2} {\\mathrm{m}}^{4} r α^{2} + 432 \\, {\\mathrm{l}} {\\mathrm{m}}^{5} r α λ - 216 \\, {\\mathrm{l}} {\\mathrm{m}}^{4} r^{2} α λ - 96 \\, {\\mathrm{m}}^{5} r^{2} λ^{2} + 16 \\, {\\mathrm{m}}^{4} r^{3} λ^{2} + 16 \\, {\\mathrm{m}}^{3} r^{4} λ^{2} + 144 \\, {\\mathrm{m}}^{6} r α e^{\\left(\\frac{2 \\, r}{{\\mathrm{l}} α - 2 \\, {\\mathrm{m}}}\\right)} + 432 \\, {\\mathrm{m}}^{5} r^{2} α e^{\\left(\\frac{2 \\, r}{{\\mathrm{l}} α - 2 \\, {\\mathrm{m}}}\\right)} - 216 \\, {\\mathrm{m}}^{4} r^{3} α e^{\\left(\\frac{2 \\, r}{{\\mathrm{l}} α - 2 \\, {\\mathrm{m}}}\\right)} + 432 \\, {\\mathrm{l}} {\\mathrm{m}}^{6} α - 216 \\, {\\mathrm{l}} {\\mathrm{m}}^{5} r α - 288 \\, {\\mathrm{m}}^{6} r λ + 144 \\, {\\mathrm{m}}^{5} r^{2} λ - 288 \\, {\\mathrm{m}}^{7} + 144 \\, {\\mathrm{m}}^{6} r\\right)} \\hat{K}\\left({r_\\star}\\right)}{{\\left({\\mathrm{l}} r α λ + 3 \\, r^{2} α e^{\\left(\\frac{2 \\, r}{{\\mathrm{l}} α - 2 \\, {\\mathrm{m}}}\\right)} + 3 \\, {\\mathrm{l}} {\\mathrm{m}} α - 2 \\, {\\mathrm{m}} r λ - 6 \\, {\\mathrm{m}}^{2}\\right)}^{2} {\\left({\\mathrm{l}} α - 2 \\, {\\mathrm{m}}\\right)} r^{4}}\\right]\\)</html>"
      ],
      "text/latex": [
       "$\\displaystyle \\left[\\frac{\\partial}{\\partial {r_\\star}}\\hat{K}\\left({r_\\star}\\right) = -\\frac{6 \\, {\\mathrm{l}} r^{2} α^{4} \\hat{K}\\left({r_\\star}\\right) e^{\\left(\\frac{6 \\, r}{{\\mathrm{l}} α - 2 \\, {\\mathrm{m}}}\\right)} - 12 \\, {\\mathrm{m}} r^{2} α^{3} \\hat{K}\\left({r_\\star}\\right) e^{\\left(\\frac{6 \\, r}{{\\mathrm{l}} α - 2 \\, {\\mathrm{m}}}\\right)} + 6 \\, r^{3} α^{3} \\hat{K}\\left({r_\\star}\\right) e^{\\left(\\frac{6 \\, r}{{\\mathrm{l}} α - 2 \\, {\\mathrm{m}}}\\right)} - 24 \\, {\\mathrm{l}} {\\mathrm{m}} r α^{3} \\hat{K}\\left({r_\\star}\\right) e^{\\left(\\frac{4 \\, r}{{\\mathrm{l}} α - 2 \\, {\\mathrm{m}}}\\right)} + 12 \\, {\\mathrm{l}} r^{2} α^{3} \\hat{K}\\left({r_\\star}\\right) e^{\\left(\\frac{4 \\, r}{{\\mathrm{l}} α - 2 \\, {\\mathrm{m}}}\\right)} - \\sqrt{{\\left(r α e^{\\left(\\frac{2 \\, r}{{\\mathrm{l}} α - 2 \\, {\\mathrm{m}}}\\right)} - 2 \\, {\\mathrm{m}} + r\\right)}^{2}} {\\mathrm{l}}^{2} r α^{2} λ \\hat{R}\\left({r_\\star}\\right) - 3 \\, \\sqrt{{\\left(r α e^{\\left(\\frac{2 \\, r}{{\\mathrm{l}} α - 2 \\, {\\mathrm{m}}}\\right)} - 2 \\, {\\mathrm{m}} + r\\right)}^{2}} {\\mathrm{l}} r^{2} α^{2} \\hat{R}\\left({r_\\star}\\right) e^{\\left(\\frac{2 \\, r}{{\\mathrm{l}} α - 2 \\, {\\mathrm{m}}}\\right)} + 48 \\, {\\mathrm{m}}^{2} r α^{2} \\hat{K}\\left({r_\\star}\\right) e^{\\left(\\frac{4 \\, r}{{\\mathrm{l}} α - 2 \\, {\\mathrm{m}}}\\right)} - 48 \\, {\\mathrm{m}} r^{2} α^{2} \\hat{K}\\left({r_\\star}\\right) e^{\\left(\\frac{4 \\, r}{{\\mathrm{l}} α - 2 \\, {\\mathrm{m}}}\\right)} + 12 \\, r^{3} α^{2} \\hat{K}\\left({r_\\star}\\right) e^{\\left(\\frac{4 \\, r}{{\\mathrm{l}} α - 2 \\, {\\mathrm{m}}}\\right)} + 24 \\, {\\mathrm{l}} {\\mathrm{m}}^{2} α^{2} \\hat{K}\\left({r_\\star}\\right) e^{\\left(\\frac{2 \\, r}{{\\mathrm{l}} α - 2 \\, {\\mathrm{m}}}\\right)} - 24 \\, {\\mathrm{l}} {\\mathrm{m}} r α^{2} \\hat{K}\\left({r_\\star}\\right) e^{\\left(\\frac{2 \\, r}{{\\mathrm{l}} α - 2 \\, {\\mathrm{m}}}\\right)} + 6 \\, {\\mathrm{l}} r^{2} α^{2} \\hat{K}\\left({r_\\star}\\right) e^{\\left(\\frac{2 \\, r}{{\\mathrm{l}} α - 2 \\, {\\mathrm{m}}}\\right)} - 3 \\, \\sqrt{{\\left(r α e^{\\left(\\frac{2 \\, r}{{\\mathrm{l}} α - 2 \\, {\\mathrm{m}}}\\right)} - 2 \\, {\\mathrm{m}} + r\\right)}^{2}} {\\mathrm{l}}^{2} {\\mathrm{m}} α^{2} \\hat{R}\\left({r_\\star}\\right) + 4 \\, \\sqrt{{\\left(r α e^{\\left(\\frac{2 \\, r}{{\\mathrm{l}} α - 2 \\, {\\mathrm{m}}}\\right)} - 2 \\, {\\mathrm{m}} + r\\right)}^{2}} {\\mathrm{l}} {\\mathrm{m}} r α λ \\hat{R}\\left({r_\\star}\\right) + 6 \\, \\sqrt{{\\left(r α e^{\\left(\\frac{2 \\, r}{{\\mathrm{l}} α - 2 \\, {\\mathrm{m}}}\\right)} - 2 \\, {\\mathrm{m}} + r\\right)}^{2}} {\\mathrm{m}} r^{2} α \\hat{R}\\left({r_\\star}\\right) e^{\\left(\\frac{2 \\, r}{{\\mathrm{l}} α - 2 \\, {\\mathrm{m}}}\\right)} - 48 \\, {\\mathrm{m}}^{3} α \\hat{K}\\left({r_\\star}\\right) e^{\\left(\\frac{2 \\, r}{{\\mathrm{l}} α - 2 \\, {\\mathrm{m}}}\\right)} + 72 \\, {\\mathrm{m}}^{2} r α \\hat{K}\\left({r_\\star}\\right) e^{\\left(\\frac{2 \\, r}{{\\mathrm{l}} α - 2 \\, {\\mathrm{m}}}\\right)} - 36 \\, {\\mathrm{m}} r^{2} α \\hat{K}\\left({r_\\star}\\right) e^{\\left(\\frac{2 \\, r}{{\\mathrm{l}} α - 2 \\, {\\mathrm{m}}}\\right)} + 6 \\, r^{3} α \\hat{K}\\left({r_\\star}\\right) e^{\\left(\\frac{2 \\, r}{{\\mathrm{l}} α - 2 \\, {\\mathrm{m}}}\\right)} + 12 \\, \\sqrt{{\\left(r α e^{\\left(\\frac{2 \\, r}{{\\mathrm{l}} α - 2 \\, {\\mathrm{m}}}\\right)} - 2 \\, {\\mathrm{m}} + r\\right)}^{2}} {\\mathrm{l}} {\\mathrm{m}}^{2} α \\hat{R}\\left({r_\\star}\\right) - 4 \\, \\sqrt{{\\left(r α e^{\\left(\\frac{2 \\, r}{{\\mathrm{l}} α - 2 \\, {\\mathrm{m}}}\\right)} - 2 \\, {\\mathrm{m}} + r\\right)}^{2}} {\\mathrm{m}}^{2} r λ \\hat{R}\\left({r_\\star}\\right) - 12 \\, \\sqrt{{\\left(r α e^{\\left(\\frac{2 \\, r}{{\\mathrm{l}} α - 2 \\, {\\mathrm{m}}}\\right)} - 2 \\, {\\mathrm{m}} + r\\right)}^{2}} {\\mathrm{m}}^{3} \\hat{R}\\left({r_\\star}\\right)}{{\\left({\\mathrm{l}} r α λ + 3 \\, r^{2} α e^{\\left(\\frac{2 \\, r}{{\\mathrm{l}} α - 2 \\, {\\mathrm{m}}}\\right)} + 3 \\, {\\mathrm{l}} {\\mathrm{m}} α - 2 \\, {\\mathrm{m}} r λ - 6 \\, {\\mathrm{m}}^{2}\\right)} \\sqrt{{\\left(r α e^{\\left(\\frac{2 \\, r}{{\\mathrm{l}} α - 2 \\, {\\mathrm{m}}}\\right)} - 2 \\, {\\mathrm{m}} + r\\right)}^{2}} {\\left({\\mathrm{l}} α - 2 \\, {\\mathrm{m}}\\right)}}, \\frac{\\partial}{\\partial {r_\\star}}\\hat{R}\\left({r_\\star}\\right) = -\\frac{{\\left({\\mathrm{l}}^{3} r^{6} α^{3} λ^{2} ω^{2} + 6 \\, {\\mathrm{l}}^{2} r^{7} α^{3} λ ω^{2} e^{\\left(\\frac{2 \\, r}{{\\mathrm{l}} α - 2 \\, {\\mathrm{m}}}\\right)} + 6 \\, {\\mathrm{l}}^{3} {\\mathrm{m}} r^{5} α^{3} λ ω^{2} - 6 \\, {\\mathrm{l}}^{2} {\\mathrm{m}} r^{6} α^{2} λ^{2} ω^{2} - 2 \\, {\\mathrm{l}}^{3} r^{4} α^{5} λ^{2} e^{\\left(\\frac{4 \\, r}{{\\mathrm{l}} α - 2 \\, {\\mathrm{m}}}\\right)} + 9 \\, {\\mathrm{l}} r^{8} α^{3} ω^{2} e^{\\left(\\frac{4 \\, r}{{\\mathrm{l}} α - 2 \\, {\\mathrm{m}}}\\right)} - 2 \\, {\\mathrm{l}}^{3} r^{4} α^{4} λ^{3} e^{\\left(\\frac{2 \\, r}{{\\mathrm{l}} α - 2 \\, {\\mathrm{m}}}\\right)} + 18 \\, {\\mathrm{l}}^{2} {\\mathrm{m}} r^{6} α^{3} ω^{2} e^{\\left(\\frac{2 \\, r}{{\\mathrm{l}} α - 2 \\, {\\mathrm{m}}}\\right)} - 24 \\, {\\mathrm{l}} {\\mathrm{m}} r^{7} α^{2} λ ω^{2} e^{\\left(\\frac{2 \\, r}{{\\mathrm{l}} α - 2 \\, {\\mathrm{m}}}\\right)} + 9 \\, {\\mathrm{l}}^{3} {\\mathrm{m}}^{2} r^{4} α^{3} ω^{2} - 36 \\, {\\mathrm{l}}^{2} {\\mathrm{m}}^{2} r^{5} α^{2} λ ω^{2} + 12 \\, {\\mathrm{l}} {\\mathrm{m}}^{2} r^{6} α λ^{2} ω^{2} - 12 \\, {\\mathrm{l}}^{2} r^{5} α^{5} λ e^{\\left(\\frac{6 \\, r}{{\\mathrm{l}} α - 2 \\, {\\mathrm{m}}}\\right)} + 12 \\, {\\mathrm{l}}^{2} {\\mathrm{m}} r^{4} α^{4} λ^{2} e^{\\left(\\frac{4 \\, r}{{\\mathrm{l}} α - 2 \\, {\\mathrm{m}}}\\right)} - 12 \\, {\\mathrm{l}}^{2} r^{5} α^{4} λ^{2} e^{\\left(\\frac{4 \\, r}{{\\mathrm{l}} α - 2 \\, {\\mathrm{m}}}\\right)} - 18 \\, {\\mathrm{m}} r^{8} α^{2} ω^{2} e^{\\left(\\frac{4 \\, r}{{\\mathrm{l}} α - 2 \\, {\\mathrm{m}}}\\right)} - 2 \\, {\\mathrm{l}}^{3} {\\mathrm{m}} r^{3} α^{4} λ^{2} e^{\\left(\\frac{2 \\, r}{{\\mathrm{l}} α - 2 \\, {\\mathrm{m}}}\\right)} - 4 \\, {\\mathrm{l}}^{3} r^{4} α^{4} λ^{2} e^{\\left(\\frac{2 \\, r}{{\\mathrm{l}} α - 2 \\, {\\mathrm{m}}}\\right)} + 12 \\, {\\mathrm{l}}^{2} {\\mathrm{m}} r^{4} α^{3} λ^{3} e^{\\left(\\frac{2 \\, r}{{\\mathrm{l}} α - 2 \\, {\\mathrm{m}}}\\right)} - 72 \\, {\\mathrm{l}} {\\mathrm{m}}^{2} r^{6} α^{2} ω^{2} e^{\\left(\\frac{2 \\, r}{{\\mathrm{l}} α - 2 \\, {\\mathrm{m}}}\\right)} + 24 \\, {\\mathrm{m}}^{2} r^{7} α λ ω^{2} e^{\\left(\\frac{2 \\, r}{{\\mathrm{l}} α - 2 \\, {\\mathrm{m}}}\\right)} + 4 \\, {\\mathrm{l}}^{3} {\\mathrm{m}} r^{3} α^{3} λ^{3} - 2 \\, {\\mathrm{l}}^{3} r^{4} α^{3} λ^{3} - 54 \\, {\\mathrm{l}}^{2} {\\mathrm{m}}^{3} r^{4} α^{2} ω^{2} + 72 \\, {\\mathrm{l}} {\\mathrm{m}}^{3} r^{5} α λ ω^{2} - 8 \\, {\\mathrm{m}}^{3} r^{6} λ^{2} ω^{2} + 48 \\, {\\mathrm{l}} {\\mathrm{m}} r^{5} α^{4} λ e^{\\left(\\frac{6 \\, r}{{\\mathrm{l}} α - 2 \\, {\\mathrm{m}}}\\right)} - 36 \\, {\\mathrm{l}} r^{6} α^{4} λ e^{\\left(\\frac{6 \\, r}{{\\mathrm{l}} α - 2 \\, {\\mathrm{m}}}\\right)} + 6 \\, {\\mathrm{l}}^{2} {\\mathrm{m}} r^{4} α^{4} λ e^{\\left(\\frac{4 \\, r}{{\\mathrm{l}} α - 2 \\, {\\mathrm{m}}}\\right)} - 24 \\, {\\mathrm{l}}^{2} r^{5} α^{4} λ e^{\\left(\\frac{4 \\, r}{{\\mathrm{l}} α - 2 \\, {\\mathrm{m}}}\\right)} - 24 \\, {\\mathrm{l}} {\\mathrm{m}}^{2} r^{4} α^{3} λ^{2} e^{\\left(\\frac{4 \\, r}{{\\mathrm{l}} α - 2 \\, {\\mathrm{m}}}\\right)} + 48 \\, {\\mathrm{l}} {\\mathrm{m}} r^{5} α^{3} λ^{2} e^{\\left(\\frac{4 \\, r}{{\\mathrm{l}} α - 2 \\, {\\mathrm{m}}}\\right)} - 2 \\, {\\mathrm{l}} r^{6} α^{3} λ^{2} e^{\\left(\\frac{4 \\, r}{{\\mathrm{l}} α - 2 \\, {\\mathrm{m}}}\\right)} - 18 \\, {\\mathrm{l}}^{3} {\\mathrm{m}}^{2} r^{2} α^{4} λ e^{\\left(\\frac{2 \\, r}{{\\mathrm{l}} α - 2 \\, {\\mathrm{m}}}\\right)} + 12 \\, {\\mathrm{l}}^{2} {\\mathrm{m}}^{2} r^{3} α^{3} λ^{2} e^{\\left(\\frac{2 \\, r}{{\\mathrm{l}} α - 2 \\, {\\mathrm{m}}}\\right)} + 48 \\, {\\mathrm{l}}^{2} {\\mathrm{m}} r^{4} α^{3} λ^{2} e^{\\left(\\frac{2 \\, r}{{\\mathrm{l}} α - 2 \\, {\\mathrm{m}}}\\right)} - 12 \\, {\\mathrm{l}}^{2} r^{5} α^{3} λ^{2} e^{\\left(\\frac{2 \\, r}{{\\mathrm{l}} α - 2 \\, {\\mathrm{m}}}\\right)} - 24 \\, {\\mathrm{l}} {\\mathrm{m}}^{2} r^{4} α^{2} λ^{3} e^{\\left(\\frac{2 \\, r}{{\\mathrm{l}} α - 2 \\, {\\mathrm{m}}}\\right)} + 72 \\, {\\mathrm{m}}^{3} r^{6} α ω^{2} e^{\\left(\\frac{2 \\, r}{{\\mathrm{l}} α - 2 \\, {\\mathrm{m}}}\\right)} + 12 \\, {\\mathrm{l}}^{3} {\\mathrm{m}}^{2} r^{2} α^{3} λ^{2} - 2 \\, {\\mathrm{l}}^{3} {\\mathrm{m}} r^{3} α^{3} λ^{2} - 2 \\, {\\mathrm{l}}^{3} r^{4} α^{3} λ^{2} - 24 \\, {\\mathrm{l}}^{2} {\\mathrm{m}}^{2} r^{3} α^{2} λ^{3} + 12 \\, {\\mathrm{l}}^{2} {\\mathrm{m}} r^{4} α^{2} λ^{3} + 108 \\, {\\mathrm{l}} {\\mathrm{m}}^{4} r^{4} α ω^{2} - 48 \\, {\\mathrm{m}}^{4} r^{5} λ ω^{2} - 18 \\, r^{7} α^{4} e^{\\left(\\frac{8 \\, r}{{\\mathrm{l}} α - 2 \\, {\\mathrm{m}}}\\right)} - 54 \\, {\\mathrm{l}} {\\mathrm{m}} r^{5} α^{4} e^{\\left(\\frac{6 \\, r}{{\\mathrm{l}} α - 2 \\, {\\mathrm{m}}}\\right)} - 48 \\, {\\mathrm{m}}^{2} r^{5} α^{3} λ e^{\\left(\\frac{6 \\, r}{{\\mathrm{l}} α - 2 \\, {\\mathrm{m}}}\\right)} + 72 \\, {\\mathrm{m}} r^{6} α^{3} λ e^{\\left(\\frac{6 \\, r}{{\\mathrm{l}} α - 2 \\, {\\mathrm{m}}}\\right)} - 6 \\, r^{7} α^{3} λ e^{\\left(\\frac{6 \\, r}{{\\mathrm{l}} α - 2 \\, {\\mathrm{m}}}\\right)} - 54 \\, {\\mathrm{l}}^{2} {\\mathrm{m}}^{2} r^{3} α^{4} e^{\\left(\\frac{4 \\, r}{{\\mathrm{l}} α - 2 \\, {\\mathrm{m}}}\\right)} - 24 \\, {\\mathrm{l}} {\\mathrm{m}}^{2} r^{4} α^{3} λ e^{\\left(\\frac{4 \\, r}{{\\mathrm{l}} α - 2 \\, {\\mathrm{m}}}\\right)} + 186 \\, {\\mathrm{l}} {\\mathrm{m}} r^{5} α^{3} λ e^{\\left(\\frac{4 \\, r}{{\\mathrm{l}} α - 2 \\, {\\mathrm{m}}}\\right)} - 48 \\, {\\mathrm{l}} r^{6} α^{3} λ e^{\\left(\\frac{4 \\, r}{{\\mathrm{l}} α - 2 \\, {\\mathrm{m}}}\\right)} + 16 \\, {\\mathrm{m}}^{3} r^{4} α^{2} λ^{2} e^{\\left(\\frac{4 \\, r}{{\\mathrm{l}} α - 2 \\, {\\mathrm{m}}}\\right)} - 48 \\, {\\mathrm{m}}^{2} r^{5} α^{2} λ^{2} e^{\\left(\\frac{4 \\, r}{{\\mathrm{l}} α - 2 \\, {\\mathrm{m}}}\\right)} + 4 \\, {\\mathrm{m}} r^{6} α^{2} λ^{2} e^{\\left(\\frac{4 \\, r}{{\\mathrm{l}} α - 2 \\, {\\mathrm{m}}}\\right)} - 18 \\, {\\mathrm{l}}^{3} {\\mathrm{m}}^{3} r α^{4} e^{\\left(\\frac{2 \\, r}{{\\mathrm{l}} α - 2 \\, {\\mathrm{m}}}\\right)} + 108 \\, {\\mathrm{l}}^{2} {\\mathrm{m}}^{3} r^{2} α^{3} λ e^{\\left(\\frac{2 \\, r}{{\\mathrm{l}} α - 2 \\, {\\mathrm{m}}}\\right)} + 36 \\, {\\mathrm{l}}^{2} {\\mathrm{m}}^{2} r^{3} α^{3} λ e^{\\left(\\frac{2 \\, r}{{\\mathrm{l}} α - 2 \\, {\\mathrm{m}}}\\right)} + 6 \\, {\\mathrm{l}}^{2} {\\mathrm{m}} r^{4} α^{3} λ e^{\\left(\\frac{2 \\, r}{{\\mathrm{l}} α - 2 \\, {\\mathrm{m}}}\\right)} - 12 \\, {\\mathrm{l}}^{2} r^{5} α^{3} λ e^{\\left(\\frac{2 \\, r}{{\\mathrm{l}} α - 2 \\, {\\mathrm{m}}}\\right)} - 24 \\, {\\mathrm{l}} {\\mathrm{m}}^{3} r^{3} α^{2} λ^{2} e^{\\left(\\frac{2 \\, r}{{\\mathrm{l}} α - 2 \\, {\\mathrm{m}}}\\right)} - 144 \\, {\\mathrm{l}} {\\mathrm{m}}^{2} r^{4} α^{2} λ^{2} e^{\\left(\\frac{2 \\, r}{{\\mathrm{l}} α - 2 \\, {\\mathrm{m}}}\\right)} + 52 \\, {\\mathrm{l}} {\\mathrm{m}} r^{5} α^{2} λ^{2} e^{\\left(\\frac{2 \\, r}{{\\mathrm{l}} α - 2 \\, {\\mathrm{m}}}\\right)} - 2 \\, {\\mathrm{l}} r^{6} α^{2} λ^{2} e^{\\left(\\frac{2 \\, r}{{\\mathrm{l}} α - 2 \\, {\\mathrm{m}}}\\right)} + 16 \\, {\\mathrm{m}}^{3} r^{4} α λ^{3} e^{\\left(\\frac{2 \\, r}{{\\mathrm{l}} α - 2 \\, {\\mathrm{m}}}\\right)} + 36 \\, {\\mathrm{l}}^{3} {\\mathrm{m}}^{3} r α^{3} λ - 18 \\, {\\mathrm{l}}^{3} {\\mathrm{m}}^{2} r^{2} α^{3} λ - 72 \\, {\\mathrm{l}}^{2} {\\mathrm{m}}^{3} r^{2} α^{2} λ^{2} + 12 \\, {\\mathrm{l}}^{2} {\\mathrm{m}}^{2} r^{3} α^{2} λ^{2} + 12 \\, {\\mathrm{l}}^{2} {\\mathrm{m}} r^{4} α^{2} λ^{2} + 48 \\, {\\mathrm{l}} {\\mathrm{m}}^{3} r^{3} α λ^{3} - 24 \\, {\\mathrm{l}} {\\mathrm{m}}^{2} r^{4} α λ^{3} - 72 \\, {\\mathrm{m}}^{5} r^{4} ω^{2} + 108 \\, {\\mathrm{m}}^{2} r^{5} α^{3} e^{\\left(\\frac{6 \\, r}{{\\mathrm{l}} α - 2 \\, {\\mathrm{m}}}\\right)} + 36 \\, {\\mathrm{m}} r^{6} α^{3} e^{\\left(\\frac{6 \\, r}{{\\mathrm{l}} α - 2 \\, {\\mathrm{m}}}\\right)} - 18 \\, r^{7} α^{3} e^{\\left(\\frac{6 \\, r}{{\\mathrm{l}} α - 2 \\, {\\mathrm{m}}}\\right)} + 216 \\, {\\mathrm{l}} {\\mathrm{m}}^{3} r^{3} α^{3} e^{\\left(\\frac{4 \\, r}{{\\mathrm{l}} α - 2 \\, {\\mathrm{m}}}\\right)} + 108 \\, {\\mathrm{l}} {\\mathrm{m}}^{2} r^{4} α^{3} e^{\\left(\\frac{4 \\, r}{{\\mathrm{l}} α - 2 \\, {\\mathrm{m}}}\\right)} - 54 \\, {\\mathrm{l}} {\\mathrm{m}} r^{5} α^{3} e^{\\left(\\frac{4 \\, r}{{\\mathrm{l}} α - 2 \\, {\\mathrm{m}}}\\right)} + 24 \\, {\\mathrm{m}}^{3} r^{4} α^{2} λ e^{\\left(\\frac{4 \\, r}{{\\mathrm{l}} α - 2 \\, {\\mathrm{m}}}\\right)} - 276 \\, {\\mathrm{m}}^{2} r^{5} α^{2} λ e^{\\left(\\frac{4 \\, r}{{\\mathrm{l}} α - 2 \\, {\\mathrm{m}}}\\right)} + 108 \\, {\\mathrm{m}} r^{6} α^{2} λ e^{\\left(\\frac{4 \\, r}{{\\mathrm{l}} α - 2 \\, {\\mathrm{m}}}\\right)} - 6 \\, r^{7} α^{2} λ e^{\\left(\\frac{4 \\, r}{{\\mathrm{l}} α - 2 \\, {\\mathrm{m}}}\\right)} + 108 \\, {\\mathrm{l}}^{2} {\\mathrm{m}}^{4} r α^{3} e^{\\left(\\frac{2 \\, r}{{\\mathrm{l}} α - 2 \\, {\\mathrm{m}}}\\right)} + 108 \\, {\\mathrm{l}}^{2} {\\mathrm{m}}^{3} r^{2} α^{3} e^{\\left(\\frac{2 \\, r}{{\\mathrm{l}} α - 2 \\, {\\mathrm{m}}}\\right)} - 54 \\, {\\mathrm{l}}^{2} {\\mathrm{m}}^{2} r^{3} α^{3} e^{\\left(\\frac{2 \\, r}{{\\mathrm{l}} α - 2 \\, {\\mathrm{m}}}\\right)} - 216 \\, {\\mathrm{l}} {\\mathrm{m}}^{4} r^{2} α^{2} λ e^{\\left(\\frac{2 \\, r}{{\\mathrm{l}} α - 2 \\, {\\mathrm{m}}}\\right)} - 144 \\, {\\mathrm{l}} {\\mathrm{m}}^{3} r^{3} α^{2} λ e^{\\left(\\frac{2 \\, r}{{\\mathrm{l}} α - 2 \\, {\\mathrm{m}}}\\right)} - 60 \\, {\\mathrm{l}} {\\mathrm{m}}^{2} r^{4} α^{2} λ e^{\\left(\\frac{2 \\, r}{{\\mathrm{l}} α - 2 \\, {\\mathrm{m}}}\\right)} + 90 \\, {\\mathrm{l}} {\\mathrm{m}} r^{5} α^{2} λ e^{\\left(\\frac{2 \\, r}{{\\mathrm{l}} α - 2 \\, {\\mathrm{m}}}\\right)} - 12 \\, {\\mathrm{l}} r^{6} α^{2} λ e^{\\left(\\frac{2 \\, r}{{\\mathrm{l}} α - 2 \\, {\\mathrm{m}}}\\right)} + 16 \\, {\\mathrm{m}}^{4} r^{3} α λ^{2} e^{\\left(\\frac{2 \\, r}{{\\mathrm{l}} α - 2 \\, {\\mathrm{m}}}\\right)} + 128 \\, {\\mathrm{m}}^{3} r^{4} α λ^{2} e^{\\left(\\frac{2 \\, r}{{\\mathrm{l}} α - 2 \\, {\\mathrm{m}}}\\right)} - 56 \\, {\\mathrm{m}}^{2} r^{5} α λ^{2} e^{\\left(\\frac{2 \\, r}{{\\mathrm{l}} α - 2 \\, {\\mathrm{m}}}\\right)} + 4 \\, {\\mathrm{m}} r^{6} α λ^{2} e^{\\left(\\frac{2 \\, r}{{\\mathrm{l}} α - 2 \\, {\\mathrm{m}}}\\right)} + 36 \\, {\\mathrm{l}}^{3} {\\mathrm{m}}^{4} α^{3} - 18 \\, {\\mathrm{l}}^{3} {\\mathrm{m}}^{3} r α^{3} - 216 \\, {\\mathrm{l}}^{2} {\\mathrm{m}}^{4} r α^{2} λ + 108 \\, {\\mathrm{l}}^{2} {\\mathrm{m}}^{3} r^{2} α^{2} λ + 144 \\, {\\mathrm{l}} {\\mathrm{m}}^{4} r^{2} α λ^{2} - 24 \\, {\\mathrm{l}} {\\mathrm{m}}^{3} r^{3} α λ^{2} - 24 \\, {\\mathrm{l}} {\\mathrm{m}}^{2} r^{4} α λ^{2} - 32 \\, {\\mathrm{m}}^{4} r^{3} λ^{3} + 16 \\, {\\mathrm{m}}^{3} r^{4} λ^{3} - 216 \\, {\\mathrm{m}}^{4} r^{3} α^{2} e^{\\left(\\frac{4 \\, r}{{\\mathrm{l}} α - 2 \\, {\\mathrm{m}}}\\right)} - 216 \\, {\\mathrm{m}}^{3} r^{4} α^{2} e^{\\left(\\frac{4 \\, r}{{\\mathrm{l}} α - 2 \\, {\\mathrm{m}}}\\right)} + 108 \\, {\\mathrm{m}}^{2} r^{5} α^{2} e^{\\left(\\frac{4 \\, r}{{\\mathrm{l}} α - 2 \\, {\\mathrm{m}}}\\right)} - 216 \\, {\\mathrm{l}} {\\mathrm{m}}^{5} r α^{2} e^{\\left(\\frac{2 \\, r}{{\\mathrm{l}} α - 2 \\, {\\mathrm{m}}}\\right)} - 432 \\, {\\mathrm{l}} {\\mathrm{m}}^{4} r^{2} α^{2} e^{\\left(\\frac{2 \\, r}{{\\mathrm{l}} α - 2 \\, {\\mathrm{m}}}\\right)} + 216 \\, {\\mathrm{l}} {\\mathrm{m}}^{3} r^{3} α^{2} e^{\\left(\\frac{2 \\, r}{{\\mathrm{l}} α - 2 \\, {\\mathrm{m}}}\\right)} + 144 \\, {\\mathrm{m}}^{5} r^{2} α λ e^{\\left(\\frac{2 \\, r}{{\\mathrm{l}} α - 2 \\, {\\mathrm{m}}}\\right)} + 144 \\, {\\mathrm{m}}^{4} r^{3} α λ e^{\\left(\\frac{2 \\, r}{{\\mathrm{l}} α - 2 \\, {\\mathrm{m}}}\\right)} + 96 \\, {\\mathrm{m}}^{3} r^{4} α λ e^{\\left(\\frac{2 \\, r}{{\\mathrm{l}} α - 2 \\, {\\mathrm{m}}}\\right)} - 132 \\, {\\mathrm{m}}^{2} r^{5} α λ e^{\\left(\\frac{2 \\, r}{{\\mathrm{l}} α - 2 \\, {\\mathrm{m}}}\\right)} + 24 \\, {\\mathrm{m}} r^{6} α λ e^{\\left(\\frac{2 \\, r}{{\\mathrm{l}} α - 2 \\, {\\mathrm{m}}}\\right)} - 216 \\, {\\mathrm{l}}^{2} {\\mathrm{m}}^{5} α^{2} + 108 \\, {\\mathrm{l}}^{2} {\\mathrm{m}}^{4} r α^{2} + 432 \\, {\\mathrm{l}} {\\mathrm{m}}^{5} r α λ - 216 \\, {\\mathrm{l}} {\\mathrm{m}}^{4} r^{2} α λ - 96 \\, {\\mathrm{m}}^{5} r^{2} λ^{2} + 16 \\, {\\mathrm{m}}^{4} r^{3} λ^{2} + 16 \\, {\\mathrm{m}}^{3} r^{4} λ^{2} + 144 \\, {\\mathrm{m}}^{6} r α e^{\\left(\\frac{2 \\, r}{{\\mathrm{l}} α - 2 \\, {\\mathrm{m}}}\\right)} + 432 \\, {\\mathrm{m}}^{5} r^{2} α e^{\\left(\\frac{2 \\, r}{{\\mathrm{l}} α - 2 \\, {\\mathrm{m}}}\\right)} - 216 \\, {\\mathrm{m}}^{4} r^{3} α e^{\\left(\\frac{2 \\, r}{{\\mathrm{l}} α - 2 \\, {\\mathrm{m}}}\\right)} + 432 \\, {\\mathrm{l}} {\\mathrm{m}}^{6} α - 216 \\, {\\mathrm{l}} {\\mathrm{m}}^{5} r α - 288 \\, {\\mathrm{m}}^{6} r λ + 144 \\, {\\mathrm{m}}^{5} r^{2} λ - 288 \\, {\\mathrm{m}}^{7} + 144 \\, {\\mathrm{m}}^{6} r\\right)} \\hat{K}\\left({r_\\star}\\right)}{{\\left({\\mathrm{l}} r α λ + 3 \\, r^{2} α e^{\\left(\\frac{2 \\, r}{{\\mathrm{l}} α - 2 \\, {\\mathrm{m}}}\\right)} + 3 \\, {\\mathrm{l}} {\\mathrm{m}} α - 2 \\, {\\mathrm{m}} r λ - 6 \\, {\\mathrm{m}}^{2}\\right)}^{2} {\\left({\\mathrm{l}} α - 2 \\, {\\mathrm{m}}\\right)} r^{4}}\\right]$"
      ],
      "text/plain": [
       "[diff(KhT(rT), rT) == -(6*lc*r^2*α^4*KhT(rT)*e^(6*r/(lc*α - 2*mc)) - 12*mc*r^2*α^3*KhT(rT)*e^(6*r/(lc*α - 2*mc)) + 6*r^3*α^3*KhT(rT)*e^(6*r/(lc*α - 2*mc)) - 24*lc*mc*r*α^3*KhT(rT)*e^(4*r/(lc*α - 2*mc)) + 12*lc*r^2*α^3*KhT(rT)*e^(4*r/(lc*α - 2*mc)) - sqrt((r*α*e^(2*r/(lc*α - 2*mc)) - 2*mc + r)^2)*lc^2*r*α^2*λ*RhT(rT) - 3*sqrt((r*α*e^(2*r/(lc*α - 2*mc)) - 2*mc + r)^2)*lc*r^2*α^2*RhT(rT)*e^(2*r/(lc*α - 2*mc)) + 48*mc^2*r*α^2*KhT(rT)*e^(4*r/(lc*α - 2*mc)) - 48*mc*r^2*α^2*KhT(rT)*e^(4*r/(lc*α - 2*mc)) + 12*r^3*α^2*KhT(rT)*e^(4*r/(lc*α - 2*mc)) + 24*lc*mc^2*α^2*KhT(rT)*e^(2*r/(lc*α - 2*mc)) - 24*lc*mc*r*α^2*KhT(rT)*e^(2*r/(lc*α - 2*mc)) + 6*lc*r^2*α^2*KhT(rT)*e^(2*r/(lc*α - 2*mc)) - 3*sqrt((r*α*e^(2*r/(lc*α - 2*mc)) - 2*mc + r)^2)*lc^2*mc*α^2*RhT(rT) + 4*sqrt((r*α*e^(2*r/(lc*α - 2*mc)) - 2*mc + r)^2)*lc*mc*r*α*λ*RhT(rT) + 6*sqrt((r*α*e^(2*r/(lc*α - 2*mc)) - 2*mc + r)^2)*mc*r^2*α*RhT(rT)*e^(2*r/(lc*α - 2*mc)) - 48*mc^3*α*KhT(rT)*e^(2*r/(lc*α - 2*mc)) + 72*mc^2*r*α*KhT(rT)*e^(2*r/(lc*α - 2*mc)) - 36*mc*r^2*α*KhT(rT)*e^(2*r/(lc*α - 2*mc)) + 6*r^3*α*KhT(rT)*e^(2*r/(lc*α - 2*mc)) + 12*sqrt((r*α*e^(2*r/(lc*α - 2*mc)) - 2*mc + r)^2)*lc*mc^2*α*RhT(rT) - 4*sqrt((r*α*e^(2*r/(lc*α - 2*mc)) - 2*mc + r)^2)*mc^2*r*λ*RhT(rT) - 12*sqrt((r*α*e^(2*r/(lc*α - 2*mc)) - 2*mc + r)^2)*mc^3*RhT(rT))/((lc*r*α*λ + 3*r^2*α*e^(2*r/(lc*α - 2*mc)) + 3*lc*mc*α - 2*mc*r*λ - 6*mc^2)*sqrt((r*α*e^(2*r/(lc*α - 2*mc)) - 2*mc + r)^2)*(lc*α - 2*mc)),\n",
       " diff(RhT(rT), rT) == -(lc^3*r^6*α^3*λ^2*ω^2 + 6*lc^2*r^7*α^3*λ*ω^2*e^(2*r/(lc*α - 2*mc)) + 6*lc^3*mc*r^5*α^3*λ*ω^2 - 6*lc^2*mc*r^6*α^2*λ^2*ω^2 - 2*lc^3*r^4*α^5*λ^2*e^(4*r/(lc*α - 2*mc)) + 9*lc*r^8*α^3*ω^2*e^(4*r/(lc*α - 2*mc)) - 2*lc^3*r^4*α^4*λ^3*e^(2*r/(lc*α - 2*mc)) + 18*lc^2*mc*r^6*α^3*ω^2*e^(2*r/(lc*α - 2*mc)) - 24*lc*mc*r^7*α^2*λ*ω^2*e^(2*r/(lc*α - 2*mc)) + 9*lc^3*mc^2*r^4*α^3*ω^2 - 36*lc^2*mc^2*r^5*α^2*λ*ω^2 + 12*lc*mc^2*r^6*α*λ^2*ω^2 - 12*lc^2*r^5*α^5*λ*e^(6*r/(lc*α - 2*mc)) + 12*lc^2*mc*r^4*α^4*λ^2*e^(4*r/(lc*α - 2*mc)) - 12*lc^2*r^5*α^4*λ^2*e^(4*r/(lc*α - 2*mc)) - 18*mc*r^8*α^2*ω^2*e^(4*r/(lc*α - 2*mc)) - 2*lc^3*mc*r^3*α^4*λ^2*e^(2*r/(lc*α - 2*mc)) - 4*lc^3*r^4*α^4*λ^2*e^(2*r/(lc*α - 2*mc)) + 12*lc^2*mc*r^4*α^3*λ^3*e^(2*r/(lc*α - 2*mc)) - 72*lc*mc^2*r^6*α^2*ω^2*e^(2*r/(lc*α - 2*mc)) + 24*mc^2*r^7*α*λ*ω^2*e^(2*r/(lc*α - 2*mc)) + 4*lc^3*mc*r^3*α^3*λ^3 - 2*lc^3*r^4*α^3*λ^3 - 54*lc^2*mc^3*r^4*α^2*ω^2 + 72*lc*mc^3*r^5*α*λ*ω^2 - 8*mc^3*r^6*λ^2*ω^2 + 48*lc*mc*r^5*α^4*λ*e^(6*r/(lc*α - 2*mc)) - 36*lc*r^6*α^4*λ*e^(6*r/(lc*α - 2*mc)) + 6*lc^2*mc*r^4*α^4*λ*e^(4*r/(lc*α - 2*mc)) - 24*lc^2*r^5*α^4*λ*e^(4*r/(lc*α - 2*mc)) - 24*lc*mc^2*r^4*α^3*λ^2*e^(4*r/(lc*α - 2*mc)) + 48*lc*mc*r^5*α^3*λ^2*e^(4*r/(lc*α - 2*mc)) - 2*lc*r^6*α^3*λ^2*e^(4*r/(lc*α - 2*mc)) - 18*lc^3*mc^2*r^2*α^4*λ*e^(2*r/(lc*α - 2*mc)) + 12*lc^2*mc^2*r^3*α^3*λ^2*e^(2*r/(lc*α - 2*mc)) + 48*lc^2*mc*r^4*α^3*λ^2*e^(2*r/(lc*α - 2*mc)) - 12*lc^2*r^5*α^3*λ^2*e^(2*r/(lc*α - 2*mc)) - 24*lc*mc^2*r^4*α^2*λ^3*e^(2*r/(lc*α - 2*mc)) + 72*mc^3*r^6*α*ω^2*e^(2*r/(lc*α - 2*mc)) + 12*lc^3*mc^2*r^2*α^3*λ^2 - 2*lc^3*mc*r^3*α^3*λ^2 - 2*lc^3*r^4*α^3*λ^2 - 24*lc^2*mc^2*r^3*α^2*λ^3 + 12*lc^2*mc*r^4*α^2*λ^3 + 108*lc*mc^4*r^4*α*ω^2 - 48*mc^4*r^5*λ*ω^2 - 18*r^7*α^4*e^(8*r/(lc*α - 2*mc)) - 54*lc*mc*r^5*α^4*e^(6*r/(lc*α - 2*mc)) - 48*mc^2*r^5*α^3*λ*e^(6*r/(lc*α - 2*mc)) + 72*mc*r^6*α^3*λ*e^(6*r/(lc*α - 2*mc)) - 6*r^7*α^3*λ*e^(6*r/(lc*α - 2*mc)) - 54*lc^2*mc^2*r^3*α^4*e^(4*r/(lc*α - 2*mc)) - 24*lc*mc^2*r^4*α^3*λ*e^(4*r/(lc*α - 2*mc)) + 186*lc*mc*r^5*α^3*λ*e^(4*r/(lc*α - 2*mc)) - 48*lc*r^6*α^3*λ*e^(4*r/(lc*α - 2*mc)) + 16*mc^3*r^4*α^2*λ^2*e^(4*r/(lc*α - 2*mc)) - 48*mc^2*r^5*α^2*λ^2*e^(4*r/(lc*α - 2*mc)) + 4*mc*r^6*α^2*λ^2*e^(4*r/(lc*α - 2*mc)) - 18*lc^3*mc^3*r*α^4*e^(2*r/(lc*α - 2*mc)) + 108*lc^2*mc^3*r^2*α^3*λ*e^(2*r/(lc*α - 2*mc)) + 36*lc^2*mc^2*r^3*α^3*λ*e^(2*r/(lc*α - 2*mc)) + 6*lc^2*mc*r^4*α^3*λ*e^(2*r/(lc*α - 2*mc)) - 12*lc^2*r^5*α^3*λ*e^(2*r/(lc*α - 2*mc)) - 24*lc*mc^3*r^3*α^2*λ^2*e^(2*r/(lc*α - 2*mc)) - 144*lc*mc^2*r^4*α^2*λ^2*e^(2*r/(lc*α - 2*mc)) + 52*lc*mc*r^5*α^2*λ^2*e^(2*r/(lc*α - 2*mc)) - 2*lc*r^6*α^2*λ^2*e^(2*r/(lc*α - 2*mc)) + 16*mc^3*r^4*α*λ^3*e^(2*r/(lc*α - 2*mc)) + 36*lc^3*mc^3*r*α^3*λ - 18*lc^3*mc^2*r^2*α^3*λ - 72*lc^2*mc^3*r^2*α^2*λ^2 + 12*lc^2*mc^2*r^3*α^2*λ^2 + 12*lc^2*mc*r^4*α^2*λ^2 + 48*lc*mc^3*r^3*α*λ^3 - 24*lc*mc^2*r^4*α*λ^3 - 72*mc^5*r^4*ω^2 + 108*mc^2*r^5*α^3*e^(6*r/(lc*α - 2*mc)) + 36*mc*r^6*α^3*e^(6*r/(lc*α - 2*mc)) - 18*r^7*α^3*e^(6*r/(lc*α - 2*mc)) + 216*lc*mc^3*r^3*α^3*e^(4*r/(lc*α - 2*mc)) + 108*lc*mc^2*r^4*α^3*e^(4*r/(lc*α - 2*mc)) - 54*lc*mc*r^5*α^3*e^(4*r/(lc*α - 2*mc)) + 24*mc^3*r^4*α^2*λ*e^(4*r/(lc*α - 2*mc)) - 276*mc^2*r^5*α^2*λ*e^(4*r/(lc*α - 2*mc)) + 108*mc*r^6*α^2*λ*e^(4*r/(lc*α - 2*mc)) - 6*r^7*α^2*λ*e^(4*r/(lc*α - 2*mc)) + 108*lc^2*mc^4*r*α^3*e^(2*r/(lc*α - 2*mc)) + 108*lc^2*mc^3*r^2*α^3*e^(2*r/(lc*α - 2*mc)) - 54*lc^2*mc^2*r^3*α^3*e^(2*r/(lc*α - 2*mc)) - 216*lc*mc^4*r^2*α^2*λ*e^(2*r/(lc*α - 2*mc)) - 144*lc*mc^3*r^3*α^2*λ*e^(2*r/(lc*α - 2*mc)) - 60*lc*mc^2*r^4*α^2*λ*e^(2*r/(lc*α - 2*mc)) + 90*lc*mc*r^5*α^2*λ*e^(2*r/(lc*α - 2*mc)) - 12*lc*r^6*α^2*λ*e^(2*r/(lc*α - 2*mc)) + 16*mc^4*r^3*α*λ^2*e^(2*r/(lc*α - 2*mc)) + 128*mc^3*r^4*α*λ^2*e^(2*r/(lc*α - 2*mc)) - 56*mc^2*r^5*α*λ^2*e^(2*r/(lc*α - 2*mc)) + 4*mc*r^6*α*λ^2*e^(2*r/(lc*α - 2*mc)) + 36*lc^3*mc^4*α^3 - 18*lc^3*mc^3*r*α^3 - 216*lc^2*mc^4*r*α^2*λ + 108*lc^2*mc^3*r^2*α^2*λ + 144*lc*mc^4*r^2*α*λ^2 - 24*lc*mc^3*r^3*α*λ^2 - 24*lc*mc^2*r^4*α*λ^2 - 32*mc^4*r^3*λ^3 + 16*mc^3*r^4*λ^3 - 216*mc^4*r^3*α^2*e^(4*r/(lc*α - 2*mc)) - 216*mc^3*r^4*α^2*e^(4*r/(lc*α - 2*mc)) + 108*mc^2*r^5*α^2*e^(4*r/(lc*α - 2*mc)) - 216*lc*mc^5*r*α^2*e^(2*r/(lc*α - 2*mc)) - 432*lc*mc^4*r^2*α^2*e^(2*r/(lc*α - 2*mc)) + 216*lc*mc^3*r^3*α^2*e^(2*r/(lc*α - 2*mc)) + 144*mc^5*r^2*α*λ*e^(2*r/(lc*α - 2*mc)) + 144*mc^4*r^3*α*λ*e^(2*r/(lc*α - 2*mc)) + 96*mc^3*r^4*α*λ*e^(2*r/(lc*α - 2*mc)) - 132*mc^2*r^5*α*λ*e^(2*r/(lc*α - 2*mc)) + 24*mc*r^6*α*λ*e^(2*r/(lc*α - 2*mc)) - 216*lc^2*mc^5*α^2 + 108*lc^2*mc^4*r*α^2 + 432*lc*mc^5*r*α*λ - 216*lc*mc^4*r^2*α*λ - 96*mc^5*r^2*λ^2 + 16*mc^4*r^3*λ^2 + 16*mc^3*r^4*λ^2 + 144*mc^6*r*α*e^(2*r/(lc*α - 2*mc)) + 432*mc^5*r^2*α*e^(2*r/(lc*α - 2*mc)) - 216*mc^4*r^3*α*e^(2*r/(lc*α - 2*mc)) + 432*lc*mc^6*α - 216*lc*mc^5*r*α - 288*mc^6*r*λ + 144*mc^5*r^2*λ - 288*mc^7 + 144*mc^6*r)*KhT(rT)/((lc*r*α*λ + 3*r^2*α*e^(2*r/(lc*α - 2*mc)) + 3*lc*mc*α - 2*mc*r*λ - 6*mc^2)^2*(lc*α - 2*mc)*r^4)]"
      ]
     },
     "execution_count": 227,
     "metadata": {},
     "output_type": "execute_result"
    }
   ],
   "source": [
    "Zeqs"
   ]
  },
  {
   "cell_type": "markdown",
   "metadata": {},
   "source": [
    " "
   ]
  },
  {
   "cell_type": "code",
   "execution_count": 228,
   "metadata": {},
   "outputs": [
    {
     "data": {
      "text/html": [
       "<html>\\(\\displaystyle \\frac{\\partial}{\\partial {r_\\star}}\\hat{R}\\left({r_\\star}\\right) = -\\frac{{\\left({\\mathrm{l}}^{3} r^{6} α^{3} λ^{2} ω^{2} + 6 \\, {\\mathrm{l}}^{2} r^{7} α^{3} λ ω^{2} e^{\\left(\\frac{2 \\, r}{{\\mathrm{l}} α - 2 \\, {\\mathrm{m}}}\\right)} + 6 \\, {\\mathrm{l}}^{3} {\\mathrm{m}} r^{5} α^{3} λ ω^{2} - 6 \\, {\\mathrm{l}}^{2} {\\mathrm{m}} r^{6} α^{2} λ^{2} ω^{2} - 2 \\, {\\mathrm{l}}^{3} r^{4} α^{5} λ^{2} e^{\\left(\\frac{4 \\, r}{{\\mathrm{l}} α - 2 \\, {\\mathrm{m}}}\\right)} + 9 \\, {\\mathrm{l}} r^{8} α^{3} ω^{2} e^{\\left(\\frac{4 \\, r}{{\\mathrm{l}} α - 2 \\, {\\mathrm{m}}}\\right)} - 2 \\, {\\mathrm{l}}^{3} r^{4} α^{4} λ^{3} e^{\\left(\\frac{2 \\, r}{{\\mathrm{l}} α - 2 \\, {\\mathrm{m}}}\\right)} + 18 \\, {\\mathrm{l}}^{2} {\\mathrm{m}} r^{6} α^{3} ω^{2} e^{\\left(\\frac{2 \\, r}{{\\mathrm{l}} α - 2 \\, {\\mathrm{m}}}\\right)} - 24 \\, {\\mathrm{l}} {\\mathrm{m}} r^{7} α^{2} λ ω^{2} e^{\\left(\\frac{2 \\, r}{{\\mathrm{l}} α - 2 \\, {\\mathrm{m}}}\\right)} + 9 \\, {\\mathrm{l}}^{3} {\\mathrm{m}}^{2} r^{4} α^{3} ω^{2} - 36 \\, {\\mathrm{l}}^{2} {\\mathrm{m}}^{2} r^{5} α^{2} λ ω^{2} + 12 \\, {\\mathrm{l}} {\\mathrm{m}}^{2} r^{6} α λ^{2} ω^{2} - 12 \\, {\\mathrm{l}}^{2} r^{5} α^{5} λ e^{\\left(\\frac{6 \\, r}{{\\mathrm{l}} α - 2 \\, {\\mathrm{m}}}\\right)} + 12 \\, {\\mathrm{l}}^{2} {\\mathrm{m}} r^{4} α^{4} λ^{2} e^{\\left(\\frac{4 \\, r}{{\\mathrm{l}} α - 2 \\, {\\mathrm{m}}}\\right)} - 12 \\, {\\mathrm{l}}^{2} r^{5} α^{4} λ^{2} e^{\\left(\\frac{4 \\, r}{{\\mathrm{l}} α - 2 \\, {\\mathrm{m}}}\\right)} - 18 \\, {\\mathrm{m}} r^{8} α^{2} ω^{2} e^{\\left(\\frac{4 \\, r}{{\\mathrm{l}} α - 2 \\, {\\mathrm{m}}}\\right)} - 2 \\, {\\mathrm{l}}^{3} {\\mathrm{m}} r^{3} α^{4} λ^{2} e^{\\left(\\frac{2 \\, r}{{\\mathrm{l}} α - 2 \\, {\\mathrm{m}}}\\right)} - 4 \\, {\\mathrm{l}}^{3} r^{4} α^{4} λ^{2} e^{\\left(\\frac{2 \\, r}{{\\mathrm{l}} α - 2 \\, {\\mathrm{m}}}\\right)} + 12 \\, {\\mathrm{l}}^{2} {\\mathrm{m}} r^{4} α^{3} λ^{3} e^{\\left(\\frac{2 \\, r}{{\\mathrm{l}} α - 2 \\, {\\mathrm{m}}}\\right)} - 72 \\, {\\mathrm{l}} {\\mathrm{m}}^{2} r^{6} α^{2} ω^{2} e^{\\left(\\frac{2 \\, r}{{\\mathrm{l}} α - 2 \\, {\\mathrm{m}}}\\right)} + 24 \\, {\\mathrm{m}}^{2} r^{7} α λ ω^{2} e^{\\left(\\frac{2 \\, r}{{\\mathrm{l}} α - 2 \\, {\\mathrm{m}}}\\right)} + 4 \\, {\\mathrm{l}}^{3} {\\mathrm{m}} r^{3} α^{3} λ^{3} - 2 \\, {\\mathrm{l}}^{3} r^{4} α^{3} λ^{3} - 54 \\, {\\mathrm{l}}^{2} {\\mathrm{m}}^{3} r^{4} α^{2} ω^{2} + 72 \\, {\\mathrm{l}} {\\mathrm{m}}^{3} r^{5} α λ ω^{2} - 8 \\, {\\mathrm{m}}^{3} r^{6} λ^{2} ω^{2} + 48 \\, {\\mathrm{l}} {\\mathrm{m}} r^{5} α^{4} λ e^{\\left(\\frac{6 \\, r}{{\\mathrm{l}} α - 2 \\, {\\mathrm{m}}}\\right)} - 36 \\, {\\mathrm{l}} r^{6} α^{4} λ e^{\\left(\\frac{6 \\, r}{{\\mathrm{l}} α - 2 \\, {\\mathrm{m}}}\\right)} + 6 \\, {\\mathrm{l}}^{2} {\\mathrm{m}} r^{4} α^{4} λ e^{\\left(\\frac{4 \\, r}{{\\mathrm{l}} α - 2 \\, {\\mathrm{m}}}\\right)} - 24 \\, {\\mathrm{l}}^{2} r^{5} α^{4} λ e^{\\left(\\frac{4 \\, r}{{\\mathrm{l}} α - 2 \\, {\\mathrm{m}}}\\right)} - 24 \\, {\\mathrm{l}} {\\mathrm{m}}^{2} r^{4} α^{3} λ^{2} e^{\\left(\\frac{4 \\, r}{{\\mathrm{l}} α - 2 \\, {\\mathrm{m}}}\\right)} + 48 \\, {\\mathrm{l}} {\\mathrm{m}} r^{5} α^{3} λ^{2} e^{\\left(\\frac{4 \\, r}{{\\mathrm{l}} α - 2 \\, {\\mathrm{m}}}\\right)} - 2 \\, {\\mathrm{l}} r^{6} α^{3} λ^{2} e^{\\left(\\frac{4 \\, r}{{\\mathrm{l}} α - 2 \\, {\\mathrm{m}}}\\right)} - 18 \\, {\\mathrm{l}}^{3} {\\mathrm{m}}^{2} r^{2} α^{4} λ e^{\\left(\\frac{2 \\, r}{{\\mathrm{l}} α - 2 \\, {\\mathrm{m}}}\\right)} + 12 \\, {\\mathrm{l}}^{2} {\\mathrm{m}}^{2} r^{3} α^{3} λ^{2} e^{\\left(\\frac{2 \\, r}{{\\mathrm{l}} α - 2 \\, {\\mathrm{m}}}\\right)} + 48 \\, {\\mathrm{l}}^{2} {\\mathrm{m}} r^{4} α^{3} λ^{2} e^{\\left(\\frac{2 \\, r}{{\\mathrm{l}} α - 2 \\, {\\mathrm{m}}}\\right)} - 12 \\, {\\mathrm{l}}^{2} r^{5} α^{3} λ^{2} e^{\\left(\\frac{2 \\, r}{{\\mathrm{l}} α - 2 \\, {\\mathrm{m}}}\\right)} - 24 \\, {\\mathrm{l}} {\\mathrm{m}}^{2} r^{4} α^{2} λ^{3} e^{\\left(\\frac{2 \\, r}{{\\mathrm{l}} α - 2 \\, {\\mathrm{m}}}\\right)} + 72 \\, {\\mathrm{m}}^{3} r^{6} α ω^{2} e^{\\left(\\frac{2 \\, r}{{\\mathrm{l}} α - 2 \\, {\\mathrm{m}}}\\right)} + 12 \\, {\\mathrm{l}}^{3} {\\mathrm{m}}^{2} r^{2} α^{3} λ^{2} - 2 \\, {\\mathrm{l}}^{3} {\\mathrm{m}} r^{3} α^{3} λ^{2} - 2 \\, {\\mathrm{l}}^{3} r^{4} α^{3} λ^{2} - 24 \\, {\\mathrm{l}}^{2} {\\mathrm{m}}^{2} r^{3} α^{2} λ^{3} + 12 \\, {\\mathrm{l}}^{2} {\\mathrm{m}} r^{4} α^{2} λ^{3} + 108 \\, {\\mathrm{l}} {\\mathrm{m}}^{4} r^{4} α ω^{2} - 48 \\, {\\mathrm{m}}^{4} r^{5} λ ω^{2} - 18 \\, r^{7} α^{4} e^{\\left(\\frac{8 \\, r}{{\\mathrm{l}} α - 2 \\, {\\mathrm{m}}}\\right)} - 54 \\, {\\mathrm{l}} {\\mathrm{m}} r^{5} α^{4} e^{\\left(\\frac{6 \\, r}{{\\mathrm{l}} α - 2 \\, {\\mathrm{m}}}\\right)} - 48 \\, {\\mathrm{m}}^{2} r^{5} α^{3} λ e^{\\left(\\frac{6 \\, r}{{\\mathrm{l}} α - 2 \\, {\\mathrm{m}}}\\right)} + 72 \\, {\\mathrm{m}} r^{6} α^{3} λ e^{\\left(\\frac{6 \\, r}{{\\mathrm{l}} α - 2 \\, {\\mathrm{m}}}\\right)} - 6 \\, r^{7} α^{3} λ e^{\\left(\\frac{6 \\, r}{{\\mathrm{l}} α - 2 \\, {\\mathrm{m}}}\\right)} - 54 \\, {\\mathrm{l}}^{2} {\\mathrm{m}}^{2} r^{3} α^{4} e^{\\left(\\frac{4 \\, r}{{\\mathrm{l}} α - 2 \\, {\\mathrm{m}}}\\right)} - 24 \\, {\\mathrm{l}} {\\mathrm{m}}^{2} r^{4} α^{3} λ e^{\\left(\\frac{4 \\, r}{{\\mathrm{l}} α - 2 \\, {\\mathrm{m}}}\\right)} + 186 \\, {\\mathrm{l}} {\\mathrm{m}} r^{5} α^{3} λ e^{\\left(\\frac{4 \\, r}{{\\mathrm{l}} α - 2 \\, {\\mathrm{m}}}\\right)} - 48 \\, {\\mathrm{l}} r^{6} α^{3} λ e^{\\left(\\frac{4 \\, r}{{\\mathrm{l}} α - 2 \\, {\\mathrm{m}}}\\right)} + 16 \\, {\\mathrm{m}}^{3} r^{4} α^{2} λ^{2} e^{\\left(\\frac{4 \\, r}{{\\mathrm{l}} α - 2 \\, {\\mathrm{m}}}\\right)} - 48 \\, {\\mathrm{m}}^{2} r^{5} α^{2} λ^{2} e^{\\left(\\frac{4 \\, r}{{\\mathrm{l}} α - 2 \\, {\\mathrm{m}}}\\right)} + 4 \\, {\\mathrm{m}} r^{6} α^{2} λ^{2} e^{\\left(\\frac{4 \\, r}{{\\mathrm{l}} α - 2 \\, {\\mathrm{m}}}\\right)} - 18 \\, {\\mathrm{l}}^{3} {\\mathrm{m}}^{3} r α^{4} e^{\\left(\\frac{2 \\, r}{{\\mathrm{l}} α - 2 \\, {\\mathrm{m}}}\\right)} + 108 \\, {\\mathrm{l}}^{2} {\\mathrm{m}}^{3} r^{2} α^{3} λ e^{\\left(\\frac{2 \\, r}{{\\mathrm{l}} α - 2 \\, {\\mathrm{m}}}\\right)} + 36 \\, {\\mathrm{l}}^{2} {\\mathrm{m}}^{2} r^{3} α^{3} λ e^{\\left(\\frac{2 \\, r}{{\\mathrm{l}} α - 2 \\, {\\mathrm{m}}}\\right)} + 6 \\, {\\mathrm{l}}^{2} {\\mathrm{m}} r^{4} α^{3} λ e^{\\left(\\frac{2 \\, r}{{\\mathrm{l}} α - 2 \\, {\\mathrm{m}}}\\right)} - 12 \\, {\\mathrm{l}}^{2} r^{5} α^{3} λ e^{\\left(\\frac{2 \\, r}{{\\mathrm{l}} α - 2 \\, {\\mathrm{m}}}\\right)} - 24 \\, {\\mathrm{l}} {\\mathrm{m}}^{3} r^{3} α^{2} λ^{2} e^{\\left(\\frac{2 \\, r}{{\\mathrm{l}} α - 2 \\, {\\mathrm{m}}}\\right)} - 144 \\, {\\mathrm{l}} {\\mathrm{m}}^{2} r^{4} α^{2} λ^{2} e^{\\left(\\frac{2 \\, r}{{\\mathrm{l}} α - 2 \\, {\\mathrm{m}}}\\right)} + 52 \\, {\\mathrm{l}} {\\mathrm{m}} r^{5} α^{2} λ^{2} e^{\\left(\\frac{2 \\, r}{{\\mathrm{l}} α - 2 \\, {\\mathrm{m}}}\\right)} - 2 \\, {\\mathrm{l}} r^{6} α^{2} λ^{2} e^{\\left(\\frac{2 \\, r}{{\\mathrm{l}} α - 2 \\, {\\mathrm{m}}}\\right)} + 16 \\, {\\mathrm{m}}^{3} r^{4} α λ^{3} e^{\\left(\\frac{2 \\, r}{{\\mathrm{l}} α - 2 \\, {\\mathrm{m}}}\\right)} + 36 \\, {\\mathrm{l}}^{3} {\\mathrm{m}}^{3} r α^{3} λ - 18 \\, {\\mathrm{l}}^{3} {\\mathrm{m}}^{2} r^{2} α^{3} λ - 72 \\, {\\mathrm{l}}^{2} {\\mathrm{m}}^{3} r^{2} α^{2} λ^{2} + 12 \\, {\\mathrm{l}}^{2} {\\mathrm{m}}^{2} r^{3} α^{2} λ^{2} + 12 \\, {\\mathrm{l}}^{2} {\\mathrm{m}} r^{4} α^{2} λ^{2} + 48 \\, {\\mathrm{l}} {\\mathrm{m}}^{3} r^{3} α λ^{3} - 24 \\, {\\mathrm{l}} {\\mathrm{m}}^{2} r^{4} α λ^{3} - 72 \\, {\\mathrm{m}}^{5} r^{4} ω^{2} + 108 \\, {\\mathrm{m}}^{2} r^{5} α^{3} e^{\\left(\\frac{6 \\, r}{{\\mathrm{l}} α - 2 \\, {\\mathrm{m}}}\\right)} + 36 \\, {\\mathrm{m}} r^{6} α^{3} e^{\\left(\\frac{6 \\, r}{{\\mathrm{l}} α - 2 \\, {\\mathrm{m}}}\\right)} - 18 \\, r^{7} α^{3} e^{\\left(\\frac{6 \\, r}{{\\mathrm{l}} α - 2 \\, {\\mathrm{m}}}\\right)} + 216 \\, {\\mathrm{l}} {\\mathrm{m}}^{3} r^{3} α^{3} e^{\\left(\\frac{4 \\, r}{{\\mathrm{l}} α - 2 \\, {\\mathrm{m}}}\\right)} + 108 \\, {\\mathrm{l}} {\\mathrm{m}}^{2} r^{4} α^{3} e^{\\left(\\frac{4 \\, r}{{\\mathrm{l}} α - 2 \\, {\\mathrm{m}}}\\right)} - 54 \\, {\\mathrm{l}} {\\mathrm{m}} r^{5} α^{3} e^{\\left(\\frac{4 \\, r}{{\\mathrm{l}} α - 2 \\, {\\mathrm{m}}}\\right)} + 24 \\, {\\mathrm{m}}^{3} r^{4} α^{2} λ e^{\\left(\\frac{4 \\, r}{{\\mathrm{l}} α - 2 \\, {\\mathrm{m}}}\\right)} - 276 \\, {\\mathrm{m}}^{2} r^{5} α^{2} λ e^{\\left(\\frac{4 \\, r}{{\\mathrm{l}} α - 2 \\, {\\mathrm{m}}}\\right)} + 108 \\, {\\mathrm{m}} r^{6} α^{2} λ e^{\\left(\\frac{4 \\, r}{{\\mathrm{l}} α - 2 \\, {\\mathrm{m}}}\\right)} - 6 \\, r^{7} α^{2} λ e^{\\left(\\frac{4 \\, r}{{\\mathrm{l}} α - 2 \\, {\\mathrm{m}}}\\right)} + 108 \\, {\\mathrm{l}}^{2} {\\mathrm{m}}^{4} r α^{3} e^{\\left(\\frac{2 \\, r}{{\\mathrm{l}} α - 2 \\, {\\mathrm{m}}}\\right)} + 108 \\, {\\mathrm{l}}^{2} {\\mathrm{m}}^{3} r^{2} α^{3} e^{\\left(\\frac{2 \\, r}{{\\mathrm{l}} α - 2 \\, {\\mathrm{m}}}\\right)} - 54 \\, {\\mathrm{l}}^{2} {\\mathrm{m}}^{2} r^{3} α^{3} e^{\\left(\\frac{2 \\, r}{{\\mathrm{l}} α - 2 \\, {\\mathrm{m}}}\\right)} - 216 \\, {\\mathrm{l}} {\\mathrm{m}}^{4} r^{2} α^{2} λ e^{\\left(\\frac{2 \\, r}{{\\mathrm{l}} α - 2 \\, {\\mathrm{m}}}\\right)} - 144 \\, {\\mathrm{l}} {\\mathrm{m}}^{3} r^{3} α^{2} λ e^{\\left(\\frac{2 \\, r}{{\\mathrm{l}} α - 2 \\, {\\mathrm{m}}}\\right)} - 60 \\, {\\mathrm{l}} {\\mathrm{m}}^{2} r^{4} α^{2} λ e^{\\left(\\frac{2 \\, r}{{\\mathrm{l}} α - 2 \\, {\\mathrm{m}}}\\right)} + 90 \\, {\\mathrm{l}} {\\mathrm{m}} r^{5} α^{2} λ e^{\\left(\\frac{2 \\, r}{{\\mathrm{l}} α - 2 \\, {\\mathrm{m}}}\\right)} - 12 \\, {\\mathrm{l}} r^{6} α^{2} λ e^{\\left(\\frac{2 \\, r}{{\\mathrm{l}} α - 2 \\, {\\mathrm{m}}}\\right)} + 16 \\, {\\mathrm{m}}^{4} r^{3} α λ^{2} e^{\\left(\\frac{2 \\, r}{{\\mathrm{l}} α - 2 \\, {\\mathrm{m}}}\\right)} + 128 \\, {\\mathrm{m}}^{3} r^{4} α λ^{2} e^{\\left(\\frac{2 \\, r}{{\\mathrm{l}} α - 2 \\, {\\mathrm{m}}}\\right)} - 56 \\, {\\mathrm{m}}^{2} r^{5} α λ^{2} e^{\\left(\\frac{2 \\, r}{{\\mathrm{l}} α - 2 \\, {\\mathrm{m}}}\\right)} + 4 \\, {\\mathrm{m}} r^{6} α λ^{2} e^{\\left(\\frac{2 \\, r}{{\\mathrm{l}} α - 2 \\, {\\mathrm{m}}}\\right)} + 36 \\, {\\mathrm{l}}^{3} {\\mathrm{m}}^{4} α^{3} - 18 \\, {\\mathrm{l}}^{3} {\\mathrm{m}}^{3} r α^{3} - 216 \\, {\\mathrm{l}}^{2} {\\mathrm{m}}^{4} r α^{2} λ + 108 \\, {\\mathrm{l}}^{2} {\\mathrm{m}}^{3} r^{2} α^{2} λ + 144 \\, {\\mathrm{l}} {\\mathrm{m}}^{4} r^{2} α λ^{2} - 24 \\, {\\mathrm{l}} {\\mathrm{m}}^{3} r^{3} α λ^{2} - 24 \\, {\\mathrm{l}} {\\mathrm{m}}^{2} r^{4} α λ^{2} - 32 \\, {\\mathrm{m}}^{4} r^{3} λ^{3} + 16 \\, {\\mathrm{m}}^{3} r^{4} λ^{3} - 216 \\, {\\mathrm{m}}^{4} r^{3} α^{2} e^{\\left(\\frac{4 \\, r}{{\\mathrm{l}} α - 2 \\, {\\mathrm{m}}}\\right)} - 216 \\, {\\mathrm{m}}^{3} r^{4} α^{2} e^{\\left(\\frac{4 \\, r}{{\\mathrm{l}} α - 2 \\, {\\mathrm{m}}}\\right)} + 108 \\, {\\mathrm{m}}^{2} r^{5} α^{2} e^{\\left(\\frac{4 \\, r}{{\\mathrm{l}} α - 2 \\, {\\mathrm{m}}}\\right)} - 216 \\, {\\mathrm{l}} {\\mathrm{m}}^{5} r α^{2} e^{\\left(\\frac{2 \\, r}{{\\mathrm{l}} α - 2 \\, {\\mathrm{m}}}\\right)} - 432 \\, {\\mathrm{l}} {\\mathrm{m}}^{4} r^{2} α^{2} e^{\\left(\\frac{2 \\, r}{{\\mathrm{l}} α - 2 \\, {\\mathrm{m}}}\\right)} + 216 \\, {\\mathrm{l}} {\\mathrm{m}}^{3} r^{3} α^{2} e^{\\left(\\frac{2 \\, r}{{\\mathrm{l}} α - 2 \\, {\\mathrm{m}}}\\right)} + 144 \\, {\\mathrm{m}}^{5} r^{2} α λ e^{\\left(\\frac{2 \\, r}{{\\mathrm{l}} α - 2 \\, {\\mathrm{m}}}\\right)} + 144 \\, {\\mathrm{m}}^{4} r^{3} α λ e^{\\left(\\frac{2 \\, r}{{\\mathrm{l}} α - 2 \\, {\\mathrm{m}}}\\right)} + 96 \\, {\\mathrm{m}}^{3} r^{4} α λ e^{\\left(\\frac{2 \\, r}{{\\mathrm{l}} α - 2 \\, {\\mathrm{m}}}\\right)} - 132 \\, {\\mathrm{m}}^{2} r^{5} α λ e^{\\left(\\frac{2 \\, r}{{\\mathrm{l}} α - 2 \\, {\\mathrm{m}}}\\right)} + 24 \\, {\\mathrm{m}} r^{6} α λ e^{\\left(\\frac{2 \\, r}{{\\mathrm{l}} α - 2 \\, {\\mathrm{m}}}\\right)} - 216 \\, {\\mathrm{l}}^{2} {\\mathrm{m}}^{5} α^{2} + 108 \\, {\\mathrm{l}}^{2} {\\mathrm{m}}^{4} r α^{2} + 432 \\, {\\mathrm{l}} {\\mathrm{m}}^{5} r α λ - 216 \\, {\\mathrm{l}} {\\mathrm{m}}^{4} r^{2} α λ - 96 \\, {\\mathrm{m}}^{5} r^{2} λ^{2} + 16 \\, {\\mathrm{m}}^{4} r^{3} λ^{2} + 16 \\, {\\mathrm{m}}^{3} r^{4} λ^{2} + 144 \\, {\\mathrm{m}}^{6} r α e^{\\left(\\frac{2 \\, r}{{\\mathrm{l}} α - 2 \\, {\\mathrm{m}}}\\right)} + 432 \\, {\\mathrm{m}}^{5} r^{2} α e^{\\left(\\frac{2 \\, r}{{\\mathrm{l}} α - 2 \\, {\\mathrm{m}}}\\right)} - 216 \\, {\\mathrm{m}}^{4} r^{3} α e^{\\left(\\frac{2 \\, r}{{\\mathrm{l}} α - 2 \\, {\\mathrm{m}}}\\right)} + 432 \\, {\\mathrm{l}} {\\mathrm{m}}^{6} α - 216 \\, {\\mathrm{l}} {\\mathrm{m}}^{5} r α - 288 \\, {\\mathrm{m}}^{6} r λ + 144 \\, {\\mathrm{m}}^{5} r^{2} λ - 288 \\, {\\mathrm{m}}^{7} + 144 \\, {\\mathrm{m}}^{6} r\\right)} \\hat{K}\\left({r_\\star}\\right)}{{\\left({\\mathrm{l}} r α λ + 3 \\, r^{2} α e^{\\left(\\frac{2 \\, r}{{\\mathrm{l}} α - 2 \\, {\\mathrm{m}}}\\right)} + 3 \\, {\\mathrm{l}} {\\mathrm{m}} α - 2 \\, {\\mathrm{m}} r λ - 6 \\, {\\mathrm{m}}^{2}\\right)}^{2} {\\left({\\mathrm{l}} α - 2 \\, {\\mathrm{m}}\\right)} r^{4}}\\)</html>"
      ],
      "text/latex": [
       "$\\displaystyle \\frac{\\partial}{\\partial {r_\\star}}\\hat{R}\\left({r_\\star}\\right) = -\\frac{{\\left({\\mathrm{l}}^{3} r^{6} α^{3} λ^{2} ω^{2} + 6 \\, {\\mathrm{l}}^{2} r^{7} α^{3} λ ω^{2} e^{\\left(\\frac{2 \\, r}{{\\mathrm{l}} α - 2 \\, {\\mathrm{m}}}\\right)} + 6 \\, {\\mathrm{l}}^{3} {\\mathrm{m}} r^{5} α^{3} λ ω^{2} - 6 \\, {\\mathrm{l}}^{2} {\\mathrm{m}} r^{6} α^{2} λ^{2} ω^{2} - 2 \\, {\\mathrm{l}}^{3} r^{4} α^{5} λ^{2} e^{\\left(\\frac{4 \\, r}{{\\mathrm{l}} α - 2 \\, {\\mathrm{m}}}\\right)} + 9 \\, {\\mathrm{l}} r^{8} α^{3} ω^{2} e^{\\left(\\frac{4 \\, r}{{\\mathrm{l}} α - 2 \\, {\\mathrm{m}}}\\right)} - 2 \\, {\\mathrm{l}}^{3} r^{4} α^{4} λ^{3} e^{\\left(\\frac{2 \\, r}{{\\mathrm{l}} α - 2 \\, {\\mathrm{m}}}\\right)} + 18 \\, {\\mathrm{l}}^{2} {\\mathrm{m}} r^{6} α^{3} ω^{2} e^{\\left(\\frac{2 \\, r}{{\\mathrm{l}} α - 2 \\, {\\mathrm{m}}}\\right)} - 24 \\, {\\mathrm{l}} {\\mathrm{m}} r^{7} α^{2} λ ω^{2} e^{\\left(\\frac{2 \\, r}{{\\mathrm{l}} α - 2 \\, {\\mathrm{m}}}\\right)} + 9 \\, {\\mathrm{l}}^{3} {\\mathrm{m}}^{2} r^{4} α^{3} ω^{2} - 36 \\, {\\mathrm{l}}^{2} {\\mathrm{m}}^{2} r^{5} α^{2} λ ω^{2} + 12 \\, {\\mathrm{l}} {\\mathrm{m}}^{2} r^{6} α λ^{2} ω^{2} - 12 \\, {\\mathrm{l}}^{2} r^{5} α^{5} λ e^{\\left(\\frac{6 \\, r}{{\\mathrm{l}} α - 2 \\, {\\mathrm{m}}}\\right)} + 12 \\, {\\mathrm{l}}^{2} {\\mathrm{m}} r^{4} α^{4} λ^{2} e^{\\left(\\frac{4 \\, r}{{\\mathrm{l}} α - 2 \\, {\\mathrm{m}}}\\right)} - 12 \\, {\\mathrm{l}}^{2} r^{5} α^{4} λ^{2} e^{\\left(\\frac{4 \\, r}{{\\mathrm{l}} α - 2 \\, {\\mathrm{m}}}\\right)} - 18 \\, {\\mathrm{m}} r^{8} α^{2} ω^{2} e^{\\left(\\frac{4 \\, r}{{\\mathrm{l}} α - 2 \\, {\\mathrm{m}}}\\right)} - 2 \\, {\\mathrm{l}}^{3} {\\mathrm{m}} r^{3} α^{4} λ^{2} e^{\\left(\\frac{2 \\, r}{{\\mathrm{l}} α - 2 \\, {\\mathrm{m}}}\\right)} - 4 \\, {\\mathrm{l}}^{3} r^{4} α^{4} λ^{2} e^{\\left(\\frac{2 \\, r}{{\\mathrm{l}} α - 2 \\, {\\mathrm{m}}}\\right)} + 12 \\, {\\mathrm{l}}^{2} {\\mathrm{m}} r^{4} α^{3} λ^{3} e^{\\left(\\frac{2 \\, r}{{\\mathrm{l}} α - 2 \\, {\\mathrm{m}}}\\right)} - 72 \\, {\\mathrm{l}} {\\mathrm{m}}^{2} r^{6} α^{2} ω^{2} e^{\\left(\\frac{2 \\, r}{{\\mathrm{l}} α - 2 \\, {\\mathrm{m}}}\\right)} + 24 \\, {\\mathrm{m}}^{2} r^{7} α λ ω^{2} e^{\\left(\\frac{2 \\, r}{{\\mathrm{l}} α - 2 \\, {\\mathrm{m}}}\\right)} + 4 \\, {\\mathrm{l}}^{3} {\\mathrm{m}} r^{3} α^{3} λ^{3} - 2 \\, {\\mathrm{l}}^{3} r^{4} α^{3} λ^{3} - 54 \\, {\\mathrm{l}}^{2} {\\mathrm{m}}^{3} r^{4} α^{2} ω^{2} + 72 \\, {\\mathrm{l}} {\\mathrm{m}}^{3} r^{5} α λ ω^{2} - 8 \\, {\\mathrm{m}}^{3} r^{6} λ^{2} ω^{2} + 48 \\, {\\mathrm{l}} {\\mathrm{m}} r^{5} α^{4} λ e^{\\left(\\frac{6 \\, r}{{\\mathrm{l}} α - 2 \\, {\\mathrm{m}}}\\right)} - 36 \\, {\\mathrm{l}} r^{6} α^{4} λ e^{\\left(\\frac{6 \\, r}{{\\mathrm{l}} α - 2 \\, {\\mathrm{m}}}\\right)} + 6 \\, {\\mathrm{l}}^{2} {\\mathrm{m}} r^{4} α^{4} λ e^{\\left(\\frac{4 \\, r}{{\\mathrm{l}} α - 2 \\, {\\mathrm{m}}}\\right)} - 24 \\, {\\mathrm{l}}^{2} r^{5} α^{4} λ e^{\\left(\\frac{4 \\, r}{{\\mathrm{l}} α - 2 \\, {\\mathrm{m}}}\\right)} - 24 \\, {\\mathrm{l}} {\\mathrm{m}}^{2} r^{4} α^{3} λ^{2} e^{\\left(\\frac{4 \\, r}{{\\mathrm{l}} α - 2 \\, {\\mathrm{m}}}\\right)} + 48 \\, {\\mathrm{l}} {\\mathrm{m}} r^{5} α^{3} λ^{2} e^{\\left(\\frac{4 \\, r}{{\\mathrm{l}} α - 2 \\, {\\mathrm{m}}}\\right)} - 2 \\, {\\mathrm{l}} r^{6} α^{3} λ^{2} e^{\\left(\\frac{4 \\, r}{{\\mathrm{l}} α - 2 \\, {\\mathrm{m}}}\\right)} - 18 \\, {\\mathrm{l}}^{3} {\\mathrm{m}}^{2} r^{2} α^{4} λ e^{\\left(\\frac{2 \\, r}{{\\mathrm{l}} α - 2 \\, {\\mathrm{m}}}\\right)} + 12 \\, {\\mathrm{l}}^{2} {\\mathrm{m}}^{2} r^{3} α^{3} λ^{2} e^{\\left(\\frac{2 \\, r}{{\\mathrm{l}} α - 2 \\, {\\mathrm{m}}}\\right)} + 48 \\, {\\mathrm{l}}^{2} {\\mathrm{m}} r^{4} α^{3} λ^{2} e^{\\left(\\frac{2 \\, r}{{\\mathrm{l}} α - 2 \\, {\\mathrm{m}}}\\right)} - 12 \\, {\\mathrm{l}}^{2} r^{5} α^{3} λ^{2} e^{\\left(\\frac{2 \\, r}{{\\mathrm{l}} α - 2 \\, {\\mathrm{m}}}\\right)} - 24 \\, {\\mathrm{l}} {\\mathrm{m}}^{2} r^{4} α^{2} λ^{3} e^{\\left(\\frac{2 \\, r}{{\\mathrm{l}} α - 2 \\, {\\mathrm{m}}}\\right)} + 72 \\, {\\mathrm{m}}^{3} r^{6} α ω^{2} e^{\\left(\\frac{2 \\, r}{{\\mathrm{l}} α - 2 \\, {\\mathrm{m}}}\\right)} + 12 \\, {\\mathrm{l}}^{3} {\\mathrm{m}}^{2} r^{2} α^{3} λ^{2} - 2 \\, {\\mathrm{l}}^{3} {\\mathrm{m}} r^{3} α^{3} λ^{2} - 2 \\, {\\mathrm{l}}^{3} r^{4} α^{3} λ^{2} - 24 \\, {\\mathrm{l}}^{2} {\\mathrm{m}}^{2} r^{3} α^{2} λ^{3} + 12 \\, {\\mathrm{l}}^{2} {\\mathrm{m}} r^{4} α^{2} λ^{3} + 108 \\, {\\mathrm{l}} {\\mathrm{m}}^{4} r^{4} α ω^{2} - 48 \\, {\\mathrm{m}}^{4} r^{5} λ ω^{2} - 18 \\, r^{7} α^{4} e^{\\left(\\frac{8 \\, r}{{\\mathrm{l}} α - 2 \\, {\\mathrm{m}}}\\right)} - 54 \\, {\\mathrm{l}} {\\mathrm{m}} r^{5} α^{4} e^{\\left(\\frac{6 \\, r}{{\\mathrm{l}} α - 2 \\, {\\mathrm{m}}}\\right)} - 48 \\, {\\mathrm{m}}^{2} r^{5} α^{3} λ e^{\\left(\\frac{6 \\, r}{{\\mathrm{l}} α - 2 \\, {\\mathrm{m}}}\\right)} + 72 \\, {\\mathrm{m}} r^{6} α^{3} λ e^{\\left(\\frac{6 \\, r}{{\\mathrm{l}} α - 2 \\, {\\mathrm{m}}}\\right)} - 6 \\, r^{7} α^{3} λ e^{\\left(\\frac{6 \\, r}{{\\mathrm{l}} α - 2 \\, {\\mathrm{m}}}\\right)} - 54 \\, {\\mathrm{l}}^{2} {\\mathrm{m}}^{2} r^{3} α^{4} e^{\\left(\\frac{4 \\, r}{{\\mathrm{l}} α - 2 \\, {\\mathrm{m}}}\\right)} - 24 \\, {\\mathrm{l}} {\\mathrm{m}}^{2} r^{4} α^{3} λ e^{\\left(\\frac{4 \\, r}{{\\mathrm{l}} α - 2 \\, {\\mathrm{m}}}\\right)} + 186 \\, {\\mathrm{l}} {\\mathrm{m}} r^{5} α^{3} λ e^{\\left(\\frac{4 \\, r}{{\\mathrm{l}} α - 2 \\, {\\mathrm{m}}}\\right)} - 48 \\, {\\mathrm{l}} r^{6} α^{3} λ e^{\\left(\\frac{4 \\, r}{{\\mathrm{l}} α - 2 \\, {\\mathrm{m}}}\\right)} + 16 \\, {\\mathrm{m}}^{3} r^{4} α^{2} λ^{2} e^{\\left(\\frac{4 \\, r}{{\\mathrm{l}} α - 2 \\, {\\mathrm{m}}}\\right)} - 48 \\, {\\mathrm{m}}^{2} r^{5} α^{2} λ^{2} e^{\\left(\\frac{4 \\, r}{{\\mathrm{l}} α - 2 \\, {\\mathrm{m}}}\\right)} + 4 \\, {\\mathrm{m}} r^{6} α^{2} λ^{2} e^{\\left(\\frac{4 \\, r}{{\\mathrm{l}} α - 2 \\, {\\mathrm{m}}}\\right)} - 18 \\, {\\mathrm{l}}^{3} {\\mathrm{m}}^{3} r α^{4} e^{\\left(\\frac{2 \\, r}{{\\mathrm{l}} α - 2 \\, {\\mathrm{m}}}\\right)} + 108 \\, {\\mathrm{l}}^{2} {\\mathrm{m}}^{3} r^{2} α^{3} λ e^{\\left(\\frac{2 \\, r}{{\\mathrm{l}} α - 2 \\, {\\mathrm{m}}}\\right)} + 36 \\, {\\mathrm{l}}^{2} {\\mathrm{m}}^{2} r^{3} α^{3} λ e^{\\left(\\frac{2 \\, r}{{\\mathrm{l}} α - 2 \\, {\\mathrm{m}}}\\right)} + 6 \\, {\\mathrm{l}}^{2} {\\mathrm{m}} r^{4} α^{3} λ e^{\\left(\\frac{2 \\, r}{{\\mathrm{l}} α - 2 \\, {\\mathrm{m}}}\\right)} - 12 \\, {\\mathrm{l}}^{2} r^{5} α^{3} λ e^{\\left(\\frac{2 \\, r}{{\\mathrm{l}} α - 2 \\, {\\mathrm{m}}}\\right)} - 24 \\, {\\mathrm{l}} {\\mathrm{m}}^{3} r^{3} α^{2} λ^{2} e^{\\left(\\frac{2 \\, r}{{\\mathrm{l}} α - 2 \\, {\\mathrm{m}}}\\right)} - 144 \\, {\\mathrm{l}} {\\mathrm{m}}^{2} r^{4} α^{2} λ^{2} e^{\\left(\\frac{2 \\, r}{{\\mathrm{l}} α - 2 \\, {\\mathrm{m}}}\\right)} + 52 \\, {\\mathrm{l}} {\\mathrm{m}} r^{5} α^{2} λ^{2} e^{\\left(\\frac{2 \\, r}{{\\mathrm{l}} α - 2 \\, {\\mathrm{m}}}\\right)} - 2 \\, {\\mathrm{l}} r^{6} α^{2} λ^{2} e^{\\left(\\frac{2 \\, r}{{\\mathrm{l}} α - 2 \\, {\\mathrm{m}}}\\right)} + 16 \\, {\\mathrm{m}}^{3} r^{4} α λ^{3} e^{\\left(\\frac{2 \\, r}{{\\mathrm{l}} α - 2 \\, {\\mathrm{m}}}\\right)} + 36 \\, {\\mathrm{l}}^{3} {\\mathrm{m}}^{3} r α^{3} λ - 18 \\, {\\mathrm{l}}^{3} {\\mathrm{m}}^{2} r^{2} α^{3} λ - 72 \\, {\\mathrm{l}}^{2} {\\mathrm{m}}^{3} r^{2} α^{2} λ^{2} + 12 \\, {\\mathrm{l}}^{2} {\\mathrm{m}}^{2} r^{3} α^{2} λ^{2} + 12 \\, {\\mathrm{l}}^{2} {\\mathrm{m}} r^{4} α^{2} λ^{2} + 48 \\, {\\mathrm{l}} {\\mathrm{m}}^{3} r^{3} α λ^{3} - 24 \\, {\\mathrm{l}} {\\mathrm{m}}^{2} r^{4} α λ^{3} - 72 \\, {\\mathrm{m}}^{5} r^{4} ω^{2} + 108 \\, {\\mathrm{m}}^{2} r^{5} α^{3} e^{\\left(\\frac{6 \\, r}{{\\mathrm{l}} α - 2 \\, {\\mathrm{m}}}\\right)} + 36 \\, {\\mathrm{m}} r^{6} α^{3} e^{\\left(\\frac{6 \\, r}{{\\mathrm{l}} α - 2 \\, {\\mathrm{m}}}\\right)} - 18 \\, r^{7} α^{3} e^{\\left(\\frac{6 \\, r}{{\\mathrm{l}} α - 2 \\, {\\mathrm{m}}}\\right)} + 216 \\, {\\mathrm{l}} {\\mathrm{m}}^{3} r^{3} α^{3} e^{\\left(\\frac{4 \\, r}{{\\mathrm{l}} α - 2 \\, {\\mathrm{m}}}\\right)} + 108 \\, {\\mathrm{l}} {\\mathrm{m}}^{2} r^{4} α^{3} e^{\\left(\\frac{4 \\, r}{{\\mathrm{l}} α - 2 \\, {\\mathrm{m}}}\\right)} - 54 \\, {\\mathrm{l}} {\\mathrm{m}} r^{5} α^{3} e^{\\left(\\frac{4 \\, r}{{\\mathrm{l}} α - 2 \\, {\\mathrm{m}}}\\right)} + 24 \\, {\\mathrm{m}}^{3} r^{4} α^{2} λ e^{\\left(\\frac{4 \\, r}{{\\mathrm{l}} α - 2 \\, {\\mathrm{m}}}\\right)} - 276 \\, {\\mathrm{m}}^{2} r^{5} α^{2} λ e^{\\left(\\frac{4 \\, r}{{\\mathrm{l}} α - 2 \\, {\\mathrm{m}}}\\right)} + 108 \\, {\\mathrm{m}} r^{6} α^{2} λ e^{\\left(\\frac{4 \\, r}{{\\mathrm{l}} α - 2 \\, {\\mathrm{m}}}\\right)} - 6 \\, r^{7} α^{2} λ e^{\\left(\\frac{4 \\, r}{{\\mathrm{l}} α - 2 \\, {\\mathrm{m}}}\\right)} + 108 \\, {\\mathrm{l}}^{2} {\\mathrm{m}}^{4} r α^{3} e^{\\left(\\frac{2 \\, r}{{\\mathrm{l}} α - 2 \\, {\\mathrm{m}}}\\right)} + 108 \\, {\\mathrm{l}}^{2} {\\mathrm{m}}^{3} r^{2} α^{3} e^{\\left(\\frac{2 \\, r}{{\\mathrm{l}} α - 2 \\, {\\mathrm{m}}}\\right)} - 54 \\, {\\mathrm{l}}^{2} {\\mathrm{m}}^{2} r^{3} α^{3} e^{\\left(\\frac{2 \\, r}{{\\mathrm{l}} α - 2 \\, {\\mathrm{m}}}\\right)} - 216 \\, {\\mathrm{l}} {\\mathrm{m}}^{4} r^{2} α^{2} λ e^{\\left(\\frac{2 \\, r}{{\\mathrm{l}} α - 2 \\, {\\mathrm{m}}}\\right)} - 144 \\, {\\mathrm{l}} {\\mathrm{m}}^{3} r^{3} α^{2} λ e^{\\left(\\frac{2 \\, r}{{\\mathrm{l}} α - 2 \\, {\\mathrm{m}}}\\right)} - 60 \\, {\\mathrm{l}} {\\mathrm{m}}^{2} r^{4} α^{2} λ e^{\\left(\\frac{2 \\, r}{{\\mathrm{l}} α - 2 \\, {\\mathrm{m}}}\\right)} + 90 \\, {\\mathrm{l}} {\\mathrm{m}} r^{5} α^{2} λ e^{\\left(\\frac{2 \\, r}{{\\mathrm{l}} α - 2 \\, {\\mathrm{m}}}\\right)} - 12 \\, {\\mathrm{l}} r^{6} α^{2} λ e^{\\left(\\frac{2 \\, r}{{\\mathrm{l}} α - 2 \\, {\\mathrm{m}}}\\right)} + 16 \\, {\\mathrm{m}}^{4} r^{3} α λ^{2} e^{\\left(\\frac{2 \\, r}{{\\mathrm{l}} α - 2 \\, {\\mathrm{m}}}\\right)} + 128 \\, {\\mathrm{m}}^{3} r^{4} α λ^{2} e^{\\left(\\frac{2 \\, r}{{\\mathrm{l}} α - 2 \\, {\\mathrm{m}}}\\right)} - 56 \\, {\\mathrm{m}}^{2} r^{5} α λ^{2} e^{\\left(\\frac{2 \\, r}{{\\mathrm{l}} α - 2 \\, {\\mathrm{m}}}\\right)} + 4 \\, {\\mathrm{m}} r^{6} α λ^{2} e^{\\left(\\frac{2 \\, r}{{\\mathrm{l}} α - 2 \\, {\\mathrm{m}}}\\right)} + 36 \\, {\\mathrm{l}}^{3} {\\mathrm{m}}^{4} α^{3} - 18 \\, {\\mathrm{l}}^{3} {\\mathrm{m}}^{3} r α^{3} - 216 \\, {\\mathrm{l}}^{2} {\\mathrm{m}}^{4} r α^{2} λ + 108 \\, {\\mathrm{l}}^{2} {\\mathrm{m}}^{3} r^{2} α^{2} λ + 144 \\, {\\mathrm{l}} {\\mathrm{m}}^{4} r^{2} α λ^{2} - 24 \\, {\\mathrm{l}} {\\mathrm{m}}^{3} r^{3} α λ^{2} - 24 \\, {\\mathrm{l}} {\\mathrm{m}}^{2} r^{4} α λ^{2} - 32 \\, {\\mathrm{m}}^{4} r^{3} λ^{3} + 16 \\, {\\mathrm{m}}^{3} r^{4} λ^{3} - 216 \\, {\\mathrm{m}}^{4} r^{3} α^{2} e^{\\left(\\frac{4 \\, r}{{\\mathrm{l}} α - 2 \\, {\\mathrm{m}}}\\right)} - 216 \\, {\\mathrm{m}}^{3} r^{4} α^{2} e^{\\left(\\frac{4 \\, r}{{\\mathrm{l}} α - 2 \\, {\\mathrm{m}}}\\right)} + 108 \\, {\\mathrm{m}}^{2} r^{5} α^{2} e^{\\left(\\frac{4 \\, r}{{\\mathrm{l}} α - 2 \\, {\\mathrm{m}}}\\right)} - 216 \\, {\\mathrm{l}} {\\mathrm{m}}^{5} r α^{2} e^{\\left(\\frac{2 \\, r}{{\\mathrm{l}} α - 2 \\, {\\mathrm{m}}}\\right)} - 432 \\, {\\mathrm{l}} {\\mathrm{m}}^{4} r^{2} α^{2} e^{\\left(\\frac{2 \\, r}{{\\mathrm{l}} α - 2 \\, {\\mathrm{m}}}\\right)} + 216 \\, {\\mathrm{l}} {\\mathrm{m}}^{3} r^{3} α^{2} e^{\\left(\\frac{2 \\, r}{{\\mathrm{l}} α - 2 \\, {\\mathrm{m}}}\\right)} + 144 \\, {\\mathrm{m}}^{5} r^{2} α λ e^{\\left(\\frac{2 \\, r}{{\\mathrm{l}} α - 2 \\, {\\mathrm{m}}}\\right)} + 144 \\, {\\mathrm{m}}^{4} r^{3} α λ e^{\\left(\\frac{2 \\, r}{{\\mathrm{l}} α - 2 \\, {\\mathrm{m}}}\\right)} + 96 \\, {\\mathrm{m}}^{3} r^{4} α λ e^{\\left(\\frac{2 \\, r}{{\\mathrm{l}} α - 2 \\, {\\mathrm{m}}}\\right)} - 132 \\, {\\mathrm{m}}^{2} r^{5} α λ e^{\\left(\\frac{2 \\, r}{{\\mathrm{l}} α - 2 \\, {\\mathrm{m}}}\\right)} + 24 \\, {\\mathrm{m}} r^{6} α λ e^{\\left(\\frac{2 \\, r}{{\\mathrm{l}} α - 2 \\, {\\mathrm{m}}}\\right)} - 216 \\, {\\mathrm{l}}^{2} {\\mathrm{m}}^{5} α^{2} + 108 \\, {\\mathrm{l}}^{2} {\\mathrm{m}}^{4} r α^{2} + 432 \\, {\\mathrm{l}} {\\mathrm{m}}^{5} r α λ - 216 \\, {\\mathrm{l}} {\\mathrm{m}}^{4} r^{2} α λ - 96 \\, {\\mathrm{m}}^{5} r^{2} λ^{2} + 16 \\, {\\mathrm{m}}^{4} r^{3} λ^{2} + 16 \\, {\\mathrm{m}}^{3} r^{4} λ^{2} + 144 \\, {\\mathrm{m}}^{6} r α e^{\\left(\\frac{2 \\, r}{{\\mathrm{l}} α - 2 \\, {\\mathrm{m}}}\\right)} + 432 \\, {\\mathrm{m}}^{5} r^{2} α e^{\\left(\\frac{2 \\, r}{{\\mathrm{l}} α - 2 \\, {\\mathrm{m}}}\\right)} - 216 \\, {\\mathrm{m}}^{4} r^{3} α e^{\\left(\\frac{2 \\, r}{{\\mathrm{l}} α - 2 \\, {\\mathrm{m}}}\\right)} + 432 \\, {\\mathrm{l}} {\\mathrm{m}}^{6} α - 216 \\, {\\mathrm{l}} {\\mathrm{m}}^{5} r α - 288 \\, {\\mathrm{m}}^{6} r λ + 144 \\, {\\mathrm{m}}^{5} r^{2} λ - 288 \\, {\\mathrm{m}}^{7} + 144 \\, {\\mathrm{m}}^{6} r\\right)} \\hat{K}\\left({r_\\star}\\right)}{{\\left({\\mathrm{l}} r α λ + 3 \\, r^{2} α e^{\\left(\\frac{2 \\, r}{{\\mathrm{l}} α - 2 \\, {\\mathrm{m}}}\\right)} + 3 \\, {\\mathrm{l}} {\\mathrm{m}} α - 2 \\, {\\mathrm{m}} r λ - 6 \\, {\\mathrm{m}}^{2}\\right)}^{2} {\\left({\\mathrm{l}} α - 2 \\, {\\mathrm{m}}\\right)} r^{4}}$"
      ],
      "text/plain": [
       "diff(RhT(rT), rT) == -(lc^3*r^6*α^3*λ^2*ω^2 + 6*lc^2*r^7*α^3*λ*ω^2*e^(2*r/(lc*α - 2*mc)) + 6*lc^3*mc*r^5*α^3*λ*ω^2 - 6*lc^2*mc*r^6*α^2*λ^2*ω^2 - 2*lc^3*r^4*α^5*λ^2*e^(4*r/(lc*α - 2*mc)) + 9*lc*r^8*α^3*ω^2*e^(4*r/(lc*α - 2*mc)) - 2*lc^3*r^4*α^4*λ^3*e^(2*r/(lc*α - 2*mc)) + 18*lc^2*mc*r^6*α^3*ω^2*e^(2*r/(lc*α - 2*mc)) - 24*lc*mc*r^7*α^2*λ*ω^2*e^(2*r/(lc*α - 2*mc)) + 9*lc^3*mc^2*r^4*α^3*ω^2 - 36*lc^2*mc^2*r^5*α^2*λ*ω^2 + 12*lc*mc^2*r^6*α*λ^2*ω^2 - 12*lc^2*r^5*α^5*λ*e^(6*r/(lc*α - 2*mc)) + 12*lc^2*mc*r^4*α^4*λ^2*e^(4*r/(lc*α - 2*mc)) - 12*lc^2*r^5*α^4*λ^2*e^(4*r/(lc*α - 2*mc)) - 18*mc*r^8*α^2*ω^2*e^(4*r/(lc*α - 2*mc)) - 2*lc^3*mc*r^3*α^4*λ^2*e^(2*r/(lc*α - 2*mc)) - 4*lc^3*r^4*α^4*λ^2*e^(2*r/(lc*α - 2*mc)) + 12*lc^2*mc*r^4*α^3*λ^3*e^(2*r/(lc*α - 2*mc)) - 72*lc*mc^2*r^6*α^2*ω^2*e^(2*r/(lc*α - 2*mc)) + 24*mc^2*r^7*α*λ*ω^2*e^(2*r/(lc*α - 2*mc)) + 4*lc^3*mc*r^3*α^3*λ^3 - 2*lc^3*r^4*α^3*λ^3 - 54*lc^2*mc^3*r^4*α^2*ω^2 + 72*lc*mc^3*r^5*α*λ*ω^2 - 8*mc^3*r^6*λ^2*ω^2 + 48*lc*mc*r^5*α^4*λ*e^(6*r/(lc*α - 2*mc)) - 36*lc*r^6*α^4*λ*e^(6*r/(lc*α - 2*mc)) + 6*lc^2*mc*r^4*α^4*λ*e^(4*r/(lc*α - 2*mc)) - 24*lc^2*r^5*α^4*λ*e^(4*r/(lc*α - 2*mc)) - 24*lc*mc^2*r^4*α^3*λ^2*e^(4*r/(lc*α - 2*mc)) + 48*lc*mc*r^5*α^3*λ^2*e^(4*r/(lc*α - 2*mc)) - 2*lc*r^6*α^3*λ^2*e^(4*r/(lc*α - 2*mc)) - 18*lc^3*mc^2*r^2*α^4*λ*e^(2*r/(lc*α - 2*mc)) + 12*lc^2*mc^2*r^3*α^3*λ^2*e^(2*r/(lc*α - 2*mc)) + 48*lc^2*mc*r^4*α^3*λ^2*e^(2*r/(lc*α - 2*mc)) - 12*lc^2*r^5*α^3*λ^2*e^(2*r/(lc*α - 2*mc)) - 24*lc*mc^2*r^4*α^2*λ^3*e^(2*r/(lc*α - 2*mc)) + 72*mc^3*r^6*α*ω^2*e^(2*r/(lc*α - 2*mc)) + 12*lc^3*mc^2*r^2*α^3*λ^2 - 2*lc^3*mc*r^3*α^3*λ^2 - 2*lc^3*r^4*α^3*λ^2 - 24*lc^2*mc^2*r^3*α^2*λ^3 + 12*lc^2*mc*r^4*α^2*λ^3 + 108*lc*mc^4*r^4*α*ω^2 - 48*mc^4*r^5*λ*ω^2 - 18*r^7*α^4*e^(8*r/(lc*α - 2*mc)) - 54*lc*mc*r^5*α^4*e^(6*r/(lc*α - 2*mc)) - 48*mc^2*r^5*α^3*λ*e^(6*r/(lc*α - 2*mc)) + 72*mc*r^6*α^3*λ*e^(6*r/(lc*α - 2*mc)) - 6*r^7*α^3*λ*e^(6*r/(lc*α - 2*mc)) - 54*lc^2*mc^2*r^3*α^4*e^(4*r/(lc*α - 2*mc)) - 24*lc*mc^2*r^4*α^3*λ*e^(4*r/(lc*α - 2*mc)) + 186*lc*mc*r^5*α^3*λ*e^(4*r/(lc*α - 2*mc)) - 48*lc*r^6*α^3*λ*e^(4*r/(lc*α - 2*mc)) + 16*mc^3*r^4*α^2*λ^2*e^(4*r/(lc*α - 2*mc)) - 48*mc^2*r^5*α^2*λ^2*e^(4*r/(lc*α - 2*mc)) + 4*mc*r^6*α^2*λ^2*e^(4*r/(lc*α - 2*mc)) - 18*lc^3*mc^3*r*α^4*e^(2*r/(lc*α - 2*mc)) + 108*lc^2*mc^3*r^2*α^3*λ*e^(2*r/(lc*α - 2*mc)) + 36*lc^2*mc^2*r^3*α^3*λ*e^(2*r/(lc*α - 2*mc)) + 6*lc^2*mc*r^4*α^3*λ*e^(2*r/(lc*α - 2*mc)) - 12*lc^2*r^5*α^3*λ*e^(2*r/(lc*α - 2*mc)) - 24*lc*mc^3*r^3*α^2*λ^2*e^(2*r/(lc*α - 2*mc)) - 144*lc*mc^2*r^4*α^2*λ^2*e^(2*r/(lc*α - 2*mc)) + 52*lc*mc*r^5*α^2*λ^2*e^(2*r/(lc*α - 2*mc)) - 2*lc*r^6*α^2*λ^2*e^(2*r/(lc*α - 2*mc)) + 16*mc^3*r^4*α*λ^3*e^(2*r/(lc*α - 2*mc)) + 36*lc^3*mc^3*r*α^3*λ - 18*lc^3*mc^2*r^2*α^3*λ - 72*lc^2*mc^3*r^2*α^2*λ^2 + 12*lc^2*mc^2*r^3*α^2*λ^2 + 12*lc^2*mc*r^4*α^2*λ^2 + 48*lc*mc^3*r^3*α*λ^3 - 24*lc*mc^2*r^4*α*λ^3 - 72*mc^5*r^4*ω^2 + 108*mc^2*r^5*α^3*e^(6*r/(lc*α - 2*mc)) + 36*mc*r^6*α^3*e^(6*r/(lc*α - 2*mc)) - 18*r^7*α^3*e^(6*r/(lc*α - 2*mc)) + 216*lc*mc^3*r^3*α^3*e^(4*r/(lc*α - 2*mc)) + 108*lc*mc^2*r^4*α^3*e^(4*r/(lc*α - 2*mc)) - 54*lc*mc*r^5*α^3*e^(4*r/(lc*α - 2*mc)) + 24*mc^3*r^4*α^2*λ*e^(4*r/(lc*α - 2*mc)) - 276*mc^2*r^5*α^2*λ*e^(4*r/(lc*α - 2*mc)) + 108*mc*r^6*α^2*λ*e^(4*r/(lc*α - 2*mc)) - 6*r^7*α^2*λ*e^(4*r/(lc*α - 2*mc)) + 108*lc^2*mc^4*r*α^3*e^(2*r/(lc*α - 2*mc)) + 108*lc^2*mc^3*r^2*α^3*e^(2*r/(lc*α - 2*mc)) - 54*lc^2*mc^2*r^3*α^3*e^(2*r/(lc*α - 2*mc)) - 216*lc*mc^4*r^2*α^2*λ*e^(2*r/(lc*α - 2*mc)) - 144*lc*mc^3*r^3*α^2*λ*e^(2*r/(lc*α - 2*mc)) - 60*lc*mc^2*r^4*α^2*λ*e^(2*r/(lc*α - 2*mc)) + 90*lc*mc*r^5*α^2*λ*e^(2*r/(lc*α - 2*mc)) - 12*lc*r^6*α^2*λ*e^(2*r/(lc*α - 2*mc)) + 16*mc^4*r^3*α*λ^2*e^(2*r/(lc*α - 2*mc)) + 128*mc^3*r^4*α*λ^2*e^(2*r/(lc*α - 2*mc)) - 56*mc^2*r^5*α*λ^2*e^(2*r/(lc*α - 2*mc)) + 4*mc*r^6*α*λ^2*e^(2*r/(lc*α - 2*mc)) + 36*lc^3*mc^4*α^3 - 18*lc^3*mc^3*r*α^3 - 216*lc^2*mc^4*r*α^2*λ + 108*lc^2*mc^3*r^2*α^2*λ + 144*lc*mc^4*r^2*α*λ^2 - 24*lc*mc^3*r^3*α*λ^2 - 24*lc*mc^2*r^4*α*λ^2 - 32*mc^4*r^3*λ^3 + 16*mc^3*r^4*λ^3 - 216*mc^4*r^3*α^2*e^(4*r/(lc*α - 2*mc)) - 216*mc^3*r^4*α^2*e^(4*r/(lc*α - 2*mc)) + 108*mc^2*r^5*α^2*e^(4*r/(lc*α - 2*mc)) - 216*lc*mc^5*r*α^2*e^(2*r/(lc*α - 2*mc)) - 432*lc*mc^4*r^2*α^2*e^(2*r/(lc*α - 2*mc)) + 216*lc*mc^3*r^3*α^2*e^(2*r/(lc*α - 2*mc)) + 144*mc^5*r^2*α*λ*e^(2*r/(lc*α - 2*mc)) + 144*mc^4*r^3*α*λ*e^(2*r/(lc*α - 2*mc)) + 96*mc^3*r^4*α*λ*e^(2*r/(lc*α - 2*mc)) - 132*mc^2*r^5*α*λ*e^(2*r/(lc*α - 2*mc)) + 24*mc*r^6*α*λ*e^(2*r/(lc*α - 2*mc)) - 216*lc^2*mc^5*α^2 + 108*lc^2*mc^4*r*α^2 + 432*lc*mc^5*r*α*λ - 216*lc*mc^4*r^2*α*λ - 96*mc^5*r^2*λ^2 + 16*mc^4*r^3*λ^2 + 16*mc^3*r^4*λ^2 + 144*mc^6*r*α*e^(2*r/(lc*α - 2*mc)) + 432*mc^5*r^2*α*e^(2*r/(lc*α - 2*mc)) - 216*mc^4*r^3*α*e^(2*r/(lc*α - 2*mc)) + 432*lc*mc^6*α - 216*lc*mc^5*r*α - 288*mc^6*r*λ + 144*mc^5*r^2*λ - 288*mc^7 + 144*mc^6*r)*KhT(rT)/((lc*r*α*λ + 3*r^2*α*e^(2*r/(lc*α - 2*mc)) + 3*lc*mc*α - 2*mc*r*λ - 6*mc^2)^2*(lc*α - 2*mc)*r^4)"
      ]
     },
     "execution_count": 228,
     "metadata": {},
     "output_type": "execute_result"
    }
   ],
   "source": [
    "Zeqsol1_Rh.subs(backg).subs({ll : 2*(λ+1)}).factor()"
   ]
  },
  {
   "cell_type": "code",
   "execution_count": 229,
   "metadata": {},
   "outputs": [],
   "source": [
    "Zeqs_subs = {diff(RhT(rT), rT) : Zeqs[1].rhs()}"
   ]
  },
  {
   "cell_type": "code",
   "execution_count": 230,
   "metadata": {},
   "outputs": [
    {
     "data": {
      "text/html": [
       "<html>\\(\\displaystyle \\left\\{\\frac{\\partial}{\\partial {r_\\star}}\\hat{R}\\left({r_\\star}\\right) : -\\frac{{\\left({\\mathrm{l}}^{3} r^{6} α^{3} λ^{2} ω^{2} + 6 \\, {\\mathrm{l}}^{2} r^{7} α^{3} λ ω^{2} e^{\\left(\\frac{2 \\, r}{{\\mathrm{l}} α - 2 \\, {\\mathrm{m}}}\\right)} + 6 \\, {\\mathrm{l}}^{3} {\\mathrm{m}} r^{5} α^{3} λ ω^{2} - 6 \\, {\\mathrm{l}}^{2} {\\mathrm{m}} r^{6} α^{2} λ^{2} ω^{2} - 2 \\, {\\mathrm{l}}^{3} r^{4} α^{5} λ^{2} e^{\\left(\\frac{4 \\, r}{{\\mathrm{l}} α - 2 \\, {\\mathrm{m}}}\\right)} + 9 \\, {\\mathrm{l}} r^{8} α^{3} ω^{2} e^{\\left(\\frac{4 \\, r}{{\\mathrm{l}} α - 2 \\, {\\mathrm{m}}}\\right)} - 2 \\, {\\mathrm{l}}^{3} r^{4} α^{4} λ^{3} e^{\\left(\\frac{2 \\, r}{{\\mathrm{l}} α - 2 \\, {\\mathrm{m}}}\\right)} + 18 \\, {\\mathrm{l}}^{2} {\\mathrm{m}} r^{6} α^{3} ω^{2} e^{\\left(\\frac{2 \\, r}{{\\mathrm{l}} α - 2 \\, {\\mathrm{m}}}\\right)} - 24 \\, {\\mathrm{l}} {\\mathrm{m}} r^{7} α^{2} λ ω^{2} e^{\\left(\\frac{2 \\, r}{{\\mathrm{l}} α - 2 \\, {\\mathrm{m}}}\\right)} + 9 \\, {\\mathrm{l}}^{3} {\\mathrm{m}}^{2} r^{4} α^{3} ω^{2} - 36 \\, {\\mathrm{l}}^{2} {\\mathrm{m}}^{2} r^{5} α^{2} λ ω^{2} + 12 \\, {\\mathrm{l}} {\\mathrm{m}}^{2} r^{6} α λ^{2} ω^{2} - 12 \\, {\\mathrm{l}}^{2} r^{5} α^{5} λ e^{\\left(\\frac{6 \\, r}{{\\mathrm{l}} α - 2 \\, {\\mathrm{m}}}\\right)} + 12 \\, {\\mathrm{l}}^{2} {\\mathrm{m}} r^{4} α^{4} λ^{2} e^{\\left(\\frac{4 \\, r}{{\\mathrm{l}} α - 2 \\, {\\mathrm{m}}}\\right)} - 12 \\, {\\mathrm{l}}^{2} r^{5} α^{4} λ^{2} e^{\\left(\\frac{4 \\, r}{{\\mathrm{l}} α - 2 \\, {\\mathrm{m}}}\\right)} - 18 \\, {\\mathrm{m}} r^{8} α^{2} ω^{2} e^{\\left(\\frac{4 \\, r}{{\\mathrm{l}} α - 2 \\, {\\mathrm{m}}}\\right)} - 2 \\, {\\mathrm{l}}^{3} {\\mathrm{m}} r^{3} α^{4} λ^{2} e^{\\left(\\frac{2 \\, r}{{\\mathrm{l}} α - 2 \\, {\\mathrm{m}}}\\right)} - 4 \\, {\\mathrm{l}}^{3} r^{4} α^{4} λ^{2} e^{\\left(\\frac{2 \\, r}{{\\mathrm{l}} α - 2 \\, {\\mathrm{m}}}\\right)} + 12 \\, {\\mathrm{l}}^{2} {\\mathrm{m}} r^{4} α^{3} λ^{3} e^{\\left(\\frac{2 \\, r}{{\\mathrm{l}} α - 2 \\, {\\mathrm{m}}}\\right)} - 72 \\, {\\mathrm{l}} {\\mathrm{m}}^{2} r^{6} α^{2} ω^{2} e^{\\left(\\frac{2 \\, r}{{\\mathrm{l}} α - 2 \\, {\\mathrm{m}}}\\right)} + 24 \\, {\\mathrm{m}}^{2} r^{7} α λ ω^{2} e^{\\left(\\frac{2 \\, r}{{\\mathrm{l}} α - 2 \\, {\\mathrm{m}}}\\right)} + 4 \\, {\\mathrm{l}}^{3} {\\mathrm{m}} r^{3} α^{3} λ^{3} - 2 \\, {\\mathrm{l}}^{3} r^{4} α^{3} λ^{3} - 54 \\, {\\mathrm{l}}^{2} {\\mathrm{m}}^{3} r^{4} α^{2} ω^{2} + 72 \\, {\\mathrm{l}} {\\mathrm{m}}^{3} r^{5} α λ ω^{2} - 8 \\, {\\mathrm{m}}^{3} r^{6} λ^{2} ω^{2} + 48 \\, {\\mathrm{l}} {\\mathrm{m}} r^{5} α^{4} λ e^{\\left(\\frac{6 \\, r}{{\\mathrm{l}} α - 2 \\, {\\mathrm{m}}}\\right)} - 36 \\, {\\mathrm{l}} r^{6} α^{4} λ e^{\\left(\\frac{6 \\, r}{{\\mathrm{l}} α - 2 \\, {\\mathrm{m}}}\\right)} + 6 \\, {\\mathrm{l}}^{2} {\\mathrm{m}} r^{4} α^{4} λ e^{\\left(\\frac{4 \\, r}{{\\mathrm{l}} α - 2 \\, {\\mathrm{m}}}\\right)} - 24 \\, {\\mathrm{l}}^{2} r^{5} α^{4} λ e^{\\left(\\frac{4 \\, r}{{\\mathrm{l}} α - 2 \\, {\\mathrm{m}}}\\right)} - 24 \\, {\\mathrm{l}} {\\mathrm{m}}^{2} r^{4} α^{3} λ^{2} e^{\\left(\\frac{4 \\, r}{{\\mathrm{l}} α - 2 \\, {\\mathrm{m}}}\\right)} + 48 \\, {\\mathrm{l}} {\\mathrm{m}} r^{5} α^{3} λ^{2} e^{\\left(\\frac{4 \\, r}{{\\mathrm{l}} α - 2 \\, {\\mathrm{m}}}\\right)} - 2 \\, {\\mathrm{l}} r^{6} α^{3} λ^{2} e^{\\left(\\frac{4 \\, r}{{\\mathrm{l}} α - 2 \\, {\\mathrm{m}}}\\right)} - 18 \\, {\\mathrm{l}}^{3} {\\mathrm{m}}^{2} r^{2} α^{4} λ e^{\\left(\\frac{2 \\, r}{{\\mathrm{l}} α - 2 \\, {\\mathrm{m}}}\\right)} + 12 \\, {\\mathrm{l}}^{2} {\\mathrm{m}}^{2} r^{3} α^{3} λ^{2} e^{\\left(\\frac{2 \\, r}{{\\mathrm{l}} α - 2 \\, {\\mathrm{m}}}\\right)} + 48 \\, {\\mathrm{l}}^{2} {\\mathrm{m}} r^{4} α^{3} λ^{2} e^{\\left(\\frac{2 \\, r}{{\\mathrm{l}} α - 2 \\, {\\mathrm{m}}}\\right)} - 12 \\, {\\mathrm{l}}^{2} r^{5} α^{3} λ^{2} e^{\\left(\\frac{2 \\, r}{{\\mathrm{l}} α - 2 \\, {\\mathrm{m}}}\\right)} - 24 \\, {\\mathrm{l}} {\\mathrm{m}}^{2} r^{4} α^{2} λ^{3} e^{\\left(\\frac{2 \\, r}{{\\mathrm{l}} α - 2 \\, {\\mathrm{m}}}\\right)} + 72 \\, {\\mathrm{m}}^{3} r^{6} α ω^{2} e^{\\left(\\frac{2 \\, r}{{\\mathrm{l}} α - 2 \\, {\\mathrm{m}}}\\right)} + 12 \\, {\\mathrm{l}}^{3} {\\mathrm{m}}^{2} r^{2} α^{3} λ^{2} - 2 \\, {\\mathrm{l}}^{3} {\\mathrm{m}} r^{3} α^{3} λ^{2} - 2 \\, {\\mathrm{l}}^{3} r^{4} α^{3} λ^{2} - 24 \\, {\\mathrm{l}}^{2} {\\mathrm{m}}^{2} r^{3} α^{2} λ^{3} + 12 \\, {\\mathrm{l}}^{2} {\\mathrm{m}} r^{4} α^{2} λ^{3} + 108 \\, {\\mathrm{l}} {\\mathrm{m}}^{4} r^{4} α ω^{2} - 48 \\, {\\mathrm{m}}^{4} r^{5} λ ω^{2} - 18 \\, r^{7} α^{4} e^{\\left(\\frac{8 \\, r}{{\\mathrm{l}} α - 2 \\, {\\mathrm{m}}}\\right)} - 54 \\, {\\mathrm{l}} {\\mathrm{m}} r^{5} α^{4} e^{\\left(\\frac{6 \\, r}{{\\mathrm{l}} α - 2 \\, {\\mathrm{m}}}\\right)} - 48 \\, {\\mathrm{m}}^{2} r^{5} α^{3} λ e^{\\left(\\frac{6 \\, r}{{\\mathrm{l}} α - 2 \\, {\\mathrm{m}}}\\right)} + 72 \\, {\\mathrm{m}} r^{6} α^{3} λ e^{\\left(\\frac{6 \\, r}{{\\mathrm{l}} α - 2 \\, {\\mathrm{m}}}\\right)} - 6 \\, r^{7} α^{3} λ e^{\\left(\\frac{6 \\, r}{{\\mathrm{l}} α - 2 \\, {\\mathrm{m}}}\\right)} - 54 \\, {\\mathrm{l}}^{2} {\\mathrm{m}}^{2} r^{3} α^{4} e^{\\left(\\frac{4 \\, r}{{\\mathrm{l}} α - 2 \\, {\\mathrm{m}}}\\right)} - 24 \\, {\\mathrm{l}} {\\mathrm{m}}^{2} r^{4} α^{3} λ e^{\\left(\\frac{4 \\, r}{{\\mathrm{l}} α - 2 \\, {\\mathrm{m}}}\\right)} + 186 \\, {\\mathrm{l}} {\\mathrm{m}} r^{5} α^{3} λ e^{\\left(\\frac{4 \\, r}{{\\mathrm{l}} α - 2 \\, {\\mathrm{m}}}\\right)} - 48 \\, {\\mathrm{l}} r^{6} α^{3} λ e^{\\left(\\frac{4 \\, r}{{\\mathrm{l}} α - 2 \\, {\\mathrm{m}}}\\right)} + 16 \\, {\\mathrm{m}}^{3} r^{4} α^{2} λ^{2} e^{\\left(\\frac{4 \\, r}{{\\mathrm{l}} α - 2 \\, {\\mathrm{m}}}\\right)} - 48 \\, {\\mathrm{m}}^{2} r^{5} α^{2} λ^{2} e^{\\left(\\frac{4 \\, r}{{\\mathrm{l}} α - 2 \\, {\\mathrm{m}}}\\right)} + 4 \\, {\\mathrm{m}} r^{6} α^{2} λ^{2} e^{\\left(\\frac{4 \\, r}{{\\mathrm{l}} α - 2 \\, {\\mathrm{m}}}\\right)} - 18 \\, {\\mathrm{l}}^{3} {\\mathrm{m}}^{3} r α^{4} e^{\\left(\\frac{2 \\, r}{{\\mathrm{l}} α - 2 \\, {\\mathrm{m}}}\\right)} + 108 \\, {\\mathrm{l}}^{2} {\\mathrm{m}}^{3} r^{2} α^{3} λ e^{\\left(\\frac{2 \\, r}{{\\mathrm{l}} α - 2 \\, {\\mathrm{m}}}\\right)} + 36 \\, {\\mathrm{l}}^{2} {\\mathrm{m}}^{2} r^{3} α^{3} λ e^{\\left(\\frac{2 \\, r}{{\\mathrm{l}} α - 2 \\, {\\mathrm{m}}}\\right)} + 6 \\, {\\mathrm{l}}^{2} {\\mathrm{m}} r^{4} α^{3} λ e^{\\left(\\frac{2 \\, r}{{\\mathrm{l}} α - 2 \\, {\\mathrm{m}}}\\right)} - 12 \\, {\\mathrm{l}}^{2} r^{5} α^{3} λ e^{\\left(\\frac{2 \\, r}{{\\mathrm{l}} α - 2 \\, {\\mathrm{m}}}\\right)} - 24 \\, {\\mathrm{l}} {\\mathrm{m}}^{3} r^{3} α^{2} λ^{2} e^{\\left(\\frac{2 \\, r}{{\\mathrm{l}} α - 2 \\, {\\mathrm{m}}}\\right)} - 144 \\, {\\mathrm{l}} {\\mathrm{m}}^{2} r^{4} α^{2} λ^{2} e^{\\left(\\frac{2 \\, r}{{\\mathrm{l}} α - 2 \\, {\\mathrm{m}}}\\right)} + 52 \\, {\\mathrm{l}} {\\mathrm{m}} r^{5} α^{2} λ^{2} e^{\\left(\\frac{2 \\, r}{{\\mathrm{l}} α - 2 \\, {\\mathrm{m}}}\\right)} - 2 \\, {\\mathrm{l}} r^{6} α^{2} λ^{2} e^{\\left(\\frac{2 \\, r}{{\\mathrm{l}} α - 2 \\, {\\mathrm{m}}}\\right)} + 16 \\, {\\mathrm{m}}^{3} r^{4} α λ^{3} e^{\\left(\\frac{2 \\, r}{{\\mathrm{l}} α - 2 \\, {\\mathrm{m}}}\\right)} + 36 \\, {\\mathrm{l}}^{3} {\\mathrm{m}}^{3} r α^{3} λ - 18 \\, {\\mathrm{l}}^{3} {\\mathrm{m}}^{2} r^{2} α^{3} λ - 72 \\, {\\mathrm{l}}^{2} {\\mathrm{m}}^{3} r^{2} α^{2} λ^{2} + 12 \\, {\\mathrm{l}}^{2} {\\mathrm{m}}^{2} r^{3} α^{2} λ^{2} + 12 \\, {\\mathrm{l}}^{2} {\\mathrm{m}} r^{4} α^{2} λ^{2} + 48 \\, {\\mathrm{l}} {\\mathrm{m}}^{3} r^{3} α λ^{3} - 24 \\, {\\mathrm{l}} {\\mathrm{m}}^{2} r^{4} α λ^{3} - 72 \\, {\\mathrm{m}}^{5} r^{4} ω^{2} + 108 \\, {\\mathrm{m}}^{2} r^{5} α^{3} e^{\\left(\\frac{6 \\, r}{{\\mathrm{l}} α - 2 \\, {\\mathrm{m}}}\\right)} + 36 \\, {\\mathrm{m}} r^{6} α^{3} e^{\\left(\\frac{6 \\, r}{{\\mathrm{l}} α - 2 \\, {\\mathrm{m}}}\\right)} - 18 \\, r^{7} α^{3} e^{\\left(\\frac{6 \\, r}{{\\mathrm{l}} α - 2 \\, {\\mathrm{m}}}\\right)} + 216 \\, {\\mathrm{l}} {\\mathrm{m}}^{3} r^{3} α^{3} e^{\\left(\\frac{4 \\, r}{{\\mathrm{l}} α - 2 \\, {\\mathrm{m}}}\\right)} + 108 \\, {\\mathrm{l}} {\\mathrm{m}}^{2} r^{4} α^{3} e^{\\left(\\frac{4 \\, r}{{\\mathrm{l}} α - 2 \\, {\\mathrm{m}}}\\right)} - 54 \\, {\\mathrm{l}} {\\mathrm{m}} r^{5} α^{3} e^{\\left(\\frac{4 \\, r}{{\\mathrm{l}} α - 2 \\, {\\mathrm{m}}}\\right)} + 24 \\, {\\mathrm{m}}^{3} r^{4} α^{2} λ e^{\\left(\\frac{4 \\, r}{{\\mathrm{l}} α - 2 \\, {\\mathrm{m}}}\\right)} - 276 \\, {\\mathrm{m}}^{2} r^{5} α^{2} λ e^{\\left(\\frac{4 \\, r}{{\\mathrm{l}} α - 2 \\, {\\mathrm{m}}}\\right)} + 108 \\, {\\mathrm{m}} r^{6} α^{2} λ e^{\\left(\\frac{4 \\, r}{{\\mathrm{l}} α - 2 \\, {\\mathrm{m}}}\\right)} - 6 \\, r^{7} α^{2} λ e^{\\left(\\frac{4 \\, r}{{\\mathrm{l}} α - 2 \\, {\\mathrm{m}}}\\right)} + 108 \\, {\\mathrm{l}}^{2} {\\mathrm{m}}^{4} r α^{3} e^{\\left(\\frac{2 \\, r}{{\\mathrm{l}} α - 2 \\, {\\mathrm{m}}}\\right)} + 108 \\, {\\mathrm{l}}^{2} {\\mathrm{m}}^{3} r^{2} α^{3} e^{\\left(\\frac{2 \\, r}{{\\mathrm{l}} α - 2 \\, {\\mathrm{m}}}\\right)} - 54 \\, {\\mathrm{l}}^{2} {\\mathrm{m}}^{2} r^{3} α^{3} e^{\\left(\\frac{2 \\, r}{{\\mathrm{l}} α - 2 \\, {\\mathrm{m}}}\\right)} - 216 \\, {\\mathrm{l}} {\\mathrm{m}}^{4} r^{2} α^{2} λ e^{\\left(\\frac{2 \\, r}{{\\mathrm{l}} α - 2 \\, {\\mathrm{m}}}\\right)} - 144 \\, {\\mathrm{l}} {\\mathrm{m}}^{3} r^{3} α^{2} λ e^{\\left(\\frac{2 \\, r}{{\\mathrm{l}} α - 2 \\, {\\mathrm{m}}}\\right)} - 60 \\, {\\mathrm{l}} {\\mathrm{m}}^{2} r^{4} α^{2} λ e^{\\left(\\frac{2 \\, r}{{\\mathrm{l}} α - 2 \\, {\\mathrm{m}}}\\right)} + 90 \\, {\\mathrm{l}} {\\mathrm{m}} r^{5} α^{2} λ e^{\\left(\\frac{2 \\, r}{{\\mathrm{l}} α - 2 \\, {\\mathrm{m}}}\\right)} - 12 \\, {\\mathrm{l}} r^{6} α^{2} λ e^{\\left(\\frac{2 \\, r}{{\\mathrm{l}} α - 2 \\, {\\mathrm{m}}}\\right)} + 16 \\, {\\mathrm{m}}^{4} r^{3} α λ^{2} e^{\\left(\\frac{2 \\, r}{{\\mathrm{l}} α - 2 \\, {\\mathrm{m}}}\\right)} + 128 \\, {\\mathrm{m}}^{3} r^{4} α λ^{2} e^{\\left(\\frac{2 \\, r}{{\\mathrm{l}} α - 2 \\, {\\mathrm{m}}}\\right)} - 56 \\, {\\mathrm{m}}^{2} r^{5} α λ^{2} e^{\\left(\\frac{2 \\, r}{{\\mathrm{l}} α - 2 \\, {\\mathrm{m}}}\\right)} + 4 \\, {\\mathrm{m}} r^{6} α λ^{2} e^{\\left(\\frac{2 \\, r}{{\\mathrm{l}} α - 2 \\, {\\mathrm{m}}}\\right)} + 36 \\, {\\mathrm{l}}^{3} {\\mathrm{m}}^{4} α^{3} - 18 \\, {\\mathrm{l}}^{3} {\\mathrm{m}}^{3} r α^{3} - 216 \\, {\\mathrm{l}}^{2} {\\mathrm{m}}^{4} r α^{2} λ + 108 \\, {\\mathrm{l}}^{2} {\\mathrm{m}}^{3} r^{2} α^{2} λ + 144 \\, {\\mathrm{l}} {\\mathrm{m}}^{4} r^{2} α λ^{2} - 24 \\, {\\mathrm{l}} {\\mathrm{m}}^{3} r^{3} α λ^{2} - 24 \\, {\\mathrm{l}} {\\mathrm{m}}^{2} r^{4} α λ^{2} - 32 \\, {\\mathrm{m}}^{4} r^{3} λ^{3} + 16 \\, {\\mathrm{m}}^{3} r^{4} λ^{3} - 216 \\, {\\mathrm{m}}^{4} r^{3} α^{2} e^{\\left(\\frac{4 \\, r}{{\\mathrm{l}} α - 2 \\, {\\mathrm{m}}}\\right)} - 216 \\, {\\mathrm{m}}^{3} r^{4} α^{2} e^{\\left(\\frac{4 \\, r}{{\\mathrm{l}} α - 2 \\, {\\mathrm{m}}}\\right)} + 108 \\, {\\mathrm{m}}^{2} r^{5} α^{2} e^{\\left(\\frac{4 \\, r}{{\\mathrm{l}} α - 2 \\, {\\mathrm{m}}}\\right)} - 216 \\, {\\mathrm{l}} {\\mathrm{m}}^{5} r α^{2} e^{\\left(\\frac{2 \\, r}{{\\mathrm{l}} α - 2 \\, {\\mathrm{m}}}\\right)} - 432 \\, {\\mathrm{l}} {\\mathrm{m}}^{4} r^{2} α^{2} e^{\\left(\\frac{2 \\, r}{{\\mathrm{l}} α - 2 \\, {\\mathrm{m}}}\\right)} + 216 \\, {\\mathrm{l}} {\\mathrm{m}}^{3} r^{3} α^{2} e^{\\left(\\frac{2 \\, r}{{\\mathrm{l}} α - 2 \\, {\\mathrm{m}}}\\right)} + 144 \\, {\\mathrm{m}}^{5} r^{2} α λ e^{\\left(\\frac{2 \\, r}{{\\mathrm{l}} α - 2 \\, {\\mathrm{m}}}\\right)} + 144 \\, {\\mathrm{m}}^{4} r^{3} α λ e^{\\left(\\frac{2 \\, r}{{\\mathrm{l}} α - 2 \\, {\\mathrm{m}}}\\right)} + 96 \\, {\\mathrm{m}}^{3} r^{4} α λ e^{\\left(\\frac{2 \\, r}{{\\mathrm{l}} α - 2 \\, {\\mathrm{m}}}\\right)} - 132 \\, {\\mathrm{m}}^{2} r^{5} α λ e^{\\left(\\frac{2 \\, r}{{\\mathrm{l}} α - 2 \\, {\\mathrm{m}}}\\right)} + 24 \\, {\\mathrm{m}} r^{6} α λ e^{\\left(\\frac{2 \\, r}{{\\mathrm{l}} α - 2 \\, {\\mathrm{m}}}\\right)} - 216 \\, {\\mathrm{l}}^{2} {\\mathrm{m}}^{5} α^{2} + 108 \\, {\\mathrm{l}}^{2} {\\mathrm{m}}^{4} r α^{2} + 432 \\, {\\mathrm{l}} {\\mathrm{m}}^{5} r α λ - 216 \\, {\\mathrm{l}} {\\mathrm{m}}^{4} r^{2} α λ - 96 \\, {\\mathrm{m}}^{5} r^{2} λ^{2} + 16 \\, {\\mathrm{m}}^{4} r^{3} λ^{2} + 16 \\, {\\mathrm{m}}^{3} r^{4} λ^{2} + 144 \\, {\\mathrm{m}}^{6} r α e^{\\left(\\frac{2 \\, r}{{\\mathrm{l}} α - 2 \\, {\\mathrm{m}}}\\right)} + 432 \\, {\\mathrm{m}}^{5} r^{2} α e^{\\left(\\frac{2 \\, r}{{\\mathrm{l}} α - 2 \\, {\\mathrm{m}}}\\right)} - 216 \\, {\\mathrm{m}}^{4} r^{3} α e^{\\left(\\frac{2 \\, r}{{\\mathrm{l}} α - 2 \\, {\\mathrm{m}}}\\right)} + 432 \\, {\\mathrm{l}} {\\mathrm{m}}^{6} α - 216 \\, {\\mathrm{l}} {\\mathrm{m}}^{5} r α - 288 \\, {\\mathrm{m}}^{6} r λ + 144 \\, {\\mathrm{m}}^{5} r^{2} λ - 288 \\, {\\mathrm{m}}^{7} + 144 \\, {\\mathrm{m}}^{6} r\\right)} \\hat{K}\\left({r_\\star}\\right)}{{\\left({\\mathrm{l}} r α λ + 3 \\, r^{2} α e^{\\left(\\frac{2 \\, r}{{\\mathrm{l}} α - 2 \\, {\\mathrm{m}}}\\right)} + 3 \\, {\\mathrm{l}} {\\mathrm{m}} α - 2 \\, {\\mathrm{m}} r λ - 6 \\, {\\mathrm{m}}^{2}\\right)}^{2} {\\left({\\mathrm{l}} α - 2 \\, {\\mathrm{m}}\\right)} r^{4}}\\right\\}\\)</html>"
      ],
      "text/latex": [
       "$\\displaystyle \\left\\{\\frac{\\partial}{\\partial {r_\\star}}\\hat{R}\\left({r_\\star}\\right) : -\\frac{{\\left({\\mathrm{l}}^{3} r^{6} α^{3} λ^{2} ω^{2} + 6 \\, {\\mathrm{l}}^{2} r^{7} α^{3} λ ω^{2} e^{\\left(\\frac{2 \\, r}{{\\mathrm{l}} α - 2 \\, {\\mathrm{m}}}\\right)} + 6 \\, {\\mathrm{l}}^{3} {\\mathrm{m}} r^{5} α^{3} λ ω^{2} - 6 \\, {\\mathrm{l}}^{2} {\\mathrm{m}} r^{6} α^{2} λ^{2} ω^{2} - 2 \\, {\\mathrm{l}}^{3} r^{4} α^{5} λ^{2} e^{\\left(\\frac{4 \\, r}{{\\mathrm{l}} α - 2 \\, {\\mathrm{m}}}\\right)} + 9 \\, {\\mathrm{l}} r^{8} α^{3} ω^{2} e^{\\left(\\frac{4 \\, r}{{\\mathrm{l}} α - 2 \\, {\\mathrm{m}}}\\right)} - 2 \\, {\\mathrm{l}}^{3} r^{4} α^{4} λ^{3} e^{\\left(\\frac{2 \\, r}{{\\mathrm{l}} α - 2 \\, {\\mathrm{m}}}\\right)} + 18 \\, {\\mathrm{l}}^{2} {\\mathrm{m}} r^{6} α^{3} ω^{2} e^{\\left(\\frac{2 \\, r}{{\\mathrm{l}} α - 2 \\, {\\mathrm{m}}}\\right)} - 24 \\, {\\mathrm{l}} {\\mathrm{m}} r^{7} α^{2} λ ω^{2} e^{\\left(\\frac{2 \\, r}{{\\mathrm{l}} α - 2 \\, {\\mathrm{m}}}\\right)} + 9 \\, {\\mathrm{l}}^{3} {\\mathrm{m}}^{2} r^{4} α^{3} ω^{2} - 36 \\, {\\mathrm{l}}^{2} {\\mathrm{m}}^{2} r^{5} α^{2} λ ω^{2} + 12 \\, {\\mathrm{l}} {\\mathrm{m}}^{2} r^{6} α λ^{2} ω^{2} - 12 \\, {\\mathrm{l}}^{2} r^{5} α^{5} λ e^{\\left(\\frac{6 \\, r}{{\\mathrm{l}} α - 2 \\, {\\mathrm{m}}}\\right)} + 12 \\, {\\mathrm{l}}^{2} {\\mathrm{m}} r^{4} α^{4} λ^{2} e^{\\left(\\frac{4 \\, r}{{\\mathrm{l}} α - 2 \\, {\\mathrm{m}}}\\right)} - 12 \\, {\\mathrm{l}}^{2} r^{5} α^{4} λ^{2} e^{\\left(\\frac{4 \\, r}{{\\mathrm{l}} α - 2 \\, {\\mathrm{m}}}\\right)} - 18 \\, {\\mathrm{m}} r^{8} α^{2} ω^{2} e^{\\left(\\frac{4 \\, r}{{\\mathrm{l}} α - 2 \\, {\\mathrm{m}}}\\right)} - 2 \\, {\\mathrm{l}}^{3} {\\mathrm{m}} r^{3} α^{4} λ^{2} e^{\\left(\\frac{2 \\, r}{{\\mathrm{l}} α - 2 \\, {\\mathrm{m}}}\\right)} - 4 \\, {\\mathrm{l}}^{3} r^{4} α^{4} λ^{2} e^{\\left(\\frac{2 \\, r}{{\\mathrm{l}} α - 2 \\, {\\mathrm{m}}}\\right)} + 12 \\, {\\mathrm{l}}^{2} {\\mathrm{m}} r^{4} α^{3} λ^{3} e^{\\left(\\frac{2 \\, r}{{\\mathrm{l}} α - 2 \\, {\\mathrm{m}}}\\right)} - 72 \\, {\\mathrm{l}} {\\mathrm{m}}^{2} r^{6} α^{2} ω^{2} e^{\\left(\\frac{2 \\, r}{{\\mathrm{l}} α - 2 \\, {\\mathrm{m}}}\\right)} + 24 \\, {\\mathrm{m}}^{2} r^{7} α λ ω^{2} e^{\\left(\\frac{2 \\, r}{{\\mathrm{l}} α - 2 \\, {\\mathrm{m}}}\\right)} + 4 \\, {\\mathrm{l}}^{3} {\\mathrm{m}} r^{3} α^{3} λ^{3} - 2 \\, {\\mathrm{l}}^{3} r^{4} α^{3} λ^{3} - 54 \\, {\\mathrm{l}}^{2} {\\mathrm{m}}^{3} r^{4} α^{2} ω^{2} + 72 \\, {\\mathrm{l}} {\\mathrm{m}}^{3} r^{5} α λ ω^{2} - 8 \\, {\\mathrm{m}}^{3} r^{6} λ^{2} ω^{2} + 48 \\, {\\mathrm{l}} {\\mathrm{m}} r^{5} α^{4} λ e^{\\left(\\frac{6 \\, r}{{\\mathrm{l}} α - 2 \\, {\\mathrm{m}}}\\right)} - 36 \\, {\\mathrm{l}} r^{6} α^{4} λ e^{\\left(\\frac{6 \\, r}{{\\mathrm{l}} α - 2 \\, {\\mathrm{m}}}\\right)} + 6 \\, {\\mathrm{l}}^{2} {\\mathrm{m}} r^{4} α^{4} λ e^{\\left(\\frac{4 \\, r}{{\\mathrm{l}} α - 2 \\, {\\mathrm{m}}}\\right)} - 24 \\, {\\mathrm{l}}^{2} r^{5} α^{4} λ e^{\\left(\\frac{4 \\, r}{{\\mathrm{l}} α - 2 \\, {\\mathrm{m}}}\\right)} - 24 \\, {\\mathrm{l}} {\\mathrm{m}}^{2} r^{4} α^{3} λ^{2} e^{\\left(\\frac{4 \\, r}{{\\mathrm{l}} α - 2 \\, {\\mathrm{m}}}\\right)} + 48 \\, {\\mathrm{l}} {\\mathrm{m}} r^{5} α^{3} λ^{2} e^{\\left(\\frac{4 \\, r}{{\\mathrm{l}} α - 2 \\, {\\mathrm{m}}}\\right)} - 2 \\, {\\mathrm{l}} r^{6} α^{3} λ^{2} e^{\\left(\\frac{4 \\, r}{{\\mathrm{l}} α - 2 \\, {\\mathrm{m}}}\\right)} - 18 \\, {\\mathrm{l}}^{3} {\\mathrm{m}}^{2} r^{2} α^{4} λ e^{\\left(\\frac{2 \\, r}{{\\mathrm{l}} α - 2 \\, {\\mathrm{m}}}\\right)} + 12 \\, {\\mathrm{l}}^{2} {\\mathrm{m}}^{2} r^{3} α^{3} λ^{2} e^{\\left(\\frac{2 \\, r}{{\\mathrm{l}} α - 2 \\, {\\mathrm{m}}}\\right)} + 48 \\, {\\mathrm{l}}^{2} {\\mathrm{m}} r^{4} α^{3} λ^{2} e^{\\left(\\frac{2 \\, r}{{\\mathrm{l}} α - 2 \\, {\\mathrm{m}}}\\right)} - 12 \\, {\\mathrm{l}}^{2} r^{5} α^{3} λ^{2} e^{\\left(\\frac{2 \\, r}{{\\mathrm{l}} α - 2 \\, {\\mathrm{m}}}\\right)} - 24 \\, {\\mathrm{l}} {\\mathrm{m}}^{2} r^{4} α^{2} λ^{3} e^{\\left(\\frac{2 \\, r}{{\\mathrm{l}} α - 2 \\, {\\mathrm{m}}}\\right)} + 72 \\, {\\mathrm{m}}^{3} r^{6} α ω^{2} e^{\\left(\\frac{2 \\, r}{{\\mathrm{l}} α - 2 \\, {\\mathrm{m}}}\\right)} + 12 \\, {\\mathrm{l}}^{3} {\\mathrm{m}}^{2} r^{2} α^{3} λ^{2} - 2 \\, {\\mathrm{l}}^{3} {\\mathrm{m}} r^{3} α^{3} λ^{2} - 2 \\, {\\mathrm{l}}^{3} r^{4} α^{3} λ^{2} - 24 \\, {\\mathrm{l}}^{2} {\\mathrm{m}}^{2} r^{3} α^{2} λ^{3} + 12 \\, {\\mathrm{l}}^{2} {\\mathrm{m}} r^{4} α^{2} λ^{3} + 108 \\, {\\mathrm{l}} {\\mathrm{m}}^{4} r^{4} α ω^{2} - 48 \\, {\\mathrm{m}}^{4} r^{5} λ ω^{2} - 18 \\, r^{7} α^{4} e^{\\left(\\frac{8 \\, r}{{\\mathrm{l}} α - 2 \\, {\\mathrm{m}}}\\right)} - 54 \\, {\\mathrm{l}} {\\mathrm{m}} r^{5} α^{4} e^{\\left(\\frac{6 \\, r}{{\\mathrm{l}} α - 2 \\, {\\mathrm{m}}}\\right)} - 48 \\, {\\mathrm{m}}^{2} r^{5} α^{3} λ e^{\\left(\\frac{6 \\, r}{{\\mathrm{l}} α - 2 \\, {\\mathrm{m}}}\\right)} + 72 \\, {\\mathrm{m}} r^{6} α^{3} λ e^{\\left(\\frac{6 \\, r}{{\\mathrm{l}} α - 2 \\, {\\mathrm{m}}}\\right)} - 6 \\, r^{7} α^{3} λ e^{\\left(\\frac{6 \\, r}{{\\mathrm{l}} α - 2 \\, {\\mathrm{m}}}\\right)} - 54 \\, {\\mathrm{l}}^{2} {\\mathrm{m}}^{2} r^{3} α^{4} e^{\\left(\\frac{4 \\, r}{{\\mathrm{l}} α - 2 \\, {\\mathrm{m}}}\\right)} - 24 \\, {\\mathrm{l}} {\\mathrm{m}}^{2} r^{4} α^{3} λ e^{\\left(\\frac{4 \\, r}{{\\mathrm{l}} α - 2 \\, {\\mathrm{m}}}\\right)} + 186 \\, {\\mathrm{l}} {\\mathrm{m}} r^{5} α^{3} λ e^{\\left(\\frac{4 \\, r}{{\\mathrm{l}} α - 2 \\, {\\mathrm{m}}}\\right)} - 48 \\, {\\mathrm{l}} r^{6} α^{3} λ e^{\\left(\\frac{4 \\, r}{{\\mathrm{l}} α - 2 \\, {\\mathrm{m}}}\\right)} + 16 \\, {\\mathrm{m}}^{3} r^{4} α^{2} λ^{2} e^{\\left(\\frac{4 \\, r}{{\\mathrm{l}} α - 2 \\, {\\mathrm{m}}}\\right)} - 48 \\, {\\mathrm{m}}^{2} r^{5} α^{2} λ^{2} e^{\\left(\\frac{4 \\, r}{{\\mathrm{l}} α - 2 \\, {\\mathrm{m}}}\\right)} + 4 \\, {\\mathrm{m}} r^{6} α^{2} λ^{2} e^{\\left(\\frac{4 \\, r}{{\\mathrm{l}} α - 2 \\, {\\mathrm{m}}}\\right)} - 18 \\, {\\mathrm{l}}^{3} {\\mathrm{m}}^{3} r α^{4} e^{\\left(\\frac{2 \\, r}{{\\mathrm{l}} α - 2 \\, {\\mathrm{m}}}\\right)} + 108 \\, {\\mathrm{l}}^{2} {\\mathrm{m}}^{3} r^{2} α^{3} λ e^{\\left(\\frac{2 \\, r}{{\\mathrm{l}} α - 2 \\, {\\mathrm{m}}}\\right)} + 36 \\, {\\mathrm{l}}^{2} {\\mathrm{m}}^{2} r^{3} α^{3} λ e^{\\left(\\frac{2 \\, r}{{\\mathrm{l}} α - 2 \\, {\\mathrm{m}}}\\right)} + 6 \\, {\\mathrm{l}}^{2} {\\mathrm{m}} r^{4} α^{3} λ e^{\\left(\\frac{2 \\, r}{{\\mathrm{l}} α - 2 \\, {\\mathrm{m}}}\\right)} - 12 \\, {\\mathrm{l}}^{2} r^{5} α^{3} λ e^{\\left(\\frac{2 \\, r}{{\\mathrm{l}} α - 2 \\, {\\mathrm{m}}}\\right)} - 24 \\, {\\mathrm{l}} {\\mathrm{m}}^{3} r^{3} α^{2} λ^{2} e^{\\left(\\frac{2 \\, r}{{\\mathrm{l}} α - 2 \\, {\\mathrm{m}}}\\right)} - 144 \\, {\\mathrm{l}} {\\mathrm{m}}^{2} r^{4} α^{2} λ^{2} e^{\\left(\\frac{2 \\, r}{{\\mathrm{l}} α - 2 \\, {\\mathrm{m}}}\\right)} + 52 \\, {\\mathrm{l}} {\\mathrm{m}} r^{5} α^{2} λ^{2} e^{\\left(\\frac{2 \\, r}{{\\mathrm{l}} α - 2 \\, {\\mathrm{m}}}\\right)} - 2 \\, {\\mathrm{l}} r^{6} α^{2} λ^{2} e^{\\left(\\frac{2 \\, r}{{\\mathrm{l}} α - 2 \\, {\\mathrm{m}}}\\right)} + 16 \\, {\\mathrm{m}}^{3} r^{4} α λ^{3} e^{\\left(\\frac{2 \\, r}{{\\mathrm{l}} α - 2 \\, {\\mathrm{m}}}\\right)} + 36 \\, {\\mathrm{l}}^{3} {\\mathrm{m}}^{3} r α^{3} λ - 18 \\, {\\mathrm{l}}^{3} {\\mathrm{m}}^{2} r^{2} α^{3} λ - 72 \\, {\\mathrm{l}}^{2} {\\mathrm{m}}^{3} r^{2} α^{2} λ^{2} + 12 \\, {\\mathrm{l}}^{2} {\\mathrm{m}}^{2} r^{3} α^{2} λ^{2} + 12 \\, {\\mathrm{l}}^{2} {\\mathrm{m}} r^{4} α^{2} λ^{2} + 48 \\, {\\mathrm{l}} {\\mathrm{m}}^{3} r^{3} α λ^{3} - 24 \\, {\\mathrm{l}} {\\mathrm{m}}^{2} r^{4} α λ^{3} - 72 \\, {\\mathrm{m}}^{5} r^{4} ω^{2} + 108 \\, {\\mathrm{m}}^{2} r^{5} α^{3} e^{\\left(\\frac{6 \\, r}{{\\mathrm{l}} α - 2 \\, {\\mathrm{m}}}\\right)} + 36 \\, {\\mathrm{m}} r^{6} α^{3} e^{\\left(\\frac{6 \\, r}{{\\mathrm{l}} α - 2 \\, {\\mathrm{m}}}\\right)} - 18 \\, r^{7} α^{3} e^{\\left(\\frac{6 \\, r}{{\\mathrm{l}} α - 2 \\, {\\mathrm{m}}}\\right)} + 216 \\, {\\mathrm{l}} {\\mathrm{m}}^{3} r^{3} α^{3} e^{\\left(\\frac{4 \\, r}{{\\mathrm{l}} α - 2 \\, {\\mathrm{m}}}\\right)} + 108 \\, {\\mathrm{l}} {\\mathrm{m}}^{2} r^{4} α^{3} e^{\\left(\\frac{4 \\, r}{{\\mathrm{l}} α - 2 \\, {\\mathrm{m}}}\\right)} - 54 \\, {\\mathrm{l}} {\\mathrm{m}} r^{5} α^{3} e^{\\left(\\frac{4 \\, r}{{\\mathrm{l}} α - 2 \\, {\\mathrm{m}}}\\right)} + 24 \\, {\\mathrm{m}}^{3} r^{4} α^{2} λ e^{\\left(\\frac{4 \\, r}{{\\mathrm{l}} α - 2 \\, {\\mathrm{m}}}\\right)} - 276 \\, {\\mathrm{m}}^{2} r^{5} α^{2} λ e^{\\left(\\frac{4 \\, r}{{\\mathrm{l}} α - 2 \\, {\\mathrm{m}}}\\right)} + 108 \\, {\\mathrm{m}} r^{6} α^{2} λ e^{\\left(\\frac{4 \\, r}{{\\mathrm{l}} α - 2 \\, {\\mathrm{m}}}\\right)} - 6 \\, r^{7} α^{2} λ e^{\\left(\\frac{4 \\, r}{{\\mathrm{l}} α - 2 \\, {\\mathrm{m}}}\\right)} + 108 \\, {\\mathrm{l}}^{2} {\\mathrm{m}}^{4} r α^{3} e^{\\left(\\frac{2 \\, r}{{\\mathrm{l}} α - 2 \\, {\\mathrm{m}}}\\right)} + 108 \\, {\\mathrm{l}}^{2} {\\mathrm{m}}^{3} r^{2} α^{3} e^{\\left(\\frac{2 \\, r}{{\\mathrm{l}} α - 2 \\, {\\mathrm{m}}}\\right)} - 54 \\, {\\mathrm{l}}^{2} {\\mathrm{m}}^{2} r^{3} α^{3} e^{\\left(\\frac{2 \\, r}{{\\mathrm{l}} α - 2 \\, {\\mathrm{m}}}\\right)} - 216 \\, {\\mathrm{l}} {\\mathrm{m}}^{4} r^{2} α^{2} λ e^{\\left(\\frac{2 \\, r}{{\\mathrm{l}} α - 2 \\, {\\mathrm{m}}}\\right)} - 144 \\, {\\mathrm{l}} {\\mathrm{m}}^{3} r^{3} α^{2} λ e^{\\left(\\frac{2 \\, r}{{\\mathrm{l}} α - 2 \\, {\\mathrm{m}}}\\right)} - 60 \\, {\\mathrm{l}} {\\mathrm{m}}^{2} r^{4} α^{2} λ e^{\\left(\\frac{2 \\, r}{{\\mathrm{l}} α - 2 \\, {\\mathrm{m}}}\\right)} + 90 \\, {\\mathrm{l}} {\\mathrm{m}} r^{5} α^{2} λ e^{\\left(\\frac{2 \\, r}{{\\mathrm{l}} α - 2 \\, {\\mathrm{m}}}\\right)} - 12 \\, {\\mathrm{l}} r^{6} α^{2} λ e^{\\left(\\frac{2 \\, r}{{\\mathrm{l}} α - 2 \\, {\\mathrm{m}}}\\right)} + 16 \\, {\\mathrm{m}}^{4} r^{3} α λ^{2} e^{\\left(\\frac{2 \\, r}{{\\mathrm{l}} α - 2 \\, {\\mathrm{m}}}\\right)} + 128 \\, {\\mathrm{m}}^{3} r^{4} α λ^{2} e^{\\left(\\frac{2 \\, r}{{\\mathrm{l}} α - 2 \\, {\\mathrm{m}}}\\right)} - 56 \\, {\\mathrm{m}}^{2} r^{5} α λ^{2} e^{\\left(\\frac{2 \\, r}{{\\mathrm{l}} α - 2 \\, {\\mathrm{m}}}\\right)} + 4 \\, {\\mathrm{m}} r^{6} α λ^{2} e^{\\left(\\frac{2 \\, r}{{\\mathrm{l}} α - 2 \\, {\\mathrm{m}}}\\right)} + 36 \\, {\\mathrm{l}}^{3} {\\mathrm{m}}^{4} α^{3} - 18 \\, {\\mathrm{l}}^{3} {\\mathrm{m}}^{3} r α^{3} - 216 \\, {\\mathrm{l}}^{2} {\\mathrm{m}}^{4} r α^{2} λ + 108 \\, {\\mathrm{l}}^{2} {\\mathrm{m}}^{3} r^{2} α^{2} λ + 144 \\, {\\mathrm{l}} {\\mathrm{m}}^{4} r^{2} α λ^{2} - 24 \\, {\\mathrm{l}} {\\mathrm{m}}^{3} r^{3} α λ^{2} - 24 \\, {\\mathrm{l}} {\\mathrm{m}}^{2} r^{4} α λ^{2} - 32 \\, {\\mathrm{m}}^{4} r^{3} λ^{3} + 16 \\, {\\mathrm{m}}^{3} r^{4} λ^{3} - 216 \\, {\\mathrm{m}}^{4} r^{3} α^{2} e^{\\left(\\frac{4 \\, r}{{\\mathrm{l}} α - 2 \\, {\\mathrm{m}}}\\right)} - 216 \\, {\\mathrm{m}}^{3} r^{4} α^{2} e^{\\left(\\frac{4 \\, r}{{\\mathrm{l}} α - 2 \\, {\\mathrm{m}}}\\right)} + 108 \\, {\\mathrm{m}}^{2} r^{5} α^{2} e^{\\left(\\frac{4 \\, r}{{\\mathrm{l}} α - 2 \\, {\\mathrm{m}}}\\right)} - 216 \\, {\\mathrm{l}} {\\mathrm{m}}^{5} r α^{2} e^{\\left(\\frac{2 \\, r}{{\\mathrm{l}} α - 2 \\, {\\mathrm{m}}}\\right)} - 432 \\, {\\mathrm{l}} {\\mathrm{m}}^{4} r^{2} α^{2} e^{\\left(\\frac{2 \\, r}{{\\mathrm{l}} α - 2 \\, {\\mathrm{m}}}\\right)} + 216 \\, {\\mathrm{l}} {\\mathrm{m}}^{3} r^{3} α^{2} e^{\\left(\\frac{2 \\, r}{{\\mathrm{l}} α - 2 \\, {\\mathrm{m}}}\\right)} + 144 \\, {\\mathrm{m}}^{5} r^{2} α λ e^{\\left(\\frac{2 \\, r}{{\\mathrm{l}} α - 2 \\, {\\mathrm{m}}}\\right)} + 144 \\, {\\mathrm{m}}^{4} r^{3} α λ e^{\\left(\\frac{2 \\, r}{{\\mathrm{l}} α - 2 \\, {\\mathrm{m}}}\\right)} + 96 \\, {\\mathrm{m}}^{3} r^{4} α λ e^{\\left(\\frac{2 \\, r}{{\\mathrm{l}} α - 2 \\, {\\mathrm{m}}}\\right)} - 132 \\, {\\mathrm{m}}^{2} r^{5} α λ e^{\\left(\\frac{2 \\, r}{{\\mathrm{l}} α - 2 \\, {\\mathrm{m}}}\\right)} + 24 \\, {\\mathrm{m}} r^{6} α λ e^{\\left(\\frac{2 \\, r}{{\\mathrm{l}} α - 2 \\, {\\mathrm{m}}}\\right)} - 216 \\, {\\mathrm{l}}^{2} {\\mathrm{m}}^{5} α^{2} + 108 \\, {\\mathrm{l}}^{2} {\\mathrm{m}}^{4} r α^{2} + 432 \\, {\\mathrm{l}} {\\mathrm{m}}^{5} r α λ - 216 \\, {\\mathrm{l}} {\\mathrm{m}}^{4} r^{2} α λ - 96 \\, {\\mathrm{m}}^{5} r^{2} λ^{2} + 16 \\, {\\mathrm{m}}^{4} r^{3} λ^{2} + 16 \\, {\\mathrm{m}}^{3} r^{4} λ^{2} + 144 \\, {\\mathrm{m}}^{6} r α e^{\\left(\\frac{2 \\, r}{{\\mathrm{l}} α - 2 \\, {\\mathrm{m}}}\\right)} + 432 \\, {\\mathrm{m}}^{5} r^{2} α e^{\\left(\\frac{2 \\, r}{{\\mathrm{l}} α - 2 \\, {\\mathrm{m}}}\\right)} - 216 \\, {\\mathrm{m}}^{4} r^{3} α e^{\\left(\\frac{2 \\, r}{{\\mathrm{l}} α - 2 \\, {\\mathrm{m}}}\\right)} + 432 \\, {\\mathrm{l}} {\\mathrm{m}}^{6} α - 216 \\, {\\mathrm{l}} {\\mathrm{m}}^{5} r α - 288 \\, {\\mathrm{m}}^{6} r λ + 144 \\, {\\mathrm{m}}^{5} r^{2} λ - 288 \\, {\\mathrm{m}}^{7} + 144 \\, {\\mathrm{m}}^{6} r\\right)} \\hat{K}\\left({r_\\star}\\right)}{{\\left({\\mathrm{l}} r α λ + 3 \\, r^{2} α e^{\\left(\\frac{2 \\, r}{{\\mathrm{l}} α - 2 \\, {\\mathrm{m}}}\\right)} + 3 \\, {\\mathrm{l}} {\\mathrm{m}} α - 2 \\, {\\mathrm{m}} r λ - 6 \\, {\\mathrm{m}}^{2}\\right)}^{2} {\\left({\\mathrm{l}} α - 2 \\, {\\mathrm{m}}\\right)} r^{4}}\\right\\}$"
      ],
      "text/plain": [
       "{diff(RhT(rT), rT): -(lc^3*r^6*α^3*λ^2*ω^2 + 6*lc^2*r^7*α^3*λ*ω^2*e^(2*r/(lc*α - 2*mc)) + 6*lc^3*mc*r^5*α^3*λ*ω^2 - 6*lc^2*mc*r^6*α^2*λ^2*ω^2 - 2*lc^3*r^4*α^5*λ^2*e^(4*r/(lc*α - 2*mc)) + 9*lc*r^8*α^3*ω^2*e^(4*r/(lc*α - 2*mc)) - 2*lc^3*r^4*α^4*λ^3*e^(2*r/(lc*α - 2*mc)) + 18*lc^2*mc*r^6*α^3*ω^2*e^(2*r/(lc*α - 2*mc)) - 24*lc*mc*r^7*α^2*λ*ω^2*e^(2*r/(lc*α - 2*mc)) + 9*lc^3*mc^2*r^4*α^3*ω^2 - 36*lc^2*mc^2*r^5*α^2*λ*ω^2 + 12*lc*mc^2*r^6*α*λ^2*ω^2 - 12*lc^2*r^5*α^5*λ*e^(6*r/(lc*α - 2*mc)) + 12*lc^2*mc*r^4*α^4*λ^2*e^(4*r/(lc*α - 2*mc)) - 12*lc^2*r^5*α^4*λ^2*e^(4*r/(lc*α - 2*mc)) - 18*mc*r^8*α^2*ω^2*e^(4*r/(lc*α - 2*mc)) - 2*lc^3*mc*r^3*α^4*λ^2*e^(2*r/(lc*α - 2*mc)) - 4*lc^3*r^4*α^4*λ^2*e^(2*r/(lc*α - 2*mc)) + 12*lc^2*mc*r^4*α^3*λ^3*e^(2*r/(lc*α - 2*mc)) - 72*lc*mc^2*r^6*α^2*ω^2*e^(2*r/(lc*α - 2*mc)) + 24*mc^2*r^7*α*λ*ω^2*e^(2*r/(lc*α - 2*mc)) + 4*lc^3*mc*r^3*α^3*λ^3 - 2*lc^3*r^4*α^3*λ^3 - 54*lc^2*mc^3*r^4*α^2*ω^2 + 72*lc*mc^3*r^5*α*λ*ω^2 - 8*mc^3*r^6*λ^2*ω^2 + 48*lc*mc*r^5*α^4*λ*e^(6*r/(lc*α - 2*mc)) - 36*lc*r^6*α^4*λ*e^(6*r/(lc*α - 2*mc)) + 6*lc^2*mc*r^4*α^4*λ*e^(4*r/(lc*α - 2*mc)) - 24*lc^2*r^5*α^4*λ*e^(4*r/(lc*α - 2*mc)) - 24*lc*mc^2*r^4*α^3*λ^2*e^(4*r/(lc*α - 2*mc)) + 48*lc*mc*r^5*α^3*λ^2*e^(4*r/(lc*α - 2*mc)) - 2*lc*r^6*α^3*λ^2*e^(4*r/(lc*α - 2*mc)) - 18*lc^3*mc^2*r^2*α^4*λ*e^(2*r/(lc*α - 2*mc)) + 12*lc^2*mc^2*r^3*α^3*λ^2*e^(2*r/(lc*α - 2*mc)) + 48*lc^2*mc*r^4*α^3*λ^2*e^(2*r/(lc*α - 2*mc)) - 12*lc^2*r^5*α^3*λ^2*e^(2*r/(lc*α - 2*mc)) - 24*lc*mc^2*r^4*α^2*λ^3*e^(2*r/(lc*α - 2*mc)) + 72*mc^3*r^6*α*ω^2*e^(2*r/(lc*α - 2*mc)) + 12*lc^3*mc^2*r^2*α^3*λ^2 - 2*lc^3*mc*r^3*α^3*λ^2 - 2*lc^3*r^4*α^3*λ^2 - 24*lc^2*mc^2*r^3*α^2*λ^3 + 12*lc^2*mc*r^4*α^2*λ^3 + 108*lc*mc^4*r^4*α*ω^2 - 48*mc^4*r^5*λ*ω^2 - 18*r^7*α^4*e^(8*r/(lc*α - 2*mc)) - 54*lc*mc*r^5*α^4*e^(6*r/(lc*α - 2*mc)) - 48*mc^2*r^5*α^3*λ*e^(6*r/(lc*α - 2*mc)) + 72*mc*r^6*α^3*λ*e^(6*r/(lc*α - 2*mc)) - 6*r^7*α^3*λ*e^(6*r/(lc*α - 2*mc)) - 54*lc^2*mc^2*r^3*α^4*e^(4*r/(lc*α - 2*mc)) - 24*lc*mc^2*r^4*α^3*λ*e^(4*r/(lc*α - 2*mc)) + 186*lc*mc*r^5*α^3*λ*e^(4*r/(lc*α - 2*mc)) - 48*lc*r^6*α^3*λ*e^(4*r/(lc*α - 2*mc)) + 16*mc^3*r^4*α^2*λ^2*e^(4*r/(lc*α - 2*mc)) - 48*mc^2*r^5*α^2*λ^2*e^(4*r/(lc*α - 2*mc)) + 4*mc*r^6*α^2*λ^2*e^(4*r/(lc*α - 2*mc)) - 18*lc^3*mc^3*r*α^4*e^(2*r/(lc*α - 2*mc)) + 108*lc^2*mc^3*r^2*α^3*λ*e^(2*r/(lc*α - 2*mc)) + 36*lc^2*mc^2*r^3*α^3*λ*e^(2*r/(lc*α - 2*mc)) + 6*lc^2*mc*r^4*α^3*λ*e^(2*r/(lc*α - 2*mc)) - 12*lc^2*r^5*α^3*λ*e^(2*r/(lc*α - 2*mc)) - 24*lc*mc^3*r^3*α^2*λ^2*e^(2*r/(lc*α - 2*mc)) - 144*lc*mc^2*r^4*α^2*λ^2*e^(2*r/(lc*α - 2*mc)) + 52*lc*mc*r^5*α^2*λ^2*e^(2*r/(lc*α - 2*mc)) - 2*lc*r^6*α^2*λ^2*e^(2*r/(lc*α - 2*mc)) + 16*mc^3*r^4*α*λ^3*e^(2*r/(lc*α - 2*mc)) + 36*lc^3*mc^3*r*α^3*λ - 18*lc^3*mc^2*r^2*α^3*λ - 72*lc^2*mc^3*r^2*α^2*λ^2 + 12*lc^2*mc^2*r^3*α^2*λ^2 + 12*lc^2*mc*r^4*α^2*λ^2 + 48*lc*mc^3*r^3*α*λ^3 - 24*lc*mc^2*r^4*α*λ^3 - 72*mc^5*r^4*ω^2 + 108*mc^2*r^5*α^3*e^(6*r/(lc*α - 2*mc)) + 36*mc*r^6*α^3*e^(6*r/(lc*α - 2*mc)) - 18*r^7*α^3*e^(6*r/(lc*α - 2*mc)) + 216*lc*mc^3*r^3*α^3*e^(4*r/(lc*α - 2*mc)) + 108*lc*mc^2*r^4*α^3*e^(4*r/(lc*α - 2*mc)) - 54*lc*mc*r^5*α^3*e^(4*r/(lc*α - 2*mc)) + 24*mc^3*r^4*α^2*λ*e^(4*r/(lc*α - 2*mc)) - 276*mc^2*r^5*α^2*λ*e^(4*r/(lc*α - 2*mc)) + 108*mc*r^6*α^2*λ*e^(4*r/(lc*α - 2*mc)) - 6*r^7*α^2*λ*e^(4*r/(lc*α - 2*mc)) + 108*lc^2*mc^4*r*α^3*e^(2*r/(lc*α - 2*mc)) + 108*lc^2*mc^3*r^2*α^3*e^(2*r/(lc*α - 2*mc)) - 54*lc^2*mc^2*r^3*α^3*e^(2*r/(lc*α - 2*mc)) - 216*lc*mc^4*r^2*α^2*λ*e^(2*r/(lc*α - 2*mc)) - 144*lc*mc^3*r^3*α^2*λ*e^(2*r/(lc*α - 2*mc)) - 60*lc*mc^2*r^4*α^2*λ*e^(2*r/(lc*α - 2*mc)) + 90*lc*mc*r^5*α^2*λ*e^(2*r/(lc*α - 2*mc)) - 12*lc*r^6*α^2*λ*e^(2*r/(lc*α - 2*mc)) + 16*mc^4*r^3*α*λ^2*e^(2*r/(lc*α - 2*mc)) + 128*mc^3*r^4*α*λ^2*e^(2*r/(lc*α - 2*mc)) - 56*mc^2*r^5*α*λ^2*e^(2*r/(lc*α - 2*mc)) + 4*mc*r^6*α*λ^2*e^(2*r/(lc*α - 2*mc)) + 36*lc^3*mc^4*α^3 - 18*lc^3*mc^3*r*α^3 - 216*lc^2*mc^4*r*α^2*λ + 108*lc^2*mc^3*r^2*α^2*λ + 144*lc*mc^4*r^2*α*λ^2 - 24*lc*mc^3*r^3*α*λ^2 - 24*lc*mc^2*r^4*α*λ^2 - 32*mc^4*r^3*λ^3 + 16*mc^3*r^4*λ^3 - 216*mc^4*r^3*α^2*e^(4*r/(lc*α - 2*mc)) - 216*mc^3*r^4*α^2*e^(4*r/(lc*α - 2*mc)) + 108*mc^2*r^5*α^2*e^(4*r/(lc*α - 2*mc)) - 216*lc*mc^5*r*α^2*e^(2*r/(lc*α - 2*mc)) - 432*lc*mc^4*r^2*α^2*e^(2*r/(lc*α - 2*mc)) + 216*lc*mc^3*r^3*α^2*e^(2*r/(lc*α - 2*mc)) + 144*mc^5*r^2*α*λ*e^(2*r/(lc*α - 2*mc)) + 144*mc^4*r^3*α*λ*e^(2*r/(lc*α - 2*mc)) + 96*mc^3*r^4*α*λ*e^(2*r/(lc*α - 2*mc)) - 132*mc^2*r^5*α*λ*e^(2*r/(lc*α - 2*mc)) + 24*mc*r^6*α*λ*e^(2*r/(lc*α - 2*mc)) - 216*lc^2*mc^5*α^2 + 108*lc^2*mc^4*r*α^2 + 432*lc*mc^5*r*α*λ - 216*lc*mc^4*r^2*α*λ - 96*mc^5*r^2*λ^2 + 16*mc^4*r^3*λ^2 + 16*mc^3*r^4*λ^2 + 144*mc^6*r*α*e^(2*r/(lc*α - 2*mc)) + 432*mc^5*r^2*α*e^(2*r/(lc*α - 2*mc)) - 216*mc^4*r^3*α*e^(2*r/(lc*α - 2*mc)) + 432*lc*mc^6*α - 216*lc*mc^5*r*α - 288*mc^6*r*λ + 144*mc^5*r^2*λ - 288*mc^7 + 144*mc^6*r)*KhT(rT)/((lc*r*α*λ + 3*r^2*α*e^(2*r/(lc*α - 2*mc)) + 3*lc*mc*α - 2*mc*r*λ - 6*mc^2)^2*(lc*α - 2*mc)*r^4)}"
      ]
     },
     "execution_count": 230,
     "metadata": {},
     "output_type": "execute_result"
    }
   ],
   "source": [
    "Zeqs_subs"
   ]
  },
  {
   "cell_type": "markdown",
   "metadata": {},
   "source": [
    "Aqui, transformaremos duas equações de primeira ordem em uma de segunda ordem:"
   ]
  },
  {
   "cell_type": "code",
   "execution_count": 231,
   "metadata": {},
   "outputs": [],
   "source": [
    "expr = diff(KhT(rT), rT, 2) - (diff(RhT(rT), rT).subs(Zeqs_subs)) == 0"
   ]
  },
  {
   "cell_type": "code",
   "execution_count": 232,
   "metadata": {},
   "outputs": [
    {
     "data": {
      "text/html": [
       "<html>\\(\\displaystyle \\frac{{\\left({\\mathrm{l}}^{3} r^{6} α^{3} λ^{2} ω^{2} + 6 \\, {\\mathrm{l}}^{2} r^{7} α^{3} λ ω^{2} e^{\\left(\\frac{2 \\, r}{{\\mathrm{l}} α - 2 \\, {\\mathrm{m}}}\\right)} + 6 \\, {\\mathrm{l}}^{3} {\\mathrm{m}} r^{5} α^{3} λ ω^{2} - 6 \\, {\\mathrm{l}}^{2} {\\mathrm{m}} r^{6} α^{2} λ^{2} ω^{2} - 2 \\, {\\mathrm{l}}^{3} r^{4} α^{5} λ^{2} e^{\\left(\\frac{4 \\, r}{{\\mathrm{l}} α - 2 \\, {\\mathrm{m}}}\\right)} + 9 \\, {\\mathrm{l}} r^{8} α^{3} ω^{2} e^{\\left(\\frac{4 \\, r}{{\\mathrm{l}} α - 2 \\, {\\mathrm{m}}}\\right)} - 2 \\, {\\mathrm{l}}^{3} r^{4} α^{4} λ^{3} e^{\\left(\\frac{2 \\, r}{{\\mathrm{l}} α - 2 \\, {\\mathrm{m}}}\\right)} + 18 \\, {\\mathrm{l}}^{2} {\\mathrm{m}} r^{6} α^{3} ω^{2} e^{\\left(\\frac{2 \\, r}{{\\mathrm{l}} α - 2 \\, {\\mathrm{m}}}\\right)} - 24 \\, {\\mathrm{l}} {\\mathrm{m}} r^{7} α^{2} λ ω^{2} e^{\\left(\\frac{2 \\, r}{{\\mathrm{l}} α - 2 \\, {\\mathrm{m}}}\\right)} + 9 \\, {\\mathrm{l}}^{3} {\\mathrm{m}}^{2} r^{4} α^{3} ω^{2} - 36 \\, {\\mathrm{l}}^{2} {\\mathrm{m}}^{2} r^{5} α^{2} λ ω^{2} + 12 \\, {\\mathrm{l}} {\\mathrm{m}}^{2} r^{6} α λ^{2} ω^{2} - 12 \\, {\\mathrm{l}}^{2} r^{5} α^{5} λ e^{\\left(\\frac{6 \\, r}{{\\mathrm{l}} α - 2 \\, {\\mathrm{m}}}\\right)} + 12 \\, {\\mathrm{l}}^{2} {\\mathrm{m}} r^{4} α^{4} λ^{2} e^{\\left(\\frac{4 \\, r}{{\\mathrm{l}} α - 2 \\, {\\mathrm{m}}}\\right)} - 12 \\, {\\mathrm{l}}^{2} r^{5} α^{4} λ^{2} e^{\\left(\\frac{4 \\, r}{{\\mathrm{l}} α - 2 \\, {\\mathrm{m}}}\\right)} - 18 \\, {\\mathrm{m}} r^{8} α^{2} ω^{2} e^{\\left(\\frac{4 \\, r}{{\\mathrm{l}} α - 2 \\, {\\mathrm{m}}}\\right)} - 2 \\, {\\mathrm{l}}^{3} {\\mathrm{m}} r^{3} α^{4} λ^{2} e^{\\left(\\frac{2 \\, r}{{\\mathrm{l}} α - 2 \\, {\\mathrm{m}}}\\right)} - 4 \\, {\\mathrm{l}}^{3} r^{4} α^{4} λ^{2} e^{\\left(\\frac{2 \\, r}{{\\mathrm{l}} α - 2 \\, {\\mathrm{m}}}\\right)} + 12 \\, {\\mathrm{l}}^{2} {\\mathrm{m}} r^{4} α^{3} λ^{3} e^{\\left(\\frac{2 \\, r}{{\\mathrm{l}} α - 2 \\, {\\mathrm{m}}}\\right)} - 72 \\, {\\mathrm{l}} {\\mathrm{m}}^{2} r^{6} α^{2} ω^{2} e^{\\left(\\frac{2 \\, r}{{\\mathrm{l}} α - 2 \\, {\\mathrm{m}}}\\right)} + 24 \\, {\\mathrm{m}}^{2} r^{7} α λ ω^{2} e^{\\left(\\frac{2 \\, r}{{\\mathrm{l}} α - 2 \\, {\\mathrm{m}}}\\right)} + 4 \\, {\\mathrm{l}}^{3} {\\mathrm{m}} r^{3} α^{3} λ^{3} - 2 \\, {\\mathrm{l}}^{3} r^{4} α^{3} λ^{3} - 54 \\, {\\mathrm{l}}^{2} {\\mathrm{m}}^{3} r^{4} α^{2} ω^{2} + 72 \\, {\\mathrm{l}} {\\mathrm{m}}^{3} r^{5} α λ ω^{2} - 8 \\, {\\mathrm{m}}^{3} r^{6} λ^{2} ω^{2} + 48 \\, {\\mathrm{l}} {\\mathrm{m}} r^{5} α^{4} λ e^{\\left(\\frac{6 \\, r}{{\\mathrm{l}} α - 2 \\, {\\mathrm{m}}}\\right)} - 36 \\, {\\mathrm{l}} r^{6} α^{4} λ e^{\\left(\\frac{6 \\, r}{{\\mathrm{l}} α - 2 \\, {\\mathrm{m}}}\\right)} + 6 \\, {\\mathrm{l}}^{2} {\\mathrm{m}} r^{4} α^{4} λ e^{\\left(\\frac{4 \\, r}{{\\mathrm{l}} α - 2 \\, {\\mathrm{m}}}\\right)} - 24 \\, {\\mathrm{l}}^{2} r^{5} α^{4} λ e^{\\left(\\frac{4 \\, r}{{\\mathrm{l}} α - 2 \\, {\\mathrm{m}}}\\right)} - 24 \\, {\\mathrm{l}} {\\mathrm{m}}^{2} r^{4} α^{3} λ^{2} e^{\\left(\\frac{4 \\, r}{{\\mathrm{l}} α - 2 \\, {\\mathrm{m}}}\\right)} + 48 \\, {\\mathrm{l}} {\\mathrm{m}} r^{5} α^{3} λ^{2} e^{\\left(\\frac{4 \\, r}{{\\mathrm{l}} α - 2 \\, {\\mathrm{m}}}\\right)} - 2 \\, {\\mathrm{l}} r^{6} α^{3} λ^{2} e^{\\left(\\frac{4 \\, r}{{\\mathrm{l}} α - 2 \\, {\\mathrm{m}}}\\right)} - 18 \\, {\\mathrm{l}}^{3} {\\mathrm{m}}^{2} r^{2} α^{4} λ e^{\\left(\\frac{2 \\, r}{{\\mathrm{l}} α - 2 \\, {\\mathrm{m}}}\\right)} + 12 \\, {\\mathrm{l}}^{2} {\\mathrm{m}}^{2} r^{3} α^{3} λ^{2} e^{\\left(\\frac{2 \\, r}{{\\mathrm{l}} α - 2 \\, {\\mathrm{m}}}\\right)} + 48 \\, {\\mathrm{l}}^{2} {\\mathrm{m}} r^{4} α^{3} λ^{2} e^{\\left(\\frac{2 \\, r}{{\\mathrm{l}} α - 2 \\, {\\mathrm{m}}}\\right)} - 12 \\, {\\mathrm{l}}^{2} r^{5} α^{3} λ^{2} e^{\\left(\\frac{2 \\, r}{{\\mathrm{l}} α - 2 \\, {\\mathrm{m}}}\\right)} - 24 \\, {\\mathrm{l}} {\\mathrm{m}}^{2} r^{4} α^{2} λ^{3} e^{\\left(\\frac{2 \\, r}{{\\mathrm{l}} α - 2 \\, {\\mathrm{m}}}\\right)} + 72 \\, {\\mathrm{m}}^{3} r^{6} α ω^{2} e^{\\left(\\frac{2 \\, r}{{\\mathrm{l}} α - 2 \\, {\\mathrm{m}}}\\right)} + 12 \\, {\\mathrm{l}}^{3} {\\mathrm{m}}^{2} r^{2} α^{3} λ^{2} - 2 \\, {\\mathrm{l}}^{3} {\\mathrm{m}} r^{3} α^{3} λ^{2} - 2 \\, {\\mathrm{l}}^{3} r^{4} α^{3} λ^{2} - 24 \\, {\\mathrm{l}}^{2} {\\mathrm{m}}^{2} r^{3} α^{2} λ^{3} + 12 \\, {\\mathrm{l}}^{2} {\\mathrm{m}} r^{4} α^{2} λ^{3} + 108 \\, {\\mathrm{l}} {\\mathrm{m}}^{4} r^{4} α ω^{2} - 48 \\, {\\mathrm{m}}^{4} r^{5} λ ω^{2} - 18 \\, r^{7} α^{4} e^{\\left(\\frac{8 \\, r}{{\\mathrm{l}} α - 2 \\, {\\mathrm{m}}}\\right)} - 54 \\, {\\mathrm{l}} {\\mathrm{m}} r^{5} α^{4} e^{\\left(\\frac{6 \\, r}{{\\mathrm{l}} α - 2 \\, {\\mathrm{m}}}\\right)} - 48 \\, {\\mathrm{m}}^{2} r^{5} α^{3} λ e^{\\left(\\frac{6 \\, r}{{\\mathrm{l}} α - 2 \\, {\\mathrm{m}}}\\right)} + 72 \\, {\\mathrm{m}} r^{6} α^{3} λ e^{\\left(\\frac{6 \\, r}{{\\mathrm{l}} α - 2 \\, {\\mathrm{m}}}\\right)} - 6 \\, r^{7} α^{3} λ e^{\\left(\\frac{6 \\, r}{{\\mathrm{l}} α - 2 \\, {\\mathrm{m}}}\\right)} - 54 \\, {\\mathrm{l}}^{2} {\\mathrm{m}}^{2} r^{3} α^{4} e^{\\left(\\frac{4 \\, r}{{\\mathrm{l}} α - 2 \\, {\\mathrm{m}}}\\right)} - 24 \\, {\\mathrm{l}} {\\mathrm{m}}^{2} r^{4} α^{3} λ e^{\\left(\\frac{4 \\, r}{{\\mathrm{l}} α - 2 \\, {\\mathrm{m}}}\\right)} + 186 \\, {\\mathrm{l}} {\\mathrm{m}} r^{5} α^{3} λ e^{\\left(\\frac{4 \\, r}{{\\mathrm{l}} α - 2 \\, {\\mathrm{m}}}\\right)} - 48 \\, {\\mathrm{l}} r^{6} α^{3} λ e^{\\left(\\frac{4 \\, r}{{\\mathrm{l}} α - 2 \\, {\\mathrm{m}}}\\right)} + 16 \\, {\\mathrm{m}}^{3} r^{4} α^{2} λ^{2} e^{\\left(\\frac{4 \\, r}{{\\mathrm{l}} α - 2 \\, {\\mathrm{m}}}\\right)} - 48 \\, {\\mathrm{m}}^{2} r^{5} α^{2} λ^{2} e^{\\left(\\frac{4 \\, r}{{\\mathrm{l}} α - 2 \\, {\\mathrm{m}}}\\right)} + 4 \\, {\\mathrm{m}} r^{6} α^{2} λ^{2} e^{\\left(\\frac{4 \\, r}{{\\mathrm{l}} α - 2 \\, {\\mathrm{m}}}\\right)} - 18 \\, {\\mathrm{l}}^{3} {\\mathrm{m}}^{3} r α^{4} e^{\\left(\\frac{2 \\, r}{{\\mathrm{l}} α - 2 \\, {\\mathrm{m}}}\\right)} + 108 \\, {\\mathrm{l}}^{2} {\\mathrm{m}}^{3} r^{2} α^{3} λ e^{\\left(\\frac{2 \\, r}{{\\mathrm{l}} α - 2 \\, {\\mathrm{m}}}\\right)} + 36 \\, {\\mathrm{l}}^{2} {\\mathrm{m}}^{2} r^{3} α^{3} λ e^{\\left(\\frac{2 \\, r}{{\\mathrm{l}} α - 2 \\, {\\mathrm{m}}}\\right)} + 6 \\, {\\mathrm{l}}^{2} {\\mathrm{m}} r^{4} α^{3} λ e^{\\left(\\frac{2 \\, r}{{\\mathrm{l}} α - 2 \\, {\\mathrm{m}}}\\right)} - 12 \\, {\\mathrm{l}}^{2} r^{5} α^{3} λ e^{\\left(\\frac{2 \\, r}{{\\mathrm{l}} α - 2 \\, {\\mathrm{m}}}\\right)} - 24 \\, {\\mathrm{l}} {\\mathrm{m}}^{3} r^{3} α^{2} λ^{2} e^{\\left(\\frac{2 \\, r}{{\\mathrm{l}} α - 2 \\, {\\mathrm{m}}}\\right)} - 144 \\, {\\mathrm{l}} {\\mathrm{m}}^{2} r^{4} α^{2} λ^{2} e^{\\left(\\frac{2 \\, r}{{\\mathrm{l}} α - 2 \\, {\\mathrm{m}}}\\right)} + 52 \\, {\\mathrm{l}} {\\mathrm{m}} r^{5} α^{2} λ^{2} e^{\\left(\\frac{2 \\, r}{{\\mathrm{l}} α - 2 \\, {\\mathrm{m}}}\\right)} - 2 \\, {\\mathrm{l}} r^{6} α^{2} λ^{2} e^{\\left(\\frac{2 \\, r}{{\\mathrm{l}} α - 2 \\, {\\mathrm{m}}}\\right)} + 16 \\, {\\mathrm{m}}^{3} r^{4} α λ^{3} e^{\\left(\\frac{2 \\, r}{{\\mathrm{l}} α - 2 \\, {\\mathrm{m}}}\\right)} + 36 \\, {\\mathrm{l}}^{3} {\\mathrm{m}}^{3} r α^{3} λ - 18 \\, {\\mathrm{l}}^{3} {\\mathrm{m}}^{2} r^{2} α^{3} λ - 72 \\, {\\mathrm{l}}^{2} {\\mathrm{m}}^{3} r^{2} α^{2} λ^{2} + 12 \\, {\\mathrm{l}}^{2} {\\mathrm{m}}^{2} r^{3} α^{2} λ^{2} + 12 \\, {\\mathrm{l}}^{2} {\\mathrm{m}} r^{4} α^{2} λ^{2} + 48 \\, {\\mathrm{l}} {\\mathrm{m}}^{3} r^{3} α λ^{3} - 24 \\, {\\mathrm{l}} {\\mathrm{m}}^{2} r^{4} α λ^{3} - 72 \\, {\\mathrm{m}}^{5} r^{4} ω^{2} + 108 \\, {\\mathrm{m}}^{2} r^{5} α^{3} e^{\\left(\\frac{6 \\, r}{{\\mathrm{l}} α - 2 \\, {\\mathrm{m}}}\\right)} + 36 \\, {\\mathrm{m}} r^{6} α^{3} e^{\\left(\\frac{6 \\, r}{{\\mathrm{l}} α - 2 \\, {\\mathrm{m}}}\\right)} - 18 \\, r^{7} α^{3} e^{\\left(\\frac{6 \\, r}{{\\mathrm{l}} α - 2 \\, {\\mathrm{m}}}\\right)} + 216 \\, {\\mathrm{l}} {\\mathrm{m}}^{3} r^{3} α^{3} e^{\\left(\\frac{4 \\, r}{{\\mathrm{l}} α - 2 \\, {\\mathrm{m}}}\\right)} + 108 \\, {\\mathrm{l}} {\\mathrm{m}}^{2} r^{4} α^{3} e^{\\left(\\frac{4 \\, r}{{\\mathrm{l}} α - 2 \\, {\\mathrm{m}}}\\right)} - 54 \\, {\\mathrm{l}} {\\mathrm{m}} r^{5} α^{3} e^{\\left(\\frac{4 \\, r}{{\\mathrm{l}} α - 2 \\, {\\mathrm{m}}}\\right)} + 24 \\, {\\mathrm{m}}^{3} r^{4} α^{2} λ e^{\\left(\\frac{4 \\, r}{{\\mathrm{l}} α - 2 \\, {\\mathrm{m}}}\\right)} - 276 \\, {\\mathrm{m}}^{2} r^{5} α^{2} λ e^{\\left(\\frac{4 \\, r}{{\\mathrm{l}} α - 2 \\, {\\mathrm{m}}}\\right)} + 108 \\, {\\mathrm{m}} r^{6} α^{2} λ e^{\\left(\\frac{4 \\, r}{{\\mathrm{l}} α - 2 \\, {\\mathrm{m}}}\\right)} - 6 \\, r^{7} α^{2} λ e^{\\left(\\frac{4 \\, r}{{\\mathrm{l}} α - 2 \\, {\\mathrm{m}}}\\right)} + 108 \\, {\\mathrm{l}}^{2} {\\mathrm{m}}^{4} r α^{3} e^{\\left(\\frac{2 \\, r}{{\\mathrm{l}} α - 2 \\, {\\mathrm{m}}}\\right)} + 108 \\, {\\mathrm{l}}^{2} {\\mathrm{m}}^{3} r^{2} α^{3} e^{\\left(\\frac{2 \\, r}{{\\mathrm{l}} α - 2 \\, {\\mathrm{m}}}\\right)} - 54 \\, {\\mathrm{l}}^{2} {\\mathrm{m}}^{2} r^{3} α^{3} e^{\\left(\\frac{2 \\, r}{{\\mathrm{l}} α - 2 \\, {\\mathrm{m}}}\\right)} - 216 \\, {\\mathrm{l}} {\\mathrm{m}}^{4} r^{2} α^{2} λ e^{\\left(\\frac{2 \\, r}{{\\mathrm{l}} α - 2 \\, {\\mathrm{m}}}\\right)} - 144 \\, {\\mathrm{l}} {\\mathrm{m}}^{3} r^{3} α^{2} λ e^{\\left(\\frac{2 \\, r}{{\\mathrm{l}} α - 2 \\, {\\mathrm{m}}}\\right)} - 60 \\, {\\mathrm{l}} {\\mathrm{m}}^{2} r^{4} α^{2} λ e^{\\left(\\frac{2 \\, r}{{\\mathrm{l}} α - 2 \\, {\\mathrm{m}}}\\right)} + 90 \\, {\\mathrm{l}} {\\mathrm{m}} r^{5} α^{2} λ e^{\\left(\\frac{2 \\, r}{{\\mathrm{l}} α - 2 \\, {\\mathrm{m}}}\\right)} - 12 \\, {\\mathrm{l}} r^{6} α^{2} λ e^{\\left(\\frac{2 \\, r}{{\\mathrm{l}} α - 2 \\, {\\mathrm{m}}}\\right)} + 16 \\, {\\mathrm{m}}^{4} r^{3} α λ^{2} e^{\\left(\\frac{2 \\, r}{{\\mathrm{l}} α - 2 \\, {\\mathrm{m}}}\\right)} + 128 \\, {\\mathrm{m}}^{3} r^{4} α λ^{2} e^{\\left(\\frac{2 \\, r}{{\\mathrm{l}} α - 2 \\, {\\mathrm{m}}}\\right)} - 56 \\, {\\mathrm{m}}^{2} r^{5} α λ^{2} e^{\\left(\\frac{2 \\, r}{{\\mathrm{l}} α - 2 \\, {\\mathrm{m}}}\\right)} + 4 \\, {\\mathrm{m}} r^{6} α λ^{2} e^{\\left(\\frac{2 \\, r}{{\\mathrm{l}} α - 2 \\, {\\mathrm{m}}}\\right)} + 36 \\, {\\mathrm{l}}^{3} {\\mathrm{m}}^{4} α^{3} - 18 \\, {\\mathrm{l}}^{3} {\\mathrm{m}}^{3} r α^{3} - 216 \\, {\\mathrm{l}}^{2} {\\mathrm{m}}^{4} r α^{2} λ + 108 \\, {\\mathrm{l}}^{2} {\\mathrm{m}}^{3} r^{2} α^{2} λ + 144 \\, {\\mathrm{l}} {\\mathrm{m}}^{4} r^{2} α λ^{2} - 24 \\, {\\mathrm{l}} {\\mathrm{m}}^{3} r^{3} α λ^{2} - 24 \\, {\\mathrm{l}} {\\mathrm{m}}^{2} r^{4} α λ^{2} - 32 \\, {\\mathrm{m}}^{4} r^{3} λ^{3} + 16 \\, {\\mathrm{m}}^{3} r^{4} λ^{3} - 216 \\, {\\mathrm{m}}^{4} r^{3} α^{2} e^{\\left(\\frac{4 \\, r}{{\\mathrm{l}} α - 2 \\, {\\mathrm{m}}}\\right)} - 216 \\, {\\mathrm{m}}^{3} r^{4} α^{2} e^{\\left(\\frac{4 \\, r}{{\\mathrm{l}} α - 2 \\, {\\mathrm{m}}}\\right)} + 108 \\, {\\mathrm{m}}^{2} r^{5} α^{2} e^{\\left(\\frac{4 \\, r}{{\\mathrm{l}} α - 2 \\, {\\mathrm{m}}}\\right)} - 216 \\, {\\mathrm{l}} {\\mathrm{m}}^{5} r α^{2} e^{\\left(\\frac{2 \\, r}{{\\mathrm{l}} α - 2 \\, {\\mathrm{m}}}\\right)} - 432 \\, {\\mathrm{l}} {\\mathrm{m}}^{4} r^{2} α^{2} e^{\\left(\\frac{2 \\, r}{{\\mathrm{l}} α - 2 \\, {\\mathrm{m}}}\\right)} + 216 \\, {\\mathrm{l}} {\\mathrm{m}}^{3} r^{3} α^{2} e^{\\left(\\frac{2 \\, r}{{\\mathrm{l}} α - 2 \\, {\\mathrm{m}}}\\right)} + 144 \\, {\\mathrm{m}}^{5} r^{2} α λ e^{\\left(\\frac{2 \\, r}{{\\mathrm{l}} α - 2 \\, {\\mathrm{m}}}\\right)} + 144 \\, {\\mathrm{m}}^{4} r^{3} α λ e^{\\left(\\frac{2 \\, r}{{\\mathrm{l}} α - 2 \\, {\\mathrm{m}}}\\right)} + 96 \\, {\\mathrm{m}}^{3} r^{4} α λ e^{\\left(\\frac{2 \\, r}{{\\mathrm{l}} α - 2 \\, {\\mathrm{m}}}\\right)} - 132 \\, {\\mathrm{m}}^{2} r^{5} α λ e^{\\left(\\frac{2 \\, r}{{\\mathrm{l}} α - 2 \\, {\\mathrm{m}}}\\right)} + 24 \\, {\\mathrm{m}} r^{6} α λ e^{\\left(\\frac{2 \\, r}{{\\mathrm{l}} α - 2 \\, {\\mathrm{m}}}\\right)} - 216 \\, {\\mathrm{l}}^{2} {\\mathrm{m}}^{5} α^{2} + 108 \\, {\\mathrm{l}}^{2} {\\mathrm{m}}^{4} r α^{2} + 432 \\, {\\mathrm{l}} {\\mathrm{m}}^{5} r α λ - 216 \\, {\\mathrm{l}} {\\mathrm{m}}^{4} r^{2} α λ - 96 \\, {\\mathrm{m}}^{5} r^{2} λ^{2} + 16 \\, {\\mathrm{m}}^{4} r^{3} λ^{2} + 16 \\, {\\mathrm{m}}^{3} r^{4} λ^{2} + 144 \\, {\\mathrm{m}}^{6} r α e^{\\left(\\frac{2 \\, r}{{\\mathrm{l}} α - 2 \\, {\\mathrm{m}}}\\right)} + 432 \\, {\\mathrm{m}}^{5} r^{2} α e^{\\left(\\frac{2 \\, r}{{\\mathrm{l}} α - 2 \\, {\\mathrm{m}}}\\right)} - 216 \\, {\\mathrm{m}}^{4} r^{3} α e^{\\left(\\frac{2 \\, r}{{\\mathrm{l}} α - 2 \\, {\\mathrm{m}}}\\right)} + 432 \\, {\\mathrm{l}} {\\mathrm{m}}^{6} α - 216 \\, {\\mathrm{l}} {\\mathrm{m}}^{5} r α - 288 \\, {\\mathrm{m}}^{6} r λ + 144 \\, {\\mathrm{m}}^{5} r^{2} λ - 288 \\, {\\mathrm{m}}^{7} + 144 \\, {\\mathrm{m}}^{6} r\\right)} \\hat{K}\\left({r_\\star}\\right)}{{\\left({\\mathrm{l}} r α λ + 3 \\, r^{2} α e^{\\left(\\frac{2 \\, r}{{\\mathrm{l}} α - 2 \\, {\\mathrm{m}}}\\right)} + 3 \\, {\\mathrm{l}} {\\mathrm{m}} α - 2 \\, {\\mathrm{m}} r λ - 6 \\, {\\mathrm{m}}^{2}\\right)}^{2} {\\left({\\mathrm{l}} α - 2 \\, {\\mathrm{m}}\\right)} r^{4}} + \\frac{\\partial^{2}}{(\\partial {r_\\star})^{2}}\\hat{K}\\left({r_\\star}\\right) = 0\\)</html>"
      ],
      "text/latex": [
       "$\\displaystyle \\frac{{\\left({\\mathrm{l}}^{3} r^{6} α^{3} λ^{2} ω^{2} + 6 \\, {\\mathrm{l}}^{2} r^{7} α^{3} λ ω^{2} e^{\\left(\\frac{2 \\, r}{{\\mathrm{l}} α - 2 \\, {\\mathrm{m}}}\\right)} + 6 \\, {\\mathrm{l}}^{3} {\\mathrm{m}} r^{5} α^{3} λ ω^{2} - 6 \\, {\\mathrm{l}}^{2} {\\mathrm{m}} r^{6} α^{2} λ^{2} ω^{2} - 2 \\, {\\mathrm{l}}^{3} r^{4} α^{5} λ^{2} e^{\\left(\\frac{4 \\, r}{{\\mathrm{l}} α - 2 \\, {\\mathrm{m}}}\\right)} + 9 \\, {\\mathrm{l}} r^{8} α^{3} ω^{2} e^{\\left(\\frac{4 \\, r}{{\\mathrm{l}} α - 2 \\, {\\mathrm{m}}}\\right)} - 2 \\, {\\mathrm{l}}^{3} r^{4} α^{4} λ^{3} e^{\\left(\\frac{2 \\, r}{{\\mathrm{l}} α - 2 \\, {\\mathrm{m}}}\\right)} + 18 \\, {\\mathrm{l}}^{2} {\\mathrm{m}} r^{6} α^{3} ω^{2} e^{\\left(\\frac{2 \\, r}{{\\mathrm{l}} α - 2 \\, {\\mathrm{m}}}\\right)} - 24 \\, {\\mathrm{l}} {\\mathrm{m}} r^{7} α^{2} λ ω^{2} e^{\\left(\\frac{2 \\, r}{{\\mathrm{l}} α - 2 \\, {\\mathrm{m}}}\\right)} + 9 \\, {\\mathrm{l}}^{3} {\\mathrm{m}}^{2} r^{4} α^{3} ω^{2} - 36 \\, {\\mathrm{l}}^{2} {\\mathrm{m}}^{2} r^{5} α^{2} λ ω^{2} + 12 \\, {\\mathrm{l}} {\\mathrm{m}}^{2} r^{6} α λ^{2} ω^{2} - 12 \\, {\\mathrm{l}}^{2} r^{5} α^{5} λ e^{\\left(\\frac{6 \\, r}{{\\mathrm{l}} α - 2 \\, {\\mathrm{m}}}\\right)} + 12 \\, {\\mathrm{l}}^{2} {\\mathrm{m}} r^{4} α^{4} λ^{2} e^{\\left(\\frac{4 \\, r}{{\\mathrm{l}} α - 2 \\, {\\mathrm{m}}}\\right)} - 12 \\, {\\mathrm{l}}^{2} r^{5} α^{4} λ^{2} e^{\\left(\\frac{4 \\, r}{{\\mathrm{l}} α - 2 \\, {\\mathrm{m}}}\\right)} - 18 \\, {\\mathrm{m}} r^{8} α^{2} ω^{2} e^{\\left(\\frac{4 \\, r}{{\\mathrm{l}} α - 2 \\, {\\mathrm{m}}}\\right)} - 2 \\, {\\mathrm{l}}^{3} {\\mathrm{m}} r^{3} α^{4} λ^{2} e^{\\left(\\frac{2 \\, r}{{\\mathrm{l}} α - 2 \\, {\\mathrm{m}}}\\right)} - 4 \\, {\\mathrm{l}}^{3} r^{4} α^{4} λ^{2} e^{\\left(\\frac{2 \\, r}{{\\mathrm{l}} α - 2 \\, {\\mathrm{m}}}\\right)} + 12 \\, {\\mathrm{l}}^{2} {\\mathrm{m}} r^{4} α^{3} λ^{3} e^{\\left(\\frac{2 \\, r}{{\\mathrm{l}} α - 2 \\, {\\mathrm{m}}}\\right)} - 72 \\, {\\mathrm{l}} {\\mathrm{m}}^{2} r^{6} α^{2} ω^{2} e^{\\left(\\frac{2 \\, r}{{\\mathrm{l}} α - 2 \\, {\\mathrm{m}}}\\right)} + 24 \\, {\\mathrm{m}}^{2} r^{7} α λ ω^{2} e^{\\left(\\frac{2 \\, r}{{\\mathrm{l}} α - 2 \\, {\\mathrm{m}}}\\right)} + 4 \\, {\\mathrm{l}}^{3} {\\mathrm{m}} r^{3} α^{3} λ^{3} - 2 \\, {\\mathrm{l}}^{3} r^{4} α^{3} λ^{3} - 54 \\, {\\mathrm{l}}^{2} {\\mathrm{m}}^{3} r^{4} α^{2} ω^{2} + 72 \\, {\\mathrm{l}} {\\mathrm{m}}^{3} r^{5} α λ ω^{2} - 8 \\, {\\mathrm{m}}^{3} r^{6} λ^{2} ω^{2} + 48 \\, {\\mathrm{l}} {\\mathrm{m}} r^{5} α^{4} λ e^{\\left(\\frac{6 \\, r}{{\\mathrm{l}} α - 2 \\, {\\mathrm{m}}}\\right)} - 36 \\, {\\mathrm{l}} r^{6} α^{4} λ e^{\\left(\\frac{6 \\, r}{{\\mathrm{l}} α - 2 \\, {\\mathrm{m}}}\\right)} + 6 \\, {\\mathrm{l}}^{2} {\\mathrm{m}} r^{4} α^{4} λ e^{\\left(\\frac{4 \\, r}{{\\mathrm{l}} α - 2 \\, {\\mathrm{m}}}\\right)} - 24 \\, {\\mathrm{l}}^{2} r^{5} α^{4} λ e^{\\left(\\frac{4 \\, r}{{\\mathrm{l}} α - 2 \\, {\\mathrm{m}}}\\right)} - 24 \\, {\\mathrm{l}} {\\mathrm{m}}^{2} r^{4} α^{3} λ^{2} e^{\\left(\\frac{4 \\, r}{{\\mathrm{l}} α - 2 \\, {\\mathrm{m}}}\\right)} + 48 \\, {\\mathrm{l}} {\\mathrm{m}} r^{5} α^{3} λ^{2} e^{\\left(\\frac{4 \\, r}{{\\mathrm{l}} α - 2 \\, {\\mathrm{m}}}\\right)} - 2 \\, {\\mathrm{l}} r^{6} α^{3} λ^{2} e^{\\left(\\frac{4 \\, r}{{\\mathrm{l}} α - 2 \\, {\\mathrm{m}}}\\right)} - 18 \\, {\\mathrm{l}}^{3} {\\mathrm{m}}^{2} r^{2} α^{4} λ e^{\\left(\\frac{2 \\, r}{{\\mathrm{l}} α - 2 \\, {\\mathrm{m}}}\\right)} + 12 \\, {\\mathrm{l}}^{2} {\\mathrm{m}}^{2} r^{3} α^{3} λ^{2} e^{\\left(\\frac{2 \\, r}{{\\mathrm{l}} α - 2 \\, {\\mathrm{m}}}\\right)} + 48 \\, {\\mathrm{l}}^{2} {\\mathrm{m}} r^{4} α^{3} λ^{2} e^{\\left(\\frac{2 \\, r}{{\\mathrm{l}} α - 2 \\, {\\mathrm{m}}}\\right)} - 12 \\, {\\mathrm{l}}^{2} r^{5} α^{3} λ^{2} e^{\\left(\\frac{2 \\, r}{{\\mathrm{l}} α - 2 \\, {\\mathrm{m}}}\\right)} - 24 \\, {\\mathrm{l}} {\\mathrm{m}}^{2} r^{4} α^{2} λ^{3} e^{\\left(\\frac{2 \\, r}{{\\mathrm{l}} α - 2 \\, {\\mathrm{m}}}\\right)} + 72 \\, {\\mathrm{m}}^{3} r^{6} α ω^{2} e^{\\left(\\frac{2 \\, r}{{\\mathrm{l}} α - 2 \\, {\\mathrm{m}}}\\right)} + 12 \\, {\\mathrm{l}}^{3} {\\mathrm{m}}^{2} r^{2} α^{3} λ^{2} - 2 \\, {\\mathrm{l}}^{3} {\\mathrm{m}} r^{3} α^{3} λ^{2} - 2 \\, {\\mathrm{l}}^{3} r^{4} α^{3} λ^{2} - 24 \\, {\\mathrm{l}}^{2} {\\mathrm{m}}^{2} r^{3} α^{2} λ^{3} + 12 \\, {\\mathrm{l}}^{2} {\\mathrm{m}} r^{4} α^{2} λ^{3} + 108 \\, {\\mathrm{l}} {\\mathrm{m}}^{4} r^{4} α ω^{2} - 48 \\, {\\mathrm{m}}^{4} r^{5} λ ω^{2} - 18 \\, r^{7} α^{4} e^{\\left(\\frac{8 \\, r}{{\\mathrm{l}} α - 2 \\, {\\mathrm{m}}}\\right)} - 54 \\, {\\mathrm{l}} {\\mathrm{m}} r^{5} α^{4} e^{\\left(\\frac{6 \\, r}{{\\mathrm{l}} α - 2 \\, {\\mathrm{m}}}\\right)} - 48 \\, {\\mathrm{m}}^{2} r^{5} α^{3} λ e^{\\left(\\frac{6 \\, r}{{\\mathrm{l}} α - 2 \\, {\\mathrm{m}}}\\right)} + 72 \\, {\\mathrm{m}} r^{6} α^{3} λ e^{\\left(\\frac{6 \\, r}{{\\mathrm{l}} α - 2 \\, {\\mathrm{m}}}\\right)} - 6 \\, r^{7} α^{3} λ e^{\\left(\\frac{6 \\, r}{{\\mathrm{l}} α - 2 \\, {\\mathrm{m}}}\\right)} - 54 \\, {\\mathrm{l}}^{2} {\\mathrm{m}}^{2} r^{3} α^{4} e^{\\left(\\frac{4 \\, r}{{\\mathrm{l}} α - 2 \\, {\\mathrm{m}}}\\right)} - 24 \\, {\\mathrm{l}} {\\mathrm{m}}^{2} r^{4} α^{3} λ e^{\\left(\\frac{4 \\, r}{{\\mathrm{l}} α - 2 \\, {\\mathrm{m}}}\\right)} + 186 \\, {\\mathrm{l}} {\\mathrm{m}} r^{5} α^{3} λ e^{\\left(\\frac{4 \\, r}{{\\mathrm{l}} α - 2 \\, {\\mathrm{m}}}\\right)} - 48 \\, {\\mathrm{l}} r^{6} α^{3} λ e^{\\left(\\frac{4 \\, r}{{\\mathrm{l}} α - 2 \\, {\\mathrm{m}}}\\right)} + 16 \\, {\\mathrm{m}}^{3} r^{4} α^{2} λ^{2} e^{\\left(\\frac{4 \\, r}{{\\mathrm{l}} α - 2 \\, {\\mathrm{m}}}\\right)} - 48 \\, {\\mathrm{m}}^{2} r^{5} α^{2} λ^{2} e^{\\left(\\frac{4 \\, r}{{\\mathrm{l}} α - 2 \\, {\\mathrm{m}}}\\right)} + 4 \\, {\\mathrm{m}} r^{6} α^{2} λ^{2} e^{\\left(\\frac{4 \\, r}{{\\mathrm{l}} α - 2 \\, {\\mathrm{m}}}\\right)} - 18 \\, {\\mathrm{l}}^{3} {\\mathrm{m}}^{3} r α^{4} e^{\\left(\\frac{2 \\, r}{{\\mathrm{l}} α - 2 \\, {\\mathrm{m}}}\\right)} + 108 \\, {\\mathrm{l}}^{2} {\\mathrm{m}}^{3} r^{2} α^{3} λ e^{\\left(\\frac{2 \\, r}{{\\mathrm{l}} α - 2 \\, {\\mathrm{m}}}\\right)} + 36 \\, {\\mathrm{l}}^{2} {\\mathrm{m}}^{2} r^{3} α^{3} λ e^{\\left(\\frac{2 \\, r}{{\\mathrm{l}} α - 2 \\, {\\mathrm{m}}}\\right)} + 6 \\, {\\mathrm{l}}^{2} {\\mathrm{m}} r^{4} α^{3} λ e^{\\left(\\frac{2 \\, r}{{\\mathrm{l}} α - 2 \\, {\\mathrm{m}}}\\right)} - 12 \\, {\\mathrm{l}}^{2} r^{5} α^{3} λ e^{\\left(\\frac{2 \\, r}{{\\mathrm{l}} α - 2 \\, {\\mathrm{m}}}\\right)} - 24 \\, {\\mathrm{l}} {\\mathrm{m}}^{3} r^{3} α^{2} λ^{2} e^{\\left(\\frac{2 \\, r}{{\\mathrm{l}} α - 2 \\, {\\mathrm{m}}}\\right)} - 144 \\, {\\mathrm{l}} {\\mathrm{m}}^{2} r^{4} α^{2} λ^{2} e^{\\left(\\frac{2 \\, r}{{\\mathrm{l}} α - 2 \\, {\\mathrm{m}}}\\right)} + 52 \\, {\\mathrm{l}} {\\mathrm{m}} r^{5} α^{2} λ^{2} e^{\\left(\\frac{2 \\, r}{{\\mathrm{l}} α - 2 \\, {\\mathrm{m}}}\\right)} - 2 \\, {\\mathrm{l}} r^{6} α^{2} λ^{2} e^{\\left(\\frac{2 \\, r}{{\\mathrm{l}} α - 2 \\, {\\mathrm{m}}}\\right)} + 16 \\, {\\mathrm{m}}^{3} r^{4} α λ^{3} e^{\\left(\\frac{2 \\, r}{{\\mathrm{l}} α - 2 \\, {\\mathrm{m}}}\\right)} + 36 \\, {\\mathrm{l}}^{3} {\\mathrm{m}}^{3} r α^{3} λ - 18 \\, {\\mathrm{l}}^{3} {\\mathrm{m}}^{2} r^{2} α^{3} λ - 72 \\, {\\mathrm{l}}^{2} {\\mathrm{m}}^{3} r^{2} α^{2} λ^{2} + 12 \\, {\\mathrm{l}}^{2} {\\mathrm{m}}^{2} r^{3} α^{2} λ^{2} + 12 \\, {\\mathrm{l}}^{2} {\\mathrm{m}} r^{4} α^{2} λ^{2} + 48 \\, {\\mathrm{l}} {\\mathrm{m}}^{3} r^{3} α λ^{3} - 24 \\, {\\mathrm{l}} {\\mathrm{m}}^{2} r^{4} α λ^{3} - 72 \\, {\\mathrm{m}}^{5} r^{4} ω^{2} + 108 \\, {\\mathrm{m}}^{2} r^{5} α^{3} e^{\\left(\\frac{6 \\, r}{{\\mathrm{l}} α - 2 \\, {\\mathrm{m}}}\\right)} + 36 \\, {\\mathrm{m}} r^{6} α^{3} e^{\\left(\\frac{6 \\, r}{{\\mathrm{l}} α - 2 \\, {\\mathrm{m}}}\\right)} - 18 \\, r^{7} α^{3} e^{\\left(\\frac{6 \\, r}{{\\mathrm{l}} α - 2 \\, {\\mathrm{m}}}\\right)} + 216 \\, {\\mathrm{l}} {\\mathrm{m}}^{3} r^{3} α^{3} e^{\\left(\\frac{4 \\, r}{{\\mathrm{l}} α - 2 \\, {\\mathrm{m}}}\\right)} + 108 \\, {\\mathrm{l}} {\\mathrm{m}}^{2} r^{4} α^{3} e^{\\left(\\frac{4 \\, r}{{\\mathrm{l}} α - 2 \\, {\\mathrm{m}}}\\right)} - 54 \\, {\\mathrm{l}} {\\mathrm{m}} r^{5} α^{3} e^{\\left(\\frac{4 \\, r}{{\\mathrm{l}} α - 2 \\, {\\mathrm{m}}}\\right)} + 24 \\, {\\mathrm{m}}^{3} r^{4} α^{2} λ e^{\\left(\\frac{4 \\, r}{{\\mathrm{l}} α - 2 \\, {\\mathrm{m}}}\\right)} - 276 \\, {\\mathrm{m}}^{2} r^{5} α^{2} λ e^{\\left(\\frac{4 \\, r}{{\\mathrm{l}} α - 2 \\, {\\mathrm{m}}}\\right)} + 108 \\, {\\mathrm{m}} r^{6} α^{2} λ e^{\\left(\\frac{4 \\, r}{{\\mathrm{l}} α - 2 \\, {\\mathrm{m}}}\\right)} - 6 \\, r^{7} α^{2} λ e^{\\left(\\frac{4 \\, r}{{\\mathrm{l}} α - 2 \\, {\\mathrm{m}}}\\right)} + 108 \\, {\\mathrm{l}}^{2} {\\mathrm{m}}^{4} r α^{3} e^{\\left(\\frac{2 \\, r}{{\\mathrm{l}} α - 2 \\, {\\mathrm{m}}}\\right)} + 108 \\, {\\mathrm{l}}^{2} {\\mathrm{m}}^{3} r^{2} α^{3} e^{\\left(\\frac{2 \\, r}{{\\mathrm{l}} α - 2 \\, {\\mathrm{m}}}\\right)} - 54 \\, {\\mathrm{l}}^{2} {\\mathrm{m}}^{2} r^{3} α^{3} e^{\\left(\\frac{2 \\, r}{{\\mathrm{l}} α - 2 \\, {\\mathrm{m}}}\\right)} - 216 \\, {\\mathrm{l}} {\\mathrm{m}}^{4} r^{2} α^{2} λ e^{\\left(\\frac{2 \\, r}{{\\mathrm{l}} α - 2 \\, {\\mathrm{m}}}\\right)} - 144 \\, {\\mathrm{l}} {\\mathrm{m}}^{3} r^{3} α^{2} λ e^{\\left(\\frac{2 \\, r}{{\\mathrm{l}} α - 2 \\, {\\mathrm{m}}}\\right)} - 60 \\, {\\mathrm{l}} {\\mathrm{m}}^{2} r^{4} α^{2} λ e^{\\left(\\frac{2 \\, r}{{\\mathrm{l}} α - 2 \\, {\\mathrm{m}}}\\right)} + 90 \\, {\\mathrm{l}} {\\mathrm{m}} r^{5} α^{2} λ e^{\\left(\\frac{2 \\, r}{{\\mathrm{l}} α - 2 \\, {\\mathrm{m}}}\\right)} - 12 \\, {\\mathrm{l}} r^{6} α^{2} λ e^{\\left(\\frac{2 \\, r}{{\\mathrm{l}} α - 2 \\, {\\mathrm{m}}}\\right)} + 16 \\, {\\mathrm{m}}^{4} r^{3} α λ^{2} e^{\\left(\\frac{2 \\, r}{{\\mathrm{l}} α - 2 \\, {\\mathrm{m}}}\\right)} + 128 \\, {\\mathrm{m}}^{3} r^{4} α λ^{2} e^{\\left(\\frac{2 \\, r}{{\\mathrm{l}} α - 2 \\, {\\mathrm{m}}}\\right)} - 56 \\, {\\mathrm{m}}^{2} r^{5} α λ^{2} e^{\\left(\\frac{2 \\, r}{{\\mathrm{l}} α - 2 \\, {\\mathrm{m}}}\\right)} + 4 \\, {\\mathrm{m}} r^{6} α λ^{2} e^{\\left(\\frac{2 \\, r}{{\\mathrm{l}} α - 2 \\, {\\mathrm{m}}}\\right)} + 36 \\, {\\mathrm{l}}^{3} {\\mathrm{m}}^{4} α^{3} - 18 \\, {\\mathrm{l}}^{3} {\\mathrm{m}}^{3} r α^{3} - 216 \\, {\\mathrm{l}}^{2} {\\mathrm{m}}^{4} r α^{2} λ + 108 \\, {\\mathrm{l}}^{2} {\\mathrm{m}}^{3} r^{2} α^{2} λ + 144 \\, {\\mathrm{l}} {\\mathrm{m}}^{4} r^{2} α λ^{2} - 24 \\, {\\mathrm{l}} {\\mathrm{m}}^{3} r^{3} α λ^{2} - 24 \\, {\\mathrm{l}} {\\mathrm{m}}^{2} r^{4} α λ^{2} - 32 \\, {\\mathrm{m}}^{4} r^{3} λ^{3} + 16 \\, {\\mathrm{m}}^{3} r^{4} λ^{3} - 216 \\, {\\mathrm{m}}^{4} r^{3} α^{2} e^{\\left(\\frac{4 \\, r}{{\\mathrm{l}} α - 2 \\, {\\mathrm{m}}}\\right)} - 216 \\, {\\mathrm{m}}^{3} r^{4} α^{2} e^{\\left(\\frac{4 \\, r}{{\\mathrm{l}} α - 2 \\, {\\mathrm{m}}}\\right)} + 108 \\, {\\mathrm{m}}^{2} r^{5} α^{2} e^{\\left(\\frac{4 \\, r}{{\\mathrm{l}} α - 2 \\, {\\mathrm{m}}}\\right)} - 216 \\, {\\mathrm{l}} {\\mathrm{m}}^{5} r α^{2} e^{\\left(\\frac{2 \\, r}{{\\mathrm{l}} α - 2 \\, {\\mathrm{m}}}\\right)} - 432 \\, {\\mathrm{l}} {\\mathrm{m}}^{4} r^{2} α^{2} e^{\\left(\\frac{2 \\, r}{{\\mathrm{l}} α - 2 \\, {\\mathrm{m}}}\\right)} + 216 \\, {\\mathrm{l}} {\\mathrm{m}}^{3} r^{3} α^{2} e^{\\left(\\frac{2 \\, r}{{\\mathrm{l}} α - 2 \\, {\\mathrm{m}}}\\right)} + 144 \\, {\\mathrm{m}}^{5} r^{2} α λ e^{\\left(\\frac{2 \\, r}{{\\mathrm{l}} α - 2 \\, {\\mathrm{m}}}\\right)} + 144 \\, {\\mathrm{m}}^{4} r^{3} α λ e^{\\left(\\frac{2 \\, r}{{\\mathrm{l}} α - 2 \\, {\\mathrm{m}}}\\right)} + 96 \\, {\\mathrm{m}}^{3} r^{4} α λ e^{\\left(\\frac{2 \\, r}{{\\mathrm{l}} α - 2 \\, {\\mathrm{m}}}\\right)} - 132 \\, {\\mathrm{m}}^{2} r^{5} α λ e^{\\left(\\frac{2 \\, r}{{\\mathrm{l}} α - 2 \\, {\\mathrm{m}}}\\right)} + 24 \\, {\\mathrm{m}} r^{6} α λ e^{\\left(\\frac{2 \\, r}{{\\mathrm{l}} α - 2 \\, {\\mathrm{m}}}\\right)} - 216 \\, {\\mathrm{l}}^{2} {\\mathrm{m}}^{5} α^{2} + 108 \\, {\\mathrm{l}}^{2} {\\mathrm{m}}^{4} r α^{2} + 432 \\, {\\mathrm{l}} {\\mathrm{m}}^{5} r α λ - 216 \\, {\\mathrm{l}} {\\mathrm{m}}^{4} r^{2} α λ - 96 \\, {\\mathrm{m}}^{5} r^{2} λ^{2} + 16 \\, {\\mathrm{m}}^{4} r^{3} λ^{2} + 16 \\, {\\mathrm{m}}^{3} r^{4} λ^{2} + 144 \\, {\\mathrm{m}}^{6} r α e^{\\left(\\frac{2 \\, r}{{\\mathrm{l}} α - 2 \\, {\\mathrm{m}}}\\right)} + 432 \\, {\\mathrm{m}}^{5} r^{2} α e^{\\left(\\frac{2 \\, r}{{\\mathrm{l}} α - 2 \\, {\\mathrm{m}}}\\right)} - 216 \\, {\\mathrm{m}}^{4} r^{3} α e^{\\left(\\frac{2 \\, r}{{\\mathrm{l}} α - 2 \\, {\\mathrm{m}}}\\right)} + 432 \\, {\\mathrm{l}} {\\mathrm{m}}^{6} α - 216 \\, {\\mathrm{l}} {\\mathrm{m}}^{5} r α - 288 \\, {\\mathrm{m}}^{6} r λ + 144 \\, {\\mathrm{m}}^{5} r^{2} λ - 288 \\, {\\mathrm{m}}^{7} + 144 \\, {\\mathrm{m}}^{6} r\\right)} \\hat{K}\\left({r_\\star}\\right)}{{\\left({\\mathrm{l}} r α λ + 3 \\, r^{2} α e^{\\left(\\frac{2 \\, r}{{\\mathrm{l}} α - 2 \\, {\\mathrm{m}}}\\right)} + 3 \\, {\\mathrm{l}} {\\mathrm{m}} α - 2 \\, {\\mathrm{m}} r λ - 6 \\, {\\mathrm{m}}^{2}\\right)}^{2} {\\left({\\mathrm{l}} α - 2 \\, {\\mathrm{m}}\\right)} r^{4}} + \\frac{\\partial^{2}}{(\\partial {r_\\star})^{2}}\\hat{K}\\left({r_\\star}\\right) = 0$"
      ],
      "text/plain": [
       "(lc^3*r^6*α^3*λ^2*ω^2 + 6*lc^2*r^7*α^3*λ*ω^2*e^(2*r/(lc*α - 2*mc)) + 6*lc^3*mc*r^5*α^3*λ*ω^2 - 6*lc^2*mc*r^6*α^2*λ^2*ω^2 - 2*lc^3*r^4*α^5*λ^2*e^(4*r/(lc*α - 2*mc)) + 9*lc*r^8*α^3*ω^2*e^(4*r/(lc*α - 2*mc)) - 2*lc^3*r^4*α^4*λ^3*e^(2*r/(lc*α - 2*mc)) + 18*lc^2*mc*r^6*α^3*ω^2*e^(2*r/(lc*α - 2*mc)) - 24*lc*mc*r^7*α^2*λ*ω^2*e^(2*r/(lc*α - 2*mc)) + 9*lc^3*mc^2*r^4*α^3*ω^2 - 36*lc^2*mc^2*r^5*α^2*λ*ω^2 + 12*lc*mc^2*r^6*α*λ^2*ω^2 - 12*lc^2*r^5*α^5*λ*e^(6*r/(lc*α - 2*mc)) + 12*lc^2*mc*r^4*α^4*λ^2*e^(4*r/(lc*α - 2*mc)) - 12*lc^2*r^5*α^4*λ^2*e^(4*r/(lc*α - 2*mc)) - 18*mc*r^8*α^2*ω^2*e^(4*r/(lc*α - 2*mc)) - 2*lc^3*mc*r^3*α^4*λ^2*e^(2*r/(lc*α - 2*mc)) - 4*lc^3*r^4*α^4*λ^2*e^(2*r/(lc*α - 2*mc)) + 12*lc^2*mc*r^4*α^3*λ^3*e^(2*r/(lc*α - 2*mc)) - 72*lc*mc^2*r^6*α^2*ω^2*e^(2*r/(lc*α - 2*mc)) + 24*mc^2*r^7*α*λ*ω^2*e^(2*r/(lc*α - 2*mc)) + 4*lc^3*mc*r^3*α^3*λ^3 - 2*lc^3*r^4*α^3*λ^3 - 54*lc^2*mc^3*r^4*α^2*ω^2 + 72*lc*mc^3*r^5*α*λ*ω^2 - 8*mc^3*r^6*λ^2*ω^2 + 48*lc*mc*r^5*α^4*λ*e^(6*r/(lc*α - 2*mc)) - 36*lc*r^6*α^4*λ*e^(6*r/(lc*α - 2*mc)) + 6*lc^2*mc*r^4*α^4*λ*e^(4*r/(lc*α - 2*mc)) - 24*lc^2*r^5*α^4*λ*e^(4*r/(lc*α - 2*mc)) - 24*lc*mc^2*r^4*α^3*λ^2*e^(4*r/(lc*α - 2*mc)) + 48*lc*mc*r^5*α^3*λ^2*e^(4*r/(lc*α - 2*mc)) - 2*lc*r^6*α^3*λ^2*e^(4*r/(lc*α - 2*mc)) - 18*lc^3*mc^2*r^2*α^4*λ*e^(2*r/(lc*α - 2*mc)) + 12*lc^2*mc^2*r^3*α^3*λ^2*e^(2*r/(lc*α - 2*mc)) + 48*lc^2*mc*r^4*α^3*λ^2*e^(2*r/(lc*α - 2*mc)) - 12*lc^2*r^5*α^3*λ^2*e^(2*r/(lc*α - 2*mc)) - 24*lc*mc^2*r^4*α^2*λ^3*e^(2*r/(lc*α - 2*mc)) + 72*mc^3*r^6*α*ω^2*e^(2*r/(lc*α - 2*mc)) + 12*lc^3*mc^2*r^2*α^3*λ^2 - 2*lc^3*mc*r^3*α^3*λ^2 - 2*lc^3*r^4*α^3*λ^2 - 24*lc^2*mc^2*r^3*α^2*λ^3 + 12*lc^2*mc*r^4*α^2*λ^3 + 108*lc*mc^4*r^4*α*ω^2 - 48*mc^4*r^5*λ*ω^2 - 18*r^7*α^4*e^(8*r/(lc*α - 2*mc)) - 54*lc*mc*r^5*α^4*e^(6*r/(lc*α - 2*mc)) - 48*mc^2*r^5*α^3*λ*e^(6*r/(lc*α - 2*mc)) + 72*mc*r^6*α^3*λ*e^(6*r/(lc*α - 2*mc)) - 6*r^7*α^3*λ*e^(6*r/(lc*α - 2*mc)) - 54*lc^2*mc^2*r^3*α^4*e^(4*r/(lc*α - 2*mc)) - 24*lc*mc^2*r^4*α^3*λ*e^(4*r/(lc*α - 2*mc)) + 186*lc*mc*r^5*α^3*λ*e^(4*r/(lc*α - 2*mc)) - 48*lc*r^6*α^3*λ*e^(4*r/(lc*α - 2*mc)) + 16*mc^3*r^4*α^2*λ^2*e^(4*r/(lc*α - 2*mc)) - 48*mc^2*r^5*α^2*λ^2*e^(4*r/(lc*α - 2*mc)) + 4*mc*r^6*α^2*λ^2*e^(4*r/(lc*α - 2*mc)) - 18*lc^3*mc^3*r*α^4*e^(2*r/(lc*α - 2*mc)) + 108*lc^2*mc^3*r^2*α^3*λ*e^(2*r/(lc*α - 2*mc)) + 36*lc^2*mc^2*r^3*α^3*λ*e^(2*r/(lc*α - 2*mc)) + 6*lc^2*mc*r^4*α^3*λ*e^(2*r/(lc*α - 2*mc)) - 12*lc^2*r^5*α^3*λ*e^(2*r/(lc*α - 2*mc)) - 24*lc*mc^3*r^3*α^2*λ^2*e^(2*r/(lc*α - 2*mc)) - 144*lc*mc^2*r^4*α^2*λ^2*e^(2*r/(lc*α - 2*mc)) + 52*lc*mc*r^5*α^2*λ^2*e^(2*r/(lc*α - 2*mc)) - 2*lc*r^6*α^2*λ^2*e^(2*r/(lc*α - 2*mc)) + 16*mc^3*r^4*α*λ^3*e^(2*r/(lc*α - 2*mc)) + 36*lc^3*mc^3*r*α^3*λ - 18*lc^3*mc^2*r^2*α^3*λ - 72*lc^2*mc^3*r^2*α^2*λ^2 + 12*lc^2*mc^2*r^3*α^2*λ^2 + 12*lc^2*mc*r^4*α^2*λ^2 + 48*lc*mc^3*r^3*α*λ^3 - 24*lc*mc^2*r^4*α*λ^3 - 72*mc^5*r^4*ω^2 + 108*mc^2*r^5*α^3*e^(6*r/(lc*α - 2*mc)) + 36*mc*r^6*α^3*e^(6*r/(lc*α - 2*mc)) - 18*r^7*α^3*e^(6*r/(lc*α - 2*mc)) + 216*lc*mc^3*r^3*α^3*e^(4*r/(lc*α - 2*mc)) + 108*lc*mc^2*r^4*α^3*e^(4*r/(lc*α - 2*mc)) - 54*lc*mc*r^5*α^3*e^(4*r/(lc*α - 2*mc)) + 24*mc^3*r^4*α^2*λ*e^(4*r/(lc*α - 2*mc)) - 276*mc^2*r^5*α^2*λ*e^(4*r/(lc*α - 2*mc)) + 108*mc*r^6*α^2*λ*e^(4*r/(lc*α - 2*mc)) - 6*r^7*α^2*λ*e^(4*r/(lc*α - 2*mc)) + 108*lc^2*mc^4*r*α^3*e^(2*r/(lc*α - 2*mc)) + 108*lc^2*mc^3*r^2*α^3*e^(2*r/(lc*α - 2*mc)) - 54*lc^2*mc^2*r^3*α^3*e^(2*r/(lc*α - 2*mc)) - 216*lc*mc^4*r^2*α^2*λ*e^(2*r/(lc*α - 2*mc)) - 144*lc*mc^3*r^3*α^2*λ*e^(2*r/(lc*α - 2*mc)) - 60*lc*mc^2*r^4*α^2*λ*e^(2*r/(lc*α - 2*mc)) + 90*lc*mc*r^5*α^2*λ*e^(2*r/(lc*α - 2*mc)) - 12*lc*r^6*α^2*λ*e^(2*r/(lc*α - 2*mc)) + 16*mc^4*r^3*α*λ^2*e^(2*r/(lc*α - 2*mc)) + 128*mc^3*r^4*α*λ^2*e^(2*r/(lc*α - 2*mc)) - 56*mc^2*r^5*α*λ^2*e^(2*r/(lc*α - 2*mc)) + 4*mc*r^6*α*λ^2*e^(2*r/(lc*α - 2*mc)) + 36*lc^3*mc^4*α^3 - 18*lc^3*mc^3*r*α^3 - 216*lc^2*mc^4*r*α^2*λ + 108*lc^2*mc^3*r^2*α^2*λ + 144*lc*mc^4*r^2*α*λ^2 - 24*lc*mc^3*r^3*α*λ^2 - 24*lc*mc^2*r^4*α*λ^2 - 32*mc^4*r^3*λ^3 + 16*mc^3*r^4*λ^3 - 216*mc^4*r^3*α^2*e^(4*r/(lc*α - 2*mc)) - 216*mc^3*r^4*α^2*e^(4*r/(lc*α - 2*mc)) + 108*mc^2*r^5*α^2*e^(4*r/(lc*α - 2*mc)) - 216*lc*mc^5*r*α^2*e^(2*r/(lc*α - 2*mc)) - 432*lc*mc^4*r^2*α^2*e^(2*r/(lc*α - 2*mc)) + 216*lc*mc^3*r^3*α^2*e^(2*r/(lc*α - 2*mc)) + 144*mc^5*r^2*α*λ*e^(2*r/(lc*α - 2*mc)) + 144*mc^4*r^3*α*λ*e^(2*r/(lc*α - 2*mc)) + 96*mc^3*r^4*α*λ*e^(2*r/(lc*α - 2*mc)) - 132*mc^2*r^5*α*λ*e^(2*r/(lc*α - 2*mc)) + 24*mc*r^6*α*λ*e^(2*r/(lc*α - 2*mc)) - 216*lc^2*mc^5*α^2 + 108*lc^2*mc^4*r*α^2 + 432*lc*mc^5*r*α*λ - 216*lc*mc^4*r^2*α*λ - 96*mc^5*r^2*λ^2 + 16*mc^4*r^3*λ^2 + 16*mc^3*r^4*λ^2 + 144*mc^6*r*α*e^(2*r/(lc*α - 2*mc)) + 432*mc^5*r^2*α*e^(2*r/(lc*α - 2*mc)) - 216*mc^4*r^3*α*e^(2*r/(lc*α - 2*mc)) + 432*lc*mc^6*α - 216*lc*mc^5*r*α - 288*mc^6*r*λ + 144*mc^5*r^2*λ - 288*mc^7 + 144*mc^6*r)*KhT(rT)/((lc*r*α*λ + 3*r^2*α*e^(2*r/(lc*α - 2*mc)) + 3*lc*mc*α - 2*mc*r*λ - 6*mc^2)^2*(lc*α - 2*mc)*r^4) + diff(KhT(rT), rT, rT) == 0"
      ]
     },
     "execution_count": 232,
     "metadata": {},
     "output_type": "execute_result"
    }
   ],
   "source": [
    "expr"
   ]
  },
  {
   "cell_type": "markdown",
   "metadata": {},
   "source": [
    "Por fim, aplicaremos a função `canonicalize_de()`para encontrar uma equação de onda do tipo Schödinger:"
   ]
  },
  {
   "cell_type": "code",
   "execution_count": 233,
   "metadata": {},
   "outputs": [
    {
     "name": "stdout",
     "output_type": "stream",
     "text": [
      "canonicalize_de for KhT(rT): \u001b[32mpassed!\u001b[39m\n"
     ]
    }
   ],
   "source": [
    "ZE = canonicalize_de(expr, KhT(rT), rT)"
   ]
  },
  {
   "cell_type": "code",
   "execution_count": 234,
   "metadata": {},
   "outputs": [
    {
     "data": {
      "text/html": [
       "<html>\\(\\displaystyle \\frac{{\\left({\\mathrm{l}}^{3} r^{6} α^{3} λ^{2} ω^{2} + 6 \\, {\\mathrm{l}}^{2} r^{7} α^{3} λ ω^{2} e^{\\left(\\frac{2 \\, r}{{\\mathrm{l}} α - 2 \\, {\\mathrm{m}}}\\right)} + 6 \\, {\\mathrm{l}}^{3} {\\mathrm{m}} r^{5} α^{3} λ ω^{2} - 6 \\, {\\mathrm{l}}^{2} {\\mathrm{m}} r^{6} α^{2} λ^{2} ω^{2} - 2 \\, {\\mathrm{l}}^{3} r^{4} α^{5} λ^{2} e^{\\left(\\frac{4 \\, r}{{\\mathrm{l}} α - 2 \\, {\\mathrm{m}}}\\right)} + 9 \\, {\\mathrm{l}} r^{8} α^{3} ω^{2} e^{\\left(\\frac{4 \\, r}{{\\mathrm{l}} α - 2 \\, {\\mathrm{m}}}\\right)} - 2 \\, {\\mathrm{l}}^{3} r^{4} α^{4} λ^{3} e^{\\left(\\frac{2 \\, r}{{\\mathrm{l}} α - 2 \\, {\\mathrm{m}}}\\right)} + 18 \\, {\\mathrm{l}}^{2} {\\mathrm{m}} r^{6} α^{3} ω^{2} e^{\\left(\\frac{2 \\, r}{{\\mathrm{l}} α - 2 \\, {\\mathrm{m}}}\\right)} - 24 \\, {\\mathrm{l}} {\\mathrm{m}} r^{7} α^{2} λ ω^{2} e^{\\left(\\frac{2 \\, r}{{\\mathrm{l}} α - 2 \\, {\\mathrm{m}}}\\right)} + 9 \\, {\\mathrm{l}}^{3} {\\mathrm{m}}^{2} r^{4} α^{3} ω^{2} - 36 \\, {\\mathrm{l}}^{2} {\\mathrm{m}}^{2} r^{5} α^{2} λ ω^{2} + 12 \\, {\\mathrm{l}} {\\mathrm{m}}^{2} r^{6} α λ^{2} ω^{2} - 12 \\, {\\mathrm{l}}^{2} r^{5} α^{5} λ e^{\\left(\\frac{6 \\, r}{{\\mathrm{l}} α - 2 \\, {\\mathrm{m}}}\\right)} + 12 \\, {\\mathrm{l}}^{2} {\\mathrm{m}} r^{4} α^{4} λ^{2} e^{\\left(\\frac{4 \\, r}{{\\mathrm{l}} α - 2 \\, {\\mathrm{m}}}\\right)} - 12 \\, {\\mathrm{l}}^{2} r^{5} α^{4} λ^{2} e^{\\left(\\frac{4 \\, r}{{\\mathrm{l}} α - 2 \\, {\\mathrm{m}}}\\right)} - 18 \\, {\\mathrm{m}} r^{8} α^{2} ω^{2} e^{\\left(\\frac{4 \\, r}{{\\mathrm{l}} α - 2 \\, {\\mathrm{m}}}\\right)} - 2 \\, {\\mathrm{l}}^{3} {\\mathrm{m}} r^{3} α^{4} λ^{2} e^{\\left(\\frac{2 \\, r}{{\\mathrm{l}} α - 2 \\, {\\mathrm{m}}}\\right)} - 4 \\, {\\mathrm{l}}^{3} r^{4} α^{4} λ^{2} e^{\\left(\\frac{2 \\, r}{{\\mathrm{l}} α - 2 \\, {\\mathrm{m}}}\\right)} + 12 \\, {\\mathrm{l}}^{2} {\\mathrm{m}} r^{4} α^{3} λ^{3} e^{\\left(\\frac{2 \\, r}{{\\mathrm{l}} α - 2 \\, {\\mathrm{m}}}\\right)} - 72 \\, {\\mathrm{l}} {\\mathrm{m}}^{2} r^{6} α^{2} ω^{2} e^{\\left(\\frac{2 \\, r}{{\\mathrm{l}} α - 2 \\, {\\mathrm{m}}}\\right)} + 24 \\, {\\mathrm{m}}^{2} r^{7} α λ ω^{2} e^{\\left(\\frac{2 \\, r}{{\\mathrm{l}} α - 2 \\, {\\mathrm{m}}}\\right)} + 4 \\, {\\mathrm{l}}^{3} {\\mathrm{m}} r^{3} α^{3} λ^{3} - 2 \\, {\\mathrm{l}}^{3} r^{4} α^{3} λ^{3} - 54 \\, {\\mathrm{l}}^{2} {\\mathrm{m}}^{3} r^{4} α^{2} ω^{2} + 72 \\, {\\mathrm{l}} {\\mathrm{m}}^{3} r^{5} α λ ω^{2} - 8 \\, {\\mathrm{m}}^{3} r^{6} λ^{2} ω^{2} + 48 \\, {\\mathrm{l}} {\\mathrm{m}} r^{5} α^{4} λ e^{\\left(\\frac{6 \\, r}{{\\mathrm{l}} α - 2 \\, {\\mathrm{m}}}\\right)} - 36 \\, {\\mathrm{l}} r^{6} α^{4} λ e^{\\left(\\frac{6 \\, r}{{\\mathrm{l}} α - 2 \\, {\\mathrm{m}}}\\right)} + 6 \\, {\\mathrm{l}}^{2} {\\mathrm{m}} r^{4} α^{4} λ e^{\\left(\\frac{4 \\, r}{{\\mathrm{l}} α - 2 \\, {\\mathrm{m}}}\\right)} - 24 \\, {\\mathrm{l}}^{2} r^{5} α^{4} λ e^{\\left(\\frac{4 \\, r}{{\\mathrm{l}} α - 2 \\, {\\mathrm{m}}}\\right)} - 24 \\, {\\mathrm{l}} {\\mathrm{m}}^{2} r^{4} α^{3} λ^{2} e^{\\left(\\frac{4 \\, r}{{\\mathrm{l}} α - 2 \\, {\\mathrm{m}}}\\right)} + 48 \\, {\\mathrm{l}} {\\mathrm{m}} r^{5} α^{3} λ^{2} e^{\\left(\\frac{4 \\, r}{{\\mathrm{l}} α - 2 \\, {\\mathrm{m}}}\\right)} - 2 \\, {\\mathrm{l}} r^{6} α^{3} λ^{2} e^{\\left(\\frac{4 \\, r}{{\\mathrm{l}} α - 2 \\, {\\mathrm{m}}}\\right)} - 18 \\, {\\mathrm{l}}^{3} {\\mathrm{m}}^{2} r^{2} α^{4} λ e^{\\left(\\frac{2 \\, r}{{\\mathrm{l}} α - 2 \\, {\\mathrm{m}}}\\right)} + 12 \\, {\\mathrm{l}}^{2} {\\mathrm{m}}^{2} r^{3} α^{3} λ^{2} e^{\\left(\\frac{2 \\, r}{{\\mathrm{l}} α - 2 \\, {\\mathrm{m}}}\\right)} + 48 \\, {\\mathrm{l}}^{2} {\\mathrm{m}} r^{4} α^{3} λ^{2} e^{\\left(\\frac{2 \\, r}{{\\mathrm{l}} α - 2 \\, {\\mathrm{m}}}\\right)} - 12 \\, {\\mathrm{l}}^{2} r^{5} α^{3} λ^{2} e^{\\left(\\frac{2 \\, r}{{\\mathrm{l}} α - 2 \\, {\\mathrm{m}}}\\right)} - 24 \\, {\\mathrm{l}} {\\mathrm{m}}^{2} r^{4} α^{2} λ^{3} e^{\\left(\\frac{2 \\, r}{{\\mathrm{l}} α - 2 \\, {\\mathrm{m}}}\\right)} + 72 \\, {\\mathrm{m}}^{3} r^{6} α ω^{2} e^{\\left(\\frac{2 \\, r}{{\\mathrm{l}} α - 2 \\, {\\mathrm{m}}}\\right)} + 12 \\, {\\mathrm{l}}^{3} {\\mathrm{m}}^{2} r^{2} α^{3} λ^{2} - 2 \\, {\\mathrm{l}}^{3} {\\mathrm{m}} r^{3} α^{3} λ^{2} - 2 \\, {\\mathrm{l}}^{3} r^{4} α^{3} λ^{2} - 24 \\, {\\mathrm{l}}^{2} {\\mathrm{m}}^{2} r^{3} α^{2} λ^{3} + 12 \\, {\\mathrm{l}}^{2} {\\mathrm{m}} r^{4} α^{2} λ^{3} + 108 \\, {\\mathrm{l}} {\\mathrm{m}}^{4} r^{4} α ω^{2} - 48 \\, {\\mathrm{m}}^{4} r^{5} λ ω^{2} - 18 \\, r^{7} α^{4} e^{\\left(\\frac{8 \\, r}{{\\mathrm{l}} α - 2 \\, {\\mathrm{m}}}\\right)} - 54 \\, {\\mathrm{l}} {\\mathrm{m}} r^{5} α^{4} e^{\\left(\\frac{6 \\, r}{{\\mathrm{l}} α - 2 \\, {\\mathrm{m}}}\\right)} - 48 \\, {\\mathrm{m}}^{2} r^{5} α^{3} λ e^{\\left(\\frac{6 \\, r}{{\\mathrm{l}} α - 2 \\, {\\mathrm{m}}}\\right)} + 72 \\, {\\mathrm{m}} r^{6} α^{3} λ e^{\\left(\\frac{6 \\, r}{{\\mathrm{l}} α - 2 \\, {\\mathrm{m}}}\\right)} - 6 \\, r^{7} α^{3} λ e^{\\left(\\frac{6 \\, r}{{\\mathrm{l}} α - 2 \\, {\\mathrm{m}}}\\right)} - 54 \\, {\\mathrm{l}}^{2} {\\mathrm{m}}^{2} r^{3} α^{4} e^{\\left(\\frac{4 \\, r}{{\\mathrm{l}} α - 2 \\, {\\mathrm{m}}}\\right)} - 24 \\, {\\mathrm{l}} {\\mathrm{m}}^{2} r^{4} α^{3} λ e^{\\left(\\frac{4 \\, r}{{\\mathrm{l}} α - 2 \\, {\\mathrm{m}}}\\right)} + 186 \\, {\\mathrm{l}} {\\mathrm{m}} r^{5} α^{3} λ e^{\\left(\\frac{4 \\, r}{{\\mathrm{l}} α - 2 \\, {\\mathrm{m}}}\\right)} - 48 \\, {\\mathrm{l}} r^{6} α^{3} λ e^{\\left(\\frac{4 \\, r}{{\\mathrm{l}} α - 2 \\, {\\mathrm{m}}}\\right)} + 16 \\, {\\mathrm{m}}^{3} r^{4} α^{2} λ^{2} e^{\\left(\\frac{4 \\, r}{{\\mathrm{l}} α - 2 \\, {\\mathrm{m}}}\\right)} - 48 \\, {\\mathrm{m}}^{2} r^{5} α^{2} λ^{2} e^{\\left(\\frac{4 \\, r}{{\\mathrm{l}} α - 2 \\, {\\mathrm{m}}}\\right)} + 4 \\, {\\mathrm{m}} r^{6} α^{2} λ^{2} e^{\\left(\\frac{4 \\, r}{{\\mathrm{l}} α - 2 \\, {\\mathrm{m}}}\\right)} - 18 \\, {\\mathrm{l}}^{3} {\\mathrm{m}}^{3} r α^{4} e^{\\left(\\frac{2 \\, r}{{\\mathrm{l}} α - 2 \\, {\\mathrm{m}}}\\right)} + 108 \\, {\\mathrm{l}}^{2} {\\mathrm{m}}^{3} r^{2} α^{3} λ e^{\\left(\\frac{2 \\, r}{{\\mathrm{l}} α - 2 \\, {\\mathrm{m}}}\\right)} + 36 \\, {\\mathrm{l}}^{2} {\\mathrm{m}}^{2} r^{3} α^{3} λ e^{\\left(\\frac{2 \\, r}{{\\mathrm{l}} α - 2 \\, {\\mathrm{m}}}\\right)} + 6 \\, {\\mathrm{l}}^{2} {\\mathrm{m}} r^{4} α^{3} λ e^{\\left(\\frac{2 \\, r}{{\\mathrm{l}} α - 2 \\, {\\mathrm{m}}}\\right)} - 12 \\, {\\mathrm{l}}^{2} r^{5} α^{3} λ e^{\\left(\\frac{2 \\, r}{{\\mathrm{l}} α - 2 \\, {\\mathrm{m}}}\\right)} - 24 \\, {\\mathrm{l}} {\\mathrm{m}}^{3} r^{3} α^{2} λ^{2} e^{\\left(\\frac{2 \\, r}{{\\mathrm{l}} α - 2 \\, {\\mathrm{m}}}\\right)} - 144 \\, {\\mathrm{l}} {\\mathrm{m}}^{2} r^{4} α^{2} λ^{2} e^{\\left(\\frac{2 \\, r}{{\\mathrm{l}} α - 2 \\, {\\mathrm{m}}}\\right)} + 52 \\, {\\mathrm{l}} {\\mathrm{m}} r^{5} α^{2} λ^{2} e^{\\left(\\frac{2 \\, r}{{\\mathrm{l}} α - 2 \\, {\\mathrm{m}}}\\right)} - 2 \\, {\\mathrm{l}} r^{6} α^{2} λ^{2} e^{\\left(\\frac{2 \\, r}{{\\mathrm{l}} α - 2 \\, {\\mathrm{m}}}\\right)} + 16 \\, {\\mathrm{m}}^{3} r^{4} α λ^{3} e^{\\left(\\frac{2 \\, r}{{\\mathrm{l}} α - 2 \\, {\\mathrm{m}}}\\right)} + 36 \\, {\\mathrm{l}}^{3} {\\mathrm{m}}^{3} r α^{3} λ - 18 \\, {\\mathrm{l}}^{3} {\\mathrm{m}}^{2} r^{2} α^{3} λ - 72 \\, {\\mathrm{l}}^{2} {\\mathrm{m}}^{3} r^{2} α^{2} λ^{2} + 12 \\, {\\mathrm{l}}^{2} {\\mathrm{m}}^{2} r^{3} α^{2} λ^{2} + 12 \\, {\\mathrm{l}}^{2} {\\mathrm{m}} r^{4} α^{2} λ^{2} + 48 \\, {\\mathrm{l}} {\\mathrm{m}}^{3} r^{3} α λ^{3} - 24 \\, {\\mathrm{l}} {\\mathrm{m}}^{2} r^{4} α λ^{3} - 72 \\, {\\mathrm{m}}^{5} r^{4} ω^{2} + 108 \\, {\\mathrm{m}}^{2} r^{5} α^{3} e^{\\left(\\frac{6 \\, r}{{\\mathrm{l}} α - 2 \\, {\\mathrm{m}}}\\right)} + 36 \\, {\\mathrm{m}} r^{6} α^{3} e^{\\left(\\frac{6 \\, r}{{\\mathrm{l}} α - 2 \\, {\\mathrm{m}}}\\right)} - 18 \\, r^{7} α^{3} e^{\\left(\\frac{6 \\, r}{{\\mathrm{l}} α - 2 \\, {\\mathrm{m}}}\\right)} + 216 \\, {\\mathrm{l}} {\\mathrm{m}}^{3} r^{3} α^{3} e^{\\left(\\frac{4 \\, r}{{\\mathrm{l}} α - 2 \\, {\\mathrm{m}}}\\right)} + 108 \\, {\\mathrm{l}} {\\mathrm{m}}^{2} r^{4} α^{3} e^{\\left(\\frac{4 \\, r}{{\\mathrm{l}} α - 2 \\, {\\mathrm{m}}}\\right)} - 54 \\, {\\mathrm{l}} {\\mathrm{m}} r^{5} α^{3} e^{\\left(\\frac{4 \\, r}{{\\mathrm{l}} α - 2 \\, {\\mathrm{m}}}\\right)} + 24 \\, {\\mathrm{m}}^{3} r^{4} α^{2} λ e^{\\left(\\frac{4 \\, r}{{\\mathrm{l}} α - 2 \\, {\\mathrm{m}}}\\right)} - 276 \\, {\\mathrm{m}}^{2} r^{5} α^{2} λ e^{\\left(\\frac{4 \\, r}{{\\mathrm{l}} α - 2 \\, {\\mathrm{m}}}\\right)} + 108 \\, {\\mathrm{m}} r^{6} α^{2} λ e^{\\left(\\frac{4 \\, r}{{\\mathrm{l}} α - 2 \\, {\\mathrm{m}}}\\right)} - 6 \\, r^{7} α^{2} λ e^{\\left(\\frac{4 \\, r}{{\\mathrm{l}} α - 2 \\, {\\mathrm{m}}}\\right)} + 108 \\, {\\mathrm{l}}^{2} {\\mathrm{m}}^{4} r α^{3} e^{\\left(\\frac{2 \\, r}{{\\mathrm{l}} α - 2 \\, {\\mathrm{m}}}\\right)} + 108 \\, {\\mathrm{l}}^{2} {\\mathrm{m}}^{3} r^{2} α^{3} e^{\\left(\\frac{2 \\, r}{{\\mathrm{l}} α - 2 \\, {\\mathrm{m}}}\\right)} - 54 \\, {\\mathrm{l}}^{2} {\\mathrm{m}}^{2} r^{3} α^{3} e^{\\left(\\frac{2 \\, r}{{\\mathrm{l}} α - 2 \\, {\\mathrm{m}}}\\right)} - 216 \\, {\\mathrm{l}} {\\mathrm{m}}^{4} r^{2} α^{2} λ e^{\\left(\\frac{2 \\, r}{{\\mathrm{l}} α - 2 \\, {\\mathrm{m}}}\\right)} - 144 \\, {\\mathrm{l}} {\\mathrm{m}}^{3} r^{3} α^{2} λ e^{\\left(\\frac{2 \\, r}{{\\mathrm{l}} α - 2 \\, {\\mathrm{m}}}\\right)} - 60 \\, {\\mathrm{l}} {\\mathrm{m}}^{2} r^{4} α^{2} λ e^{\\left(\\frac{2 \\, r}{{\\mathrm{l}} α - 2 \\, {\\mathrm{m}}}\\right)} + 90 \\, {\\mathrm{l}} {\\mathrm{m}} r^{5} α^{2} λ e^{\\left(\\frac{2 \\, r}{{\\mathrm{l}} α - 2 \\, {\\mathrm{m}}}\\right)} - 12 \\, {\\mathrm{l}} r^{6} α^{2} λ e^{\\left(\\frac{2 \\, r}{{\\mathrm{l}} α - 2 \\, {\\mathrm{m}}}\\right)} + 16 \\, {\\mathrm{m}}^{4} r^{3} α λ^{2} e^{\\left(\\frac{2 \\, r}{{\\mathrm{l}} α - 2 \\, {\\mathrm{m}}}\\right)} + 128 \\, {\\mathrm{m}}^{3} r^{4} α λ^{2} e^{\\left(\\frac{2 \\, r}{{\\mathrm{l}} α - 2 \\, {\\mathrm{m}}}\\right)} - 56 \\, {\\mathrm{m}}^{2} r^{5} α λ^{2} e^{\\left(\\frac{2 \\, r}{{\\mathrm{l}} α - 2 \\, {\\mathrm{m}}}\\right)} + 4 \\, {\\mathrm{m}} r^{6} α λ^{2} e^{\\left(\\frac{2 \\, r}{{\\mathrm{l}} α - 2 \\, {\\mathrm{m}}}\\right)} + 36 \\, {\\mathrm{l}}^{3} {\\mathrm{m}}^{4} α^{3} - 18 \\, {\\mathrm{l}}^{3} {\\mathrm{m}}^{3} r α^{3} - 216 \\, {\\mathrm{l}}^{2} {\\mathrm{m}}^{4} r α^{2} λ + 108 \\, {\\mathrm{l}}^{2} {\\mathrm{m}}^{3} r^{2} α^{2} λ + 144 \\, {\\mathrm{l}} {\\mathrm{m}}^{4} r^{2} α λ^{2} - 24 \\, {\\mathrm{l}} {\\mathrm{m}}^{3} r^{3} α λ^{2} - 24 \\, {\\mathrm{l}} {\\mathrm{m}}^{2} r^{4} α λ^{2} - 32 \\, {\\mathrm{m}}^{4} r^{3} λ^{3} + 16 \\, {\\mathrm{m}}^{3} r^{4} λ^{3} - 216 \\, {\\mathrm{m}}^{4} r^{3} α^{2} e^{\\left(\\frac{4 \\, r}{{\\mathrm{l}} α - 2 \\, {\\mathrm{m}}}\\right)} - 216 \\, {\\mathrm{m}}^{3} r^{4} α^{2} e^{\\left(\\frac{4 \\, r}{{\\mathrm{l}} α - 2 \\, {\\mathrm{m}}}\\right)} + 108 \\, {\\mathrm{m}}^{2} r^{5} α^{2} e^{\\left(\\frac{4 \\, r}{{\\mathrm{l}} α - 2 \\, {\\mathrm{m}}}\\right)} - 216 \\, {\\mathrm{l}} {\\mathrm{m}}^{5} r α^{2} e^{\\left(\\frac{2 \\, r}{{\\mathrm{l}} α - 2 \\, {\\mathrm{m}}}\\right)} - 432 \\, {\\mathrm{l}} {\\mathrm{m}}^{4} r^{2} α^{2} e^{\\left(\\frac{2 \\, r}{{\\mathrm{l}} α - 2 \\, {\\mathrm{m}}}\\right)} + 216 \\, {\\mathrm{l}} {\\mathrm{m}}^{3} r^{3} α^{2} e^{\\left(\\frac{2 \\, r}{{\\mathrm{l}} α - 2 \\, {\\mathrm{m}}}\\right)} + 144 \\, {\\mathrm{m}}^{5} r^{2} α λ e^{\\left(\\frac{2 \\, r}{{\\mathrm{l}} α - 2 \\, {\\mathrm{m}}}\\right)} + 144 \\, {\\mathrm{m}}^{4} r^{3} α λ e^{\\left(\\frac{2 \\, r}{{\\mathrm{l}} α - 2 \\, {\\mathrm{m}}}\\right)} + 96 \\, {\\mathrm{m}}^{3} r^{4} α λ e^{\\left(\\frac{2 \\, r}{{\\mathrm{l}} α - 2 \\, {\\mathrm{m}}}\\right)} - 132 \\, {\\mathrm{m}}^{2} r^{5} α λ e^{\\left(\\frac{2 \\, r}{{\\mathrm{l}} α - 2 \\, {\\mathrm{m}}}\\right)} + 24 \\, {\\mathrm{m}} r^{6} α λ e^{\\left(\\frac{2 \\, r}{{\\mathrm{l}} α - 2 \\, {\\mathrm{m}}}\\right)} - 216 \\, {\\mathrm{l}}^{2} {\\mathrm{m}}^{5} α^{2} + 108 \\, {\\mathrm{l}}^{2} {\\mathrm{m}}^{4} r α^{2} + 432 \\, {\\mathrm{l}} {\\mathrm{m}}^{5} r α λ - 216 \\, {\\mathrm{l}} {\\mathrm{m}}^{4} r^{2} α λ - 96 \\, {\\mathrm{m}}^{5} r^{2} λ^{2} + 16 \\, {\\mathrm{m}}^{4} r^{3} λ^{2} + 16 \\, {\\mathrm{m}}^{3} r^{4} λ^{2} + 144 \\, {\\mathrm{m}}^{6} r α e^{\\left(\\frac{2 \\, r}{{\\mathrm{l}} α - 2 \\, {\\mathrm{m}}}\\right)} + 432 \\, {\\mathrm{m}}^{5} r^{2} α e^{\\left(\\frac{2 \\, r}{{\\mathrm{l}} α - 2 \\, {\\mathrm{m}}}\\right)} - 216 \\, {\\mathrm{m}}^{4} r^{3} α e^{\\left(\\frac{2 \\, r}{{\\mathrm{l}} α - 2 \\, {\\mathrm{m}}}\\right)} + 432 \\, {\\mathrm{l}} {\\mathrm{m}}^{6} α - 216 \\, {\\mathrm{l}} {\\mathrm{m}}^{5} r α - 288 \\, {\\mathrm{m}}^{6} r λ + 144 \\, {\\mathrm{m}}^{5} r^{2} λ - 288 \\, {\\mathrm{m}}^{7} + 144 \\, {\\mathrm{m}}^{6} r\\right)} \\hat{K}\\left({r_\\star}\\right)}{{\\left({\\mathrm{l}} r α λ + 3 \\, r^{2} α e^{\\left(\\frac{2 \\, r}{{\\mathrm{l}} α - 2 \\, {\\mathrm{m}}}\\right)} + 3 \\, {\\mathrm{l}} {\\mathrm{m}} α - 2 \\, {\\mathrm{m}} r λ - 6 \\, {\\mathrm{m}}^{2}\\right)}^{2} {\\left({\\mathrm{l}} α - 2 \\, {\\mathrm{m}}\\right)} r^{4}} + \\frac{\\partial^{2}}{(\\partial {r_\\star})^{2}}\\hat{K}\\left({r_\\star}\\right) = 0\\)</html>"
      ],
      "text/latex": [
       "$\\displaystyle \\frac{{\\left({\\mathrm{l}}^{3} r^{6} α^{3} λ^{2} ω^{2} + 6 \\, {\\mathrm{l}}^{2} r^{7} α^{3} λ ω^{2} e^{\\left(\\frac{2 \\, r}{{\\mathrm{l}} α - 2 \\, {\\mathrm{m}}}\\right)} + 6 \\, {\\mathrm{l}}^{3} {\\mathrm{m}} r^{5} α^{3} λ ω^{2} - 6 \\, {\\mathrm{l}}^{2} {\\mathrm{m}} r^{6} α^{2} λ^{2} ω^{2} - 2 \\, {\\mathrm{l}}^{3} r^{4} α^{5} λ^{2} e^{\\left(\\frac{4 \\, r}{{\\mathrm{l}} α - 2 \\, {\\mathrm{m}}}\\right)} + 9 \\, {\\mathrm{l}} r^{8} α^{3} ω^{2} e^{\\left(\\frac{4 \\, r}{{\\mathrm{l}} α - 2 \\, {\\mathrm{m}}}\\right)} - 2 \\, {\\mathrm{l}}^{3} r^{4} α^{4} λ^{3} e^{\\left(\\frac{2 \\, r}{{\\mathrm{l}} α - 2 \\, {\\mathrm{m}}}\\right)} + 18 \\, {\\mathrm{l}}^{2} {\\mathrm{m}} r^{6} α^{3} ω^{2} e^{\\left(\\frac{2 \\, r}{{\\mathrm{l}} α - 2 \\, {\\mathrm{m}}}\\right)} - 24 \\, {\\mathrm{l}} {\\mathrm{m}} r^{7} α^{2} λ ω^{2} e^{\\left(\\frac{2 \\, r}{{\\mathrm{l}} α - 2 \\, {\\mathrm{m}}}\\right)} + 9 \\, {\\mathrm{l}}^{3} {\\mathrm{m}}^{2} r^{4} α^{3} ω^{2} - 36 \\, {\\mathrm{l}}^{2} {\\mathrm{m}}^{2} r^{5} α^{2} λ ω^{2} + 12 \\, {\\mathrm{l}} {\\mathrm{m}}^{2} r^{6} α λ^{2} ω^{2} - 12 \\, {\\mathrm{l}}^{2} r^{5} α^{5} λ e^{\\left(\\frac{6 \\, r}{{\\mathrm{l}} α - 2 \\, {\\mathrm{m}}}\\right)} + 12 \\, {\\mathrm{l}}^{2} {\\mathrm{m}} r^{4} α^{4} λ^{2} e^{\\left(\\frac{4 \\, r}{{\\mathrm{l}} α - 2 \\, {\\mathrm{m}}}\\right)} - 12 \\, {\\mathrm{l}}^{2} r^{5} α^{4} λ^{2} e^{\\left(\\frac{4 \\, r}{{\\mathrm{l}} α - 2 \\, {\\mathrm{m}}}\\right)} - 18 \\, {\\mathrm{m}} r^{8} α^{2} ω^{2} e^{\\left(\\frac{4 \\, r}{{\\mathrm{l}} α - 2 \\, {\\mathrm{m}}}\\right)} - 2 \\, {\\mathrm{l}}^{3} {\\mathrm{m}} r^{3} α^{4} λ^{2} e^{\\left(\\frac{2 \\, r}{{\\mathrm{l}} α - 2 \\, {\\mathrm{m}}}\\right)} - 4 \\, {\\mathrm{l}}^{3} r^{4} α^{4} λ^{2} e^{\\left(\\frac{2 \\, r}{{\\mathrm{l}} α - 2 \\, {\\mathrm{m}}}\\right)} + 12 \\, {\\mathrm{l}}^{2} {\\mathrm{m}} r^{4} α^{3} λ^{3} e^{\\left(\\frac{2 \\, r}{{\\mathrm{l}} α - 2 \\, {\\mathrm{m}}}\\right)} - 72 \\, {\\mathrm{l}} {\\mathrm{m}}^{2} r^{6} α^{2} ω^{2} e^{\\left(\\frac{2 \\, r}{{\\mathrm{l}} α - 2 \\, {\\mathrm{m}}}\\right)} + 24 \\, {\\mathrm{m}}^{2} r^{7} α λ ω^{2} e^{\\left(\\frac{2 \\, r}{{\\mathrm{l}} α - 2 \\, {\\mathrm{m}}}\\right)} + 4 \\, {\\mathrm{l}}^{3} {\\mathrm{m}} r^{3} α^{3} λ^{3} - 2 \\, {\\mathrm{l}}^{3} r^{4} α^{3} λ^{3} - 54 \\, {\\mathrm{l}}^{2} {\\mathrm{m}}^{3} r^{4} α^{2} ω^{2} + 72 \\, {\\mathrm{l}} {\\mathrm{m}}^{3} r^{5} α λ ω^{2} - 8 \\, {\\mathrm{m}}^{3} r^{6} λ^{2} ω^{2} + 48 \\, {\\mathrm{l}} {\\mathrm{m}} r^{5} α^{4} λ e^{\\left(\\frac{6 \\, r}{{\\mathrm{l}} α - 2 \\, {\\mathrm{m}}}\\right)} - 36 \\, {\\mathrm{l}} r^{6} α^{4} λ e^{\\left(\\frac{6 \\, r}{{\\mathrm{l}} α - 2 \\, {\\mathrm{m}}}\\right)} + 6 \\, {\\mathrm{l}}^{2} {\\mathrm{m}} r^{4} α^{4} λ e^{\\left(\\frac{4 \\, r}{{\\mathrm{l}} α - 2 \\, {\\mathrm{m}}}\\right)} - 24 \\, {\\mathrm{l}}^{2} r^{5} α^{4} λ e^{\\left(\\frac{4 \\, r}{{\\mathrm{l}} α - 2 \\, {\\mathrm{m}}}\\right)} - 24 \\, {\\mathrm{l}} {\\mathrm{m}}^{2} r^{4} α^{3} λ^{2} e^{\\left(\\frac{4 \\, r}{{\\mathrm{l}} α - 2 \\, {\\mathrm{m}}}\\right)} + 48 \\, {\\mathrm{l}} {\\mathrm{m}} r^{5} α^{3} λ^{2} e^{\\left(\\frac{4 \\, r}{{\\mathrm{l}} α - 2 \\, {\\mathrm{m}}}\\right)} - 2 \\, {\\mathrm{l}} r^{6} α^{3} λ^{2} e^{\\left(\\frac{4 \\, r}{{\\mathrm{l}} α - 2 \\, {\\mathrm{m}}}\\right)} - 18 \\, {\\mathrm{l}}^{3} {\\mathrm{m}}^{2} r^{2} α^{4} λ e^{\\left(\\frac{2 \\, r}{{\\mathrm{l}} α - 2 \\, {\\mathrm{m}}}\\right)} + 12 \\, {\\mathrm{l}}^{2} {\\mathrm{m}}^{2} r^{3} α^{3} λ^{2} e^{\\left(\\frac{2 \\, r}{{\\mathrm{l}} α - 2 \\, {\\mathrm{m}}}\\right)} + 48 \\, {\\mathrm{l}}^{2} {\\mathrm{m}} r^{4} α^{3} λ^{2} e^{\\left(\\frac{2 \\, r}{{\\mathrm{l}} α - 2 \\, {\\mathrm{m}}}\\right)} - 12 \\, {\\mathrm{l}}^{2} r^{5} α^{3} λ^{2} e^{\\left(\\frac{2 \\, r}{{\\mathrm{l}} α - 2 \\, {\\mathrm{m}}}\\right)} - 24 \\, {\\mathrm{l}} {\\mathrm{m}}^{2} r^{4} α^{2} λ^{3} e^{\\left(\\frac{2 \\, r}{{\\mathrm{l}} α - 2 \\, {\\mathrm{m}}}\\right)} + 72 \\, {\\mathrm{m}}^{3} r^{6} α ω^{2} e^{\\left(\\frac{2 \\, r}{{\\mathrm{l}} α - 2 \\, {\\mathrm{m}}}\\right)} + 12 \\, {\\mathrm{l}}^{3} {\\mathrm{m}}^{2} r^{2} α^{3} λ^{2} - 2 \\, {\\mathrm{l}}^{3} {\\mathrm{m}} r^{3} α^{3} λ^{2} - 2 \\, {\\mathrm{l}}^{3} r^{4} α^{3} λ^{2} - 24 \\, {\\mathrm{l}}^{2} {\\mathrm{m}}^{2} r^{3} α^{2} λ^{3} + 12 \\, {\\mathrm{l}}^{2} {\\mathrm{m}} r^{4} α^{2} λ^{3} + 108 \\, {\\mathrm{l}} {\\mathrm{m}}^{4} r^{4} α ω^{2} - 48 \\, {\\mathrm{m}}^{4} r^{5} λ ω^{2} - 18 \\, r^{7} α^{4} e^{\\left(\\frac{8 \\, r}{{\\mathrm{l}} α - 2 \\, {\\mathrm{m}}}\\right)} - 54 \\, {\\mathrm{l}} {\\mathrm{m}} r^{5} α^{4} e^{\\left(\\frac{6 \\, r}{{\\mathrm{l}} α - 2 \\, {\\mathrm{m}}}\\right)} - 48 \\, {\\mathrm{m}}^{2} r^{5} α^{3} λ e^{\\left(\\frac{6 \\, r}{{\\mathrm{l}} α - 2 \\, {\\mathrm{m}}}\\right)} + 72 \\, {\\mathrm{m}} r^{6} α^{3} λ e^{\\left(\\frac{6 \\, r}{{\\mathrm{l}} α - 2 \\, {\\mathrm{m}}}\\right)} - 6 \\, r^{7} α^{3} λ e^{\\left(\\frac{6 \\, r}{{\\mathrm{l}} α - 2 \\, {\\mathrm{m}}}\\right)} - 54 \\, {\\mathrm{l}}^{2} {\\mathrm{m}}^{2} r^{3} α^{4} e^{\\left(\\frac{4 \\, r}{{\\mathrm{l}} α - 2 \\, {\\mathrm{m}}}\\right)} - 24 \\, {\\mathrm{l}} {\\mathrm{m}}^{2} r^{4} α^{3} λ e^{\\left(\\frac{4 \\, r}{{\\mathrm{l}} α - 2 \\, {\\mathrm{m}}}\\right)} + 186 \\, {\\mathrm{l}} {\\mathrm{m}} r^{5} α^{3} λ e^{\\left(\\frac{4 \\, r}{{\\mathrm{l}} α - 2 \\, {\\mathrm{m}}}\\right)} - 48 \\, {\\mathrm{l}} r^{6} α^{3} λ e^{\\left(\\frac{4 \\, r}{{\\mathrm{l}} α - 2 \\, {\\mathrm{m}}}\\right)} + 16 \\, {\\mathrm{m}}^{3} r^{4} α^{2} λ^{2} e^{\\left(\\frac{4 \\, r}{{\\mathrm{l}} α - 2 \\, {\\mathrm{m}}}\\right)} - 48 \\, {\\mathrm{m}}^{2} r^{5} α^{2} λ^{2} e^{\\left(\\frac{4 \\, r}{{\\mathrm{l}} α - 2 \\, {\\mathrm{m}}}\\right)} + 4 \\, {\\mathrm{m}} r^{6} α^{2} λ^{2} e^{\\left(\\frac{4 \\, r}{{\\mathrm{l}} α - 2 \\, {\\mathrm{m}}}\\right)} - 18 \\, {\\mathrm{l}}^{3} {\\mathrm{m}}^{3} r α^{4} e^{\\left(\\frac{2 \\, r}{{\\mathrm{l}} α - 2 \\, {\\mathrm{m}}}\\right)} + 108 \\, {\\mathrm{l}}^{2} {\\mathrm{m}}^{3} r^{2} α^{3} λ e^{\\left(\\frac{2 \\, r}{{\\mathrm{l}} α - 2 \\, {\\mathrm{m}}}\\right)} + 36 \\, {\\mathrm{l}}^{2} {\\mathrm{m}}^{2} r^{3} α^{3} λ e^{\\left(\\frac{2 \\, r}{{\\mathrm{l}} α - 2 \\, {\\mathrm{m}}}\\right)} + 6 \\, {\\mathrm{l}}^{2} {\\mathrm{m}} r^{4} α^{3} λ e^{\\left(\\frac{2 \\, r}{{\\mathrm{l}} α - 2 \\, {\\mathrm{m}}}\\right)} - 12 \\, {\\mathrm{l}}^{2} r^{5} α^{3} λ e^{\\left(\\frac{2 \\, r}{{\\mathrm{l}} α - 2 \\, {\\mathrm{m}}}\\right)} - 24 \\, {\\mathrm{l}} {\\mathrm{m}}^{3} r^{3} α^{2} λ^{2} e^{\\left(\\frac{2 \\, r}{{\\mathrm{l}} α - 2 \\, {\\mathrm{m}}}\\right)} - 144 \\, {\\mathrm{l}} {\\mathrm{m}}^{2} r^{4} α^{2} λ^{2} e^{\\left(\\frac{2 \\, r}{{\\mathrm{l}} α - 2 \\, {\\mathrm{m}}}\\right)} + 52 \\, {\\mathrm{l}} {\\mathrm{m}} r^{5} α^{2} λ^{2} e^{\\left(\\frac{2 \\, r}{{\\mathrm{l}} α - 2 \\, {\\mathrm{m}}}\\right)} - 2 \\, {\\mathrm{l}} r^{6} α^{2} λ^{2} e^{\\left(\\frac{2 \\, r}{{\\mathrm{l}} α - 2 \\, {\\mathrm{m}}}\\right)} + 16 \\, {\\mathrm{m}}^{3} r^{4} α λ^{3} e^{\\left(\\frac{2 \\, r}{{\\mathrm{l}} α - 2 \\, {\\mathrm{m}}}\\right)} + 36 \\, {\\mathrm{l}}^{3} {\\mathrm{m}}^{3} r α^{3} λ - 18 \\, {\\mathrm{l}}^{3} {\\mathrm{m}}^{2} r^{2} α^{3} λ - 72 \\, {\\mathrm{l}}^{2} {\\mathrm{m}}^{3} r^{2} α^{2} λ^{2} + 12 \\, {\\mathrm{l}}^{2} {\\mathrm{m}}^{2} r^{3} α^{2} λ^{2} + 12 \\, {\\mathrm{l}}^{2} {\\mathrm{m}} r^{4} α^{2} λ^{2} + 48 \\, {\\mathrm{l}} {\\mathrm{m}}^{3} r^{3} α λ^{3} - 24 \\, {\\mathrm{l}} {\\mathrm{m}}^{2} r^{4} α λ^{3} - 72 \\, {\\mathrm{m}}^{5} r^{4} ω^{2} + 108 \\, {\\mathrm{m}}^{2} r^{5} α^{3} e^{\\left(\\frac{6 \\, r}{{\\mathrm{l}} α - 2 \\, {\\mathrm{m}}}\\right)} + 36 \\, {\\mathrm{m}} r^{6} α^{3} e^{\\left(\\frac{6 \\, r}{{\\mathrm{l}} α - 2 \\, {\\mathrm{m}}}\\right)} - 18 \\, r^{7} α^{3} e^{\\left(\\frac{6 \\, r}{{\\mathrm{l}} α - 2 \\, {\\mathrm{m}}}\\right)} + 216 \\, {\\mathrm{l}} {\\mathrm{m}}^{3} r^{3} α^{3} e^{\\left(\\frac{4 \\, r}{{\\mathrm{l}} α - 2 \\, {\\mathrm{m}}}\\right)} + 108 \\, {\\mathrm{l}} {\\mathrm{m}}^{2} r^{4} α^{3} e^{\\left(\\frac{4 \\, r}{{\\mathrm{l}} α - 2 \\, {\\mathrm{m}}}\\right)} - 54 \\, {\\mathrm{l}} {\\mathrm{m}} r^{5} α^{3} e^{\\left(\\frac{4 \\, r}{{\\mathrm{l}} α - 2 \\, {\\mathrm{m}}}\\right)} + 24 \\, {\\mathrm{m}}^{3} r^{4} α^{2} λ e^{\\left(\\frac{4 \\, r}{{\\mathrm{l}} α - 2 \\, {\\mathrm{m}}}\\right)} - 276 \\, {\\mathrm{m}}^{2} r^{5} α^{2} λ e^{\\left(\\frac{4 \\, r}{{\\mathrm{l}} α - 2 \\, {\\mathrm{m}}}\\right)} + 108 \\, {\\mathrm{m}} r^{6} α^{2} λ e^{\\left(\\frac{4 \\, r}{{\\mathrm{l}} α - 2 \\, {\\mathrm{m}}}\\right)} - 6 \\, r^{7} α^{2} λ e^{\\left(\\frac{4 \\, r}{{\\mathrm{l}} α - 2 \\, {\\mathrm{m}}}\\right)} + 108 \\, {\\mathrm{l}}^{2} {\\mathrm{m}}^{4} r α^{3} e^{\\left(\\frac{2 \\, r}{{\\mathrm{l}} α - 2 \\, {\\mathrm{m}}}\\right)} + 108 \\, {\\mathrm{l}}^{2} {\\mathrm{m}}^{3} r^{2} α^{3} e^{\\left(\\frac{2 \\, r}{{\\mathrm{l}} α - 2 \\, {\\mathrm{m}}}\\right)} - 54 \\, {\\mathrm{l}}^{2} {\\mathrm{m}}^{2} r^{3} α^{3} e^{\\left(\\frac{2 \\, r}{{\\mathrm{l}} α - 2 \\, {\\mathrm{m}}}\\right)} - 216 \\, {\\mathrm{l}} {\\mathrm{m}}^{4} r^{2} α^{2} λ e^{\\left(\\frac{2 \\, r}{{\\mathrm{l}} α - 2 \\, {\\mathrm{m}}}\\right)} - 144 \\, {\\mathrm{l}} {\\mathrm{m}}^{3} r^{3} α^{2} λ e^{\\left(\\frac{2 \\, r}{{\\mathrm{l}} α - 2 \\, {\\mathrm{m}}}\\right)} - 60 \\, {\\mathrm{l}} {\\mathrm{m}}^{2} r^{4} α^{2} λ e^{\\left(\\frac{2 \\, r}{{\\mathrm{l}} α - 2 \\, {\\mathrm{m}}}\\right)} + 90 \\, {\\mathrm{l}} {\\mathrm{m}} r^{5} α^{2} λ e^{\\left(\\frac{2 \\, r}{{\\mathrm{l}} α - 2 \\, {\\mathrm{m}}}\\right)} - 12 \\, {\\mathrm{l}} r^{6} α^{2} λ e^{\\left(\\frac{2 \\, r}{{\\mathrm{l}} α - 2 \\, {\\mathrm{m}}}\\right)} + 16 \\, {\\mathrm{m}}^{4} r^{3} α λ^{2} e^{\\left(\\frac{2 \\, r}{{\\mathrm{l}} α - 2 \\, {\\mathrm{m}}}\\right)} + 128 \\, {\\mathrm{m}}^{3} r^{4} α λ^{2} e^{\\left(\\frac{2 \\, r}{{\\mathrm{l}} α - 2 \\, {\\mathrm{m}}}\\right)} - 56 \\, {\\mathrm{m}}^{2} r^{5} α λ^{2} e^{\\left(\\frac{2 \\, r}{{\\mathrm{l}} α - 2 \\, {\\mathrm{m}}}\\right)} + 4 \\, {\\mathrm{m}} r^{6} α λ^{2} e^{\\left(\\frac{2 \\, r}{{\\mathrm{l}} α - 2 \\, {\\mathrm{m}}}\\right)} + 36 \\, {\\mathrm{l}}^{3} {\\mathrm{m}}^{4} α^{3} - 18 \\, {\\mathrm{l}}^{3} {\\mathrm{m}}^{3} r α^{3} - 216 \\, {\\mathrm{l}}^{2} {\\mathrm{m}}^{4} r α^{2} λ + 108 \\, {\\mathrm{l}}^{2} {\\mathrm{m}}^{3} r^{2} α^{2} λ + 144 \\, {\\mathrm{l}} {\\mathrm{m}}^{4} r^{2} α λ^{2} - 24 \\, {\\mathrm{l}} {\\mathrm{m}}^{3} r^{3} α λ^{2} - 24 \\, {\\mathrm{l}} {\\mathrm{m}}^{2} r^{4} α λ^{2} - 32 \\, {\\mathrm{m}}^{4} r^{3} λ^{3} + 16 \\, {\\mathrm{m}}^{3} r^{4} λ^{3} - 216 \\, {\\mathrm{m}}^{4} r^{3} α^{2} e^{\\left(\\frac{4 \\, r}{{\\mathrm{l}} α - 2 \\, {\\mathrm{m}}}\\right)} - 216 \\, {\\mathrm{m}}^{3} r^{4} α^{2} e^{\\left(\\frac{4 \\, r}{{\\mathrm{l}} α - 2 \\, {\\mathrm{m}}}\\right)} + 108 \\, {\\mathrm{m}}^{2} r^{5} α^{2} e^{\\left(\\frac{4 \\, r}{{\\mathrm{l}} α - 2 \\, {\\mathrm{m}}}\\right)} - 216 \\, {\\mathrm{l}} {\\mathrm{m}}^{5} r α^{2} e^{\\left(\\frac{2 \\, r}{{\\mathrm{l}} α - 2 \\, {\\mathrm{m}}}\\right)} - 432 \\, {\\mathrm{l}} {\\mathrm{m}}^{4} r^{2} α^{2} e^{\\left(\\frac{2 \\, r}{{\\mathrm{l}} α - 2 \\, {\\mathrm{m}}}\\right)} + 216 \\, {\\mathrm{l}} {\\mathrm{m}}^{3} r^{3} α^{2} e^{\\left(\\frac{2 \\, r}{{\\mathrm{l}} α - 2 \\, {\\mathrm{m}}}\\right)} + 144 \\, {\\mathrm{m}}^{5} r^{2} α λ e^{\\left(\\frac{2 \\, r}{{\\mathrm{l}} α - 2 \\, {\\mathrm{m}}}\\right)} + 144 \\, {\\mathrm{m}}^{4} r^{3} α λ e^{\\left(\\frac{2 \\, r}{{\\mathrm{l}} α - 2 \\, {\\mathrm{m}}}\\right)} + 96 \\, {\\mathrm{m}}^{3} r^{4} α λ e^{\\left(\\frac{2 \\, r}{{\\mathrm{l}} α - 2 \\, {\\mathrm{m}}}\\right)} - 132 \\, {\\mathrm{m}}^{2} r^{5} α λ e^{\\left(\\frac{2 \\, r}{{\\mathrm{l}} α - 2 \\, {\\mathrm{m}}}\\right)} + 24 \\, {\\mathrm{m}} r^{6} α λ e^{\\left(\\frac{2 \\, r}{{\\mathrm{l}} α - 2 \\, {\\mathrm{m}}}\\right)} - 216 \\, {\\mathrm{l}}^{2} {\\mathrm{m}}^{5} α^{2} + 108 \\, {\\mathrm{l}}^{2} {\\mathrm{m}}^{4} r α^{2} + 432 \\, {\\mathrm{l}} {\\mathrm{m}}^{5} r α λ - 216 \\, {\\mathrm{l}} {\\mathrm{m}}^{4} r^{2} α λ - 96 \\, {\\mathrm{m}}^{5} r^{2} λ^{2} + 16 \\, {\\mathrm{m}}^{4} r^{3} λ^{2} + 16 \\, {\\mathrm{m}}^{3} r^{4} λ^{2} + 144 \\, {\\mathrm{m}}^{6} r α e^{\\left(\\frac{2 \\, r}{{\\mathrm{l}} α - 2 \\, {\\mathrm{m}}}\\right)} + 432 \\, {\\mathrm{m}}^{5} r^{2} α e^{\\left(\\frac{2 \\, r}{{\\mathrm{l}} α - 2 \\, {\\mathrm{m}}}\\right)} - 216 \\, {\\mathrm{m}}^{4} r^{3} α e^{\\left(\\frac{2 \\, r}{{\\mathrm{l}} α - 2 \\, {\\mathrm{m}}}\\right)} + 432 \\, {\\mathrm{l}} {\\mathrm{m}}^{6} α - 216 \\, {\\mathrm{l}} {\\mathrm{m}}^{5} r α - 288 \\, {\\mathrm{m}}^{6} r λ + 144 \\, {\\mathrm{m}}^{5} r^{2} λ - 288 \\, {\\mathrm{m}}^{7} + 144 \\, {\\mathrm{m}}^{6} r\\right)} \\hat{K}\\left({r_\\star}\\right)}{{\\left({\\mathrm{l}} r α λ + 3 \\, r^{2} α e^{\\left(\\frac{2 \\, r}{{\\mathrm{l}} α - 2 \\, {\\mathrm{m}}}\\right)} + 3 \\, {\\mathrm{l}} {\\mathrm{m}} α - 2 \\, {\\mathrm{m}} r λ - 6 \\, {\\mathrm{m}}^{2}\\right)}^{2} {\\left({\\mathrm{l}} α - 2 \\, {\\mathrm{m}}\\right)} r^{4}} + \\frac{\\partial^{2}}{(\\partial {r_\\star})^{2}}\\hat{K}\\left({r_\\star}\\right) = 0$"
      ],
      "text/plain": [
       "(lc^3*r^6*α^3*λ^2*ω^2 + 6*lc^2*r^7*α^3*λ*ω^2*e^(2*r/(lc*α - 2*mc)) + 6*lc^3*mc*r^5*α^3*λ*ω^2 - 6*lc^2*mc*r^6*α^2*λ^2*ω^2 - 2*lc^3*r^4*α^5*λ^2*e^(4*r/(lc*α - 2*mc)) + 9*lc*r^8*α^3*ω^2*e^(4*r/(lc*α - 2*mc)) - 2*lc^3*r^4*α^4*λ^3*e^(2*r/(lc*α - 2*mc)) + 18*lc^2*mc*r^6*α^3*ω^2*e^(2*r/(lc*α - 2*mc)) - 24*lc*mc*r^7*α^2*λ*ω^2*e^(2*r/(lc*α - 2*mc)) + 9*lc^3*mc^2*r^4*α^3*ω^2 - 36*lc^2*mc^2*r^5*α^2*λ*ω^2 + 12*lc*mc^2*r^6*α*λ^2*ω^2 - 12*lc^2*r^5*α^5*λ*e^(6*r/(lc*α - 2*mc)) + 12*lc^2*mc*r^4*α^4*λ^2*e^(4*r/(lc*α - 2*mc)) - 12*lc^2*r^5*α^4*λ^2*e^(4*r/(lc*α - 2*mc)) - 18*mc*r^8*α^2*ω^2*e^(4*r/(lc*α - 2*mc)) - 2*lc^3*mc*r^3*α^4*λ^2*e^(2*r/(lc*α - 2*mc)) - 4*lc^3*r^4*α^4*λ^2*e^(2*r/(lc*α - 2*mc)) + 12*lc^2*mc*r^4*α^3*λ^3*e^(2*r/(lc*α - 2*mc)) - 72*lc*mc^2*r^6*α^2*ω^2*e^(2*r/(lc*α - 2*mc)) + 24*mc^2*r^7*α*λ*ω^2*e^(2*r/(lc*α - 2*mc)) + 4*lc^3*mc*r^3*α^3*λ^3 - 2*lc^3*r^4*α^3*λ^3 - 54*lc^2*mc^3*r^4*α^2*ω^2 + 72*lc*mc^3*r^5*α*λ*ω^2 - 8*mc^3*r^6*λ^2*ω^2 + 48*lc*mc*r^5*α^4*λ*e^(6*r/(lc*α - 2*mc)) - 36*lc*r^6*α^4*λ*e^(6*r/(lc*α - 2*mc)) + 6*lc^2*mc*r^4*α^4*λ*e^(4*r/(lc*α - 2*mc)) - 24*lc^2*r^5*α^4*λ*e^(4*r/(lc*α - 2*mc)) - 24*lc*mc^2*r^4*α^3*λ^2*e^(4*r/(lc*α - 2*mc)) + 48*lc*mc*r^5*α^3*λ^2*e^(4*r/(lc*α - 2*mc)) - 2*lc*r^6*α^3*λ^2*e^(4*r/(lc*α - 2*mc)) - 18*lc^3*mc^2*r^2*α^4*λ*e^(2*r/(lc*α - 2*mc)) + 12*lc^2*mc^2*r^3*α^3*λ^2*e^(2*r/(lc*α - 2*mc)) + 48*lc^2*mc*r^4*α^3*λ^2*e^(2*r/(lc*α - 2*mc)) - 12*lc^2*r^5*α^3*λ^2*e^(2*r/(lc*α - 2*mc)) - 24*lc*mc^2*r^4*α^2*λ^3*e^(2*r/(lc*α - 2*mc)) + 72*mc^3*r^6*α*ω^2*e^(2*r/(lc*α - 2*mc)) + 12*lc^3*mc^2*r^2*α^3*λ^2 - 2*lc^3*mc*r^3*α^3*λ^2 - 2*lc^3*r^4*α^3*λ^2 - 24*lc^2*mc^2*r^3*α^2*λ^3 + 12*lc^2*mc*r^4*α^2*λ^3 + 108*lc*mc^4*r^4*α*ω^2 - 48*mc^4*r^5*λ*ω^2 - 18*r^7*α^4*e^(8*r/(lc*α - 2*mc)) - 54*lc*mc*r^5*α^4*e^(6*r/(lc*α - 2*mc)) - 48*mc^2*r^5*α^3*λ*e^(6*r/(lc*α - 2*mc)) + 72*mc*r^6*α^3*λ*e^(6*r/(lc*α - 2*mc)) - 6*r^7*α^3*λ*e^(6*r/(lc*α - 2*mc)) - 54*lc^2*mc^2*r^3*α^4*e^(4*r/(lc*α - 2*mc)) - 24*lc*mc^2*r^4*α^3*λ*e^(4*r/(lc*α - 2*mc)) + 186*lc*mc*r^5*α^3*λ*e^(4*r/(lc*α - 2*mc)) - 48*lc*r^6*α^3*λ*e^(4*r/(lc*α - 2*mc)) + 16*mc^3*r^4*α^2*λ^2*e^(4*r/(lc*α - 2*mc)) - 48*mc^2*r^5*α^2*λ^2*e^(4*r/(lc*α - 2*mc)) + 4*mc*r^6*α^2*λ^2*e^(4*r/(lc*α - 2*mc)) - 18*lc^3*mc^3*r*α^4*e^(2*r/(lc*α - 2*mc)) + 108*lc^2*mc^3*r^2*α^3*λ*e^(2*r/(lc*α - 2*mc)) + 36*lc^2*mc^2*r^3*α^3*λ*e^(2*r/(lc*α - 2*mc)) + 6*lc^2*mc*r^4*α^3*λ*e^(2*r/(lc*α - 2*mc)) - 12*lc^2*r^5*α^3*λ*e^(2*r/(lc*α - 2*mc)) - 24*lc*mc^3*r^3*α^2*λ^2*e^(2*r/(lc*α - 2*mc)) - 144*lc*mc^2*r^4*α^2*λ^2*e^(2*r/(lc*α - 2*mc)) + 52*lc*mc*r^5*α^2*λ^2*e^(2*r/(lc*α - 2*mc)) - 2*lc*r^6*α^2*λ^2*e^(2*r/(lc*α - 2*mc)) + 16*mc^3*r^4*α*λ^3*e^(2*r/(lc*α - 2*mc)) + 36*lc^3*mc^3*r*α^3*λ - 18*lc^3*mc^2*r^2*α^3*λ - 72*lc^2*mc^3*r^2*α^2*λ^2 + 12*lc^2*mc^2*r^3*α^2*λ^2 + 12*lc^2*mc*r^4*α^2*λ^2 + 48*lc*mc^3*r^3*α*λ^3 - 24*lc*mc^2*r^4*α*λ^3 - 72*mc^5*r^4*ω^2 + 108*mc^2*r^5*α^3*e^(6*r/(lc*α - 2*mc)) + 36*mc*r^6*α^3*e^(6*r/(lc*α - 2*mc)) - 18*r^7*α^3*e^(6*r/(lc*α - 2*mc)) + 216*lc*mc^3*r^3*α^3*e^(4*r/(lc*α - 2*mc)) + 108*lc*mc^2*r^4*α^3*e^(4*r/(lc*α - 2*mc)) - 54*lc*mc*r^5*α^3*e^(4*r/(lc*α - 2*mc)) + 24*mc^3*r^4*α^2*λ*e^(4*r/(lc*α - 2*mc)) - 276*mc^2*r^5*α^2*λ*e^(4*r/(lc*α - 2*mc)) + 108*mc*r^6*α^2*λ*e^(4*r/(lc*α - 2*mc)) - 6*r^7*α^2*λ*e^(4*r/(lc*α - 2*mc)) + 108*lc^2*mc^4*r*α^3*e^(2*r/(lc*α - 2*mc)) + 108*lc^2*mc^3*r^2*α^3*e^(2*r/(lc*α - 2*mc)) - 54*lc^2*mc^2*r^3*α^3*e^(2*r/(lc*α - 2*mc)) - 216*lc*mc^4*r^2*α^2*λ*e^(2*r/(lc*α - 2*mc)) - 144*lc*mc^3*r^3*α^2*λ*e^(2*r/(lc*α - 2*mc)) - 60*lc*mc^2*r^4*α^2*λ*e^(2*r/(lc*α - 2*mc)) + 90*lc*mc*r^5*α^2*λ*e^(2*r/(lc*α - 2*mc)) - 12*lc*r^6*α^2*λ*e^(2*r/(lc*α - 2*mc)) + 16*mc^4*r^3*α*λ^2*e^(2*r/(lc*α - 2*mc)) + 128*mc^3*r^4*α*λ^2*e^(2*r/(lc*α - 2*mc)) - 56*mc^2*r^5*α*λ^2*e^(2*r/(lc*α - 2*mc)) + 4*mc*r^6*α*λ^2*e^(2*r/(lc*α - 2*mc)) + 36*lc^3*mc^4*α^3 - 18*lc^3*mc^3*r*α^3 - 216*lc^2*mc^4*r*α^2*λ + 108*lc^2*mc^3*r^2*α^2*λ + 144*lc*mc^4*r^2*α*λ^2 - 24*lc*mc^3*r^3*α*λ^2 - 24*lc*mc^2*r^4*α*λ^2 - 32*mc^4*r^3*λ^3 + 16*mc^3*r^4*λ^3 - 216*mc^4*r^3*α^2*e^(4*r/(lc*α - 2*mc)) - 216*mc^3*r^4*α^2*e^(4*r/(lc*α - 2*mc)) + 108*mc^2*r^5*α^2*e^(4*r/(lc*α - 2*mc)) - 216*lc*mc^5*r*α^2*e^(2*r/(lc*α - 2*mc)) - 432*lc*mc^4*r^2*α^2*e^(2*r/(lc*α - 2*mc)) + 216*lc*mc^3*r^3*α^2*e^(2*r/(lc*α - 2*mc)) + 144*mc^5*r^2*α*λ*e^(2*r/(lc*α - 2*mc)) + 144*mc^4*r^3*α*λ*e^(2*r/(lc*α - 2*mc)) + 96*mc^3*r^4*α*λ*e^(2*r/(lc*α - 2*mc)) - 132*mc^2*r^5*α*λ*e^(2*r/(lc*α - 2*mc)) + 24*mc*r^6*α*λ*e^(2*r/(lc*α - 2*mc)) - 216*lc^2*mc^5*α^2 + 108*lc^2*mc^4*r*α^2 + 432*lc*mc^5*r*α*λ - 216*lc*mc^4*r^2*α*λ - 96*mc^5*r^2*λ^2 + 16*mc^4*r^3*λ^2 + 16*mc^3*r^4*λ^2 + 144*mc^6*r*α*e^(2*r/(lc*α - 2*mc)) + 432*mc^5*r^2*α*e^(2*r/(lc*α - 2*mc)) - 216*mc^4*r^3*α*e^(2*r/(lc*α - 2*mc)) + 432*lc*mc^6*α - 216*lc*mc^5*r*α - 288*mc^6*r*λ + 144*mc^5*r^2*λ - 288*mc^7 + 144*mc^6*r)*KhT(rT)/((lc*r*α*λ + 3*r^2*α*e^(2*r/(lc*α - 2*mc)) + 3*lc*mc*α - 2*mc*r*λ - 6*mc^2)^2*(lc*α - 2*mc)*r^4) + diff(KhT(rT), rT, rT) == 0"
      ]
     },
     "execution_count": 234,
     "metadata": {},
     "output_type": "execute_result"
    }
   ],
   "source": [
    "ZE"
   ]
  },
  {
   "cell_type": "markdown",
   "metadata": {},
   "source": [
    "Comparando a expressão acima com \n",
    "\n",
    "$$\\left(\\omega^2 - V\\right)\\hat{K} + \\hat{K}''=0$$ \n",
    "\n",
    "temos para a expressão do potencial"
   ]
  },
  {
   "cell_type": "code",
   "execution_count": 235,
   "metadata": {},
   "outputs": [
    {
     "data": {
      "text/html": [
       "<html>\\(\\displaystyle V^{ZE}_\\ell(r) =  \\frac{2 \\, {\\left({\\mathrm{l}}^{3} r^{3} α^{4} λ^{2} e^{\\left(\\frac{2 \\, r}{{\\mathrm{l}} α - 2 \\, {\\mathrm{m}}}\\right)} + {\\mathrm{l}}^{3} r^{3} α^{3} λ^{3} + 6 \\, {\\mathrm{l}}^{2} r^{4} α^{4} λ e^{\\left(\\frac{4 \\, r}{{\\mathrm{l}} α - 2 \\, {\\mathrm{m}}}\\right)} - 6 \\, {\\mathrm{l}}^{2} {\\mathrm{m}} r^{3} α^{3} λ^{2} e^{\\left(\\frac{2 \\, r}{{\\mathrm{l}} α - 2 \\, {\\mathrm{m}}}\\right)} + 6 \\, {\\mathrm{l}}^{2} r^{4} α^{3} λ^{2} e^{\\left(\\frac{2 \\, r}{{\\mathrm{l}} α - 2 \\, {\\mathrm{m}}}\\right)} + 3 \\, {\\mathrm{l}}^{3} {\\mathrm{m}} r^{2} α^{3} λ^{2} + {\\mathrm{l}}^{3} r^{3} α^{3} λ^{2} - 6 \\, {\\mathrm{l}}^{2} {\\mathrm{m}} r^{3} α^{2} λ^{3} - 24 \\, {\\mathrm{l}} {\\mathrm{m}} r^{4} α^{3} λ e^{\\left(\\frac{4 \\, r}{{\\mathrm{l}} α - 2 \\, {\\mathrm{m}}}\\right)} + 18 \\, {\\mathrm{l}} r^{5} α^{3} λ e^{\\left(\\frac{4 \\, r}{{\\mathrm{l}} α - 2 \\, {\\mathrm{m}}}\\right)} + 9 \\, {\\mathrm{l}}^{2} {\\mathrm{m}} r^{3} α^{3} λ e^{\\left(\\frac{2 \\, r}{{\\mathrm{l}} α - 2 \\, {\\mathrm{m}}}\\right)} + 6 \\, {\\mathrm{l}}^{2} r^{4} α^{3} λ e^{\\left(\\frac{2 \\, r}{{\\mathrm{l}} α - 2 \\, {\\mathrm{m}}}\\right)} + 12 \\, {\\mathrm{l}} {\\mathrm{m}}^{2} r^{3} α^{2} λ^{2} e^{\\left(\\frac{2 \\, r}{{\\mathrm{l}} α - 2 \\, {\\mathrm{m}}}\\right)} - 24 \\, {\\mathrm{l}} {\\mathrm{m}} r^{4} α^{2} λ^{2} e^{\\left(\\frac{2 \\, r}{{\\mathrm{l}} α - 2 \\, {\\mathrm{m}}}\\right)} + {\\mathrm{l}} r^{5} α^{2} λ^{2} e^{\\left(\\frac{2 \\, r}{{\\mathrm{l}} α - 2 \\, {\\mathrm{m}}}\\right)} + 9 \\, {\\mathrm{l}}^{3} {\\mathrm{m}}^{2} r α^{3} λ - 18 \\, {\\mathrm{l}}^{2} {\\mathrm{m}}^{2} r^{2} α^{2} λ^{2} - 6 \\, {\\mathrm{l}}^{2} {\\mathrm{m}} r^{3} α^{2} λ^{2} + 12 \\, {\\mathrm{l}} {\\mathrm{m}}^{2} r^{3} α λ^{3} + 9 \\, r^{6} α^{3} e^{\\left(\\frac{6 \\, r}{{\\mathrm{l}} α - 2 \\, {\\mathrm{m}}}\\right)} + 27 \\, {\\mathrm{l}} {\\mathrm{m}} r^{4} α^{3} e^{\\left(\\frac{4 \\, r}{{\\mathrm{l}} α - 2 \\, {\\mathrm{m}}}\\right)} + 24 \\, {\\mathrm{m}}^{2} r^{4} α^{2} λ e^{\\left(\\frac{4 \\, r}{{\\mathrm{l}} α - 2 \\, {\\mathrm{m}}}\\right)} - 36 \\, {\\mathrm{m}} r^{5} α^{2} λ e^{\\left(\\frac{4 \\, r}{{\\mathrm{l}} α - 2 \\, {\\mathrm{m}}}\\right)} + 3 \\, r^{6} α^{2} λ e^{\\left(\\frac{4 \\, r}{{\\mathrm{l}} α - 2 \\, {\\mathrm{m}}}\\right)} + 27 \\, {\\mathrm{l}}^{2} {\\mathrm{m}}^{2} r^{2} α^{3} e^{\\left(\\frac{2 \\, r}{{\\mathrm{l}} α - 2 \\, {\\mathrm{m}}}\\right)} - 36 \\, {\\mathrm{l}} {\\mathrm{m}}^{2} r^{3} α^{2} λ e^{\\left(\\frac{2 \\, r}{{\\mathrm{l}} α - 2 \\, {\\mathrm{m}}}\\right)} - 33 \\, {\\mathrm{l}} {\\mathrm{m}} r^{4} α^{2} λ e^{\\left(\\frac{2 \\, r}{{\\mathrm{l}} α - 2 \\, {\\mathrm{m}}}\\right)} + 6 \\, {\\mathrm{l}} r^{5} α^{2} λ e^{\\left(\\frac{2 \\, r}{{\\mathrm{l}} α - 2 \\, {\\mathrm{m}}}\\right)} - 8 \\, {\\mathrm{m}}^{3} r^{3} α λ^{2} e^{\\left(\\frac{2 \\, r}{{\\mathrm{l}} α - 2 \\, {\\mathrm{m}}}\\right)} + 24 \\, {\\mathrm{m}}^{2} r^{4} α λ^{2} e^{\\left(\\frac{2 \\, r}{{\\mathrm{l}} α - 2 \\, {\\mathrm{m}}}\\right)} - 2 \\, {\\mathrm{m}} r^{5} α λ^{2} e^{\\left(\\frac{2 \\, r}{{\\mathrm{l}} α - 2 \\, {\\mathrm{m}}}\\right)} + 9 \\, {\\mathrm{l}}^{3} {\\mathrm{m}}^{3} α^{3} - 54 \\, {\\mathrm{l}}^{2} {\\mathrm{m}}^{3} r α^{2} λ + 36 \\, {\\mathrm{l}} {\\mathrm{m}}^{3} r^{2} α λ^{2} + 12 \\, {\\mathrm{l}} {\\mathrm{m}}^{2} r^{3} α λ^{2} - 8 \\, {\\mathrm{m}}^{3} r^{3} λ^{3} - 54 \\, {\\mathrm{m}}^{2} r^{4} α^{2} e^{\\left(\\frac{4 \\, r}{{\\mathrm{l}} α - 2 \\, {\\mathrm{m}}}\\right)} - 108 \\, {\\mathrm{l}} {\\mathrm{m}}^{3} r^{2} α^{2} e^{\\left(\\frac{2 \\, r}{{\\mathrm{l}} α - 2 \\, {\\mathrm{m}}}\\right)} + 36 \\, {\\mathrm{m}}^{3} r^{3} α λ e^{\\left(\\frac{2 \\, r}{{\\mathrm{l}} α - 2 \\, {\\mathrm{m}}}\\right)} + 42 \\, {\\mathrm{m}}^{2} r^{4} α λ e^{\\left(\\frac{2 \\, r}{{\\mathrm{l}} α - 2 \\, {\\mathrm{m}}}\\right)} - 12 \\, {\\mathrm{m}} r^{5} α λ e^{\\left(\\frac{2 \\, r}{{\\mathrm{l}} α - 2 \\, {\\mathrm{m}}}\\right)} - 54 \\, {\\mathrm{l}}^{2} {\\mathrm{m}}^{4} α^{2} + 108 \\, {\\mathrm{l}} {\\mathrm{m}}^{4} r α λ - 24 \\, {\\mathrm{m}}^{4} r^{2} λ^{2} - 8 \\, {\\mathrm{m}}^{3} r^{3} λ^{2} + 108 \\, {\\mathrm{m}}^{4} r^{2} α e^{\\left(\\frac{2 \\, r}{{\\mathrm{l}} α - 2 \\, {\\mathrm{m}}}\\right)} + 108 \\, {\\mathrm{l}} {\\mathrm{m}}^{5} α - 72 \\, {\\mathrm{m}}^{5} r λ - 72 \\, {\\mathrm{m}}^{6}\\right)} {\\left(r α e^{\\left(\\frac{2 \\, r}{{\\mathrm{l}} α - 2 \\, {\\mathrm{m}}}\\right)} - 2 \\, {\\mathrm{m}} + r\\right)}}{{\\left({\\mathrm{l}} r α λ + 3 \\, r^{2} α e^{\\left(\\frac{2 \\, r}{{\\mathrm{l}} α - 2 \\, {\\mathrm{m}}}\\right)} + 3 \\, {\\mathrm{l}} {\\mathrm{m}} α - 2 \\, {\\mathrm{m}} r λ - 6 \\, {\\mathrm{m}}^{2}\\right)}^{2} {\\left({\\mathrm{l}} α - 2 \\, {\\mathrm{m}}\\right)} r^{4}}\\)</html>"
      ],
      "text/latex": [
       "$\\displaystyle V^{ZE}_\\ell(r) =  \\frac{2 \\, {\\left({\\mathrm{l}}^{3} r^{3} α^{4} λ^{2} e^{\\left(\\frac{2 \\, r}{{\\mathrm{l}} α - 2 \\, {\\mathrm{m}}}\\right)} + {\\mathrm{l}}^{3} r^{3} α^{3} λ^{3} + 6 \\, {\\mathrm{l}}^{2} r^{4} α^{4} λ e^{\\left(\\frac{4 \\, r}{{\\mathrm{l}} α - 2 \\, {\\mathrm{m}}}\\right)} - 6 \\, {\\mathrm{l}}^{2} {\\mathrm{m}} r^{3} α^{3} λ^{2} e^{\\left(\\frac{2 \\, r}{{\\mathrm{l}} α - 2 \\, {\\mathrm{m}}}\\right)} + 6 \\, {\\mathrm{l}}^{2} r^{4} α^{3} λ^{2} e^{\\left(\\frac{2 \\, r}{{\\mathrm{l}} α - 2 \\, {\\mathrm{m}}}\\right)} + 3 \\, {\\mathrm{l}}^{3} {\\mathrm{m}} r^{2} α^{3} λ^{2} + {\\mathrm{l}}^{3} r^{3} α^{3} λ^{2} - 6 \\, {\\mathrm{l}}^{2} {\\mathrm{m}} r^{3} α^{2} λ^{3} - 24 \\, {\\mathrm{l}} {\\mathrm{m}} r^{4} α^{3} λ e^{\\left(\\frac{4 \\, r}{{\\mathrm{l}} α - 2 \\, {\\mathrm{m}}}\\right)} + 18 \\, {\\mathrm{l}} r^{5} α^{3} λ e^{\\left(\\frac{4 \\, r}{{\\mathrm{l}} α - 2 \\, {\\mathrm{m}}}\\right)} + 9 \\, {\\mathrm{l}}^{2} {\\mathrm{m}} r^{3} α^{3} λ e^{\\left(\\frac{2 \\, r}{{\\mathrm{l}} α - 2 \\, {\\mathrm{m}}}\\right)} + 6 \\, {\\mathrm{l}}^{2} r^{4} α^{3} λ e^{\\left(\\frac{2 \\, r}{{\\mathrm{l}} α - 2 \\, {\\mathrm{m}}}\\right)} + 12 \\, {\\mathrm{l}} {\\mathrm{m}}^{2} r^{3} α^{2} λ^{2} e^{\\left(\\frac{2 \\, r}{{\\mathrm{l}} α - 2 \\, {\\mathrm{m}}}\\right)} - 24 \\, {\\mathrm{l}} {\\mathrm{m}} r^{4} α^{2} λ^{2} e^{\\left(\\frac{2 \\, r}{{\\mathrm{l}} α - 2 \\, {\\mathrm{m}}}\\right)} + {\\mathrm{l}} r^{5} α^{2} λ^{2} e^{\\left(\\frac{2 \\, r}{{\\mathrm{l}} α - 2 \\, {\\mathrm{m}}}\\right)} + 9 \\, {\\mathrm{l}}^{3} {\\mathrm{m}}^{2} r α^{3} λ - 18 \\, {\\mathrm{l}}^{2} {\\mathrm{m}}^{2} r^{2} α^{2} λ^{2} - 6 \\, {\\mathrm{l}}^{2} {\\mathrm{m}} r^{3} α^{2} λ^{2} + 12 \\, {\\mathrm{l}} {\\mathrm{m}}^{2} r^{3} α λ^{3} + 9 \\, r^{6} α^{3} e^{\\left(\\frac{6 \\, r}{{\\mathrm{l}} α - 2 \\, {\\mathrm{m}}}\\right)} + 27 \\, {\\mathrm{l}} {\\mathrm{m}} r^{4} α^{3} e^{\\left(\\frac{4 \\, r}{{\\mathrm{l}} α - 2 \\, {\\mathrm{m}}}\\right)} + 24 \\, {\\mathrm{m}}^{2} r^{4} α^{2} λ e^{\\left(\\frac{4 \\, r}{{\\mathrm{l}} α - 2 \\, {\\mathrm{m}}}\\right)} - 36 \\, {\\mathrm{m}} r^{5} α^{2} λ e^{\\left(\\frac{4 \\, r}{{\\mathrm{l}} α - 2 \\, {\\mathrm{m}}}\\right)} + 3 \\, r^{6} α^{2} λ e^{\\left(\\frac{4 \\, r}{{\\mathrm{l}} α - 2 \\, {\\mathrm{m}}}\\right)} + 27 \\, {\\mathrm{l}}^{2} {\\mathrm{m}}^{2} r^{2} α^{3} e^{\\left(\\frac{2 \\, r}{{\\mathrm{l}} α - 2 \\, {\\mathrm{m}}}\\right)} - 36 \\, {\\mathrm{l}} {\\mathrm{m}}^{2} r^{3} α^{2} λ e^{\\left(\\frac{2 \\, r}{{\\mathrm{l}} α - 2 \\, {\\mathrm{m}}}\\right)} - 33 \\, {\\mathrm{l}} {\\mathrm{m}} r^{4} α^{2} λ e^{\\left(\\frac{2 \\, r}{{\\mathrm{l}} α - 2 \\, {\\mathrm{m}}}\\right)} + 6 \\, {\\mathrm{l}} r^{5} α^{2} λ e^{\\left(\\frac{2 \\, r}{{\\mathrm{l}} α - 2 \\, {\\mathrm{m}}}\\right)} - 8 \\, {\\mathrm{m}}^{3} r^{3} α λ^{2} e^{\\left(\\frac{2 \\, r}{{\\mathrm{l}} α - 2 \\, {\\mathrm{m}}}\\right)} + 24 \\, {\\mathrm{m}}^{2} r^{4} α λ^{2} e^{\\left(\\frac{2 \\, r}{{\\mathrm{l}} α - 2 \\, {\\mathrm{m}}}\\right)} - 2 \\, {\\mathrm{m}} r^{5} α λ^{2} e^{\\left(\\frac{2 \\, r}{{\\mathrm{l}} α - 2 \\, {\\mathrm{m}}}\\right)} + 9 \\, {\\mathrm{l}}^{3} {\\mathrm{m}}^{3} α^{3} - 54 \\, {\\mathrm{l}}^{2} {\\mathrm{m}}^{3} r α^{2} λ + 36 \\, {\\mathrm{l}} {\\mathrm{m}}^{3} r^{2} α λ^{2} + 12 \\, {\\mathrm{l}} {\\mathrm{m}}^{2} r^{3} α λ^{2} - 8 \\, {\\mathrm{m}}^{3} r^{3} λ^{3} - 54 \\, {\\mathrm{m}}^{2} r^{4} α^{2} e^{\\left(\\frac{4 \\, r}{{\\mathrm{l}} α - 2 \\, {\\mathrm{m}}}\\right)} - 108 \\, {\\mathrm{l}} {\\mathrm{m}}^{3} r^{2} α^{2} e^{\\left(\\frac{2 \\, r}{{\\mathrm{l}} α - 2 \\, {\\mathrm{m}}}\\right)} + 36 \\, {\\mathrm{m}}^{3} r^{3} α λ e^{\\left(\\frac{2 \\, r}{{\\mathrm{l}} α - 2 \\, {\\mathrm{m}}}\\right)} + 42 \\, {\\mathrm{m}}^{2} r^{4} α λ e^{\\left(\\frac{2 \\, r}{{\\mathrm{l}} α - 2 \\, {\\mathrm{m}}}\\right)} - 12 \\, {\\mathrm{m}} r^{5} α λ e^{\\left(\\frac{2 \\, r}{{\\mathrm{l}} α - 2 \\, {\\mathrm{m}}}\\right)} - 54 \\, {\\mathrm{l}}^{2} {\\mathrm{m}}^{4} α^{2} + 108 \\, {\\mathrm{l}} {\\mathrm{m}}^{4} r α λ - 24 \\, {\\mathrm{m}}^{4} r^{2} λ^{2} - 8 \\, {\\mathrm{m}}^{3} r^{3} λ^{2} + 108 \\, {\\mathrm{m}}^{4} r^{2} α e^{\\left(\\frac{2 \\, r}{{\\mathrm{l}} α - 2 \\, {\\mathrm{m}}}\\right)} + 108 \\, {\\mathrm{l}} {\\mathrm{m}}^{5} α - 72 \\, {\\mathrm{m}}^{5} r λ - 72 \\, {\\mathrm{m}}^{6}\\right)} {\\left(r α e^{\\left(\\frac{2 \\, r}{{\\mathrm{l}} α - 2 \\, {\\mathrm{m}}}\\right)} - 2 \\, {\\mathrm{m}} + r\\right)}}{{\\left({\\mathrm{l}} r α λ + 3 \\, r^{2} α e^{\\left(\\frac{2 \\, r}{{\\mathrm{l}} α - 2 \\, {\\mathrm{m}}}\\right)} + 3 \\, {\\mathrm{l}} {\\mathrm{m}} α - 2 \\, {\\mathrm{m}} r λ - 6 \\, {\\mathrm{m}}^{2}\\right)}^{2} {\\left({\\mathrm{l}} α - 2 \\, {\\mathrm{m}}\\right)} r^{4}}$"
      ],
      "text/plain": [
       "V^{ZE}_\\ell(r) =  2*(lc^3*r^3*α^4*λ^2*e^(2*r/(lc*α - 2*mc)) + lc^3*r^3*α^3*λ^3 + 6*lc^2*r^4*α^4*λ*e^(4*r/(lc*α - 2*mc)) - 6*lc^2*mc*r^3*α^3*λ^2*e^(2*r/(lc*α - 2*mc)) + 6*lc^2*r^4*α^3*λ^2*e^(2*r/(lc*α - 2*mc)) + 3*lc^3*mc*r^2*α^3*λ^2 + lc^3*r^3*α^3*λ^2 - 6*lc^2*mc*r^3*α^2*λ^3 - 24*lc*mc*r^4*α^3*λ*e^(4*r/(lc*α - 2*mc)) + 18*lc*r^5*α^3*λ*e^(4*r/(lc*α - 2*mc)) + 9*lc^2*mc*r^3*α^3*λ*e^(2*r/(lc*α - 2*mc)) + 6*lc^2*r^4*α^3*λ*e^(2*r/(lc*α - 2*mc)) + 12*lc*mc^2*r^3*α^2*λ^2*e^(2*r/(lc*α - 2*mc)) - 24*lc*mc*r^4*α^2*λ^2*e^(2*r/(lc*α - 2*mc)) + lc*r^5*α^2*λ^2*e^(2*r/(lc*α - 2*mc)) + 9*lc^3*mc^2*r*α^3*λ - 18*lc^2*mc^2*r^2*α^2*λ^2 - 6*lc^2*mc*r^3*α^2*λ^2 + 12*lc*mc^2*r^3*α*λ^3 + 9*r^6*α^3*e^(6*r/(lc*α - 2*mc)) + 27*lc*mc*r^4*α^3*e^(4*r/(lc*α - 2*mc)) + 24*mc^2*r^4*α^2*λ*e^(4*r/(lc*α - 2*mc)) - 36*mc*r^5*α^2*λ*e^(4*r/(lc*α - 2*mc)) + 3*r^6*α^2*λ*e^(4*r/(lc*α - 2*mc)) + 27*lc^2*mc^2*r^2*α^3*e^(2*r/(lc*α - 2*mc)) - 36*lc*mc^2*r^3*α^2*λ*e^(2*r/(lc*α - 2*mc)) - 33*lc*mc*r^4*α^2*λ*e^(2*r/(lc*α - 2*mc)) + 6*lc*r^5*α^2*λ*e^(2*r/(lc*α - 2*mc)) - 8*mc^3*r^3*α*λ^2*e^(2*r/(lc*α - 2*mc)) + 24*mc^2*r^4*α*λ^2*e^(2*r/(lc*α - 2*mc)) - 2*mc*r^5*α*λ^2*e^(2*r/(lc*α - 2*mc)) + 9*lc^3*mc^3*α^3 - 54*lc^2*mc^3*r*α^2*λ + 36*lc*mc^3*r^2*α*λ^2 + 12*lc*mc^2*r^3*α*λ^2 - 8*mc^3*r^3*λ^3 - 54*mc^2*r^4*α^2*e^(4*r/(lc*α - 2*mc)) - 108*lc*mc^3*r^2*α^2*e^(2*r/(lc*α - 2*mc)) + 36*mc^3*r^3*α*λ*e^(2*r/(lc*α - 2*mc)) + 42*mc^2*r^4*α*λ*e^(2*r/(lc*α - 2*mc)) - 12*mc*r^5*α*λ*e^(2*r/(lc*α - 2*mc)) - 54*lc^2*mc^4*α^2 + 108*lc*mc^4*r*α*λ - 24*mc^4*r^2*λ^2 - 8*mc^3*r^3*λ^2 + 108*mc^4*r^2*α*e^(2*r/(lc*α - 2*mc)) + 108*lc*mc^5*α - 72*mc^5*r*λ - 72*mc^6)*(r*α*e^(2*r/(lc*α - 2*mc)) - 2*mc + r)/((lc*r*α*λ + 3*r^2*α*e^(2*r/(lc*α - 2*mc)) + 3*lc*mc*α - 2*mc*r*λ - 6*mc^2)^2*(lc*α - 2*mc)*r^4)"
      ]
     },
     "metadata": {},
     "output_type": "display_data"
    }
   ],
   "source": [
    "V_ZE(r) = (ω^2 - get_de_coefficients(ZE, KhT(rT), rT)[0].expand()).factor()\n",
    "show(LatexExpr(r'V^{ZE}_\\ell(r) = '),V_ZE(r))"
   ]
  },
  {
   "cell_type": "code",
   "execution_count": 238,
   "metadata": {},
   "outputs": [
    {
     "data": {
      "text/html": [
       "<html>\\(\\displaystyle -\\frac{2 \\, {\\left(r^{3} λ^{3} + 3 \\, m r^{2} λ^{2} + r^{3} λ^{2} + 9 \\, m^{2} r λ + 9 \\, m^{3}\\right)} {\\left(2 \\, m - r\\right)}}{{\\left(r λ + 3 \\, m\\right)}^{2} r^{4}}\\)</html>"
      ],
      "text/latex": [
       "$\\displaystyle -\\frac{2 \\, {\\left(r^{3} λ^{3} + 3 \\, m r^{2} λ^{2} + r^{3} λ^{2} + 9 \\, m^{2} r λ + 9 \\, m^{3}\\right)} {\\left(2 \\, m - r\\right)}}{{\\left(r λ + 3 \\, m\\right)}^{2} r^{4}}$"
      ],
      "text/plain": [
       "-2*(r^3*λ^3 + 3*m*r^2*λ^2 + r^3*λ^2 + 9*m^2*r*λ + 9*m^3)*(2*m - r)/((r*λ + 3*m)^2*r^4)"
      ]
     },
     "execution_count": 238,
     "metadata": {},
     "output_type": "execute_result"
    }
   ],
   "source": [
    "V_ZE(r).subs({α:0, mc : m}).expand().factor()"
   ]
  },
  {
   "cell_type": "code",
   "execution_count": null,
   "metadata": {},
   "outputs": [],
   "source": []
  }
 ],
 "metadata": {
  "kernelspec": {
   "display_name": "SageMath 9.6",
   "language": "sage",
   "name": "sagemath"
  },
  "language_info": {
   "codemirror_mode": {
    "name": "ipython",
    "version": 3
   },
   "file_extension": ".py",
   "mimetype": "text/x-python",
   "name": "python",
   "nbconvert_exporter": "python",
   "pygments_lexer": "ipython3",
   "version": "3.10.6"
  }
 },
 "nbformat": 4,
 "nbformat_minor": 4
}
